{
  "nbformat": 4,
  "nbformat_minor": 0,
  "metadata": {
    "colab": {
      "private_outputs": true,
      "provenance": [],
      "authorship_tag": "ABX9TyOa+T5gwTJsIpgk9Nb5LJbC",
      "include_colab_link": true
    },
    "kernelspec": {
      "name": "python3",
      "display_name": "Python 3"
    },
    "language_info": {
      "name": "python"
    }
  },
  "cells": [
    {
      "cell_type": "markdown",
      "metadata": {
        "id": "view-in-github",
        "colab_type": "text"
      },
      "source": [
        "<a href=\"https://colab.research.google.com/github/nallagondu/datatrained_inter_public/blob/main/Titanic_Disaster_servived.ipynb\" target=\"_parent\"><img src=\"https://colab.research.google.com/assets/colab-badge.svg\" alt=\"Open In Colab\"/></a>"
      ]
    },
    {
      "cell_type": "code",
      "source": [
        "!pip install -q requests xlrd\n",
        "import pandas as pd\n",
        "import requests\n",
        "import numpy as np\n"
      ],
      "metadata": {
        "id": "seDajCgWrJcf"
      },
      "execution_count": null,
      "outputs": []
    },
    {
      "cell_type": "code",
      "execution_count": null,
      "metadata": {
        "id": "jqujG1bWpo68"
      },
      "outputs": [],
      "source": [
        "# Corrected URL to the CSV file\n",
        "url0 = \"https://raw.githubusercontent.com/nallagondu/datatrained-training-ml-Files/main/Titanic_train.csv\"\n",
        "url1 = \"https://raw.githubusercontent.com/nallagondu/datatrained-training-ml-Files/main/Titanic_test.csv\"\n",
        "\n",
        "# Read the CSV file into a DataFrame train\n",
        "df_train = pd.read_csv(url0, header= 0)\n",
        "# Read the CSV file into a DataFrame test\n",
        "df_test = pd.read_csv(url1)\n",
        "\n",
        "# Display the first few rows of the DataFrame\n",
        "df_train.head()\n",
        "\n"
      ]
    },
    {
      "cell_type": "code",
      "source": [
        "import os\n",
        "print(os.getcwd())\n",
        "os.listdir()\n",
        "df_train"
      ],
      "metadata": {
        "id": "8wZlcowKsahb"
      },
      "execution_count": null,
      "outputs": []
    },
    {
      "cell_type": "markdown",
      "source": [
        "**Prepare dataset**\n",
        "We will apply the following transformations on the dataset.\n",
        "\n",
        "Tokenize the names. For example, \"Braund, Mr. Owen Harris\" will become [\"Braund\", \"Mr.\", \"Owen\", \"Harris\"].\n",
        "Extract any prefix in the ticket. For example ticket \"STON/O2. 3101282\" will become \"STON/O2.\" and 3101282."
      ],
      "metadata": {
        "id": "J3ILOTWsuo2c"
      }
    },
    {
      "cell_type": "code",
      "source": [
        "df_test"
      ],
      "metadata": {
        "id": "dTQDNXML7t5-"
      },
      "execution_count": null,
      "outputs": []
    },
    {
      "cell_type": "code",
      "source": [
        "df_test.index\n"
      ],
      "metadata": {
        "id": "3HRFHpjGurTE"
      },
      "execution_count": null,
      "outputs": []
    },
    {
      "cell_type": "code",
      "source": [
        "df_train = pd.read_csv(url0, header= 0, index_col= 3)\n",
        "df_train"
      ],
      "metadata": {
        "id": "bYPzACUPyD1D"
      },
      "execution_count": null,
      "outputs": []
    },
    {
      "cell_type": "code",
      "source": [
        "df_train = pd.read_csv(url0, header= 0, index_col= 3, usecols= [0,1,2,3,4])\n",
        "df_train"
      ],
      "metadata": {
        "id": "e98v9JPeyjTz"
      },
      "execution_count": null,
      "outputs": []
    },
    {
      "cell_type": "code",
      "source": [
        "df_train = pd.read_csv(url0, header= 0, index_col= 3, usecols= [0,1,2,3,4,5,6,7])\n",
        "df_train"
      ],
      "metadata": {
        "id": "KOKrvGjMy-ur"
      },
      "execution_count": null,
      "outputs": []
    },
    {
      "cell_type": "code",
      "source": [
        "df_train = pd.read_csv(url0, header= 0, dtype = {'Survived' : 'bool'})\n",
        "df_train"
      ],
      "metadata": {
        "id": "qzmhWxb4zlPq"
      },
      "execution_count": null,
      "outputs": []
    },
    {
      "cell_type": "code",
      "source": [
        "df_train.info"
      ],
      "metadata": {
        "id": "j3aIXgdA0RXH"
      },
      "execution_count": null,
      "outputs": []
    },
    {
      "cell_type": "code",
      "source": [
        "# Corrected URL to the CSV file\n",
        "url0 = \"https://raw.githubusercontent.com/nallagondu/datatrained-training-ml-Files/main/Titanic_train.csv\"\n",
        "url1 = \"https://raw.githubusercontent.com/nallagondu/datatrained-training-ml-Files/main/Titanic_test.csv\"\n",
        "\n",
        "# Read the CSV file into a DataFrame train\n",
        "df_train = pd.read_csv(url0, header= 0)\n",
        "# Read the CSV file into a DataFrame test\n",
        "df_test = pd.read_csv(url1)\n",
        "\n",
        "# Display the first few rows of the DataFrame\n",
        "df_train.head()"
      ],
      "metadata": {
        "id": "LOFHbsdQ1LhX"
      },
      "execution_count": null,
      "outputs": []
    },
    {
      "cell_type": "code",
      "source": [
        "df_train"
      ],
      "metadata": {
        "id": "nwlM1LkJ1QJa"
      },
      "execution_count": null,
      "outputs": []
    },
    {
      "cell_type": "code",
      "source": [
        "df_train['Age'].mean()"
      ],
      "metadata": {
        "id": "kxL1DDgx1cJo"
      },
      "execution_count": null,
      "outputs": []
    },
    {
      "cell_type": "code",
      "source": [
        "df_train['Age'].sum()"
      ],
      "metadata": {
        "id": "iqqaeu3i1m87"
      },
      "execution_count": null,
      "outputs": []
    },
    {
      "cell_type": "code",
      "source": [
        "df_train['Survived'].count()"
      ],
      "metadata": {
        "id": "Yp0WXalM1rQp"
      },
      "execution_count": null,
      "outputs": []
    },
    {
      "cell_type": "code",
      "source": [
        "df_train.describe()"
      ],
      "metadata": {
        "id": "h-7yWSKr1y96"
      },
      "execution_count": null,
      "outputs": []
    },
    {
      "cell_type": "code",
      "source": [
        "df_train['Age'].describe()"
      ],
      "metadata": {
        "id": "nHWdXAEH16QG"
      },
      "execution_count": null,
      "outputs": []
    },
    {
      "cell_type": "code",
      "source": [
        "df_train.isnull()"
      ],
      "metadata": {
        "id": "-VYuJ3MK2CUM"
      },
      "execution_count": null,
      "outputs": []
    }
  ]
}