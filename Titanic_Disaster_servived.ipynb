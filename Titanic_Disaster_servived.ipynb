{
  "nbformat": 4,
  "nbformat_minor": 0,
  "metadata": {
    "colab": {
      "private_outputs": true,
      "provenance": [],
      "authorship_tag": "ABX9TyPBgo96pWuQ0hYRrw7Wt47w",
      "include_colab_link": true
    },
    "kernelspec": {
      "name": "python3",
      "display_name": "Python 3"
    },
    "language_info": {
      "name": "python"
    }
  },
  "cells": [
    {
      "cell_type": "markdown",
      "metadata": {
        "id": "view-in-github",
        "colab_type": "text"
      },
      "source": [
        "<a href=\"https://colab.research.google.com/github/nallagondu/datatrained_inter_public/blob/main/Titanic_Disaster_servived.ipynb\" target=\"_parent\"><img src=\"https://colab.research.google.com/assets/colab-badge.svg\" alt=\"Open In Colab\"/></a>"
      ]
    },
    {
      "cell_type": "markdown",
      "source": [
        "**Project Description**\n",
        "The Titanic Problem is based on the sinking of the ‘Unsinkable’ ship Titanic in early 1912. It gives you information about multiple people like their ages, sexes, sibling counts, embarkment points, and whether or not they survived the disaster.\n",
        "Based on these features, you have to predict if an arbitrary passenger on Titanic would survive the sinking or not.\n",
        "\n",
        "##Attribute Information\n",
        "**Passenger id**- Unique Id of the passenger\n",
        "\n",
        "**Pclass**- Passenger Class (1 = 1st; 2 = 2nd; 3 = 3rd)\n",
        "\n",
        "**Survived**- Survived (0 = No; 1 = Yes)\n",
        "\n",
        "**Name**- Name of the passenger\n",
        "\n",
        "**Sex**- Sex of the passenger (Male, Female)\n",
        "\n",
        "**Age-** Age of the passenger\n",
        "\n",
        "**Sibsp-** Number of Siblings/Spouses Aboard\n",
        "\n",
        "**Parch**- Number of Parents/Children Aboard\n",
        "\n",
        "**Ticket**- Ticket Number\n",
        "\n",
        "**Fare**- Passenger Fare (British pound)\n",
        "\n",
        "**Cabin**- Cabin\n",
        "\n",
        "**Embarked**- Port of Embarkation (C = Cherbourg; Q = Queenstown; S = Southampton)\n",
        "\n"
      ],
      "metadata": {
        "id": "C2j2Qdkf8h5b"
      }
    },
    {
      "cell_type": "markdown",
      "source": [
        "Dataset Link-\n",
        "https://github.com/FlipRoboTechnologies/ML-Datasets/blob/main/Titanic/titanic_train.csv\n",
        "\n",
        "\n",
        "\n",
        "https://github.com/nallagondu/ML-Datasets/blob/main/Titanic/titanic_train.csv\n",
        "\n"
      ],
      "metadata": {
        "id": "j1zDxgYn9I_7"
      }
    },
    {
      "cell_type": "code",
      "source": [
        "!pip install -q requests xlrd\n",
        "import pandas as pd\n",
        "import requests\n",
        "import numpy as np\n"
      ],
      "metadata": {
        "id": "seDajCgWrJcf"
      },
      "execution_count": null,
      "outputs": []
    },
    {
      "cell_type": "code",
      "execution_count": null,
      "metadata": {
        "id": "jqujG1bWpo68"
      },
      "outputs": [],
      "source": [
        "# Corrected URL to the CSV file\n",
        "\n",
        "\n",
        "url = \"https://raw.githubusercontent.com/nallagondu/ML-Datasets/main/Titanic/titanic_train.csv\"\n",
        "df = pd.read_csv(url)\n",
        "df\n"
      ]
    },
    {
      "cell_type": "code",
      "source": [
        "df.head(10)"
      ],
      "metadata": {
        "id": "dvOH76OrBKFN"
      },
      "execution_count": null,
      "outputs": []
    },
    {
      "cell_type": "markdown",
      "source": [
        "**Prepare Dataset**"
      ],
      "metadata": {
        "id": "HQFFTIG3qJk8"
      }
    },
    {
      "cell_type": "code",
      "source": [
        "def preprocess(df):\n",
        "  df = df.copy()\n",
        "\n",
        "def norm_name(x):\n",
        "    return \" \".join([v.strip(\",()[].\\\"'\") for v in x.split(\" \")])\n",
        "\n",
        "def ticket_no(x):\n",
        "    return x.split(\" \")[-1]\n",
        "\n",
        "def ticket_item(x):\n",
        "    items = x.split(\" \")\n",
        "    if len(items) == 1:\n",
        "        return \"NONE\"\n",
        "    return \"_\".join(items[0:-1])\n",
        "\n",
        "\n",
        "df['Name'] = df[\"Name\"].apply(norm_name)\n",
        "\n",
        "def preprocess(df):\n",
        "    df['ticket_no'] = df['Ticket'].apply(ticket_no)\n",
        "    df['ticket_item'] = df['Ticket'].apply(ticket_item)\n",
        "    return df\n",
        "\n",
        "preprocesseddata_df = preprocess(df)\n",
        "\n",
        "preprocesseddata_df.head(20)\n",
        "\n"
      ],
      "metadata": {
        "id": "dTQDNXML7t5-"
      },
      "execution_count": null,
      "outputs": []
    },
    {
      "cell_type": "code",
      "source": [
        "preprocesseddata_df.columns\n"
      ],
      "metadata": {
        "id": "3HRFHpjGurTE"
      },
      "execution_count": null,
      "outputs": []
    },
    {
      "cell_type": "code",
      "source": [
        "features_df = list(preprocesseddata_df.columns)"
      ],
      "metadata": {
        "id": "CEfWkHTDva9D"
      },
      "execution_count": null,
      "outputs": []
    },
    {
      "cell_type": "code",
      "source": [
        "preprocesseddata_df = preprocesseddata_df.drop('Ticket', axis=1)\n",
        "#preprocesseddata_df = preprocesseddata_df.drop(\"PassengerId\",axis=1)\n",
        "preprocesseddata_df"
      ],
      "metadata": {
        "id": "pxEguPSYvkGj"
      },
      "execution_count": null,
      "outputs": []
    },
    {
      "cell_type": "code",
      "source": [
        "preprocesseddata_df.isnull().sum()"
      ],
      "metadata": {
        "id": "8tJAzPs_iqZg"
      },
      "execution_count": null,
      "outputs": []
    },
    {
      "cell_type": "code",
      "source": [
        "preprocesseddata_df['Age'].fillna(preprocesseddata_df['Age'].median(), inplace=True)"
      ],
      "metadata": {
        "id": "lwtMu1lfkEJ2"
      },
      "execution_count": null,
      "outputs": []
    },
    {
      "cell_type": "code",
      "source": [
        "preprocesseddata_df['Cabin'].fillna('Unknown', inplace=True)"
      ],
      "metadata": {
        "id": "o3whs4_2lKE7"
      },
      "execution_count": null,
      "outputs": []
    },
    {
      "cell_type": "code",
      "source": [
        "preprocesseddata_df['Embarked'].fillna(preprocesseddata_df['Embarked'].mode()[0], inplace=True)"
      ],
      "metadata": {
        "id": "4aDgKHBNl8S5"
      },
      "execution_count": null,
      "outputs": []
    },
    {
      "cell_type": "code",
      "source": [
        "preprocesseddata_df.isnull().sum()"
      ],
      "metadata": {
        "id": "w8a-OAVdlkpr"
      },
      "execution_count": null,
      "outputs": []
    },
    {
      "cell_type": "code",
      "source": [
        "df = preprocesseddata_df.copy()\n",
        "df"
      ],
      "metadata": {
        "id": "RLEQRlWfmtNy"
      },
      "execution_count": null,
      "outputs": []
    },
    {
      "cell_type": "code",
      "source": [
        "df['Age'].mean()"
      ],
      "metadata": {
        "id": "kxL1DDgx1cJo"
      },
      "execution_count": null,
      "outputs": []
    },
    {
      "cell_type": "code",
      "source": [
        "df['Age'].sum()"
      ],
      "metadata": {
        "id": "iqqaeu3i1m87"
      },
      "execution_count": null,
      "outputs": []
    },
    {
      "cell_type": "code",
      "source": [
        "df['Survived'].count()"
      ],
      "metadata": {
        "id": "Yp0WXalM1rQp"
      },
      "execution_count": null,
      "outputs": []
    },
    {
      "cell_type": "code",
      "source": [
        "#Convert Sex into Numericla vlaues\n",
        "# male  = 1 and female = 0\n",
        "\n",
        "df['Sex'] = df['Sex'].map({'male': 1, 'female': 0 })\n"
      ],
      "metadata": {
        "id": "E84YzWV29gCt"
      },
      "execution_count": null,
      "outputs": []
    },
    {
      "cell_type": "code",
      "source": [
        "df.describe()"
      ],
      "metadata": {
        "id": "h-7yWSKr1y96"
      },
      "execution_count": null,
      "outputs": []
    },
    {
      "cell_type": "code",
      "source": [
        "df['Age'].describe()"
      ],
      "metadata": {
        "id": "nHWdXAEH16QG"
      },
      "execution_count": null,
      "outputs": []
    },
    {
      "cell_type": "code",
      "source": [
        "df.isnull()"
      ],
      "metadata": {
        "id": "-VYuJ3MK2CUM"
      },
      "execution_count": null,
      "outputs": []
    },
    {
      "cell_type": "code",
      "source": [
        "df.dtypes"
      ],
      "metadata": {
        "id": "LUY_z3SSnb80"
      },
      "execution_count": null,
      "outputs": []
    },
    {
      "cell_type": "code",
      "source": [
        "non_numeric = df[~df['ticket_no'].str.isnumeric()]\n",
        "non_numeric"
      ],
      "metadata": {
        "id": "NCSuKvPboWuJ"
      },
      "execution_count": null,
      "outputs": []
    },
    {
      "cell_type": "markdown",
      "source": [],
      "metadata": {
        "id": "-YfGcleFqQZ4"
      }
    },
    {
      "cell_type": "code",
      "source": [
        "df = df[df['ticket_no'].str.isnumeric()]\n",
        "df.head(10)"
      ],
      "metadata": {
        "id": "RS5MX-Jup3ve"
      },
      "execution_count": null,
      "outputs": []
    },
    {
      "cell_type": "markdown",
      "source": [
        "**All non numeric rows values removed  **"
      ],
      "metadata": {
        "id": "sz8wSTczqwst"
      }
    },
    {
      "cell_type": "code",
      "source": [
        "df.dtypes"
      ],
      "metadata": {
        "id": "NhcoMvoDrFKl"
      },
      "execution_count": null,
      "outputs": []
    },
    {
      "cell_type": "code",
      "source": [
        "df['ticket_no'] = df['ticket_no'].astype(int)\n"
      ],
      "metadata": {
        "id": "gtD7NSIL-0Qo"
      },
      "execution_count": null,
      "outputs": []
    },
    {
      "cell_type": "code",
      "source": [
        "df.loc[:, 'ticket_no'] = pd.to_numeric(df['ticket_no'], errors = 'coerce').fillna(0).astype(int)"
      ],
      "metadata": {
        "id": "aYeMKsN2T7Ts"
      },
      "execution_count": null,
      "outputs": []
    },
    {
      "cell_type": "code",
      "source": [
        "df.dtypes"
      ],
      "metadata": {
        "id": "lFIGMItNUrUR"
      },
      "execution_count": null,
      "outputs": []
    },
    {
      "cell_type": "code",
      "source": [
        "df.head()"
      ],
      "metadata": {
        "id": "R_yYLsD8U2dd"
      },
      "execution_count": null,
      "outputs": []
    },
    {
      "cell_type": "code",
      "source": [
        "df.duplicated().any()"
      ],
      "metadata": {
        "id": "9THcH4bAVCMF"
      },
      "execution_count": null,
      "outputs": []
    },
    {
      "cell_type": "code",
      "source": [
        "df.describe()"
      ],
      "metadata": {
        "id": "FppUnFpMVGei"
      },
      "execution_count": null,
      "outputs": []
    },
    {
      "cell_type": "code",
      "source": [
        "import matplotlib.pyplot as plt\n",
        "import seaborn as sns\n",
        "\n",
        "plt.figure(figsize=(14,10))\n",
        "qty = df['Survived'].value_counts()\n",
        "sns.barplot(x=qty.index,y=qty.values,order=qty.index,palette='Dark2')\n",
        "plt.title(\"Feature Distrubutions\",fontsize = 14)\n",
        "for index,value in enumerate(qty.values):\n",
        "  plt.text(index,value, value, fontsize=14)\n",
        "plt.tight_layout()\n",
        "plt.show()"
      ],
      "metadata": {
        "id": "XhWA-B5DVLi5"
      },
      "execution_count": null,
      "outputs": []
    },
    {
      "cell_type": "code",
      "source": [
        "sns.barplot(x=\"Sex\", y=\"Survived\", data= df)\n",
        "df[\"Survived\"][df[\"Sex\"] == 0].value_counts(normalize = True)[1]*100\n",
        "df[\"Survived\"][df[\"Sex\"] == 1].value_counts(normalize = True)[1]*100"
      ],
      "metadata": {
        "id": "gwC7ZM-_wL--"
      },
      "execution_count": null,
      "outputs": []
    },
    {
      "cell_type": "code",
      "source": [
        "sns.barplot(x=\"Sex\", y=\"Age\", data= df)\n",
        "df[\"Survived\"][df[\"Sex\"] == 0].value_counts(normalize = True)[1]*100\n",
        "df[\"Survived\"][df[\"Sex\"] == 1].value_counts(normalize = True)[1]*100"
      ],
      "metadata": {
        "id": "zmd1VBzuyjAD"
      },
      "execution_count": null,
      "outputs": []
    },
    {
      "cell_type": "code",
      "source": [
        "# Pclass based feature\n",
        "sns.barplot(x=\"Pclass\", y=\"Survived\", data= df)\n",
        "df[\"Survived\"][df[\"Pclass\"]].value_counts(normalize = True)[1]*100\n"
      ],
      "metadata": {
        "id": "wWj2A62Eys_M"
      },
      "execution_count": null,
      "outputs": []
    },
    {
      "cell_type": "code",
      "source": [
        "df.head(10)"
      ],
      "metadata": {
        "id": "qaMBP3kbkLTy"
      },
      "execution_count": null,
      "outputs": []
    },
    {
      "cell_type": "code",
      "source": [
        "#SibSp  Feature\n",
        "sns.barplot(x=\"SibSp\", y=\"Survived\", data= df)\n",
        "df[\"Survived\"][df[\"SibSp\"] == 1].value_counts(normalize = True)[1]*100\n",
        "df[\"Survived\"][df[\"SibSp\"] == 2].value_counts(normalize = True)[1]*100\n",
        "df[\"Survived\"][df[\"SibSp\"] == 3].value_counts(normalize = True)[1]*100"
      ],
      "metadata": {
        "id": "viF-4a13kHZ3"
      },
      "execution_count": null,
      "outputs": []
    },
    {
      "cell_type": "markdown",
      "source": [],
      "metadata": {
        "id": "xVLTJQOPlIUH"
      }
    },
    {
      "cell_type": "code",
      "source": [
        "#Parch  Feature\n",
        "sns.barplot(x=\"Parch\", y=\"Survived\", data= df)\n",
        "df[\"Survived\"][df[\"Parch\"] == 1].value_counts(normalize = True)[1]*100\n"
      ],
      "metadata": {
        "id": "7Q732llKksrU"
      },
      "execution_count": null,
      "outputs": []
    },
    {
      "cell_type": "code",
      "source": [
        "df.describe()"
      ],
      "metadata": {
        "id": "RzLqZNotnprC"
      },
      "execution_count": null,
      "outputs": []
    },
    {
      "cell_type": "code",
      "source": [
        "facet_grid = sns.FacetGrid(df, hue = 'Survived', aspect = 4)\n",
        "facet_grid.map(sns.kdeplot,'Age',fill = True)\n",
        "facet_grid.set(xlim=(0,df['Age'].max()))\n",
        "facet_grid.add_legend()\n",
        "plt.show()"
      ],
      "metadata": {
        "id": "-8O7THo0of9c"
      },
      "execution_count": null,
      "outputs": []
    },
    {
      "cell_type": "code",
      "source": [
        "facet_grid = sns.FacetGrid(df, hue = 'Survived', aspect = 4)\n",
        "facet_grid.map(sns.kdeplot,'Age',fill = True)\n",
        "facet_grid.set(xlim=(0,df['Age'].max()))\n",
        "facet_grid.add_legend()\n",
        "plt.xlim(10,70)"
      ],
      "metadata": {
        "id": "uqm2-CC5tDpO"
      },
      "execution_count": null,
      "outputs": []
    },
    {
      "cell_type": "code",
      "source": [
        "facet_grid = sns.FacetGrid(df, hue = 'Survived', aspect = 4)\n",
        "facet_grid.map(sns.kdeplot,'Age',fill = True)\n",
        "facet_grid.set(xlim=(0,df['Age'].max()))\n",
        "facet_grid.add_legend()\n",
        "plt.xlim(5,70)"
      ],
      "metadata": {
        "id": "OgsC-aLstXpo"
      },
      "execution_count": null,
      "outputs": []
    },
    {
      "cell_type": "code",
      "source": [
        "facet_grid = sns.FacetGrid(df, hue = 'Survived', aspect = 4)\n",
        "facet_grid.map(sns.kdeplot,'Age',fill = True)\n",
        "facet_grid.set(xlim=(0,df['Age'].max()))\n",
        "facet_grid.add_legend()\n",
        "plt.xlim(10,50)"
      ],
      "metadata": {
        "id": "8HRbMDU8uFNX"
      },
      "execution_count": null,
      "outputs": []
    },
    {
      "cell_type": "code",
      "source": [
        "df.info()"
      ],
      "metadata": {
        "id": "_nN2RJU8uQe3"
      },
      "execution_count": null,
      "outputs": []
    },
    {
      "cell_type": "code",
      "source": [
        "Women = df.loc[df.Sex == 0]['Survived']\n",
        "womens_Sur_rate = sum(Women)/len(Women)\n",
        "print(\" % of womens who survived :- \",womens_Sur_rate)\n"
      ],
      "metadata": {
        "id": "JNlWurDI0FoT"
      },
      "execution_count": null,
      "outputs": []
    },
    {
      "cell_type": "code",
      "source": [
        "Mens = df.loc[df.Sex == 1]['Survived']\n",
        "Mens_Sur_rate = sum(Mens)/len(Mens)\n",
        "print(\"% of Men Survived :-\",Mens_Sur_rate)"
      ],
      "metadata": {
        "id": "na6EhFMm2g0D"
      },
      "execution_count": null,
      "outputs": []
    },
    {
      "cell_type": "markdown",
      "source": [
        "**% of womens who survived  0.7420382165605095 and % of Men Survived :- 0.18848167539267016**\n",
        "\n"
      ],
      "metadata": {
        "id": "aUeD0sV63dfN"
      }
    },
    {
      "cell_type": "code",
      "source": [],
      "metadata": {
        "id": "Mvz0uS_V3k9o"
      },
      "execution_count": null,
      "outputs": []
    },
    {
      "cell_type": "code",
      "source": [
        "#modeling\n",
        "from sklearn.neighbors import KNeighborsClassifier\n",
        "from sklearn.tree import DecisionTreeClassifier,ExtraTreeClassifier\n",
        "from sklearn.ensemble import RandomForestClassifier,ExtraTreesClassifier\n",
        "from sklearn.naive_bayes import GaussianNB\n",
        "from sklearn.svm import SVC\n",
        "from sklearn.model_selection import train_test_split\n",
        "\n"
      ],
      "metadata": {
        "id": "PnCVxaMOunQ1"
      },
      "execution_count": null,
      "outputs": []
    },
    {
      "cell_type": "code",
      "source": [],
      "metadata": {
        "id": "XHUtqDlH65yW"
      },
      "execution_count": null,
      "outputs": []
    },
    {
      "cell_type": "code",
      "source": [
        "y = df['Survived']\n",
        "features = ['Pclass','Sex', 'SibSp', 'Parch']\n",
        "X = df[features]\n",
        "X_test,X_train,y_test,y_train = train_test_split(X,y, test_size = 0.2,random_state = 43)\n"
      ],
      "metadata": {
        "id": "5uCi33LUzb4P"
      },
      "execution_count": null,
      "outputs": []
    },
    {
      "cell_type": "code",
      "source": [
        "RFC_model = RandomForestClassifier(n_estimators=100,max_depth=5,random_state = 1)\n",
        "RFC_model.fit(X,y)"
      ],
      "metadata": {
        "id": "OyVeSfI85vI5"
      },
      "execution_count": null,
      "outputs": []
    },
    {
      "cell_type": "code",
      "source": [
        "RFC_Pred = RFC_model.predict(X_test)\n",
        "output = pd.DataFrame({'PassengerID': df.loc[X_test.index,'PassengerId'], 'Survived': RFC_Pred})\n",
        "print(output)"
      ],
      "metadata": {
        "id": "ox2d-gmzEAmE"
      },
      "execution_count": null,
      "outputs": []
    }
  ]
}