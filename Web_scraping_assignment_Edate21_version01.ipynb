{
 "cells": [
  {
   "cell_type": "markdown",
   "id": "30cf0050",
   "metadata": {},
   "source": [
    "# 1. Write a python program which searches all the product under a particular product from www.amazon.in. The\n",
    "product to be searched will be taken as input from user. For e.g. If user input is ‘guitar’. Then search for\n",
    "guitars. "
   ]
  },
  {
   "cell_type": "code",
   "execution_count": 1,
   "id": "7e8147b5",
   "metadata": {},
   "outputs": [
    {
     "name": "stdout",
     "output_type": "stream",
     "text": [
      "Defaulting to user installation because normal site-packages is not writeable\n",
      "Requirement already satisfied: html5lib in c:\\users\\nallag\\appdata\\roaming\\python\\python39\\site-packages (1.1)\n",
      "Requirement already satisfied: six>=1.9 in c:\\programdata\\anaconda3\\lib\\site-packages (from html5lib) (1.16.0)\n",
      "Requirement already satisfied: webencodings in c:\\programdata\\anaconda3\\lib\\site-packages (from html5lib) (0.5.1)\n",
      "Defaulting to user installation because normal site-packages is not writeable\n",
      "Requirement already satisfied: selenium in c:\\users\\nallag\\appdata\\roaming\\python\\python39\\site-packages (4.19.0)\n",
      "Requirement already satisfied: urllib3[socks]<3,>=1.26 in c:\\programdata\\anaconda3\\lib\\site-packages (from selenium) (1.26.11)\n",
      "Requirement already satisfied: certifi>=2021.10.8 in c:\\programdata\\anaconda3\\lib\\site-packages (from selenium) (2022.9.14)\n",
      "Requirement already satisfied: typing_extensions>=4.9.0 in c:\\users\\nallag\\appdata\\roaming\\python\\python39\\site-packages (from selenium) (4.10.0)\n",
      "Requirement already satisfied: trio-websocket~=0.9 in c:\\users\\nallag\\appdata\\roaming\\python\\python39\\site-packages (from selenium) (0.11.1)\n",
      "Requirement already satisfied: trio~=0.17 in c:\\users\\nallag\\appdata\\roaming\\python\\python39\\site-packages (from selenium) (0.25.0)\n",
      "Requirement already satisfied: exceptiongroup in c:\\users\\nallag\\appdata\\roaming\\python\\python39\\site-packages (from trio~=0.17->selenium) (1.2.0)\n",
      "Requirement already satisfied: cffi>=1.14 in c:\\programdata\\anaconda3\\lib\\site-packages (from trio~=0.17->selenium) (1.15.1)\n",
      "Requirement already satisfied: attrs>=23.2.0 in c:\\users\\nallag\\appdata\\roaming\\python\\python39\\site-packages (from trio~=0.17->selenium) (23.2.0)\n",
      "Requirement already satisfied: outcome in c:\\users\\nallag\\appdata\\roaming\\python\\python39\\site-packages (from trio~=0.17->selenium) (1.3.0.post0)\n",
      "Requirement already satisfied: idna in c:\\programdata\\anaconda3\\lib\\site-packages (from trio~=0.17->selenium) (3.3)\n",
      "Requirement already satisfied: sortedcontainers in c:\\programdata\\anaconda3\\lib\\site-packages (from trio~=0.17->selenium) (2.4.0)\n",
      "Requirement already satisfied: sniffio>=1.3.0 in c:\\users\\nallag\\appdata\\roaming\\python\\python39\\site-packages (from trio~=0.17->selenium) (1.3.1)\n",
      "Requirement already satisfied: wsproto>=0.14 in c:\\users\\nallag\\appdata\\roaming\\python\\python39\\site-packages (from trio-websocket~=0.9->selenium) (1.2.0)\n",
      "Requirement already satisfied: PySocks!=1.5.7,<2.0,>=1.5.6 in c:\\programdata\\anaconda3\\lib\\site-packages (from urllib3[socks]<3,>=1.26->selenium) (1.7.1)\n",
      "Requirement already satisfied: pycparser in c:\\programdata\\anaconda3\\lib\\site-packages (from cffi>=1.14->trio~=0.17->selenium) (2.21)\n",
      "Requirement already satisfied: h11<1,>=0.9.0 in c:\\users\\nallag\\appdata\\roaming\\python\\python39\\site-packages (from wsproto>=0.14->trio-websocket~=0.9->selenium) (0.14.0)\n"
     ]
    },
    {
     "name": "stderr",
     "output_type": "stream",
     "text": [
      "'apt-get' is not recognized as an internal or external command,\n",
      "operable program or batch file.\n",
      "'apt' is not recognized as an internal or external command,\n",
      "operable program or batch file.\n"
     ]
    },
    {
     "name": "stdout",
     "output_type": "stream",
     "text": [
      "Ping request could not find host google.com. Please check the name and try again.\n"
     ]
    }
   ],
   "source": [
    "!pip install html5lib\n",
    "!pip install selenium\n",
    "!apt-get update\n",
    "!apt install chromium-chromedriver\n",
    "!ping google.com"
   ]
  },
  {
   "cell_type": "markdown",
   "id": "af863ec9",
   "metadata": {},
   "source": [
    "!pip install html5lib\n",
    "!pip install selenium\n",
    "!apt-get update\n",
    "!apt install chromium-chromedriver"
   ]
  },
  {
   "cell_type": "code",
   "execution_count": 9,
   "id": "3aa54cc1",
   "metadata": {},
   "outputs": [],
   "source": [
    "#importing the required libries\n",
    "import sys\n",
    "from bs4 import BeautifulSoup\n",
    "import requests\n",
    "from selenium import webdriver\n",
    "from selenium.webdriver.common.by import By\n",
    "\n",
    "\n",
    "chrome_options = webdriver.ChromeOptions()\n",
    "chrome_options.add_argument('--headless')\n",
    "chrome_options.add_argument('--no-sandbox')\n",
    "chrome_options.add_argument('--disable-dev-shm-usage')"
   ]
  },
  {
   "cell_type": "code",
   "execution_count": 10,
   "id": "31ec2505",
   "metadata": {},
   "outputs": [],
   "source": [
    "chrome_driver_path = 'C:/Users/nallag/source/Student/DATAScience_DOC/studocu_doc/chromedriver_win32/chromedriver.exe'\n",
    "#print(type(driver))"
   ]
  },
  {
   "cell_type": "code",
   "execution_count": 11,
   "id": "91876939",
   "metadata": {},
   "outputs": [],
   "source": [
    "driver = webdriver.Chrome(options=chrome_options)"
   ]
  },
  {
   "cell_type": "code",
   "execution_count": 13,
   "id": "0d60e5c1",
   "metadata": {},
   "outputs": [
    {
     "name": "stdout",
     "output_type": "stream",
     "text": [
      "Enter the product  to search for on Amazon.in:smart phone\n",
      "Page Title: Online Shopping site in India: Shop Online for Mobiles, Books, Watches, Shoes and More - Amazon.in\n",
      "Title: Apple iPhone 13 (128GB) - Blue\n",
      "URL: None\n",
      "\n",
      "Title: Apple iPhone 15 (128 GB) - Black\n",
      "URL: None\n",
      "\n",
      "Title: Oneplus Nord CE4 (Celadon Marble, 8GB RAM, 128GB Storage)\n",
      "URL: None\n",
      "\n",
      "Title: realme narzo N53 (Feather Gold, 4GB+64GB) 33W Segment Fastest Charging | Slim Smartphone | 90 Hz Smooth Display\n",
      "URL: None\n",
      "\n",
      "Title: Redmi 13C (Starfrost White, 4GB RAM, 128GB Storage) | Powered by 4G MediaTek Helio G85 | 90Hz Display | 50MP AI Triple Camera\n",
      "URL: None\n",
      "\n",
      "Title: Redmi 13C 5G (Starlight Black, 4GB RAM, 128GB Storage) | MediaTek Dimensity 6100+ 5G | 90Hz Display\n",
      "URL: None\n",
      "\n",
      "Title: realme narzo N53 (Feather Gold, 8GB+128GB) 33W Segment Fastest Charging | Slimmest Phone in Segment | 90 Hz Smooth Display\n",
      "URL: None\n",
      "\n",
      "Title: OPPO A38 (Glowing Black, 4GB RAM, 128GB Storage) | 5000 mAh Battery and 33W SUPERVOOC | 6.56\" HD 90Hz Waterdrop Display | 50MP Rear AI Camera with No Cost EMI/Additional Exchange Offers\n",
      "URL: None\n",
      "\n",
      "Title: Redmi 12 5G Moonstone Silver 6GB RAM 128GB ROM\n",
      "URL: None\n",
      "\n",
      "Title: Samsung Galaxy S22 5G (Green, 8GB, 128GB Storage) with No Cost EMI/Additional Exchange Offers\n",
      "URL: None\n",
      "\n",
      "Title: Vivo T2x 5G (Marine Blue, 128 GB) (6 GB RAM)\n",
      "URL: None\n",
      "\n",
      "Title: Apple iPhone 15 Pro Max (1 TB) - White Titanium\n",
      "URL: None\n",
      "\n",
      "Title: Apple iPhone 14 (128 GB) - Blue\n",
      "URL: None\n",
      "\n",
      "Title: realme narzo 60X 5G (Stellar Green,6GB,128GB Storage) Up to 2TB External Memory | 50 MP AI Primary Camera | Segments only 33W Supervooc Charge\n",
      "URL: None\n",
      "\n",
      "Title: Redmi 13C (Stardust Black, 4GB RAM, 128GB Storage) | Powered by 4G Mediatek Helio G85 | 90Hz Display | 50MP AI Triple Camera\n",
      "URL: None\n",
      "\n"
     ]
    }
   ],
   "source": [
    "def search_amazon_product(product_name):\n",
    "    driver = webdriver.Chrome()\n",
    "\n",
    "    driver.get(\"https://www.amazon.in\")\n",
    "    print(\"Page Title:\",driver.title)\n",
    "\n",
    "\n",
    "    # Find the search box and enter the product name\n",
    "    search_box = driver.find_element(By.XPATH, '//*[@id=\"twotabsearchtextbox\"]')#'//*[@id=\"twotabsearchtextbox\"]'\n",
    "    search_box.send_keys(product_name)\n",
    "\n",
    "    # Find the search button and click it\n",
    "    search_button = driver.find_element(By.XPATH, '//*[@id=\"nav-search-submit-button\"]') #' \"id=\"nav-search-submit-button\"\"\n",
    "    search_button.click()\n",
    "\n",
    "    # Wait for the results to load (you may need to adjust this time depending on your internet speed)\n",
    "    driver.implicitly_wait(5)\n",
    "\n",
    "    # Print the title and URL of the first few search results\n",
    "    search_results = driver.find_elements(By.XPATH, '//*[@class=\"a-size-medium a-color-base a-text-normal\"]')\n",
    "    for result in search_results[:15]:  # Print only the first 5 results\n",
    "        print(\"Title:\", result.text)\n",
    "        print(\"URL:\", result.get_attribute(\"href\"))\n",
    "        print()\n",
    "\n",
    "    # Close the browser\n",
    "    driver.quit()\n",
    "\n",
    "# Main function\n",
    "def main():\n",
    "    # Take input from the user\n",
    "    product_name = input(\"Enter the product  to search for on Amazon.in:\")\n",
    "\n",
    "    # Search for the product on Amazon.in\n",
    "    search_amazon_product(product_name)\n",
    "\n",
    "if __name__ == \"__main__\":\n",
    "    main()\n"
   ]
  },
  {
   "cell_type": "markdown",
   "id": "1fa90cf1",
   "metadata": {},
   "source": [
    "# .Q2. In the above question, now scrape the following details of each product listed in first 3 pages of your search results and save it in a data frame and csv. In case if any product has less than 3 pages in search results then scrape all the products available under that product name. Details to be scraped are: \"Brand Name\", \"Name of the Product\", \"Price\", \"Return/Exchange\", \"Expected Delivery\", \"Availability\" and “Product URL”. In case, if any of the details are missing for any of the product then replace it by “-“. "
   ]
  },
  {
   "cell_type": "code",
   "execution_count": 32,
   "id": "d55b12f8",
   "metadata": {},
   "outputs": [
    {
     "name": "stdout",
     "output_type": "stream",
     "text": [
      "['Kadence', 'Henrix', 'Kadence', 'Kadence', 'Juârez', 'SMG®', 'Medellin', 'Juârez', 'Juârez', 'Juarez', 'Intern', 'Juârez', 'Henrix', 'Yamaha', 'Juarez', 'Kadence', 'Intern', 'YAMAHA', 'Juarez', 'Juarez', 'Richtone', 'Kadence', 'MOCKING', 'Ibanez', 'Kadence', 'Vault', 'Medellin', 'Juârez', 'Juârez', 'Yamaha', 'Yamaha', 'Juârez', '4', 'Yamaha', 'Kadence', 'YAMAHA', 'GADGETS', 'Yamaha', 'Kadence', 'Medellin', 'Yamaha', 'Yamaha', 'Juarez', 'JUAREZ', 'Kadence', 'Fender', 'Alice', 'Kadence', 'Fender', 'BLUEBERRY', 'INTERN', 'JUAREZ', 'BLUEBERRY', 'Vault', 'Vault', 'Kadence', 'Guitar', 'SG', 'SG', 'String', 'Kadence', 'Henrix', 'Kadence', 'Kadence', 'Juârez', 'SMG®', 'Medellin', 'Juârez', 'Juârez', 'Juarez', 'Intern', 'Juârez', 'Henrix', 'Yamaha', 'Juarez', 'Kadence', 'Intern', 'YAMAHA', 'Juarez', 'Juarez', 'Richtone', 'Kadence', 'MOCKING', 'Ibanez', 'Kadence', 'Vault', 'Medellin', 'Juârez', 'Juârez', 'Yamaha', 'Yamaha', 'Juârez', '4', 'Yamaha', 'Kadence', 'YAMAHA', 'GADGETS', 'Yamaha', 'Kadence', 'Medellin', 'Yamaha', 'Yamaha', 'Juarez', 'JUAREZ', 'Kadence', 'Fender', 'Alice', 'Kadence', 'Fender', 'BLUEBERRY', 'INTERN', 'JUAREZ', 'BLUEBERRY', 'Vault', 'Vault', 'Kadence', 'Guitar', 'SG', 'SG', 'String', 'Kadence', 'Henrix', 'Kadence', 'Kadence', 'Juârez', 'SMG®', 'Medellin', 'Juârez', 'Juârez', 'Juarez', 'Intern', 'Juârez', 'Henrix', 'Yamaha', 'Juarez', 'Kadence', 'Intern', 'YAMAHA', 'Juarez', 'Juarez', 'Richtone', 'Kadence', 'MOCKING', 'Ibanez', 'Kadence', 'Vault', 'Medellin', 'Juârez', 'Juârez', 'Yamaha', 'Yamaha', 'Juârez', '4', 'Yamaha', 'Kadence', 'YAMAHA', 'GADGETS', 'Yamaha', 'Kadence', 'Medellin', 'Yamaha', 'Yamaha', 'Juarez', 'JUAREZ', 'Kadence', 'Fender', 'Alice', 'Kadence', 'Fender', 'BLUEBERRY', 'INTERN', 'JUAREZ', 'BLUEBERRY', 'Vault', 'Vault', 'Kadence', 'Guitar', 'SG', 'SG', 'String']\n"
     ]
    }
   ],
   "source": [
    "import pandas as pd\n",
    "from selenium import webdriver\n",
    "from selenium.webdriver.common.by import By\n",
    "from selenium.webdriver.support.ui import WebDriverWait\n",
    "from selenium.webdriver.support import expected_conditions as EC\n",
    "\n",
    "# Initialize Chrome webdriver\n",
    "driver = webdriver.Chrome()\n",
    "\n",
    "# Open Amazon.in\n",
    "driver.get(\"https://www.amazon.in\")\n",
    "\n",
    "\n",
    "# Find the search box and enter the product name\n",
    "search_box = driver.find_element(By.XPATH, '//*[@id=\"twotabsearchtextbox\"]')\n",
    "search_box.send_keys(\"gitar\")  # For testing, replace with user input\n",
    "\n",
    "# Find the search button and click it\n",
    "search_button = driver.find_element(By.XPATH, '//*[@id=\"nav-search-submit-button\"]')\n",
    "search_button.click()\n",
    "\n",
    "Product_details = []\n",
    "product_urls = []\n",
    "\n",
    "Brand_names = []\n",
    "\n",
    "# Wait for the results to load\n",
    "wait = WebDriverWait(driver, 10)\n",
    "b_start = 0\n",
    "b_end = 3\n",
    "for page in range(b_start,b_end):\n",
    "    product_details = wait.until(EC.presence_of_all_elements_located((By.XPATH, '//*[@class=\"a-size-mini a-spacing-none a-color-base s-line-clamp-4\"]')))\n",
    "    for product in product_details:\n",
    "        product_text = product.text.strip()\n",
    "        if product_text:\n",
    "            Brand_name = product_text.split()[0].strip()\n",
    "            Brand_names.append(Brand_name)\n",
    "    #product_url = product_details.get_attribute(\"href\")\n",
    "    #product_urls.append(product_url)\n",
    "    \n",
    "print(Brand_names)\n",
    "#print(product_urls)\n"
   ]
  },
  {
   "cell_type": "code",
   "execution_count": 31,
   "id": "17670b55",
   "metadata": {},
   "outputs": [
    {
     "name": "stdout",
     "output_type": "stream",
     "text": [
      "['rosewoodGuitarFrontierSeries_ElectricAcousticBlackGuitarWithEQ_DieCastKeys_SetOfStrings_Strap_PicksAndBag(BlackEQ_ElectricAcoustic)', '38C38InchCutawayAcousticGuitarWithDualActionTrussRod_Gigbag_Picks_StringSet_StringWinder_Strap_PolishingCloth&Ebook-Black', 'FrontierguitarwithOnlineGuitarlearningcourse_WineRedAcousticGuitarwithDieCastKeys_SetofStrings_Strap_PicksandBag(WineRed_Acoustic)', 'A281ProfessionalAcousticRosewoodguitar(Natural_Beige)', 'LindenwoodAcousticGuitar_38InchesCutaway_JRZ38CWithBag_Strings_PickAndStrap_Blue', \"4StringGuitarToyforKidswithVibrantSoundsandTunableStringsGuitarMusicalToy4-StringGuitarLearningKidsToyChildren'sMusicalInstrumentGuitarforBeginners(RandomColor)\", '38\"BlueAcousticGuitarpremiumwoodwithfreeonlinelearningcourse_SetOfStrings_Strap_Bagand3Picks', 'JRZ38C/VTS6StringsAcousticGuitar38InchCutaway_RightHanded_Violet/PurplewithBag_Strings_PicksandStrap', 'AcousticGuitar_38InchCutaway_038CwithBag_Strings_PickandStrap_Black(AcousticGuitarKit_RedSunburst)', 'JRZ38C/3TSNAAcousticGuitar_38InchCutaway_3TSSunburst', '38CEbonyWoodCutawayDesignAcousticGuitarwithPicksAndCarryBag(Black)', 'AcousticGuitarKit_38InchCutaway_038CwithBag_Strings_PickandStrap_Black', '38C38InchCutawayAcousticGuitarWithDualActionTrussRod_Gigbag_Picks_StringSet_StringWinder_Strap_PolishingCloth&Ebook-BlueBurst', 'F280AcousticRosewoodGuitar(Natural_Beige)', 'AcousticGuitar_38InchCutaway_JRZ38C/BKNABlack', 'SlowhandPremiumJumboSemiAcousticGuitarwithHeavyPaddedBag_guitarcable_ProCapo(BlackSpruceWood)', 'INT-38CRighthandAcousticGuitarKit_WithBag_Strings_PickAndStrap_Black_small', 'F310_6-StringsRoseWoodAcousticGuitar_Natural', 'JRZ-ST0138InchesWood6-StringElectricGuitar_RightHanded_FullBlack_WithCase/BagAndPicks(Black)', 'AcousticGuitar_38InchCutaway_JRZ38C/TBLSNATRANSPARENTBLUESUNBURST', 'MD39C-NT39InchesSpruceWoodCutawayAcousticGuitarWithGig-Bag_PolishingClothAndE-BookNatural', 'BIRD40inchAcousticguitarwithBag_Belt_Stringssetand5PicksguitarforbeginnersmusicalinstrumentCutawayDesigngitaar', 'B239CNaturalMattJFstylecutawayAcousticguitar', 'SlowhandPremiumJumboSemiAcousticGuitarwithHeavyPaddedBag_guitarcable_ProCapo(BlackSpruceWood)', 'A281ProfessionalAcousticRosewoodguitar(Natural_Beige)', 'RG1SoloistPremiumElectricGuitar-TransparentBlack', 'AcousticGuitar(withguitarlearningcourse)NeonPink(Combo_Strings_Bag_Picksandguitarcourse)', 'AcousticGuitar_38InchCutaway_038CwithBag_Strings_PickandStrap_Black(AcousticGuitarKit_BLUESUNBURST)', 'AcousticGuitar_38InchCutaway_038CwithBag_Strings_PickandStrap_Black(AcousticGuitarKit_FUNKY)', '22.8InchesMerantiwoodClassicalGuitarC40//02(Brown)', 'F280AcousticGuitar_TobaccoBrownSunburst', 'AcousticGuitar_38InchCutaway_038CwithBag_Strings_PickandStrap_Black(AcousticGuitarKit_SUNBURST)', 'inchsewembroideyPatchElectricGuitarPatchEmbroiderediRockandRollMusicalInstrumentAppliquegitat', 'FS100CAcousticGuitar_Black', 'SlowhandMahoganyTopSHM03_PremiumSemiAcousticGuitar_38\"SizeTravelGuitar_Demi-cutawaydesign_Withpaddedbagandpreamp', 'FS80CBLACKCONCERTCUTAWAYGUITAR', 'WRAPLogoMusicalInstrumentGuitarStickerDecal(Black)_Packof1_Vinyl', 'FSX80CSemiacousticcutawayguitar(natural)', 'FrontierSeries40IncheseswoodSemiAcousticGuitarWithDieCastKeys(Bag_Strap_StringsAnd3Picks)(Sunburst)', 'AcousticGuitar(withguitarlearningcourse)NeonOrange(Combo_Strings_Bag_Picksandguitarcourse)', 'F310_6-StringsAcousticGuitar_Natural', 'FX280TobaccoBrownSunburstElectroAcousticGuitar', 'AcousticGuitar_[LEFTHANDED]38InchCutaway_38CL/BKwithBag_Strings_PickandStrap_Black', 'ArpeggioGuitarJRA39SR-BL-K_blue', 'FrontierguitarwithOnlineGuitarlearningcourse_WineRedAcousticGuitarwithDieCastKeys_SetofStrings_Strap_PicksandBag(WineRed_Acoustic)', '0379410502(40thAnniversaryStratocasterElectricGuitarGoldEditionLakePlacidBlue)', 'BronzeAcousticGuitarStringsGS-01_PhosphorBronze_(Packof1)', 'rosewoodGuitarFrontierSeries_ElectricAcousticBlackGuitarWithEQ_DieCastKeys_SetOfStrings_Strap_PicksAndBag(BlackEQ_ElectricAcoustic)', '0118802806DaveMurraySignatureSeriesStratocaster6-StringsElectricGuitar_Right-Handed_Black_MapleFretboard', 'B-38C_AcousticGuitarKitwithBag_Strap_OnePackStringsAnd2Picks-38Inch(Black)', 'CutawayDesignAcousticGuitarPack-HumidityProofbody_Bendresistance_DurableAction_Naturaltone&brightresonance.BlueCarbonFibre/FiberGuitarwithBag_Strap_Stringsset_Picks', 'WoodAcousticGuitar_[LeftHanded]96.52Cm(38Inch)Cutaway_38Cl/TblsWithBag_Strings_PickAndStrap_BlueSunburst', 'B-D38_AcousticGuitarKitInbuiltTrussRod_withBag_Strap_OnePackStringsAndPicks-38Inch(MAROONBROWN)', 'ST1PremiumElectricGuitar-MetallicBlue', 'Traveller34InchAcousticGuitarWithTrussRod_Gig-Bag_Strap_Strings_PolishingCloth_StringWinder_Picks&E-Book-NaturalGloss', 'A281BKProfessionalAcousticRosewoodGuitar(Black)', 'Tailpiece_GuitarsBridgeTailpieceAlloyforReplacement(Gold)', 'Musical-GuitarFloorStandFoldableandAnti-SlipGuitarMetalStandforAllGuitarAcousticClassicElectricBassTravelGuitarStandGuitarAccessoriesA-FrameStandforGuitar', 'Musical-GuitarBelt_RubberGuitarPickHolder_4picks_4siliconfingers', 'Musical-MetalGuitarStand-UniversalGuitarFloorStand', 'rosewoodGuitarFrontierSeries_ElectricAcousticBlackGuitarWithEQ_DieCastKeys_SetOfStrings_Strap_PicksAndBag(BlackEQ_ElectricAcoustic)', '38C38InchCutawayAcousticGuitarWithDualActionTrussRod_Gigbag_Picks_StringSet_StringWinder_Strap_PolishingCloth&Ebook-Black', 'FrontierguitarwithOnlineGuitarlearningcourse_WineRedAcousticGuitarwithDieCastKeys_SetofStrings_Strap_PicksandBag(WineRed_Acoustic)', 'A281ProfessionalAcousticRosewoodguitar(Natural_Beige)', 'LindenwoodAcousticGuitar_38InchesCutaway_JRZ38CWithBag_Strings_PickAndStrap_Blue', \"4StringGuitarToyforKidswithVibrantSoundsandTunableStringsGuitarMusicalToy4-StringGuitarLearningKidsToyChildren'sMusicalInstrumentGuitarforBeginners(RandomColor)\", '38\"BlueAcousticGuitarpremiumwoodwithfreeonlinelearningcourse_SetOfStrings_Strap_Bagand3Picks', 'JRZ38C/VTS6StringsAcousticGuitar38InchCutaway_RightHanded_Violet/PurplewithBag_Strings_PicksandStrap', 'AcousticGuitar_38InchCutaway_038CwithBag_Strings_PickandStrap_Black(AcousticGuitarKit_RedSunburst)', 'JRZ38C/3TSNAAcousticGuitar_38InchCutaway_3TSSunburst', '38CEbonyWoodCutawayDesignAcousticGuitarwithPicksAndCarryBag(Black)', 'AcousticGuitarKit_38InchCutaway_038CwithBag_Strings_PickandStrap_Black', '38C38InchCutawayAcousticGuitarWithDualActionTrussRod_Gigbag_Picks_StringSet_StringWinder_Strap_PolishingCloth&Ebook-BlueBurst', 'F280AcousticRosewoodGuitar(Natural_Beige)', 'AcousticGuitar_38InchCutaway_JRZ38C/BKNABlack', 'SlowhandPremiumJumboSemiAcousticGuitarwithHeavyPaddedBag_guitarcable_ProCapo(BlackSpruceWood)', 'INT-38CRighthandAcousticGuitarKit_WithBag_Strings_PickAndStrap_Black_small', 'F310_6-StringsRoseWoodAcousticGuitar_Natural', 'JRZ-ST0138InchesWood6-StringElectricGuitar_RightHanded_FullBlack_WithCase/BagAndPicks(Black)', 'AcousticGuitar_38InchCutaway_JRZ38C/TBLSNATRANSPARENTBLUESUNBURST', 'MD39C-NT39InchesSpruceWoodCutawayAcousticGuitarWithGig-Bag_PolishingClothAndE-BookNatural', 'BIRD40inchAcousticguitarwithBag_Belt_Stringssetand5PicksguitarforbeginnersmusicalinstrumentCutawayDesigngitaar', 'B239CNaturalMattJFstylecutawayAcousticguitar', 'SlowhandPremiumJumboSemiAcousticGuitarwithHeavyPaddedBag_guitarcable_ProCapo(BlackSpruceWood)', 'A281ProfessionalAcousticRosewoodguitar(Natural_Beige)', 'RG1SoloistPremiumElectricGuitar-TransparentBlack', 'AcousticGuitar(withguitarlearningcourse)NeonPink(Combo_Strings_Bag_Picksandguitarcourse)', 'AcousticGuitar_38InchCutaway_038CwithBag_Strings_PickandStrap_Black(AcousticGuitarKit_BLUESUNBURST)', 'AcousticGuitar_38InchCutaway_038CwithBag_Strings_PickandStrap_Black(AcousticGuitarKit_FUNKY)', '22.8InchesMerantiwoodClassicalGuitarC40//02(Brown)', 'F280AcousticGuitar_TobaccoBrownSunburst', 'AcousticGuitar_38InchCutaway_038CwithBag_Strings_PickandStrap_Black(AcousticGuitarKit_SUNBURST)', 'inchsewembroideyPatchElectricGuitarPatchEmbroiderediRockandRollMusicalInstrumentAppliquegitat', 'FS100CAcousticGuitar_Black', 'SlowhandMahoganyTopSHM03_PremiumSemiAcousticGuitar_38\"SizeTravelGuitar_Demi-cutawaydesign_Withpaddedbagandpreamp', 'FS80CBLACKCONCERTCUTAWAYGUITAR', 'WRAPLogoMusicalInstrumentGuitarStickerDecal(Black)_Packof1_Vinyl', 'FSX80CSemiacousticcutawayguitar(natural)', 'FrontierSeries40IncheseswoodSemiAcousticGuitarWithDieCastKeys(Bag_Strap_StringsAnd3Picks)(Sunburst)', 'AcousticGuitar(withguitarlearningcourse)NeonOrange(Combo_Strings_Bag_Picksandguitarcourse)', 'F310_6-StringsAcousticGuitar_Natural', 'FX280TobaccoBrownSunburstElectroAcousticGuitar', 'AcousticGuitar_[LEFTHANDED]38InchCutaway_38CL/BKwithBag_Strings_PickandStrap_Black', 'ArpeggioGuitarJRA39SR-BL-K_blue', 'FrontierguitarwithOnlineGuitarlearningcourse_WineRedAcousticGuitarwithDieCastKeys_SetofStrings_Strap_PicksandBag(WineRed_Acoustic)', '0379410502(40thAnniversaryStratocasterElectricGuitarGoldEditionLakePlacidBlue)', 'BronzeAcousticGuitarStringsGS-01_PhosphorBronze_(Packof1)', 'rosewoodGuitarFrontierSeries_ElectricAcousticBlackGuitarWithEQ_DieCastKeys_SetOfStrings_Strap_PicksAndBag(BlackEQ_ElectricAcoustic)', '0118802806DaveMurraySignatureSeriesStratocaster6-StringsElectricGuitar_Right-Handed_Black_MapleFretboard', 'B-38C_AcousticGuitarKitwithBag_Strap_OnePackStringsAnd2Picks-38Inch(Black)', 'CutawayDesignAcousticGuitarPack-HumidityProofbody_Bendresistance_DurableAction_Naturaltone&brightresonance.BlueCarbonFibre/FiberGuitarwithBag_Strap_Stringsset_Picks', 'WoodAcousticGuitar_[LeftHanded]96.52Cm(38Inch)Cutaway_38Cl/TblsWithBag_Strings_PickAndStrap_BlueSunburst', 'B-D38_AcousticGuitarKitInbuiltTrussRod_withBag_Strap_OnePackStringsAndPicks-38Inch(MAROONBROWN)', 'ST1PremiumElectricGuitar-MetallicBlue', 'Traveller34InchAcousticGuitarWithTrussRod_Gig-Bag_Strap_Strings_PolishingCloth_StringWinder_Picks&E-Book-NaturalGloss', 'A281BKProfessionalAcousticRosewoodGuitar(Black)', 'Tailpiece_GuitarsBridgeTailpieceAlloyforReplacement(Gold)', 'Musical-GuitarFloorStandFoldableandAnti-SlipGuitarMetalStandforAllGuitarAcousticClassicElectricBassTravelGuitarStandGuitarAccessoriesA-FrameStandforGuitar', 'Musical-GuitarBelt_RubberGuitarPickHolder_4picks_4siliconfingers', 'Musical-MetalGuitarStand-UniversalGuitarFloorStand', 'rosewoodGuitarFrontierSeries_ElectricAcousticBlackGuitarWithEQ_DieCastKeys_SetOfStrings_Strap_PicksAndBag(BlackEQ_ElectricAcoustic)', '38C38InchCutawayAcousticGuitarWithDualActionTrussRod_Gigbag_Picks_StringSet_StringWinder_Strap_PolishingCloth&Ebook-Black', 'FrontierguitarwithOnlineGuitarlearningcourse_WineRedAcousticGuitarwithDieCastKeys_SetofStrings_Strap_PicksandBag(WineRed_Acoustic)', 'A281ProfessionalAcousticRosewoodguitar(Natural_Beige)', 'LindenwoodAcousticGuitar_38InchesCutaway_JRZ38CWithBag_Strings_PickAndStrap_Blue', \"4StringGuitarToyforKidswithVibrantSoundsandTunableStringsGuitarMusicalToy4-StringGuitarLearningKidsToyChildren'sMusicalInstrumentGuitarforBeginners(RandomColor)\", '38\"BlueAcousticGuitarpremiumwoodwithfreeonlinelearningcourse_SetOfStrings_Strap_Bagand3Picks', 'JRZ38C/VTS6StringsAcousticGuitar38InchCutaway_RightHanded_Violet/PurplewithBag_Strings_PicksandStrap', 'AcousticGuitar_38InchCutaway_038CwithBag_Strings_PickandStrap_Black(AcousticGuitarKit_RedSunburst)', 'JRZ38C/3TSNAAcousticGuitar_38InchCutaway_3TSSunburst', '38CEbonyWoodCutawayDesignAcousticGuitarwithPicksAndCarryBag(Black)', 'AcousticGuitarKit_38InchCutaway_038CwithBag_Strings_PickandStrap_Black', '38C38InchCutawayAcousticGuitarWithDualActionTrussRod_Gigbag_Picks_StringSet_StringWinder_Strap_PolishingCloth&Ebook-BlueBurst', 'F280AcousticRosewoodGuitar(Natural_Beige)', 'AcousticGuitar_38InchCutaway_JRZ38C/BKNABlack', 'SlowhandPremiumJumboSemiAcousticGuitarwithHeavyPaddedBag_guitarcable_ProCapo(BlackSpruceWood)', 'INT-38CRighthandAcousticGuitarKit_WithBag_Strings_PickAndStrap_Black_small', 'F310_6-StringsRoseWoodAcousticGuitar_Natural', 'JRZ-ST0138InchesWood6-StringElectricGuitar_RightHanded_FullBlack_WithCase/BagAndPicks(Black)', 'AcousticGuitar_38InchCutaway_JRZ38C/TBLSNATRANSPARENTBLUESUNBURST', 'MD39C-NT39InchesSpruceWoodCutawayAcousticGuitarWithGig-Bag_PolishingClothAndE-BookNatural', 'BIRD40inchAcousticguitarwithBag_Belt_Stringssetand5PicksguitarforbeginnersmusicalinstrumentCutawayDesigngitaar', 'B239CNaturalMattJFstylecutawayAcousticguitar', 'SlowhandPremiumJumboSemiAcousticGuitarwithHeavyPaddedBag_guitarcable_ProCapo(BlackSpruceWood)', 'A281ProfessionalAcousticRosewoodguitar(Natural_Beige)', 'RG1SoloistPremiumElectricGuitar-TransparentBlack', 'AcousticGuitar(withguitarlearningcourse)NeonPink(Combo_Strings_Bag_Picksandguitarcourse)', 'AcousticGuitar_38InchCutaway_038CwithBag_Strings_PickandStrap_Black(AcousticGuitarKit_BLUESUNBURST)', 'AcousticGuitar_38InchCutaway_038CwithBag_Strings_PickandStrap_Black(AcousticGuitarKit_FUNKY)', '22.8InchesMerantiwoodClassicalGuitarC40//02(Brown)', 'F280AcousticGuitar_TobaccoBrownSunburst', 'AcousticGuitar_38InchCutaway_038CwithBag_Strings_PickandStrap_Black(AcousticGuitarKit_SUNBURST)', 'inchsewembroideyPatchElectricGuitarPatchEmbroiderediRockandRollMusicalInstrumentAppliquegitat', 'FS100CAcousticGuitar_Black', 'SlowhandMahoganyTopSHM03_PremiumSemiAcousticGuitar_38\"SizeTravelGuitar_Demi-cutawaydesign_Withpaddedbagandpreamp', 'FS80CBLACKCONCERTCUTAWAYGUITAR', 'WRAPLogoMusicalInstrumentGuitarStickerDecal(Black)_Packof1_Vinyl', 'FSX80CSemiacousticcutawayguitar(natural)', 'FrontierSeries40IncheseswoodSemiAcousticGuitarWithDieCastKeys(Bag_Strap_StringsAnd3Picks)(Sunburst)', 'AcousticGuitar(withguitarlearningcourse)NeonOrange(Combo_Strings_Bag_Picksandguitarcourse)', 'F310_6-StringsAcousticGuitar_Natural', 'FX280TobaccoBrownSunburstElectroAcousticGuitar', 'AcousticGuitar_[LEFTHANDED]38InchCutaway_38CL/BKwithBag_Strings_PickandStrap_Black', 'ArpeggioGuitarJRA39SR-BL-K_blue', 'FrontierguitarwithOnlineGuitarlearningcourse_WineRedAcousticGuitarwithDieCastKeys_SetofStrings_Strap_PicksandBag(WineRed_Acoustic)', '0379410502(40thAnniversaryStratocasterElectricGuitarGoldEditionLakePlacidBlue)', 'BronzeAcousticGuitarStringsGS-01_PhosphorBronze_(Packof1)', 'rosewoodGuitarFrontierSeries_ElectricAcousticBlackGuitarWithEQ_DieCastKeys_SetOfStrings_Strap_PicksAndBag(BlackEQ_ElectricAcoustic)', '0118802806DaveMurraySignatureSeriesStratocaster6-StringsElectricGuitar_Right-Handed_Black_MapleFretboard', 'B-38C_AcousticGuitarKitwithBag_Strap_OnePackStringsAnd2Picks-38Inch(Black)', 'CutawayDesignAcousticGuitarPack-HumidityProofbody_Bendresistance_DurableAction_Naturaltone&brightresonance.BlueCarbonFibre/FiberGuitarwithBag_Strap_Stringsset_Picks', 'WoodAcousticGuitar_[LeftHanded]96.52Cm(38Inch)Cutaway_38Cl/TblsWithBag_Strings_PickAndStrap_BlueSunburst', 'B-D38_AcousticGuitarKitInbuiltTrussRod_withBag_Strap_OnePackStringsAndPicks-38Inch(MAROONBROWN)', 'ST1PremiumElectricGuitar-MetallicBlue', 'Traveller34InchAcousticGuitarWithTrussRod_Gig-Bag_Strap_Strings_PolishingCloth_StringWinder_Picks&E-Book-NaturalGloss', 'A281BKProfessionalAcousticRosewoodGuitar(Black)', 'Tailpiece_GuitarsBridgeTailpieceAlloyforReplacement(Gold)', 'Musical-GuitarFloorStandFoldableandAnti-SlipGuitarMetalStandforAllGuitarAcousticClassicElectricBassTravelGuitarStandGuitarAccessoriesA-FrameStandforGuitar', 'Musical-GuitarBelt_RubberGuitarPickHolder_4picks_4siliconfingers', 'Musical-MetalGuitarStand-UniversalGuitarFloorStand']\n"
     ]
    }
   ],
   "source": [
    "Prod_details = []\n",
    "# Wait for the results to load\n",
    "wait = WebDriverWait(driver, 10)\n",
    "pd_start = 0\n",
    "pd_end = 3\n",
    "for page in range(pd_start,pd_end):\n",
    "    product_details = wait.until(EC.presence_of_all_elements_located((By.XPATH, '//*[@class=\"a-size-mini a-spacing-none a-color-base s-line-clamp-4\"]')))\n",
    "    for product in product_details:\n",
    "        Prod_detail = product.text\n",
    "        Prod_details_1 = Prod_detail.split()[1:]\n",
    "        Prod_details_1 = ''.join(component.replace(',', '_') for component in Prod_details_1 )\n",
    "        Prod_details.append(Prod_details_1)\n",
    "    \n",
    "print(Prod_details)\n"
   ]
  },
  {
   "cell_type": "code",
   "execution_count": 30,
   "id": "0bb6a0eb",
   "metadata": {},
   "outputs": [
    {
     "name": "stdout",
     "output_type": "stream",
     "text": [
      "['9,999', '9,999', '4,899', '3,199', '4,799', '5,999', '2,199', '699', '1,849', '2,199', '2,199', '1,899', '2,149', '2,199', '3,099', '7,399', '1,899', '9,999', '2,199', '9,441', '6,750', '1,899', '8,499', '5,489', '9,000', '9,999', '5,999', '11,999', '2,499', '2,199', '2,199', '7,699', '7,990', '2,199', '400', '9,899', '8,498', '8,178', '299', '12,520', '5,499', '2,499', '9,180', '10,998', '2,749', '6,564', '4,799', '62,016', '229', '4,899', '1,50,000', '2,365', '2,681', '2,490', '2,601', '8,799', '4,399', '6,499', '1,399', '549', '319', '599', '9,999', '9,999', '4,899', '3,199', '4,799', '5,999', '2,199', '699', '1,849', '2,199', '2,199', '1,899', '2,149', '2,199', '3,099', '7,399', '1,899', '9,999', '2,199', '9,441', '6,750', '1,899', '8,499', '5,489', '9,000', '9,999', '5,999', '11,999', '2,499', '2,199', '2,199', '7,699', '7,990', '2,199', '400', '9,899', '8,498', '8,178', '299', '12,520', '5,499', '2,499', '9,180', '10,998', '2,749', '6,564', '4,799', '62,016', '229', '4,899', '1,50,000', '2,365', '2,681', '2,490', '2,601', '8,799', '4,399', '6,499', '1,399', '549', '319', '599', '9,999', '9,999', '4,899', '3,199', '4,799', '5,999', '2,199', '699', '1,849', '2,199', '2,199', '1,899', '2,149', '2,199', '3,099', '7,399', '1,899', '9,999', '2,199', '9,441', '6,750', '1,899', '8,499', '5,489', '9,000', '9,999', '5,999', '11,999', '2,499', '2,199', '2,199', '7,699', '7,990', '2,199', '400', '9,899', '8,498', '8,178', '299', '12,520', '5,499', '2,499', '9,180', '10,998', '2,749', '6,564', '4,799', '62,016', '229', '4,899', '1,50,000', '2,365', '2,681', '2,490', '2,601', '8,799', '4,399', '6,499', '1,399', '549', '319', '599']\n"
     ]
    }
   ],
   "source": [
    "Price_details = []\n",
    "# Wait for the results to load\n",
    "wait = WebDriverWait(driver, 10)\n",
    "p_start = 0\n",
    "p_end = 3\n",
    "for page in range(p_start,p_end):\n",
    "    price_detail = wait.until(EC.presence_of_all_elements_located((By.XPATH, '//*[@class=\"a-price-whole\"]'))) #[class=\"a-price-whole\"]\n",
    "    for Price in price_detail:\n",
    "        price_detail = Price.text.strip()\n",
    "        Price_details.append(price_detail)\n",
    "    \n",
    "print(Price_details)\n"
   ]
  },
  {
   "cell_type": "code",
   "execution_count": 28,
   "id": "725f3d61",
   "metadata": {},
   "outputs": [
    {
     "name": "stdout",
     "output_type": "stream",
     "text": [
      "['Tomorrow, 23 April', 'Thursday 25 April', 'Thursday 25 April', 'Tomorrow, 23 April', 'Thursday 25 April', 'Friday 26 April', 'Tomorrow, 23 April', 'Thursday 25 April', 'Thursday 25 April', 'Thursday 25 April', 'Friday 26 April', 'Thursday 25 April', 'Tomorrow, 23 April', 'Tomorrow, 23 April', 'Thursday 25 April', 'Tomorrow, 23 April', 'Friday 26 April', 'Tomorrow, 23 April', 'Thursday 25 April', 'Thursday 25 April', 'Thursday 25 April', 'Wednesday 24 April', 'Thursday 25 April', 'Tomorrow, 23 April', 'Tomorrow, 23 April', 'Wednesday 24 April', 'Thursday 25 April', 'Wednesday 24 April', 'Thursday 25 April', 'Tomorrow, 23 April', 'Tomorrow, 23 April', 'Thursday 25 April', 'Sunday 28 April', 'Tomorrow, 23 April', 'Tomorrow, 23 April', 'Tomorrow, 23 April', 'Wednesday 24 April', 'Tomorrow, 23 April', 'Tomorrow, 23 April', 'Thursday 25 April', 'Monday 29 April', 'Tomorrow, 23 April', 'Thursday 25 April', 'Wednesday 24 April', 'Thursday 25 April', 'Thursday 2 May', 'Tomorrow, 23 April', 'Tomorrow, 23 April', 'Saturday 27 April', 'Saturday 27 April', 'Thursday 25 April', 'Thursday 25 April', 'Saturday 27 April', 'Tomorrow, 23 April', 'Wednesday 24 April', 'Thursday 25 April', 'Tomorrow, 23 April', 'Sunday 28 April', 'Sunday 28 April', 'Sunday 28 April', 'Tomorrow, 23 April', 'Thursday 25 April', 'Thursday 25 April', 'Tomorrow, 23 April', 'Thursday 25 April', 'Friday 26 April', 'Tomorrow, 23 April', 'Thursday 25 April', 'Thursday 25 April', 'Thursday 25 April', 'Friday 26 April', 'Thursday 25 April', 'Tomorrow, 23 April', 'Tomorrow, 23 April', 'Thursday 25 April', 'Tomorrow, 23 April', 'Friday 26 April', 'Tomorrow, 23 April', 'Thursday 25 April', 'Thursday 25 April', 'Thursday 25 April', 'Wednesday 24 April', 'Thursday 25 April', 'Tomorrow, 23 April', 'Tomorrow, 23 April', 'Wednesday 24 April', 'Thursday 25 April', 'Wednesday 24 April', 'Thursday 25 April', 'Tomorrow, 23 April', 'Tomorrow, 23 April', 'Thursday 25 April', 'Sunday 28 April', 'Tomorrow, 23 April', 'Tomorrow, 23 April', 'Tomorrow, 23 April', 'Wednesday 24 April', 'Tomorrow, 23 April', 'Tomorrow, 23 April', 'Thursday 25 April', 'Monday 29 April', 'Tomorrow, 23 April', 'Thursday 25 April', 'Wednesday 24 April', 'Thursday 25 April', 'Thursday 2 May', 'Tomorrow, 23 April', 'Tomorrow, 23 April', 'Saturday 27 April', 'Saturday 27 April', 'Thursday 25 April', 'Thursday 25 April', 'Saturday 27 April', 'Tomorrow, 23 April', 'Wednesday 24 April', 'Thursday 25 April', 'Tomorrow, 23 April', 'Sunday 28 April', 'Sunday 28 April', 'Sunday 28 April', 'Tomorrow, 23 April', 'Thursday 25 April', 'Thursday 25 April', 'Tomorrow, 23 April', 'Thursday 25 April', 'Friday 26 April', 'Tomorrow, 23 April', 'Thursday 25 April', 'Thursday 25 April', 'Thursday 25 April', 'Friday 26 April', 'Thursday 25 April', 'Tomorrow, 23 April', 'Tomorrow, 23 April', 'Thursday 25 April', 'Tomorrow, 23 April', 'Friday 26 April', 'Tomorrow, 23 April', 'Thursday 25 April', 'Thursday 25 April', 'Thursday 25 April', 'Wednesday 24 April', 'Thursday 25 April', 'Tomorrow, 23 April', 'Tomorrow, 23 April', 'Wednesday 24 April', 'Thursday 25 April', 'Wednesday 24 April', 'Thursday 25 April', 'Tomorrow, 23 April', 'Tomorrow, 23 April', 'Thursday 25 April', 'Sunday 28 April', 'Tomorrow, 23 April', 'Tomorrow, 23 April', 'Tomorrow, 23 April', 'Wednesday 24 April', 'Tomorrow, 23 April', 'Tomorrow, 23 April', 'Thursday 25 April', 'Monday 29 April', 'Tomorrow, 23 April', 'Thursday 25 April', 'Wednesday 24 April', 'Thursday 25 April', 'Thursday 2 May', 'Tomorrow, 23 April', 'Tomorrow, 23 April', 'Saturday 27 April', 'Saturday 27 April', 'Thursday 25 April', 'Thursday 25 April', 'Saturday 27 April', 'Tomorrow, 23 April', 'Wednesday 24 April', 'Thursday 25 April', 'Tomorrow, 23 April', 'Sunday 28 April', 'Sunday 28 April', 'Sunday 28 April']\n"
     ]
    }
   ],
   "source": [
    "Expectd_delivery_details = []\n",
    "# Wait for the results to load  #class=\"a-color-base a-text-bold\"\n",
    "wait = WebDriverWait(driver, 10)\n",
    "d_start = 0\n",
    "d_end = 3\n",
    "for page in range(d_start,d_end):\n",
    "    Expectd_delivery = wait.until(EC.presence_of_all_elements_located((By.XPATH, '//*[@class=\"a-color-base a-text-bold\"]'))) #[class=\"a-price-whole\"]\n",
    "    for delivery in Expectd_delivery:\n",
    "        Expectd_delivery = delivery.text.strip()\n",
    "        Expectd_delivery_details.append(Expectd_delivery)\n",
    "    \n",
    "print(Expectd_delivery_details)\n"
   ]
  },
  {
   "cell_type": "code",
   "execution_count": 26,
   "id": "fd737b39",
   "metadata": {},
   "outputs": [
    {
     "name": "stdout",
     "output_type": "stream",
     "text": [
      "['https://www.amazon.in/sspa/click?ie=UTF8&spc=MTo1NzY2ODIwNjU4NDA3MTEyOjE3MTM3NzgwOTM6c3BfYXRmOjMwMDAxNTUzNzk3OTIzMjo6MDo6&url=%2FKadence-Frontier-Acoustic-Guitar-Strings%2Fdp%2FB078GTJP5Y%2Fref%3Dsr_1_1_sspa%3Fcrid%3DJ2T429VLPU32%26dib%3DeyJ2IjoiMSJ9.yMNWF0-ZbwuOEjMTW7AEIy-7cwmFzGIQSCMC8z4mYkiVJ0Q8PniDU9qCdaXZ8tskLJSjvtRT4fqk_HiRdcD3jN1e42deR3gi94NTNb95Qhx-y1hYK88UG6pWDbrstVpqFSJxkpIN84I0A5dW4NqfAJWvliGe3xSfuWSCL9wJuu3H2LxOA_93Cb43c8hStwljftK6qGu2zecg6WbBuEaUI8W8CATUQIqW0CnE5mF9G9w2jIaDiGXlIUK3RzxrG0xvtb4rDUvlmqGtiTl0932XH-aiJjXvEkEWRKJTlw37zuk.bcl4s5DZp-VhbzA_qnvDQ7SEvPEpQ50DR0NxtjZr_04%26dib_tag%3Dse%26keywords%3Dgitar%26qid%3D1713778093%26sprefix%3Dgitar%252Caps%252C376%26sr%3D8-1-spons%26sp_csd%3Dd2lkZ2V0TmFtZT1zcF9hdGY%26psc%3D1', 'https://www.amazon.in/sspa/click?ie=UTF8&spc=MTo1NzY2ODIwNjU4NDA3MTEyOjE3MTM3NzgwOTM6c3BfYXRmOjIwMDUwNzcxNjg2MjA0OjowOjo&url=%2FHenrix-Acoustic-Guitar-Die-cast-Dual-action%2Fdp%2FB07VNDW6QF%2Fref%3Dsr_1_2_sspa%3Fcrid%3DJ2T429VLPU32%26dib%3DeyJ2IjoiMSJ9.yMNWF0-ZbwuOEjMTW7AEIy-7cwmFzGIQSCMC8z4mYkiVJ0Q8PniDU9qCdaXZ8tskLJSjvtRT4fqk_HiRdcD3jN1e42deR3gi94NTNb95Qhx-y1hYK88UG6pWDbrstVpqFSJxkpIN84I0A5dW4NqfAJWvliGe3xSfuWSCL9wJuu3H2LxOA_93Cb43c8hStwljftK6qGu2zecg6WbBuEaUI8W8CATUQIqW0CnE5mF9G9w2jIaDiGXlIUK3RzxrG0xvtb4rDUvlmqGtiTl0932XH-aiJjXvEkEWRKJTlw37zuk.bcl4s5DZp-VhbzA_qnvDQ7SEvPEpQ50DR0NxtjZr_04%26dib_tag%3Dse%26keywords%3Dgitar%26qid%3D1713778093%26sprefix%3Dgitar%252Caps%252C376%26sr%3D8-2-spons%26sp_csd%3Dd2lkZ2V0TmFtZT1zcF9hdGY%26psc%3D1', 'https://www.amazon.in/sspa/click?ie=UTF8&spc=MTo1NzY2ODIwNjU4NDA3MTEyOjE3MTM3NzgwOTM6c3BfYXRmOjMwMDAxNTUwODk1NDEzMjo6MDo6&url=%2FKadence-Frontier-Acoustic-Guitar-Strings%2Fdp%2FB01GDZ46AA%2Fref%3Dsr_1_3_sspa%3Fcrid%3DJ2T429VLPU32%26dib%3DeyJ2IjoiMSJ9.yMNWF0-ZbwuOEjMTW7AEIy-7cwmFzGIQSCMC8z4mYkiVJ0Q8PniDU9qCdaXZ8tskLJSjvtRT4fqk_HiRdcD3jN1e42deR3gi94NTNb95Qhx-y1hYK88UG6pWDbrstVpqFSJxkpIN84I0A5dW4NqfAJWvliGe3xSfuWSCL9wJuu3H2LxOA_93Cb43c8hStwljftK6qGu2zecg6WbBuEaUI8W8CATUQIqW0CnE5mF9G9w2jIaDiGXlIUK3RzxrG0xvtb4rDUvlmqGtiTl0932XH-aiJjXvEkEWRKJTlw37zuk.bcl4s5DZp-VhbzA_qnvDQ7SEvPEpQ50DR0NxtjZr_04%26dib_tag%3Dse%26keywords%3Dgitar%26qid%3D1713778093%26sprefix%3Dgitar%252Caps%252C376%26sr%3D8-3-spons%26sp_csd%3Dd2lkZ2V0TmFtZT1zcF9hdGY%26psc%3D1', 'https://www.amazon.in/sspa/click?ie=UTF8&spc=MTo1NzY2ODIwNjU4NDA3MTEyOjE3MTM3NzgwOTM6c3BfYXRmOjMwMDAzNDc3Mzk4MDUzMjo6MDo6&url=%2FKadence-Professional-Acoustic-Rosewood-Natural%2Fdp%2FB0CC927DLN%2Fref%3Dsr_1_4_sspa%3Fcrid%3DJ2T429VLPU32%26dib%3DeyJ2IjoiMSJ9.yMNWF0-ZbwuOEjMTW7AEIy-7cwmFzGIQSCMC8z4mYkiVJ0Q8PniDU9qCdaXZ8tskLJSjvtRT4fqk_HiRdcD3jN1e42deR3gi94NTNb95Qhx-y1hYK88UG6pWDbrstVpqFSJxkpIN84I0A5dW4NqfAJWvliGe3xSfuWSCL9wJuu3H2LxOA_93Cb43c8hStwljftK6qGu2zecg6WbBuEaUI8W8CATUQIqW0CnE5mF9G9w2jIaDiGXlIUK3RzxrG0xvtb4rDUvlmqGtiTl0932XH-aiJjXvEkEWRKJTlw37zuk.bcl4s5DZp-VhbzA_qnvDQ7SEvPEpQ50DR0NxtjZr_04%26dib_tag%3Dse%26keywords%3Dgitar%26qid%3D1713778093%26sprefix%3Dgitar%252Caps%252C376%26sr%3D8-4-spons%26sp_csd%3Dd2lkZ2V0TmFtZT1zcF9hdGY%26psc%3D1', 'https://www.amazon.in/JUAREZ-JRZ38C-Handed-Acoustic-Strings/dp/B01FYYTDX6/ref=sr_1_5?crid=J2T429VLPU32&dib=eyJ2IjoiMSJ9.yMNWF0-ZbwuOEjMTW7AEIy-7cwmFzGIQSCMC8z4mYkiVJ0Q8PniDU9qCdaXZ8tskLJSjvtRT4fqk_HiRdcD3jN1e42deR3gi94NTNb95Qhx-y1hYK88UG6pWDbrstVpqFSJxkpIN84I0A5dW4NqfAJWvliGe3xSfuWSCL9wJuu3H2LxOA_93Cb43c8hStwljftK6qGu2zecg6WbBuEaUI8W8CATUQIqW0CnE5mF9G9w2jIaDiGXlIUK3RzxrG0xvtb4rDUvlmqGtiTl0932XH-aiJjXvEkEWRKJTlw37zuk.bcl4s5DZp-VhbzA_qnvDQ7SEvPEpQ50DR0NxtjZr_04&dib_tag=se&keywords=gitar&qid=1713778093&sprefix=gitar%2Caps%2C376&sr=8-5', 'https://www.amazon.in/4-String-Learning-Childrens-Instrument-Beginners/dp/B08KP66ZZN/ref=sr_1_6?crid=J2T429VLPU32&dib=eyJ2IjoiMSJ9.yMNWF0-ZbwuOEjMTW7AEIy-7cwmFzGIQSCMC8z4mYkiVJ0Q8PniDU9qCdaXZ8tskLJSjvtRT4fqk_HiRdcD3jN1e42deR3gi94NTNb95Qhx-y1hYK88UG6pWDbrstVpqFSJxkpIN84I0A5dW4NqfAJWvliGe3xSfuWSCL9wJuu3H2LxOA_93Cb43c8hStwljftK6qGu2zecg6WbBuEaUI8W8CATUQIqW0CnE5mF9G9w2jIaDiGXlIUK3RzxrG0xvtb4rDUvlmqGtiTl0932XH-aiJjXvEkEWRKJTlw37zuk.bcl4s5DZp-VhbzA_qnvDQ7SEvPEpQ50DR0NxtjZr_04&dib_tag=se&keywords=gitar&qid=1713778093&sprefix=gitar%2Caps%2C376&sr=8-6', 'https://www.amazon.in/Medellin-MED-BLU-C-Linden-Acoustic-Guitar/dp/B07NBMWHJW/ref=sr_1_7?crid=J2T429VLPU32&dib=eyJ2IjoiMSJ9.yMNWF0-ZbwuOEjMTW7AEIy-7cwmFzGIQSCMC8z4mYkiVJ0Q8PniDU9qCdaXZ8tskLJSjvtRT4fqk_HiRdcD3jN1e42deR3gi94NTNb95Qhx-y1hYK88UG6pWDbrstVpqFSJxkpIN84I0A5dW4NqfAJWvliGe3xSfuWSCL9wJuu3H2LxOA_93Cb43c8hStwljftK6qGu2zecg6WbBuEaUI8W8CATUQIqW0CnE5mF9G9w2jIaDiGXlIUK3RzxrG0xvtb4rDUvlmqGtiTl0932XH-aiJjXvEkEWRKJTlw37zuk.bcl4s5DZp-VhbzA_qnvDQ7SEvPEpQ50DR0NxtjZr_04&dib_tag=se&keywords=gitar&qid=1713778093&sprefix=gitar%2Caps%2C376&sr=8-7', 'https://www.amazon.in/JRZ38C-VTS-Strings-Acoustic-Cutaway/dp/B072MFLQC9/ref=sr_1_8?crid=J2T429VLPU32&dib=eyJ2IjoiMSJ9.yMNWF0-ZbwuOEjMTW7AEIy-7cwmFzGIQSCMC8z4mYkiVJ0Q8PniDU9qCdaXZ8tskLJSjvtRT4fqk_HiRdcD3jN1e42deR3gi94NTNb95Qhx-y1hYK88UG6pWDbrstVpqFSJxkpIN84I0A5dW4NqfAJWvliGe3xSfuWSCL9wJuu3H2LxOA_93Cb43c8hStwljftK6qGu2zecg6WbBuEaUI8W8CATUQIqW0CnE5mF9G9w2jIaDiGXlIUK3RzxrG0xvtb4rDUvlmqGtiTl0932XH-aiJjXvEkEWRKJTlw37zuk.bcl4s5DZp-VhbzA_qnvDQ7SEvPEpQ50DR0NxtjZr_04&dib_tag=se&keywords=gitar&qid=1713778093&sprefix=gitar%2Caps%2C376&sr=8-8', 'https://www.amazon.in/Acoustic-Cutaway-RDS-Strings-Sunburst/dp/B076QGY91P/ref=sr_1_9?crid=J2T429VLPU32&dib=eyJ2IjoiMSJ9.yMNWF0-ZbwuOEjMTW7AEIy-7cwmFzGIQSCMC8z4mYkiVJ0Q8PniDU9qCdaXZ8tskLJSjvtRT4fqk_HiRdcD3jN1e42deR3gi94NTNb95Qhx-y1hYK88UG6pWDbrstVpqFSJxkpIN84I0A5dW4NqfAJWvliGe3xSfuWSCL9wJuu3H2LxOA_93Cb43c8hStwljftK6qGu2zecg6WbBuEaUI8W8CATUQIqW0CnE5mF9G9w2jIaDiGXlIUK3RzxrG0xvtb4rDUvlmqGtiTl0932XH-aiJjXvEkEWRKJTlw37zuk.bcl4s5DZp-VhbzA_qnvDQ7SEvPEpQ50DR0NxtjZr_04&dib_tag=se&keywords=gitar&qid=1713778093&sprefix=gitar%2Caps%2C376&sr=8-9', 'https://www.amazon.in/JUAREZ-JRZ38C-3TSNA/dp/B0BCQQRDF3/ref=sr_1_10?crid=J2T429VLPU32&dib=eyJ2IjoiMSJ9.yMNWF0-ZbwuOEjMTW7AEIy-7cwmFzGIQSCMC8z4mYkiVJ0Q8PniDU9qCdaXZ8tskLJSjvtRT4fqk_HiRdcD3jN1e42deR3gi94NTNb95Qhx-y1hYK88UG6pWDbrstVpqFSJxkpIN84I0A5dW4NqfAJWvliGe3xSfuWSCL9wJuu3H2LxOA_93Cb43c8hStwljftK6qGu2zecg6WbBuEaUI8W8CATUQIqW0CnE5mF9G9w2jIaDiGXlIUK3RzxrG0xvtb4rDUvlmqGtiTl0932XH-aiJjXvEkEWRKJTlw37zuk.bcl4s5DZp-VhbzA_qnvDQ7SEvPEpQ50DR0NxtjZr_04&dib_tag=se&keywords=gitar&qid=1713778093&sprefix=gitar%2Caps%2C376&sr=8-10', 'https://www.amazon.in/Intern-38-inch-Cutaway-Design-Acoustic/dp/B07X4PN85R/ref=sr_1_11?crid=J2T429VLPU32&dib=eyJ2IjoiMSJ9.yMNWF0-ZbwuOEjMTW7AEIy-7cwmFzGIQSCMC8z4mYkiVJ0Q8PniDU9qCdaXZ8tskLJSjvtRT4fqk_HiRdcD3jN1e42deR3gi94NTNb95Qhx-y1hYK88UG6pWDbrstVpqFSJxkpIN84I0A5dW4NqfAJWvliGe3xSfuWSCL9wJuu3H2LxOA_93Cb43c8hStwljftK6qGu2zecg6WbBuEaUI8W8CATUQIqW0CnE5mF9G9w2jIaDiGXlIUK3RzxrG0xvtb4rDUvlmqGtiTl0932XH-aiJjXvEkEWRKJTlw37zuk.bcl4s5DZp-VhbzA_qnvDQ7SEvPEpQ50DR0NxtjZr_04&dib_tag=se&keywords=gitar&qid=1713778093&sprefix=gitar%2Caps%2C376&sr=8-11', 'https://www.amazon.in/Juarez-Acoustic-Cutaway-038C-Strings/dp/B017NPCSLI/ref=sr_1_12?crid=J2T429VLPU32&dib=eyJ2IjoiMSJ9.yMNWF0-ZbwuOEjMTW7AEIy-7cwmFzGIQSCMC8z4mYkiVJ0Q8PniDU9qCdaXZ8tskLJSjvtRT4fqk_HiRdcD3jN1e42deR3gi94NTNb95Qhx-y1hYK88UG6pWDbrstVpqFSJxkpIN84I0A5dW4NqfAJWvliGe3xSfuWSCL9wJuu3H2LxOA_93Cb43c8hStwljftK6qGu2zecg6WbBuEaUI8W8CATUQIqW0CnE5mF9G9w2jIaDiGXlIUK3RzxrG0xvtb4rDUvlmqGtiTl0932XH-aiJjXvEkEWRKJTlw37zuk.bcl4s5DZp-VhbzA_qnvDQ7SEvPEpQ50DR0NxtjZr_04&dib_tag=se&keywords=gitar&qid=1713778093&sprefix=gitar%2Caps%2C376&sr=8-12', 'https://www.amazon.in/Henrix-Cutaway-Acoustic-Guitar-Action/dp/B097NCQFFM/ref=sr_1_13?crid=J2T429VLPU32&dib=eyJ2IjoiMSJ9.yMNWF0-ZbwuOEjMTW7AEIy-7cwmFzGIQSCMC8z4mYkiVJ0Q8PniDU9qCdaXZ8tskLJSjvtRT4fqk_HiRdcD3jN1e42deR3gi94NTNb95Qhx-y1hYK88UG6pWDbrstVpqFSJxkpIN84I0A5dW4NqfAJWvliGe3xSfuWSCL9wJuu3H2LxOA_93Cb43c8hStwljftK6qGu2zecg6WbBuEaUI8W8CATUQIqW0CnE5mF9G9w2jIaDiGXlIUK3RzxrG0xvtb4rDUvlmqGtiTl0932XH-aiJjXvEkEWRKJTlw37zuk.bcl4s5DZp-VhbzA_qnvDQ7SEvPEpQ50DR0NxtjZr_04&dib_tag=se&keywords=gitar&qid=1713778093&sprefix=gitar%2Caps%2C376&sr=8-13', 'https://www.amazon.in/Yamaha-F280-Acoustic-Guitar-Natural/dp/B08317Y4VP/ref=sr_1_14?crid=J2T429VLPU32&dib=eyJ2IjoiMSJ9.yMNWF0-ZbwuOEjMTW7AEIy-7cwmFzGIQSCMC8z4mYkiVJ0Q8PniDU9qCdaXZ8tskLJSjvtRT4fqk_HiRdcD3jN1e42deR3gi94NTNb95Qhx-y1hYK88UG6pWDbrstVpqFSJxkpIN84I0A5dW4NqfAJWvliGe3xSfuWSCL9wJuu3H2LxOA_93Cb43c8hStwljftK6qGu2zecg6WbBuEaUI8W8CATUQIqW0CnE5mF9G9w2jIaDiGXlIUK3RzxrG0xvtb4rDUvlmqGtiTl0932XH-aiJjXvEkEWRKJTlw37zuk.bcl4s5DZp-VhbzA_qnvDQ7SEvPEpQ50DR0NxtjZr_04&dib_tag=se&keywords=gitar&qid=1713778093&sprefix=gitar%2Caps%2C376&sr=8-14', 'https://www.amazon.in/JUAREZ-JRZ38C-BKNA/dp/B0BCQNVPRB/ref=sr_1_15?crid=J2T429VLPU32&dib=eyJ2IjoiMSJ9.yMNWF0-ZbwuOEjMTW7AEIy-7cwmFzGIQSCMC8z4mYkiVJ0Q8PniDU9qCdaXZ8tskLJSjvtRT4fqk_HiRdcD3jN1e42deR3gi94NTNb95Qhx-y1hYK88UG6pWDbrstVpqFSJxkpIN84I0A5dW4NqfAJWvliGe3xSfuWSCL9wJuu3H2LxOA_93Cb43c8hStwljftK6qGu2zecg6WbBuEaUI8W8CATUQIqW0CnE5mF9G9w2jIaDiGXlIUK3RzxrG0xvtb4rDUvlmqGtiTl0932XH-aiJjXvEkEWRKJTlw37zuk.bcl4s5DZp-VhbzA_qnvDQ7SEvPEpQ50DR0NxtjZr_04&dib_tag=se&keywords=gitar&qid=1713778093&sprefix=gitar%2Caps%2C376&sr=8-15', 'https://www.amazon.in/Kadence-Slowhand-Premium-Acoustic-Instrument/dp/B077SZ667X/ref=sr_1_16?crid=J2T429VLPU32&dib=eyJ2IjoiMSJ9.yMNWF0-ZbwuOEjMTW7AEIy-7cwmFzGIQSCMC8z4mYkiVJ0Q8PniDU9qCdaXZ8tskLJSjvtRT4fqk_HiRdcD3jN1e42deR3gi94NTNb95Qhx-y1hYK88UG6pWDbrstVpqFSJxkpIN84I0A5dW4NqfAJWvliGe3xSfuWSCL9wJuu3H2LxOA_93Cb43c8hStwljftK6qGu2zecg6WbBuEaUI8W8CATUQIqW0CnE5mF9G9w2jIaDiGXlIUK3RzxrG0xvtb4rDUvlmqGtiTl0932XH-aiJjXvEkEWRKJTlw37zuk.bcl4s5DZp-VhbzA_qnvDQ7SEvPEpQ50DR0NxtjZr_04&dib_tag=se&keywords=gitar&qid=1713778093&sprefix=gitar%2Caps%2C376&sr=8-16', 'https://www.amazon.in/Intern-INT-38C-Acoustic-Guitar-Black/dp/B073B6TQQY/ref=sr_1_17?crid=J2T429VLPU32&dib=eyJ2IjoiMSJ9.yMNWF0-ZbwuOEjMTW7AEIy-7cwmFzGIQSCMC8z4mYkiVJ0Q8PniDU9qCdaXZ8tskLJSjvtRT4fqk_HiRdcD3jN1e42deR3gi94NTNb95Qhx-y1hYK88UG6pWDbrstVpqFSJxkpIN84I0A5dW4NqfAJWvliGe3xSfuWSCL9wJuu3H2LxOA_93Cb43c8hStwljftK6qGu2zecg6WbBuEaUI8W8CATUQIqW0CnE5mF9G9w2jIaDiGXlIUK3RzxrG0xvtb4rDUvlmqGtiTl0932XH-aiJjXvEkEWRKJTlw37zuk.bcl4s5DZp-VhbzA_qnvDQ7SEvPEpQ50DR0NxtjZr_04&dib_tag=se&keywords=gitar&qid=1713778093&sprefix=gitar%2Caps%2C376&sr=8-17', 'https://www.amazon.in/Yamaha-F310-6-Strings-Acoustic-Natural/dp/B000RVYW7E/ref=sr_1_18?crid=J2T429VLPU32&dib=eyJ2IjoiMSJ9.yMNWF0-ZbwuOEjMTW7AEIy-7cwmFzGIQSCMC8z4mYkiVJ0Q8PniDU9qCdaXZ8tskLJSjvtRT4fqk_HiRdcD3jN1e42deR3gi94NTNb95Qhx-y1hYK88UG6pWDbrstVpqFSJxkpIN84I0A5dW4NqfAJWvliGe3xSfuWSCL9wJuu3H2LxOA_93Cb43c8hStwljftK6qGu2zecg6WbBuEaUI8W8CATUQIqW0CnE5mF9G9w2jIaDiGXlIUK3RzxrG0xvtb4rDUvlmqGtiTl0932XH-aiJjXvEkEWRKJTlw37zuk.bcl4s5DZp-VhbzA_qnvDQ7SEvPEpQ50DR0NxtjZr_04&dib_tag=se&keywords=gitar&qid=1713778093&sprefix=gitar%2Caps%2C376&sr=8-18', 'https://www.amazon.in/Juarez-JRZ-ST01-6-String-Electric-Without/dp/B01FYZSOGM/ref=sr_1_19?crid=J2T429VLPU32&dib=eyJ2IjoiMSJ9.yMNWF0-ZbwuOEjMTW7AEIy-7cwmFzGIQSCMC8z4mYkiVJ0Q8PniDU9qCdaXZ8tskLJSjvtRT4fqk_HiRdcD3jN1e42deR3gi94NTNb95Qhx-y1hYK88UG6pWDbrstVpqFSJxkpIN84I0A5dW4NqfAJWvliGe3xSfuWSCL9wJuu3H2LxOA_93Cb43c8hStwljftK6qGu2zecg6WbBuEaUI8W8CATUQIqW0CnE5mF9G9w2jIaDiGXlIUK3RzxrG0xvtb4rDUvlmqGtiTl0932XH-aiJjXvEkEWRKJTlw37zuk.bcl4s5DZp-VhbzA_qnvDQ7SEvPEpQ50DR0NxtjZr_04&dib_tag=se&keywords=gitar&qid=1713778093&sprefix=gitar%2Caps%2C376&sr=8-19', 'https://www.amazon.in/JUAREZ-JRZ38C-TBLSNA/dp/B0BCQKQ6CS/ref=sr_1_20?crid=J2T429VLPU32&dib=eyJ2IjoiMSJ9.yMNWF0-ZbwuOEjMTW7AEIy-7cwmFzGIQSCMC8z4mYkiVJ0Q8PniDU9qCdaXZ8tskLJSjvtRT4fqk_HiRdcD3jN1e42deR3gi94NTNb95Qhx-y1hYK88UG6pWDbrstVpqFSJxkpIN84I0A5dW4NqfAJWvliGe3xSfuWSCL9wJuu3H2LxOA_93Cb43c8hStwljftK6qGu2zecg6WbBuEaUI8W8CATUQIqW0CnE5mF9G9w2jIaDiGXlIUK3RzxrG0xvtb4rDUvlmqGtiTl0932XH-aiJjXvEkEWRKJTlw37zuk.bcl4s5DZp-VhbzA_qnvDQ7SEvPEpQ50DR0NxtjZr_04&dib_tag=se&keywords=gitar&qid=1713778093&sprefix=gitar%2Caps%2C376&sr=8-20', 'https://www.amazon.in/sspa/click?ie=UTF8&spc=MTo1NzY2ODIwNjU4NDA3MTEyOjE3MTM3NzgwOTM6c3BfbXRmOjMwMDE0ODU0ODIzMTYzMjo6MDo6&url=%2FIbanez-MD39C-NT-Cutaway-Acoustic-Polishing%2Fdp%2FB084C1DGCV%2Fref%3Dsr_1_21_sspa%3Fcrid%3DJ2T429VLPU32%26dib%3DeyJ2IjoiMSJ9.yMNWF0-ZbwuOEjMTW7AEIy-7cwmFzGIQSCMC8z4mYkiVJ0Q8PniDU9qCdaXZ8tskLJSjvtRT4fqk_HiRdcD3jN1e42deR3gi94NTNb95Qhx-y1hYK88UG6pWDbrstVpqFSJxkpIN84I0A5dW4NqfAJWvliGe3xSfuWSCL9wJuu3H2LxOA_93Cb43c8hStwljftK6qGu2zecg6WbBuEaUI8W8CATUQIqW0CnE5mF9G9w2jIaDiGXlIUK3RzxrG0xvtb4rDUvlmqGtiTl0932XH-aiJjXvEkEWRKJTlw37zuk.bcl4s5DZp-VhbzA_qnvDQ7SEvPEpQ50DR0NxtjZr_04%26dib_tag%3Dse%26keywords%3Dgitar%26qid%3D1713778093%26sprefix%3Dgitar%252Caps%252C376%26sr%3D8-21-spons%26sp_csd%3Dd2lkZ2V0TmFtZT1zcF9tdGY%26psc%3D1', 'https://www.amazon.in/sspa/click?ie=UTF8&spc=MTo1NzY2ODIwNjU4NDA3MTEyOjE3MTM3NzgwOTM6c3BfbXRmOjMwMDE2MzkzNzg1NzIzMjo6MDo6&url=%2FMOCKING-BIRD-Acoustic-beginners-instrument%2Fdp%2FB0CR9XH4QH%2Fref%3Dsr_1_22_sspa%3Fcrid%3DJ2T429VLPU32%26dib%3DeyJ2IjoiMSJ9.yMNWF0-ZbwuOEjMTW7AEIy-7cwmFzGIQSCMC8z4mYkiVJ0Q8PniDU9qCdaXZ8tskLJSjvtRT4fqk_HiRdcD3jN1e42deR3gi94NTNb95Qhx-y1hYK88UG6pWDbrstVpqFSJxkpIN84I0A5dW4NqfAJWvliGe3xSfuWSCL9wJuu3H2LxOA_93Cb43c8hStwljftK6qGu2zecg6WbBuEaUI8W8CATUQIqW0CnE5mF9G9w2jIaDiGXlIUK3RzxrG0xvtb4rDUvlmqGtiTl0932XH-aiJjXvEkEWRKJTlw37zuk.bcl4s5DZp-VhbzA_qnvDQ7SEvPEpQ50DR0NxtjZr_04%26dib_tag%3Dse%26keywords%3Dgitar%26qid%3D1713778093%26sprefix%3Dgitar%252Caps%252C376%26sr%3D8-22-spons%26sp_csd%3Dd2lkZ2V0TmFtZT1zcF9tdGY%26psc%3D1', 'https://www.amazon.in/sspa/click?ie=UTF8&spc=MTo1NzY2ODIwNjU4NDA3MTEyOjE3MTM3NzgwOTM6c3BfbXRmOjMwMDE0MTg2MjIyNjAzMjo6MDo6&url=%2FRichtone-B239C-Natural-cutaway-Acoustic%2Fdp%2FB0CNW9RZ9D%2Fref%3Dsr_1_23_sspa%3Fcrid%3DJ2T429VLPU32%26dib%3DeyJ2IjoiMSJ9.yMNWF0-ZbwuOEjMTW7AEIy-7cwmFzGIQSCMC8z4mYkiVJ0Q8PniDU9qCdaXZ8tskLJSjvtRT4fqk_HiRdcD3jN1e42deR3gi94NTNb95Qhx-y1hYK88UG6pWDbrstVpqFSJxkpIN84I0A5dW4NqfAJWvliGe3xSfuWSCL9wJuu3H2LxOA_93Cb43c8hStwljftK6qGu2zecg6WbBuEaUI8W8CATUQIqW0CnE5mF9G9w2jIaDiGXlIUK3RzxrG0xvtb4rDUvlmqGtiTl0932XH-aiJjXvEkEWRKJTlw37zuk.bcl4s5DZp-VhbzA_qnvDQ7SEvPEpQ50DR0NxtjZr_04%26dib_tag%3Dse%26keywords%3Dgitar%26qid%3D1713778093%26sprefix%3Dgitar%252Caps%252C376%26sr%3D8-23-spons%26sp_csd%3Dd2lkZ2V0TmFtZT1zcF9tdGY%26psc%3D1', 'https://www.amazon.in/sspa/click?ie=UTF8&spc=MTo1NzY2ODIwNjU4NDA3MTEyOjE3MTM3NzgwOTM6c3BfbXRmOjIwMDU3MzAzOTg2MjA0OjowOjo&url=%2FKadence-Slowhand-Premium-Acoustic-Instrument%2Fdp%2FB077SZ667X%2Fref%3Dsr_1_24_sspa%3Fcrid%3DJ2T429VLPU32%26dib%3DeyJ2IjoiMSJ9.yMNWF0-ZbwuOEjMTW7AEIy-7cwmFzGIQSCMC8z4mYkiVJ0Q8PniDU9qCdaXZ8tskLJSjvtRT4fqk_HiRdcD3jN1e42deR3gi94NTNb95Qhx-y1hYK88UG6pWDbrstVpqFSJxkpIN84I0A5dW4NqfAJWvliGe3xSfuWSCL9wJuu3H2LxOA_93Cb43c8hStwljftK6qGu2zecg6WbBuEaUI8W8CATUQIqW0CnE5mF9G9w2jIaDiGXlIUK3RzxrG0xvtb4rDUvlmqGtiTl0932XH-aiJjXvEkEWRKJTlw37zuk.bcl4s5DZp-VhbzA_qnvDQ7SEvPEpQ50DR0NxtjZr_04%26dib_tag%3Dse%26keywords%3Dgitar%26qid%3D1713778093%26sprefix%3Dgitar%252Caps%252C376%26sr%3D8-24-spons%26sp_csd%3Dd2lkZ2V0TmFtZT1zcF9tdGY%26psc%3D1', 'https://www.amazon.in/Kadence-Professional-Acoustic-Rosewood-Natural/dp/B0CC927DLN/ref=sr_1_25?crid=J2T429VLPU32&dib=eyJ2IjoiMSJ9.yMNWF0-ZbwuOEjMTW7AEIy-7cwmFzGIQSCMC8z4mYkiVJ0Q8PniDU9qCdaXZ8tskLJSjvtRT4fqk_HiRdcD3jN1e42deR3gi94NTNb95Qhx-y1hYK88UG6pWDbrstVpqFSJxkpIN84I0A5dW4NqfAJWvliGe3xSfuWSCL9wJuu3H2LxOA_93Cb43c8hStwljftK6qGu2zecg6WbBuEaUI8W8CATUQIqW0CnE5mF9G9w2jIaDiGXlIUK3RzxrG0xvtb4rDUvlmqGtiTl0932XH-aiJjXvEkEWRKJTlw37zuk.bcl4s5DZp-VhbzA_qnvDQ7SEvPEpQ50DR0NxtjZr_04&dib_tag=se&keywords=gitar&qid=1713778093&sprefix=gitar%2Caps%2C376&sr=8-25', 'https://www.amazon.in/Vault-Soloist-Premium-Electric-Guitar/dp/B09GLZSS95/ref=sr_1_26?crid=J2T429VLPU32&dib=eyJ2IjoiMSJ9.yMNWF0-ZbwuOEjMTW7AEIy-7cwmFzGIQSCMC8z4mYkiVJ0Q8PniDU9qCdaXZ8tskLJSjvtRT4fqk_HiRdcD3jN1e42deR3gi94NTNb95Qhx-y1hYK88UG6pWDbrstVpqFSJxkpIN84I0A5dW4NqfAJWvliGe3xSfuWSCL9wJuu3H2LxOA_93Cb43c8hStwljftK6qGu2zecg6WbBuEaUI8W8CATUQIqW0CnE5mF9G9w2jIaDiGXlIUK3RzxrG0xvtb4rDUvlmqGtiTl0932XH-aiJjXvEkEWRKJTlw37zuk.bcl4s5DZp-VhbzA_qnvDQ7SEvPEpQ50DR0NxtjZr_04&dib_tag=se&keywords=gitar&qid=1713778093&sprefix=gitar%2Caps%2C376&sr=8-26', 'https://www.amazon.in/Medellin-Acoustic-Guitar-learning-Strings/dp/B0CCNSN9BV/ref=sr_1_27?crid=J2T429VLPU32&dib=eyJ2IjoiMSJ9.yMNWF0-ZbwuOEjMTW7AEIy-7cwmFzGIQSCMC8z4mYkiVJ0Q8PniDU9qCdaXZ8tskLJSjvtRT4fqk_HiRdcD3jN1e42deR3gi94NTNb95Qhx-y1hYK88UG6pWDbrstVpqFSJxkpIN84I0A5dW4NqfAJWvliGe3xSfuWSCL9wJuu3H2LxOA_93Cb43c8hStwljftK6qGu2zecg6WbBuEaUI8W8CATUQIqW0CnE5mF9G9w2jIaDiGXlIUK3RzxrG0xvtb4rDUvlmqGtiTl0932XH-aiJjXvEkEWRKJTlw37zuk.bcl4s5DZp-VhbzA_qnvDQ7SEvPEpQ50DR0NxtjZr_04&dib_tag=se&keywords=gitar&qid=1713778093&sprefix=gitar%2Caps%2C376&sr=8-27', 'https://www.amazon.in/JUAREZ-JRZ38C-Acoustic-Sunburst-Strings/dp/B01FYYTDS6/ref=sr_1_28?crid=J2T429VLPU32&dib=eyJ2IjoiMSJ9.yMNWF0-ZbwuOEjMTW7AEIy-7cwmFzGIQSCMC8z4mYkiVJ0Q8PniDU9qCdaXZ8tskLJSjvtRT4fqk_HiRdcD3jN1e42deR3gi94NTNb95Qhx-y1hYK88UG6pWDbrstVpqFSJxkpIN84I0A5dW4NqfAJWvliGe3xSfuWSCL9wJuu3H2LxOA_93Cb43c8hStwljftK6qGu2zecg6WbBuEaUI8W8CATUQIqW0CnE5mF9G9w2jIaDiGXlIUK3RzxrG0xvtb4rDUvlmqGtiTl0932XH-aiJjXvEkEWRKJTlw37zuk.bcl4s5DZp-VhbzA_qnvDQ7SEvPEpQ50DR0NxtjZr_04&dib_tag=se&keywords=gitar&qid=1713778093&sprefix=gitar%2Caps%2C376&sr=8-28', 'https://www.amazon.in/Ju%C3%A2rez-Acoustic-Guitar-Cutaway-Strings/dp/B0BCQNLXVM/ref=sr_1_29?crid=J2T429VLPU32&dib=eyJ2IjoiMSJ9.yMNWF0-ZbwuOEjMTW7AEIy-7cwmFzGIQSCMC8z4mYkiVJ0Q8PniDU9qCdaXZ8tskLJSjvtRT4fqk_HiRdcD3jN1e42deR3gi94NTNb95Qhx-y1hYK88UG6pWDbrstVpqFSJxkpIN84I0A5dW4NqfAJWvliGe3xSfuWSCL9wJuu3H2LxOA_93Cb43c8hStwljftK6qGu2zecg6WbBuEaUI8W8CATUQIqW0CnE5mF9G9w2jIaDiGXlIUK3RzxrG0xvtb4rDUvlmqGtiTl0932XH-aiJjXvEkEWRKJTlw37zuk.bcl4s5DZp-VhbzA_qnvDQ7SEvPEpQ50DR0NxtjZr_04&dib_tag=se&keywords=gitar&qid=1713778093&sprefix=gitar%2Caps%2C376&sr=8-29', 'https://www.amazon.in/Yamaha-Classical-Guitar-C40-02/dp/B003UGCUFE/ref=sr_1_30?crid=J2T429VLPU32&dib=eyJ2IjoiMSJ9.yMNWF0-ZbwuOEjMTW7AEIy-7cwmFzGIQSCMC8z4mYkiVJ0Q8PniDU9qCdaXZ8tskLJSjvtRT4fqk_HiRdcD3jN1e42deR3gi94NTNb95Qhx-y1hYK88UG6pWDbrstVpqFSJxkpIN84I0A5dW4NqfAJWvliGe3xSfuWSCL9wJuu3H2LxOA_93Cb43c8hStwljftK6qGu2zecg6WbBuEaUI8W8CATUQIqW0CnE5mF9G9w2jIaDiGXlIUK3RzxrG0xvtb4rDUvlmqGtiTl0932XH-aiJjXvEkEWRKJTlw37zuk.bcl4s5DZp-VhbzA_qnvDQ7SEvPEpQ50DR0NxtjZr_04&dib_tag=se&keywords=gitar&qid=1713778093&sprefix=gitar%2Caps%2C376&sr=8-30', 'https://www.amazon.in/Yamaha-Acoustic-Guitar-Tobacco-Sunburst/dp/B08VXR74Q2/ref=sr_1_31?crid=J2T429VLPU32&dib=eyJ2IjoiMSJ9.yMNWF0-ZbwuOEjMTW7AEIy-7cwmFzGIQSCMC8z4mYkiVJ0Q8PniDU9qCdaXZ8tskLJSjvtRT4fqk_HiRdcD3jN1e42deR3gi94NTNb95Qhx-y1hYK88UG6pWDbrstVpqFSJxkpIN84I0A5dW4NqfAJWvliGe3xSfuWSCL9wJuu3H2LxOA_93Cb43c8hStwljftK6qGu2zecg6WbBuEaUI8W8CATUQIqW0CnE5mF9G9w2jIaDiGXlIUK3RzxrG0xvtb4rDUvlmqGtiTl0932XH-aiJjXvEkEWRKJTlw37zuk.bcl4s5DZp-VhbzA_qnvDQ7SEvPEpQ50DR0NxtjZr_04&dib_tag=se&keywords=gitar&qid=1713778093&sprefix=gitar%2Caps%2C376&sr=8-31', 'https://www.amazon.in/JUAREZ-JRZ38C-Acoustic-Sunburst-Strings/dp/B01FYYTDTU/ref=sr_1_32?crid=J2T429VLPU32&dib=eyJ2IjoiMSJ9.yMNWF0-ZbwuOEjMTW7AEIy-7cwmFzGIQSCMC8z4mYkiVJ0Q8PniDU9qCdaXZ8tskLJSjvtRT4fqk_HiRdcD3jN1e42deR3gi94NTNb95Qhx-y1hYK88UG6pWDbrstVpqFSJxkpIN84I0A5dW4NqfAJWvliGe3xSfuWSCL9wJuu3H2LxOA_93Cb43c8hStwljftK6qGu2zecg6WbBuEaUI8W8CATUQIqW0CnE5mF9G9w2jIaDiGXlIUK3RzxrG0xvtb4rDUvlmqGtiTl0932XH-aiJjXvEkEWRKJTlw37zuk.bcl4s5DZp-VhbzA_qnvDQ7SEvPEpQ50DR0NxtjZr_04&dib_tag=se&keywords=gitar&qid=1713778093&sprefix=gitar%2Caps%2C376&sr=8-32', 'https://www.amazon.in/embroidey-Electric-Embroidered-Instrument-Applique/dp/B0C5W7BVN8/ref=sr_1_33?crid=J2T429VLPU32&dib=eyJ2IjoiMSJ9.yMNWF0-ZbwuOEjMTW7AEIy-7cwmFzGIQSCMC8z4mYkiVJ0Q8PniDU9qCdaXZ8tskLJSjvtRT4fqk_HiRdcD3jN1e42deR3gi94NTNb95Qhx-y1hYK88UG6pWDbrstVpqFSJxkpIN84I0A5dW4NqfAJWvliGe3xSfuWSCL9wJuu3H2LxOA_93Cb43c8hStwljftK6qGu2zecg6WbBuEaUI8W8CATUQIqW0CnE5mF9G9w2jIaDiGXlIUK3RzxrG0xvtb4rDUvlmqGtiTl0932XH-aiJjXvEkEWRKJTlw37zuk.bcl4s5DZp-VhbzA_qnvDQ7SEvPEpQ50DR0NxtjZr_04&dib_tag=se&keywords=gitar&qid=1713778093&sprefix=gitar%2Caps%2C376&sr=8-33', 'https://www.amazon.in/Yamaha-FS-100C-6-String-Acoustic-without/dp/B00PAS9CK6/ref=sr_1_34?crid=J2T429VLPU32&dib=eyJ2IjoiMSJ9.yMNWF0-ZbwuOEjMTW7AEIy-7cwmFzGIQSCMC8z4mYkiVJ0Q8PniDU9qCdaXZ8tskLJSjvtRT4fqk_HiRdcD3jN1e42deR3gi94NTNb95Qhx-y1hYK88UG6pWDbrstVpqFSJxkpIN84I0A5dW4NqfAJWvliGe3xSfuWSCL9wJuu3H2LxOA_93Cb43c8hStwljftK6qGu2zecg6WbBuEaUI8W8CATUQIqW0CnE5mF9G9w2jIaDiGXlIUK3RzxrG0xvtb4rDUvlmqGtiTl0932XH-aiJjXvEkEWRKJTlw37zuk.bcl4s5DZp-VhbzA_qnvDQ7SEvPEpQ50DR0NxtjZr_04&dib_tag=se&keywords=gitar&qid=1713778093&sprefix=gitar%2Caps%2C376&sr=8-34', 'https://www.amazon.in/Kadence-Slowhand-Premium-Acoustic-Mahogany/dp/B09SFXW1VL/ref=sr_1_35?crid=J2T429VLPU32&dib=eyJ2IjoiMSJ9.yMNWF0-ZbwuOEjMTW7AEIy-7cwmFzGIQSCMC8z4mYkiVJ0Q8PniDU9qCdaXZ8tskLJSjvtRT4fqk_HiRdcD3jN1e42deR3gi94NTNb95Qhx-y1hYK88UG6pWDbrstVpqFSJxkpIN84I0A5dW4NqfAJWvliGe3xSfuWSCL9wJuu3H2LxOA_93Cb43c8hStwljftK6qGu2zecg6WbBuEaUI8W8CATUQIqW0CnE5mF9G9w2jIaDiGXlIUK3RzxrG0xvtb4rDUvlmqGtiTl0932XH-aiJjXvEkEWRKJTlw37zuk.bcl4s5DZp-VhbzA_qnvDQ7SEvPEpQ50DR0NxtjZr_04&dib_tag=se&keywords=gitar&qid=1713778093&sprefix=gitar%2Caps%2C376&sr=8-35', 'https://www.amazon.in/YAMAHA-FS80C-CONCERT-CUTAWAY-GUITAR/dp/B08WBBVMVJ/ref=sr_1_36?crid=J2T429VLPU32&dib=eyJ2IjoiMSJ9.yMNWF0-ZbwuOEjMTW7AEIy-7cwmFzGIQSCMC8z4mYkiVJ0Q8PniDU9qCdaXZ8tskLJSjvtRT4fqk_HiRdcD3jN1e42deR3gi94NTNb95Qhx-y1hYK88UG6pWDbrstVpqFSJxkpIN84I0A5dW4NqfAJWvliGe3xSfuWSCL9wJuu3H2LxOA_93Cb43c8hStwljftK6qGu2zecg6WbBuEaUI8W8CATUQIqW0CnE5mF9G9w2jIaDiGXlIUK3RzxrG0xvtb4rDUvlmqGtiTl0932XH-aiJjXvEkEWRKJTlw37zuk.bcl4s5DZp-VhbzA_qnvDQ7SEvPEpQ50DR0NxtjZr_04&dib_tag=se&keywords=gitar&qid=1713778093&sprefix=gitar%2Caps%2C376&sr=8-36', 'https://www.amazon.in/Gadgets-Pattren-Musical-Instument-Decal_IC90/dp/B07F8PY6DM/ref=sr_1_37?crid=J2T429VLPU32&dib=eyJ2IjoiMSJ9.yMNWF0-ZbwuOEjMTW7AEIy-7cwmFzGIQSCMC8z4mYkiVJ0Q8PniDU9qCdaXZ8tskLJSjvtRT4fqk_HiRdcD3jN1e42deR3gi94NTNb95Qhx-y1hYK88UG6pWDbrstVpqFSJxkpIN84I0A5dW4NqfAJWvliGe3xSfuWSCL9wJuu3H2LxOA_93Cb43c8hStwljftK6qGu2zecg6WbBuEaUI8W8CATUQIqW0CnE5mF9G9w2jIaDiGXlIUK3RzxrG0xvtb4rDUvlmqGtiTl0932XH-aiJjXvEkEWRKJTlw37zuk.bcl4s5DZp-VhbzA_qnvDQ7SEvPEpQ50DR0NxtjZr_04&dib_tag=se&keywords=gitar&qid=1713778093&sprefix=gitar%2Caps%2C376&sr=8-37', 'https://www.amazon.in/Yamaha-FSX80C-Acoustic-Cutaway-Natural/dp/B09HL3GFZF/ref=sr_1_38?crid=J2T429VLPU32&dib=eyJ2IjoiMSJ9.yMNWF0-ZbwuOEjMTW7AEIy-7cwmFzGIQSCMC8z4mYkiVJ0Q8PniDU9qCdaXZ8tskLJSjvtRT4fqk_HiRdcD3jN1e42deR3gi94NTNb95Qhx-y1hYK88UG6pWDbrstVpqFSJxkpIN84I0A5dW4NqfAJWvliGe3xSfuWSCL9wJuu3H2LxOA_93Cb43c8hStwljftK6qGu2zecg6WbBuEaUI8W8CATUQIqW0CnE5mF9G9w2jIaDiGXlIUK3RzxrG0xvtb4rDUvlmqGtiTl0932XH-aiJjXvEkEWRKJTlw37zuk.bcl4s5DZp-VhbzA_qnvDQ7SEvPEpQ50DR0NxtjZr_04&dib_tag=se&keywords=gitar&qid=1713778093&sprefix=gitar%2Caps%2C376&sr=8-38', 'https://www.amazon.in/Kadence-Frontier-Acoustic-Sunburst-Strings/dp/B07T5DMPZ3/ref=sr_1_39?crid=J2T429VLPU32&dib=eyJ2IjoiMSJ9.yMNWF0-ZbwuOEjMTW7AEIy-7cwmFzGIQSCMC8z4mYkiVJ0Q8PniDU9qCdaXZ8tskLJSjvtRT4fqk_HiRdcD3jN1e42deR3gi94NTNb95Qhx-y1hYK88UG6pWDbrstVpqFSJxkpIN84I0A5dW4NqfAJWvliGe3xSfuWSCL9wJuu3H2LxOA_93Cb43c8hStwljftK6qGu2zecg6WbBuEaUI8W8CATUQIqW0CnE5mF9G9w2jIaDiGXlIUK3RzxrG0xvtb4rDUvlmqGtiTl0932XH-aiJjXvEkEWRKJTlw37zuk.bcl4s5DZp-VhbzA_qnvDQ7SEvPEpQ50DR0NxtjZr_04&dib_tag=se&keywords=gitar&qid=1713778093&sprefix=gitar%2Caps%2C376&sr=8-39', 'https://www.amazon.in/Medellin-Acoustic-Guitar-learning-Strings/dp/B0CCNSN6S4/ref=sr_1_40?crid=J2T429VLPU32&dib=eyJ2IjoiMSJ9.yMNWF0-ZbwuOEjMTW7AEIy-7cwmFzGIQSCMC8z4mYkiVJ0Q8PniDU9qCdaXZ8tskLJSjvtRT4fqk_HiRdcD3jN1e42deR3gi94NTNb95Qhx-y1hYK88UG6pWDbrstVpqFSJxkpIN84I0A5dW4NqfAJWvliGe3xSfuWSCL9wJuu3H2LxOA_93Cb43c8hStwljftK6qGu2zecg6WbBuEaUI8W8CATUQIqW0CnE5mF9G9w2jIaDiGXlIUK3RzxrG0xvtb4rDUvlmqGtiTl0932XH-aiJjXvEkEWRKJTlw37zuk.bcl4s5DZp-VhbzA_qnvDQ7SEvPEpQ50DR0NxtjZr_04&dib_tag=se&keywords=gitar&qid=1713778093&sprefix=gitar%2Caps%2C376&sr=8-40', 'https://www.amazon.in/Yamaha-F310-Acoustic-Guitar-Natural/dp/B08Z3C1GRM/ref=sr_1_41?crid=J2T429VLPU32&dib=eyJ2IjoiMSJ9.yMNWF0-ZbwuOEjMTW7AEIy-7cwmFzGIQSCMC8z4mYkiVJ0Q8PniDU9qCdaXZ8tskLJSjvtRT4fqk_HiRdcD3jN1e42deR3gi94NTNb95Qhx-y1hYK88UG6pWDbrstVpqFSJxkpIN84I0A5dW4NqfAJWvliGe3xSfuWSCL9wJuu3H2LxOA_93Cb43c8hStwljftK6qGu2zecg6WbBuEaUI8W8CATUQIqW0CnE5mF9G9w2jIaDiGXlIUK3RzxrG0xvtb4rDUvlmqGtiTl0932XH-aiJjXvEkEWRKJTlw37zuk.bcl4s5DZp-VhbzA_qnvDQ7SEvPEpQ50DR0NxtjZr_04&dib_tag=se&keywords=gitar&qid=1713778093&sprefix=gitar%2Caps%2C376&sr=8-41', 'https://www.amazon.in/FX280-acoustic-Dreadnought-Tobacco-Sunburst/dp/B09HR7BXGW/ref=sr_1_42?crid=J2T429VLPU32&dib=eyJ2IjoiMSJ9.yMNWF0-ZbwuOEjMTW7AEIy-7cwmFzGIQSCMC8z4mYkiVJ0Q8PniDU9qCdaXZ8tskLJSjvtRT4fqk_HiRdcD3jN1e42deR3gi94NTNb95Qhx-y1hYK88UG6pWDbrstVpqFSJxkpIN84I0A5dW4NqfAJWvliGe3xSfuWSCL9wJuu3H2LxOA_93Cb43c8hStwljftK6qGu2zecg6WbBuEaUI8W8CATUQIqW0CnE5mF9G9w2jIaDiGXlIUK3RzxrG0xvtb4rDUvlmqGtiTl0932XH-aiJjXvEkEWRKJTlw37zuk.bcl4s5DZp-VhbzA_qnvDQ7SEvPEpQ50DR0NxtjZr_04&dib_tag=se&keywords=gitar&qid=1713778093&sprefix=gitar%2Caps%2C376&sr=8-42', 'https://www.amazon.in/Juarez-Acoustic-Cutaway-BK-Strings/dp/B076T3RHMG/ref=sr_1_43?crid=J2T429VLPU32&dib=eyJ2IjoiMSJ9.yMNWF0-ZbwuOEjMTW7AEIy-7cwmFzGIQSCMC8z4mYkiVJ0Q8PniDU9qCdaXZ8tskLJSjvtRT4fqk_HiRdcD3jN1e42deR3gi94NTNb95Qhx-y1hYK88UG6pWDbrstVpqFSJxkpIN84I0A5dW4NqfAJWvliGe3xSfuWSCL9wJuu3H2LxOA_93Cb43c8hStwljftK6qGu2zecg6WbBuEaUI8W8CATUQIqW0CnE5mF9G9w2jIaDiGXlIUK3RzxrG0xvtb4rDUvlmqGtiTl0932XH-aiJjXvEkEWRKJTlw37zuk.bcl4s5DZp-VhbzA_qnvDQ7SEvPEpQ50DR0NxtjZr_04&dib_tag=se&keywords=gitar&qid=1713778093&sprefix=gitar%2Caps%2C376&sr=8-43', 'https://www.amazon.in/JUAREZ-Arpeggio-Guitar-JRA39SR-BL-K-blue/dp/B08MWB5Y67/ref=sr_1_44?crid=J2T429VLPU32&dib=eyJ2IjoiMSJ9.yMNWF0-ZbwuOEjMTW7AEIy-7cwmFzGIQSCMC8z4mYkiVJ0Q8PniDU9qCdaXZ8tskLJSjvtRT4fqk_HiRdcD3jN1e42deR3gi94NTNb95Qhx-y1hYK88UG6pWDbrstVpqFSJxkpIN84I0A5dW4NqfAJWvliGe3xSfuWSCL9wJuu3H2LxOA_93Cb43c8hStwljftK6qGu2zecg6WbBuEaUI8W8CATUQIqW0CnE5mF9G9w2jIaDiGXlIUK3RzxrG0xvtb4rDUvlmqGtiTl0932XH-aiJjXvEkEWRKJTlw37zuk.bcl4s5DZp-VhbzA_qnvDQ7SEvPEpQ50DR0NxtjZr_04&dib_tag=se&keywords=gitar&qid=1713778093&sprefix=gitar%2Caps%2C376&sr=8-44', 'https://www.amazon.in/Kadence-Frontier-Acoustic-Guitar-Strings/dp/B01GDZ46AA/ref=sr_1_45?crid=J2T429VLPU32&dib=eyJ2IjoiMSJ9.yMNWF0-ZbwuOEjMTW7AEIy-7cwmFzGIQSCMC8z4mYkiVJ0Q8PniDU9qCdaXZ8tskLJSjvtRT4fqk_HiRdcD3jN1e42deR3gi94NTNb95Qhx-y1hYK88UG6pWDbrstVpqFSJxkpIN84I0A5dW4NqfAJWvliGe3xSfuWSCL9wJuu3H2LxOA_93Cb43c8hStwljftK6qGu2zecg6WbBuEaUI8W8CATUQIqW0CnE5mF9G9w2jIaDiGXlIUK3RzxrG0xvtb4rDUvlmqGtiTl0932XH-aiJjXvEkEWRKJTlw37zuk.bcl4s5DZp-VhbzA_qnvDQ7SEvPEpQ50DR0NxtjZr_04&dib_tag=se&keywords=gitar&qid=1713778093&sprefix=gitar%2Caps%2C376&sr=8-45', 'https://www.amazon.in/Fender-0379410502-Anniversary-Stratocaster-Electric/dp/B09RX4BQPX/ref=sr_1_46?crid=J2T429VLPU32&dib=eyJ2IjoiMSJ9.yMNWF0-ZbwuOEjMTW7AEIy-7cwmFzGIQSCMC8z4mYkiVJ0Q8PniDU9qCdaXZ8tskLJSjvtRT4fqk_HiRdcD3jN1e42deR3gi94NTNb95Qhx-y1hYK88UG6pWDbrstVpqFSJxkpIN84I0A5dW4NqfAJWvliGe3xSfuWSCL9wJuu3H2LxOA_93Cb43c8hStwljftK6qGu2zecg6WbBuEaUI8W8CATUQIqW0CnE5mF9G9w2jIaDiGXlIUK3RzxrG0xvtb4rDUvlmqGtiTl0932XH-aiJjXvEkEWRKJTlw37zuk.bcl4s5DZp-VhbzA_qnvDQ7SEvPEpQ50DR0NxtjZr_04&dib_tag=se&keywords=gitar&qid=1713778093&sprefix=gitar%2Caps%2C376&sr=8-46', 'https://www.amazon.in/Alice-A206-Phosphor-Bronze-Strings/dp/B00QAFCNK4/ref=sr_1_47?crid=J2T429VLPU32&dib=eyJ2IjoiMSJ9.yMNWF0-ZbwuOEjMTW7AEIy-7cwmFzGIQSCMC8z4mYkiVJ0Q8PniDU9qCdaXZ8tskLJSjvtRT4fqk_HiRdcD3jN1e42deR3gi94NTNb95Qhx-y1hYK88UG6pWDbrstVpqFSJxkpIN84I0A5dW4NqfAJWvliGe3xSfuWSCL9wJuu3H2LxOA_93Cb43c8hStwljftK6qGu2zecg6WbBuEaUI8W8CATUQIqW0CnE5mF9G9w2jIaDiGXlIUK3RzxrG0xvtb4rDUvlmqGtiTl0932XH-aiJjXvEkEWRKJTlw37zuk.bcl4s5DZp-VhbzA_qnvDQ7SEvPEpQ50DR0NxtjZr_04&dib_tag=se&keywords=gitar&qid=1713778093&sprefix=gitar%2Caps%2C376&sr=8-47', 'https://www.amazon.in/Kadence-Frontier-Acoustic-Guitar-Strings/dp/B078GTJP5Y/ref=sr_1_48?crid=J2T429VLPU32&dib=eyJ2IjoiMSJ9.yMNWF0-ZbwuOEjMTW7AEIy-7cwmFzGIQSCMC8z4mYkiVJ0Q8PniDU9qCdaXZ8tskLJSjvtRT4fqk_HiRdcD3jN1e42deR3gi94NTNb95Qhx-y1hYK88UG6pWDbrstVpqFSJxkpIN84I0A5dW4NqfAJWvliGe3xSfuWSCL9wJuu3H2LxOA_93Cb43c8hStwljftK6qGu2zecg6WbBuEaUI8W8CATUQIqW0CnE5mF9G9w2jIaDiGXlIUK3RzxrG0xvtb4rDUvlmqGtiTl0932XH-aiJjXvEkEWRKJTlw37zuk.bcl4s5DZp-VhbzA_qnvDQ7SEvPEpQ50DR0NxtjZr_04&dib_tag=se&keywords=gitar&qid=1713778093&sprefix=gitar%2Caps%2C376&sr=8-48', 'https://www.amazon.in/Fender-0118802806-Signature-Stratocaster-Right-Handed/dp/B003EJXU56/ref=sr_1_49?crid=J2T429VLPU32&dib=eyJ2IjoiMSJ9.yMNWF0-ZbwuOEjMTW7AEIy-7cwmFzGIQSCMC8z4mYkiVJ0Q8PniDU9qCdaXZ8tskLJSjvtRT4fqk_HiRdcD3jN1e42deR3gi94NTNb95Qhx-y1hYK88UG6pWDbrstVpqFSJxkpIN84I0A5dW4NqfAJWvliGe3xSfuWSCL9wJuu3H2LxOA_93Cb43c8hStwljftK6qGu2zecg6WbBuEaUI8W8CATUQIqW0CnE5mF9G9w2jIaDiGXlIUK3RzxrG0xvtb4rDUvlmqGtiTl0932XH-aiJjXvEkEWRKJTlw37zuk.bcl4s5DZp-VhbzA_qnvDQ7SEvPEpQ50DR0NxtjZr_04&dib_tag=se&keywords=gitar&qid=1713778093&sprefix=gitar%2Caps%2C376&sr=8-49', 'https://www.amazon.in/Blueberry-38C-Acoustic-Guitar-Strings/dp/B08KLMV4XX/ref=sr_1_50?crid=J2T429VLPU32&dib=eyJ2IjoiMSJ9.yMNWF0-ZbwuOEjMTW7AEIy-7cwmFzGIQSCMC8z4mYkiVJ0Q8PniDU9qCdaXZ8tskLJSjvtRT4fqk_HiRdcD3jN1e42deR3gi94NTNb95Qhx-y1hYK88UG6pWDbrstVpqFSJxkpIN84I0A5dW4NqfAJWvliGe3xSfuWSCL9wJuu3H2LxOA_93Cb43c8hStwljftK6qGu2zecg6WbBuEaUI8W8CATUQIqW0CnE5mF9G9w2jIaDiGXlIUK3RzxrG0xvtb4rDUvlmqGtiTl0932XH-aiJjXvEkEWRKJTlw37zuk.bcl4s5DZp-VhbzA_qnvDQ7SEvPEpQ50DR0NxtjZr_04&dib_tag=se&keywords=gitar&qid=1713778093&sprefix=gitar%2Caps%2C376&sr=8-50', 'https://www.amazon.in/Cutaway-Acoustic-Humidity-resistance-resonance/dp/B09RRH7R5F/ref=sr_1_51?crid=J2T429VLPU32&dib=eyJ2IjoiMSJ9.yMNWF0-ZbwuOEjMTW7AEIy-7cwmFzGIQSCMC8z4mYkiVJ0Q8PniDU9qCdaXZ8tskLJSjvtRT4fqk_HiRdcD3jN1e42deR3gi94NTNb95Qhx-y1hYK88UG6pWDbrstVpqFSJxkpIN84I0A5dW4NqfAJWvliGe3xSfuWSCL9wJuu3H2LxOA_93Cb43c8hStwljftK6qGu2zecg6WbBuEaUI8W8CATUQIqW0CnE5mF9G9w2jIaDiGXlIUK3RzxrG0xvtb4rDUvlmqGtiTl0932XH-aiJjXvEkEWRKJTlw37zuk.bcl4s5DZp-VhbzA_qnvDQ7SEvPEpQ50DR0NxtjZr_04&dib_tag=se&keywords=gitar&qid=1713778093&sprefix=gitar%2Caps%2C376&sr=8-51', 'https://www.amazon.in/Acoustic-Cutaway-TBLS-Strings-Sunburst/dp/B098BCCY75/ref=sr_1_52?crid=J2T429VLPU32&dib=eyJ2IjoiMSJ9.yMNWF0-ZbwuOEjMTW7AEIy-7cwmFzGIQSCMC8z4mYkiVJ0Q8PniDU9qCdaXZ8tskLJSjvtRT4fqk_HiRdcD3jN1e42deR3gi94NTNb95Qhx-y1hYK88UG6pWDbrstVpqFSJxkpIN84I0A5dW4NqfAJWvliGe3xSfuWSCL9wJuu3H2LxOA_93Cb43c8hStwljftK6qGu2zecg6WbBuEaUI8W8CATUQIqW0CnE5mF9G9w2jIaDiGXlIUK3RzxrG0xvtb4rDUvlmqGtiTl0932XH-aiJjXvEkEWRKJTlw37zuk.bcl4s5DZp-VhbzA_qnvDQ7SEvPEpQ50DR0NxtjZr_04&dib_tag=se&keywords=gitar&qid=1713778093&sprefix=gitar%2Caps%2C376&sr=8-52', 'https://www.amazon.in/Blueberry-B-D38-Acoustic-Inbuilt-Strings/dp/B0B74CSY9V/ref=sr_1_53?crid=J2T429VLPU32&dib=eyJ2IjoiMSJ9.yMNWF0-ZbwuOEjMTW7AEIy-7cwmFzGIQSCMC8z4mYkiVJ0Q8PniDU9qCdaXZ8tskLJSjvtRT4fqk_HiRdcD3jN1e42deR3gi94NTNb95Qhx-y1hYK88UG6pWDbrstVpqFSJxkpIN84I0A5dW4NqfAJWvliGe3xSfuWSCL9wJuu3H2LxOA_93Cb43c8hStwljftK6qGu2zecg6WbBuEaUI8W8CATUQIqW0CnE5mF9G9w2jIaDiGXlIUK3RzxrG0xvtb4rDUvlmqGtiTl0932XH-aiJjXvEkEWRKJTlw37zuk.bcl4s5DZp-VhbzA_qnvDQ7SEvPEpQ50DR0NxtjZr_04&dib_tag=se&keywords=gitar&qid=1713778093&sprefix=gitar%2Caps%2C376&sr=8-53', 'https://www.amazon.in/Vault-ST1-Premium-Electric-Guitar/dp/B09GLYTF76/ref=sr_1_54?crid=J2T429VLPU32&dib=eyJ2IjoiMSJ9.yMNWF0-ZbwuOEjMTW7AEIy-7cwmFzGIQSCMC8z4mYkiVJ0Q8PniDU9qCdaXZ8tskLJSjvtRT4fqk_HiRdcD3jN1e42deR3gi94NTNb95Qhx-y1hYK88UG6pWDbrstVpqFSJxkpIN84I0A5dW4NqfAJWvliGe3xSfuWSCL9wJuu3H2LxOA_93Cb43c8hStwljftK6qGu2zecg6WbBuEaUI8W8CATUQIqW0CnE5mF9G9w2jIaDiGXlIUK3RzxrG0xvtb4rDUvlmqGtiTl0932XH-aiJjXvEkEWRKJTlw37zuk.bcl4s5DZp-VhbzA_qnvDQ7SEvPEpQ50DR0NxtjZr_04&dib_tag=se&keywords=gitar&qid=1713778093&sprefix=gitar%2Caps%2C376&sr=8-54', 'https://www.amazon.in/Traveller-Acoustic-Guitar-Strings-Polishing/dp/B07RK9962M/ref=sr_1_55?crid=J2T429VLPU32&dib=eyJ2IjoiMSJ9.yMNWF0-ZbwuOEjMTW7AEIy-7cwmFzGIQSCMC8z4mYkiVJ0Q8PniDU9qCdaXZ8tskLJSjvtRT4fqk_HiRdcD3jN1e42deR3gi94NTNb95Qhx-y1hYK88UG6pWDbrstVpqFSJxkpIN84I0A5dW4NqfAJWvliGe3xSfuWSCL9wJuu3H2LxOA_93Cb43c8hStwljftK6qGu2zecg6WbBuEaUI8W8CATUQIqW0CnE5mF9G9w2jIaDiGXlIUK3RzxrG0xvtb4rDUvlmqGtiTl0932XH-aiJjXvEkEWRKJTlw37zuk.bcl4s5DZp-VhbzA_qnvDQ7SEvPEpQ50DR0NxtjZr_04&dib_tag=se&keywords=gitar&qid=1713778093&sprefix=gitar%2Caps%2C376&sr=8-55', 'https://www.amazon.in/Kadence-A281BK-Professional-Acoustic-Rosewood/dp/B0CD7D6C6R/ref=sr_1_56?crid=J2T429VLPU32&dib=eyJ2IjoiMSJ9.yMNWF0-ZbwuOEjMTW7AEIy-7cwmFzGIQSCMC8z4mYkiVJ0Q8PniDU9qCdaXZ8tskLJSjvtRT4fqk_HiRdcD3jN1e42deR3gi94NTNb95Qhx-y1hYK88UG6pWDbrstVpqFSJxkpIN84I0A5dW4NqfAJWvliGe3xSfuWSCL9wJuu3H2LxOA_93Cb43c8hStwljftK6qGu2zecg6WbBuEaUI8W8CATUQIqW0CnE5mF9G9w2jIaDiGXlIUK3RzxrG0xvtb4rDUvlmqGtiTl0932XH-aiJjXvEkEWRKJTlw37zuk.bcl4s5DZp-VhbzA_qnvDQ7SEvPEpQ50DR0NxtjZr_04&dib_tag=se&keywords=gitar&qid=1713778093&sprefix=gitar%2Caps%2C376&sr=8-56', 'https://www.amazon.in/sspa/click?ie=UTF8&spc=MTo1NzY2ODIwNjU4NDA3MTEyOjE3MTM3NzgwOTM6c3BfYnRmOjMwMDE0MTc5MzY3NTMzMjo6MDo6&url=%2FGuitar-Tailpiece-Guitars-Bridge-Replacement%2Fdp%2FB0BWYSZW1Y%2Fref%3Dsr_1_57_sspa%3Fcrid%3DJ2T429VLPU32%26dib%3DeyJ2IjoiMSJ9.yMNWF0-ZbwuOEjMTW7AEIy-7cwmFzGIQSCMC8z4mYkiVJ0Q8PniDU9qCdaXZ8tskLJSjvtRT4fqk_HiRdcD3jN1e42deR3gi94NTNb95Qhx-y1hYK88UG6pWDbrstVpqFSJxkpIN84I0A5dW4NqfAJWvliGe3xSfuWSCL9wJuu3H2LxOA_93Cb43c8hStwljftK6qGu2zecg6WbBuEaUI8W8CATUQIqW0CnE5mF9G9w2jIaDiGXlIUK3RzxrG0xvtb4rDUvlmqGtiTl0932XH-aiJjXvEkEWRKJTlw37zuk.bcl4s5DZp-VhbzA_qnvDQ7SEvPEpQ50DR0NxtjZr_04%26dib_tag%3Dse%26keywords%3Dgitar%26qid%3D1713778093%26sprefix%3Dgitar%252Caps%252C376%26sr%3D8-57-spons%26sp_csd%3Dd2lkZ2V0TmFtZT1zcF9idGY%26psc%3D1', 'https://www.amazon.in/sspa/click?ie=UTF8&spc=MTo1NzY2ODIwNjU4NDA3MTEyOjE3MTM3NzgwOTM6c3BfYnRmOjMwMDE1MTQ1NDkxODkzMjo6MDo6&url=%2FSG-Musical-Anti-Slip-Accessories-Frame%2Fdp%2FB0BG5HYYQL%2Fref%3Dsr_1_58_sspa%3Fcrid%3DJ2T429VLPU32%26dib%3DeyJ2IjoiMSJ9.yMNWF0-ZbwuOEjMTW7AEIy-7cwmFzGIQSCMC8z4mYkiVJ0Q8PniDU9qCdaXZ8tskLJSjvtRT4fqk_HiRdcD3jN1e42deR3gi94NTNb95Qhx-y1hYK88UG6pWDbrstVpqFSJxkpIN84I0A5dW4NqfAJWvliGe3xSfuWSCL9wJuu3H2LxOA_93Cb43c8hStwljftK6qGu2zecg6WbBuEaUI8W8CATUQIqW0CnE5mF9G9w2jIaDiGXlIUK3RzxrG0xvtb4rDUvlmqGtiTl0932XH-aiJjXvEkEWRKJTlw37zuk.bcl4s5DZp-VhbzA_qnvDQ7SEvPEpQ50DR0NxtjZr_04%26dib_tag%3Dse%26keywords%3Dgitar%26qid%3D1713778093%26sprefix%3Dgitar%252Caps%252C376%26sr%3D8-58-spons%26sp_csd%3Dd2lkZ2V0TmFtZT1zcF9idGY%26psc%3D1', 'https://www.amazon.in/sspa/click?ie=UTF8&spc=MTo1NzY2ODIwNjU4NDA3MTEyOjE3MTM3NzgwOTM6c3BfYnRmOjMwMDE0NTc0NjU3MTQzMjo6MDo6&url=%2FSG-Musical-Guitar-silicon-fingers%2Fdp%2FB0BD4B826N%2Fref%3Dsr_1_59_sspa%3Fcrid%3DJ2T429VLPU32%26dib%3DeyJ2IjoiMSJ9.yMNWF0-ZbwuOEjMTW7AEIy-7cwmFzGIQSCMC8z4mYkiVJ0Q8PniDU9qCdaXZ8tskLJSjvtRT4fqk_HiRdcD3jN1e42deR3gi94NTNb95Qhx-y1hYK88UG6pWDbrstVpqFSJxkpIN84I0A5dW4NqfAJWvliGe3xSfuWSCL9wJuu3H2LxOA_93Cb43c8hStwljftK6qGu2zecg6WbBuEaUI8W8CATUQIqW0CnE5mF9G9w2jIaDiGXlIUK3RzxrG0xvtb4rDUvlmqGtiTl0932XH-aiJjXvEkEWRKJTlw37zuk.bcl4s5DZp-VhbzA_qnvDQ7SEvPEpQ50DR0NxtjZr_04%26dib_tag%3Dse%26keywords%3Dgitar%26qid%3D1713778093%26sprefix%3Dgitar%252Caps%252C376%26sr%3D8-59-spons%26sp_csd%3Dd2lkZ2V0TmFtZT1zcF9idGY%26psc%3D1', 'https://www.amazon.in/sspa/click?ie=UTF8&spc=MTo1NzY2ODIwNjU4NDA3MTEyOjE3MTM3NzgwOTM6c3BfYnRmOjMwMDE1MTQ1NDkxODgzMjo6MDo6&url=%2FSG-Musical-Metal-Guitar-Universal%2Fdp%2FB0BG5M472T%2Fref%3Dsr_1_60_sspa%3Fcrid%3DJ2T429VLPU32%26dib%3DeyJ2IjoiMSJ9.yMNWF0-ZbwuOEjMTW7AEIy-7cwmFzGIQSCMC8z4mYkiVJ0Q8PniDU9qCdaXZ8tskLJSjvtRT4fqk_HiRdcD3jN1e42deR3gi94NTNb95Qhx-y1hYK88UG6pWDbrstVpqFSJxkpIN84I0A5dW4NqfAJWvliGe3xSfuWSCL9wJuu3H2LxOA_93Cb43c8hStwljftK6qGu2zecg6WbBuEaUI8W8CATUQIqW0CnE5mF9G9w2jIaDiGXlIUK3RzxrG0xvtb4rDUvlmqGtiTl0932XH-aiJjXvEkEWRKJTlw37zuk.bcl4s5DZp-VhbzA_qnvDQ7SEvPEpQ50DR0NxtjZr_04%26dib_tag%3Dse%26keywords%3Dgitar%26qid%3D1713778093%26sprefix%3Dgitar%252Caps%252C376%26sr%3D8-60-spons%26sp_csd%3Dd2lkZ2V0TmFtZT1zcF9idGY%26psc%3D1']\n",
      "['https://www.amazon.in/sspa/click?ie=UTF8&spc=MTo1NzY2ODIwNjU4NDA3MTEyOjE3MTM3NzgwOTM6c3BfYXRmOjMwMDAxNTUzNzk3OTIzMjo6MDo6&url=%2FKadence-Frontier-Acoustic-Guitar-Strings%2Fdp%2FB078GTJP5Y%2Fref%3Dsr_1_1_sspa%3Fcrid%3DJ2T429VLPU32%26dib%3DeyJ2IjoiMSJ9.yMNWF0-ZbwuOEjMTW7AEIy-7cwmFzGIQSCMC8z4mYkiVJ0Q8PniDU9qCdaXZ8tskLJSjvtRT4fqk_HiRdcD3jN1e42deR3gi94NTNb95Qhx-y1hYK88UG6pWDbrstVpqFSJxkpIN84I0A5dW4NqfAJWvliGe3xSfuWSCL9wJuu3H2LxOA_93Cb43c8hStwljftK6qGu2zecg6WbBuEaUI8W8CATUQIqW0CnE5mF9G9w2jIaDiGXlIUK3RzxrG0xvtb4rDUvlmqGtiTl0932XH-aiJjXvEkEWRKJTlw37zuk.bcl4s5DZp-VhbzA_qnvDQ7SEvPEpQ50DR0NxtjZr_04%26dib_tag%3Dse%26keywords%3Dgitar%26qid%3D1713778093%26sprefix%3Dgitar%252Caps%252C376%26sr%3D8-1-spons%26sp_csd%3Dd2lkZ2V0TmFtZT1zcF9hdGY%26psc%3D1', 'https://www.amazon.in/sspa/click?ie=UTF8&spc=MTo1NzY2ODIwNjU4NDA3MTEyOjE3MTM3NzgwOTM6c3BfYXRmOjIwMDUwNzcxNjg2MjA0OjowOjo&url=%2FHenrix-Acoustic-Guitar-Die-cast-Dual-action%2Fdp%2FB07VNDW6QF%2Fref%3Dsr_1_2_sspa%3Fcrid%3DJ2T429VLPU32%26dib%3DeyJ2IjoiMSJ9.yMNWF0-ZbwuOEjMTW7AEIy-7cwmFzGIQSCMC8z4mYkiVJ0Q8PniDU9qCdaXZ8tskLJSjvtRT4fqk_HiRdcD3jN1e42deR3gi94NTNb95Qhx-y1hYK88UG6pWDbrstVpqFSJxkpIN84I0A5dW4NqfAJWvliGe3xSfuWSCL9wJuu3H2LxOA_93Cb43c8hStwljftK6qGu2zecg6WbBuEaUI8W8CATUQIqW0CnE5mF9G9w2jIaDiGXlIUK3RzxrG0xvtb4rDUvlmqGtiTl0932XH-aiJjXvEkEWRKJTlw37zuk.bcl4s5DZp-VhbzA_qnvDQ7SEvPEpQ50DR0NxtjZr_04%26dib_tag%3Dse%26keywords%3Dgitar%26qid%3D1713778093%26sprefix%3Dgitar%252Caps%252C376%26sr%3D8-2-spons%26sp_csd%3Dd2lkZ2V0TmFtZT1zcF9hdGY%26psc%3D1', 'https://www.amazon.in/sspa/click?ie=UTF8&spc=MTo1NzY2ODIwNjU4NDA3MTEyOjE3MTM3NzgwOTM6c3BfYXRmOjMwMDAxNTUwODk1NDEzMjo6MDo6&url=%2FKadence-Frontier-Acoustic-Guitar-Strings%2Fdp%2FB01GDZ46AA%2Fref%3Dsr_1_3_sspa%3Fcrid%3DJ2T429VLPU32%26dib%3DeyJ2IjoiMSJ9.yMNWF0-ZbwuOEjMTW7AEIy-7cwmFzGIQSCMC8z4mYkiVJ0Q8PniDU9qCdaXZ8tskLJSjvtRT4fqk_HiRdcD3jN1e42deR3gi94NTNb95Qhx-y1hYK88UG6pWDbrstVpqFSJxkpIN84I0A5dW4NqfAJWvliGe3xSfuWSCL9wJuu3H2LxOA_93Cb43c8hStwljftK6qGu2zecg6WbBuEaUI8W8CATUQIqW0CnE5mF9G9w2jIaDiGXlIUK3RzxrG0xvtb4rDUvlmqGtiTl0932XH-aiJjXvEkEWRKJTlw37zuk.bcl4s5DZp-VhbzA_qnvDQ7SEvPEpQ50DR0NxtjZr_04%26dib_tag%3Dse%26keywords%3Dgitar%26qid%3D1713778093%26sprefix%3Dgitar%252Caps%252C376%26sr%3D8-3-spons%26sp_csd%3Dd2lkZ2V0TmFtZT1zcF9hdGY%26psc%3D1', 'https://www.amazon.in/sspa/click?ie=UTF8&spc=MTo1NzY2ODIwNjU4NDA3MTEyOjE3MTM3NzgwOTM6c3BfYXRmOjMwMDAzNDc3Mzk4MDUzMjo6MDo6&url=%2FKadence-Professional-Acoustic-Rosewood-Natural%2Fdp%2FB0CC927DLN%2Fref%3Dsr_1_4_sspa%3Fcrid%3DJ2T429VLPU32%26dib%3DeyJ2IjoiMSJ9.yMNWF0-ZbwuOEjMTW7AEIy-7cwmFzGIQSCMC8z4mYkiVJ0Q8PniDU9qCdaXZ8tskLJSjvtRT4fqk_HiRdcD3jN1e42deR3gi94NTNb95Qhx-y1hYK88UG6pWDbrstVpqFSJxkpIN84I0A5dW4NqfAJWvliGe3xSfuWSCL9wJuu3H2LxOA_93Cb43c8hStwljftK6qGu2zecg6WbBuEaUI8W8CATUQIqW0CnE5mF9G9w2jIaDiGXlIUK3RzxrG0xvtb4rDUvlmqGtiTl0932XH-aiJjXvEkEWRKJTlw37zuk.bcl4s5DZp-VhbzA_qnvDQ7SEvPEpQ50DR0NxtjZr_04%26dib_tag%3Dse%26keywords%3Dgitar%26qid%3D1713778093%26sprefix%3Dgitar%252Caps%252C376%26sr%3D8-4-spons%26sp_csd%3Dd2lkZ2V0TmFtZT1zcF9hdGY%26psc%3D1', 'https://www.amazon.in/JUAREZ-JRZ38C-Handed-Acoustic-Strings/dp/B01FYYTDX6/ref=sr_1_5?crid=J2T429VLPU32&dib=eyJ2IjoiMSJ9.yMNWF0-ZbwuOEjMTW7AEIy-7cwmFzGIQSCMC8z4mYkiVJ0Q8PniDU9qCdaXZ8tskLJSjvtRT4fqk_HiRdcD3jN1e42deR3gi94NTNb95Qhx-y1hYK88UG6pWDbrstVpqFSJxkpIN84I0A5dW4NqfAJWvliGe3xSfuWSCL9wJuu3H2LxOA_93Cb43c8hStwljftK6qGu2zecg6WbBuEaUI8W8CATUQIqW0CnE5mF9G9w2jIaDiGXlIUK3RzxrG0xvtb4rDUvlmqGtiTl0932XH-aiJjXvEkEWRKJTlw37zuk.bcl4s5DZp-VhbzA_qnvDQ7SEvPEpQ50DR0NxtjZr_04&dib_tag=se&keywords=gitar&qid=1713778093&sprefix=gitar%2Caps%2C376&sr=8-5', 'https://www.amazon.in/4-String-Learning-Childrens-Instrument-Beginners/dp/B08KP66ZZN/ref=sr_1_6?crid=J2T429VLPU32&dib=eyJ2IjoiMSJ9.yMNWF0-ZbwuOEjMTW7AEIy-7cwmFzGIQSCMC8z4mYkiVJ0Q8PniDU9qCdaXZ8tskLJSjvtRT4fqk_HiRdcD3jN1e42deR3gi94NTNb95Qhx-y1hYK88UG6pWDbrstVpqFSJxkpIN84I0A5dW4NqfAJWvliGe3xSfuWSCL9wJuu3H2LxOA_93Cb43c8hStwljftK6qGu2zecg6WbBuEaUI8W8CATUQIqW0CnE5mF9G9w2jIaDiGXlIUK3RzxrG0xvtb4rDUvlmqGtiTl0932XH-aiJjXvEkEWRKJTlw37zuk.bcl4s5DZp-VhbzA_qnvDQ7SEvPEpQ50DR0NxtjZr_04&dib_tag=se&keywords=gitar&qid=1713778093&sprefix=gitar%2Caps%2C376&sr=8-6', 'https://www.amazon.in/Medellin-MED-BLU-C-Linden-Acoustic-Guitar/dp/B07NBMWHJW/ref=sr_1_7?crid=J2T429VLPU32&dib=eyJ2IjoiMSJ9.yMNWF0-ZbwuOEjMTW7AEIy-7cwmFzGIQSCMC8z4mYkiVJ0Q8PniDU9qCdaXZ8tskLJSjvtRT4fqk_HiRdcD3jN1e42deR3gi94NTNb95Qhx-y1hYK88UG6pWDbrstVpqFSJxkpIN84I0A5dW4NqfAJWvliGe3xSfuWSCL9wJuu3H2LxOA_93Cb43c8hStwljftK6qGu2zecg6WbBuEaUI8W8CATUQIqW0CnE5mF9G9w2jIaDiGXlIUK3RzxrG0xvtb4rDUvlmqGtiTl0932XH-aiJjXvEkEWRKJTlw37zuk.bcl4s5DZp-VhbzA_qnvDQ7SEvPEpQ50DR0NxtjZr_04&dib_tag=se&keywords=gitar&qid=1713778093&sprefix=gitar%2Caps%2C376&sr=8-7', 'https://www.amazon.in/JRZ38C-VTS-Strings-Acoustic-Cutaway/dp/B072MFLQC9/ref=sr_1_8?crid=J2T429VLPU32&dib=eyJ2IjoiMSJ9.yMNWF0-ZbwuOEjMTW7AEIy-7cwmFzGIQSCMC8z4mYkiVJ0Q8PniDU9qCdaXZ8tskLJSjvtRT4fqk_HiRdcD3jN1e42deR3gi94NTNb95Qhx-y1hYK88UG6pWDbrstVpqFSJxkpIN84I0A5dW4NqfAJWvliGe3xSfuWSCL9wJuu3H2LxOA_93Cb43c8hStwljftK6qGu2zecg6WbBuEaUI8W8CATUQIqW0CnE5mF9G9w2jIaDiGXlIUK3RzxrG0xvtb4rDUvlmqGtiTl0932XH-aiJjXvEkEWRKJTlw37zuk.bcl4s5DZp-VhbzA_qnvDQ7SEvPEpQ50DR0NxtjZr_04&dib_tag=se&keywords=gitar&qid=1713778093&sprefix=gitar%2Caps%2C376&sr=8-8', 'https://www.amazon.in/Acoustic-Cutaway-RDS-Strings-Sunburst/dp/B076QGY91P/ref=sr_1_9?crid=J2T429VLPU32&dib=eyJ2IjoiMSJ9.yMNWF0-ZbwuOEjMTW7AEIy-7cwmFzGIQSCMC8z4mYkiVJ0Q8PniDU9qCdaXZ8tskLJSjvtRT4fqk_HiRdcD3jN1e42deR3gi94NTNb95Qhx-y1hYK88UG6pWDbrstVpqFSJxkpIN84I0A5dW4NqfAJWvliGe3xSfuWSCL9wJuu3H2LxOA_93Cb43c8hStwljftK6qGu2zecg6WbBuEaUI8W8CATUQIqW0CnE5mF9G9w2jIaDiGXlIUK3RzxrG0xvtb4rDUvlmqGtiTl0932XH-aiJjXvEkEWRKJTlw37zuk.bcl4s5DZp-VhbzA_qnvDQ7SEvPEpQ50DR0NxtjZr_04&dib_tag=se&keywords=gitar&qid=1713778093&sprefix=gitar%2Caps%2C376&sr=8-9', 'https://www.amazon.in/JUAREZ-JRZ38C-3TSNA/dp/B0BCQQRDF3/ref=sr_1_10?crid=J2T429VLPU32&dib=eyJ2IjoiMSJ9.yMNWF0-ZbwuOEjMTW7AEIy-7cwmFzGIQSCMC8z4mYkiVJ0Q8PniDU9qCdaXZ8tskLJSjvtRT4fqk_HiRdcD3jN1e42deR3gi94NTNb95Qhx-y1hYK88UG6pWDbrstVpqFSJxkpIN84I0A5dW4NqfAJWvliGe3xSfuWSCL9wJuu3H2LxOA_93Cb43c8hStwljftK6qGu2zecg6WbBuEaUI8W8CATUQIqW0CnE5mF9G9w2jIaDiGXlIUK3RzxrG0xvtb4rDUvlmqGtiTl0932XH-aiJjXvEkEWRKJTlw37zuk.bcl4s5DZp-VhbzA_qnvDQ7SEvPEpQ50DR0NxtjZr_04&dib_tag=se&keywords=gitar&qid=1713778093&sprefix=gitar%2Caps%2C376&sr=8-10', 'https://www.amazon.in/Intern-38-inch-Cutaway-Design-Acoustic/dp/B07X4PN85R/ref=sr_1_11?crid=J2T429VLPU32&dib=eyJ2IjoiMSJ9.yMNWF0-ZbwuOEjMTW7AEIy-7cwmFzGIQSCMC8z4mYkiVJ0Q8PniDU9qCdaXZ8tskLJSjvtRT4fqk_HiRdcD3jN1e42deR3gi94NTNb95Qhx-y1hYK88UG6pWDbrstVpqFSJxkpIN84I0A5dW4NqfAJWvliGe3xSfuWSCL9wJuu3H2LxOA_93Cb43c8hStwljftK6qGu2zecg6WbBuEaUI8W8CATUQIqW0CnE5mF9G9w2jIaDiGXlIUK3RzxrG0xvtb4rDUvlmqGtiTl0932XH-aiJjXvEkEWRKJTlw37zuk.bcl4s5DZp-VhbzA_qnvDQ7SEvPEpQ50DR0NxtjZr_04&dib_tag=se&keywords=gitar&qid=1713778093&sprefix=gitar%2Caps%2C376&sr=8-11', 'https://www.amazon.in/Juarez-Acoustic-Cutaway-038C-Strings/dp/B017NPCSLI/ref=sr_1_12?crid=J2T429VLPU32&dib=eyJ2IjoiMSJ9.yMNWF0-ZbwuOEjMTW7AEIy-7cwmFzGIQSCMC8z4mYkiVJ0Q8PniDU9qCdaXZ8tskLJSjvtRT4fqk_HiRdcD3jN1e42deR3gi94NTNb95Qhx-y1hYK88UG6pWDbrstVpqFSJxkpIN84I0A5dW4NqfAJWvliGe3xSfuWSCL9wJuu3H2LxOA_93Cb43c8hStwljftK6qGu2zecg6WbBuEaUI8W8CATUQIqW0CnE5mF9G9w2jIaDiGXlIUK3RzxrG0xvtb4rDUvlmqGtiTl0932XH-aiJjXvEkEWRKJTlw37zuk.bcl4s5DZp-VhbzA_qnvDQ7SEvPEpQ50DR0NxtjZr_04&dib_tag=se&keywords=gitar&qid=1713778093&sprefix=gitar%2Caps%2C376&sr=8-12', 'https://www.amazon.in/Henrix-Cutaway-Acoustic-Guitar-Action/dp/B097NCQFFM/ref=sr_1_13?crid=J2T429VLPU32&dib=eyJ2IjoiMSJ9.yMNWF0-ZbwuOEjMTW7AEIy-7cwmFzGIQSCMC8z4mYkiVJ0Q8PniDU9qCdaXZ8tskLJSjvtRT4fqk_HiRdcD3jN1e42deR3gi94NTNb95Qhx-y1hYK88UG6pWDbrstVpqFSJxkpIN84I0A5dW4NqfAJWvliGe3xSfuWSCL9wJuu3H2LxOA_93Cb43c8hStwljftK6qGu2zecg6WbBuEaUI8W8CATUQIqW0CnE5mF9G9w2jIaDiGXlIUK3RzxrG0xvtb4rDUvlmqGtiTl0932XH-aiJjXvEkEWRKJTlw37zuk.bcl4s5DZp-VhbzA_qnvDQ7SEvPEpQ50DR0NxtjZr_04&dib_tag=se&keywords=gitar&qid=1713778093&sprefix=gitar%2Caps%2C376&sr=8-13', 'https://www.amazon.in/Yamaha-F280-Acoustic-Guitar-Natural/dp/B08317Y4VP/ref=sr_1_14?crid=J2T429VLPU32&dib=eyJ2IjoiMSJ9.yMNWF0-ZbwuOEjMTW7AEIy-7cwmFzGIQSCMC8z4mYkiVJ0Q8PniDU9qCdaXZ8tskLJSjvtRT4fqk_HiRdcD3jN1e42deR3gi94NTNb95Qhx-y1hYK88UG6pWDbrstVpqFSJxkpIN84I0A5dW4NqfAJWvliGe3xSfuWSCL9wJuu3H2LxOA_93Cb43c8hStwljftK6qGu2zecg6WbBuEaUI8W8CATUQIqW0CnE5mF9G9w2jIaDiGXlIUK3RzxrG0xvtb4rDUvlmqGtiTl0932XH-aiJjXvEkEWRKJTlw37zuk.bcl4s5DZp-VhbzA_qnvDQ7SEvPEpQ50DR0NxtjZr_04&dib_tag=se&keywords=gitar&qid=1713778093&sprefix=gitar%2Caps%2C376&sr=8-14', 'https://www.amazon.in/JUAREZ-JRZ38C-BKNA/dp/B0BCQNVPRB/ref=sr_1_15?crid=J2T429VLPU32&dib=eyJ2IjoiMSJ9.yMNWF0-ZbwuOEjMTW7AEIy-7cwmFzGIQSCMC8z4mYkiVJ0Q8PniDU9qCdaXZ8tskLJSjvtRT4fqk_HiRdcD3jN1e42deR3gi94NTNb95Qhx-y1hYK88UG6pWDbrstVpqFSJxkpIN84I0A5dW4NqfAJWvliGe3xSfuWSCL9wJuu3H2LxOA_93Cb43c8hStwljftK6qGu2zecg6WbBuEaUI8W8CATUQIqW0CnE5mF9G9w2jIaDiGXlIUK3RzxrG0xvtb4rDUvlmqGtiTl0932XH-aiJjXvEkEWRKJTlw37zuk.bcl4s5DZp-VhbzA_qnvDQ7SEvPEpQ50DR0NxtjZr_04&dib_tag=se&keywords=gitar&qid=1713778093&sprefix=gitar%2Caps%2C376&sr=8-15', 'https://www.amazon.in/Kadence-Slowhand-Premium-Acoustic-Instrument/dp/B077SZ667X/ref=sr_1_16?crid=J2T429VLPU32&dib=eyJ2IjoiMSJ9.yMNWF0-ZbwuOEjMTW7AEIy-7cwmFzGIQSCMC8z4mYkiVJ0Q8PniDU9qCdaXZ8tskLJSjvtRT4fqk_HiRdcD3jN1e42deR3gi94NTNb95Qhx-y1hYK88UG6pWDbrstVpqFSJxkpIN84I0A5dW4NqfAJWvliGe3xSfuWSCL9wJuu3H2LxOA_93Cb43c8hStwljftK6qGu2zecg6WbBuEaUI8W8CATUQIqW0CnE5mF9G9w2jIaDiGXlIUK3RzxrG0xvtb4rDUvlmqGtiTl0932XH-aiJjXvEkEWRKJTlw37zuk.bcl4s5DZp-VhbzA_qnvDQ7SEvPEpQ50DR0NxtjZr_04&dib_tag=se&keywords=gitar&qid=1713778093&sprefix=gitar%2Caps%2C376&sr=8-16', 'https://www.amazon.in/Intern-INT-38C-Acoustic-Guitar-Black/dp/B073B6TQQY/ref=sr_1_17?crid=J2T429VLPU32&dib=eyJ2IjoiMSJ9.yMNWF0-ZbwuOEjMTW7AEIy-7cwmFzGIQSCMC8z4mYkiVJ0Q8PniDU9qCdaXZ8tskLJSjvtRT4fqk_HiRdcD3jN1e42deR3gi94NTNb95Qhx-y1hYK88UG6pWDbrstVpqFSJxkpIN84I0A5dW4NqfAJWvliGe3xSfuWSCL9wJuu3H2LxOA_93Cb43c8hStwljftK6qGu2zecg6WbBuEaUI8W8CATUQIqW0CnE5mF9G9w2jIaDiGXlIUK3RzxrG0xvtb4rDUvlmqGtiTl0932XH-aiJjXvEkEWRKJTlw37zuk.bcl4s5DZp-VhbzA_qnvDQ7SEvPEpQ50DR0NxtjZr_04&dib_tag=se&keywords=gitar&qid=1713778093&sprefix=gitar%2Caps%2C376&sr=8-17', 'https://www.amazon.in/Yamaha-F310-6-Strings-Acoustic-Natural/dp/B000RVYW7E/ref=sr_1_18?crid=J2T429VLPU32&dib=eyJ2IjoiMSJ9.yMNWF0-ZbwuOEjMTW7AEIy-7cwmFzGIQSCMC8z4mYkiVJ0Q8PniDU9qCdaXZ8tskLJSjvtRT4fqk_HiRdcD3jN1e42deR3gi94NTNb95Qhx-y1hYK88UG6pWDbrstVpqFSJxkpIN84I0A5dW4NqfAJWvliGe3xSfuWSCL9wJuu3H2LxOA_93Cb43c8hStwljftK6qGu2zecg6WbBuEaUI8W8CATUQIqW0CnE5mF9G9w2jIaDiGXlIUK3RzxrG0xvtb4rDUvlmqGtiTl0932XH-aiJjXvEkEWRKJTlw37zuk.bcl4s5DZp-VhbzA_qnvDQ7SEvPEpQ50DR0NxtjZr_04&dib_tag=se&keywords=gitar&qid=1713778093&sprefix=gitar%2Caps%2C376&sr=8-18', 'https://www.amazon.in/Juarez-JRZ-ST01-6-String-Electric-Without/dp/B01FYZSOGM/ref=sr_1_19?crid=J2T429VLPU32&dib=eyJ2IjoiMSJ9.yMNWF0-ZbwuOEjMTW7AEIy-7cwmFzGIQSCMC8z4mYkiVJ0Q8PniDU9qCdaXZ8tskLJSjvtRT4fqk_HiRdcD3jN1e42deR3gi94NTNb95Qhx-y1hYK88UG6pWDbrstVpqFSJxkpIN84I0A5dW4NqfAJWvliGe3xSfuWSCL9wJuu3H2LxOA_93Cb43c8hStwljftK6qGu2zecg6WbBuEaUI8W8CATUQIqW0CnE5mF9G9w2jIaDiGXlIUK3RzxrG0xvtb4rDUvlmqGtiTl0932XH-aiJjXvEkEWRKJTlw37zuk.bcl4s5DZp-VhbzA_qnvDQ7SEvPEpQ50DR0NxtjZr_04&dib_tag=se&keywords=gitar&qid=1713778093&sprefix=gitar%2Caps%2C376&sr=8-19', 'https://www.amazon.in/JUAREZ-JRZ38C-TBLSNA/dp/B0BCQKQ6CS/ref=sr_1_20?crid=J2T429VLPU32&dib=eyJ2IjoiMSJ9.yMNWF0-ZbwuOEjMTW7AEIy-7cwmFzGIQSCMC8z4mYkiVJ0Q8PniDU9qCdaXZ8tskLJSjvtRT4fqk_HiRdcD3jN1e42deR3gi94NTNb95Qhx-y1hYK88UG6pWDbrstVpqFSJxkpIN84I0A5dW4NqfAJWvliGe3xSfuWSCL9wJuu3H2LxOA_93Cb43c8hStwljftK6qGu2zecg6WbBuEaUI8W8CATUQIqW0CnE5mF9G9w2jIaDiGXlIUK3RzxrG0xvtb4rDUvlmqGtiTl0932XH-aiJjXvEkEWRKJTlw37zuk.bcl4s5DZp-VhbzA_qnvDQ7SEvPEpQ50DR0NxtjZr_04&dib_tag=se&keywords=gitar&qid=1713778093&sprefix=gitar%2Caps%2C376&sr=8-20', 'https://www.amazon.in/sspa/click?ie=UTF8&spc=MTo1NzY2ODIwNjU4NDA3MTEyOjE3MTM3NzgwOTM6c3BfbXRmOjMwMDE0ODU0ODIzMTYzMjo6MDo6&url=%2FIbanez-MD39C-NT-Cutaway-Acoustic-Polishing%2Fdp%2FB084C1DGCV%2Fref%3Dsr_1_21_sspa%3Fcrid%3DJ2T429VLPU32%26dib%3DeyJ2IjoiMSJ9.yMNWF0-ZbwuOEjMTW7AEIy-7cwmFzGIQSCMC8z4mYkiVJ0Q8PniDU9qCdaXZ8tskLJSjvtRT4fqk_HiRdcD3jN1e42deR3gi94NTNb95Qhx-y1hYK88UG6pWDbrstVpqFSJxkpIN84I0A5dW4NqfAJWvliGe3xSfuWSCL9wJuu3H2LxOA_93Cb43c8hStwljftK6qGu2zecg6WbBuEaUI8W8CATUQIqW0CnE5mF9G9w2jIaDiGXlIUK3RzxrG0xvtb4rDUvlmqGtiTl0932XH-aiJjXvEkEWRKJTlw37zuk.bcl4s5DZp-VhbzA_qnvDQ7SEvPEpQ50DR0NxtjZr_04%26dib_tag%3Dse%26keywords%3Dgitar%26qid%3D1713778093%26sprefix%3Dgitar%252Caps%252C376%26sr%3D8-21-spons%26sp_csd%3Dd2lkZ2V0TmFtZT1zcF9tdGY%26psc%3D1', 'https://www.amazon.in/sspa/click?ie=UTF8&spc=MTo1NzY2ODIwNjU4NDA3MTEyOjE3MTM3NzgwOTM6c3BfbXRmOjMwMDE2MzkzNzg1NzIzMjo6MDo6&url=%2FMOCKING-BIRD-Acoustic-beginners-instrument%2Fdp%2FB0CR9XH4QH%2Fref%3Dsr_1_22_sspa%3Fcrid%3DJ2T429VLPU32%26dib%3DeyJ2IjoiMSJ9.yMNWF0-ZbwuOEjMTW7AEIy-7cwmFzGIQSCMC8z4mYkiVJ0Q8PniDU9qCdaXZ8tskLJSjvtRT4fqk_HiRdcD3jN1e42deR3gi94NTNb95Qhx-y1hYK88UG6pWDbrstVpqFSJxkpIN84I0A5dW4NqfAJWvliGe3xSfuWSCL9wJuu3H2LxOA_93Cb43c8hStwljftK6qGu2zecg6WbBuEaUI8W8CATUQIqW0CnE5mF9G9w2jIaDiGXlIUK3RzxrG0xvtb4rDUvlmqGtiTl0932XH-aiJjXvEkEWRKJTlw37zuk.bcl4s5DZp-VhbzA_qnvDQ7SEvPEpQ50DR0NxtjZr_04%26dib_tag%3Dse%26keywords%3Dgitar%26qid%3D1713778093%26sprefix%3Dgitar%252Caps%252C376%26sr%3D8-22-spons%26sp_csd%3Dd2lkZ2V0TmFtZT1zcF9tdGY%26psc%3D1', 'https://www.amazon.in/sspa/click?ie=UTF8&spc=MTo1NzY2ODIwNjU4NDA3MTEyOjE3MTM3NzgwOTM6c3BfbXRmOjMwMDE0MTg2MjIyNjAzMjo6MDo6&url=%2FRichtone-B239C-Natural-cutaway-Acoustic%2Fdp%2FB0CNW9RZ9D%2Fref%3Dsr_1_23_sspa%3Fcrid%3DJ2T429VLPU32%26dib%3DeyJ2IjoiMSJ9.yMNWF0-ZbwuOEjMTW7AEIy-7cwmFzGIQSCMC8z4mYkiVJ0Q8PniDU9qCdaXZ8tskLJSjvtRT4fqk_HiRdcD3jN1e42deR3gi94NTNb95Qhx-y1hYK88UG6pWDbrstVpqFSJxkpIN84I0A5dW4NqfAJWvliGe3xSfuWSCL9wJuu3H2LxOA_93Cb43c8hStwljftK6qGu2zecg6WbBuEaUI8W8CATUQIqW0CnE5mF9G9w2jIaDiGXlIUK3RzxrG0xvtb4rDUvlmqGtiTl0932XH-aiJjXvEkEWRKJTlw37zuk.bcl4s5DZp-VhbzA_qnvDQ7SEvPEpQ50DR0NxtjZr_04%26dib_tag%3Dse%26keywords%3Dgitar%26qid%3D1713778093%26sprefix%3Dgitar%252Caps%252C376%26sr%3D8-23-spons%26sp_csd%3Dd2lkZ2V0TmFtZT1zcF9tdGY%26psc%3D1', 'https://www.amazon.in/sspa/click?ie=UTF8&spc=MTo1NzY2ODIwNjU4NDA3MTEyOjE3MTM3NzgwOTM6c3BfbXRmOjIwMDU3MzAzOTg2MjA0OjowOjo&url=%2FKadence-Slowhand-Premium-Acoustic-Instrument%2Fdp%2FB077SZ667X%2Fref%3Dsr_1_24_sspa%3Fcrid%3DJ2T429VLPU32%26dib%3DeyJ2IjoiMSJ9.yMNWF0-ZbwuOEjMTW7AEIy-7cwmFzGIQSCMC8z4mYkiVJ0Q8PniDU9qCdaXZ8tskLJSjvtRT4fqk_HiRdcD3jN1e42deR3gi94NTNb95Qhx-y1hYK88UG6pWDbrstVpqFSJxkpIN84I0A5dW4NqfAJWvliGe3xSfuWSCL9wJuu3H2LxOA_93Cb43c8hStwljftK6qGu2zecg6WbBuEaUI8W8CATUQIqW0CnE5mF9G9w2jIaDiGXlIUK3RzxrG0xvtb4rDUvlmqGtiTl0932XH-aiJjXvEkEWRKJTlw37zuk.bcl4s5DZp-VhbzA_qnvDQ7SEvPEpQ50DR0NxtjZr_04%26dib_tag%3Dse%26keywords%3Dgitar%26qid%3D1713778093%26sprefix%3Dgitar%252Caps%252C376%26sr%3D8-24-spons%26sp_csd%3Dd2lkZ2V0TmFtZT1zcF9tdGY%26psc%3D1', 'https://www.amazon.in/Kadence-Professional-Acoustic-Rosewood-Natural/dp/B0CC927DLN/ref=sr_1_25?crid=J2T429VLPU32&dib=eyJ2IjoiMSJ9.yMNWF0-ZbwuOEjMTW7AEIy-7cwmFzGIQSCMC8z4mYkiVJ0Q8PniDU9qCdaXZ8tskLJSjvtRT4fqk_HiRdcD3jN1e42deR3gi94NTNb95Qhx-y1hYK88UG6pWDbrstVpqFSJxkpIN84I0A5dW4NqfAJWvliGe3xSfuWSCL9wJuu3H2LxOA_93Cb43c8hStwljftK6qGu2zecg6WbBuEaUI8W8CATUQIqW0CnE5mF9G9w2jIaDiGXlIUK3RzxrG0xvtb4rDUvlmqGtiTl0932XH-aiJjXvEkEWRKJTlw37zuk.bcl4s5DZp-VhbzA_qnvDQ7SEvPEpQ50DR0NxtjZr_04&dib_tag=se&keywords=gitar&qid=1713778093&sprefix=gitar%2Caps%2C376&sr=8-25', 'https://www.amazon.in/Vault-Soloist-Premium-Electric-Guitar/dp/B09GLZSS95/ref=sr_1_26?crid=J2T429VLPU32&dib=eyJ2IjoiMSJ9.yMNWF0-ZbwuOEjMTW7AEIy-7cwmFzGIQSCMC8z4mYkiVJ0Q8PniDU9qCdaXZ8tskLJSjvtRT4fqk_HiRdcD3jN1e42deR3gi94NTNb95Qhx-y1hYK88UG6pWDbrstVpqFSJxkpIN84I0A5dW4NqfAJWvliGe3xSfuWSCL9wJuu3H2LxOA_93Cb43c8hStwljftK6qGu2zecg6WbBuEaUI8W8CATUQIqW0CnE5mF9G9w2jIaDiGXlIUK3RzxrG0xvtb4rDUvlmqGtiTl0932XH-aiJjXvEkEWRKJTlw37zuk.bcl4s5DZp-VhbzA_qnvDQ7SEvPEpQ50DR0NxtjZr_04&dib_tag=se&keywords=gitar&qid=1713778093&sprefix=gitar%2Caps%2C376&sr=8-26', 'https://www.amazon.in/Medellin-Acoustic-Guitar-learning-Strings/dp/B0CCNSN9BV/ref=sr_1_27?crid=J2T429VLPU32&dib=eyJ2IjoiMSJ9.yMNWF0-ZbwuOEjMTW7AEIy-7cwmFzGIQSCMC8z4mYkiVJ0Q8PniDU9qCdaXZ8tskLJSjvtRT4fqk_HiRdcD3jN1e42deR3gi94NTNb95Qhx-y1hYK88UG6pWDbrstVpqFSJxkpIN84I0A5dW4NqfAJWvliGe3xSfuWSCL9wJuu3H2LxOA_93Cb43c8hStwljftK6qGu2zecg6WbBuEaUI8W8CATUQIqW0CnE5mF9G9w2jIaDiGXlIUK3RzxrG0xvtb4rDUvlmqGtiTl0932XH-aiJjXvEkEWRKJTlw37zuk.bcl4s5DZp-VhbzA_qnvDQ7SEvPEpQ50DR0NxtjZr_04&dib_tag=se&keywords=gitar&qid=1713778093&sprefix=gitar%2Caps%2C376&sr=8-27', 'https://www.amazon.in/JUAREZ-JRZ38C-Acoustic-Sunburst-Strings/dp/B01FYYTDS6/ref=sr_1_28?crid=J2T429VLPU32&dib=eyJ2IjoiMSJ9.yMNWF0-ZbwuOEjMTW7AEIy-7cwmFzGIQSCMC8z4mYkiVJ0Q8PniDU9qCdaXZ8tskLJSjvtRT4fqk_HiRdcD3jN1e42deR3gi94NTNb95Qhx-y1hYK88UG6pWDbrstVpqFSJxkpIN84I0A5dW4NqfAJWvliGe3xSfuWSCL9wJuu3H2LxOA_93Cb43c8hStwljftK6qGu2zecg6WbBuEaUI8W8CATUQIqW0CnE5mF9G9w2jIaDiGXlIUK3RzxrG0xvtb4rDUvlmqGtiTl0932XH-aiJjXvEkEWRKJTlw37zuk.bcl4s5DZp-VhbzA_qnvDQ7SEvPEpQ50DR0NxtjZr_04&dib_tag=se&keywords=gitar&qid=1713778093&sprefix=gitar%2Caps%2C376&sr=8-28', 'https://www.amazon.in/Ju%C3%A2rez-Acoustic-Guitar-Cutaway-Strings/dp/B0BCQNLXVM/ref=sr_1_29?crid=J2T429VLPU32&dib=eyJ2IjoiMSJ9.yMNWF0-ZbwuOEjMTW7AEIy-7cwmFzGIQSCMC8z4mYkiVJ0Q8PniDU9qCdaXZ8tskLJSjvtRT4fqk_HiRdcD3jN1e42deR3gi94NTNb95Qhx-y1hYK88UG6pWDbrstVpqFSJxkpIN84I0A5dW4NqfAJWvliGe3xSfuWSCL9wJuu3H2LxOA_93Cb43c8hStwljftK6qGu2zecg6WbBuEaUI8W8CATUQIqW0CnE5mF9G9w2jIaDiGXlIUK3RzxrG0xvtb4rDUvlmqGtiTl0932XH-aiJjXvEkEWRKJTlw37zuk.bcl4s5DZp-VhbzA_qnvDQ7SEvPEpQ50DR0NxtjZr_04&dib_tag=se&keywords=gitar&qid=1713778093&sprefix=gitar%2Caps%2C376&sr=8-29', 'https://www.amazon.in/Yamaha-Classical-Guitar-C40-02/dp/B003UGCUFE/ref=sr_1_30?crid=J2T429VLPU32&dib=eyJ2IjoiMSJ9.yMNWF0-ZbwuOEjMTW7AEIy-7cwmFzGIQSCMC8z4mYkiVJ0Q8PniDU9qCdaXZ8tskLJSjvtRT4fqk_HiRdcD3jN1e42deR3gi94NTNb95Qhx-y1hYK88UG6pWDbrstVpqFSJxkpIN84I0A5dW4NqfAJWvliGe3xSfuWSCL9wJuu3H2LxOA_93Cb43c8hStwljftK6qGu2zecg6WbBuEaUI8W8CATUQIqW0CnE5mF9G9w2jIaDiGXlIUK3RzxrG0xvtb4rDUvlmqGtiTl0932XH-aiJjXvEkEWRKJTlw37zuk.bcl4s5DZp-VhbzA_qnvDQ7SEvPEpQ50DR0NxtjZr_04&dib_tag=se&keywords=gitar&qid=1713778093&sprefix=gitar%2Caps%2C376&sr=8-30', 'https://www.amazon.in/Yamaha-Acoustic-Guitar-Tobacco-Sunburst/dp/B08VXR74Q2/ref=sr_1_31?crid=J2T429VLPU32&dib=eyJ2IjoiMSJ9.yMNWF0-ZbwuOEjMTW7AEIy-7cwmFzGIQSCMC8z4mYkiVJ0Q8PniDU9qCdaXZ8tskLJSjvtRT4fqk_HiRdcD3jN1e42deR3gi94NTNb95Qhx-y1hYK88UG6pWDbrstVpqFSJxkpIN84I0A5dW4NqfAJWvliGe3xSfuWSCL9wJuu3H2LxOA_93Cb43c8hStwljftK6qGu2zecg6WbBuEaUI8W8CATUQIqW0CnE5mF9G9w2jIaDiGXlIUK3RzxrG0xvtb4rDUvlmqGtiTl0932XH-aiJjXvEkEWRKJTlw37zuk.bcl4s5DZp-VhbzA_qnvDQ7SEvPEpQ50DR0NxtjZr_04&dib_tag=se&keywords=gitar&qid=1713778093&sprefix=gitar%2Caps%2C376&sr=8-31', 'https://www.amazon.in/JUAREZ-JRZ38C-Acoustic-Sunburst-Strings/dp/B01FYYTDTU/ref=sr_1_32?crid=J2T429VLPU32&dib=eyJ2IjoiMSJ9.yMNWF0-ZbwuOEjMTW7AEIy-7cwmFzGIQSCMC8z4mYkiVJ0Q8PniDU9qCdaXZ8tskLJSjvtRT4fqk_HiRdcD3jN1e42deR3gi94NTNb95Qhx-y1hYK88UG6pWDbrstVpqFSJxkpIN84I0A5dW4NqfAJWvliGe3xSfuWSCL9wJuu3H2LxOA_93Cb43c8hStwljftK6qGu2zecg6WbBuEaUI8W8CATUQIqW0CnE5mF9G9w2jIaDiGXlIUK3RzxrG0xvtb4rDUvlmqGtiTl0932XH-aiJjXvEkEWRKJTlw37zuk.bcl4s5DZp-VhbzA_qnvDQ7SEvPEpQ50DR0NxtjZr_04&dib_tag=se&keywords=gitar&qid=1713778093&sprefix=gitar%2Caps%2C376&sr=8-32', 'https://www.amazon.in/embroidey-Electric-Embroidered-Instrument-Applique/dp/B0C5W7BVN8/ref=sr_1_33?crid=J2T429VLPU32&dib=eyJ2IjoiMSJ9.yMNWF0-ZbwuOEjMTW7AEIy-7cwmFzGIQSCMC8z4mYkiVJ0Q8PniDU9qCdaXZ8tskLJSjvtRT4fqk_HiRdcD3jN1e42deR3gi94NTNb95Qhx-y1hYK88UG6pWDbrstVpqFSJxkpIN84I0A5dW4NqfAJWvliGe3xSfuWSCL9wJuu3H2LxOA_93Cb43c8hStwljftK6qGu2zecg6WbBuEaUI8W8CATUQIqW0CnE5mF9G9w2jIaDiGXlIUK3RzxrG0xvtb4rDUvlmqGtiTl0932XH-aiJjXvEkEWRKJTlw37zuk.bcl4s5DZp-VhbzA_qnvDQ7SEvPEpQ50DR0NxtjZr_04&dib_tag=se&keywords=gitar&qid=1713778093&sprefix=gitar%2Caps%2C376&sr=8-33', 'https://www.amazon.in/Yamaha-FS-100C-6-String-Acoustic-without/dp/B00PAS9CK6/ref=sr_1_34?crid=J2T429VLPU32&dib=eyJ2IjoiMSJ9.yMNWF0-ZbwuOEjMTW7AEIy-7cwmFzGIQSCMC8z4mYkiVJ0Q8PniDU9qCdaXZ8tskLJSjvtRT4fqk_HiRdcD3jN1e42deR3gi94NTNb95Qhx-y1hYK88UG6pWDbrstVpqFSJxkpIN84I0A5dW4NqfAJWvliGe3xSfuWSCL9wJuu3H2LxOA_93Cb43c8hStwljftK6qGu2zecg6WbBuEaUI8W8CATUQIqW0CnE5mF9G9w2jIaDiGXlIUK3RzxrG0xvtb4rDUvlmqGtiTl0932XH-aiJjXvEkEWRKJTlw37zuk.bcl4s5DZp-VhbzA_qnvDQ7SEvPEpQ50DR0NxtjZr_04&dib_tag=se&keywords=gitar&qid=1713778093&sprefix=gitar%2Caps%2C376&sr=8-34', 'https://www.amazon.in/Kadence-Slowhand-Premium-Acoustic-Mahogany/dp/B09SFXW1VL/ref=sr_1_35?crid=J2T429VLPU32&dib=eyJ2IjoiMSJ9.yMNWF0-ZbwuOEjMTW7AEIy-7cwmFzGIQSCMC8z4mYkiVJ0Q8PniDU9qCdaXZ8tskLJSjvtRT4fqk_HiRdcD3jN1e42deR3gi94NTNb95Qhx-y1hYK88UG6pWDbrstVpqFSJxkpIN84I0A5dW4NqfAJWvliGe3xSfuWSCL9wJuu3H2LxOA_93Cb43c8hStwljftK6qGu2zecg6WbBuEaUI8W8CATUQIqW0CnE5mF9G9w2jIaDiGXlIUK3RzxrG0xvtb4rDUvlmqGtiTl0932XH-aiJjXvEkEWRKJTlw37zuk.bcl4s5DZp-VhbzA_qnvDQ7SEvPEpQ50DR0NxtjZr_04&dib_tag=se&keywords=gitar&qid=1713778093&sprefix=gitar%2Caps%2C376&sr=8-35', 'https://www.amazon.in/YAMAHA-FS80C-CONCERT-CUTAWAY-GUITAR/dp/B08WBBVMVJ/ref=sr_1_36?crid=J2T429VLPU32&dib=eyJ2IjoiMSJ9.yMNWF0-ZbwuOEjMTW7AEIy-7cwmFzGIQSCMC8z4mYkiVJ0Q8PniDU9qCdaXZ8tskLJSjvtRT4fqk_HiRdcD3jN1e42deR3gi94NTNb95Qhx-y1hYK88UG6pWDbrstVpqFSJxkpIN84I0A5dW4NqfAJWvliGe3xSfuWSCL9wJuu3H2LxOA_93Cb43c8hStwljftK6qGu2zecg6WbBuEaUI8W8CATUQIqW0CnE5mF9G9w2jIaDiGXlIUK3RzxrG0xvtb4rDUvlmqGtiTl0932XH-aiJjXvEkEWRKJTlw37zuk.bcl4s5DZp-VhbzA_qnvDQ7SEvPEpQ50DR0NxtjZr_04&dib_tag=se&keywords=gitar&qid=1713778093&sprefix=gitar%2Caps%2C376&sr=8-36', 'https://www.amazon.in/Gadgets-Pattren-Musical-Instument-Decal_IC90/dp/B07F8PY6DM/ref=sr_1_37?crid=J2T429VLPU32&dib=eyJ2IjoiMSJ9.yMNWF0-ZbwuOEjMTW7AEIy-7cwmFzGIQSCMC8z4mYkiVJ0Q8PniDU9qCdaXZ8tskLJSjvtRT4fqk_HiRdcD3jN1e42deR3gi94NTNb95Qhx-y1hYK88UG6pWDbrstVpqFSJxkpIN84I0A5dW4NqfAJWvliGe3xSfuWSCL9wJuu3H2LxOA_93Cb43c8hStwljftK6qGu2zecg6WbBuEaUI8W8CATUQIqW0CnE5mF9G9w2jIaDiGXlIUK3RzxrG0xvtb4rDUvlmqGtiTl0932XH-aiJjXvEkEWRKJTlw37zuk.bcl4s5DZp-VhbzA_qnvDQ7SEvPEpQ50DR0NxtjZr_04&dib_tag=se&keywords=gitar&qid=1713778093&sprefix=gitar%2Caps%2C376&sr=8-37', 'https://www.amazon.in/Yamaha-FSX80C-Acoustic-Cutaway-Natural/dp/B09HL3GFZF/ref=sr_1_38?crid=J2T429VLPU32&dib=eyJ2IjoiMSJ9.yMNWF0-ZbwuOEjMTW7AEIy-7cwmFzGIQSCMC8z4mYkiVJ0Q8PniDU9qCdaXZ8tskLJSjvtRT4fqk_HiRdcD3jN1e42deR3gi94NTNb95Qhx-y1hYK88UG6pWDbrstVpqFSJxkpIN84I0A5dW4NqfAJWvliGe3xSfuWSCL9wJuu3H2LxOA_93Cb43c8hStwljftK6qGu2zecg6WbBuEaUI8W8CATUQIqW0CnE5mF9G9w2jIaDiGXlIUK3RzxrG0xvtb4rDUvlmqGtiTl0932XH-aiJjXvEkEWRKJTlw37zuk.bcl4s5DZp-VhbzA_qnvDQ7SEvPEpQ50DR0NxtjZr_04&dib_tag=se&keywords=gitar&qid=1713778093&sprefix=gitar%2Caps%2C376&sr=8-38', 'https://www.amazon.in/Kadence-Frontier-Acoustic-Sunburst-Strings/dp/B07T5DMPZ3/ref=sr_1_39?crid=J2T429VLPU32&dib=eyJ2IjoiMSJ9.yMNWF0-ZbwuOEjMTW7AEIy-7cwmFzGIQSCMC8z4mYkiVJ0Q8PniDU9qCdaXZ8tskLJSjvtRT4fqk_HiRdcD3jN1e42deR3gi94NTNb95Qhx-y1hYK88UG6pWDbrstVpqFSJxkpIN84I0A5dW4NqfAJWvliGe3xSfuWSCL9wJuu3H2LxOA_93Cb43c8hStwljftK6qGu2zecg6WbBuEaUI8W8CATUQIqW0CnE5mF9G9w2jIaDiGXlIUK3RzxrG0xvtb4rDUvlmqGtiTl0932XH-aiJjXvEkEWRKJTlw37zuk.bcl4s5DZp-VhbzA_qnvDQ7SEvPEpQ50DR0NxtjZr_04&dib_tag=se&keywords=gitar&qid=1713778093&sprefix=gitar%2Caps%2C376&sr=8-39', 'https://www.amazon.in/Medellin-Acoustic-Guitar-learning-Strings/dp/B0CCNSN6S4/ref=sr_1_40?crid=J2T429VLPU32&dib=eyJ2IjoiMSJ9.yMNWF0-ZbwuOEjMTW7AEIy-7cwmFzGIQSCMC8z4mYkiVJ0Q8PniDU9qCdaXZ8tskLJSjvtRT4fqk_HiRdcD3jN1e42deR3gi94NTNb95Qhx-y1hYK88UG6pWDbrstVpqFSJxkpIN84I0A5dW4NqfAJWvliGe3xSfuWSCL9wJuu3H2LxOA_93Cb43c8hStwljftK6qGu2zecg6WbBuEaUI8W8CATUQIqW0CnE5mF9G9w2jIaDiGXlIUK3RzxrG0xvtb4rDUvlmqGtiTl0932XH-aiJjXvEkEWRKJTlw37zuk.bcl4s5DZp-VhbzA_qnvDQ7SEvPEpQ50DR0NxtjZr_04&dib_tag=se&keywords=gitar&qid=1713778093&sprefix=gitar%2Caps%2C376&sr=8-40', 'https://www.amazon.in/Yamaha-F310-Acoustic-Guitar-Natural/dp/B08Z3C1GRM/ref=sr_1_41?crid=J2T429VLPU32&dib=eyJ2IjoiMSJ9.yMNWF0-ZbwuOEjMTW7AEIy-7cwmFzGIQSCMC8z4mYkiVJ0Q8PniDU9qCdaXZ8tskLJSjvtRT4fqk_HiRdcD3jN1e42deR3gi94NTNb95Qhx-y1hYK88UG6pWDbrstVpqFSJxkpIN84I0A5dW4NqfAJWvliGe3xSfuWSCL9wJuu3H2LxOA_93Cb43c8hStwljftK6qGu2zecg6WbBuEaUI8W8CATUQIqW0CnE5mF9G9w2jIaDiGXlIUK3RzxrG0xvtb4rDUvlmqGtiTl0932XH-aiJjXvEkEWRKJTlw37zuk.bcl4s5DZp-VhbzA_qnvDQ7SEvPEpQ50DR0NxtjZr_04&dib_tag=se&keywords=gitar&qid=1713778093&sprefix=gitar%2Caps%2C376&sr=8-41', 'https://www.amazon.in/FX280-acoustic-Dreadnought-Tobacco-Sunburst/dp/B09HR7BXGW/ref=sr_1_42?crid=J2T429VLPU32&dib=eyJ2IjoiMSJ9.yMNWF0-ZbwuOEjMTW7AEIy-7cwmFzGIQSCMC8z4mYkiVJ0Q8PniDU9qCdaXZ8tskLJSjvtRT4fqk_HiRdcD3jN1e42deR3gi94NTNb95Qhx-y1hYK88UG6pWDbrstVpqFSJxkpIN84I0A5dW4NqfAJWvliGe3xSfuWSCL9wJuu3H2LxOA_93Cb43c8hStwljftK6qGu2zecg6WbBuEaUI8W8CATUQIqW0CnE5mF9G9w2jIaDiGXlIUK3RzxrG0xvtb4rDUvlmqGtiTl0932XH-aiJjXvEkEWRKJTlw37zuk.bcl4s5DZp-VhbzA_qnvDQ7SEvPEpQ50DR0NxtjZr_04&dib_tag=se&keywords=gitar&qid=1713778093&sprefix=gitar%2Caps%2C376&sr=8-42', 'https://www.amazon.in/Juarez-Acoustic-Cutaway-BK-Strings/dp/B076T3RHMG/ref=sr_1_43?crid=J2T429VLPU32&dib=eyJ2IjoiMSJ9.yMNWF0-ZbwuOEjMTW7AEIy-7cwmFzGIQSCMC8z4mYkiVJ0Q8PniDU9qCdaXZ8tskLJSjvtRT4fqk_HiRdcD3jN1e42deR3gi94NTNb95Qhx-y1hYK88UG6pWDbrstVpqFSJxkpIN84I0A5dW4NqfAJWvliGe3xSfuWSCL9wJuu3H2LxOA_93Cb43c8hStwljftK6qGu2zecg6WbBuEaUI8W8CATUQIqW0CnE5mF9G9w2jIaDiGXlIUK3RzxrG0xvtb4rDUvlmqGtiTl0932XH-aiJjXvEkEWRKJTlw37zuk.bcl4s5DZp-VhbzA_qnvDQ7SEvPEpQ50DR0NxtjZr_04&dib_tag=se&keywords=gitar&qid=1713778093&sprefix=gitar%2Caps%2C376&sr=8-43', 'https://www.amazon.in/JUAREZ-Arpeggio-Guitar-JRA39SR-BL-K-blue/dp/B08MWB5Y67/ref=sr_1_44?crid=J2T429VLPU32&dib=eyJ2IjoiMSJ9.yMNWF0-ZbwuOEjMTW7AEIy-7cwmFzGIQSCMC8z4mYkiVJ0Q8PniDU9qCdaXZ8tskLJSjvtRT4fqk_HiRdcD3jN1e42deR3gi94NTNb95Qhx-y1hYK88UG6pWDbrstVpqFSJxkpIN84I0A5dW4NqfAJWvliGe3xSfuWSCL9wJuu3H2LxOA_93Cb43c8hStwljftK6qGu2zecg6WbBuEaUI8W8CATUQIqW0CnE5mF9G9w2jIaDiGXlIUK3RzxrG0xvtb4rDUvlmqGtiTl0932XH-aiJjXvEkEWRKJTlw37zuk.bcl4s5DZp-VhbzA_qnvDQ7SEvPEpQ50DR0NxtjZr_04&dib_tag=se&keywords=gitar&qid=1713778093&sprefix=gitar%2Caps%2C376&sr=8-44', 'https://www.amazon.in/Kadence-Frontier-Acoustic-Guitar-Strings/dp/B01GDZ46AA/ref=sr_1_45?crid=J2T429VLPU32&dib=eyJ2IjoiMSJ9.yMNWF0-ZbwuOEjMTW7AEIy-7cwmFzGIQSCMC8z4mYkiVJ0Q8PniDU9qCdaXZ8tskLJSjvtRT4fqk_HiRdcD3jN1e42deR3gi94NTNb95Qhx-y1hYK88UG6pWDbrstVpqFSJxkpIN84I0A5dW4NqfAJWvliGe3xSfuWSCL9wJuu3H2LxOA_93Cb43c8hStwljftK6qGu2zecg6WbBuEaUI8W8CATUQIqW0CnE5mF9G9w2jIaDiGXlIUK3RzxrG0xvtb4rDUvlmqGtiTl0932XH-aiJjXvEkEWRKJTlw37zuk.bcl4s5DZp-VhbzA_qnvDQ7SEvPEpQ50DR0NxtjZr_04&dib_tag=se&keywords=gitar&qid=1713778093&sprefix=gitar%2Caps%2C376&sr=8-45', 'https://www.amazon.in/Fender-0379410502-Anniversary-Stratocaster-Electric/dp/B09RX4BQPX/ref=sr_1_46?crid=J2T429VLPU32&dib=eyJ2IjoiMSJ9.yMNWF0-ZbwuOEjMTW7AEIy-7cwmFzGIQSCMC8z4mYkiVJ0Q8PniDU9qCdaXZ8tskLJSjvtRT4fqk_HiRdcD3jN1e42deR3gi94NTNb95Qhx-y1hYK88UG6pWDbrstVpqFSJxkpIN84I0A5dW4NqfAJWvliGe3xSfuWSCL9wJuu3H2LxOA_93Cb43c8hStwljftK6qGu2zecg6WbBuEaUI8W8CATUQIqW0CnE5mF9G9w2jIaDiGXlIUK3RzxrG0xvtb4rDUvlmqGtiTl0932XH-aiJjXvEkEWRKJTlw37zuk.bcl4s5DZp-VhbzA_qnvDQ7SEvPEpQ50DR0NxtjZr_04&dib_tag=se&keywords=gitar&qid=1713778093&sprefix=gitar%2Caps%2C376&sr=8-46', 'https://www.amazon.in/Alice-A206-Phosphor-Bronze-Strings/dp/B00QAFCNK4/ref=sr_1_47?crid=J2T429VLPU32&dib=eyJ2IjoiMSJ9.yMNWF0-ZbwuOEjMTW7AEIy-7cwmFzGIQSCMC8z4mYkiVJ0Q8PniDU9qCdaXZ8tskLJSjvtRT4fqk_HiRdcD3jN1e42deR3gi94NTNb95Qhx-y1hYK88UG6pWDbrstVpqFSJxkpIN84I0A5dW4NqfAJWvliGe3xSfuWSCL9wJuu3H2LxOA_93Cb43c8hStwljftK6qGu2zecg6WbBuEaUI8W8CATUQIqW0CnE5mF9G9w2jIaDiGXlIUK3RzxrG0xvtb4rDUvlmqGtiTl0932XH-aiJjXvEkEWRKJTlw37zuk.bcl4s5DZp-VhbzA_qnvDQ7SEvPEpQ50DR0NxtjZr_04&dib_tag=se&keywords=gitar&qid=1713778093&sprefix=gitar%2Caps%2C376&sr=8-47', 'https://www.amazon.in/Kadence-Frontier-Acoustic-Guitar-Strings/dp/B078GTJP5Y/ref=sr_1_48?crid=J2T429VLPU32&dib=eyJ2IjoiMSJ9.yMNWF0-ZbwuOEjMTW7AEIy-7cwmFzGIQSCMC8z4mYkiVJ0Q8PniDU9qCdaXZ8tskLJSjvtRT4fqk_HiRdcD3jN1e42deR3gi94NTNb95Qhx-y1hYK88UG6pWDbrstVpqFSJxkpIN84I0A5dW4NqfAJWvliGe3xSfuWSCL9wJuu3H2LxOA_93Cb43c8hStwljftK6qGu2zecg6WbBuEaUI8W8CATUQIqW0CnE5mF9G9w2jIaDiGXlIUK3RzxrG0xvtb4rDUvlmqGtiTl0932XH-aiJjXvEkEWRKJTlw37zuk.bcl4s5DZp-VhbzA_qnvDQ7SEvPEpQ50DR0NxtjZr_04&dib_tag=se&keywords=gitar&qid=1713778093&sprefix=gitar%2Caps%2C376&sr=8-48', 'https://www.amazon.in/Fender-0118802806-Signature-Stratocaster-Right-Handed/dp/B003EJXU56/ref=sr_1_49?crid=J2T429VLPU32&dib=eyJ2IjoiMSJ9.yMNWF0-ZbwuOEjMTW7AEIy-7cwmFzGIQSCMC8z4mYkiVJ0Q8PniDU9qCdaXZ8tskLJSjvtRT4fqk_HiRdcD3jN1e42deR3gi94NTNb95Qhx-y1hYK88UG6pWDbrstVpqFSJxkpIN84I0A5dW4NqfAJWvliGe3xSfuWSCL9wJuu3H2LxOA_93Cb43c8hStwljftK6qGu2zecg6WbBuEaUI8W8CATUQIqW0CnE5mF9G9w2jIaDiGXlIUK3RzxrG0xvtb4rDUvlmqGtiTl0932XH-aiJjXvEkEWRKJTlw37zuk.bcl4s5DZp-VhbzA_qnvDQ7SEvPEpQ50DR0NxtjZr_04&dib_tag=se&keywords=gitar&qid=1713778093&sprefix=gitar%2Caps%2C376&sr=8-49', 'https://www.amazon.in/Blueberry-38C-Acoustic-Guitar-Strings/dp/B08KLMV4XX/ref=sr_1_50?crid=J2T429VLPU32&dib=eyJ2IjoiMSJ9.yMNWF0-ZbwuOEjMTW7AEIy-7cwmFzGIQSCMC8z4mYkiVJ0Q8PniDU9qCdaXZ8tskLJSjvtRT4fqk_HiRdcD3jN1e42deR3gi94NTNb95Qhx-y1hYK88UG6pWDbrstVpqFSJxkpIN84I0A5dW4NqfAJWvliGe3xSfuWSCL9wJuu3H2LxOA_93Cb43c8hStwljftK6qGu2zecg6WbBuEaUI8W8CATUQIqW0CnE5mF9G9w2jIaDiGXlIUK3RzxrG0xvtb4rDUvlmqGtiTl0932XH-aiJjXvEkEWRKJTlw37zuk.bcl4s5DZp-VhbzA_qnvDQ7SEvPEpQ50DR0NxtjZr_04&dib_tag=se&keywords=gitar&qid=1713778093&sprefix=gitar%2Caps%2C376&sr=8-50', 'https://www.amazon.in/Cutaway-Acoustic-Humidity-resistance-resonance/dp/B09RRH7R5F/ref=sr_1_51?crid=J2T429VLPU32&dib=eyJ2IjoiMSJ9.yMNWF0-ZbwuOEjMTW7AEIy-7cwmFzGIQSCMC8z4mYkiVJ0Q8PniDU9qCdaXZ8tskLJSjvtRT4fqk_HiRdcD3jN1e42deR3gi94NTNb95Qhx-y1hYK88UG6pWDbrstVpqFSJxkpIN84I0A5dW4NqfAJWvliGe3xSfuWSCL9wJuu3H2LxOA_93Cb43c8hStwljftK6qGu2zecg6WbBuEaUI8W8CATUQIqW0CnE5mF9G9w2jIaDiGXlIUK3RzxrG0xvtb4rDUvlmqGtiTl0932XH-aiJjXvEkEWRKJTlw37zuk.bcl4s5DZp-VhbzA_qnvDQ7SEvPEpQ50DR0NxtjZr_04&dib_tag=se&keywords=gitar&qid=1713778093&sprefix=gitar%2Caps%2C376&sr=8-51', 'https://www.amazon.in/Acoustic-Cutaway-TBLS-Strings-Sunburst/dp/B098BCCY75/ref=sr_1_52?crid=J2T429VLPU32&dib=eyJ2IjoiMSJ9.yMNWF0-ZbwuOEjMTW7AEIy-7cwmFzGIQSCMC8z4mYkiVJ0Q8PniDU9qCdaXZ8tskLJSjvtRT4fqk_HiRdcD3jN1e42deR3gi94NTNb95Qhx-y1hYK88UG6pWDbrstVpqFSJxkpIN84I0A5dW4NqfAJWvliGe3xSfuWSCL9wJuu3H2LxOA_93Cb43c8hStwljftK6qGu2zecg6WbBuEaUI8W8CATUQIqW0CnE5mF9G9w2jIaDiGXlIUK3RzxrG0xvtb4rDUvlmqGtiTl0932XH-aiJjXvEkEWRKJTlw37zuk.bcl4s5DZp-VhbzA_qnvDQ7SEvPEpQ50DR0NxtjZr_04&dib_tag=se&keywords=gitar&qid=1713778093&sprefix=gitar%2Caps%2C376&sr=8-52', 'https://www.amazon.in/Blueberry-B-D38-Acoustic-Inbuilt-Strings/dp/B0B74CSY9V/ref=sr_1_53?crid=J2T429VLPU32&dib=eyJ2IjoiMSJ9.yMNWF0-ZbwuOEjMTW7AEIy-7cwmFzGIQSCMC8z4mYkiVJ0Q8PniDU9qCdaXZ8tskLJSjvtRT4fqk_HiRdcD3jN1e42deR3gi94NTNb95Qhx-y1hYK88UG6pWDbrstVpqFSJxkpIN84I0A5dW4NqfAJWvliGe3xSfuWSCL9wJuu3H2LxOA_93Cb43c8hStwljftK6qGu2zecg6WbBuEaUI8W8CATUQIqW0CnE5mF9G9w2jIaDiGXlIUK3RzxrG0xvtb4rDUvlmqGtiTl0932XH-aiJjXvEkEWRKJTlw37zuk.bcl4s5DZp-VhbzA_qnvDQ7SEvPEpQ50DR0NxtjZr_04&dib_tag=se&keywords=gitar&qid=1713778093&sprefix=gitar%2Caps%2C376&sr=8-53', 'https://www.amazon.in/Vault-ST1-Premium-Electric-Guitar/dp/B09GLYTF76/ref=sr_1_54?crid=J2T429VLPU32&dib=eyJ2IjoiMSJ9.yMNWF0-ZbwuOEjMTW7AEIy-7cwmFzGIQSCMC8z4mYkiVJ0Q8PniDU9qCdaXZ8tskLJSjvtRT4fqk_HiRdcD3jN1e42deR3gi94NTNb95Qhx-y1hYK88UG6pWDbrstVpqFSJxkpIN84I0A5dW4NqfAJWvliGe3xSfuWSCL9wJuu3H2LxOA_93Cb43c8hStwljftK6qGu2zecg6WbBuEaUI8W8CATUQIqW0CnE5mF9G9w2jIaDiGXlIUK3RzxrG0xvtb4rDUvlmqGtiTl0932XH-aiJjXvEkEWRKJTlw37zuk.bcl4s5DZp-VhbzA_qnvDQ7SEvPEpQ50DR0NxtjZr_04&dib_tag=se&keywords=gitar&qid=1713778093&sprefix=gitar%2Caps%2C376&sr=8-54', 'https://www.amazon.in/Traveller-Acoustic-Guitar-Strings-Polishing/dp/B07RK9962M/ref=sr_1_55?crid=J2T429VLPU32&dib=eyJ2IjoiMSJ9.yMNWF0-ZbwuOEjMTW7AEIy-7cwmFzGIQSCMC8z4mYkiVJ0Q8PniDU9qCdaXZ8tskLJSjvtRT4fqk_HiRdcD3jN1e42deR3gi94NTNb95Qhx-y1hYK88UG6pWDbrstVpqFSJxkpIN84I0A5dW4NqfAJWvliGe3xSfuWSCL9wJuu3H2LxOA_93Cb43c8hStwljftK6qGu2zecg6WbBuEaUI8W8CATUQIqW0CnE5mF9G9w2jIaDiGXlIUK3RzxrG0xvtb4rDUvlmqGtiTl0932XH-aiJjXvEkEWRKJTlw37zuk.bcl4s5DZp-VhbzA_qnvDQ7SEvPEpQ50DR0NxtjZr_04&dib_tag=se&keywords=gitar&qid=1713778093&sprefix=gitar%2Caps%2C376&sr=8-55', 'https://www.amazon.in/Kadence-A281BK-Professional-Acoustic-Rosewood/dp/B0CD7D6C6R/ref=sr_1_56?crid=J2T429VLPU32&dib=eyJ2IjoiMSJ9.yMNWF0-ZbwuOEjMTW7AEIy-7cwmFzGIQSCMC8z4mYkiVJ0Q8PniDU9qCdaXZ8tskLJSjvtRT4fqk_HiRdcD3jN1e42deR3gi94NTNb95Qhx-y1hYK88UG6pWDbrstVpqFSJxkpIN84I0A5dW4NqfAJWvliGe3xSfuWSCL9wJuu3H2LxOA_93Cb43c8hStwljftK6qGu2zecg6WbBuEaUI8W8CATUQIqW0CnE5mF9G9w2jIaDiGXlIUK3RzxrG0xvtb4rDUvlmqGtiTl0932XH-aiJjXvEkEWRKJTlw37zuk.bcl4s5DZp-VhbzA_qnvDQ7SEvPEpQ50DR0NxtjZr_04&dib_tag=se&keywords=gitar&qid=1713778093&sprefix=gitar%2Caps%2C376&sr=8-56', 'https://www.amazon.in/sspa/click?ie=UTF8&spc=MTo1NzY2ODIwNjU4NDA3MTEyOjE3MTM3NzgwOTM6c3BfYnRmOjMwMDE0MTc5MzY3NTMzMjo6MDo6&url=%2FGuitar-Tailpiece-Guitars-Bridge-Replacement%2Fdp%2FB0BWYSZW1Y%2Fref%3Dsr_1_57_sspa%3Fcrid%3DJ2T429VLPU32%26dib%3DeyJ2IjoiMSJ9.yMNWF0-ZbwuOEjMTW7AEIy-7cwmFzGIQSCMC8z4mYkiVJ0Q8PniDU9qCdaXZ8tskLJSjvtRT4fqk_HiRdcD3jN1e42deR3gi94NTNb95Qhx-y1hYK88UG6pWDbrstVpqFSJxkpIN84I0A5dW4NqfAJWvliGe3xSfuWSCL9wJuu3H2LxOA_93Cb43c8hStwljftK6qGu2zecg6WbBuEaUI8W8CATUQIqW0CnE5mF9G9w2jIaDiGXlIUK3RzxrG0xvtb4rDUvlmqGtiTl0932XH-aiJjXvEkEWRKJTlw37zuk.bcl4s5DZp-VhbzA_qnvDQ7SEvPEpQ50DR0NxtjZr_04%26dib_tag%3Dse%26keywords%3Dgitar%26qid%3D1713778093%26sprefix%3Dgitar%252Caps%252C376%26sr%3D8-57-spons%26sp_csd%3Dd2lkZ2V0TmFtZT1zcF9idGY%26psc%3D1', 'https://www.amazon.in/sspa/click?ie=UTF8&spc=MTo1NzY2ODIwNjU4NDA3MTEyOjE3MTM3NzgwOTM6c3BfYnRmOjMwMDE1MTQ1NDkxODkzMjo6MDo6&url=%2FSG-Musical-Anti-Slip-Accessories-Frame%2Fdp%2FB0BG5HYYQL%2Fref%3Dsr_1_58_sspa%3Fcrid%3DJ2T429VLPU32%26dib%3DeyJ2IjoiMSJ9.yMNWF0-ZbwuOEjMTW7AEIy-7cwmFzGIQSCMC8z4mYkiVJ0Q8PniDU9qCdaXZ8tskLJSjvtRT4fqk_HiRdcD3jN1e42deR3gi94NTNb95Qhx-y1hYK88UG6pWDbrstVpqFSJxkpIN84I0A5dW4NqfAJWvliGe3xSfuWSCL9wJuu3H2LxOA_93Cb43c8hStwljftK6qGu2zecg6WbBuEaUI8W8CATUQIqW0CnE5mF9G9w2jIaDiGXlIUK3RzxrG0xvtb4rDUvlmqGtiTl0932XH-aiJjXvEkEWRKJTlw37zuk.bcl4s5DZp-VhbzA_qnvDQ7SEvPEpQ50DR0NxtjZr_04%26dib_tag%3Dse%26keywords%3Dgitar%26qid%3D1713778093%26sprefix%3Dgitar%252Caps%252C376%26sr%3D8-58-spons%26sp_csd%3Dd2lkZ2V0TmFtZT1zcF9idGY%26psc%3D1', 'https://www.amazon.in/sspa/click?ie=UTF8&spc=MTo1NzY2ODIwNjU4NDA3MTEyOjE3MTM3NzgwOTM6c3BfYnRmOjMwMDE0NTc0NjU3MTQzMjo6MDo6&url=%2FSG-Musical-Guitar-silicon-fingers%2Fdp%2FB0BD4B826N%2Fref%3Dsr_1_59_sspa%3Fcrid%3DJ2T429VLPU32%26dib%3DeyJ2IjoiMSJ9.yMNWF0-ZbwuOEjMTW7AEIy-7cwmFzGIQSCMC8z4mYkiVJ0Q8PniDU9qCdaXZ8tskLJSjvtRT4fqk_HiRdcD3jN1e42deR3gi94NTNb95Qhx-y1hYK88UG6pWDbrstVpqFSJxkpIN84I0A5dW4NqfAJWvliGe3xSfuWSCL9wJuu3H2LxOA_93Cb43c8hStwljftK6qGu2zecg6WbBuEaUI8W8CATUQIqW0CnE5mF9G9w2jIaDiGXlIUK3RzxrG0xvtb4rDUvlmqGtiTl0932XH-aiJjXvEkEWRKJTlw37zuk.bcl4s5DZp-VhbzA_qnvDQ7SEvPEpQ50DR0NxtjZr_04%26dib_tag%3Dse%26keywords%3Dgitar%26qid%3D1713778093%26sprefix%3Dgitar%252Caps%252C376%26sr%3D8-59-spons%26sp_csd%3Dd2lkZ2V0TmFtZT1zcF9idGY%26psc%3D1', 'https://www.amazon.in/sspa/click?ie=UTF8&spc=MTo1NzY2ODIwNjU4NDA3MTEyOjE3MTM3NzgwOTM6c3BfYnRmOjMwMDE1MTQ1NDkxODgzMjo6MDo6&url=%2FSG-Musical-Metal-Guitar-Universal%2Fdp%2FB0BG5M472T%2Fref%3Dsr_1_60_sspa%3Fcrid%3DJ2T429VLPU32%26dib%3DeyJ2IjoiMSJ9.yMNWF0-ZbwuOEjMTW7AEIy-7cwmFzGIQSCMC8z4mYkiVJ0Q8PniDU9qCdaXZ8tskLJSjvtRT4fqk_HiRdcD3jN1e42deR3gi94NTNb95Qhx-y1hYK88UG6pWDbrstVpqFSJxkpIN84I0A5dW4NqfAJWvliGe3xSfuWSCL9wJuu3H2LxOA_93Cb43c8hStwljftK6qGu2zecg6WbBuEaUI8W8CATUQIqW0CnE5mF9G9w2jIaDiGXlIUK3RzxrG0xvtb4rDUvlmqGtiTl0932XH-aiJjXvEkEWRKJTlw37zuk.bcl4s5DZp-VhbzA_qnvDQ7SEvPEpQ50DR0NxtjZr_04%26dib_tag%3Dse%26keywords%3Dgitar%26qid%3D1713778093%26sprefix%3Dgitar%252Caps%252C376%26sr%3D8-60-spons%26sp_csd%3Dd2lkZ2V0TmFtZT1zcF9idGY%26psc%3D1', 'https://www.amazon.in/sspa/click?ie=UTF8&spc=MTo1NzY2ODIwNjU4NDA3MTEyOjE3MTM3NzgwOTM6c3BfYXRmOjMwMDAxNTUzNzk3OTIzMjo6MDo6&url=%2FKadence-Frontier-Acoustic-Guitar-Strings%2Fdp%2FB078GTJP5Y%2Fref%3Dsr_1_1_sspa%3Fcrid%3DJ2T429VLPU32%26dib%3DeyJ2IjoiMSJ9.yMNWF0-ZbwuOEjMTW7AEIy-7cwmFzGIQSCMC8z4mYkiVJ0Q8PniDU9qCdaXZ8tskLJSjvtRT4fqk_HiRdcD3jN1e42deR3gi94NTNb95Qhx-y1hYK88UG6pWDbrstVpqFSJxkpIN84I0A5dW4NqfAJWvliGe3xSfuWSCL9wJuu3H2LxOA_93Cb43c8hStwljftK6qGu2zecg6WbBuEaUI8W8CATUQIqW0CnE5mF9G9w2jIaDiGXlIUK3RzxrG0xvtb4rDUvlmqGtiTl0932XH-aiJjXvEkEWRKJTlw37zuk.bcl4s5DZp-VhbzA_qnvDQ7SEvPEpQ50DR0NxtjZr_04%26dib_tag%3Dse%26keywords%3Dgitar%26qid%3D1713778093%26sprefix%3Dgitar%252Caps%252C376%26sr%3D8-1-spons%26sp_csd%3Dd2lkZ2V0TmFtZT1zcF9hdGY%26psc%3D1', 'https://www.amazon.in/sspa/click?ie=UTF8&spc=MTo1NzY2ODIwNjU4NDA3MTEyOjE3MTM3NzgwOTM6c3BfYXRmOjIwMDUwNzcxNjg2MjA0OjowOjo&url=%2FHenrix-Acoustic-Guitar-Die-cast-Dual-action%2Fdp%2FB07VNDW6QF%2Fref%3Dsr_1_2_sspa%3Fcrid%3DJ2T429VLPU32%26dib%3DeyJ2IjoiMSJ9.yMNWF0-ZbwuOEjMTW7AEIy-7cwmFzGIQSCMC8z4mYkiVJ0Q8PniDU9qCdaXZ8tskLJSjvtRT4fqk_HiRdcD3jN1e42deR3gi94NTNb95Qhx-y1hYK88UG6pWDbrstVpqFSJxkpIN84I0A5dW4NqfAJWvliGe3xSfuWSCL9wJuu3H2LxOA_93Cb43c8hStwljftK6qGu2zecg6WbBuEaUI8W8CATUQIqW0CnE5mF9G9w2jIaDiGXlIUK3RzxrG0xvtb4rDUvlmqGtiTl0932XH-aiJjXvEkEWRKJTlw37zuk.bcl4s5DZp-VhbzA_qnvDQ7SEvPEpQ50DR0NxtjZr_04%26dib_tag%3Dse%26keywords%3Dgitar%26qid%3D1713778093%26sprefix%3Dgitar%252Caps%252C376%26sr%3D8-2-spons%26sp_csd%3Dd2lkZ2V0TmFtZT1zcF9hdGY%26psc%3D1', 'https://www.amazon.in/sspa/click?ie=UTF8&spc=MTo1NzY2ODIwNjU4NDA3MTEyOjE3MTM3NzgwOTM6c3BfYXRmOjMwMDAxNTUwODk1NDEzMjo6MDo6&url=%2FKadence-Frontier-Acoustic-Guitar-Strings%2Fdp%2FB01GDZ46AA%2Fref%3Dsr_1_3_sspa%3Fcrid%3DJ2T429VLPU32%26dib%3DeyJ2IjoiMSJ9.yMNWF0-ZbwuOEjMTW7AEIy-7cwmFzGIQSCMC8z4mYkiVJ0Q8PniDU9qCdaXZ8tskLJSjvtRT4fqk_HiRdcD3jN1e42deR3gi94NTNb95Qhx-y1hYK88UG6pWDbrstVpqFSJxkpIN84I0A5dW4NqfAJWvliGe3xSfuWSCL9wJuu3H2LxOA_93Cb43c8hStwljftK6qGu2zecg6WbBuEaUI8W8CATUQIqW0CnE5mF9G9w2jIaDiGXlIUK3RzxrG0xvtb4rDUvlmqGtiTl0932XH-aiJjXvEkEWRKJTlw37zuk.bcl4s5DZp-VhbzA_qnvDQ7SEvPEpQ50DR0NxtjZr_04%26dib_tag%3Dse%26keywords%3Dgitar%26qid%3D1713778093%26sprefix%3Dgitar%252Caps%252C376%26sr%3D8-3-spons%26sp_csd%3Dd2lkZ2V0TmFtZT1zcF9hdGY%26psc%3D1', 'https://www.amazon.in/sspa/click?ie=UTF8&spc=MTo1NzY2ODIwNjU4NDA3MTEyOjE3MTM3NzgwOTM6c3BfYXRmOjMwMDAzNDc3Mzk4MDUzMjo6MDo6&url=%2FKadence-Professional-Acoustic-Rosewood-Natural%2Fdp%2FB0CC927DLN%2Fref%3Dsr_1_4_sspa%3Fcrid%3DJ2T429VLPU32%26dib%3DeyJ2IjoiMSJ9.yMNWF0-ZbwuOEjMTW7AEIy-7cwmFzGIQSCMC8z4mYkiVJ0Q8PniDU9qCdaXZ8tskLJSjvtRT4fqk_HiRdcD3jN1e42deR3gi94NTNb95Qhx-y1hYK88UG6pWDbrstVpqFSJxkpIN84I0A5dW4NqfAJWvliGe3xSfuWSCL9wJuu3H2LxOA_93Cb43c8hStwljftK6qGu2zecg6WbBuEaUI8W8CATUQIqW0CnE5mF9G9w2jIaDiGXlIUK3RzxrG0xvtb4rDUvlmqGtiTl0932XH-aiJjXvEkEWRKJTlw37zuk.bcl4s5DZp-VhbzA_qnvDQ7SEvPEpQ50DR0NxtjZr_04%26dib_tag%3Dse%26keywords%3Dgitar%26qid%3D1713778093%26sprefix%3Dgitar%252Caps%252C376%26sr%3D8-4-spons%26sp_csd%3Dd2lkZ2V0TmFtZT1zcF9hdGY%26psc%3D1', 'https://www.amazon.in/JUAREZ-JRZ38C-Handed-Acoustic-Strings/dp/B01FYYTDX6/ref=sr_1_5?crid=J2T429VLPU32&dib=eyJ2IjoiMSJ9.yMNWF0-ZbwuOEjMTW7AEIy-7cwmFzGIQSCMC8z4mYkiVJ0Q8PniDU9qCdaXZ8tskLJSjvtRT4fqk_HiRdcD3jN1e42deR3gi94NTNb95Qhx-y1hYK88UG6pWDbrstVpqFSJxkpIN84I0A5dW4NqfAJWvliGe3xSfuWSCL9wJuu3H2LxOA_93Cb43c8hStwljftK6qGu2zecg6WbBuEaUI8W8CATUQIqW0CnE5mF9G9w2jIaDiGXlIUK3RzxrG0xvtb4rDUvlmqGtiTl0932XH-aiJjXvEkEWRKJTlw37zuk.bcl4s5DZp-VhbzA_qnvDQ7SEvPEpQ50DR0NxtjZr_04&dib_tag=se&keywords=gitar&qid=1713778093&sprefix=gitar%2Caps%2C376&sr=8-5', 'https://www.amazon.in/4-String-Learning-Childrens-Instrument-Beginners/dp/B08KP66ZZN/ref=sr_1_6?crid=J2T429VLPU32&dib=eyJ2IjoiMSJ9.yMNWF0-ZbwuOEjMTW7AEIy-7cwmFzGIQSCMC8z4mYkiVJ0Q8PniDU9qCdaXZ8tskLJSjvtRT4fqk_HiRdcD3jN1e42deR3gi94NTNb95Qhx-y1hYK88UG6pWDbrstVpqFSJxkpIN84I0A5dW4NqfAJWvliGe3xSfuWSCL9wJuu3H2LxOA_93Cb43c8hStwljftK6qGu2zecg6WbBuEaUI8W8CATUQIqW0CnE5mF9G9w2jIaDiGXlIUK3RzxrG0xvtb4rDUvlmqGtiTl0932XH-aiJjXvEkEWRKJTlw37zuk.bcl4s5DZp-VhbzA_qnvDQ7SEvPEpQ50DR0NxtjZr_04&dib_tag=se&keywords=gitar&qid=1713778093&sprefix=gitar%2Caps%2C376&sr=8-6', 'https://www.amazon.in/Medellin-MED-BLU-C-Linden-Acoustic-Guitar/dp/B07NBMWHJW/ref=sr_1_7?crid=J2T429VLPU32&dib=eyJ2IjoiMSJ9.yMNWF0-ZbwuOEjMTW7AEIy-7cwmFzGIQSCMC8z4mYkiVJ0Q8PniDU9qCdaXZ8tskLJSjvtRT4fqk_HiRdcD3jN1e42deR3gi94NTNb95Qhx-y1hYK88UG6pWDbrstVpqFSJxkpIN84I0A5dW4NqfAJWvliGe3xSfuWSCL9wJuu3H2LxOA_93Cb43c8hStwljftK6qGu2zecg6WbBuEaUI8W8CATUQIqW0CnE5mF9G9w2jIaDiGXlIUK3RzxrG0xvtb4rDUvlmqGtiTl0932XH-aiJjXvEkEWRKJTlw37zuk.bcl4s5DZp-VhbzA_qnvDQ7SEvPEpQ50DR0NxtjZr_04&dib_tag=se&keywords=gitar&qid=1713778093&sprefix=gitar%2Caps%2C376&sr=8-7', 'https://www.amazon.in/JRZ38C-VTS-Strings-Acoustic-Cutaway/dp/B072MFLQC9/ref=sr_1_8?crid=J2T429VLPU32&dib=eyJ2IjoiMSJ9.yMNWF0-ZbwuOEjMTW7AEIy-7cwmFzGIQSCMC8z4mYkiVJ0Q8PniDU9qCdaXZ8tskLJSjvtRT4fqk_HiRdcD3jN1e42deR3gi94NTNb95Qhx-y1hYK88UG6pWDbrstVpqFSJxkpIN84I0A5dW4NqfAJWvliGe3xSfuWSCL9wJuu3H2LxOA_93Cb43c8hStwljftK6qGu2zecg6WbBuEaUI8W8CATUQIqW0CnE5mF9G9w2jIaDiGXlIUK3RzxrG0xvtb4rDUvlmqGtiTl0932XH-aiJjXvEkEWRKJTlw37zuk.bcl4s5DZp-VhbzA_qnvDQ7SEvPEpQ50DR0NxtjZr_04&dib_tag=se&keywords=gitar&qid=1713778093&sprefix=gitar%2Caps%2C376&sr=8-8', 'https://www.amazon.in/Acoustic-Cutaway-RDS-Strings-Sunburst/dp/B076QGY91P/ref=sr_1_9?crid=J2T429VLPU32&dib=eyJ2IjoiMSJ9.yMNWF0-ZbwuOEjMTW7AEIy-7cwmFzGIQSCMC8z4mYkiVJ0Q8PniDU9qCdaXZ8tskLJSjvtRT4fqk_HiRdcD3jN1e42deR3gi94NTNb95Qhx-y1hYK88UG6pWDbrstVpqFSJxkpIN84I0A5dW4NqfAJWvliGe3xSfuWSCL9wJuu3H2LxOA_93Cb43c8hStwljftK6qGu2zecg6WbBuEaUI8W8CATUQIqW0CnE5mF9G9w2jIaDiGXlIUK3RzxrG0xvtb4rDUvlmqGtiTl0932XH-aiJjXvEkEWRKJTlw37zuk.bcl4s5DZp-VhbzA_qnvDQ7SEvPEpQ50DR0NxtjZr_04&dib_tag=se&keywords=gitar&qid=1713778093&sprefix=gitar%2Caps%2C376&sr=8-9', 'https://www.amazon.in/JUAREZ-JRZ38C-3TSNA/dp/B0BCQQRDF3/ref=sr_1_10?crid=J2T429VLPU32&dib=eyJ2IjoiMSJ9.yMNWF0-ZbwuOEjMTW7AEIy-7cwmFzGIQSCMC8z4mYkiVJ0Q8PniDU9qCdaXZ8tskLJSjvtRT4fqk_HiRdcD3jN1e42deR3gi94NTNb95Qhx-y1hYK88UG6pWDbrstVpqFSJxkpIN84I0A5dW4NqfAJWvliGe3xSfuWSCL9wJuu3H2LxOA_93Cb43c8hStwljftK6qGu2zecg6WbBuEaUI8W8CATUQIqW0CnE5mF9G9w2jIaDiGXlIUK3RzxrG0xvtb4rDUvlmqGtiTl0932XH-aiJjXvEkEWRKJTlw37zuk.bcl4s5DZp-VhbzA_qnvDQ7SEvPEpQ50DR0NxtjZr_04&dib_tag=se&keywords=gitar&qid=1713778093&sprefix=gitar%2Caps%2C376&sr=8-10', 'https://www.amazon.in/Intern-38-inch-Cutaway-Design-Acoustic/dp/B07X4PN85R/ref=sr_1_11?crid=J2T429VLPU32&dib=eyJ2IjoiMSJ9.yMNWF0-ZbwuOEjMTW7AEIy-7cwmFzGIQSCMC8z4mYkiVJ0Q8PniDU9qCdaXZ8tskLJSjvtRT4fqk_HiRdcD3jN1e42deR3gi94NTNb95Qhx-y1hYK88UG6pWDbrstVpqFSJxkpIN84I0A5dW4NqfAJWvliGe3xSfuWSCL9wJuu3H2LxOA_93Cb43c8hStwljftK6qGu2zecg6WbBuEaUI8W8CATUQIqW0CnE5mF9G9w2jIaDiGXlIUK3RzxrG0xvtb4rDUvlmqGtiTl0932XH-aiJjXvEkEWRKJTlw37zuk.bcl4s5DZp-VhbzA_qnvDQ7SEvPEpQ50DR0NxtjZr_04&dib_tag=se&keywords=gitar&qid=1713778093&sprefix=gitar%2Caps%2C376&sr=8-11', 'https://www.amazon.in/Juarez-Acoustic-Cutaway-038C-Strings/dp/B017NPCSLI/ref=sr_1_12?crid=J2T429VLPU32&dib=eyJ2IjoiMSJ9.yMNWF0-ZbwuOEjMTW7AEIy-7cwmFzGIQSCMC8z4mYkiVJ0Q8PniDU9qCdaXZ8tskLJSjvtRT4fqk_HiRdcD3jN1e42deR3gi94NTNb95Qhx-y1hYK88UG6pWDbrstVpqFSJxkpIN84I0A5dW4NqfAJWvliGe3xSfuWSCL9wJuu3H2LxOA_93Cb43c8hStwljftK6qGu2zecg6WbBuEaUI8W8CATUQIqW0CnE5mF9G9w2jIaDiGXlIUK3RzxrG0xvtb4rDUvlmqGtiTl0932XH-aiJjXvEkEWRKJTlw37zuk.bcl4s5DZp-VhbzA_qnvDQ7SEvPEpQ50DR0NxtjZr_04&dib_tag=se&keywords=gitar&qid=1713778093&sprefix=gitar%2Caps%2C376&sr=8-12', 'https://www.amazon.in/Henrix-Cutaway-Acoustic-Guitar-Action/dp/B097NCQFFM/ref=sr_1_13?crid=J2T429VLPU32&dib=eyJ2IjoiMSJ9.yMNWF0-ZbwuOEjMTW7AEIy-7cwmFzGIQSCMC8z4mYkiVJ0Q8PniDU9qCdaXZ8tskLJSjvtRT4fqk_HiRdcD3jN1e42deR3gi94NTNb95Qhx-y1hYK88UG6pWDbrstVpqFSJxkpIN84I0A5dW4NqfAJWvliGe3xSfuWSCL9wJuu3H2LxOA_93Cb43c8hStwljftK6qGu2zecg6WbBuEaUI8W8CATUQIqW0CnE5mF9G9w2jIaDiGXlIUK3RzxrG0xvtb4rDUvlmqGtiTl0932XH-aiJjXvEkEWRKJTlw37zuk.bcl4s5DZp-VhbzA_qnvDQ7SEvPEpQ50DR0NxtjZr_04&dib_tag=se&keywords=gitar&qid=1713778093&sprefix=gitar%2Caps%2C376&sr=8-13', 'https://www.amazon.in/Yamaha-F280-Acoustic-Guitar-Natural/dp/B08317Y4VP/ref=sr_1_14?crid=J2T429VLPU32&dib=eyJ2IjoiMSJ9.yMNWF0-ZbwuOEjMTW7AEIy-7cwmFzGIQSCMC8z4mYkiVJ0Q8PniDU9qCdaXZ8tskLJSjvtRT4fqk_HiRdcD3jN1e42deR3gi94NTNb95Qhx-y1hYK88UG6pWDbrstVpqFSJxkpIN84I0A5dW4NqfAJWvliGe3xSfuWSCL9wJuu3H2LxOA_93Cb43c8hStwljftK6qGu2zecg6WbBuEaUI8W8CATUQIqW0CnE5mF9G9w2jIaDiGXlIUK3RzxrG0xvtb4rDUvlmqGtiTl0932XH-aiJjXvEkEWRKJTlw37zuk.bcl4s5DZp-VhbzA_qnvDQ7SEvPEpQ50DR0NxtjZr_04&dib_tag=se&keywords=gitar&qid=1713778093&sprefix=gitar%2Caps%2C376&sr=8-14', 'https://www.amazon.in/JUAREZ-JRZ38C-BKNA/dp/B0BCQNVPRB/ref=sr_1_15?crid=J2T429VLPU32&dib=eyJ2IjoiMSJ9.yMNWF0-ZbwuOEjMTW7AEIy-7cwmFzGIQSCMC8z4mYkiVJ0Q8PniDU9qCdaXZ8tskLJSjvtRT4fqk_HiRdcD3jN1e42deR3gi94NTNb95Qhx-y1hYK88UG6pWDbrstVpqFSJxkpIN84I0A5dW4NqfAJWvliGe3xSfuWSCL9wJuu3H2LxOA_93Cb43c8hStwljftK6qGu2zecg6WbBuEaUI8W8CATUQIqW0CnE5mF9G9w2jIaDiGXlIUK3RzxrG0xvtb4rDUvlmqGtiTl0932XH-aiJjXvEkEWRKJTlw37zuk.bcl4s5DZp-VhbzA_qnvDQ7SEvPEpQ50DR0NxtjZr_04&dib_tag=se&keywords=gitar&qid=1713778093&sprefix=gitar%2Caps%2C376&sr=8-15', 'https://www.amazon.in/Kadence-Slowhand-Premium-Acoustic-Instrument/dp/B077SZ667X/ref=sr_1_16?crid=J2T429VLPU32&dib=eyJ2IjoiMSJ9.yMNWF0-ZbwuOEjMTW7AEIy-7cwmFzGIQSCMC8z4mYkiVJ0Q8PniDU9qCdaXZ8tskLJSjvtRT4fqk_HiRdcD3jN1e42deR3gi94NTNb95Qhx-y1hYK88UG6pWDbrstVpqFSJxkpIN84I0A5dW4NqfAJWvliGe3xSfuWSCL9wJuu3H2LxOA_93Cb43c8hStwljftK6qGu2zecg6WbBuEaUI8W8CATUQIqW0CnE5mF9G9w2jIaDiGXlIUK3RzxrG0xvtb4rDUvlmqGtiTl0932XH-aiJjXvEkEWRKJTlw37zuk.bcl4s5DZp-VhbzA_qnvDQ7SEvPEpQ50DR0NxtjZr_04&dib_tag=se&keywords=gitar&qid=1713778093&sprefix=gitar%2Caps%2C376&sr=8-16', 'https://www.amazon.in/Intern-INT-38C-Acoustic-Guitar-Black/dp/B073B6TQQY/ref=sr_1_17?crid=J2T429VLPU32&dib=eyJ2IjoiMSJ9.yMNWF0-ZbwuOEjMTW7AEIy-7cwmFzGIQSCMC8z4mYkiVJ0Q8PniDU9qCdaXZ8tskLJSjvtRT4fqk_HiRdcD3jN1e42deR3gi94NTNb95Qhx-y1hYK88UG6pWDbrstVpqFSJxkpIN84I0A5dW4NqfAJWvliGe3xSfuWSCL9wJuu3H2LxOA_93Cb43c8hStwljftK6qGu2zecg6WbBuEaUI8W8CATUQIqW0CnE5mF9G9w2jIaDiGXlIUK3RzxrG0xvtb4rDUvlmqGtiTl0932XH-aiJjXvEkEWRKJTlw37zuk.bcl4s5DZp-VhbzA_qnvDQ7SEvPEpQ50DR0NxtjZr_04&dib_tag=se&keywords=gitar&qid=1713778093&sprefix=gitar%2Caps%2C376&sr=8-17', 'https://www.amazon.in/Yamaha-F310-6-Strings-Acoustic-Natural/dp/B000RVYW7E/ref=sr_1_18?crid=J2T429VLPU32&dib=eyJ2IjoiMSJ9.yMNWF0-ZbwuOEjMTW7AEIy-7cwmFzGIQSCMC8z4mYkiVJ0Q8PniDU9qCdaXZ8tskLJSjvtRT4fqk_HiRdcD3jN1e42deR3gi94NTNb95Qhx-y1hYK88UG6pWDbrstVpqFSJxkpIN84I0A5dW4NqfAJWvliGe3xSfuWSCL9wJuu3H2LxOA_93Cb43c8hStwljftK6qGu2zecg6WbBuEaUI8W8CATUQIqW0CnE5mF9G9w2jIaDiGXlIUK3RzxrG0xvtb4rDUvlmqGtiTl0932XH-aiJjXvEkEWRKJTlw37zuk.bcl4s5DZp-VhbzA_qnvDQ7SEvPEpQ50DR0NxtjZr_04&dib_tag=se&keywords=gitar&qid=1713778093&sprefix=gitar%2Caps%2C376&sr=8-18', 'https://www.amazon.in/Juarez-JRZ-ST01-6-String-Electric-Without/dp/B01FYZSOGM/ref=sr_1_19?crid=J2T429VLPU32&dib=eyJ2IjoiMSJ9.yMNWF0-ZbwuOEjMTW7AEIy-7cwmFzGIQSCMC8z4mYkiVJ0Q8PniDU9qCdaXZ8tskLJSjvtRT4fqk_HiRdcD3jN1e42deR3gi94NTNb95Qhx-y1hYK88UG6pWDbrstVpqFSJxkpIN84I0A5dW4NqfAJWvliGe3xSfuWSCL9wJuu3H2LxOA_93Cb43c8hStwljftK6qGu2zecg6WbBuEaUI8W8CATUQIqW0CnE5mF9G9w2jIaDiGXlIUK3RzxrG0xvtb4rDUvlmqGtiTl0932XH-aiJjXvEkEWRKJTlw37zuk.bcl4s5DZp-VhbzA_qnvDQ7SEvPEpQ50DR0NxtjZr_04&dib_tag=se&keywords=gitar&qid=1713778093&sprefix=gitar%2Caps%2C376&sr=8-19', 'https://www.amazon.in/JUAREZ-JRZ38C-TBLSNA/dp/B0BCQKQ6CS/ref=sr_1_20?crid=J2T429VLPU32&dib=eyJ2IjoiMSJ9.yMNWF0-ZbwuOEjMTW7AEIy-7cwmFzGIQSCMC8z4mYkiVJ0Q8PniDU9qCdaXZ8tskLJSjvtRT4fqk_HiRdcD3jN1e42deR3gi94NTNb95Qhx-y1hYK88UG6pWDbrstVpqFSJxkpIN84I0A5dW4NqfAJWvliGe3xSfuWSCL9wJuu3H2LxOA_93Cb43c8hStwljftK6qGu2zecg6WbBuEaUI8W8CATUQIqW0CnE5mF9G9w2jIaDiGXlIUK3RzxrG0xvtb4rDUvlmqGtiTl0932XH-aiJjXvEkEWRKJTlw37zuk.bcl4s5DZp-VhbzA_qnvDQ7SEvPEpQ50DR0NxtjZr_04&dib_tag=se&keywords=gitar&qid=1713778093&sprefix=gitar%2Caps%2C376&sr=8-20', 'https://www.amazon.in/sspa/click?ie=UTF8&spc=MTo1NzY2ODIwNjU4NDA3MTEyOjE3MTM3NzgwOTM6c3BfbXRmOjMwMDE0ODU0ODIzMTYzMjo6MDo6&url=%2FIbanez-MD39C-NT-Cutaway-Acoustic-Polishing%2Fdp%2FB084C1DGCV%2Fref%3Dsr_1_21_sspa%3Fcrid%3DJ2T429VLPU32%26dib%3DeyJ2IjoiMSJ9.yMNWF0-ZbwuOEjMTW7AEIy-7cwmFzGIQSCMC8z4mYkiVJ0Q8PniDU9qCdaXZ8tskLJSjvtRT4fqk_HiRdcD3jN1e42deR3gi94NTNb95Qhx-y1hYK88UG6pWDbrstVpqFSJxkpIN84I0A5dW4NqfAJWvliGe3xSfuWSCL9wJuu3H2LxOA_93Cb43c8hStwljftK6qGu2zecg6WbBuEaUI8W8CATUQIqW0CnE5mF9G9w2jIaDiGXlIUK3RzxrG0xvtb4rDUvlmqGtiTl0932XH-aiJjXvEkEWRKJTlw37zuk.bcl4s5DZp-VhbzA_qnvDQ7SEvPEpQ50DR0NxtjZr_04%26dib_tag%3Dse%26keywords%3Dgitar%26qid%3D1713778093%26sprefix%3Dgitar%252Caps%252C376%26sr%3D8-21-spons%26sp_csd%3Dd2lkZ2V0TmFtZT1zcF9tdGY%26psc%3D1', 'https://www.amazon.in/sspa/click?ie=UTF8&spc=MTo1NzY2ODIwNjU4NDA3MTEyOjE3MTM3NzgwOTM6c3BfbXRmOjMwMDE2MzkzNzg1NzIzMjo6MDo6&url=%2FMOCKING-BIRD-Acoustic-beginners-instrument%2Fdp%2FB0CR9XH4QH%2Fref%3Dsr_1_22_sspa%3Fcrid%3DJ2T429VLPU32%26dib%3DeyJ2IjoiMSJ9.yMNWF0-ZbwuOEjMTW7AEIy-7cwmFzGIQSCMC8z4mYkiVJ0Q8PniDU9qCdaXZ8tskLJSjvtRT4fqk_HiRdcD3jN1e42deR3gi94NTNb95Qhx-y1hYK88UG6pWDbrstVpqFSJxkpIN84I0A5dW4NqfAJWvliGe3xSfuWSCL9wJuu3H2LxOA_93Cb43c8hStwljftK6qGu2zecg6WbBuEaUI8W8CATUQIqW0CnE5mF9G9w2jIaDiGXlIUK3RzxrG0xvtb4rDUvlmqGtiTl0932XH-aiJjXvEkEWRKJTlw37zuk.bcl4s5DZp-VhbzA_qnvDQ7SEvPEpQ50DR0NxtjZr_04%26dib_tag%3Dse%26keywords%3Dgitar%26qid%3D1713778093%26sprefix%3Dgitar%252Caps%252C376%26sr%3D8-22-spons%26sp_csd%3Dd2lkZ2V0TmFtZT1zcF9tdGY%26psc%3D1', 'https://www.amazon.in/sspa/click?ie=UTF8&spc=MTo1NzY2ODIwNjU4NDA3MTEyOjE3MTM3NzgwOTM6c3BfbXRmOjMwMDE0MTg2MjIyNjAzMjo6MDo6&url=%2FRichtone-B239C-Natural-cutaway-Acoustic%2Fdp%2FB0CNW9RZ9D%2Fref%3Dsr_1_23_sspa%3Fcrid%3DJ2T429VLPU32%26dib%3DeyJ2IjoiMSJ9.yMNWF0-ZbwuOEjMTW7AEIy-7cwmFzGIQSCMC8z4mYkiVJ0Q8PniDU9qCdaXZ8tskLJSjvtRT4fqk_HiRdcD3jN1e42deR3gi94NTNb95Qhx-y1hYK88UG6pWDbrstVpqFSJxkpIN84I0A5dW4NqfAJWvliGe3xSfuWSCL9wJuu3H2LxOA_93Cb43c8hStwljftK6qGu2zecg6WbBuEaUI8W8CATUQIqW0CnE5mF9G9w2jIaDiGXlIUK3RzxrG0xvtb4rDUvlmqGtiTl0932XH-aiJjXvEkEWRKJTlw37zuk.bcl4s5DZp-VhbzA_qnvDQ7SEvPEpQ50DR0NxtjZr_04%26dib_tag%3Dse%26keywords%3Dgitar%26qid%3D1713778093%26sprefix%3Dgitar%252Caps%252C376%26sr%3D8-23-spons%26sp_csd%3Dd2lkZ2V0TmFtZT1zcF9tdGY%26psc%3D1', 'https://www.amazon.in/sspa/click?ie=UTF8&spc=MTo1NzY2ODIwNjU4NDA3MTEyOjE3MTM3NzgwOTM6c3BfbXRmOjIwMDU3MzAzOTg2MjA0OjowOjo&url=%2FKadence-Slowhand-Premium-Acoustic-Instrument%2Fdp%2FB077SZ667X%2Fref%3Dsr_1_24_sspa%3Fcrid%3DJ2T429VLPU32%26dib%3DeyJ2IjoiMSJ9.yMNWF0-ZbwuOEjMTW7AEIy-7cwmFzGIQSCMC8z4mYkiVJ0Q8PniDU9qCdaXZ8tskLJSjvtRT4fqk_HiRdcD3jN1e42deR3gi94NTNb95Qhx-y1hYK88UG6pWDbrstVpqFSJxkpIN84I0A5dW4NqfAJWvliGe3xSfuWSCL9wJuu3H2LxOA_93Cb43c8hStwljftK6qGu2zecg6WbBuEaUI8W8CATUQIqW0CnE5mF9G9w2jIaDiGXlIUK3RzxrG0xvtb4rDUvlmqGtiTl0932XH-aiJjXvEkEWRKJTlw37zuk.bcl4s5DZp-VhbzA_qnvDQ7SEvPEpQ50DR0NxtjZr_04%26dib_tag%3Dse%26keywords%3Dgitar%26qid%3D1713778093%26sprefix%3Dgitar%252Caps%252C376%26sr%3D8-24-spons%26sp_csd%3Dd2lkZ2V0TmFtZT1zcF9tdGY%26psc%3D1', 'https://www.amazon.in/Kadence-Professional-Acoustic-Rosewood-Natural/dp/B0CC927DLN/ref=sr_1_25?crid=J2T429VLPU32&dib=eyJ2IjoiMSJ9.yMNWF0-ZbwuOEjMTW7AEIy-7cwmFzGIQSCMC8z4mYkiVJ0Q8PniDU9qCdaXZ8tskLJSjvtRT4fqk_HiRdcD3jN1e42deR3gi94NTNb95Qhx-y1hYK88UG6pWDbrstVpqFSJxkpIN84I0A5dW4NqfAJWvliGe3xSfuWSCL9wJuu3H2LxOA_93Cb43c8hStwljftK6qGu2zecg6WbBuEaUI8W8CATUQIqW0CnE5mF9G9w2jIaDiGXlIUK3RzxrG0xvtb4rDUvlmqGtiTl0932XH-aiJjXvEkEWRKJTlw37zuk.bcl4s5DZp-VhbzA_qnvDQ7SEvPEpQ50DR0NxtjZr_04&dib_tag=se&keywords=gitar&qid=1713778093&sprefix=gitar%2Caps%2C376&sr=8-25', 'https://www.amazon.in/Vault-Soloist-Premium-Electric-Guitar/dp/B09GLZSS95/ref=sr_1_26?crid=J2T429VLPU32&dib=eyJ2IjoiMSJ9.yMNWF0-ZbwuOEjMTW7AEIy-7cwmFzGIQSCMC8z4mYkiVJ0Q8PniDU9qCdaXZ8tskLJSjvtRT4fqk_HiRdcD3jN1e42deR3gi94NTNb95Qhx-y1hYK88UG6pWDbrstVpqFSJxkpIN84I0A5dW4NqfAJWvliGe3xSfuWSCL9wJuu3H2LxOA_93Cb43c8hStwljftK6qGu2zecg6WbBuEaUI8W8CATUQIqW0CnE5mF9G9w2jIaDiGXlIUK3RzxrG0xvtb4rDUvlmqGtiTl0932XH-aiJjXvEkEWRKJTlw37zuk.bcl4s5DZp-VhbzA_qnvDQ7SEvPEpQ50DR0NxtjZr_04&dib_tag=se&keywords=gitar&qid=1713778093&sprefix=gitar%2Caps%2C376&sr=8-26', 'https://www.amazon.in/Medellin-Acoustic-Guitar-learning-Strings/dp/B0CCNSN9BV/ref=sr_1_27?crid=J2T429VLPU32&dib=eyJ2IjoiMSJ9.yMNWF0-ZbwuOEjMTW7AEIy-7cwmFzGIQSCMC8z4mYkiVJ0Q8PniDU9qCdaXZ8tskLJSjvtRT4fqk_HiRdcD3jN1e42deR3gi94NTNb95Qhx-y1hYK88UG6pWDbrstVpqFSJxkpIN84I0A5dW4NqfAJWvliGe3xSfuWSCL9wJuu3H2LxOA_93Cb43c8hStwljftK6qGu2zecg6WbBuEaUI8W8CATUQIqW0CnE5mF9G9w2jIaDiGXlIUK3RzxrG0xvtb4rDUvlmqGtiTl0932XH-aiJjXvEkEWRKJTlw37zuk.bcl4s5DZp-VhbzA_qnvDQ7SEvPEpQ50DR0NxtjZr_04&dib_tag=se&keywords=gitar&qid=1713778093&sprefix=gitar%2Caps%2C376&sr=8-27', 'https://www.amazon.in/JUAREZ-JRZ38C-Acoustic-Sunburst-Strings/dp/B01FYYTDS6/ref=sr_1_28?crid=J2T429VLPU32&dib=eyJ2IjoiMSJ9.yMNWF0-ZbwuOEjMTW7AEIy-7cwmFzGIQSCMC8z4mYkiVJ0Q8PniDU9qCdaXZ8tskLJSjvtRT4fqk_HiRdcD3jN1e42deR3gi94NTNb95Qhx-y1hYK88UG6pWDbrstVpqFSJxkpIN84I0A5dW4NqfAJWvliGe3xSfuWSCL9wJuu3H2LxOA_93Cb43c8hStwljftK6qGu2zecg6WbBuEaUI8W8CATUQIqW0CnE5mF9G9w2jIaDiGXlIUK3RzxrG0xvtb4rDUvlmqGtiTl0932XH-aiJjXvEkEWRKJTlw37zuk.bcl4s5DZp-VhbzA_qnvDQ7SEvPEpQ50DR0NxtjZr_04&dib_tag=se&keywords=gitar&qid=1713778093&sprefix=gitar%2Caps%2C376&sr=8-28', 'https://www.amazon.in/Ju%C3%A2rez-Acoustic-Guitar-Cutaway-Strings/dp/B0BCQNLXVM/ref=sr_1_29?crid=J2T429VLPU32&dib=eyJ2IjoiMSJ9.yMNWF0-ZbwuOEjMTW7AEIy-7cwmFzGIQSCMC8z4mYkiVJ0Q8PniDU9qCdaXZ8tskLJSjvtRT4fqk_HiRdcD3jN1e42deR3gi94NTNb95Qhx-y1hYK88UG6pWDbrstVpqFSJxkpIN84I0A5dW4NqfAJWvliGe3xSfuWSCL9wJuu3H2LxOA_93Cb43c8hStwljftK6qGu2zecg6WbBuEaUI8W8CATUQIqW0CnE5mF9G9w2jIaDiGXlIUK3RzxrG0xvtb4rDUvlmqGtiTl0932XH-aiJjXvEkEWRKJTlw37zuk.bcl4s5DZp-VhbzA_qnvDQ7SEvPEpQ50DR0NxtjZr_04&dib_tag=se&keywords=gitar&qid=1713778093&sprefix=gitar%2Caps%2C376&sr=8-29', 'https://www.amazon.in/Yamaha-Classical-Guitar-C40-02/dp/B003UGCUFE/ref=sr_1_30?crid=J2T429VLPU32&dib=eyJ2IjoiMSJ9.yMNWF0-ZbwuOEjMTW7AEIy-7cwmFzGIQSCMC8z4mYkiVJ0Q8PniDU9qCdaXZ8tskLJSjvtRT4fqk_HiRdcD3jN1e42deR3gi94NTNb95Qhx-y1hYK88UG6pWDbrstVpqFSJxkpIN84I0A5dW4NqfAJWvliGe3xSfuWSCL9wJuu3H2LxOA_93Cb43c8hStwljftK6qGu2zecg6WbBuEaUI8W8CATUQIqW0CnE5mF9G9w2jIaDiGXlIUK3RzxrG0xvtb4rDUvlmqGtiTl0932XH-aiJjXvEkEWRKJTlw37zuk.bcl4s5DZp-VhbzA_qnvDQ7SEvPEpQ50DR0NxtjZr_04&dib_tag=se&keywords=gitar&qid=1713778093&sprefix=gitar%2Caps%2C376&sr=8-30', 'https://www.amazon.in/Yamaha-Acoustic-Guitar-Tobacco-Sunburst/dp/B08VXR74Q2/ref=sr_1_31?crid=J2T429VLPU32&dib=eyJ2IjoiMSJ9.yMNWF0-ZbwuOEjMTW7AEIy-7cwmFzGIQSCMC8z4mYkiVJ0Q8PniDU9qCdaXZ8tskLJSjvtRT4fqk_HiRdcD3jN1e42deR3gi94NTNb95Qhx-y1hYK88UG6pWDbrstVpqFSJxkpIN84I0A5dW4NqfAJWvliGe3xSfuWSCL9wJuu3H2LxOA_93Cb43c8hStwljftK6qGu2zecg6WbBuEaUI8W8CATUQIqW0CnE5mF9G9w2jIaDiGXlIUK3RzxrG0xvtb4rDUvlmqGtiTl0932XH-aiJjXvEkEWRKJTlw37zuk.bcl4s5DZp-VhbzA_qnvDQ7SEvPEpQ50DR0NxtjZr_04&dib_tag=se&keywords=gitar&qid=1713778093&sprefix=gitar%2Caps%2C376&sr=8-31', 'https://www.amazon.in/JUAREZ-JRZ38C-Acoustic-Sunburst-Strings/dp/B01FYYTDTU/ref=sr_1_32?crid=J2T429VLPU32&dib=eyJ2IjoiMSJ9.yMNWF0-ZbwuOEjMTW7AEIy-7cwmFzGIQSCMC8z4mYkiVJ0Q8PniDU9qCdaXZ8tskLJSjvtRT4fqk_HiRdcD3jN1e42deR3gi94NTNb95Qhx-y1hYK88UG6pWDbrstVpqFSJxkpIN84I0A5dW4NqfAJWvliGe3xSfuWSCL9wJuu3H2LxOA_93Cb43c8hStwljftK6qGu2zecg6WbBuEaUI8W8CATUQIqW0CnE5mF9G9w2jIaDiGXlIUK3RzxrG0xvtb4rDUvlmqGtiTl0932XH-aiJjXvEkEWRKJTlw37zuk.bcl4s5DZp-VhbzA_qnvDQ7SEvPEpQ50DR0NxtjZr_04&dib_tag=se&keywords=gitar&qid=1713778093&sprefix=gitar%2Caps%2C376&sr=8-32', 'https://www.amazon.in/embroidey-Electric-Embroidered-Instrument-Applique/dp/B0C5W7BVN8/ref=sr_1_33?crid=J2T429VLPU32&dib=eyJ2IjoiMSJ9.yMNWF0-ZbwuOEjMTW7AEIy-7cwmFzGIQSCMC8z4mYkiVJ0Q8PniDU9qCdaXZ8tskLJSjvtRT4fqk_HiRdcD3jN1e42deR3gi94NTNb95Qhx-y1hYK88UG6pWDbrstVpqFSJxkpIN84I0A5dW4NqfAJWvliGe3xSfuWSCL9wJuu3H2LxOA_93Cb43c8hStwljftK6qGu2zecg6WbBuEaUI8W8CATUQIqW0CnE5mF9G9w2jIaDiGXlIUK3RzxrG0xvtb4rDUvlmqGtiTl0932XH-aiJjXvEkEWRKJTlw37zuk.bcl4s5DZp-VhbzA_qnvDQ7SEvPEpQ50DR0NxtjZr_04&dib_tag=se&keywords=gitar&qid=1713778093&sprefix=gitar%2Caps%2C376&sr=8-33', 'https://www.amazon.in/Yamaha-FS-100C-6-String-Acoustic-without/dp/B00PAS9CK6/ref=sr_1_34?crid=J2T429VLPU32&dib=eyJ2IjoiMSJ9.yMNWF0-ZbwuOEjMTW7AEIy-7cwmFzGIQSCMC8z4mYkiVJ0Q8PniDU9qCdaXZ8tskLJSjvtRT4fqk_HiRdcD3jN1e42deR3gi94NTNb95Qhx-y1hYK88UG6pWDbrstVpqFSJxkpIN84I0A5dW4NqfAJWvliGe3xSfuWSCL9wJuu3H2LxOA_93Cb43c8hStwljftK6qGu2zecg6WbBuEaUI8W8CATUQIqW0CnE5mF9G9w2jIaDiGXlIUK3RzxrG0xvtb4rDUvlmqGtiTl0932XH-aiJjXvEkEWRKJTlw37zuk.bcl4s5DZp-VhbzA_qnvDQ7SEvPEpQ50DR0NxtjZr_04&dib_tag=se&keywords=gitar&qid=1713778093&sprefix=gitar%2Caps%2C376&sr=8-34', 'https://www.amazon.in/Kadence-Slowhand-Premium-Acoustic-Mahogany/dp/B09SFXW1VL/ref=sr_1_35?crid=J2T429VLPU32&dib=eyJ2IjoiMSJ9.yMNWF0-ZbwuOEjMTW7AEIy-7cwmFzGIQSCMC8z4mYkiVJ0Q8PniDU9qCdaXZ8tskLJSjvtRT4fqk_HiRdcD3jN1e42deR3gi94NTNb95Qhx-y1hYK88UG6pWDbrstVpqFSJxkpIN84I0A5dW4NqfAJWvliGe3xSfuWSCL9wJuu3H2LxOA_93Cb43c8hStwljftK6qGu2zecg6WbBuEaUI8W8CATUQIqW0CnE5mF9G9w2jIaDiGXlIUK3RzxrG0xvtb4rDUvlmqGtiTl0932XH-aiJjXvEkEWRKJTlw37zuk.bcl4s5DZp-VhbzA_qnvDQ7SEvPEpQ50DR0NxtjZr_04&dib_tag=se&keywords=gitar&qid=1713778093&sprefix=gitar%2Caps%2C376&sr=8-35', 'https://www.amazon.in/YAMAHA-FS80C-CONCERT-CUTAWAY-GUITAR/dp/B08WBBVMVJ/ref=sr_1_36?crid=J2T429VLPU32&dib=eyJ2IjoiMSJ9.yMNWF0-ZbwuOEjMTW7AEIy-7cwmFzGIQSCMC8z4mYkiVJ0Q8PniDU9qCdaXZ8tskLJSjvtRT4fqk_HiRdcD3jN1e42deR3gi94NTNb95Qhx-y1hYK88UG6pWDbrstVpqFSJxkpIN84I0A5dW4NqfAJWvliGe3xSfuWSCL9wJuu3H2LxOA_93Cb43c8hStwljftK6qGu2zecg6WbBuEaUI8W8CATUQIqW0CnE5mF9G9w2jIaDiGXlIUK3RzxrG0xvtb4rDUvlmqGtiTl0932XH-aiJjXvEkEWRKJTlw37zuk.bcl4s5DZp-VhbzA_qnvDQ7SEvPEpQ50DR0NxtjZr_04&dib_tag=se&keywords=gitar&qid=1713778093&sprefix=gitar%2Caps%2C376&sr=8-36', 'https://www.amazon.in/Gadgets-Pattren-Musical-Instument-Decal_IC90/dp/B07F8PY6DM/ref=sr_1_37?crid=J2T429VLPU32&dib=eyJ2IjoiMSJ9.yMNWF0-ZbwuOEjMTW7AEIy-7cwmFzGIQSCMC8z4mYkiVJ0Q8PniDU9qCdaXZ8tskLJSjvtRT4fqk_HiRdcD3jN1e42deR3gi94NTNb95Qhx-y1hYK88UG6pWDbrstVpqFSJxkpIN84I0A5dW4NqfAJWvliGe3xSfuWSCL9wJuu3H2LxOA_93Cb43c8hStwljftK6qGu2zecg6WbBuEaUI8W8CATUQIqW0CnE5mF9G9w2jIaDiGXlIUK3RzxrG0xvtb4rDUvlmqGtiTl0932XH-aiJjXvEkEWRKJTlw37zuk.bcl4s5DZp-VhbzA_qnvDQ7SEvPEpQ50DR0NxtjZr_04&dib_tag=se&keywords=gitar&qid=1713778093&sprefix=gitar%2Caps%2C376&sr=8-37', 'https://www.amazon.in/Yamaha-FSX80C-Acoustic-Cutaway-Natural/dp/B09HL3GFZF/ref=sr_1_38?crid=J2T429VLPU32&dib=eyJ2IjoiMSJ9.yMNWF0-ZbwuOEjMTW7AEIy-7cwmFzGIQSCMC8z4mYkiVJ0Q8PniDU9qCdaXZ8tskLJSjvtRT4fqk_HiRdcD3jN1e42deR3gi94NTNb95Qhx-y1hYK88UG6pWDbrstVpqFSJxkpIN84I0A5dW4NqfAJWvliGe3xSfuWSCL9wJuu3H2LxOA_93Cb43c8hStwljftK6qGu2zecg6WbBuEaUI8W8CATUQIqW0CnE5mF9G9w2jIaDiGXlIUK3RzxrG0xvtb4rDUvlmqGtiTl0932XH-aiJjXvEkEWRKJTlw37zuk.bcl4s5DZp-VhbzA_qnvDQ7SEvPEpQ50DR0NxtjZr_04&dib_tag=se&keywords=gitar&qid=1713778093&sprefix=gitar%2Caps%2C376&sr=8-38', 'https://www.amazon.in/Kadence-Frontier-Acoustic-Sunburst-Strings/dp/B07T5DMPZ3/ref=sr_1_39?crid=J2T429VLPU32&dib=eyJ2IjoiMSJ9.yMNWF0-ZbwuOEjMTW7AEIy-7cwmFzGIQSCMC8z4mYkiVJ0Q8PniDU9qCdaXZ8tskLJSjvtRT4fqk_HiRdcD3jN1e42deR3gi94NTNb95Qhx-y1hYK88UG6pWDbrstVpqFSJxkpIN84I0A5dW4NqfAJWvliGe3xSfuWSCL9wJuu3H2LxOA_93Cb43c8hStwljftK6qGu2zecg6WbBuEaUI8W8CATUQIqW0CnE5mF9G9w2jIaDiGXlIUK3RzxrG0xvtb4rDUvlmqGtiTl0932XH-aiJjXvEkEWRKJTlw37zuk.bcl4s5DZp-VhbzA_qnvDQ7SEvPEpQ50DR0NxtjZr_04&dib_tag=se&keywords=gitar&qid=1713778093&sprefix=gitar%2Caps%2C376&sr=8-39', 'https://www.amazon.in/Medellin-Acoustic-Guitar-learning-Strings/dp/B0CCNSN6S4/ref=sr_1_40?crid=J2T429VLPU32&dib=eyJ2IjoiMSJ9.yMNWF0-ZbwuOEjMTW7AEIy-7cwmFzGIQSCMC8z4mYkiVJ0Q8PniDU9qCdaXZ8tskLJSjvtRT4fqk_HiRdcD3jN1e42deR3gi94NTNb95Qhx-y1hYK88UG6pWDbrstVpqFSJxkpIN84I0A5dW4NqfAJWvliGe3xSfuWSCL9wJuu3H2LxOA_93Cb43c8hStwljftK6qGu2zecg6WbBuEaUI8W8CATUQIqW0CnE5mF9G9w2jIaDiGXlIUK3RzxrG0xvtb4rDUvlmqGtiTl0932XH-aiJjXvEkEWRKJTlw37zuk.bcl4s5DZp-VhbzA_qnvDQ7SEvPEpQ50DR0NxtjZr_04&dib_tag=se&keywords=gitar&qid=1713778093&sprefix=gitar%2Caps%2C376&sr=8-40', 'https://www.amazon.in/Yamaha-F310-Acoustic-Guitar-Natural/dp/B08Z3C1GRM/ref=sr_1_41?crid=J2T429VLPU32&dib=eyJ2IjoiMSJ9.yMNWF0-ZbwuOEjMTW7AEIy-7cwmFzGIQSCMC8z4mYkiVJ0Q8PniDU9qCdaXZ8tskLJSjvtRT4fqk_HiRdcD3jN1e42deR3gi94NTNb95Qhx-y1hYK88UG6pWDbrstVpqFSJxkpIN84I0A5dW4NqfAJWvliGe3xSfuWSCL9wJuu3H2LxOA_93Cb43c8hStwljftK6qGu2zecg6WbBuEaUI8W8CATUQIqW0CnE5mF9G9w2jIaDiGXlIUK3RzxrG0xvtb4rDUvlmqGtiTl0932XH-aiJjXvEkEWRKJTlw37zuk.bcl4s5DZp-VhbzA_qnvDQ7SEvPEpQ50DR0NxtjZr_04&dib_tag=se&keywords=gitar&qid=1713778093&sprefix=gitar%2Caps%2C376&sr=8-41', 'https://www.amazon.in/FX280-acoustic-Dreadnought-Tobacco-Sunburst/dp/B09HR7BXGW/ref=sr_1_42?crid=J2T429VLPU32&dib=eyJ2IjoiMSJ9.yMNWF0-ZbwuOEjMTW7AEIy-7cwmFzGIQSCMC8z4mYkiVJ0Q8PniDU9qCdaXZ8tskLJSjvtRT4fqk_HiRdcD3jN1e42deR3gi94NTNb95Qhx-y1hYK88UG6pWDbrstVpqFSJxkpIN84I0A5dW4NqfAJWvliGe3xSfuWSCL9wJuu3H2LxOA_93Cb43c8hStwljftK6qGu2zecg6WbBuEaUI8W8CATUQIqW0CnE5mF9G9w2jIaDiGXlIUK3RzxrG0xvtb4rDUvlmqGtiTl0932XH-aiJjXvEkEWRKJTlw37zuk.bcl4s5DZp-VhbzA_qnvDQ7SEvPEpQ50DR0NxtjZr_04&dib_tag=se&keywords=gitar&qid=1713778093&sprefix=gitar%2Caps%2C376&sr=8-42', 'https://www.amazon.in/Juarez-Acoustic-Cutaway-BK-Strings/dp/B076T3RHMG/ref=sr_1_43?crid=J2T429VLPU32&dib=eyJ2IjoiMSJ9.yMNWF0-ZbwuOEjMTW7AEIy-7cwmFzGIQSCMC8z4mYkiVJ0Q8PniDU9qCdaXZ8tskLJSjvtRT4fqk_HiRdcD3jN1e42deR3gi94NTNb95Qhx-y1hYK88UG6pWDbrstVpqFSJxkpIN84I0A5dW4NqfAJWvliGe3xSfuWSCL9wJuu3H2LxOA_93Cb43c8hStwljftK6qGu2zecg6WbBuEaUI8W8CATUQIqW0CnE5mF9G9w2jIaDiGXlIUK3RzxrG0xvtb4rDUvlmqGtiTl0932XH-aiJjXvEkEWRKJTlw37zuk.bcl4s5DZp-VhbzA_qnvDQ7SEvPEpQ50DR0NxtjZr_04&dib_tag=se&keywords=gitar&qid=1713778093&sprefix=gitar%2Caps%2C376&sr=8-43', 'https://www.amazon.in/JUAREZ-Arpeggio-Guitar-JRA39SR-BL-K-blue/dp/B08MWB5Y67/ref=sr_1_44?crid=J2T429VLPU32&dib=eyJ2IjoiMSJ9.yMNWF0-ZbwuOEjMTW7AEIy-7cwmFzGIQSCMC8z4mYkiVJ0Q8PniDU9qCdaXZ8tskLJSjvtRT4fqk_HiRdcD3jN1e42deR3gi94NTNb95Qhx-y1hYK88UG6pWDbrstVpqFSJxkpIN84I0A5dW4NqfAJWvliGe3xSfuWSCL9wJuu3H2LxOA_93Cb43c8hStwljftK6qGu2zecg6WbBuEaUI8W8CATUQIqW0CnE5mF9G9w2jIaDiGXlIUK3RzxrG0xvtb4rDUvlmqGtiTl0932XH-aiJjXvEkEWRKJTlw37zuk.bcl4s5DZp-VhbzA_qnvDQ7SEvPEpQ50DR0NxtjZr_04&dib_tag=se&keywords=gitar&qid=1713778093&sprefix=gitar%2Caps%2C376&sr=8-44', 'https://www.amazon.in/Kadence-Frontier-Acoustic-Guitar-Strings/dp/B01GDZ46AA/ref=sr_1_45?crid=J2T429VLPU32&dib=eyJ2IjoiMSJ9.yMNWF0-ZbwuOEjMTW7AEIy-7cwmFzGIQSCMC8z4mYkiVJ0Q8PniDU9qCdaXZ8tskLJSjvtRT4fqk_HiRdcD3jN1e42deR3gi94NTNb95Qhx-y1hYK88UG6pWDbrstVpqFSJxkpIN84I0A5dW4NqfAJWvliGe3xSfuWSCL9wJuu3H2LxOA_93Cb43c8hStwljftK6qGu2zecg6WbBuEaUI8W8CATUQIqW0CnE5mF9G9w2jIaDiGXlIUK3RzxrG0xvtb4rDUvlmqGtiTl0932XH-aiJjXvEkEWRKJTlw37zuk.bcl4s5DZp-VhbzA_qnvDQ7SEvPEpQ50DR0NxtjZr_04&dib_tag=se&keywords=gitar&qid=1713778093&sprefix=gitar%2Caps%2C376&sr=8-45', 'https://www.amazon.in/Fender-0379410502-Anniversary-Stratocaster-Electric/dp/B09RX4BQPX/ref=sr_1_46?crid=J2T429VLPU32&dib=eyJ2IjoiMSJ9.yMNWF0-ZbwuOEjMTW7AEIy-7cwmFzGIQSCMC8z4mYkiVJ0Q8PniDU9qCdaXZ8tskLJSjvtRT4fqk_HiRdcD3jN1e42deR3gi94NTNb95Qhx-y1hYK88UG6pWDbrstVpqFSJxkpIN84I0A5dW4NqfAJWvliGe3xSfuWSCL9wJuu3H2LxOA_93Cb43c8hStwljftK6qGu2zecg6WbBuEaUI8W8CATUQIqW0CnE5mF9G9w2jIaDiGXlIUK3RzxrG0xvtb4rDUvlmqGtiTl0932XH-aiJjXvEkEWRKJTlw37zuk.bcl4s5DZp-VhbzA_qnvDQ7SEvPEpQ50DR0NxtjZr_04&dib_tag=se&keywords=gitar&qid=1713778093&sprefix=gitar%2Caps%2C376&sr=8-46', 'https://www.amazon.in/Alice-A206-Phosphor-Bronze-Strings/dp/B00QAFCNK4/ref=sr_1_47?crid=J2T429VLPU32&dib=eyJ2IjoiMSJ9.yMNWF0-ZbwuOEjMTW7AEIy-7cwmFzGIQSCMC8z4mYkiVJ0Q8PniDU9qCdaXZ8tskLJSjvtRT4fqk_HiRdcD3jN1e42deR3gi94NTNb95Qhx-y1hYK88UG6pWDbrstVpqFSJxkpIN84I0A5dW4NqfAJWvliGe3xSfuWSCL9wJuu3H2LxOA_93Cb43c8hStwljftK6qGu2zecg6WbBuEaUI8W8CATUQIqW0CnE5mF9G9w2jIaDiGXlIUK3RzxrG0xvtb4rDUvlmqGtiTl0932XH-aiJjXvEkEWRKJTlw37zuk.bcl4s5DZp-VhbzA_qnvDQ7SEvPEpQ50DR0NxtjZr_04&dib_tag=se&keywords=gitar&qid=1713778093&sprefix=gitar%2Caps%2C376&sr=8-47', 'https://www.amazon.in/Kadence-Frontier-Acoustic-Guitar-Strings/dp/B078GTJP5Y/ref=sr_1_48?crid=J2T429VLPU32&dib=eyJ2IjoiMSJ9.yMNWF0-ZbwuOEjMTW7AEIy-7cwmFzGIQSCMC8z4mYkiVJ0Q8PniDU9qCdaXZ8tskLJSjvtRT4fqk_HiRdcD3jN1e42deR3gi94NTNb95Qhx-y1hYK88UG6pWDbrstVpqFSJxkpIN84I0A5dW4NqfAJWvliGe3xSfuWSCL9wJuu3H2LxOA_93Cb43c8hStwljftK6qGu2zecg6WbBuEaUI8W8CATUQIqW0CnE5mF9G9w2jIaDiGXlIUK3RzxrG0xvtb4rDUvlmqGtiTl0932XH-aiJjXvEkEWRKJTlw37zuk.bcl4s5DZp-VhbzA_qnvDQ7SEvPEpQ50DR0NxtjZr_04&dib_tag=se&keywords=gitar&qid=1713778093&sprefix=gitar%2Caps%2C376&sr=8-48', 'https://www.amazon.in/Fender-0118802806-Signature-Stratocaster-Right-Handed/dp/B003EJXU56/ref=sr_1_49?crid=J2T429VLPU32&dib=eyJ2IjoiMSJ9.yMNWF0-ZbwuOEjMTW7AEIy-7cwmFzGIQSCMC8z4mYkiVJ0Q8PniDU9qCdaXZ8tskLJSjvtRT4fqk_HiRdcD3jN1e42deR3gi94NTNb95Qhx-y1hYK88UG6pWDbrstVpqFSJxkpIN84I0A5dW4NqfAJWvliGe3xSfuWSCL9wJuu3H2LxOA_93Cb43c8hStwljftK6qGu2zecg6WbBuEaUI8W8CATUQIqW0CnE5mF9G9w2jIaDiGXlIUK3RzxrG0xvtb4rDUvlmqGtiTl0932XH-aiJjXvEkEWRKJTlw37zuk.bcl4s5DZp-VhbzA_qnvDQ7SEvPEpQ50DR0NxtjZr_04&dib_tag=se&keywords=gitar&qid=1713778093&sprefix=gitar%2Caps%2C376&sr=8-49', 'https://www.amazon.in/Blueberry-38C-Acoustic-Guitar-Strings/dp/B08KLMV4XX/ref=sr_1_50?crid=J2T429VLPU32&dib=eyJ2IjoiMSJ9.yMNWF0-ZbwuOEjMTW7AEIy-7cwmFzGIQSCMC8z4mYkiVJ0Q8PniDU9qCdaXZ8tskLJSjvtRT4fqk_HiRdcD3jN1e42deR3gi94NTNb95Qhx-y1hYK88UG6pWDbrstVpqFSJxkpIN84I0A5dW4NqfAJWvliGe3xSfuWSCL9wJuu3H2LxOA_93Cb43c8hStwljftK6qGu2zecg6WbBuEaUI8W8CATUQIqW0CnE5mF9G9w2jIaDiGXlIUK3RzxrG0xvtb4rDUvlmqGtiTl0932XH-aiJjXvEkEWRKJTlw37zuk.bcl4s5DZp-VhbzA_qnvDQ7SEvPEpQ50DR0NxtjZr_04&dib_tag=se&keywords=gitar&qid=1713778093&sprefix=gitar%2Caps%2C376&sr=8-50', 'https://www.amazon.in/Cutaway-Acoustic-Humidity-resistance-resonance/dp/B09RRH7R5F/ref=sr_1_51?crid=J2T429VLPU32&dib=eyJ2IjoiMSJ9.yMNWF0-ZbwuOEjMTW7AEIy-7cwmFzGIQSCMC8z4mYkiVJ0Q8PniDU9qCdaXZ8tskLJSjvtRT4fqk_HiRdcD3jN1e42deR3gi94NTNb95Qhx-y1hYK88UG6pWDbrstVpqFSJxkpIN84I0A5dW4NqfAJWvliGe3xSfuWSCL9wJuu3H2LxOA_93Cb43c8hStwljftK6qGu2zecg6WbBuEaUI8W8CATUQIqW0CnE5mF9G9w2jIaDiGXlIUK3RzxrG0xvtb4rDUvlmqGtiTl0932XH-aiJjXvEkEWRKJTlw37zuk.bcl4s5DZp-VhbzA_qnvDQ7SEvPEpQ50DR0NxtjZr_04&dib_tag=se&keywords=gitar&qid=1713778093&sprefix=gitar%2Caps%2C376&sr=8-51', 'https://www.amazon.in/Acoustic-Cutaway-TBLS-Strings-Sunburst/dp/B098BCCY75/ref=sr_1_52?crid=J2T429VLPU32&dib=eyJ2IjoiMSJ9.yMNWF0-ZbwuOEjMTW7AEIy-7cwmFzGIQSCMC8z4mYkiVJ0Q8PniDU9qCdaXZ8tskLJSjvtRT4fqk_HiRdcD3jN1e42deR3gi94NTNb95Qhx-y1hYK88UG6pWDbrstVpqFSJxkpIN84I0A5dW4NqfAJWvliGe3xSfuWSCL9wJuu3H2LxOA_93Cb43c8hStwljftK6qGu2zecg6WbBuEaUI8W8CATUQIqW0CnE5mF9G9w2jIaDiGXlIUK3RzxrG0xvtb4rDUvlmqGtiTl0932XH-aiJjXvEkEWRKJTlw37zuk.bcl4s5DZp-VhbzA_qnvDQ7SEvPEpQ50DR0NxtjZr_04&dib_tag=se&keywords=gitar&qid=1713778093&sprefix=gitar%2Caps%2C376&sr=8-52', 'https://www.amazon.in/Blueberry-B-D38-Acoustic-Inbuilt-Strings/dp/B0B74CSY9V/ref=sr_1_53?crid=J2T429VLPU32&dib=eyJ2IjoiMSJ9.yMNWF0-ZbwuOEjMTW7AEIy-7cwmFzGIQSCMC8z4mYkiVJ0Q8PniDU9qCdaXZ8tskLJSjvtRT4fqk_HiRdcD3jN1e42deR3gi94NTNb95Qhx-y1hYK88UG6pWDbrstVpqFSJxkpIN84I0A5dW4NqfAJWvliGe3xSfuWSCL9wJuu3H2LxOA_93Cb43c8hStwljftK6qGu2zecg6WbBuEaUI8W8CATUQIqW0CnE5mF9G9w2jIaDiGXlIUK3RzxrG0xvtb4rDUvlmqGtiTl0932XH-aiJjXvEkEWRKJTlw37zuk.bcl4s5DZp-VhbzA_qnvDQ7SEvPEpQ50DR0NxtjZr_04&dib_tag=se&keywords=gitar&qid=1713778093&sprefix=gitar%2Caps%2C376&sr=8-53', 'https://www.amazon.in/Vault-ST1-Premium-Electric-Guitar/dp/B09GLYTF76/ref=sr_1_54?crid=J2T429VLPU32&dib=eyJ2IjoiMSJ9.yMNWF0-ZbwuOEjMTW7AEIy-7cwmFzGIQSCMC8z4mYkiVJ0Q8PniDU9qCdaXZ8tskLJSjvtRT4fqk_HiRdcD3jN1e42deR3gi94NTNb95Qhx-y1hYK88UG6pWDbrstVpqFSJxkpIN84I0A5dW4NqfAJWvliGe3xSfuWSCL9wJuu3H2LxOA_93Cb43c8hStwljftK6qGu2zecg6WbBuEaUI8W8CATUQIqW0CnE5mF9G9w2jIaDiGXlIUK3RzxrG0xvtb4rDUvlmqGtiTl0932XH-aiJjXvEkEWRKJTlw37zuk.bcl4s5DZp-VhbzA_qnvDQ7SEvPEpQ50DR0NxtjZr_04&dib_tag=se&keywords=gitar&qid=1713778093&sprefix=gitar%2Caps%2C376&sr=8-54', 'https://www.amazon.in/Traveller-Acoustic-Guitar-Strings-Polishing/dp/B07RK9962M/ref=sr_1_55?crid=J2T429VLPU32&dib=eyJ2IjoiMSJ9.yMNWF0-ZbwuOEjMTW7AEIy-7cwmFzGIQSCMC8z4mYkiVJ0Q8PniDU9qCdaXZ8tskLJSjvtRT4fqk_HiRdcD3jN1e42deR3gi94NTNb95Qhx-y1hYK88UG6pWDbrstVpqFSJxkpIN84I0A5dW4NqfAJWvliGe3xSfuWSCL9wJuu3H2LxOA_93Cb43c8hStwljftK6qGu2zecg6WbBuEaUI8W8CATUQIqW0CnE5mF9G9w2jIaDiGXlIUK3RzxrG0xvtb4rDUvlmqGtiTl0932XH-aiJjXvEkEWRKJTlw37zuk.bcl4s5DZp-VhbzA_qnvDQ7SEvPEpQ50DR0NxtjZr_04&dib_tag=se&keywords=gitar&qid=1713778093&sprefix=gitar%2Caps%2C376&sr=8-55', 'https://www.amazon.in/Kadence-A281BK-Professional-Acoustic-Rosewood/dp/B0CD7D6C6R/ref=sr_1_56?crid=J2T429VLPU32&dib=eyJ2IjoiMSJ9.yMNWF0-ZbwuOEjMTW7AEIy-7cwmFzGIQSCMC8z4mYkiVJ0Q8PniDU9qCdaXZ8tskLJSjvtRT4fqk_HiRdcD3jN1e42deR3gi94NTNb95Qhx-y1hYK88UG6pWDbrstVpqFSJxkpIN84I0A5dW4NqfAJWvliGe3xSfuWSCL9wJuu3H2LxOA_93Cb43c8hStwljftK6qGu2zecg6WbBuEaUI8W8CATUQIqW0CnE5mF9G9w2jIaDiGXlIUK3RzxrG0xvtb4rDUvlmqGtiTl0932XH-aiJjXvEkEWRKJTlw37zuk.bcl4s5DZp-VhbzA_qnvDQ7SEvPEpQ50DR0NxtjZr_04&dib_tag=se&keywords=gitar&qid=1713778093&sprefix=gitar%2Caps%2C376&sr=8-56', 'https://www.amazon.in/sspa/click?ie=UTF8&spc=MTo1NzY2ODIwNjU4NDA3MTEyOjE3MTM3NzgwOTM6c3BfYnRmOjMwMDE0MTc5MzY3NTMzMjo6MDo6&url=%2FGuitar-Tailpiece-Guitars-Bridge-Replacement%2Fdp%2FB0BWYSZW1Y%2Fref%3Dsr_1_57_sspa%3Fcrid%3DJ2T429VLPU32%26dib%3DeyJ2IjoiMSJ9.yMNWF0-ZbwuOEjMTW7AEIy-7cwmFzGIQSCMC8z4mYkiVJ0Q8PniDU9qCdaXZ8tskLJSjvtRT4fqk_HiRdcD3jN1e42deR3gi94NTNb95Qhx-y1hYK88UG6pWDbrstVpqFSJxkpIN84I0A5dW4NqfAJWvliGe3xSfuWSCL9wJuu3H2LxOA_93Cb43c8hStwljftK6qGu2zecg6WbBuEaUI8W8CATUQIqW0CnE5mF9G9w2jIaDiGXlIUK3RzxrG0xvtb4rDUvlmqGtiTl0932XH-aiJjXvEkEWRKJTlw37zuk.bcl4s5DZp-VhbzA_qnvDQ7SEvPEpQ50DR0NxtjZr_04%26dib_tag%3Dse%26keywords%3Dgitar%26qid%3D1713778093%26sprefix%3Dgitar%252Caps%252C376%26sr%3D8-57-spons%26sp_csd%3Dd2lkZ2V0TmFtZT1zcF9idGY%26psc%3D1', 'https://www.amazon.in/sspa/click?ie=UTF8&spc=MTo1NzY2ODIwNjU4NDA3MTEyOjE3MTM3NzgwOTM6c3BfYnRmOjMwMDE1MTQ1NDkxODkzMjo6MDo6&url=%2FSG-Musical-Anti-Slip-Accessories-Frame%2Fdp%2FB0BG5HYYQL%2Fref%3Dsr_1_58_sspa%3Fcrid%3DJ2T429VLPU32%26dib%3DeyJ2IjoiMSJ9.yMNWF0-ZbwuOEjMTW7AEIy-7cwmFzGIQSCMC8z4mYkiVJ0Q8PniDU9qCdaXZ8tskLJSjvtRT4fqk_HiRdcD3jN1e42deR3gi94NTNb95Qhx-y1hYK88UG6pWDbrstVpqFSJxkpIN84I0A5dW4NqfAJWvliGe3xSfuWSCL9wJuu3H2LxOA_93Cb43c8hStwljftK6qGu2zecg6WbBuEaUI8W8CATUQIqW0CnE5mF9G9w2jIaDiGXlIUK3RzxrG0xvtb4rDUvlmqGtiTl0932XH-aiJjXvEkEWRKJTlw37zuk.bcl4s5DZp-VhbzA_qnvDQ7SEvPEpQ50DR0NxtjZr_04%26dib_tag%3Dse%26keywords%3Dgitar%26qid%3D1713778093%26sprefix%3Dgitar%252Caps%252C376%26sr%3D8-58-spons%26sp_csd%3Dd2lkZ2V0TmFtZT1zcF9idGY%26psc%3D1', 'https://www.amazon.in/sspa/click?ie=UTF8&spc=MTo1NzY2ODIwNjU4NDA3MTEyOjE3MTM3NzgwOTM6c3BfYnRmOjMwMDE0NTc0NjU3MTQzMjo6MDo6&url=%2FSG-Musical-Guitar-silicon-fingers%2Fdp%2FB0BD4B826N%2Fref%3Dsr_1_59_sspa%3Fcrid%3DJ2T429VLPU32%26dib%3DeyJ2IjoiMSJ9.yMNWF0-ZbwuOEjMTW7AEIy-7cwmFzGIQSCMC8z4mYkiVJ0Q8PniDU9qCdaXZ8tskLJSjvtRT4fqk_HiRdcD3jN1e42deR3gi94NTNb95Qhx-y1hYK88UG6pWDbrstVpqFSJxkpIN84I0A5dW4NqfAJWvliGe3xSfuWSCL9wJuu3H2LxOA_93Cb43c8hStwljftK6qGu2zecg6WbBuEaUI8W8CATUQIqW0CnE5mF9G9w2jIaDiGXlIUK3RzxrG0xvtb4rDUvlmqGtiTl0932XH-aiJjXvEkEWRKJTlw37zuk.bcl4s5DZp-VhbzA_qnvDQ7SEvPEpQ50DR0NxtjZr_04%26dib_tag%3Dse%26keywords%3Dgitar%26qid%3D1713778093%26sprefix%3Dgitar%252Caps%252C376%26sr%3D8-59-spons%26sp_csd%3Dd2lkZ2V0TmFtZT1zcF9idGY%26psc%3D1', 'https://www.amazon.in/sspa/click?ie=UTF8&spc=MTo1NzY2ODIwNjU4NDA3MTEyOjE3MTM3NzgwOTM6c3BfYnRmOjMwMDE1MTQ1NDkxODgzMjo6MDo6&url=%2FSG-Musical-Metal-Guitar-Universal%2Fdp%2FB0BG5M472T%2Fref%3Dsr_1_60_sspa%3Fcrid%3DJ2T429VLPU32%26dib%3DeyJ2IjoiMSJ9.yMNWF0-ZbwuOEjMTW7AEIy-7cwmFzGIQSCMC8z4mYkiVJ0Q8PniDU9qCdaXZ8tskLJSjvtRT4fqk_HiRdcD3jN1e42deR3gi94NTNb95Qhx-y1hYK88UG6pWDbrstVpqFSJxkpIN84I0A5dW4NqfAJWvliGe3xSfuWSCL9wJuu3H2LxOA_93Cb43c8hStwljftK6qGu2zecg6WbBuEaUI8W8CATUQIqW0CnE5mF9G9w2jIaDiGXlIUK3RzxrG0xvtb4rDUvlmqGtiTl0932XH-aiJjXvEkEWRKJTlw37zuk.bcl4s5DZp-VhbzA_qnvDQ7SEvPEpQ50DR0NxtjZr_04%26dib_tag%3Dse%26keywords%3Dgitar%26qid%3D1713778093%26sprefix%3Dgitar%252Caps%252C376%26sr%3D8-60-spons%26sp_csd%3Dd2lkZ2V0TmFtZT1zcF9idGY%26psc%3D1']\n",
      "['https://www.amazon.in/sspa/click?ie=UTF8&spc=MTo1NzY2ODIwNjU4NDA3MTEyOjE3MTM3NzgwOTM6c3BfYXRmOjMwMDAxNTUzNzk3OTIzMjo6MDo6&url=%2FKadence-Frontier-Acoustic-Guitar-Strings%2Fdp%2FB078GTJP5Y%2Fref%3Dsr_1_1_sspa%3Fcrid%3DJ2T429VLPU32%26dib%3DeyJ2IjoiMSJ9.yMNWF0-ZbwuOEjMTW7AEIy-7cwmFzGIQSCMC8z4mYkiVJ0Q8PniDU9qCdaXZ8tskLJSjvtRT4fqk_HiRdcD3jN1e42deR3gi94NTNb95Qhx-y1hYK88UG6pWDbrstVpqFSJxkpIN84I0A5dW4NqfAJWvliGe3xSfuWSCL9wJuu3H2LxOA_93Cb43c8hStwljftK6qGu2zecg6WbBuEaUI8W8CATUQIqW0CnE5mF9G9w2jIaDiGXlIUK3RzxrG0xvtb4rDUvlmqGtiTl0932XH-aiJjXvEkEWRKJTlw37zuk.bcl4s5DZp-VhbzA_qnvDQ7SEvPEpQ50DR0NxtjZr_04%26dib_tag%3Dse%26keywords%3Dgitar%26qid%3D1713778093%26sprefix%3Dgitar%252Caps%252C376%26sr%3D8-1-spons%26sp_csd%3Dd2lkZ2V0TmFtZT1zcF9hdGY%26psc%3D1', 'https://www.amazon.in/sspa/click?ie=UTF8&spc=MTo1NzY2ODIwNjU4NDA3MTEyOjE3MTM3NzgwOTM6c3BfYXRmOjIwMDUwNzcxNjg2MjA0OjowOjo&url=%2FHenrix-Acoustic-Guitar-Die-cast-Dual-action%2Fdp%2FB07VNDW6QF%2Fref%3Dsr_1_2_sspa%3Fcrid%3DJ2T429VLPU32%26dib%3DeyJ2IjoiMSJ9.yMNWF0-ZbwuOEjMTW7AEIy-7cwmFzGIQSCMC8z4mYkiVJ0Q8PniDU9qCdaXZ8tskLJSjvtRT4fqk_HiRdcD3jN1e42deR3gi94NTNb95Qhx-y1hYK88UG6pWDbrstVpqFSJxkpIN84I0A5dW4NqfAJWvliGe3xSfuWSCL9wJuu3H2LxOA_93Cb43c8hStwljftK6qGu2zecg6WbBuEaUI8W8CATUQIqW0CnE5mF9G9w2jIaDiGXlIUK3RzxrG0xvtb4rDUvlmqGtiTl0932XH-aiJjXvEkEWRKJTlw37zuk.bcl4s5DZp-VhbzA_qnvDQ7SEvPEpQ50DR0NxtjZr_04%26dib_tag%3Dse%26keywords%3Dgitar%26qid%3D1713778093%26sprefix%3Dgitar%252Caps%252C376%26sr%3D8-2-spons%26sp_csd%3Dd2lkZ2V0TmFtZT1zcF9hdGY%26psc%3D1', 'https://www.amazon.in/sspa/click?ie=UTF8&spc=MTo1NzY2ODIwNjU4NDA3MTEyOjE3MTM3NzgwOTM6c3BfYXRmOjMwMDAxNTUwODk1NDEzMjo6MDo6&url=%2FKadence-Frontier-Acoustic-Guitar-Strings%2Fdp%2FB01GDZ46AA%2Fref%3Dsr_1_3_sspa%3Fcrid%3DJ2T429VLPU32%26dib%3DeyJ2IjoiMSJ9.yMNWF0-ZbwuOEjMTW7AEIy-7cwmFzGIQSCMC8z4mYkiVJ0Q8PniDU9qCdaXZ8tskLJSjvtRT4fqk_HiRdcD3jN1e42deR3gi94NTNb95Qhx-y1hYK88UG6pWDbrstVpqFSJxkpIN84I0A5dW4NqfAJWvliGe3xSfuWSCL9wJuu3H2LxOA_93Cb43c8hStwljftK6qGu2zecg6WbBuEaUI8W8CATUQIqW0CnE5mF9G9w2jIaDiGXlIUK3RzxrG0xvtb4rDUvlmqGtiTl0932XH-aiJjXvEkEWRKJTlw37zuk.bcl4s5DZp-VhbzA_qnvDQ7SEvPEpQ50DR0NxtjZr_04%26dib_tag%3Dse%26keywords%3Dgitar%26qid%3D1713778093%26sprefix%3Dgitar%252Caps%252C376%26sr%3D8-3-spons%26sp_csd%3Dd2lkZ2V0TmFtZT1zcF9hdGY%26psc%3D1', 'https://www.amazon.in/sspa/click?ie=UTF8&spc=MTo1NzY2ODIwNjU4NDA3MTEyOjE3MTM3NzgwOTM6c3BfYXRmOjMwMDAzNDc3Mzk4MDUzMjo6MDo6&url=%2FKadence-Professional-Acoustic-Rosewood-Natural%2Fdp%2FB0CC927DLN%2Fref%3Dsr_1_4_sspa%3Fcrid%3DJ2T429VLPU32%26dib%3DeyJ2IjoiMSJ9.yMNWF0-ZbwuOEjMTW7AEIy-7cwmFzGIQSCMC8z4mYkiVJ0Q8PniDU9qCdaXZ8tskLJSjvtRT4fqk_HiRdcD3jN1e42deR3gi94NTNb95Qhx-y1hYK88UG6pWDbrstVpqFSJxkpIN84I0A5dW4NqfAJWvliGe3xSfuWSCL9wJuu3H2LxOA_93Cb43c8hStwljftK6qGu2zecg6WbBuEaUI8W8CATUQIqW0CnE5mF9G9w2jIaDiGXlIUK3RzxrG0xvtb4rDUvlmqGtiTl0932XH-aiJjXvEkEWRKJTlw37zuk.bcl4s5DZp-VhbzA_qnvDQ7SEvPEpQ50DR0NxtjZr_04%26dib_tag%3Dse%26keywords%3Dgitar%26qid%3D1713778093%26sprefix%3Dgitar%252Caps%252C376%26sr%3D8-4-spons%26sp_csd%3Dd2lkZ2V0TmFtZT1zcF9hdGY%26psc%3D1', 'https://www.amazon.in/JUAREZ-JRZ38C-Handed-Acoustic-Strings/dp/B01FYYTDX6/ref=sr_1_5?crid=J2T429VLPU32&dib=eyJ2IjoiMSJ9.yMNWF0-ZbwuOEjMTW7AEIy-7cwmFzGIQSCMC8z4mYkiVJ0Q8PniDU9qCdaXZ8tskLJSjvtRT4fqk_HiRdcD3jN1e42deR3gi94NTNb95Qhx-y1hYK88UG6pWDbrstVpqFSJxkpIN84I0A5dW4NqfAJWvliGe3xSfuWSCL9wJuu3H2LxOA_93Cb43c8hStwljftK6qGu2zecg6WbBuEaUI8W8CATUQIqW0CnE5mF9G9w2jIaDiGXlIUK3RzxrG0xvtb4rDUvlmqGtiTl0932XH-aiJjXvEkEWRKJTlw37zuk.bcl4s5DZp-VhbzA_qnvDQ7SEvPEpQ50DR0NxtjZr_04&dib_tag=se&keywords=gitar&qid=1713778093&sprefix=gitar%2Caps%2C376&sr=8-5', 'https://www.amazon.in/4-String-Learning-Childrens-Instrument-Beginners/dp/B08KP66ZZN/ref=sr_1_6?crid=J2T429VLPU32&dib=eyJ2IjoiMSJ9.yMNWF0-ZbwuOEjMTW7AEIy-7cwmFzGIQSCMC8z4mYkiVJ0Q8PniDU9qCdaXZ8tskLJSjvtRT4fqk_HiRdcD3jN1e42deR3gi94NTNb95Qhx-y1hYK88UG6pWDbrstVpqFSJxkpIN84I0A5dW4NqfAJWvliGe3xSfuWSCL9wJuu3H2LxOA_93Cb43c8hStwljftK6qGu2zecg6WbBuEaUI8W8CATUQIqW0CnE5mF9G9w2jIaDiGXlIUK3RzxrG0xvtb4rDUvlmqGtiTl0932XH-aiJjXvEkEWRKJTlw37zuk.bcl4s5DZp-VhbzA_qnvDQ7SEvPEpQ50DR0NxtjZr_04&dib_tag=se&keywords=gitar&qid=1713778093&sprefix=gitar%2Caps%2C376&sr=8-6', 'https://www.amazon.in/Medellin-MED-BLU-C-Linden-Acoustic-Guitar/dp/B07NBMWHJW/ref=sr_1_7?crid=J2T429VLPU32&dib=eyJ2IjoiMSJ9.yMNWF0-ZbwuOEjMTW7AEIy-7cwmFzGIQSCMC8z4mYkiVJ0Q8PniDU9qCdaXZ8tskLJSjvtRT4fqk_HiRdcD3jN1e42deR3gi94NTNb95Qhx-y1hYK88UG6pWDbrstVpqFSJxkpIN84I0A5dW4NqfAJWvliGe3xSfuWSCL9wJuu3H2LxOA_93Cb43c8hStwljftK6qGu2zecg6WbBuEaUI8W8CATUQIqW0CnE5mF9G9w2jIaDiGXlIUK3RzxrG0xvtb4rDUvlmqGtiTl0932XH-aiJjXvEkEWRKJTlw37zuk.bcl4s5DZp-VhbzA_qnvDQ7SEvPEpQ50DR0NxtjZr_04&dib_tag=se&keywords=gitar&qid=1713778093&sprefix=gitar%2Caps%2C376&sr=8-7', 'https://www.amazon.in/JRZ38C-VTS-Strings-Acoustic-Cutaway/dp/B072MFLQC9/ref=sr_1_8?crid=J2T429VLPU32&dib=eyJ2IjoiMSJ9.yMNWF0-ZbwuOEjMTW7AEIy-7cwmFzGIQSCMC8z4mYkiVJ0Q8PniDU9qCdaXZ8tskLJSjvtRT4fqk_HiRdcD3jN1e42deR3gi94NTNb95Qhx-y1hYK88UG6pWDbrstVpqFSJxkpIN84I0A5dW4NqfAJWvliGe3xSfuWSCL9wJuu3H2LxOA_93Cb43c8hStwljftK6qGu2zecg6WbBuEaUI8W8CATUQIqW0CnE5mF9G9w2jIaDiGXlIUK3RzxrG0xvtb4rDUvlmqGtiTl0932XH-aiJjXvEkEWRKJTlw37zuk.bcl4s5DZp-VhbzA_qnvDQ7SEvPEpQ50DR0NxtjZr_04&dib_tag=se&keywords=gitar&qid=1713778093&sprefix=gitar%2Caps%2C376&sr=8-8', 'https://www.amazon.in/Acoustic-Cutaway-RDS-Strings-Sunburst/dp/B076QGY91P/ref=sr_1_9?crid=J2T429VLPU32&dib=eyJ2IjoiMSJ9.yMNWF0-ZbwuOEjMTW7AEIy-7cwmFzGIQSCMC8z4mYkiVJ0Q8PniDU9qCdaXZ8tskLJSjvtRT4fqk_HiRdcD3jN1e42deR3gi94NTNb95Qhx-y1hYK88UG6pWDbrstVpqFSJxkpIN84I0A5dW4NqfAJWvliGe3xSfuWSCL9wJuu3H2LxOA_93Cb43c8hStwljftK6qGu2zecg6WbBuEaUI8W8CATUQIqW0CnE5mF9G9w2jIaDiGXlIUK3RzxrG0xvtb4rDUvlmqGtiTl0932XH-aiJjXvEkEWRKJTlw37zuk.bcl4s5DZp-VhbzA_qnvDQ7SEvPEpQ50DR0NxtjZr_04&dib_tag=se&keywords=gitar&qid=1713778093&sprefix=gitar%2Caps%2C376&sr=8-9', 'https://www.amazon.in/JUAREZ-JRZ38C-3TSNA/dp/B0BCQQRDF3/ref=sr_1_10?crid=J2T429VLPU32&dib=eyJ2IjoiMSJ9.yMNWF0-ZbwuOEjMTW7AEIy-7cwmFzGIQSCMC8z4mYkiVJ0Q8PniDU9qCdaXZ8tskLJSjvtRT4fqk_HiRdcD3jN1e42deR3gi94NTNb95Qhx-y1hYK88UG6pWDbrstVpqFSJxkpIN84I0A5dW4NqfAJWvliGe3xSfuWSCL9wJuu3H2LxOA_93Cb43c8hStwljftK6qGu2zecg6WbBuEaUI8W8CATUQIqW0CnE5mF9G9w2jIaDiGXlIUK3RzxrG0xvtb4rDUvlmqGtiTl0932XH-aiJjXvEkEWRKJTlw37zuk.bcl4s5DZp-VhbzA_qnvDQ7SEvPEpQ50DR0NxtjZr_04&dib_tag=se&keywords=gitar&qid=1713778093&sprefix=gitar%2Caps%2C376&sr=8-10', 'https://www.amazon.in/Intern-38-inch-Cutaway-Design-Acoustic/dp/B07X4PN85R/ref=sr_1_11?crid=J2T429VLPU32&dib=eyJ2IjoiMSJ9.yMNWF0-ZbwuOEjMTW7AEIy-7cwmFzGIQSCMC8z4mYkiVJ0Q8PniDU9qCdaXZ8tskLJSjvtRT4fqk_HiRdcD3jN1e42deR3gi94NTNb95Qhx-y1hYK88UG6pWDbrstVpqFSJxkpIN84I0A5dW4NqfAJWvliGe3xSfuWSCL9wJuu3H2LxOA_93Cb43c8hStwljftK6qGu2zecg6WbBuEaUI8W8CATUQIqW0CnE5mF9G9w2jIaDiGXlIUK3RzxrG0xvtb4rDUvlmqGtiTl0932XH-aiJjXvEkEWRKJTlw37zuk.bcl4s5DZp-VhbzA_qnvDQ7SEvPEpQ50DR0NxtjZr_04&dib_tag=se&keywords=gitar&qid=1713778093&sprefix=gitar%2Caps%2C376&sr=8-11', 'https://www.amazon.in/Juarez-Acoustic-Cutaway-038C-Strings/dp/B017NPCSLI/ref=sr_1_12?crid=J2T429VLPU32&dib=eyJ2IjoiMSJ9.yMNWF0-ZbwuOEjMTW7AEIy-7cwmFzGIQSCMC8z4mYkiVJ0Q8PniDU9qCdaXZ8tskLJSjvtRT4fqk_HiRdcD3jN1e42deR3gi94NTNb95Qhx-y1hYK88UG6pWDbrstVpqFSJxkpIN84I0A5dW4NqfAJWvliGe3xSfuWSCL9wJuu3H2LxOA_93Cb43c8hStwljftK6qGu2zecg6WbBuEaUI8W8CATUQIqW0CnE5mF9G9w2jIaDiGXlIUK3RzxrG0xvtb4rDUvlmqGtiTl0932XH-aiJjXvEkEWRKJTlw37zuk.bcl4s5DZp-VhbzA_qnvDQ7SEvPEpQ50DR0NxtjZr_04&dib_tag=se&keywords=gitar&qid=1713778093&sprefix=gitar%2Caps%2C376&sr=8-12', 'https://www.amazon.in/Henrix-Cutaway-Acoustic-Guitar-Action/dp/B097NCQFFM/ref=sr_1_13?crid=J2T429VLPU32&dib=eyJ2IjoiMSJ9.yMNWF0-ZbwuOEjMTW7AEIy-7cwmFzGIQSCMC8z4mYkiVJ0Q8PniDU9qCdaXZ8tskLJSjvtRT4fqk_HiRdcD3jN1e42deR3gi94NTNb95Qhx-y1hYK88UG6pWDbrstVpqFSJxkpIN84I0A5dW4NqfAJWvliGe3xSfuWSCL9wJuu3H2LxOA_93Cb43c8hStwljftK6qGu2zecg6WbBuEaUI8W8CATUQIqW0CnE5mF9G9w2jIaDiGXlIUK3RzxrG0xvtb4rDUvlmqGtiTl0932XH-aiJjXvEkEWRKJTlw37zuk.bcl4s5DZp-VhbzA_qnvDQ7SEvPEpQ50DR0NxtjZr_04&dib_tag=se&keywords=gitar&qid=1713778093&sprefix=gitar%2Caps%2C376&sr=8-13', 'https://www.amazon.in/Yamaha-F280-Acoustic-Guitar-Natural/dp/B08317Y4VP/ref=sr_1_14?crid=J2T429VLPU32&dib=eyJ2IjoiMSJ9.yMNWF0-ZbwuOEjMTW7AEIy-7cwmFzGIQSCMC8z4mYkiVJ0Q8PniDU9qCdaXZ8tskLJSjvtRT4fqk_HiRdcD3jN1e42deR3gi94NTNb95Qhx-y1hYK88UG6pWDbrstVpqFSJxkpIN84I0A5dW4NqfAJWvliGe3xSfuWSCL9wJuu3H2LxOA_93Cb43c8hStwljftK6qGu2zecg6WbBuEaUI8W8CATUQIqW0CnE5mF9G9w2jIaDiGXlIUK3RzxrG0xvtb4rDUvlmqGtiTl0932XH-aiJjXvEkEWRKJTlw37zuk.bcl4s5DZp-VhbzA_qnvDQ7SEvPEpQ50DR0NxtjZr_04&dib_tag=se&keywords=gitar&qid=1713778093&sprefix=gitar%2Caps%2C376&sr=8-14', 'https://www.amazon.in/JUAREZ-JRZ38C-BKNA/dp/B0BCQNVPRB/ref=sr_1_15?crid=J2T429VLPU32&dib=eyJ2IjoiMSJ9.yMNWF0-ZbwuOEjMTW7AEIy-7cwmFzGIQSCMC8z4mYkiVJ0Q8PniDU9qCdaXZ8tskLJSjvtRT4fqk_HiRdcD3jN1e42deR3gi94NTNb95Qhx-y1hYK88UG6pWDbrstVpqFSJxkpIN84I0A5dW4NqfAJWvliGe3xSfuWSCL9wJuu3H2LxOA_93Cb43c8hStwljftK6qGu2zecg6WbBuEaUI8W8CATUQIqW0CnE5mF9G9w2jIaDiGXlIUK3RzxrG0xvtb4rDUvlmqGtiTl0932XH-aiJjXvEkEWRKJTlw37zuk.bcl4s5DZp-VhbzA_qnvDQ7SEvPEpQ50DR0NxtjZr_04&dib_tag=se&keywords=gitar&qid=1713778093&sprefix=gitar%2Caps%2C376&sr=8-15', 'https://www.amazon.in/Kadence-Slowhand-Premium-Acoustic-Instrument/dp/B077SZ667X/ref=sr_1_16?crid=J2T429VLPU32&dib=eyJ2IjoiMSJ9.yMNWF0-ZbwuOEjMTW7AEIy-7cwmFzGIQSCMC8z4mYkiVJ0Q8PniDU9qCdaXZ8tskLJSjvtRT4fqk_HiRdcD3jN1e42deR3gi94NTNb95Qhx-y1hYK88UG6pWDbrstVpqFSJxkpIN84I0A5dW4NqfAJWvliGe3xSfuWSCL9wJuu3H2LxOA_93Cb43c8hStwljftK6qGu2zecg6WbBuEaUI8W8CATUQIqW0CnE5mF9G9w2jIaDiGXlIUK3RzxrG0xvtb4rDUvlmqGtiTl0932XH-aiJjXvEkEWRKJTlw37zuk.bcl4s5DZp-VhbzA_qnvDQ7SEvPEpQ50DR0NxtjZr_04&dib_tag=se&keywords=gitar&qid=1713778093&sprefix=gitar%2Caps%2C376&sr=8-16', 'https://www.amazon.in/Intern-INT-38C-Acoustic-Guitar-Black/dp/B073B6TQQY/ref=sr_1_17?crid=J2T429VLPU32&dib=eyJ2IjoiMSJ9.yMNWF0-ZbwuOEjMTW7AEIy-7cwmFzGIQSCMC8z4mYkiVJ0Q8PniDU9qCdaXZ8tskLJSjvtRT4fqk_HiRdcD3jN1e42deR3gi94NTNb95Qhx-y1hYK88UG6pWDbrstVpqFSJxkpIN84I0A5dW4NqfAJWvliGe3xSfuWSCL9wJuu3H2LxOA_93Cb43c8hStwljftK6qGu2zecg6WbBuEaUI8W8CATUQIqW0CnE5mF9G9w2jIaDiGXlIUK3RzxrG0xvtb4rDUvlmqGtiTl0932XH-aiJjXvEkEWRKJTlw37zuk.bcl4s5DZp-VhbzA_qnvDQ7SEvPEpQ50DR0NxtjZr_04&dib_tag=se&keywords=gitar&qid=1713778093&sprefix=gitar%2Caps%2C376&sr=8-17', 'https://www.amazon.in/Yamaha-F310-6-Strings-Acoustic-Natural/dp/B000RVYW7E/ref=sr_1_18?crid=J2T429VLPU32&dib=eyJ2IjoiMSJ9.yMNWF0-ZbwuOEjMTW7AEIy-7cwmFzGIQSCMC8z4mYkiVJ0Q8PniDU9qCdaXZ8tskLJSjvtRT4fqk_HiRdcD3jN1e42deR3gi94NTNb95Qhx-y1hYK88UG6pWDbrstVpqFSJxkpIN84I0A5dW4NqfAJWvliGe3xSfuWSCL9wJuu3H2LxOA_93Cb43c8hStwljftK6qGu2zecg6WbBuEaUI8W8CATUQIqW0CnE5mF9G9w2jIaDiGXlIUK3RzxrG0xvtb4rDUvlmqGtiTl0932XH-aiJjXvEkEWRKJTlw37zuk.bcl4s5DZp-VhbzA_qnvDQ7SEvPEpQ50DR0NxtjZr_04&dib_tag=se&keywords=gitar&qid=1713778093&sprefix=gitar%2Caps%2C376&sr=8-18', 'https://www.amazon.in/Juarez-JRZ-ST01-6-String-Electric-Without/dp/B01FYZSOGM/ref=sr_1_19?crid=J2T429VLPU32&dib=eyJ2IjoiMSJ9.yMNWF0-ZbwuOEjMTW7AEIy-7cwmFzGIQSCMC8z4mYkiVJ0Q8PniDU9qCdaXZ8tskLJSjvtRT4fqk_HiRdcD3jN1e42deR3gi94NTNb95Qhx-y1hYK88UG6pWDbrstVpqFSJxkpIN84I0A5dW4NqfAJWvliGe3xSfuWSCL9wJuu3H2LxOA_93Cb43c8hStwljftK6qGu2zecg6WbBuEaUI8W8CATUQIqW0CnE5mF9G9w2jIaDiGXlIUK3RzxrG0xvtb4rDUvlmqGtiTl0932XH-aiJjXvEkEWRKJTlw37zuk.bcl4s5DZp-VhbzA_qnvDQ7SEvPEpQ50DR0NxtjZr_04&dib_tag=se&keywords=gitar&qid=1713778093&sprefix=gitar%2Caps%2C376&sr=8-19', 'https://www.amazon.in/JUAREZ-JRZ38C-TBLSNA/dp/B0BCQKQ6CS/ref=sr_1_20?crid=J2T429VLPU32&dib=eyJ2IjoiMSJ9.yMNWF0-ZbwuOEjMTW7AEIy-7cwmFzGIQSCMC8z4mYkiVJ0Q8PniDU9qCdaXZ8tskLJSjvtRT4fqk_HiRdcD3jN1e42deR3gi94NTNb95Qhx-y1hYK88UG6pWDbrstVpqFSJxkpIN84I0A5dW4NqfAJWvliGe3xSfuWSCL9wJuu3H2LxOA_93Cb43c8hStwljftK6qGu2zecg6WbBuEaUI8W8CATUQIqW0CnE5mF9G9w2jIaDiGXlIUK3RzxrG0xvtb4rDUvlmqGtiTl0932XH-aiJjXvEkEWRKJTlw37zuk.bcl4s5DZp-VhbzA_qnvDQ7SEvPEpQ50DR0NxtjZr_04&dib_tag=se&keywords=gitar&qid=1713778093&sprefix=gitar%2Caps%2C376&sr=8-20', 'https://www.amazon.in/sspa/click?ie=UTF8&spc=MTo1NzY2ODIwNjU4NDA3MTEyOjE3MTM3NzgwOTM6c3BfbXRmOjMwMDE0ODU0ODIzMTYzMjo6MDo6&url=%2FIbanez-MD39C-NT-Cutaway-Acoustic-Polishing%2Fdp%2FB084C1DGCV%2Fref%3Dsr_1_21_sspa%3Fcrid%3DJ2T429VLPU32%26dib%3DeyJ2IjoiMSJ9.yMNWF0-ZbwuOEjMTW7AEIy-7cwmFzGIQSCMC8z4mYkiVJ0Q8PniDU9qCdaXZ8tskLJSjvtRT4fqk_HiRdcD3jN1e42deR3gi94NTNb95Qhx-y1hYK88UG6pWDbrstVpqFSJxkpIN84I0A5dW4NqfAJWvliGe3xSfuWSCL9wJuu3H2LxOA_93Cb43c8hStwljftK6qGu2zecg6WbBuEaUI8W8CATUQIqW0CnE5mF9G9w2jIaDiGXlIUK3RzxrG0xvtb4rDUvlmqGtiTl0932XH-aiJjXvEkEWRKJTlw37zuk.bcl4s5DZp-VhbzA_qnvDQ7SEvPEpQ50DR0NxtjZr_04%26dib_tag%3Dse%26keywords%3Dgitar%26qid%3D1713778093%26sprefix%3Dgitar%252Caps%252C376%26sr%3D8-21-spons%26sp_csd%3Dd2lkZ2V0TmFtZT1zcF9tdGY%26psc%3D1', 'https://www.amazon.in/sspa/click?ie=UTF8&spc=MTo1NzY2ODIwNjU4NDA3MTEyOjE3MTM3NzgwOTM6c3BfbXRmOjMwMDE2MzkzNzg1NzIzMjo6MDo6&url=%2FMOCKING-BIRD-Acoustic-beginners-instrument%2Fdp%2FB0CR9XH4QH%2Fref%3Dsr_1_22_sspa%3Fcrid%3DJ2T429VLPU32%26dib%3DeyJ2IjoiMSJ9.yMNWF0-ZbwuOEjMTW7AEIy-7cwmFzGIQSCMC8z4mYkiVJ0Q8PniDU9qCdaXZ8tskLJSjvtRT4fqk_HiRdcD3jN1e42deR3gi94NTNb95Qhx-y1hYK88UG6pWDbrstVpqFSJxkpIN84I0A5dW4NqfAJWvliGe3xSfuWSCL9wJuu3H2LxOA_93Cb43c8hStwljftK6qGu2zecg6WbBuEaUI8W8CATUQIqW0CnE5mF9G9w2jIaDiGXlIUK3RzxrG0xvtb4rDUvlmqGtiTl0932XH-aiJjXvEkEWRKJTlw37zuk.bcl4s5DZp-VhbzA_qnvDQ7SEvPEpQ50DR0NxtjZr_04%26dib_tag%3Dse%26keywords%3Dgitar%26qid%3D1713778093%26sprefix%3Dgitar%252Caps%252C376%26sr%3D8-22-spons%26sp_csd%3Dd2lkZ2V0TmFtZT1zcF9tdGY%26psc%3D1', 'https://www.amazon.in/sspa/click?ie=UTF8&spc=MTo1NzY2ODIwNjU4NDA3MTEyOjE3MTM3NzgwOTM6c3BfbXRmOjMwMDE0MTg2MjIyNjAzMjo6MDo6&url=%2FRichtone-B239C-Natural-cutaway-Acoustic%2Fdp%2FB0CNW9RZ9D%2Fref%3Dsr_1_23_sspa%3Fcrid%3DJ2T429VLPU32%26dib%3DeyJ2IjoiMSJ9.yMNWF0-ZbwuOEjMTW7AEIy-7cwmFzGIQSCMC8z4mYkiVJ0Q8PniDU9qCdaXZ8tskLJSjvtRT4fqk_HiRdcD3jN1e42deR3gi94NTNb95Qhx-y1hYK88UG6pWDbrstVpqFSJxkpIN84I0A5dW4NqfAJWvliGe3xSfuWSCL9wJuu3H2LxOA_93Cb43c8hStwljftK6qGu2zecg6WbBuEaUI8W8CATUQIqW0CnE5mF9G9w2jIaDiGXlIUK3RzxrG0xvtb4rDUvlmqGtiTl0932XH-aiJjXvEkEWRKJTlw37zuk.bcl4s5DZp-VhbzA_qnvDQ7SEvPEpQ50DR0NxtjZr_04%26dib_tag%3Dse%26keywords%3Dgitar%26qid%3D1713778093%26sprefix%3Dgitar%252Caps%252C376%26sr%3D8-23-spons%26sp_csd%3Dd2lkZ2V0TmFtZT1zcF9tdGY%26psc%3D1', 'https://www.amazon.in/sspa/click?ie=UTF8&spc=MTo1NzY2ODIwNjU4NDA3MTEyOjE3MTM3NzgwOTM6c3BfbXRmOjIwMDU3MzAzOTg2MjA0OjowOjo&url=%2FKadence-Slowhand-Premium-Acoustic-Instrument%2Fdp%2FB077SZ667X%2Fref%3Dsr_1_24_sspa%3Fcrid%3DJ2T429VLPU32%26dib%3DeyJ2IjoiMSJ9.yMNWF0-ZbwuOEjMTW7AEIy-7cwmFzGIQSCMC8z4mYkiVJ0Q8PniDU9qCdaXZ8tskLJSjvtRT4fqk_HiRdcD3jN1e42deR3gi94NTNb95Qhx-y1hYK88UG6pWDbrstVpqFSJxkpIN84I0A5dW4NqfAJWvliGe3xSfuWSCL9wJuu3H2LxOA_93Cb43c8hStwljftK6qGu2zecg6WbBuEaUI8W8CATUQIqW0CnE5mF9G9w2jIaDiGXlIUK3RzxrG0xvtb4rDUvlmqGtiTl0932XH-aiJjXvEkEWRKJTlw37zuk.bcl4s5DZp-VhbzA_qnvDQ7SEvPEpQ50DR0NxtjZr_04%26dib_tag%3Dse%26keywords%3Dgitar%26qid%3D1713778093%26sprefix%3Dgitar%252Caps%252C376%26sr%3D8-24-spons%26sp_csd%3Dd2lkZ2V0TmFtZT1zcF9tdGY%26psc%3D1', 'https://www.amazon.in/Kadence-Professional-Acoustic-Rosewood-Natural/dp/B0CC927DLN/ref=sr_1_25?crid=J2T429VLPU32&dib=eyJ2IjoiMSJ9.yMNWF0-ZbwuOEjMTW7AEIy-7cwmFzGIQSCMC8z4mYkiVJ0Q8PniDU9qCdaXZ8tskLJSjvtRT4fqk_HiRdcD3jN1e42deR3gi94NTNb95Qhx-y1hYK88UG6pWDbrstVpqFSJxkpIN84I0A5dW4NqfAJWvliGe3xSfuWSCL9wJuu3H2LxOA_93Cb43c8hStwljftK6qGu2zecg6WbBuEaUI8W8CATUQIqW0CnE5mF9G9w2jIaDiGXlIUK3RzxrG0xvtb4rDUvlmqGtiTl0932XH-aiJjXvEkEWRKJTlw37zuk.bcl4s5DZp-VhbzA_qnvDQ7SEvPEpQ50DR0NxtjZr_04&dib_tag=se&keywords=gitar&qid=1713778093&sprefix=gitar%2Caps%2C376&sr=8-25', 'https://www.amazon.in/Vault-Soloist-Premium-Electric-Guitar/dp/B09GLZSS95/ref=sr_1_26?crid=J2T429VLPU32&dib=eyJ2IjoiMSJ9.yMNWF0-ZbwuOEjMTW7AEIy-7cwmFzGIQSCMC8z4mYkiVJ0Q8PniDU9qCdaXZ8tskLJSjvtRT4fqk_HiRdcD3jN1e42deR3gi94NTNb95Qhx-y1hYK88UG6pWDbrstVpqFSJxkpIN84I0A5dW4NqfAJWvliGe3xSfuWSCL9wJuu3H2LxOA_93Cb43c8hStwljftK6qGu2zecg6WbBuEaUI8W8CATUQIqW0CnE5mF9G9w2jIaDiGXlIUK3RzxrG0xvtb4rDUvlmqGtiTl0932XH-aiJjXvEkEWRKJTlw37zuk.bcl4s5DZp-VhbzA_qnvDQ7SEvPEpQ50DR0NxtjZr_04&dib_tag=se&keywords=gitar&qid=1713778093&sprefix=gitar%2Caps%2C376&sr=8-26', 'https://www.amazon.in/Medellin-Acoustic-Guitar-learning-Strings/dp/B0CCNSN9BV/ref=sr_1_27?crid=J2T429VLPU32&dib=eyJ2IjoiMSJ9.yMNWF0-ZbwuOEjMTW7AEIy-7cwmFzGIQSCMC8z4mYkiVJ0Q8PniDU9qCdaXZ8tskLJSjvtRT4fqk_HiRdcD3jN1e42deR3gi94NTNb95Qhx-y1hYK88UG6pWDbrstVpqFSJxkpIN84I0A5dW4NqfAJWvliGe3xSfuWSCL9wJuu3H2LxOA_93Cb43c8hStwljftK6qGu2zecg6WbBuEaUI8W8CATUQIqW0CnE5mF9G9w2jIaDiGXlIUK3RzxrG0xvtb4rDUvlmqGtiTl0932XH-aiJjXvEkEWRKJTlw37zuk.bcl4s5DZp-VhbzA_qnvDQ7SEvPEpQ50DR0NxtjZr_04&dib_tag=se&keywords=gitar&qid=1713778093&sprefix=gitar%2Caps%2C376&sr=8-27', 'https://www.amazon.in/JUAREZ-JRZ38C-Acoustic-Sunburst-Strings/dp/B01FYYTDS6/ref=sr_1_28?crid=J2T429VLPU32&dib=eyJ2IjoiMSJ9.yMNWF0-ZbwuOEjMTW7AEIy-7cwmFzGIQSCMC8z4mYkiVJ0Q8PniDU9qCdaXZ8tskLJSjvtRT4fqk_HiRdcD3jN1e42deR3gi94NTNb95Qhx-y1hYK88UG6pWDbrstVpqFSJxkpIN84I0A5dW4NqfAJWvliGe3xSfuWSCL9wJuu3H2LxOA_93Cb43c8hStwljftK6qGu2zecg6WbBuEaUI8W8CATUQIqW0CnE5mF9G9w2jIaDiGXlIUK3RzxrG0xvtb4rDUvlmqGtiTl0932XH-aiJjXvEkEWRKJTlw37zuk.bcl4s5DZp-VhbzA_qnvDQ7SEvPEpQ50DR0NxtjZr_04&dib_tag=se&keywords=gitar&qid=1713778093&sprefix=gitar%2Caps%2C376&sr=8-28', 'https://www.amazon.in/Ju%C3%A2rez-Acoustic-Guitar-Cutaway-Strings/dp/B0BCQNLXVM/ref=sr_1_29?crid=J2T429VLPU32&dib=eyJ2IjoiMSJ9.yMNWF0-ZbwuOEjMTW7AEIy-7cwmFzGIQSCMC8z4mYkiVJ0Q8PniDU9qCdaXZ8tskLJSjvtRT4fqk_HiRdcD3jN1e42deR3gi94NTNb95Qhx-y1hYK88UG6pWDbrstVpqFSJxkpIN84I0A5dW4NqfAJWvliGe3xSfuWSCL9wJuu3H2LxOA_93Cb43c8hStwljftK6qGu2zecg6WbBuEaUI8W8CATUQIqW0CnE5mF9G9w2jIaDiGXlIUK3RzxrG0xvtb4rDUvlmqGtiTl0932XH-aiJjXvEkEWRKJTlw37zuk.bcl4s5DZp-VhbzA_qnvDQ7SEvPEpQ50DR0NxtjZr_04&dib_tag=se&keywords=gitar&qid=1713778093&sprefix=gitar%2Caps%2C376&sr=8-29', 'https://www.amazon.in/Yamaha-Classical-Guitar-C40-02/dp/B003UGCUFE/ref=sr_1_30?crid=J2T429VLPU32&dib=eyJ2IjoiMSJ9.yMNWF0-ZbwuOEjMTW7AEIy-7cwmFzGIQSCMC8z4mYkiVJ0Q8PniDU9qCdaXZ8tskLJSjvtRT4fqk_HiRdcD3jN1e42deR3gi94NTNb95Qhx-y1hYK88UG6pWDbrstVpqFSJxkpIN84I0A5dW4NqfAJWvliGe3xSfuWSCL9wJuu3H2LxOA_93Cb43c8hStwljftK6qGu2zecg6WbBuEaUI8W8CATUQIqW0CnE5mF9G9w2jIaDiGXlIUK3RzxrG0xvtb4rDUvlmqGtiTl0932XH-aiJjXvEkEWRKJTlw37zuk.bcl4s5DZp-VhbzA_qnvDQ7SEvPEpQ50DR0NxtjZr_04&dib_tag=se&keywords=gitar&qid=1713778093&sprefix=gitar%2Caps%2C376&sr=8-30', 'https://www.amazon.in/Yamaha-Acoustic-Guitar-Tobacco-Sunburst/dp/B08VXR74Q2/ref=sr_1_31?crid=J2T429VLPU32&dib=eyJ2IjoiMSJ9.yMNWF0-ZbwuOEjMTW7AEIy-7cwmFzGIQSCMC8z4mYkiVJ0Q8PniDU9qCdaXZ8tskLJSjvtRT4fqk_HiRdcD3jN1e42deR3gi94NTNb95Qhx-y1hYK88UG6pWDbrstVpqFSJxkpIN84I0A5dW4NqfAJWvliGe3xSfuWSCL9wJuu3H2LxOA_93Cb43c8hStwljftK6qGu2zecg6WbBuEaUI8W8CATUQIqW0CnE5mF9G9w2jIaDiGXlIUK3RzxrG0xvtb4rDUvlmqGtiTl0932XH-aiJjXvEkEWRKJTlw37zuk.bcl4s5DZp-VhbzA_qnvDQ7SEvPEpQ50DR0NxtjZr_04&dib_tag=se&keywords=gitar&qid=1713778093&sprefix=gitar%2Caps%2C376&sr=8-31', 'https://www.amazon.in/JUAREZ-JRZ38C-Acoustic-Sunburst-Strings/dp/B01FYYTDTU/ref=sr_1_32?crid=J2T429VLPU32&dib=eyJ2IjoiMSJ9.yMNWF0-ZbwuOEjMTW7AEIy-7cwmFzGIQSCMC8z4mYkiVJ0Q8PniDU9qCdaXZ8tskLJSjvtRT4fqk_HiRdcD3jN1e42deR3gi94NTNb95Qhx-y1hYK88UG6pWDbrstVpqFSJxkpIN84I0A5dW4NqfAJWvliGe3xSfuWSCL9wJuu3H2LxOA_93Cb43c8hStwljftK6qGu2zecg6WbBuEaUI8W8CATUQIqW0CnE5mF9G9w2jIaDiGXlIUK3RzxrG0xvtb4rDUvlmqGtiTl0932XH-aiJjXvEkEWRKJTlw37zuk.bcl4s5DZp-VhbzA_qnvDQ7SEvPEpQ50DR0NxtjZr_04&dib_tag=se&keywords=gitar&qid=1713778093&sprefix=gitar%2Caps%2C376&sr=8-32', 'https://www.amazon.in/embroidey-Electric-Embroidered-Instrument-Applique/dp/B0C5W7BVN8/ref=sr_1_33?crid=J2T429VLPU32&dib=eyJ2IjoiMSJ9.yMNWF0-ZbwuOEjMTW7AEIy-7cwmFzGIQSCMC8z4mYkiVJ0Q8PniDU9qCdaXZ8tskLJSjvtRT4fqk_HiRdcD3jN1e42deR3gi94NTNb95Qhx-y1hYK88UG6pWDbrstVpqFSJxkpIN84I0A5dW4NqfAJWvliGe3xSfuWSCL9wJuu3H2LxOA_93Cb43c8hStwljftK6qGu2zecg6WbBuEaUI8W8CATUQIqW0CnE5mF9G9w2jIaDiGXlIUK3RzxrG0xvtb4rDUvlmqGtiTl0932XH-aiJjXvEkEWRKJTlw37zuk.bcl4s5DZp-VhbzA_qnvDQ7SEvPEpQ50DR0NxtjZr_04&dib_tag=se&keywords=gitar&qid=1713778093&sprefix=gitar%2Caps%2C376&sr=8-33', 'https://www.amazon.in/Yamaha-FS-100C-6-String-Acoustic-without/dp/B00PAS9CK6/ref=sr_1_34?crid=J2T429VLPU32&dib=eyJ2IjoiMSJ9.yMNWF0-ZbwuOEjMTW7AEIy-7cwmFzGIQSCMC8z4mYkiVJ0Q8PniDU9qCdaXZ8tskLJSjvtRT4fqk_HiRdcD3jN1e42deR3gi94NTNb95Qhx-y1hYK88UG6pWDbrstVpqFSJxkpIN84I0A5dW4NqfAJWvliGe3xSfuWSCL9wJuu3H2LxOA_93Cb43c8hStwljftK6qGu2zecg6WbBuEaUI8W8CATUQIqW0CnE5mF9G9w2jIaDiGXlIUK3RzxrG0xvtb4rDUvlmqGtiTl0932XH-aiJjXvEkEWRKJTlw37zuk.bcl4s5DZp-VhbzA_qnvDQ7SEvPEpQ50DR0NxtjZr_04&dib_tag=se&keywords=gitar&qid=1713778093&sprefix=gitar%2Caps%2C376&sr=8-34', 'https://www.amazon.in/Kadence-Slowhand-Premium-Acoustic-Mahogany/dp/B09SFXW1VL/ref=sr_1_35?crid=J2T429VLPU32&dib=eyJ2IjoiMSJ9.yMNWF0-ZbwuOEjMTW7AEIy-7cwmFzGIQSCMC8z4mYkiVJ0Q8PniDU9qCdaXZ8tskLJSjvtRT4fqk_HiRdcD3jN1e42deR3gi94NTNb95Qhx-y1hYK88UG6pWDbrstVpqFSJxkpIN84I0A5dW4NqfAJWvliGe3xSfuWSCL9wJuu3H2LxOA_93Cb43c8hStwljftK6qGu2zecg6WbBuEaUI8W8CATUQIqW0CnE5mF9G9w2jIaDiGXlIUK3RzxrG0xvtb4rDUvlmqGtiTl0932XH-aiJjXvEkEWRKJTlw37zuk.bcl4s5DZp-VhbzA_qnvDQ7SEvPEpQ50DR0NxtjZr_04&dib_tag=se&keywords=gitar&qid=1713778093&sprefix=gitar%2Caps%2C376&sr=8-35', 'https://www.amazon.in/YAMAHA-FS80C-CONCERT-CUTAWAY-GUITAR/dp/B08WBBVMVJ/ref=sr_1_36?crid=J2T429VLPU32&dib=eyJ2IjoiMSJ9.yMNWF0-ZbwuOEjMTW7AEIy-7cwmFzGIQSCMC8z4mYkiVJ0Q8PniDU9qCdaXZ8tskLJSjvtRT4fqk_HiRdcD3jN1e42deR3gi94NTNb95Qhx-y1hYK88UG6pWDbrstVpqFSJxkpIN84I0A5dW4NqfAJWvliGe3xSfuWSCL9wJuu3H2LxOA_93Cb43c8hStwljftK6qGu2zecg6WbBuEaUI8W8CATUQIqW0CnE5mF9G9w2jIaDiGXlIUK3RzxrG0xvtb4rDUvlmqGtiTl0932XH-aiJjXvEkEWRKJTlw37zuk.bcl4s5DZp-VhbzA_qnvDQ7SEvPEpQ50DR0NxtjZr_04&dib_tag=se&keywords=gitar&qid=1713778093&sprefix=gitar%2Caps%2C376&sr=8-36', 'https://www.amazon.in/Gadgets-Pattren-Musical-Instument-Decal_IC90/dp/B07F8PY6DM/ref=sr_1_37?crid=J2T429VLPU32&dib=eyJ2IjoiMSJ9.yMNWF0-ZbwuOEjMTW7AEIy-7cwmFzGIQSCMC8z4mYkiVJ0Q8PniDU9qCdaXZ8tskLJSjvtRT4fqk_HiRdcD3jN1e42deR3gi94NTNb95Qhx-y1hYK88UG6pWDbrstVpqFSJxkpIN84I0A5dW4NqfAJWvliGe3xSfuWSCL9wJuu3H2LxOA_93Cb43c8hStwljftK6qGu2zecg6WbBuEaUI8W8CATUQIqW0CnE5mF9G9w2jIaDiGXlIUK3RzxrG0xvtb4rDUvlmqGtiTl0932XH-aiJjXvEkEWRKJTlw37zuk.bcl4s5DZp-VhbzA_qnvDQ7SEvPEpQ50DR0NxtjZr_04&dib_tag=se&keywords=gitar&qid=1713778093&sprefix=gitar%2Caps%2C376&sr=8-37', 'https://www.amazon.in/Yamaha-FSX80C-Acoustic-Cutaway-Natural/dp/B09HL3GFZF/ref=sr_1_38?crid=J2T429VLPU32&dib=eyJ2IjoiMSJ9.yMNWF0-ZbwuOEjMTW7AEIy-7cwmFzGIQSCMC8z4mYkiVJ0Q8PniDU9qCdaXZ8tskLJSjvtRT4fqk_HiRdcD3jN1e42deR3gi94NTNb95Qhx-y1hYK88UG6pWDbrstVpqFSJxkpIN84I0A5dW4NqfAJWvliGe3xSfuWSCL9wJuu3H2LxOA_93Cb43c8hStwljftK6qGu2zecg6WbBuEaUI8W8CATUQIqW0CnE5mF9G9w2jIaDiGXlIUK3RzxrG0xvtb4rDUvlmqGtiTl0932XH-aiJjXvEkEWRKJTlw37zuk.bcl4s5DZp-VhbzA_qnvDQ7SEvPEpQ50DR0NxtjZr_04&dib_tag=se&keywords=gitar&qid=1713778093&sprefix=gitar%2Caps%2C376&sr=8-38', 'https://www.amazon.in/Kadence-Frontier-Acoustic-Sunburst-Strings/dp/B07T5DMPZ3/ref=sr_1_39?crid=J2T429VLPU32&dib=eyJ2IjoiMSJ9.yMNWF0-ZbwuOEjMTW7AEIy-7cwmFzGIQSCMC8z4mYkiVJ0Q8PniDU9qCdaXZ8tskLJSjvtRT4fqk_HiRdcD3jN1e42deR3gi94NTNb95Qhx-y1hYK88UG6pWDbrstVpqFSJxkpIN84I0A5dW4NqfAJWvliGe3xSfuWSCL9wJuu3H2LxOA_93Cb43c8hStwljftK6qGu2zecg6WbBuEaUI8W8CATUQIqW0CnE5mF9G9w2jIaDiGXlIUK3RzxrG0xvtb4rDUvlmqGtiTl0932XH-aiJjXvEkEWRKJTlw37zuk.bcl4s5DZp-VhbzA_qnvDQ7SEvPEpQ50DR0NxtjZr_04&dib_tag=se&keywords=gitar&qid=1713778093&sprefix=gitar%2Caps%2C376&sr=8-39', 'https://www.amazon.in/Medellin-Acoustic-Guitar-learning-Strings/dp/B0CCNSN6S4/ref=sr_1_40?crid=J2T429VLPU32&dib=eyJ2IjoiMSJ9.yMNWF0-ZbwuOEjMTW7AEIy-7cwmFzGIQSCMC8z4mYkiVJ0Q8PniDU9qCdaXZ8tskLJSjvtRT4fqk_HiRdcD3jN1e42deR3gi94NTNb95Qhx-y1hYK88UG6pWDbrstVpqFSJxkpIN84I0A5dW4NqfAJWvliGe3xSfuWSCL9wJuu3H2LxOA_93Cb43c8hStwljftK6qGu2zecg6WbBuEaUI8W8CATUQIqW0CnE5mF9G9w2jIaDiGXlIUK3RzxrG0xvtb4rDUvlmqGtiTl0932XH-aiJjXvEkEWRKJTlw37zuk.bcl4s5DZp-VhbzA_qnvDQ7SEvPEpQ50DR0NxtjZr_04&dib_tag=se&keywords=gitar&qid=1713778093&sprefix=gitar%2Caps%2C376&sr=8-40', 'https://www.amazon.in/Yamaha-F310-Acoustic-Guitar-Natural/dp/B08Z3C1GRM/ref=sr_1_41?crid=J2T429VLPU32&dib=eyJ2IjoiMSJ9.yMNWF0-ZbwuOEjMTW7AEIy-7cwmFzGIQSCMC8z4mYkiVJ0Q8PniDU9qCdaXZ8tskLJSjvtRT4fqk_HiRdcD3jN1e42deR3gi94NTNb95Qhx-y1hYK88UG6pWDbrstVpqFSJxkpIN84I0A5dW4NqfAJWvliGe3xSfuWSCL9wJuu3H2LxOA_93Cb43c8hStwljftK6qGu2zecg6WbBuEaUI8W8CATUQIqW0CnE5mF9G9w2jIaDiGXlIUK3RzxrG0xvtb4rDUvlmqGtiTl0932XH-aiJjXvEkEWRKJTlw37zuk.bcl4s5DZp-VhbzA_qnvDQ7SEvPEpQ50DR0NxtjZr_04&dib_tag=se&keywords=gitar&qid=1713778093&sprefix=gitar%2Caps%2C376&sr=8-41', 'https://www.amazon.in/FX280-acoustic-Dreadnought-Tobacco-Sunburst/dp/B09HR7BXGW/ref=sr_1_42?crid=J2T429VLPU32&dib=eyJ2IjoiMSJ9.yMNWF0-ZbwuOEjMTW7AEIy-7cwmFzGIQSCMC8z4mYkiVJ0Q8PniDU9qCdaXZ8tskLJSjvtRT4fqk_HiRdcD3jN1e42deR3gi94NTNb95Qhx-y1hYK88UG6pWDbrstVpqFSJxkpIN84I0A5dW4NqfAJWvliGe3xSfuWSCL9wJuu3H2LxOA_93Cb43c8hStwljftK6qGu2zecg6WbBuEaUI8W8CATUQIqW0CnE5mF9G9w2jIaDiGXlIUK3RzxrG0xvtb4rDUvlmqGtiTl0932XH-aiJjXvEkEWRKJTlw37zuk.bcl4s5DZp-VhbzA_qnvDQ7SEvPEpQ50DR0NxtjZr_04&dib_tag=se&keywords=gitar&qid=1713778093&sprefix=gitar%2Caps%2C376&sr=8-42', 'https://www.amazon.in/Juarez-Acoustic-Cutaway-BK-Strings/dp/B076T3RHMG/ref=sr_1_43?crid=J2T429VLPU32&dib=eyJ2IjoiMSJ9.yMNWF0-ZbwuOEjMTW7AEIy-7cwmFzGIQSCMC8z4mYkiVJ0Q8PniDU9qCdaXZ8tskLJSjvtRT4fqk_HiRdcD3jN1e42deR3gi94NTNb95Qhx-y1hYK88UG6pWDbrstVpqFSJxkpIN84I0A5dW4NqfAJWvliGe3xSfuWSCL9wJuu3H2LxOA_93Cb43c8hStwljftK6qGu2zecg6WbBuEaUI8W8CATUQIqW0CnE5mF9G9w2jIaDiGXlIUK3RzxrG0xvtb4rDUvlmqGtiTl0932XH-aiJjXvEkEWRKJTlw37zuk.bcl4s5DZp-VhbzA_qnvDQ7SEvPEpQ50DR0NxtjZr_04&dib_tag=se&keywords=gitar&qid=1713778093&sprefix=gitar%2Caps%2C376&sr=8-43', 'https://www.amazon.in/JUAREZ-Arpeggio-Guitar-JRA39SR-BL-K-blue/dp/B08MWB5Y67/ref=sr_1_44?crid=J2T429VLPU32&dib=eyJ2IjoiMSJ9.yMNWF0-ZbwuOEjMTW7AEIy-7cwmFzGIQSCMC8z4mYkiVJ0Q8PniDU9qCdaXZ8tskLJSjvtRT4fqk_HiRdcD3jN1e42deR3gi94NTNb95Qhx-y1hYK88UG6pWDbrstVpqFSJxkpIN84I0A5dW4NqfAJWvliGe3xSfuWSCL9wJuu3H2LxOA_93Cb43c8hStwljftK6qGu2zecg6WbBuEaUI8W8CATUQIqW0CnE5mF9G9w2jIaDiGXlIUK3RzxrG0xvtb4rDUvlmqGtiTl0932XH-aiJjXvEkEWRKJTlw37zuk.bcl4s5DZp-VhbzA_qnvDQ7SEvPEpQ50DR0NxtjZr_04&dib_tag=se&keywords=gitar&qid=1713778093&sprefix=gitar%2Caps%2C376&sr=8-44', 'https://www.amazon.in/Kadence-Frontier-Acoustic-Guitar-Strings/dp/B01GDZ46AA/ref=sr_1_45?crid=J2T429VLPU32&dib=eyJ2IjoiMSJ9.yMNWF0-ZbwuOEjMTW7AEIy-7cwmFzGIQSCMC8z4mYkiVJ0Q8PniDU9qCdaXZ8tskLJSjvtRT4fqk_HiRdcD3jN1e42deR3gi94NTNb95Qhx-y1hYK88UG6pWDbrstVpqFSJxkpIN84I0A5dW4NqfAJWvliGe3xSfuWSCL9wJuu3H2LxOA_93Cb43c8hStwljftK6qGu2zecg6WbBuEaUI8W8CATUQIqW0CnE5mF9G9w2jIaDiGXlIUK3RzxrG0xvtb4rDUvlmqGtiTl0932XH-aiJjXvEkEWRKJTlw37zuk.bcl4s5DZp-VhbzA_qnvDQ7SEvPEpQ50DR0NxtjZr_04&dib_tag=se&keywords=gitar&qid=1713778093&sprefix=gitar%2Caps%2C376&sr=8-45', 'https://www.amazon.in/Fender-0379410502-Anniversary-Stratocaster-Electric/dp/B09RX4BQPX/ref=sr_1_46?crid=J2T429VLPU32&dib=eyJ2IjoiMSJ9.yMNWF0-ZbwuOEjMTW7AEIy-7cwmFzGIQSCMC8z4mYkiVJ0Q8PniDU9qCdaXZ8tskLJSjvtRT4fqk_HiRdcD3jN1e42deR3gi94NTNb95Qhx-y1hYK88UG6pWDbrstVpqFSJxkpIN84I0A5dW4NqfAJWvliGe3xSfuWSCL9wJuu3H2LxOA_93Cb43c8hStwljftK6qGu2zecg6WbBuEaUI8W8CATUQIqW0CnE5mF9G9w2jIaDiGXlIUK3RzxrG0xvtb4rDUvlmqGtiTl0932XH-aiJjXvEkEWRKJTlw37zuk.bcl4s5DZp-VhbzA_qnvDQ7SEvPEpQ50DR0NxtjZr_04&dib_tag=se&keywords=gitar&qid=1713778093&sprefix=gitar%2Caps%2C376&sr=8-46', 'https://www.amazon.in/Alice-A206-Phosphor-Bronze-Strings/dp/B00QAFCNK4/ref=sr_1_47?crid=J2T429VLPU32&dib=eyJ2IjoiMSJ9.yMNWF0-ZbwuOEjMTW7AEIy-7cwmFzGIQSCMC8z4mYkiVJ0Q8PniDU9qCdaXZ8tskLJSjvtRT4fqk_HiRdcD3jN1e42deR3gi94NTNb95Qhx-y1hYK88UG6pWDbrstVpqFSJxkpIN84I0A5dW4NqfAJWvliGe3xSfuWSCL9wJuu3H2LxOA_93Cb43c8hStwljftK6qGu2zecg6WbBuEaUI8W8CATUQIqW0CnE5mF9G9w2jIaDiGXlIUK3RzxrG0xvtb4rDUvlmqGtiTl0932XH-aiJjXvEkEWRKJTlw37zuk.bcl4s5DZp-VhbzA_qnvDQ7SEvPEpQ50DR0NxtjZr_04&dib_tag=se&keywords=gitar&qid=1713778093&sprefix=gitar%2Caps%2C376&sr=8-47', 'https://www.amazon.in/Kadence-Frontier-Acoustic-Guitar-Strings/dp/B078GTJP5Y/ref=sr_1_48?crid=J2T429VLPU32&dib=eyJ2IjoiMSJ9.yMNWF0-ZbwuOEjMTW7AEIy-7cwmFzGIQSCMC8z4mYkiVJ0Q8PniDU9qCdaXZ8tskLJSjvtRT4fqk_HiRdcD3jN1e42deR3gi94NTNb95Qhx-y1hYK88UG6pWDbrstVpqFSJxkpIN84I0A5dW4NqfAJWvliGe3xSfuWSCL9wJuu3H2LxOA_93Cb43c8hStwljftK6qGu2zecg6WbBuEaUI8W8CATUQIqW0CnE5mF9G9w2jIaDiGXlIUK3RzxrG0xvtb4rDUvlmqGtiTl0932XH-aiJjXvEkEWRKJTlw37zuk.bcl4s5DZp-VhbzA_qnvDQ7SEvPEpQ50DR0NxtjZr_04&dib_tag=se&keywords=gitar&qid=1713778093&sprefix=gitar%2Caps%2C376&sr=8-48', 'https://www.amazon.in/Fender-0118802806-Signature-Stratocaster-Right-Handed/dp/B003EJXU56/ref=sr_1_49?crid=J2T429VLPU32&dib=eyJ2IjoiMSJ9.yMNWF0-ZbwuOEjMTW7AEIy-7cwmFzGIQSCMC8z4mYkiVJ0Q8PniDU9qCdaXZ8tskLJSjvtRT4fqk_HiRdcD3jN1e42deR3gi94NTNb95Qhx-y1hYK88UG6pWDbrstVpqFSJxkpIN84I0A5dW4NqfAJWvliGe3xSfuWSCL9wJuu3H2LxOA_93Cb43c8hStwljftK6qGu2zecg6WbBuEaUI8W8CATUQIqW0CnE5mF9G9w2jIaDiGXlIUK3RzxrG0xvtb4rDUvlmqGtiTl0932XH-aiJjXvEkEWRKJTlw37zuk.bcl4s5DZp-VhbzA_qnvDQ7SEvPEpQ50DR0NxtjZr_04&dib_tag=se&keywords=gitar&qid=1713778093&sprefix=gitar%2Caps%2C376&sr=8-49', 'https://www.amazon.in/Blueberry-38C-Acoustic-Guitar-Strings/dp/B08KLMV4XX/ref=sr_1_50?crid=J2T429VLPU32&dib=eyJ2IjoiMSJ9.yMNWF0-ZbwuOEjMTW7AEIy-7cwmFzGIQSCMC8z4mYkiVJ0Q8PniDU9qCdaXZ8tskLJSjvtRT4fqk_HiRdcD3jN1e42deR3gi94NTNb95Qhx-y1hYK88UG6pWDbrstVpqFSJxkpIN84I0A5dW4NqfAJWvliGe3xSfuWSCL9wJuu3H2LxOA_93Cb43c8hStwljftK6qGu2zecg6WbBuEaUI8W8CATUQIqW0CnE5mF9G9w2jIaDiGXlIUK3RzxrG0xvtb4rDUvlmqGtiTl0932XH-aiJjXvEkEWRKJTlw37zuk.bcl4s5DZp-VhbzA_qnvDQ7SEvPEpQ50DR0NxtjZr_04&dib_tag=se&keywords=gitar&qid=1713778093&sprefix=gitar%2Caps%2C376&sr=8-50', 'https://www.amazon.in/Cutaway-Acoustic-Humidity-resistance-resonance/dp/B09RRH7R5F/ref=sr_1_51?crid=J2T429VLPU32&dib=eyJ2IjoiMSJ9.yMNWF0-ZbwuOEjMTW7AEIy-7cwmFzGIQSCMC8z4mYkiVJ0Q8PniDU9qCdaXZ8tskLJSjvtRT4fqk_HiRdcD3jN1e42deR3gi94NTNb95Qhx-y1hYK88UG6pWDbrstVpqFSJxkpIN84I0A5dW4NqfAJWvliGe3xSfuWSCL9wJuu3H2LxOA_93Cb43c8hStwljftK6qGu2zecg6WbBuEaUI8W8CATUQIqW0CnE5mF9G9w2jIaDiGXlIUK3RzxrG0xvtb4rDUvlmqGtiTl0932XH-aiJjXvEkEWRKJTlw37zuk.bcl4s5DZp-VhbzA_qnvDQ7SEvPEpQ50DR0NxtjZr_04&dib_tag=se&keywords=gitar&qid=1713778093&sprefix=gitar%2Caps%2C376&sr=8-51', 'https://www.amazon.in/Acoustic-Cutaway-TBLS-Strings-Sunburst/dp/B098BCCY75/ref=sr_1_52?crid=J2T429VLPU32&dib=eyJ2IjoiMSJ9.yMNWF0-ZbwuOEjMTW7AEIy-7cwmFzGIQSCMC8z4mYkiVJ0Q8PniDU9qCdaXZ8tskLJSjvtRT4fqk_HiRdcD3jN1e42deR3gi94NTNb95Qhx-y1hYK88UG6pWDbrstVpqFSJxkpIN84I0A5dW4NqfAJWvliGe3xSfuWSCL9wJuu3H2LxOA_93Cb43c8hStwljftK6qGu2zecg6WbBuEaUI8W8CATUQIqW0CnE5mF9G9w2jIaDiGXlIUK3RzxrG0xvtb4rDUvlmqGtiTl0932XH-aiJjXvEkEWRKJTlw37zuk.bcl4s5DZp-VhbzA_qnvDQ7SEvPEpQ50DR0NxtjZr_04&dib_tag=se&keywords=gitar&qid=1713778093&sprefix=gitar%2Caps%2C376&sr=8-52', 'https://www.amazon.in/Blueberry-B-D38-Acoustic-Inbuilt-Strings/dp/B0B74CSY9V/ref=sr_1_53?crid=J2T429VLPU32&dib=eyJ2IjoiMSJ9.yMNWF0-ZbwuOEjMTW7AEIy-7cwmFzGIQSCMC8z4mYkiVJ0Q8PniDU9qCdaXZ8tskLJSjvtRT4fqk_HiRdcD3jN1e42deR3gi94NTNb95Qhx-y1hYK88UG6pWDbrstVpqFSJxkpIN84I0A5dW4NqfAJWvliGe3xSfuWSCL9wJuu3H2LxOA_93Cb43c8hStwljftK6qGu2zecg6WbBuEaUI8W8CATUQIqW0CnE5mF9G9w2jIaDiGXlIUK3RzxrG0xvtb4rDUvlmqGtiTl0932XH-aiJjXvEkEWRKJTlw37zuk.bcl4s5DZp-VhbzA_qnvDQ7SEvPEpQ50DR0NxtjZr_04&dib_tag=se&keywords=gitar&qid=1713778093&sprefix=gitar%2Caps%2C376&sr=8-53', 'https://www.amazon.in/Vault-ST1-Premium-Electric-Guitar/dp/B09GLYTF76/ref=sr_1_54?crid=J2T429VLPU32&dib=eyJ2IjoiMSJ9.yMNWF0-ZbwuOEjMTW7AEIy-7cwmFzGIQSCMC8z4mYkiVJ0Q8PniDU9qCdaXZ8tskLJSjvtRT4fqk_HiRdcD3jN1e42deR3gi94NTNb95Qhx-y1hYK88UG6pWDbrstVpqFSJxkpIN84I0A5dW4NqfAJWvliGe3xSfuWSCL9wJuu3H2LxOA_93Cb43c8hStwljftK6qGu2zecg6WbBuEaUI8W8CATUQIqW0CnE5mF9G9w2jIaDiGXlIUK3RzxrG0xvtb4rDUvlmqGtiTl0932XH-aiJjXvEkEWRKJTlw37zuk.bcl4s5DZp-VhbzA_qnvDQ7SEvPEpQ50DR0NxtjZr_04&dib_tag=se&keywords=gitar&qid=1713778093&sprefix=gitar%2Caps%2C376&sr=8-54', 'https://www.amazon.in/Traveller-Acoustic-Guitar-Strings-Polishing/dp/B07RK9962M/ref=sr_1_55?crid=J2T429VLPU32&dib=eyJ2IjoiMSJ9.yMNWF0-ZbwuOEjMTW7AEIy-7cwmFzGIQSCMC8z4mYkiVJ0Q8PniDU9qCdaXZ8tskLJSjvtRT4fqk_HiRdcD3jN1e42deR3gi94NTNb95Qhx-y1hYK88UG6pWDbrstVpqFSJxkpIN84I0A5dW4NqfAJWvliGe3xSfuWSCL9wJuu3H2LxOA_93Cb43c8hStwljftK6qGu2zecg6WbBuEaUI8W8CATUQIqW0CnE5mF9G9w2jIaDiGXlIUK3RzxrG0xvtb4rDUvlmqGtiTl0932XH-aiJjXvEkEWRKJTlw37zuk.bcl4s5DZp-VhbzA_qnvDQ7SEvPEpQ50DR0NxtjZr_04&dib_tag=se&keywords=gitar&qid=1713778093&sprefix=gitar%2Caps%2C376&sr=8-55', 'https://www.amazon.in/Kadence-A281BK-Professional-Acoustic-Rosewood/dp/B0CD7D6C6R/ref=sr_1_56?crid=J2T429VLPU32&dib=eyJ2IjoiMSJ9.yMNWF0-ZbwuOEjMTW7AEIy-7cwmFzGIQSCMC8z4mYkiVJ0Q8PniDU9qCdaXZ8tskLJSjvtRT4fqk_HiRdcD3jN1e42deR3gi94NTNb95Qhx-y1hYK88UG6pWDbrstVpqFSJxkpIN84I0A5dW4NqfAJWvliGe3xSfuWSCL9wJuu3H2LxOA_93Cb43c8hStwljftK6qGu2zecg6WbBuEaUI8W8CATUQIqW0CnE5mF9G9w2jIaDiGXlIUK3RzxrG0xvtb4rDUvlmqGtiTl0932XH-aiJjXvEkEWRKJTlw37zuk.bcl4s5DZp-VhbzA_qnvDQ7SEvPEpQ50DR0NxtjZr_04&dib_tag=se&keywords=gitar&qid=1713778093&sprefix=gitar%2Caps%2C376&sr=8-56', 'https://www.amazon.in/sspa/click?ie=UTF8&spc=MTo1NzY2ODIwNjU4NDA3MTEyOjE3MTM3NzgwOTM6c3BfYnRmOjMwMDE0MTc5MzY3NTMzMjo6MDo6&url=%2FGuitar-Tailpiece-Guitars-Bridge-Replacement%2Fdp%2FB0BWYSZW1Y%2Fref%3Dsr_1_57_sspa%3Fcrid%3DJ2T429VLPU32%26dib%3DeyJ2IjoiMSJ9.yMNWF0-ZbwuOEjMTW7AEIy-7cwmFzGIQSCMC8z4mYkiVJ0Q8PniDU9qCdaXZ8tskLJSjvtRT4fqk_HiRdcD3jN1e42deR3gi94NTNb95Qhx-y1hYK88UG6pWDbrstVpqFSJxkpIN84I0A5dW4NqfAJWvliGe3xSfuWSCL9wJuu3H2LxOA_93Cb43c8hStwljftK6qGu2zecg6WbBuEaUI8W8CATUQIqW0CnE5mF9G9w2jIaDiGXlIUK3RzxrG0xvtb4rDUvlmqGtiTl0932XH-aiJjXvEkEWRKJTlw37zuk.bcl4s5DZp-VhbzA_qnvDQ7SEvPEpQ50DR0NxtjZr_04%26dib_tag%3Dse%26keywords%3Dgitar%26qid%3D1713778093%26sprefix%3Dgitar%252Caps%252C376%26sr%3D8-57-spons%26sp_csd%3Dd2lkZ2V0TmFtZT1zcF9idGY%26psc%3D1', 'https://www.amazon.in/sspa/click?ie=UTF8&spc=MTo1NzY2ODIwNjU4NDA3MTEyOjE3MTM3NzgwOTM6c3BfYnRmOjMwMDE1MTQ1NDkxODkzMjo6MDo6&url=%2FSG-Musical-Anti-Slip-Accessories-Frame%2Fdp%2FB0BG5HYYQL%2Fref%3Dsr_1_58_sspa%3Fcrid%3DJ2T429VLPU32%26dib%3DeyJ2IjoiMSJ9.yMNWF0-ZbwuOEjMTW7AEIy-7cwmFzGIQSCMC8z4mYkiVJ0Q8PniDU9qCdaXZ8tskLJSjvtRT4fqk_HiRdcD3jN1e42deR3gi94NTNb95Qhx-y1hYK88UG6pWDbrstVpqFSJxkpIN84I0A5dW4NqfAJWvliGe3xSfuWSCL9wJuu3H2LxOA_93Cb43c8hStwljftK6qGu2zecg6WbBuEaUI8W8CATUQIqW0CnE5mF9G9w2jIaDiGXlIUK3RzxrG0xvtb4rDUvlmqGtiTl0932XH-aiJjXvEkEWRKJTlw37zuk.bcl4s5DZp-VhbzA_qnvDQ7SEvPEpQ50DR0NxtjZr_04%26dib_tag%3Dse%26keywords%3Dgitar%26qid%3D1713778093%26sprefix%3Dgitar%252Caps%252C376%26sr%3D8-58-spons%26sp_csd%3Dd2lkZ2V0TmFtZT1zcF9idGY%26psc%3D1', 'https://www.amazon.in/sspa/click?ie=UTF8&spc=MTo1NzY2ODIwNjU4NDA3MTEyOjE3MTM3NzgwOTM6c3BfYnRmOjMwMDE0NTc0NjU3MTQzMjo6MDo6&url=%2FSG-Musical-Guitar-silicon-fingers%2Fdp%2FB0BD4B826N%2Fref%3Dsr_1_59_sspa%3Fcrid%3DJ2T429VLPU32%26dib%3DeyJ2IjoiMSJ9.yMNWF0-ZbwuOEjMTW7AEIy-7cwmFzGIQSCMC8z4mYkiVJ0Q8PniDU9qCdaXZ8tskLJSjvtRT4fqk_HiRdcD3jN1e42deR3gi94NTNb95Qhx-y1hYK88UG6pWDbrstVpqFSJxkpIN84I0A5dW4NqfAJWvliGe3xSfuWSCL9wJuu3H2LxOA_93Cb43c8hStwljftK6qGu2zecg6WbBuEaUI8W8CATUQIqW0CnE5mF9G9w2jIaDiGXlIUK3RzxrG0xvtb4rDUvlmqGtiTl0932XH-aiJjXvEkEWRKJTlw37zuk.bcl4s5DZp-VhbzA_qnvDQ7SEvPEpQ50DR0NxtjZr_04%26dib_tag%3Dse%26keywords%3Dgitar%26qid%3D1713778093%26sprefix%3Dgitar%252Caps%252C376%26sr%3D8-59-spons%26sp_csd%3Dd2lkZ2V0TmFtZT1zcF9idGY%26psc%3D1', 'https://www.amazon.in/sspa/click?ie=UTF8&spc=MTo1NzY2ODIwNjU4NDA3MTEyOjE3MTM3NzgwOTM6c3BfYnRmOjMwMDE1MTQ1NDkxODgzMjo6MDo6&url=%2FSG-Musical-Metal-Guitar-Universal%2Fdp%2FB0BG5M472T%2Fref%3Dsr_1_60_sspa%3Fcrid%3DJ2T429VLPU32%26dib%3DeyJ2IjoiMSJ9.yMNWF0-ZbwuOEjMTW7AEIy-7cwmFzGIQSCMC8z4mYkiVJ0Q8PniDU9qCdaXZ8tskLJSjvtRT4fqk_HiRdcD3jN1e42deR3gi94NTNb95Qhx-y1hYK88UG6pWDbrstVpqFSJxkpIN84I0A5dW4NqfAJWvliGe3xSfuWSCL9wJuu3H2LxOA_93Cb43c8hStwljftK6qGu2zecg6WbBuEaUI8W8CATUQIqW0CnE5mF9G9w2jIaDiGXlIUK3RzxrG0xvtb4rDUvlmqGtiTl0932XH-aiJjXvEkEWRKJTlw37zuk.bcl4s5DZp-VhbzA_qnvDQ7SEvPEpQ50DR0NxtjZr_04%26dib_tag%3Dse%26keywords%3Dgitar%26qid%3D1713778093%26sprefix%3Dgitar%252Caps%252C376%26sr%3D8-60-spons%26sp_csd%3Dd2lkZ2V0TmFtZT1zcF9idGY%26psc%3D1', 'https://www.amazon.in/sspa/click?ie=UTF8&spc=MTo1NzY2ODIwNjU4NDA3MTEyOjE3MTM3NzgwOTM6c3BfYXRmOjMwMDAxNTUzNzk3OTIzMjo6MDo6&url=%2FKadence-Frontier-Acoustic-Guitar-Strings%2Fdp%2FB078GTJP5Y%2Fref%3Dsr_1_1_sspa%3Fcrid%3DJ2T429VLPU32%26dib%3DeyJ2IjoiMSJ9.yMNWF0-ZbwuOEjMTW7AEIy-7cwmFzGIQSCMC8z4mYkiVJ0Q8PniDU9qCdaXZ8tskLJSjvtRT4fqk_HiRdcD3jN1e42deR3gi94NTNb95Qhx-y1hYK88UG6pWDbrstVpqFSJxkpIN84I0A5dW4NqfAJWvliGe3xSfuWSCL9wJuu3H2LxOA_93Cb43c8hStwljftK6qGu2zecg6WbBuEaUI8W8CATUQIqW0CnE5mF9G9w2jIaDiGXlIUK3RzxrG0xvtb4rDUvlmqGtiTl0932XH-aiJjXvEkEWRKJTlw37zuk.bcl4s5DZp-VhbzA_qnvDQ7SEvPEpQ50DR0NxtjZr_04%26dib_tag%3Dse%26keywords%3Dgitar%26qid%3D1713778093%26sprefix%3Dgitar%252Caps%252C376%26sr%3D8-1-spons%26sp_csd%3Dd2lkZ2V0TmFtZT1zcF9hdGY%26psc%3D1', 'https://www.amazon.in/sspa/click?ie=UTF8&spc=MTo1NzY2ODIwNjU4NDA3MTEyOjE3MTM3NzgwOTM6c3BfYXRmOjIwMDUwNzcxNjg2MjA0OjowOjo&url=%2FHenrix-Acoustic-Guitar-Die-cast-Dual-action%2Fdp%2FB07VNDW6QF%2Fref%3Dsr_1_2_sspa%3Fcrid%3DJ2T429VLPU32%26dib%3DeyJ2IjoiMSJ9.yMNWF0-ZbwuOEjMTW7AEIy-7cwmFzGIQSCMC8z4mYkiVJ0Q8PniDU9qCdaXZ8tskLJSjvtRT4fqk_HiRdcD3jN1e42deR3gi94NTNb95Qhx-y1hYK88UG6pWDbrstVpqFSJxkpIN84I0A5dW4NqfAJWvliGe3xSfuWSCL9wJuu3H2LxOA_93Cb43c8hStwljftK6qGu2zecg6WbBuEaUI8W8CATUQIqW0CnE5mF9G9w2jIaDiGXlIUK3RzxrG0xvtb4rDUvlmqGtiTl0932XH-aiJjXvEkEWRKJTlw37zuk.bcl4s5DZp-VhbzA_qnvDQ7SEvPEpQ50DR0NxtjZr_04%26dib_tag%3Dse%26keywords%3Dgitar%26qid%3D1713778093%26sprefix%3Dgitar%252Caps%252C376%26sr%3D8-2-spons%26sp_csd%3Dd2lkZ2V0TmFtZT1zcF9hdGY%26psc%3D1', 'https://www.amazon.in/sspa/click?ie=UTF8&spc=MTo1NzY2ODIwNjU4NDA3MTEyOjE3MTM3NzgwOTM6c3BfYXRmOjMwMDAxNTUwODk1NDEzMjo6MDo6&url=%2FKadence-Frontier-Acoustic-Guitar-Strings%2Fdp%2FB01GDZ46AA%2Fref%3Dsr_1_3_sspa%3Fcrid%3DJ2T429VLPU32%26dib%3DeyJ2IjoiMSJ9.yMNWF0-ZbwuOEjMTW7AEIy-7cwmFzGIQSCMC8z4mYkiVJ0Q8PniDU9qCdaXZ8tskLJSjvtRT4fqk_HiRdcD3jN1e42deR3gi94NTNb95Qhx-y1hYK88UG6pWDbrstVpqFSJxkpIN84I0A5dW4NqfAJWvliGe3xSfuWSCL9wJuu3H2LxOA_93Cb43c8hStwljftK6qGu2zecg6WbBuEaUI8W8CATUQIqW0CnE5mF9G9w2jIaDiGXlIUK3RzxrG0xvtb4rDUvlmqGtiTl0932XH-aiJjXvEkEWRKJTlw37zuk.bcl4s5DZp-VhbzA_qnvDQ7SEvPEpQ50DR0NxtjZr_04%26dib_tag%3Dse%26keywords%3Dgitar%26qid%3D1713778093%26sprefix%3Dgitar%252Caps%252C376%26sr%3D8-3-spons%26sp_csd%3Dd2lkZ2V0TmFtZT1zcF9hdGY%26psc%3D1', 'https://www.amazon.in/sspa/click?ie=UTF8&spc=MTo1NzY2ODIwNjU4NDA3MTEyOjE3MTM3NzgwOTM6c3BfYXRmOjMwMDAzNDc3Mzk4MDUzMjo6MDo6&url=%2FKadence-Professional-Acoustic-Rosewood-Natural%2Fdp%2FB0CC927DLN%2Fref%3Dsr_1_4_sspa%3Fcrid%3DJ2T429VLPU32%26dib%3DeyJ2IjoiMSJ9.yMNWF0-ZbwuOEjMTW7AEIy-7cwmFzGIQSCMC8z4mYkiVJ0Q8PniDU9qCdaXZ8tskLJSjvtRT4fqk_HiRdcD3jN1e42deR3gi94NTNb95Qhx-y1hYK88UG6pWDbrstVpqFSJxkpIN84I0A5dW4NqfAJWvliGe3xSfuWSCL9wJuu3H2LxOA_93Cb43c8hStwljftK6qGu2zecg6WbBuEaUI8W8CATUQIqW0CnE5mF9G9w2jIaDiGXlIUK3RzxrG0xvtb4rDUvlmqGtiTl0932XH-aiJjXvEkEWRKJTlw37zuk.bcl4s5DZp-VhbzA_qnvDQ7SEvPEpQ50DR0NxtjZr_04%26dib_tag%3Dse%26keywords%3Dgitar%26qid%3D1713778093%26sprefix%3Dgitar%252Caps%252C376%26sr%3D8-4-spons%26sp_csd%3Dd2lkZ2V0TmFtZT1zcF9hdGY%26psc%3D1', 'https://www.amazon.in/JUAREZ-JRZ38C-Handed-Acoustic-Strings/dp/B01FYYTDX6/ref=sr_1_5?crid=J2T429VLPU32&dib=eyJ2IjoiMSJ9.yMNWF0-ZbwuOEjMTW7AEIy-7cwmFzGIQSCMC8z4mYkiVJ0Q8PniDU9qCdaXZ8tskLJSjvtRT4fqk_HiRdcD3jN1e42deR3gi94NTNb95Qhx-y1hYK88UG6pWDbrstVpqFSJxkpIN84I0A5dW4NqfAJWvliGe3xSfuWSCL9wJuu3H2LxOA_93Cb43c8hStwljftK6qGu2zecg6WbBuEaUI8W8CATUQIqW0CnE5mF9G9w2jIaDiGXlIUK3RzxrG0xvtb4rDUvlmqGtiTl0932XH-aiJjXvEkEWRKJTlw37zuk.bcl4s5DZp-VhbzA_qnvDQ7SEvPEpQ50DR0NxtjZr_04&dib_tag=se&keywords=gitar&qid=1713778093&sprefix=gitar%2Caps%2C376&sr=8-5', 'https://www.amazon.in/4-String-Learning-Childrens-Instrument-Beginners/dp/B08KP66ZZN/ref=sr_1_6?crid=J2T429VLPU32&dib=eyJ2IjoiMSJ9.yMNWF0-ZbwuOEjMTW7AEIy-7cwmFzGIQSCMC8z4mYkiVJ0Q8PniDU9qCdaXZ8tskLJSjvtRT4fqk_HiRdcD3jN1e42deR3gi94NTNb95Qhx-y1hYK88UG6pWDbrstVpqFSJxkpIN84I0A5dW4NqfAJWvliGe3xSfuWSCL9wJuu3H2LxOA_93Cb43c8hStwljftK6qGu2zecg6WbBuEaUI8W8CATUQIqW0CnE5mF9G9w2jIaDiGXlIUK3RzxrG0xvtb4rDUvlmqGtiTl0932XH-aiJjXvEkEWRKJTlw37zuk.bcl4s5DZp-VhbzA_qnvDQ7SEvPEpQ50DR0NxtjZr_04&dib_tag=se&keywords=gitar&qid=1713778093&sprefix=gitar%2Caps%2C376&sr=8-6', 'https://www.amazon.in/Medellin-MED-BLU-C-Linden-Acoustic-Guitar/dp/B07NBMWHJW/ref=sr_1_7?crid=J2T429VLPU32&dib=eyJ2IjoiMSJ9.yMNWF0-ZbwuOEjMTW7AEIy-7cwmFzGIQSCMC8z4mYkiVJ0Q8PniDU9qCdaXZ8tskLJSjvtRT4fqk_HiRdcD3jN1e42deR3gi94NTNb95Qhx-y1hYK88UG6pWDbrstVpqFSJxkpIN84I0A5dW4NqfAJWvliGe3xSfuWSCL9wJuu3H2LxOA_93Cb43c8hStwljftK6qGu2zecg6WbBuEaUI8W8CATUQIqW0CnE5mF9G9w2jIaDiGXlIUK3RzxrG0xvtb4rDUvlmqGtiTl0932XH-aiJjXvEkEWRKJTlw37zuk.bcl4s5DZp-VhbzA_qnvDQ7SEvPEpQ50DR0NxtjZr_04&dib_tag=se&keywords=gitar&qid=1713778093&sprefix=gitar%2Caps%2C376&sr=8-7', 'https://www.amazon.in/JRZ38C-VTS-Strings-Acoustic-Cutaway/dp/B072MFLQC9/ref=sr_1_8?crid=J2T429VLPU32&dib=eyJ2IjoiMSJ9.yMNWF0-ZbwuOEjMTW7AEIy-7cwmFzGIQSCMC8z4mYkiVJ0Q8PniDU9qCdaXZ8tskLJSjvtRT4fqk_HiRdcD3jN1e42deR3gi94NTNb95Qhx-y1hYK88UG6pWDbrstVpqFSJxkpIN84I0A5dW4NqfAJWvliGe3xSfuWSCL9wJuu3H2LxOA_93Cb43c8hStwljftK6qGu2zecg6WbBuEaUI8W8CATUQIqW0CnE5mF9G9w2jIaDiGXlIUK3RzxrG0xvtb4rDUvlmqGtiTl0932XH-aiJjXvEkEWRKJTlw37zuk.bcl4s5DZp-VhbzA_qnvDQ7SEvPEpQ50DR0NxtjZr_04&dib_tag=se&keywords=gitar&qid=1713778093&sprefix=gitar%2Caps%2C376&sr=8-8', 'https://www.amazon.in/Acoustic-Cutaway-RDS-Strings-Sunburst/dp/B076QGY91P/ref=sr_1_9?crid=J2T429VLPU32&dib=eyJ2IjoiMSJ9.yMNWF0-ZbwuOEjMTW7AEIy-7cwmFzGIQSCMC8z4mYkiVJ0Q8PniDU9qCdaXZ8tskLJSjvtRT4fqk_HiRdcD3jN1e42deR3gi94NTNb95Qhx-y1hYK88UG6pWDbrstVpqFSJxkpIN84I0A5dW4NqfAJWvliGe3xSfuWSCL9wJuu3H2LxOA_93Cb43c8hStwljftK6qGu2zecg6WbBuEaUI8W8CATUQIqW0CnE5mF9G9w2jIaDiGXlIUK3RzxrG0xvtb4rDUvlmqGtiTl0932XH-aiJjXvEkEWRKJTlw37zuk.bcl4s5DZp-VhbzA_qnvDQ7SEvPEpQ50DR0NxtjZr_04&dib_tag=se&keywords=gitar&qid=1713778093&sprefix=gitar%2Caps%2C376&sr=8-9', 'https://www.amazon.in/JUAREZ-JRZ38C-3TSNA/dp/B0BCQQRDF3/ref=sr_1_10?crid=J2T429VLPU32&dib=eyJ2IjoiMSJ9.yMNWF0-ZbwuOEjMTW7AEIy-7cwmFzGIQSCMC8z4mYkiVJ0Q8PniDU9qCdaXZ8tskLJSjvtRT4fqk_HiRdcD3jN1e42deR3gi94NTNb95Qhx-y1hYK88UG6pWDbrstVpqFSJxkpIN84I0A5dW4NqfAJWvliGe3xSfuWSCL9wJuu3H2LxOA_93Cb43c8hStwljftK6qGu2zecg6WbBuEaUI8W8CATUQIqW0CnE5mF9G9w2jIaDiGXlIUK3RzxrG0xvtb4rDUvlmqGtiTl0932XH-aiJjXvEkEWRKJTlw37zuk.bcl4s5DZp-VhbzA_qnvDQ7SEvPEpQ50DR0NxtjZr_04&dib_tag=se&keywords=gitar&qid=1713778093&sprefix=gitar%2Caps%2C376&sr=8-10', 'https://www.amazon.in/Intern-38-inch-Cutaway-Design-Acoustic/dp/B07X4PN85R/ref=sr_1_11?crid=J2T429VLPU32&dib=eyJ2IjoiMSJ9.yMNWF0-ZbwuOEjMTW7AEIy-7cwmFzGIQSCMC8z4mYkiVJ0Q8PniDU9qCdaXZ8tskLJSjvtRT4fqk_HiRdcD3jN1e42deR3gi94NTNb95Qhx-y1hYK88UG6pWDbrstVpqFSJxkpIN84I0A5dW4NqfAJWvliGe3xSfuWSCL9wJuu3H2LxOA_93Cb43c8hStwljftK6qGu2zecg6WbBuEaUI8W8CATUQIqW0CnE5mF9G9w2jIaDiGXlIUK3RzxrG0xvtb4rDUvlmqGtiTl0932XH-aiJjXvEkEWRKJTlw37zuk.bcl4s5DZp-VhbzA_qnvDQ7SEvPEpQ50DR0NxtjZr_04&dib_tag=se&keywords=gitar&qid=1713778093&sprefix=gitar%2Caps%2C376&sr=8-11', 'https://www.amazon.in/Juarez-Acoustic-Cutaway-038C-Strings/dp/B017NPCSLI/ref=sr_1_12?crid=J2T429VLPU32&dib=eyJ2IjoiMSJ9.yMNWF0-ZbwuOEjMTW7AEIy-7cwmFzGIQSCMC8z4mYkiVJ0Q8PniDU9qCdaXZ8tskLJSjvtRT4fqk_HiRdcD3jN1e42deR3gi94NTNb95Qhx-y1hYK88UG6pWDbrstVpqFSJxkpIN84I0A5dW4NqfAJWvliGe3xSfuWSCL9wJuu3H2LxOA_93Cb43c8hStwljftK6qGu2zecg6WbBuEaUI8W8CATUQIqW0CnE5mF9G9w2jIaDiGXlIUK3RzxrG0xvtb4rDUvlmqGtiTl0932XH-aiJjXvEkEWRKJTlw37zuk.bcl4s5DZp-VhbzA_qnvDQ7SEvPEpQ50DR0NxtjZr_04&dib_tag=se&keywords=gitar&qid=1713778093&sprefix=gitar%2Caps%2C376&sr=8-12', 'https://www.amazon.in/Henrix-Cutaway-Acoustic-Guitar-Action/dp/B097NCQFFM/ref=sr_1_13?crid=J2T429VLPU32&dib=eyJ2IjoiMSJ9.yMNWF0-ZbwuOEjMTW7AEIy-7cwmFzGIQSCMC8z4mYkiVJ0Q8PniDU9qCdaXZ8tskLJSjvtRT4fqk_HiRdcD3jN1e42deR3gi94NTNb95Qhx-y1hYK88UG6pWDbrstVpqFSJxkpIN84I0A5dW4NqfAJWvliGe3xSfuWSCL9wJuu3H2LxOA_93Cb43c8hStwljftK6qGu2zecg6WbBuEaUI8W8CATUQIqW0CnE5mF9G9w2jIaDiGXlIUK3RzxrG0xvtb4rDUvlmqGtiTl0932XH-aiJjXvEkEWRKJTlw37zuk.bcl4s5DZp-VhbzA_qnvDQ7SEvPEpQ50DR0NxtjZr_04&dib_tag=se&keywords=gitar&qid=1713778093&sprefix=gitar%2Caps%2C376&sr=8-13', 'https://www.amazon.in/Yamaha-F280-Acoustic-Guitar-Natural/dp/B08317Y4VP/ref=sr_1_14?crid=J2T429VLPU32&dib=eyJ2IjoiMSJ9.yMNWF0-ZbwuOEjMTW7AEIy-7cwmFzGIQSCMC8z4mYkiVJ0Q8PniDU9qCdaXZ8tskLJSjvtRT4fqk_HiRdcD3jN1e42deR3gi94NTNb95Qhx-y1hYK88UG6pWDbrstVpqFSJxkpIN84I0A5dW4NqfAJWvliGe3xSfuWSCL9wJuu3H2LxOA_93Cb43c8hStwljftK6qGu2zecg6WbBuEaUI8W8CATUQIqW0CnE5mF9G9w2jIaDiGXlIUK3RzxrG0xvtb4rDUvlmqGtiTl0932XH-aiJjXvEkEWRKJTlw37zuk.bcl4s5DZp-VhbzA_qnvDQ7SEvPEpQ50DR0NxtjZr_04&dib_tag=se&keywords=gitar&qid=1713778093&sprefix=gitar%2Caps%2C376&sr=8-14', 'https://www.amazon.in/JUAREZ-JRZ38C-BKNA/dp/B0BCQNVPRB/ref=sr_1_15?crid=J2T429VLPU32&dib=eyJ2IjoiMSJ9.yMNWF0-ZbwuOEjMTW7AEIy-7cwmFzGIQSCMC8z4mYkiVJ0Q8PniDU9qCdaXZ8tskLJSjvtRT4fqk_HiRdcD3jN1e42deR3gi94NTNb95Qhx-y1hYK88UG6pWDbrstVpqFSJxkpIN84I0A5dW4NqfAJWvliGe3xSfuWSCL9wJuu3H2LxOA_93Cb43c8hStwljftK6qGu2zecg6WbBuEaUI8W8CATUQIqW0CnE5mF9G9w2jIaDiGXlIUK3RzxrG0xvtb4rDUvlmqGtiTl0932XH-aiJjXvEkEWRKJTlw37zuk.bcl4s5DZp-VhbzA_qnvDQ7SEvPEpQ50DR0NxtjZr_04&dib_tag=se&keywords=gitar&qid=1713778093&sprefix=gitar%2Caps%2C376&sr=8-15', 'https://www.amazon.in/Kadence-Slowhand-Premium-Acoustic-Instrument/dp/B077SZ667X/ref=sr_1_16?crid=J2T429VLPU32&dib=eyJ2IjoiMSJ9.yMNWF0-ZbwuOEjMTW7AEIy-7cwmFzGIQSCMC8z4mYkiVJ0Q8PniDU9qCdaXZ8tskLJSjvtRT4fqk_HiRdcD3jN1e42deR3gi94NTNb95Qhx-y1hYK88UG6pWDbrstVpqFSJxkpIN84I0A5dW4NqfAJWvliGe3xSfuWSCL9wJuu3H2LxOA_93Cb43c8hStwljftK6qGu2zecg6WbBuEaUI8W8CATUQIqW0CnE5mF9G9w2jIaDiGXlIUK3RzxrG0xvtb4rDUvlmqGtiTl0932XH-aiJjXvEkEWRKJTlw37zuk.bcl4s5DZp-VhbzA_qnvDQ7SEvPEpQ50DR0NxtjZr_04&dib_tag=se&keywords=gitar&qid=1713778093&sprefix=gitar%2Caps%2C376&sr=8-16', 'https://www.amazon.in/Intern-INT-38C-Acoustic-Guitar-Black/dp/B073B6TQQY/ref=sr_1_17?crid=J2T429VLPU32&dib=eyJ2IjoiMSJ9.yMNWF0-ZbwuOEjMTW7AEIy-7cwmFzGIQSCMC8z4mYkiVJ0Q8PniDU9qCdaXZ8tskLJSjvtRT4fqk_HiRdcD3jN1e42deR3gi94NTNb95Qhx-y1hYK88UG6pWDbrstVpqFSJxkpIN84I0A5dW4NqfAJWvliGe3xSfuWSCL9wJuu3H2LxOA_93Cb43c8hStwljftK6qGu2zecg6WbBuEaUI8W8CATUQIqW0CnE5mF9G9w2jIaDiGXlIUK3RzxrG0xvtb4rDUvlmqGtiTl0932XH-aiJjXvEkEWRKJTlw37zuk.bcl4s5DZp-VhbzA_qnvDQ7SEvPEpQ50DR0NxtjZr_04&dib_tag=se&keywords=gitar&qid=1713778093&sprefix=gitar%2Caps%2C376&sr=8-17', 'https://www.amazon.in/Yamaha-F310-6-Strings-Acoustic-Natural/dp/B000RVYW7E/ref=sr_1_18?crid=J2T429VLPU32&dib=eyJ2IjoiMSJ9.yMNWF0-ZbwuOEjMTW7AEIy-7cwmFzGIQSCMC8z4mYkiVJ0Q8PniDU9qCdaXZ8tskLJSjvtRT4fqk_HiRdcD3jN1e42deR3gi94NTNb95Qhx-y1hYK88UG6pWDbrstVpqFSJxkpIN84I0A5dW4NqfAJWvliGe3xSfuWSCL9wJuu3H2LxOA_93Cb43c8hStwljftK6qGu2zecg6WbBuEaUI8W8CATUQIqW0CnE5mF9G9w2jIaDiGXlIUK3RzxrG0xvtb4rDUvlmqGtiTl0932XH-aiJjXvEkEWRKJTlw37zuk.bcl4s5DZp-VhbzA_qnvDQ7SEvPEpQ50DR0NxtjZr_04&dib_tag=se&keywords=gitar&qid=1713778093&sprefix=gitar%2Caps%2C376&sr=8-18', 'https://www.amazon.in/Juarez-JRZ-ST01-6-String-Electric-Without/dp/B01FYZSOGM/ref=sr_1_19?crid=J2T429VLPU32&dib=eyJ2IjoiMSJ9.yMNWF0-ZbwuOEjMTW7AEIy-7cwmFzGIQSCMC8z4mYkiVJ0Q8PniDU9qCdaXZ8tskLJSjvtRT4fqk_HiRdcD3jN1e42deR3gi94NTNb95Qhx-y1hYK88UG6pWDbrstVpqFSJxkpIN84I0A5dW4NqfAJWvliGe3xSfuWSCL9wJuu3H2LxOA_93Cb43c8hStwljftK6qGu2zecg6WbBuEaUI8W8CATUQIqW0CnE5mF9G9w2jIaDiGXlIUK3RzxrG0xvtb4rDUvlmqGtiTl0932XH-aiJjXvEkEWRKJTlw37zuk.bcl4s5DZp-VhbzA_qnvDQ7SEvPEpQ50DR0NxtjZr_04&dib_tag=se&keywords=gitar&qid=1713778093&sprefix=gitar%2Caps%2C376&sr=8-19', 'https://www.amazon.in/JUAREZ-JRZ38C-TBLSNA/dp/B0BCQKQ6CS/ref=sr_1_20?crid=J2T429VLPU32&dib=eyJ2IjoiMSJ9.yMNWF0-ZbwuOEjMTW7AEIy-7cwmFzGIQSCMC8z4mYkiVJ0Q8PniDU9qCdaXZ8tskLJSjvtRT4fqk_HiRdcD3jN1e42deR3gi94NTNb95Qhx-y1hYK88UG6pWDbrstVpqFSJxkpIN84I0A5dW4NqfAJWvliGe3xSfuWSCL9wJuu3H2LxOA_93Cb43c8hStwljftK6qGu2zecg6WbBuEaUI8W8CATUQIqW0CnE5mF9G9w2jIaDiGXlIUK3RzxrG0xvtb4rDUvlmqGtiTl0932XH-aiJjXvEkEWRKJTlw37zuk.bcl4s5DZp-VhbzA_qnvDQ7SEvPEpQ50DR0NxtjZr_04&dib_tag=se&keywords=gitar&qid=1713778093&sprefix=gitar%2Caps%2C376&sr=8-20', 'https://www.amazon.in/sspa/click?ie=UTF8&spc=MTo1NzY2ODIwNjU4NDA3MTEyOjE3MTM3NzgwOTM6c3BfbXRmOjMwMDE0ODU0ODIzMTYzMjo6MDo6&url=%2FIbanez-MD39C-NT-Cutaway-Acoustic-Polishing%2Fdp%2FB084C1DGCV%2Fref%3Dsr_1_21_sspa%3Fcrid%3DJ2T429VLPU32%26dib%3DeyJ2IjoiMSJ9.yMNWF0-ZbwuOEjMTW7AEIy-7cwmFzGIQSCMC8z4mYkiVJ0Q8PniDU9qCdaXZ8tskLJSjvtRT4fqk_HiRdcD3jN1e42deR3gi94NTNb95Qhx-y1hYK88UG6pWDbrstVpqFSJxkpIN84I0A5dW4NqfAJWvliGe3xSfuWSCL9wJuu3H2LxOA_93Cb43c8hStwljftK6qGu2zecg6WbBuEaUI8W8CATUQIqW0CnE5mF9G9w2jIaDiGXlIUK3RzxrG0xvtb4rDUvlmqGtiTl0932XH-aiJjXvEkEWRKJTlw37zuk.bcl4s5DZp-VhbzA_qnvDQ7SEvPEpQ50DR0NxtjZr_04%26dib_tag%3Dse%26keywords%3Dgitar%26qid%3D1713778093%26sprefix%3Dgitar%252Caps%252C376%26sr%3D8-21-spons%26sp_csd%3Dd2lkZ2V0TmFtZT1zcF9tdGY%26psc%3D1', 'https://www.amazon.in/sspa/click?ie=UTF8&spc=MTo1NzY2ODIwNjU4NDA3MTEyOjE3MTM3NzgwOTM6c3BfbXRmOjMwMDE2MzkzNzg1NzIzMjo6MDo6&url=%2FMOCKING-BIRD-Acoustic-beginners-instrument%2Fdp%2FB0CR9XH4QH%2Fref%3Dsr_1_22_sspa%3Fcrid%3DJ2T429VLPU32%26dib%3DeyJ2IjoiMSJ9.yMNWF0-ZbwuOEjMTW7AEIy-7cwmFzGIQSCMC8z4mYkiVJ0Q8PniDU9qCdaXZ8tskLJSjvtRT4fqk_HiRdcD3jN1e42deR3gi94NTNb95Qhx-y1hYK88UG6pWDbrstVpqFSJxkpIN84I0A5dW4NqfAJWvliGe3xSfuWSCL9wJuu3H2LxOA_93Cb43c8hStwljftK6qGu2zecg6WbBuEaUI8W8CATUQIqW0CnE5mF9G9w2jIaDiGXlIUK3RzxrG0xvtb4rDUvlmqGtiTl0932XH-aiJjXvEkEWRKJTlw37zuk.bcl4s5DZp-VhbzA_qnvDQ7SEvPEpQ50DR0NxtjZr_04%26dib_tag%3Dse%26keywords%3Dgitar%26qid%3D1713778093%26sprefix%3Dgitar%252Caps%252C376%26sr%3D8-22-spons%26sp_csd%3Dd2lkZ2V0TmFtZT1zcF9tdGY%26psc%3D1', 'https://www.amazon.in/sspa/click?ie=UTF8&spc=MTo1NzY2ODIwNjU4NDA3MTEyOjE3MTM3NzgwOTM6c3BfbXRmOjMwMDE0MTg2MjIyNjAzMjo6MDo6&url=%2FRichtone-B239C-Natural-cutaway-Acoustic%2Fdp%2FB0CNW9RZ9D%2Fref%3Dsr_1_23_sspa%3Fcrid%3DJ2T429VLPU32%26dib%3DeyJ2IjoiMSJ9.yMNWF0-ZbwuOEjMTW7AEIy-7cwmFzGIQSCMC8z4mYkiVJ0Q8PniDU9qCdaXZ8tskLJSjvtRT4fqk_HiRdcD3jN1e42deR3gi94NTNb95Qhx-y1hYK88UG6pWDbrstVpqFSJxkpIN84I0A5dW4NqfAJWvliGe3xSfuWSCL9wJuu3H2LxOA_93Cb43c8hStwljftK6qGu2zecg6WbBuEaUI8W8CATUQIqW0CnE5mF9G9w2jIaDiGXlIUK3RzxrG0xvtb4rDUvlmqGtiTl0932XH-aiJjXvEkEWRKJTlw37zuk.bcl4s5DZp-VhbzA_qnvDQ7SEvPEpQ50DR0NxtjZr_04%26dib_tag%3Dse%26keywords%3Dgitar%26qid%3D1713778093%26sprefix%3Dgitar%252Caps%252C376%26sr%3D8-23-spons%26sp_csd%3Dd2lkZ2V0TmFtZT1zcF9tdGY%26psc%3D1', 'https://www.amazon.in/sspa/click?ie=UTF8&spc=MTo1NzY2ODIwNjU4NDA3MTEyOjE3MTM3NzgwOTM6c3BfbXRmOjIwMDU3MzAzOTg2MjA0OjowOjo&url=%2FKadence-Slowhand-Premium-Acoustic-Instrument%2Fdp%2FB077SZ667X%2Fref%3Dsr_1_24_sspa%3Fcrid%3DJ2T429VLPU32%26dib%3DeyJ2IjoiMSJ9.yMNWF0-ZbwuOEjMTW7AEIy-7cwmFzGIQSCMC8z4mYkiVJ0Q8PniDU9qCdaXZ8tskLJSjvtRT4fqk_HiRdcD3jN1e42deR3gi94NTNb95Qhx-y1hYK88UG6pWDbrstVpqFSJxkpIN84I0A5dW4NqfAJWvliGe3xSfuWSCL9wJuu3H2LxOA_93Cb43c8hStwljftK6qGu2zecg6WbBuEaUI8W8CATUQIqW0CnE5mF9G9w2jIaDiGXlIUK3RzxrG0xvtb4rDUvlmqGtiTl0932XH-aiJjXvEkEWRKJTlw37zuk.bcl4s5DZp-VhbzA_qnvDQ7SEvPEpQ50DR0NxtjZr_04%26dib_tag%3Dse%26keywords%3Dgitar%26qid%3D1713778093%26sprefix%3Dgitar%252Caps%252C376%26sr%3D8-24-spons%26sp_csd%3Dd2lkZ2V0TmFtZT1zcF9tdGY%26psc%3D1', 'https://www.amazon.in/Kadence-Professional-Acoustic-Rosewood-Natural/dp/B0CC927DLN/ref=sr_1_25?crid=J2T429VLPU32&dib=eyJ2IjoiMSJ9.yMNWF0-ZbwuOEjMTW7AEIy-7cwmFzGIQSCMC8z4mYkiVJ0Q8PniDU9qCdaXZ8tskLJSjvtRT4fqk_HiRdcD3jN1e42deR3gi94NTNb95Qhx-y1hYK88UG6pWDbrstVpqFSJxkpIN84I0A5dW4NqfAJWvliGe3xSfuWSCL9wJuu3H2LxOA_93Cb43c8hStwljftK6qGu2zecg6WbBuEaUI8W8CATUQIqW0CnE5mF9G9w2jIaDiGXlIUK3RzxrG0xvtb4rDUvlmqGtiTl0932XH-aiJjXvEkEWRKJTlw37zuk.bcl4s5DZp-VhbzA_qnvDQ7SEvPEpQ50DR0NxtjZr_04&dib_tag=se&keywords=gitar&qid=1713778093&sprefix=gitar%2Caps%2C376&sr=8-25', 'https://www.amazon.in/Vault-Soloist-Premium-Electric-Guitar/dp/B09GLZSS95/ref=sr_1_26?crid=J2T429VLPU32&dib=eyJ2IjoiMSJ9.yMNWF0-ZbwuOEjMTW7AEIy-7cwmFzGIQSCMC8z4mYkiVJ0Q8PniDU9qCdaXZ8tskLJSjvtRT4fqk_HiRdcD3jN1e42deR3gi94NTNb95Qhx-y1hYK88UG6pWDbrstVpqFSJxkpIN84I0A5dW4NqfAJWvliGe3xSfuWSCL9wJuu3H2LxOA_93Cb43c8hStwljftK6qGu2zecg6WbBuEaUI8W8CATUQIqW0CnE5mF9G9w2jIaDiGXlIUK3RzxrG0xvtb4rDUvlmqGtiTl0932XH-aiJjXvEkEWRKJTlw37zuk.bcl4s5DZp-VhbzA_qnvDQ7SEvPEpQ50DR0NxtjZr_04&dib_tag=se&keywords=gitar&qid=1713778093&sprefix=gitar%2Caps%2C376&sr=8-26', 'https://www.amazon.in/Medellin-Acoustic-Guitar-learning-Strings/dp/B0CCNSN9BV/ref=sr_1_27?crid=J2T429VLPU32&dib=eyJ2IjoiMSJ9.yMNWF0-ZbwuOEjMTW7AEIy-7cwmFzGIQSCMC8z4mYkiVJ0Q8PniDU9qCdaXZ8tskLJSjvtRT4fqk_HiRdcD3jN1e42deR3gi94NTNb95Qhx-y1hYK88UG6pWDbrstVpqFSJxkpIN84I0A5dW4NqfAJWvliGe3xSfuWSCL9wJuu3H2LxOA_93Cb43c8hStwljftK6qGu2zecg6WbBuEaUI8W8CATUQIqW0CnE5mF9G9w2jIaDiGXlIUK3RzxrG0xvtb4rDUvlmqGtiTl0932XH-aiJjXvEkEWRKJTlw37zuk.bcl4s5DZp-VhbzA_qnvDQ7SEvPEpQ50DR0NxtjZr_04&dib_tag=se&keywords=gitar&qid=1713778093&sprefix=gitar%2Caps%2C376&sr=8-27', 'https://www.amazon.in/JUAREZ-JRZ38C-Acoustic-Sunburst-Strings/dp/B01FYYTDS6/ref=sr_1_28?crid=J2T429VLPU32&dib=eyJ2IjoiMSJ9.yMNWF0-ZbwuOEjMTW7AEIy-7cwmFzGIQSCMC8z4mYkiVJ0Q8PniDU9qCdaXZ8tskLJSjvtRT4fqk_HiRdcD3jN1e42deR3gi94NTNb95Qhx-y1hYK88UG6pWDbrstVpqFSJxkpIN84I0A5dW4NqfAJWvliGe3xSfuWSCL9wJuu3H2LxOA_93Cb43c8hStwljftK6qGu2zecg6WbBuEaUI8W8CATUQIqW0CnE5mF9G9w2jIaDiGXlIUK3RzxrG0xvtb4rDUvlmqGtiTl0932XH-aiJjXvEkEWRKJTlw37zuk.bcl4s5DZp-VhbzA_qnvDQ7SEvPEpQ50DR0NxtjZr_04&dib_tag=se&keywords=gitar&qid=1713778093&sprefix=gitar%2Caps%2C376&sr=8-28', 'https://www.amazon.in/Ju%C3%A2rez-Acoustic-Guitar-Cutaway-Strings/dp/B0BCQNLXVM/ref=sr_1_29?crid=J2T429VLPU32&dib=eyJ2IjoiMSJ9.yMNWF0-ZbwuOEjMTW7AEIy-7cwmFzGIQSCMC8z4mYkiVJ0Q8PniDU9qCdaXZ8tskLJSjvtRT4fqk_HiRdcD3jN1e42deR3gi94NTNb95Qhx-y1hYK88UG6pWDbrstVpqFSJxkpIN84I0A5dW4NqfAJWvliGe3xSfuWSCL9wJuu3H2LxOA_93Cb43c8hStwljftK6qGu2zecg6WbBuEaUI8W8CATUQIqW0CnE5mF9G9w2jIaDiGXlIUK3RzxrG0xvtb4rDUvlmqGtiTl0932XH-aiJjXvEkEWRKJTlw37zuk.bcl4s5DZp-VhbzA_qnvDQ7SEvPEpQ50DR0NxtjZr_04&dib_tag=se&keywords=gitar&qid=1713778093&sprefix=gitar%2Caps%2C376&sr=8-29', 'https://www.amazon.in/Yamaha-Classical-Guitar-C40-02/dp/B003UGCUFE/ref=sr_1_30?crid=J2T429VLPU32&dib=eyJ2IjoiMSJ9.yMNWF0-ZbwuOEjMTW7AEIy-7cwmFzGIQSCMC8z4mYkiVJ0Q8PniDU9qCdaXZ8tskLJSjvtRT4fqk_HiRdcD3jN1e42deR3gi94NTNb95Qhx-y1hYK88UG6pWDbrstVpqFSJxkpIN84I0A5dW4NqfAJWvliGe3xSfuWSCL9wJuu3H2LxOA_93Cb43c8hStwljftK6qGu2zecg6WbBuEaUI8W8CATUQIqW0CnE5mF9G9w2jIaDiGXlIUK3RzxrG0xvtb4rDUvlmqGtiTl0932XH-aiJjXvEkEWRKJTlw37zuk.bcl4s5DZp-VhbzA_qnvDQ7SEvPEpQ50DR0NxtjZr_04&dib_tag=se&keywords=gitar&qid=1713778093&sprefix=gitar%2Caps%2C376&sr=8-30', 'https://www.amazon.in/Yamaha-Acoustic-Guitar-Tobacco-Sunburst/dp/B08VXR74Q2/ref=sr_1_31?crid=J2T429VLPU32&dib=eyJ2IjoiMSJ9.yMNWF0-ZbwuOEjMTW7AEIy-7cwmFzGIQSCMC8z4mYkiVJ0Q8PniDU9qCdaXZ8tskLJSjvtRT4fqk_HiRdcD3jN1e42deR3gi94NTNb95Qhx-y1hYK88UG6pWDbrstVpqFSJxkpIN84I0A5dW4NqfAJWvliGe3xSfuWSCL9wJuu3H2LxOA_93Cb43c8hStwljftK6qGu2zecg6WbBuEaUI8W8CATUQIqW0CnE5mF9G9w2jIaDiGXlIUK3RzxrG0xvtb4rDUvlmqGtiTl0932XH-aiJjXvEkEWRKJTlw37zuk.bcl4s5DZp-VhbzA_qnvDQ7SEvPEpQ50DR0NxtjZr_04&dib_tag=se&keywords=gitar&qid=1713778093&sprefix=gitar%2Caps%2C376&sr=8-31', 'https://www.amazon.in/JUAREZ-JRZ38C-Acoustic-Sunburst-Strings/dp/B01FYYTDTU/ref=sr_1_32?crid=J2T429VLPU32&dib=eyJ2IjoiMSJ9.yMNWF0-ZbwuOEjMTW7AEIy-7cwmFzGIQSCMC8z4mYkiVJ0Q8PniDU9qCdaXZ8tskLJSjvtRT4fqk_HiRdcD3jN1e42deR3gi94NTNb95Qhx-y1hYK88UG6pWDbrstVpqFSJxkpIN84I0A5dW4NqfAJWvliGe3xSfuWSCL9wJuu3H2LxOA_93Cb43c8hStwljftK6qGu2zecg6WbBuEaUI8W8CATUQIqW0CnE5mF9G9w2jIaDiGXlIUK3RzxrG0xvtb4rDUvlmqGtiTl0932XH-aiJjXvEkEWRKJTlw37zuk.bcl4s5DZp-VhbzA_qnvDQ7SEvPEpQ50DR0NxtjZr_04&dib_tag=se&keywords=gitar&qid=1713778093&sprefix=gitar%2Caps%2C376&sr=8-32', 'https://www.amazon.in/embroidey-Electric-Embroidered-Instrument-Applique/dp/B0C5W7BVN8/ref=sr_1_33?crid=J2T429VLPU32&dib=eyJ2IjoiMSJ9.yMNWF0-ZbwuOEjMTW7AEIy-7cwmFzGIQSCMC8z4mYkiVJ0Q8PniDU9qCdaXZ8tskLJSjvtRT4fqk_HiRdcD3jN1e42deR3gi94NTNb95Qhx-y1hYK88UG6pWDbrstVpqFSJxkpIN84I0A5dW4NqfAJWvliGe3xSfuWSCL9wJuu3H2LxOA_93Cb43c8hStwljftK6qGu2zecg6WbBuEaUI8W8CATUQIqW0CnE5mF9G9w2jIaDiGXlIUK3RzxrG0xvtb4rDUvlmqGtiTl0932XH-aiJjXvEkEWRKJTlw37zuk.bcl4s5DZp-VhbzA_qnvDQ7SEvPEpQ50DR0NxtjZr_04&dib_tag=se&keywords=gitar&qid=1713778093&sprefix=gitar%2Caps%2C376&sr=8-33', 'https://www.amazon.in/Yamaha-FS-100C-6-String-Acoustic-without/dp/B00PAS9CK6/ref=sr_1_34?crid=J2T429VLPU32&dib=eyJ2IjoiMSJ9.yMNWF0-ZbwuOEjMTW7AEIy-7cwmFzGIQSCMC8z4mYkiVJ0Q8PniDU9qCdaXZ8tskLJSjvtRT4fqk_HiRdcD3jN1e42deR3gi94NTNb95Qhx-y1hYK88UG6pWDbrstVpqFSJxkpIN84I0A5dW4NqfAJWvliGe3xSfuWSCL9wJuu3H2LxOA_93Cb43c8hStwljftK6qGu2zecg6WbBuEaUI8W8CATUQIqW0CnE5mF9G9w2jIaDiGXlIUK3RzxrG0xvtb4rDUvlmqGtiTl0932XH-aiJjXvEkEWRKJTlw37zuk.bcl4s5DZp-VhbzA_qnvDQ7SEvPEpQ50DR0NxtjZr_04&dib_tag=se&keywords=gitar&qid=1713778093&sprefix=gitar%2Caps%2C376&sr=8-34', 'https://www.amazon.in/Kadence-Slowhand-Premium-Acoustic-Mahogany/dp/B09SFXW1VL/ref=sr_1_35?crid=J2T429VLPU32&dib=eyJ2IjoiMSJ9.yMNWF0-ZbwuOEjMTW7AEIy-7cwmFzGIQSCMC8z4mYkiVJ0Q8PniDU9qCdaXZ8tskLJSjvtRT4fqk_HiRdcD3jN1e42deR3gi94NTNb95Qhx-y1hYK88UG6pWDbrstVpqFSJxkpIN84I0A5dW4NqfAJWvliGe3xSfuWSCL9wJuu3H2LxOA_93Cb43c8hStwljftK6qGu2zecg6WbBuEaUI8W8CATUQIqW0CnE5mF9G9w2jIaDiGXlIUK3RzxrG0xvtb4rDUvlmqGtiTl0932XH-aiJjXvEkEWRKJTlw37zuk.bcl4s5DZp-VhbzA_qnvDQ7SEvPEpQ50DR0NxtjZr_04&dib_tag=se&keywords=gitar&qid=1713778093&sprefix=gitar%2Caps%2C376&sr=8-35', 'https://www.amazon.in/YAMAHA-FS80C-CONCERT-CUTAWAY-GUITAR/dp/B08WBBVMVJ/ref=sr_1_36?crid=J2T429VLPU32&dib=eyJ2IjoiMSJ9.yMNWF0-ZbwuOEjMTW7AEIy-7cwmFzGIQSCMC8z4mYkiVJ0Q8PniDU9qCdaXZ8tskLJSjvtRT4fqk_HiRdcD3jN1e42deR3gi94NTNb95Qhx-y1hYK88UG6pWDbrstVpqFSJxkpIN84I0A5dW4NqfAJWvliGe3xSfuWSCL9wJuu3H2LxOA_93Cb43c8hStwljftK6qGu2zecg6WbBuEaUI8W8CATUQIqW0CnE5mF9G9w2jIaDiGXlIUK3RzxrG0xvtb4rDUvlmqGtiTl0932XH-aiJjXvEkEWRKJTlw37zuk.bcl4s5DZp-VhbzA_qnvDQ7SEvPEpQ50DR0NxtjZr_04&dib_tag=se&keywords=gitar&qid=1713778093&sprefix=gitar%2Caps%2C376&sr=8-36', 'https://www.amazon.in/Gadgets-Pattren-Musical-Instument-Decal_IC90/dp/B07F8PY6DM/ref=sr_1_37?crid=J2T429VLPU32&dib=eyJ2IjoiMSJ9.yMNWF0-ZbwuOEjMTW7AEIy-7cwmFzGIQSCMC8z4mYkiVJ0Q8PniDU9qCdaXZ8tskLJSjvtRT4fqk_HiRdcD3jN1e42deR3gi94NTNb95Qhx-y1hYK88UG6pWDbrstVpqFSJxkpIN84I0A5dW4NqfAJWvliGe3xSfuWSCL9wJuu3H2LxOA_93Cb43c8hStwljftK6qGu2zecg6WbBuEaUI8W8CATUQIqW0CnE5mF9G9w2jIaDiGXlIUK3RzxrG0xvtb4rDUvlmqGtiTl0932XH-aiJjXvEkEWRKJTlw37zuk.bcl4s5DZp-VhbzA_qnvDQ7SEvPEpQ50DR0NxtjZr_04&dib_tag=se&keywords=gitar&qid=1713778093&sprefix=gitar%2Caps%2C376&sr=8-37', 'https://www.amazon.in/Yamaha-FSX80C-Acoustic-Cutaway-Natural/dp/B09HL3GFZF/ref=sr_1_38?crid=J2T429VLPU32&dib=eyJ2IjoiMSJ9.yMNWF0-ZbwuOEjMTW7AEIy-7cwmFzGIQSCMC8z4mYkiVJ0Q8PniDU9qCdaXZ8tskLJSjvtRT4fqk_HiRdcD3jN1e42deR3gi94NTNb95Qhx-y1hYK88UG6pWDbrstVpqFSJxkpIN84I0A5dW4NqfAJWvliGe3xSfuWSCL9wJuu3H2LxOA_93Cb43c8hStwljftK6qGu2zecg6WbBuEaUI8W8CATUQIqW0CnE5mF9G9w2jIaDiGXlIUK3RzxrG0xvtb4rDUvlmqGtiTl0932XH-aiJjXvEkEWRKJTlw37zuk.bcl4s5DZp-VhbzA_qnvDQ7SEvPEpQ50DR0NxtjZr_04&dib_tag=se&keywords=gitar&qid=1713778093&sprefix=gitar%2Caps%2C376&sr=8-38', 'https://www.amazon.in/Kadence-Frontier-Acoustic-Sunburst-Strings/dp/B07T5DMPZ3/ref=sr_1_39?crid=J2T429VLPU32&dib=eyJ2IjoiMSJ9.yMNWF0-ZbwuOEjMTW7AEIy-7cwmFzGIQSCMC8z4mYkiVJ0Q8PniDU9qCdaXZ8tskLJSjvtRT4fqk_HiRdcD3jN1e42deR3gi94NTNb95Qhx-y1hYK88UG6pWDbrstVpqFSJxkpIN84I0A5dW4NqfAJWvliGe3xSfuWSCL9wJuu3H2LxOA_93Cb43c8hStwljftK6qGu2zecg6WbBuEaUI8W8CATUQIqW0CnE5mF9G9w2jIaDiGXlIUK3RzxrG0xvtb4rDUvlmqGtiTl0932XH-aiJjXvEkEWRKJTlw37zuk.bcl4s5DZp-VhbzA_qnvDQ7SEvPEpQ50DR0NxtjZr_04&dib_tag=se&keywords=gitar&qid=1713778093&sprefix=gitar%2Caps%2C376&sr=8-39', 'https://www.amazon.in/Medellin-Acoustic-Guitar-learning-Strings/dp/B0CCNSN6S4/ref=sr_1_40?crid=J2T429VLPU32&dib=eyJ2IjoiMSJ9.yMNWF0-ZbwuOEjMTW7AEIy-7cwmFzGIQSCMC8z4mYkiVJ0Q8PniDU9qCdaXZ8tskLJSjvtRT4fqk_HiRdcD3jN1e42deR3gi94NTNb95Qhx-y1hYK88UG6pWDbrstVpqFSJxkpIN84I0A5dW4NqfAJWvliGe3xSfuWSCL9wJuu3H2LxOA_93Cb43c8hStwljftK6qGu2zecg6WbBuEaUI8W8CATUQIqW0CnE5mF9G9w2jIaDiGXlIUK3RzxrG0xvtb4rDUvlmqGtiTl0932XH-aiJjXvEkEWRKJTlw37zuk.bcl4s5DZp-VhbzA_qnvDQ7SEvPEpQ50DR0NxtjZr_04&dib_tag=se&keywords=gitar&qid=1713778093&sprefix=gitar%2Caps%2C376&sr=8-40', 'https://www.amazon.in/Yamaha-F310-Acoustic-Guitar-Natural/dp/B08Z3C1GRM/ref=sr_1_41?crid=J2T429VLPU32&dib=eyJ2IjoiMSJ9.yMNWF0-ZbwuOEjMTW7AEIy-7cwmFzGIQSCMC8z4mYkiVJ0Q8PniDU9qCdaXZ8tskLJSjvtRT4fqk_HiRdcD3jN1e42deR3gi94NTNb95Qhx-y1hYK88UG6pWDbrstVpqFSJxkpIN84I0A5dW4NqfAJWvliGe3xSfuWSCL9wJuu3H2LxOA_93Cb43c8hStwljftK6qGu2zecg6WbBuEaUI8W8CATUQIqW0CnE5mF9G9w2jIaDiGXlIUK3RzxrG0xvtb4rDUvlmqGtiTl0932XH-aiJjXvEkEWRKJTlw37zuk.bcl4s5DZp-VhbzA_qnvDQ7SEvPEpQ50DR0NxtjZr_04&dib_tag=se&keywords=gitar&qid=1713778093&sprefix=gitar%2Caps%2C376&sr=8-41', 'https://www.amazon.in/FX280-acoustic-Dreadnought-Tobacco-Sunburst/dp/B09HR7BXGW/ref=sr_1_42?crid=J2T429VLPU32&dib=eyJ2IjoiMSJ9.yMNWF0-ZbwuOEjMTW7AEIy-7cwmFzGIQSCMC8z4mYkiVJ0Q8PniDU9qCdaXZ8tskLJSjvtRT4fqk_HiRdcD3jN1e42deR3gi94NTNb95Qhx-y1hYK88UG6pWDbrstVpqFSJxkpIN84I0A5dW4NqfAJWvliGe3xSfuWSCL9wJuu3H2LxOA_93Cb43c8hStwljftK6qGu2zecg6WbBuEaUI8W8CATUQIqW0CnE5mF9G9w2jIaDiGXlIUK3RzxrG0xvtb4rDUvlmqGtiTl0932XH-aiJjXvEkEWRKJTlw37zuk.bcl4s5DZp-VhbzA_qnvDQ7SEvPEpQ50DR0NxtjZr_04&dib_tag=se&keywords=gitar&qid=1713778093&sprefix=gitar%2Caps%2C376&sr=8-42', 'https://www.amazon.in/Juarez-Acoustic-Cutaway-BK-Strings/dp/B076T3RHMG/ref=sr_1_43?crid=J2T429VLPU32&dib=eyJ2IjoiMSJ9.yMNWF0-ZbwuOEjMTW7AEIy-7cwmFzGIQSCMC8z4mYkiVJ0Q8PniDU9qCdaXZ8tskLJSjvtRT4fqk_HiRdcD3jN1e42deR3gi94NTNb95Qhx-y1hYK88UG6pWDbrstVpqFSJxkpIN84I0A5dW4NqfAJWvliGe3xSfuWSCL9wJuu3H2LxOA_93Cb43c8hStwljftK6qGu2zecg6WbBuEaUI8W8CATUQIqW0CnE5mF9G9w2jIaDiGXlIUK3RzxrG0xvtb4rDUvlmqGtiTl0932XH-aiJjXvEkEWRKJTlw37zuk.bcl4s5DZp-VhbzA_qnvDQ7SEvPEpQ50DR0NxtjZr_04&dib_tag=se&keywords=gitar&qid=1713778093&sprefix=gitar%2Caps%2C376&sr=8-43', 'https://www.amazon.in/JUAREZ-Arpeggio-Guitar-JRA39SR-BL-K-blue/dp/B08MWB5Y67/ref=sr_1_44?crid=J2T429VLPU32&dib=eyJ2IjoiMSJ9.yMNWF0-ZbwuOEjMTW7AEIy-7cwmFzGIQSCMC8z4mYkiVJ0Q8PniDU9qCdaXZ8tskLJSjvtRT4fqk_HiRdcD3jN1e42deR3gi94NTNb95Qhx-y1hYK88UG6pWDbrstVpqFSJxkpIN84I0A5dW4NqfAJWvliGe3xSfuWSCL9wJuu3H2LxOA_93Cb43c8hStwljftK6qGu2zecg6WbBuEaUI8W8CATUQIqW0CnE5mF9G9w2jIaDiGXlIUK3RzxrG0xvtb4rDUvlmqGtiTl0932XH-aiJjXvEkEWRKJTlw37zuk.bcl4s5DZp-VhbzA_qnvDQ7SEvPEpQ50DR0NxtjZr_04&dib_tag=se&keywords=gitar&qid=1713778093&sprefix=gitar%2Caps%2C376&sr=8-44', 'https://www.amazon.in/Kadence-Frontier-Acoustic-Guitar-Strings/dp/B01GDZ46AA/ref=sr_1_45?crid=J2T429VLPU32&dib=eyJ2IjoiMSJ9.yMNWF0-ZbwuOEjMTW7AEIy-7cwmFzGIQSCMC8z4mYkiVJ0Q8PniDU9qCdaXZ8tskLJSjvtRT4fqk_HiRdcD3jN1e42deR3gi94NTNb95Qhx-y1hYK88UG6pWDbrstVpqFSJxkpIN84I0A5dW4NqfAJWvliGe3xSfuWSCL9wJuu3H2LxOA_93Cb43c8hStwljftK6qGu2zecg6WbBuEaUI8W8CATUQIqW0CnE5mF9G9w2jIaDiGXlIUK3RzxrG0xvtb4rDUvlmqGtiTl0932XH-aiJjXvEkEWRKJTlw37zuk.bcl4s5DZp-VhbzA_qnvDQ7SEvPEpQ50DR0NxtjZr_04&dib_tag=se&keywords=gitar&qid=1713778093&sprefix=gitar%2Caps%2C376&sr=8-45', 'https://www.amazon.in/Fender-0379410502-Anniversary-Stratocaster-Electric/dp/B09RX4BQPX/ref=sr_1_46?crid=J2T429VLPU32&dib=eyJ2IjoiMSJ9.yMNWF0-ZbwuOEjMTW7AEIy-7cwmFzGIQSCMC8z4mYkiVJ0Q8PniDU9qCdaXZ8tskLJSjvtRT4fqk_HiRdcD3jN1e42deR3gi94NTNb95Qhx-y1hYK88UG6pWDbrstVpqFSJxkpIN84I0A5dW4NqfAJWvliGe3xSfuWSCL9wJuu3H2LxOA_93Cb43c8hStwljftK6qGu2zecg6WbBuEaUI8W8CATUQIqW0CnE5mF9G9w2jIaDiGXlIUK3RzxrG0xvtb4rDUvlmqGtiTl0932XH-aiJjXvEkEWRKJTlw37zuk.bcl4s5DZp-VhbzA_qnvDQ7SEvPEpQ50DR0NxtjZr_04&dib_tag=se&keywords=gitar&qid=1713778093&sprefix=gitar%2Caps%2C376&sr=8-46', 'https://www.amazon.in/Alice-A206-Phosphor-Bronze-Strings/dp/B00QAFCNK4/ref=sr_1_47?crid=J2T429VLPU32&dib=eyJ2IjoiMSJ9.yMNWF0-ZbwuOEjMTW7AEIy-7cwmFzGIQSCMC8z4mYkiVJ0Q8PniDU9qCdaXZ8tskLJSjvtRT4fqk_HiRdcD3jN1e42deR3gi94NTNb95Qhx-y1hYK88UG6pWDbrstVpqFSJxkpIN84I0A5dW4NqfAJWvliGe3xSfuWSCL9wJuu3H2LxOA_93Cb43c8hStwljftK6qGu2zecg6WbBuEaUI8W8CATUQIqW0CnE5mF9G9w2jIaDiGXlIUK3RzxrG0xvtb4rDUvlmqGtiTl0932XH-aiJjXvEkEWRKJTlw37zuk.bcl4s5DZp-VhbzA_qnvDQ7SEvPEpQ50DR0NxtjZr_04&dib_tag=se&keywords=gitar&qid=1713778093&sprefix=gitar%2Caps%2C376&sr=8-47', 'https://www.amazon.in/Kadence-Frontier-Acoustic-Guitar-Strings/dp/B078GTJP5Y/ref=sr_1_48?crid=J2T429VLPU32&dib=eyJ2IjoiMSJ9.yMNWF0-ZbwuOEjMTW7AEIy-7cwmFzGIQSCMC8z4mYkiVJ0Q8PniDU9qCdaXZ8tskLJSjvtRT4fqk_HiRdcD3jN1e42deR3gi94NTNb95Qhx-y1hYK88UG6pWDbrstVpqFSJxkpIN84I0A5dW4NqfAJWvliGe3xSfuWSCL9wJuu3H2LxOA_93Cb43c8hStwljftK6qGu2zecg6WbBuEaUI8W8CATUQIqW0CnE5mF9G9w2jIaDiGXlIUK3RzxrG0xvtb4rDUvlmqGtiTl0932XH-aiJjXvEkEWRKJTlw37zuk.bcl4s5DZp-VhbzA_qnvDQ7SEvPEpQ50DR0NxtjZr_04&dib_tag=se&keywords=gitar&qid=1713778093&sprefix=gitar%2Caps%2C376&sr=8-48', 'https://www.amazon.in/Fender-0118802806-Signature-Stratocaster-Right-Handed/dp/B003EJXU56/ref=sr_1_49?crid=J2T429VLPU32&dib=eyJ2IjoiMSJ9.yMNWF0-ZbwuOEjMTW7AEIy-7cwmFzGIQSCMC8z4mYkiVJ0Q8PniDU9qCdaXZ8tskLJSjvtRT4fqk_HiRdcD3jN1e42deR3gi94NTNb95Qhx-y1hYK88UG6pWDbrstVpqFSJxkpIN84I0A5dW4NqfAJWvliGe3xSfuWSCL9wJuu3H2LxOA_93Cb43c8hStwljftK6qGu2zecg6WbBuEaUI8W8CATUQIqW0CnE5mF9G9w2jIaDiGXlIUK3RzxrG0xvtb4rDUvlmqGtiTl0932XH-aiJjXvEkEWRKJTlw37zuk.bcl4s5DZp-VhbzA_qnvDQ7SEvPEpQ50DR0NxtjZr_04&dib_tag=se&keywords=gitar&qid=1713778093&sprefix=gitar%2Caps%2C376&sr=8-49', 'https://www.amazon.in/Blueberry-38C-Acoustic-Guitar-Strings/dp/B08KLMV4XX/ref=sr_1_50?crid=J2T429VLPU32&dib=eyJ2IjoiMSJ9.yMNWF0-ZbwuOEjMTW7AEIy-7cwmFzGIQSCMC8z4mYkiVJ0Q8PniDU9qCdaXZ8tskLJSjvtRT4fqk_HiRdcD3jN1e42deR3gi94NTNb95Qhx-y1hYK88UG6pWDbrstVpqFSJxkpIN84I0A5dW4NqfAJWvliGe3xSfuWSCL9wJuu3H2LxOA_93Cb43c8hStwljftK6qGu2zecg6WbBuEaUI8W8CATUQIqW0CnE5mF9G9w2jIaDiGXlIUK3RzxrG0xvtb4rDUvlmqGtiTl0932XH-aiJjXvEkEWRKJTlw37zuk.bcl4s5DZp-VhbzA_qnvDQ7SEvPEpQ50DR0NxtjZr_04&dib_tag=se&keywords=gitar&qid=1713778093&sprefix=gitar%2Caps%2C376&sr=8-50', 'https://www.amazon.in/Cutaway-Acoustic-Humidity-resistance-resonance/dp/B09RRH7R5F/ref=sr_1_51?crid=J2T429VLPU32&dib=eyJ2IjoiMSJ9.yMNWF0-ZbwuOEjMTW7AEIy-7cwmFzGIQSCMC8z4mYkiVJ0Q8PniDU9qCdaXZ8tskLJSjvtRT4fqk_HiRdcD3jN1e42deR3gi94NTNb95Qhx-y1hYK88UG6pWDbrstVpqFSJxkpIN84I0A5dW4NqfAJWvliGe3xSfuWSCL9wJuu3H2LxOA_93Cb43c8hStwljftK6qGu2zecg6WbBuEaUI8W8CATUQIqW0CnE5mF9G9w2jIaDiGXlIUK3RzxrG0xvtb4rDUvlmqGtiTl0932XH-aiJjXvEkEWRKJTlw37zuk.bcl4s5DZp-VhbzA_qnvDQ7SEvPEpQ50DR0NxtjZr_04&dib_tag=se&keywords=gitar&qid=1713778093&sprefix=gitar%2Caps%2C376&sr=8-51', 'https://www.amazon.in/Acoustic-Cutaway-TBLS-Strings-Sunburst/dp/B098BCCY75/ref=sr_1_52?crid=J2T429VLPU32&dib=eyJ2IjoiMSJ9.yMNWF0-ZbwuOEjMTW7AEIy-7cwmFzGIQSCMC8z4mYkiVJ0Q8PniDU9qCdaXZ8tskLJSjvtRT4fqk_HiRdcD3jN1e42deR3gi94NTNb95Qhx-y1hYK88UG6pWDbrstVpqFSJxkpIN84I0A5dW4NqfAJWvliGe3xSfuWSCL9wJuu3H2LxOA_93Cb43c8hStwljftK6qGu2zecg6WbBuEaUI8W8CATUQIqW0CnE5mF9G9w2jIaDiGXlIUK3RzxrG0xvtb4rDUvlmqGtiTl0932XH-aiJjXvEkEWRKJTlw37zuk.bcl4s5DZp-VhbzA_qnvDQ7SEvPEpQ50DR0NxtjZr_04&dib_tag=se&keywords=gitar&qid=1713778093&sprefix=gitar%2Caps%2C376&sr=8-52', 'https://www.amazon.in/Blueberry-B-D38-Acoustic-Inbuilt-Strings/dp/B0B74CSY9V/ref=sr_1_53?crid=J2T429VLPU32&dib=eyJ2IjoiMSJ9.yMNWF0-ZbwuOEjMTW7AEIy-7cwmFzGIQSCMC8z4mYkiVJ0Q8PniDU9qCdaXZ8tskLJSjvtRT4fqk_HiRdcD3jN1e42deR3gi94NTNb95Qhx-y1hYK88UG6pWDbrstVpqFSJxkpIN84I0A5dW4NqfAJWvliGe3xSfuWSCL9wJuu3H2LxOA_93Cb43c8hStwljftK6qGu2zecg6WbBuEaUI8W8CATUQIqW0CnE5mF9G9w2jIaDiGXlIUK3RzxrG0xvtb4rDUvlmqGtiTl0932XH-aiJjXvEkEWRKJTlw37zuk.bcl4s5DZp-VhbzA_qnvDQ7SEvPEpQ50DR0NxtjZr_04&dib_tag=se&keywords=gitar&qid=1713778093&sprefix=gitar%2Caps%2C376&sr=8-53', 'https://www.amazon.in/Vault-ST1-Premium-Electric-Guitar/dp/B09GLYTF76/ref=sr_1_54?crid=J2T429VLPU32&dib=eyJ2IjoiMSJ9.yMNWF0-ZbwuOEjMTW7AEIy-7cwmFzGIQSCMC8z4mYkiVJ0Q8PniDU9qCdaXZ8tskLJSjvtRT4fqk_HiRdcD3jN1e42deR3gi94NTNb95Qhx-y1hYK88UG6pWDbrstVpqFSJxkpIN84I0A5dW4NqfAJWvliGe3xSfuWSCL9wJuu3H2LxOA_93Cb43c8hStwljftK6qGu2zecg6WbBuEaUI8W8CATUQIqW0CnE5mF9G9w2jIaDiGXlIUK3RzxrG0xvtb4rDUvlmqGtiTl0932XH-aiJjXvEkEWRKJTlw37zuk.bcl4s5DZp-VhbzA_qnvDQ7SEvPEpQ50DR0NxtjZr_04&dib_tag=se&keywords=gitar&qid=1713778093&sprefix=gitar%2Caps%2C376&sr=8-54', 'https://www.amazon.in/Traveller-Acoustic-Guitar-Strings-Polishing/dp/B07RK9962M/ref=sr_1_55?crid=J2T429VLPU32&dib=eyJ2IjoiMSJ9.yMNWF0-ZbwuOEjMTW7AEIy-7cwmFzGIQSCMC8z4mYkiVJ0Q8PniDU9qCdaXZ8tskLJSjvtRT4fqk_HiRdcD3jN1e42deR3gi94NTNb95Qhx-y1hYK88UG6pWDbrstVpqFSJxkpIN84I0A5dW4NqfAJWvliGe3xSfuWSCL9wJuu3H2LxOA_93Cb43c8hStwljftK6qGu2zecg6WbBuEaUI8W8CATUQIqW0CnE5mF9G9w2jIaDiGXlIUK3RzxrG0xvtb4rDUvlmqGtiTl0932XH-aiJjXvEkEWRKJTlw37zuk.bcl4s5DZp-VhbzA_qnvDQ7SEvPEpQ50DR0NxtjZr_04&dib_tag=se&keywords=gitar&qid=1713778093&sprefix=gitar%2Caps%2C376&sr=8-55', 'https://www.amazon.in/Kadence-A281BK-Professional-Acoustic-Rosewood/dp/B0CD7D6C6R/ref=sr_1_56?crid=J2T429VLPU32&dib=eyJ2IjoiMSJ9.yMNWF0-ZbwuOEjMTW7AEIy-7cwmFzGIQSCMC8z4mYkiVJ0Q8PniDU9qCdaXZ8tskLJSjvtRT4fqk_HiRdcD3jN1e42deR3gi94NTNb95Qhx-y1hYK88UG6pWDbrstVpqFSJxkpIN84I0A5dW4NqfAJWvliGe3xSfuWSCL9wJuu3H2LxOA_93Cb43c8hStwljftK6qGu2zecg6WbBuEaUI8W8CATUQIqW0CnE5mF9G9w2jIaDiGXlIUK3RzxrG0xvtb4rDUvlmqGtiTl0932XH-aiJjXvEkEWRKJTlw37zuk.bcl4s5DZp-VhbzA_qnvDQ7SEvPEpQ50DR0NxtjZr_04&dib_tag=se&keywords=gitar&qid=1713778093&sprefix=gitar%2Caps%2C376&sr=8-56', 'https://www.amazon.in/sspa/click?ie=UTF8&spc=MTo1NzY2ODIwNjU4NDA3MTEyOjE3MTM3NzgwOTM6c3BfYnRmOjMwMDE0MTc5MzY3NTMzMjo6MDo6&url=%2FGuitar-Tailpiece-Guitars-Bridge-Replacement%2Fdp%2FB0BWYSZW1Y%2Fref%3Dsr_1_57_sspa%3Fcrid%3DJ2T429VLPU32%26dib%3DeyJ2IjoiMSJ9.yMNWF0-ZbwuOEjMTW7AEIy-7cwmFzGIQSCMC8z4mYkiVJ0Q8PniDU9qCdaXZ8tskLJSjvtRT4fqk_HiRdcD3jN1e42deR3gi94NTNb95Qhx-y1hYK88UG6pWDbrstVpqFSJxkpIN84I0A5dW4NqfAJWvliGe3xSfuWSCL9wJuu3H2LxOA_93Cb43c8hStwljftK6qGu2zecg6WbBuEaUI8W8CATUQIqW0CnE5mF9G9w2jIaDiGXlIUK3RzxrG0xvtb4rDUvlmqGtiTl0932XH-aiJjXvEkEWRKJTlw37zuk.bcl4s5DZp-VhbzA_qnvDQ7SEvPEpQ50DR0NxtjZr_04%26dib_tag%3Dse%26keywords%3Dgitar%26qid%3D1713778093%26sprefix%3Dgitar%252Caps%252C376%26sr%3D8-57-spons%26sp_csd%3Dd2lkZ2V0TmFtZT1zcF9idGY%26psc%3D1', 'https://www.amazon.in/sspa/click?ie=UTF8&spc=MTo1NzY2ODIwNjU4NDA3MTEyOjE3MTM3NzgwOTM6c3BfYnRmOjMwMDE1MTQ1NDkxODkzMjo6MDo6&url=%2FSG-Musical-Anti-Slip-Accessories-Frame%2Fdp%2FB0BG5HYYQL%2Fref%3Dsr_1_58_sspa%3Fcrid%3DJ2T429VLPU32%26dib%3DeyJ2IjoiMSJ9.yMNWF0-ZbwuOEjMTW7AEIy-7cwmFzGIQSCMC8z4mYkiVJ0Q8PniDU9qCdaXZ8tskLJSjvtRT4fqk_HiRdcD3jN1e42deR3gi94NTNb95Qhx-y1hYK88UG6pWDbrstVpqFSJxkpIN84I0A5dW4NqfAJWvliGe3xSfuWSCL9wJuu3H2LxOA_93Cb43c8hStwljftK6qGu2zecg6WbBuEaUI8W8CATUQIqW0CnE5mF9G9w2jIaDiGXlIUK3RzxrG0xvtb4rDUvlmqGtiTl0932XH-aiJjXvEkEWRKJTlw37zuk.bcl4s5DZp-VhbzA_qnvDQ7SEvPEpQ50DR0NxtjZr_04%26dib_tag%3Dse%26keywords%3Dgitar%26qid%3D1713778093%26sprefix%3Dgitar%252Caps%252C376%26sr%3D8-58-spons%26sp_csd%3Dd2lkZ2V0TmFtZT1zcF9idGY%26psc%3D1', 'https://www.amazon.in/sspa/click?ie=UTF8&spc=MTo1NzY2ODIwNjU4NDA3MTEyOjE3MTM3NzgwOTM6c3BfYnRmOjMwMDE0NTc0NjU3MTQzMjo6MDo6&url=%2FSG-Musical-Guitar-silicon-fingers%2Fdp%2FB0BD4B826N%2Fref%3Dsr_1_59_sspa%3Fcrid%3DJ2T429VLPU32%26dib%3DeyJ2IjoiMSJ9.yMNWF0-ZbwuOEjMTW7AEIy-7cwmFzGIQSCMC8z4mYkiVJ0Q8PniDU9qCdaXZ8tskLJSjvtRT4fqk_HiRdcD3jN1e42deR3gi94NTNb95Qhx-y1hYK88UG6pWDbrstVpqFSJxkpIN84I0A5dW4NqfAJWvliGe3xSfuWSCL9wJuu3H2LxOA_93Cb43c8hStwljftK6qGu2zecg6WbBuEaUI8W8CATUQIqW0CnE5mF9G9w2jIaDiGXlIUK3RzxrG0xvtb4rDUvlmqGtiTl0932XH-aiJjXvEkEWRKJTlw37zuk.bcl4s5DZp-VhbzA_qnvDQ7SEvPEpQ50DR0NxtjZr_04%26dib_tag%3Dse%26keywords%3Dgitar%26qid%3D1713778093%26sprefix%3Dgitar%252Caps%252C376%26sr%3D8-59-spons%26sp_csd%3Dd2lkZ2V0TmFtZT1zcF9idGY%26psc%3D1', 'https://www.amazon.in/sspa/click?ie=UTF8&spc=MTo1NzY2ODIwNjU4NDA3MTEyOjE3MTM3NzgwOTM6c3BfYnRmOjMwMDE1MTQ1NDkxODgzMjo6MDo6&url=%2FSG-Musical-Metal-Guitar-Universal%2Fdp%2FB0BG5M472T%2Fref%3Dsr_1_60_sspa%3Fcrid%3DJ2T429VLPU32%26dib%3DeyJ2IjoiMSJ9.yMNWF0-ZbwuOEjMTW7AEIy-7cwmFzGIQSCMC8z4mYkiVJ0Q8PniDU9qCdaXZ8tskLJSjvtRT4fqk_HiRdcD3jN1e42deR3gi94NTNb95Qhx-y1hYK88UG6pWDbrstVpqFSJxkpIN84I0A5dW4NqfAJWvliGe3xSfuWSCL9wJuu3H2LxOA_93Cb43c8hStwljftK6qGu2zecg6WbBuEaUI8W8CATUQIqW0CnE5mF9G9w2jIaDiGXlIUK3RzxrG0xvtb4rDUvlmqGtiTl0932XH-aiJjXvEkEWRKJTlw37zuk.bcl4s5DZp-VhbzA_qnvDQ7SEvPEpQ50DR0NxtjZr_04%26dib_tag%3Dse%26keywords%3Dgitar%26qid%3D1713778093%26sprefix%3Dgitar%252Caps%252C376%26sr%3D8-60-spons%26sp_csd%3Dd2lkZ2V0TmFtZT1zcF9idGY%26psc%3D1', 'https://www.amazon.in/sspa/click?ie=UTF8&spc=MTo1NzY2ODIwNjU4NDA3MTEyOjE3MTM3NzgwOTM6c3BfYXRmOjMwMDAxNTUzNzk3OTIzMjo6MDo6&url=%2FKadence-Frontier-Acoustic-Guitar-Strings%2Fdp%2FB078GTJP5Y%2Fref%3Dsr_1_1_sspa%3Fcrid%3DJ2T429VLPU32%26dib%3DeyJ2IjoiMSJ9.yMNWF0-ZbwuOEjMTW7AEIy-7cwmFzGIQSCMC8z4mYkiVJ0Q8PniDU9qCdaXZ8tskLJSjvtRT4fqk_HiRdcD3jN1e42deR3gi94NTNb95Qhx-y1hYK88UG6pWDbrstVpqFSJxkpIN84I0A5dW4NqfAJWvliGe3xSfuWSCL9wJuu3H2LxOA_93Cb43c8hStwljftK6qGu2zecg6WbBuEaUI8W8CATUQIqW0CnE5mF9G9w2jIaDiGXlIUK3RzxrG0xvtb4rDUvlmqGtiTl0932XH-aiJjXvEkEWRKJTlw37zuk.bcl4s5DZp-VhbzA_qnvDQ7SEvPEpQ50DR0NxtjZr_04%26dib_tag%3Dse%26keywords%3Dgitar%26qid%3D1713778093%26sprefix%3Dgitar%252Caps%252C376%26sr%3D8-1-spons%26sp_csd%3Dd2lkZ2V0TmFtZT1zcF9hdGY%26psc%3D1', 'https://www.amazon.in/sspa/click?ie=UTF8&spc=MTo1NzY2ODIwNjU4NDA3MTEyOjE3MTM3NzgwOTM6c3BfYXRmOjIwMDUwNzcxNjg2MjA0OjowOjo&url=%2FHenrix-Acoustic-Guitar-Die-cast-Dual-action%2Fdp%2FB07VNDW6QF%2Fref%3Dsr_1_2_sspa%3Fcrid%3DJ2T429VLPU32%26dib%3DeyJ2IjoiMSJ9.yMNWF0-ZbwuOEjMTW7AEIy-7cwmFzGIQSCMC8z4mYkiVJ0Q8PniDU9qCdaXZ8tskLJSjvtRT4fqk_HiRdcD3jN1e42deR3gi94NTNb95Qhx-y1hYK88UG6pWDbrstVpqFSJxkpIN84I0A5dW4NqfAJWvliGe3xSfuWSCL9wJuu3H2LxOA_93Cb43c8hStwljftK6qGu2zecg6WbBuEaUI8W8CATUQIqW0CnE5mF9G9w2jIaDiGXlIUK3RzxrG0xvtb4rDUvlmqGtiTl0932XH-aiJjXvEkEWRKJTlw37zuk.bcl4s5DZp-VhbzA_qnvDQ7SEvPEpQ50DR0NxtjZr_04%26dib_tag%3Dse%26keywords%3Dgitar%26qid%3D1713778093%26sprefix%3Dgitar%252Caps%252C376%26sr%3D8-2-spons%26sp_csd%3Dd2lkZ2V0TmFtZT1zcF9hdGY%26psc%3D1', 'https://www.amazon.in/sspa/click?ie=UTF8&spc=MTo1NzY2ODIwNjU4NDA3MTEyOjE3MTM3NzgwOTM6c3BfYXRmOjMwMDAxNTUwODk1NDEzMjo6MDo6&url=%2FKadence-Frontier-Acoustic-Guitar-Strings%2Fdp%2FB01GDZ46AA%2Fref%3Dsr_1_3_sspa%3Fcrid%3DJ2T429VLPU32%26dib%3DeyJ2IjoiMSJ9.yMNWF0-ZbwuOEjMTW7AEIy-7cwmFzGIQSCMC8z4mYkiVJ0Q8PniDU9qCdaXZ8tskLJSjvtRT4fqk_HiRdcD3jN1e42deR3gi94NTNb95Qhx-y1hYK88UG6pWDbrstVpqFSJxkpIN84I0A5dW4NqfAJWvliGe3xSfuWSCL9wJuu3H2LxOA_93Cb43c8hStwljftK6qGu2zecg6WbBuEaUI8W8CATUQIqW0CnE5mF9G9w2jIaDiGXlIUK3RzxrG0xvtb4rDUvlmqGtiTl0932XH-aiJjXvEkEWRKJTlw37zuk.bcl4s5DZp-VhbzA_qnvDQ7SEvPEpQ50DR0NxtjZr_04%26dib_tag%3Dse%26keywords%3Dgitar%26qid%3D1713778093%26sprefix%3Dgitar%252Caps%252C376%26sr%3D8-3-spons%26sp_csd%3Dd2lkZ2V0TmFtZT1zcF9hdGY%26psc%3D1', 'https://www.amazon.in/sspa/click?ie=UTF8&spc=MTo1NzY2ODIwNjU4NDA3MTEyOjE3MTM3NzgwOTM6c3BfYXRmOjMwMDAzNDc3Mzk4MDUzMjo6MDo6&url=%2FKadence-Professional-Acoustic-Rosewood-Natural%2Fdp%2FB0CC927DLN%2Fref%3Dsr_1_4_sspa%3Fcrid%3DJ2T429VLPU32%26dib%3DeyJ2IjoiMSJ9.yMNWF0-ZbwuOEjMTW7AEIy-7cwmFzGIQSCMC8z4mYkiVJ0Q8PniDU9qCdaXZ8tskLJSjvtRT4fqk_HiRdcD3jN1e42deR3gi94NTNb95Qhx-y1hYK88UG6pWDbrstVpqFSJxkpIN84I0A5dW4NqfAJWvliGe3xSfuWSCL9wJuu3H2LxOA_93Cb43c8hStwljftK6qGu2zecg6WbBuEaUI8W8CATUQIqW0CnE5mF9G9w2jIaDiGXlIUK3RzxrG0xvtb4rDUvlmqGtiTl0932XH-aiJjXvEkEWRKJTlw37zuk.bcl4s5DZp-VhbzA_qnvDQ7SEvPEpQ50DR0NxtjZr_04%26dib_tag%3Dse%26keywords%3Dgitar%26qid%3D1713778093%26sprefix%3Dgitar%252Caps%252C376%26sr%3D8-4-spons%26sp_csd%3Dd2lkZ2V0TmFtZT1zcF9hdGY%26psc%3D1', 'https://www.amazon.in/JUAREZ-JRZ38C-Handed-Acoustic-Strings/dp/B01FYYTDX6/ref=sr_1_5?crid=J2T429VLPU32&dib=eyJ2IjoiMSJ9.yMNWF0-ZbwuOEjMTW7AEIy-7cwmFzGIQSCMC8z4mYkiVJ0Q8PniDU9qCdaXZ8tskLJSjvtRT4fqk_HiRdcD3jN1e42deR3gi94NTNb95Qhx-y1hYK88UG6pWDbrstVpqFSJxkpIN84I0A5dW4NqfAJWvliGe3xSfuWSCL9wJuu3H2LxOA_93Cb43c8hStwljftK6qGu2zecg6WbBuEaUI8W8CATUQIqW0CnE5mF9G9w2jIaDiGXlIUK3RzxrG0xvtb4rDUvlmqGtiTl0932XH-aiJjXvEkEWRKJTlw37zuk.bcl4s5DZp-VhbzA_qnvDQ7SEvPEpQ50DR0NxtjZr_04&dib_tag=se&keywords=gitar&qid=1713778093&sprefix=gitar%2Caps%2C376&sr=8-5', 'https://www.amazon.in/4-String-Learning-Childrens-Instrument-Beginners/dp/B08KP66ZZN/ref=sr_1_6?crid=J2T429VLPU32&dib=eyJ2IjoiMSJ9.yMNWF0-ZbwuOEjMTW7AEIy-7cwmFzGIQSCMC8z4mYkiVJ0Q8PniDU9qCdaXZ8tskLJSjvtRT4fqk_HiRdcD3jN1e42deR3gi94NTNb95Qhx-y1hYK88UG6pWDbrstVpqFSJxkpIN84I0A5dW4NqfAJWvliGe3xSfuWSCL9wJuu3H2LxOA_93Cb43c8hStwljftK6qGu2zecg6WbBuEaUI8W8CATUQIqW0CnE5mF9G9w2jIaDiGXlIUK3RzxrG0xvtb4rDUvlmqGtiTl0932XH-aiJjXvEkEWRKJTlw37zuk.bcl4s5DZp-VhbzA_qnvDQ7SEvPEpQ50DR0NxtjZr_04&dib_tag=se&keywords=gitar&qid=1713778093&sprefix=gitar%2Caps%2C376&sr=8-6', 'https://www.amazon.in/Medellin-MED-BLU-C-Linden-Acoustic-Guitar/dp/B07NBMWHJW/ref=sr_1_7?crid=J2T429VLPU32&dib=eyJ2IjoiMSJ9.yMNWF0-ZbwuOEjMTW7AEIy-7cwmFzGIQSCMC8z4mYkiVJ0Q8PniDU9qCdaXZ8tskLJSjvtRT4fqk_HiRdcD3jN1e42deR3gi94NTNb95Qhx-y1hYK88UG6pWDbrstVpqFSJxkpIN84I0A5dW4NqfAJWvliGe3xSfuWSCL9wJuu3H2LxOA_93Cb43c8hStwljftK6qGu2zecg6WbBuEaUI8W8CATUQIqW0CnE5mF9G9w2jIaDiGXlIUK3RzxrG0xvtb4rDUvlmqGtiTl0932XH-aiJjXvEkEWRKJTlw37zuk.bcl4s5DZp-VhbzA_qnvDQ7SEvPEpQ50DR0NxtjZr_04&dib_tag=se&keywords=gitar&qid=1713778093&sprefix=gitar%2Caps%2C376&sr=8-7', 'https://www.amazon.in/JRZ38C-VTS-Strings-Acoustic-Cutaway/dp/B072MFLQC9/ref=sr_1_8?crid=J2T429VLPU32&dib=eyJ2IjoiMSJ9.yMNWF0-ZbwuOEjMTW7AEIy-7cwmFzGIQSCMC8z4mYkiVJ0Q8PniDU9qCdaXZ8tskLJSjvtRT4fqk_HiRdcD3jN1e42deR3gi94NTNb95Qhx-y1hYK88UG6pWDbrstVpqFSJxkpIN84I0A5dW4NqfAJWvliGe3xSfuWSCL9wJuu3H2LxOA_93Cb43c8hStwljftK6qGu2zecg6WbBuEaUI8W8CATUQIqW0CnE5mF9G9w2jIaDiGXlIUK3RzxrG0xvtb4rDUvlmqGtiTl0932XH-aiJjXvEkEWRKJTlw37zuk.bcl4s5DZp-VhbzA_qnvDQ7SEvPEpQ50DR0NxtjZr_04&dib_tag=se&keywords=gitar&qid=1713778093&sprefix=gitar%2Caps%2C376&sr=8-8', 'https://www.amazon.in/Acoustic-Cutaway-RDS-Strings-Sunburst/dp/B076QGY91P/ref=sr_1_9?crid=J2T429VLPU32&dib=eyJ2IjoiMSJ9.yMNWF0-ZbwuOEjMTW7AEIy-7cwmFzGIQSCMC8z4mYkiVJ0Q8PniDU9qCdaXZ8tskLJSjvtRT4fqk_HiRdcD3jN1e42deR3gi94NTNb95Qhx-y1hYK88UG6pWDbrstVpqFSJxkpIN84I0A5dW4NqfAJWvliGe3xSfuWSCL9wJuu3H2LxOA_93Cb43c8hStwljftK6qGu2zecg6WbBuEaUI8W8CATUQIqW0CnE5mF9G9w2jIaDiGXlIUK3RzxrG0xvtb4rDUvlmqGtiTl0932XH-aiJjXvEkEWRKJTlw37zuk.bcl4s5DZp-VhbzA_qnvDQ7SEvPEpQ50DR0NxtjZr_04&dib_tag=se&keywords=gitar&qid=1713778093&sprefix=gitar%2Caps%2C376&sr=8-9', 'https://www.amazon.in/JUAREZ-JRZ38C-3TSNA/dp/B0BCQQRDF3/ref=sr_1_10?crid=J2T429VLPU32&dib=eyJ2IjoiMSJ9.yMNWF0-ZbwuOEjMTW7AEIy-7cwmFzGIQSCMC8z4mYkiVJ0Q8PniDU9qCdaXZ8tskLJSjvtRT4fqk_HiRdcD3jN1e42deR3gi94NTNb95Qhx-y1hYK88UG6pWDbrstVpqFSJxkpIN84I0A5dW4NqfAJWvliGe3xSfuWSCL9wJuu3H2LxOA_93Cb43c8hStwljftK6qGu2zecg6WbBuEaUI8W8CATUQIqW0CnE5mF9G9w2jIaDiGXlIUK3RzxrG0xvtb4rDUvlmqGtiTl0932XH-aiJjXvEkEWRKJTlw37zuk.bcl4s5DZp-VhbzA_qnvDQ7SEvPEpQ50DR0NxtjZr_04&dib_tag=se&keywords=gitar&qid=1713778093&sprefix=gitar%2Caps%2C376&sr=8-10', 'https://www.amazon.in/Intern-38-inch-Cutaway-Design-Acoustic/dp/B07X4PN85R/ref=sr_1_11?crid=J2T429VLPU32&dib=eyJ2IjoiMSJ9.yMNWF0-ZbwuOEjMTW7AEIy-7cwmFzGIQSCMC8z4mYkiVJ0Q8PniDU9qCdaXZ8tskLJSjvtRT4fqk_HiRdcD3jN1e42deR3gi94NTNb95Qhx-y1hYK88UG6pWDbrstVpqFSJxkpIN84I0A5dW4NqfAJWvliGe3xSfuWSCL9wJuu3H2LxOA_93Cb43c8hStwljftK6qGu2zecg6WbBuEaUI8W8CATUQIqW0CnE5mF9G9w2jIaDiGXlIUK3RzxrG0xvtb4rDUvlmqGtiTl0932XH-aiJjXvEkEWRKJTlw37zuk.bcl4s5DZp-VhbzA_qnvDQ7SEvPEpQ50DR0NxtjZr_04&dib_tag=se&keywords=gitar&qid=1713778093&sprefix=gitar%2Caps%2C376&sr=8-11', 'https://www.amazon.in/Juarez-Acoustic-Cutaway-038C-Strings/dp/B017NPCSLI/ref=sr_1_12?crid=J2T429VLPU32&dib=eyJ2IjoiMSJ9.yMNWF0-ZbwuOEjMTW7AEIy-7cwmFzGIQSCMC8z4mYkiVJ0Q8PniDU9qCdaXZ8tskLJSjvtRT4fqk_HiRdcD3jN1e42deR3gi94NTNb95Qhx-y1hYK88UG6pWDbrstVpqFSJxkpIN84I0A5dW4NqfAJWvliGe3xSfuWSCL9wJuu3H2LxOA_93Cb43c8hStwljftK6qGu2zecg6WbBuEaUI8W8CATUQIqW0CnE5mF9G9w2jIaDiGXlIUK3RzxrG0xvtb4rDUvlmqGtiTl0932XH-aiJjXvEkEWRKJTlw37zuk.bcl4s5DZp-VhbzA_qnvDQ7SEvPEpQ50DR0NxtjZr_04&dib_tag=se&keywords=gitar&qid=1713778093&sprefix=gitar%2Caps%2C376&sr=8-12', 'https://www.amazon.in/Henrix-Cutaway-Acoustic-Guitar-Action/dp/B097NCQFFM/ref=sr_1_13?crid=J2T429VLPU32&dib=eyJ2IjoiMSJ9.yMNWF0-ZbwuOEjMTW7AEIy-7cwmFzGIQSCMC8z4mYkiVJ0Q8PniDU9qCdaXZ8tskLJSjvtRT4fqk_HiRdcD3jN1e42deR3gi94NTNb95Qhx-y1hYK88UG6pWDbrstVpqFSJxkpIN84I0A5dW4NqfAJWvliGe3xSfuWSCL9wJuu3H2LxOA_93Cb43c8hStwljftK6qGu2zecg6WbBuEaUI8W8CATUQIqW0CnE5mF9G9w2jIaDiGXlIUK3RzxrG0xvtb4rDUvlmqGtiTl0932XH-aiJjXvEkEWRKJTlw37zuk.bcl4s5DZp-VhbzA_qnvDQ7SEvPEpQ50DR0NxtjZr_04&dib_tag=se&keywords=gitar&qid=1713778093&sprefix=gitar%2Caps%2C376&sr=8-13', 'https://www.amazon.in/Yamaha-F280-Acoustic-Guitar-Natural/dp/B08317Y4VP/ref=sr_1_14?crid=J2T429VLPU32&dib=eyJ2IjoiMSJ9.yMNWF0-ZbwuOEjMTW7AEIy-7cwmFzGIQSCMC8z4mYkiVJ0Q8PniDU9qCdaXZ8tskLJSjvtRT4fqk_HiRdcD3jN1e42deR3gi94NTNb95Qhx-y1hYK88UG6pWDbrstVpqFSJxkpIN84I0A5dW4NqfAJWvliGe3xSfuWSCL9wJuu3H2LxOA_93Cb43c8hStwljftK6qGu2zecg6WbBuEaUI8W8CATUQIqW0CnE5mF9G9w2jIaDiGXlIUK3RzxrG0xvtb4rDUvlmqGtiTl0932XH-aiJjXvEkEWRKJTlw37zuk.bcl4s5DZp-VhbzA_qnvDQ7SEvPEpQ50DR0NxtjZr_04&dib_tag=se&keywords=gitar&qid=1713778093&sprefix=gitar%2Caps%2C376&sr=8-14', 'https://www.amazon.in/JUAREZ-JRZ38C-BKNA/dp/B0BCQNVPRB/ref=sr_1_15?crid=J2T429VLPU32&dib=eyJ2IjoiMSJ9.yMNWF0-ZbwuOEjMTW7AEIy-7cwmFzGIQSCMC8z4mYkiVJ0Q8PniDU9qCdaXZ8tskLJSjvtRT4fqk_HiRdcD3jN1e42deR3gi94NTNb95Qhx-y1hYK88UG6pWDbrstVpqFSJxkpIN84I0A5dW4NqfAJWvliGe3xSfuWSCL9wJuu3H2LxOA_93Cb43c8hStwljftK6qGu2zecg6WbBuEaUI8W8CATUQIqW0CnE5mF9G9w2jIaDiGXlIUK3RzxrG0xvtb4rDUvlmqGtiTl0932XH-aiJjXvEkEWRKJTlw37zuk.bcl4s5DZp-VhbzA_qnvDQ7SEvPEpQ50DR0NxtjZr_04&dib_tag=se&keywords=gitar&qid=1713778093&sprefix=gitar%2Caps%2C376&sr=8-15', 'https://www.amazon.in/Kadence-Slowhand-Premium-Acoustic-Instrument/dp/B077SZ667X/ref=sr_1_16?crid=J2T429VLPU32&dib=eyJ2IjoiMSJ9.yMNWF0-ZbwuOEjMTW7AEIy-7cwmFzGIQSCMC8z4mYkiVJ0Q8PniDU9qCdaXZ8tskLJSjvtRT4fqk_HiRdcD3jN1e42deR3gi94NTNb95Qhx-y1hYK88UG6pWDbrstVpqFSJxkpIN84I0A5dW4NqfAJWvliGe3xSfuWSCL9wJuu3H2LxOA_93Cb43c8hStwljftK6qGu2zecg6WbBuEaUI8W8CATUQIqW0CnE5mF9G9w2jIaDiGXlIUK3RzxrG0xvtb4rDUvlmqGtiTl0932XH-aiJjXvEkEWRKJTlw37zuk.bcl4s5DZp-VhbzA_qnvDQ7SEvPEpQ50DR0NxtjZr_04&dib_tag=se&keywords=gitar&qid=1713778093&sprefix=gitar%2Caps%2C376&sr=8-16', 'https://www.amazon.in/Intern-INT-38C-Acoustic-Guitar-Black/dp/B073B6TQQY/ref=sr_1_17?crid=J2T429VLPU32&dib=eyJ2IjoiMSJ9.yMNWF0-ZbwuOEjMTW7AEIy-7cwmFzGIQSCMC8z4mYkiVJ0Q8PniDU9qCdaXZ8tskLJSjvtRT4fqk_HiRdcD3jN1e42deR3gi94NTNb95Qhx-y1hYK88UG6pWDbrstVpqFSJxkpIN84I0A5dW4NqfAJWvliGe3xSfuWSCL9wJuu3H2LxOA_93Cb43c8hStwljftK6qGu2zecg6WbBuEaUI8W8CATUQIqW0CnE5mF9G9w2jIaDiGXlIUK3RzxrG0xvtb4rDUvlmqGtiTl0932XH-aiJjXvEkEWRKJTlw37zuk.bcl4s5DZp-VhbzA_qnvDQ7SEvPEpQ50DR0NxtjZr_04&dib_tag=se&keywords=gitar&qid=1713778093&sprefix=gitar%2Caps%2C376&sr=8-17', 'https://www.amazon.in/Yamaha-F310-6-Strings-Acoustic-Natural/dp/B000RVYW7E/ref=sr_1_18?crid=J2T429VLPU32&dib=eyJ2IjoiMSJ9.yMNWF0-ZbwuOEjMTW7AEIy-7cwmFzGIQSCMC8z4mYkiVJ0Q8PniDU9qCdaXZ8tskLJSjvtRT4fqk_HiRdcD3jN1e42deR3gi94NTNb95Qhx-y1hYK88UG6pWDbrstVpqFSJxkpIN84I0A5dW4NqfAJWvliGe3xSfuWSCL9wJuu3H2LxOA_93Cb43c8hStwljftK6qGu2zecg6WbBuEaUI8W8CATUQIqW0CnE5mF9G9w2jIaDiGXlIUK3RzxrG0xvtb4rDUvlmqGtiTl0932XH-aiJjXvEkEWRKJTlw37zuk.bcl4s5DZp-VhbzA_qnvDQ7SEvPEpQ50DR0NxtjZr_04&dib_tag=se&keywords=gitar&qid=1713778093&sprefix=gitar%2Caps%2C376&sr=8-18', 'https://www.amazon.in/Juarez-JRZ-ST01-6-String-Electric-Without/dp/B01FYZSOGM/ref=sr_1_19?crid=J2T429VLPU32&dib=eyJ2IjoiMSJ9.yMNWF0-ZbwuOEjMTW7AEIy-7cwmFzGIQSCMC8z4mYkiVJ0Q8PniDU9qCdaXZ8tskLJSjvtRT4fqk_HiRdcD3jN1e42deR3gi94NTNb95Qhx-y1hYK88UG6pWDbrstVpqFSJxkpIN84I0A5dW4NqfAJWvliGe3xSfuWSCL9wJuu3H2LxOA_93Cb43c8hStwljftK6qGu2zecg6WbBuEaUI8W8CATUQIqW0CnE5mF9G9w2jIaDiGXlIUK3RzxrG0xvtb4rDUvlmqGtiTl0932XH-aiJjXvEkEWRKJTlw37zuk.bcl4s5DZp-VhbzA_qnvDQ7SEvPEpQ50DR0NxtjZr_04&dib_tag=se&keywords=gitar&qid=1713778093&sprefix=gitar%2Caps%2C376&sr=8-19', 'https://www.amazon.in/JUAREZ-JRZ38C-TBLSNA/dp/B0BCQKQ6CS/ref=sr_1_20?crid=J2T429VLPU32&dib=eyJ2IjoiMSJ9.yMNWF0-ZbwuOEjMTW7AEIy-7cwmFzGIQSCMC8z4mYkiVJ0Q8PniDU9qCdaXZ8tskLJSjvtRT4fqk_HiRdcD3jN1e42deR3gi94NTNb95Qhx-y1hYK88UG6pWDbrstVpqFSJxkpIN84I0A5dW4NqfAJWvliGe3xSfuWSCL9wJuu3H2LxOA_93Cb43c8hStwljftK6qGu2zecg6WbBuEaUI8W8CATUQIqW0CnE5mF9G9w2jIaDiGXlIUK3RzxrG0xvtb4rDUvlmqGtiTl0932XH-aiJjXvEkEWRKJTlw37zuk.bcl4s5DZp-VhbzA_qnvDQ7SEvPEpQ50DR0NxtjZr_04&dib_tag=se&keywords=gitar&qid=1713778093&sprefix=gitar%2Caps%2C376&sr=8-20', 'https://www.amazon.in/sspa/click?ie=UTF8&spc=MTo1NzY2ODIwNjU4NDA3MTEyOjE3MTM3NzgwOTM6c3BfbXRmOjMwMDE0ODU0ODIzMTYzMjo6MDo6&url=%2FIbanez-MD39C-NT-Cutaway-Acoustic-Polishing%2Fdp%2FB084C1DGCV%2Fref%3Dsr_1_21_sspa%3Fcrid%3DJ2T429VLPU32%26dib%3DeyJ2IjoiMSJ9.yMNWF0-ZbwuOEjMTW7AEIy-7cwmFzGIQSCMC8z4mYkiVJ0Q8PniDU9qCdaXZ8tskLJSjvtRT4fqk_HiRdcD3jN1e42deR3gi94NTNb95Qhx-y1hYK88UG6pWDbrstVpqFSJxkpIN84I0A5dW4NqfAJWvliGe3xSfuWSCL9wJuu3H2LxOA_93Cb43c8hStwljftK6qGu2zecg6WbBuEaUI8W8CATUQIqW0CnE5mF9G9w2jIaDiGXlIUK3RzxrG0xvtb4rDUvlmqGtiTl0932XH-aiJjXvEkEWRKJTlw37zuk.bcl4s5DZp-VhbzA_qnvDQ7SEvPEpQ50DR0NxtjZr_04%26dib_tag%3Dse%26keywords%3Dgitar%26qid%3D1713778093%26sprefix%3Dgitar%252Caps%252C376%26sr%3D8-21-spons%26sp_csd%3Dd2lkZ2V0TmFtZT1zcF9tdGY%26psc%3D1', 'https://www.amazon.in/sspa/click?ie=UTF8&spc=MTo1NzY2ODIwNjU4NDA3MTEyOjE3MTM3NzgwOTM6c3BfbXRmOjMwMDE2MzkzNzg1NzIzMjo6MDo6&url=%2FMOCKING-BIRD-Acoustic-beginners-instrument%2Fdp%2FB0CR9XH4QH%2Fref%3Dsr_1_22_sspa%3Fcrid%3DJ2T429VLPU32%26dib%3DeyJ2IjoiMSJ9.yMNWF0-ZbwuOEjMTW7AEIy-7cwmFzGIQSCMC8z4mYkiVJ0Q8PniDU9qCdaXZ8tskLJSjvtRT4fqk_HiRdcD3jN1e42deR3gi94NTNb95Qhx-y1hYK88UG6pWDbrstVpqFSJxkpIN84I0A5dW4NqfAJWvliGe3xSfuWSCL9wJuu3H2LxOA_93Cb43c8hStwljftK6qGu2zecg6WbBuEaUI8W8CATUQIqW0CnE5mF9G9w2jIaDiGXlIUK3RzxrG0xvtb4rDUvlmqGtiTl0932XH-aiJjXvEkEWRKJTlw37zuk.bcl4s5DZp-VhbzA_qnvDQ7SEvPEpQ50DR0NxtjZr_04%26dib_tag%3Dse%26keywords%3Dgitar%26qid%3D1713778093%26sprefix%3Dgitar%252Caps%252C376%26sr%3D8-22-spons%26sp_csd%3Dd2lkZ2V0TmFtZT1zcF9tdGY%26psc%3D1', 'https://www.amazon.in/sspa/click?ie=UTF8&spc=MTo1NzY2ODIwNjU4NDA3MTEyOjE3MTM3NzgwOTM6c3BfbXRmOjMwMDE0MTg2MjIyNjAzMjo6MDo6&url=%2FRichtone-B239C-Natural-cutaway-Acoustic%2Fdp%2FB0CNW9RZ9D%2Fref%3Dsr_1_23_sspa%3Fcrid%3DJ2T429VLPU32%26dib%3DeyJ2IjoiMSJ9.yMNWF0-ZbwuOEjMTW7AEIy-7cwmFzGIQSCMC8z4mYkiVJ0Q8PniDU9qCdaXZ8tskLJSjvtRT4fqk_HiRdcD3jN1e42deR3gi94NTNb95Qhx-y1hYK88UG6pWDbrstVpqFSJxkpIN84I0A5dW4NqfAJWvliGe3xSfuWSCL9wJuu3H2LxOA_93Cb43c8hStwljftK6qGu2zecg6WbBuEaUI8W8CATUQIqW0CnE5mF9G9w2jIaDiGXlIUK3RzxrG0xvtb4rDUvlmqGtiTl0932XH-aiJjXvEkEWRKJTlw37zuk.bcl4s5DZp-VhbzA_qnvDQ7SEvPEpQ50DR0NxtjZr_04%26dib_tag%3Dse%26keywords%3Dgitar%26qid%3D1713778093%26sprefix%3Dgitar%252Caps%252C376%26sr%3D8-23-spons%26sp_csd%3Dd2lkZ2V0TmFtZT1zcF9tdGY%26psc%3D1', 'https://www.amazon.in/sspa/click?ie=UTF8&spc=MTo1NzY2ODIwNjU4NDA3MTEyOjE3MTM3NzgwOTM6c3BfbXRmOjIwMDU3MzAzOTg2MjA0OjowOjo&url=%2FKadence-Slowhand-Premium-Acoustic-Instrument%2Fdp%2FB077SZ667X%2Fref%3Dsr_1_24_sspa%3Fcrid%3DJ2T429VLPU32%26dib%3DeyJ2IjoiMSJ9.yMNWF0-ZbwuOEjMTW7AEIy-7cwmFzGIQSCMC8z4mYkiVJ0Q8PniDU9qCdaXZ8tskLJSjvtRT4fqk_HiRdcD3jN1e42deR3gi94NTNb95Qhx-y1hYK88UG6pWDbrstVpqFSJxkpIN84I0A5dW4NqfAJWvliGe3xSfuWSCL9wJuu3H2LxOA_93Cb43c8hStwljftK6qGu2zecg6WbBuEaUI8W8CATUQIqW0CnE5mF9G9w2jIaDiGXlIUK3RzxrG0xvtb4rDUvlmqGtiTl0932XH-aiJjXvEkEWRKJTlw37zuk.bcl4s5DZp-VhbzA_qnvDQ7SEvPEpQ50DR0NxtjZr_04%26dib_tag%3Dse%26keywords%3Dgitar%26qid%3D1713778093%26sprefix%3Dgitar%252Caps%252C376%26sr%3D8-24-spons%26sp_csd%3Dd2lkZ2V0TmFtZT1zcF9tdGY%26psc%3D1', 'https://www.amazon.in/Kadence-Professional-Acoustic-Rosewood-Natural/dp/B0CC927DLN/ref=sr_1_25?crid=J2T429VLPU32&dib=eyJ2IjoiMSJ9.yMNWF0-ZbwuOEjMTW7AEIy-7cwmFzGIQSCMC8z4mYkiVJ0Q8PniDU9qCdaXZ8tskLJSjvtRT4fqk_HiRdcD3jN1e42deR3gi94NTNb95Qhx-y1hYK88UG6pWDbrstVpqFSJxkpIN84I0A5dW4NqfAJWvliGe3xSfuWSCL9wJuu3H2LxOA_93Cb43c8hStwljftK6qGu2zecg6WbBuEaUI8W8CATUQIqW0CnE5mF9G9w2jIaDiGXlIUK3RzxrG0xvtb4rDUvlmqGtiTl0932XH-aiJjXvEkEWRKJTlw37zuk.bcl4s5DZp-VhbzA_qnvDQ7SEvPEpQ50DR0NxtjZr_04&dib_tag=se&keywords=gitar&qid=1713778093&sprefix=gitar%2Caps%2C376&sr=8-25', 'https://www.amazon.in/Vault-Soloist-Premium-Electric-Guitar/dp/B09GLZSS95/ref=sr_1_26?crid=J2T429VLPU32&dib=eyJ2IjoiMSJ9.yMNWF0-ZbwuOEjMTW7AEIy-7cwmFzGIQSCMC8z4mYkiVJ0Q8PniDU9qCdaXZ8tskLJSjvtRT4fqk_HiRdcD3jN1e42deR3gi94NTNb95Qhx-y1hYK88UG6pWDbrstVpqFSJxkpIN84I0A5dW4NqfAJWvliGe3xSfuWSCL9wJuu3H2LxOA_93Cb43c8hStwljftK6qGu2zecg6WbBuEaUI8W8CATUQIqW0CnE5mF9G9w2jIaDiGXlIUK3RzxrG0xvtb4rDUvlmqGtiTl0932XH-aiJjXvEkEWRKJTlw37zuk.bcl4s5DZp-VhbzA_qnvDQ7SEvPEpQ50DR0NxtjZr_04&dib_tag=se&keywords=gitar&qid=1713778093&sprefix=gitar%2Caps%2C376&sr=8-26', 'https://www.amazon.in/Medellin-Acoustic-Guitar-learning-Strings/dp/B0CCNSN9BV/ref=sr_1_27?crid=J2T429VLPU32&dib=eyJ2IjoiMSJ9.yMNWF0-ZbwuOEjMTW7AEIy-7cwmFzGIQSCMC8z4mYkiVJ0Q8PniDU9qCdaXZ8tskLJSjvtRT4fqk_HiRdcD3jN1e42deR3gi94NTNb95Qhx-y1hYK88UG6pWDbrstVpqFSJxkpIN84I0A5dW4NqfAJWvliGe3xSfuWSCL9wJuu3H2LxOA_93Cb43c8hStwljftK6qGu2zecg6WbBuEaUI8W8CATUQIqW0CnE5mF9G9w2jIaDiGXlIUK3RzxrG0xvtb4rDUvlmqGtiTl0932XH-aiJjXvEkEWRKJTlw37zuk.bcl4s5DZp-VhbzA_qnvDQ7SEvPEpQ50DR0NxtjZr_04&dib_tag=se&keywords=gitar&qid=1713778093&sprefix=gitar%2Caps%2C376&sr=8-27', 'https://www.amazon.in/JUAREZ-JRZ38C-Acoustic-Sunburst-Strings/dp/B01FYYTDS6/ref=sr_1_28?crid=J2T429VLPU32&dib=eyJ2IjoiMSJ9.yMNWF0-ZbwuOEjMTW7AEIy-7cwmFzGIQSCMC8z4mYkiVJ0Q8PniDU9qCdaXZ8tskLJSjvtRT4fqk_HiRdcD3jN1e42deR3gi94NTNb95Qhx-y1hYK88UG6pWDbrstVpqFSJxkpIN84I0A5dW4NqfAJWvliGe3xSfuWSCL9wJuu3H2LxOA_93Cb43c8hStwljftK6qGu2zecg6WbBuEaUI8W8CATUQIqW0CnE5mF9G9w2jIaDiGXlIUK3RzxrG0xvtb4rDUvlmqGtiTl0932XH-aiJjXvEkEWRKJTlw37zuk.bcl4s5DZp-VhbzA_qnvDQ7SEvPEpQ50DR0NxtjZr_04&dib_tag=se&keywords=gitar&qid=1713778093&sprefix=gitar%2Caps%2C376&sr=8-28', 'https://www.amazon.in/Ju%C3%A2rez-Acoustic-Guitar-Cutaway-Strings/dp/B0BCQNLXVM/ref=sr_1_29?crid=J2T429VLPU32&dib=eyJ2IjoiMSJ9.yMNWF0-ZbwuOEjMTW7AEIy-7cwmFzGIQSCMC8z4mYkiVJ0Q8PniDU9qCdaXZ8tskLJSjvtRT4fqk_HiRdcD3jN1e42deR3gi94NTNb95Qhx-y1hYK88UG6pWDbrstVpqFSJxkpIN84I0A5dW4NqfAJWvliGe3xSfuWSCL9wJuu3H2LxOA_93Cb43c8hStwljftK6qGu2zecg6WbBuEaUI8W8CATUQIqW0CnE5mF9G9w2jIaDiGXlIUK3RzxrG0xvtb4rDUvlmqGtiTl0932XH-aiJjXvEkEWRKJTlw37zuk.bcl4s5DZp-VhbzA_qnvDQ7SEvPEpQ50DR0NxtjZr_04&dib_tag=se&keywords=gitar&qid=1713778093&sprefix=gitar%2Caps%2C376&sr=8-29', 'https://www.amazon.in/Yamaha-Classical-Guitar-C40-02/dp/B003UGCUFE/ref=sr_1_30?crid=J2T429VLPU32&dib=eyJ2IjoiMSJ9.yMNWF0-ZbwuOEjMTW7AEIy-7cwmFzGIQSCMC8z4mYkiVJ0Q8PniDU9qCdaXZ8tskLJSjvtRT4fqk_HiRdcD3jN1e42deR3gi94NTNb95Qhx-y1hYK88UG6pWDbrstVpqFSJxkpIN84I0A5dW4NqfAJWvliGe3xSfuWSCL9wJuu3H2LxOA_93Cb43c8hStwljftK6qGu2zecg6WbBuEaUI8W8CATUQIqW0CnE5mF9G9w2jIaDiGXlIUK3RzxrG0xvtb4rDUvlmqGtiTl0932XH-aiJjXvEkEWRKJTlw37zuk.bcl4s5DZp-VhbzA_qnvDQ7SEvPEpQ50DR0NxtjZr_04&dib_tag=se&keywords=gitar&qid=1713778093&sprefix=gitar%2Caps%2C376&sr=8-30', 'https://www.amazon.in/Yamaha-Acoustic-Guitar-Tobacco-Sunburst/dp/B08VXR74Q2/ref=sr_1_31?crid=J2T429VLPU32&dib=eyJ2IjoiMSJ9.yMNWF0-ZbwuOEjMTW7AEIy-7cwmFzGIQSCMC8z4mYkiVJ0Q8PniDU9qCdaXZ8tskLJSjvtRT4fqk_HiRdcD3jN1e42deR3gi94NTNb95Qhx-y1hYK88UG6pWDbrstVpqFSJxkpIN84I0A5dW4NqfAJWvliGe3xSfuWSCL9wJuu3H2LxOA_93Cb43c8hStwljftK6qGu2zecg6WbBuEaUI8W8CATUQIqW0CnE5mF9G9w2jIaDiGXlIUK3RzxrG0xvtb4rDUvlmqGtiTl0932XH-aiJjXvEkEWRKJTlw37zuk.bcl4s5DZp-VhbzA_qnvDQ7SEvPEpQ50DR0NxtjZr_04&dib_tag=se&keywords=gitar&qid=1713778093&sprefix=gitar%2Caps%2C376&sr=8-31', 'https://www.amazon.in/JUAREZ-JRZ38C-Acoustic-Sunburst-Strings/dp/B01FYYTDTU/ref=sr_1_32?crid=J2T429VLPU32&dib=eyJ2IjoiMSJ9.yMNWF0-ZbwuOEjMTW7AEIy-7cwmFzGIQSCMC8z4mYkiVJ0Q8PniDU9qCdaXZ8tskLJSjvtRT4fqk_HiRdcD3jN1e42deR3gi94NTNb95Qhx-y1hYK88UG6pWDbrstVpqFSJxkpIN84I0A5dW4NqfAJWvliGe3xSfuWSCL9wJuu3H2LxOA_93Cb43c8hStwljftK6qGu2zecg6WbBuEaUI8W8CATUQIqW0CnE5mF9G9w2jIaDiGXlIUK3RzxrG0xvtb4rDUvlmqGtiTl0932XH-aiJjXvEkEWRKJTlw37zuk.bcl4s5DZp-VhbzA_qnvDQ7SEvPEpQ50DR0NxtjZr_04&dib_tag=se&keywords=gitar&qid=1713778093&sprefix=gitar%2Caps%2C376&sr=8-32', 'https://www.amazon.in/embroidey-Electric-Embroidered-Instrument-Applique/dp/B0C5W7BVN8/ref=sr_1_33?crid=J2T429VLPU32&dib=eyJ2IjoiMSJ9.yMNWF0-ZbwuOEjMTW7AEIy-7cwmFzGIQSCMC8z4mYkiVJ0Q8PniDU9qCdaXZ8tskLJSjvtRT4fqk_HiRdcD3jN1e42deR3gi94NTNb95Qhx-y1hYK88UG6pWDbrstVpqFSJxkpIN84I0A5dW4NqfAJWvliGe3xSfuWSCL9wJuu3H2LxOA_93Cb43c8hStwljftK6qGu2zecg6WbBuEaUI8W8CATUQIqW0CnE5mF9G9w2jIaDiGXlIUK3RzxrG0xvtb4rDUvlmqGtiTl0932XH-aiJjXvEkEWRKJTlw37zuk.bcl4s5DZp-VhbzA_qnvDQ7SEvPEpQ50DR0NxtjZr_04&dib_tag=se&keywords=gitar&qid=1713778093&sprefix=gitar%2Caps%2C376&sr=8-33', 'https://www.amazon.in/Yamaha-FS-100C-6-String-Acoustic-without/dp/B00PAS9CK6/ref=sr_1_34?crid=J2T429VLPU32&dib=eyJ2IjoiMSJ9.yMNWF0-ZbwuOEjMTW7AEIy-7cwmFzGIQSCMC8z4mYkiVJ0Q8PniDU9qCdaXZ8tskLJSjvtRT4fqk_HiRdcD3jN1e42deR3gi94NTNb95Qhx-y1hYK88UG6pWDbrstVpqFSJxkpIN84I0A5dW4NqfAJWvliGe3xSfuWSCL9wJuu3H2LxOA_93Cb43c8hStwljftK6qGu2zecg6WbBuEaUI8W8CATUQIqW0CnE5mF9G9w2jIaDiGXlIUK3RzxrG0xvtb4rDUvlmqGtiTl0932XH-aiJjXvEkEWRKJTlw37zuk.bcl4s5DZp-VhbzA_qnvDQ7SEvPEpQ50DR0NxtjZr_04&dib_tag=se&keywords=gitar&qid=1713778093&sprefix=gitar%2Caps%2C376&sr=8-34', 'https://www.amazon.in/Kadence-Slowhand-Premium-Acoustic-Mahogany/dp/B09SFXW1VL/ref=sr_1_35?crid=J2T429VLPU32&dib=eyJ2IjoiMSJ9.yMNWF0-ZbwuOEjMTW7AEIy-7cwmFzGIQSCMC8z4mYkiVJ0Q8PniDU9qCdaXZ8tskLJSjvtRT4fqk_HiRdcD3jN1e42deR3gi94NTNb95Qhx-y1hYK88UG6pWDbrstVpqFSJxkpIN84I0A5dW4NqfAJWvliGe3xSfuWSCL9wJuu3H2LxOA_93Cb43c8hStwljftK6qGu2zecg6WbBuEaUI8W8CATUQIqW0CnE5mF9G9w2jIaDiGXlIUK3RzxrG0xvtb4rDUvlmqGtiTl0932XH-aiJjXvEkEWRKJTlw37zuk.bcl4s5DZp-VhbzA_qnvDQ7SEvPEpQ50DR0NxtjZr_04&dib_tag=se&keywords=gitar&qid=1713778093&sprefix=gitar%2Caps%2C376&sr=8-35', 'https://www.amazon.in/YAMAHA-FS80C-CONCERT-CUTAWAY-GUITAR/dp/B08WBBVMVJ/ref=sr_1_36?crid=J2T429VLPU32&dib=eyJ2IjoiMSJ9.yMNWF0-ZbwuOEjMTW7AEIy-7cwmFzGIQSCMC8z4mYkiVJ0Q8PniDU9qCdaXZ8tskLJSjvtRT4fqk_HiRdcD3jN1e42deR3gi94NTNb95Qhx-y1hYK88UG6pWDbrstVpqFSJxkpIN84I0A5dW4NqfAJWvliGe3xSfuWSCL9wJuu3H2LxOA_93Cb43c8hStwljftK6qGu2zecg6WbBuEaUI8W8CATUQIqW0CnE5mF9G9w2jIaDiGXlIUK3RzxrG0xvtb4rDUvlmqGtiTl0932XH-aiJjXvEkEWRKJTlw37zuk.bcl4s5DZp-VhbzA_qnvDQ7SEvPEpQ50DR0NxtjZr_04&dib_tag=se&keywords=gitar&qid=1713778093&sprefix=gitar%2Caps%2C376&sr=8-36', 'https://www.amazon.in/Gadgets-Pattren-Musical-Instument-Decal_IC90/dp/B07F8PY6DM/ref=sr_1_37?crid=J2T429VLPU32&dib=eyJ2IjoiMSJ9.yMNWF0-ZbwuOEjMTW7AEIy-7cwmFzGIQSCMC8z4mYkiVJ0Q8PniDU9qCdaXZ8tskLJSjvtRT4fqk_HiRdcD3jN1e42deR3gi94NTNb95Qhx-y1hYK88UG6pWDbrstVpqFSJxkpIN84I0A5dW4NqfAJWvliGe3xSfuWSCL9wJuu3H2LxOA_93Cb43c8hStwljftK6qGu2zecg6WbBuEaUI8W8CATUQIqW0CnE5mF9G9w2jIaDiGXlIUK3RzxrG0xvtb4rDUvlmqGtiTl0932XH-aiJjXvEkEWRKJTlw37zuk.bcl4s5DZp-VhbzA_qnvDQ7SEvPEpQ50DR0NxtjZr_04&dib_tag=se&keywords=gitar&qid=1713778093&sprefix=gitar%2Caps%2C376&sr=8-37', 'https://www.amazon.in/Yamaha-FSX80C-Acoustic-Cutaway-Natural/dp/B09HL3GFZF/ref=sr_1_38?crid=J2T429VLPU32&dib=eyJ2IjoiMSJ9.yMNWF0-ZbwuOEjMTW7AEIy-7cwmFzGIQSCMC8z4mYkiVJ0Q8PniDU9qCdaXZ8tskLJSjvtRT4fqk_HiRdcD3jN1e42deR3gi94NTNb95Qhx-y1hYK88UG6pWDbrstVpqFSJxkpIN84I0A5dW4NqfAJWvliGe3xSfuWSCL9wJuu3H2LxOA_93Cb43c8hStwljftK6qGu2zecg6WbBuEaUI8W8CATUQIqW0CnE5mF9G9w2jIaDiGXlIUK3RzxrG0xvtb4rDUvlmqGtiTl0932XH-aiJjXvEkEWRKJTlw37zuk.bcl4s5DZp-VhbzA_qnvDQ7SEvPEpQ50DR0NxtjZr_04&dib_tag=se&keywords=gitar&qid=1713778093&sprefix=gitar%2Caps%2C376&sr=8-38', 'https://www.amazon.in/Kadence-Frontier-Acoustic-Sunburst-Strings/dp/B07T5DMPZ3/ref=sr_1_39?crid=J2T429VLPU32&dib=eyJ2IjoiMSJ9.yMNWF0-ZbwuOEjMTW7AEIy-7cwmFzGIQSCMC8z4mYkiVJ0Q8PniDU9qCdaXZ8tskLJSjvtRT4fqk_HiRdcD3jN1e42deR3gi94NTNb95Qhx-y1hYK88UG6pWDbrstVpqFSJxkpIN84I0A5dW4NqfAJWvliGe3xSfuWSCL9wJuu3H2LxOA_93Cb43c8hStwljftK6qGu2zecg6WbBuEaUI8W8CATUQIqW0CnE5mF9G9w2jIaDiGXlIUK3RzxrG0xvtb4rDUvlmqGtiTl0932XH-aiJjXvEkEWRKJTlw37zuk.bcl4s5DZp-VhbzA_qnvDQ7SEvPEpQ50DR0NxtjZr_04&dib_tag=se&keywords=gitar&qid=1713778093&sprefix=gitar%2Caps%2C376&sr=8-39', 'https://www.amazon.in/Medellin-Acoustic-Guitar-learning-Strings/dp/B0CCNSN6S4/ref=sr_1_40?crid=J2T429VLPU32&dib=eyJ2IjoiMSJ9.yMNWF0-ZbwuOEjMTW7AEIy-7cwmFzGIQSCMC8z4mYkiVJ0Q8PniDU9qCdaXZ8tskLJSjvtRT4fqk_HiRdcD3jN1e42deR3gi94NTNb95Qhx-y1hYK88UG6pWDbrstVpqFSJxkpIN84I0A5dW4NqfAJWvliGe3xSfuWSCL9wJuu3H2LxOA_93Cb43c8hStwljftK6qGu2zecg6WbBuEaUI8W8CATUQIqW0CnE5mF9G9w2jIaDiGXlIUK3RzxrG0xvtb4rDUvlmqGtiTl0932XH-aiJjXvEkEWRKJTlw37zuk.bcl4s5DZp-VhbzA_qnvDQ7SEvPEpQ50DR0NxtjZr_04&dib_tag=se&keywords=gitar&qid=1713778093&sprefix=gitar%2Caps%2C376&sr=8-40', 'https://www.amazon.in/Yamaha-F310-Acoustic-Guitar-Natural/dp/B08Z3C1GRM/ref=sr_1_41?crid=J2T429VLPU32&dib=eyJ2IjoiMSJ9.yMNWF0-ZbwuOEjMTW7AEIy-7cwmFzGIQSCMC8z4mYkiVJ0Q8PniDU9qCdaXZ8tskLJSjvtRT4fqk_HiRdcD3jN1e42deR3gi94NTNb95Qhx-y1hYK88UG6pWDbrstVpqFSJxkpIN84I0A5dW4NqfAJWvliGe3xSfuWSCL9wJuu3H2LxOA_93Cb43c8hStwljftK6qGu2zecg6WbBuEaUI8W8CATUQIqW0CnE5mF9G9w2jIaDiGXlIUK3RzxrG0xvtb4rDUvlmqGtiTl0932XH-aiJjXvEkEWRKJTlw37zuk.bcl4s5DZp-VhbzA_qnvDQ7SEvPEpQ50DR0NxtjZr_04&dib_tag=se&keywords=gitar&qid=1713778093&sprefix=gitar%2Caps%2C376&sr=8-41', 'https://www.amazon.in/FX280-acoustic-Dreadnought-Tobacco-Sunburst/dp/B09HR7BXGW/ref=sr_1_42?crid=J2T429VLPU32&dib=eyJ2IjoiMSJ9.yMNWF0-ZbwuOEjMTW7AEIy-7cwmFzGIQSCMC8z4mYkiVJ0Q8PniDU9qCdaXZ8tskLJSjvtRT4fqk_HiRdcD3jN1e42deR3gi94NTNb95Qhx-y1hYK88UG6pWDbrstVpqFSJxkpIN84I0A5dW4NqfAJWvliGe3xSfuWSCL9wJuu3H2LxOA_93Cb43c8hStwljftK6qGu2zecg6WbBuEaUI8W8CATUQIqW0CnE5mF9G9w2jIaDiGXlIUK3RzxrG0xvtb4rDUvlmqGtiTl0932XH-aiJjXvEkEWRKJTlw37zuk.bcl4s5DZp-VhbzA_qnvDQ7SEvPEpQ50DR0NxtjZr_04&dib_tag=se&keywords=gitar&qid=1713778093&sprefix=gitar%2Caps%2C376&sr=8-42', 'https://www.amazon.in/Juarez-Acoustic-Cutaway-BK-Strings/dp/B076T3RHMG/ref=sr_1_43?crid=J2T429VLPU32&dib=eyJ2IjoiMSJ9.yMNWF0-ZbwuOEjMTW7AEIy-7cwmFzGIQSCMC8z4mYkiVJ0Q8PniDU9qCdaXZ8tskLJSjvtRT4fqk_HiRdcD3jN1e42deR3gi94NTNb95Qhx-y1hYK88UG6pWDbrstVpqFSJxkpIN84I0A5dW4NqfAJWvliGe3xSfuWSCL9wJuu3H2LxOA_93Cb43c8hStwljftK6qGu2zecg6WbBuEaUI8W8CATUQIqW0CnE5mF9G9w2jIaDiGXlIUK3RzxrG0xvtb4rDUvlmqGtiTl0932XH-aiJjXvEkEWRKJTlw37zuk.bcl4s5DZp-VhbzA_qnvDQ7SEvPEpQ50DR0NxtjZr_04&dib_tag=se&keywords=gitar&qid=1713778093&sprefix=gitar%2Caps%2C376&sr=8-43', 'https://www.amazon.in/JUAREZ-Arpeggio-Guitar-JRA39SR-BL-K-blue/dp/B08MWB5Y67/ref=sr_1_44?crid=J2T429VLPU32&dib=eyJ2IjoiMSJ9.yMNWF0-ZbwuOEjMTW7AEIy-7cwmFzGIQSCMC8z4mYkiVJ0Q8PniDU9qCdaXZ8tskLJSjvtRT4fqk_HiRdcD3jN1e42deR3gi94NTNb95Qhx-y1hYK88UG6pWDbrstVpqFSJxkpIN84I0A5dW4NqfAJWvliGe3xSfuWSCL9wJuu3H2LxOA_93Cb43c8hStwljftK6qGu2zecg6WbBuEaUI8W8CATUQIqW0CnE5mF9G9w2jIaDiGXlIUK3RzxrG0xvtb4rDUvlmqGtiTl0932XH-aiJjXvEkEWRKJTlw37zuk.bcl4s5DZp-VhbzA_qnvDQ7SEvPEpQ50DR0NxtjZr_04&dib_tag=se&keywords=gitar&qid=1713778093&sprefix=gitar%2Caps%2C376&sr=8-44', 'https://www.amazon.in/Kadence-Frontier-Acoustic-Guitar-Strings/dp/B01GDZ46AA/ref=sr_1_45?crid=J2T429VLPU32&dib=eyJ2IjoiMSJ9.yMNWF0-ZbwuOEjMTW7AEIy-7cwmFzGIQSCMC8z4mYkiVJ0Q8PniDU9qCdaXZ8tskLJSjvtRT4fqk_HiRdcD3jN1e42deR3gi94NTNb95Qhx-y1hYK88UG6pWDbrstVpqFSJxkpIN84I0A5dW4NqfAJWvliGe3xSfuWSCL9wJuu3H2LxOA_93Cb43c8hStwljftK6qGu2zecg6WbBuEaUI8W8CATUQIqW0CnE5mF9G9w2jIaDiGXlIUK3RzxrG0xvtb4rDUvlmqGtiTl0932XH-aiJjXvEkEWRKJTlw37zuk.bcl4s5DZp-VhbzA_qnvDQ7SEvPEpQ50DR0NxtjZr_04&dib_tag=se&keywords=gitar&qid=1713778093&sprefix=gitar%2Caps%2C376&sr=8-45', 'https://www.amazon.in/Fender-0379410502-Anniversary-Stratocaster-Electric/dp/B09RX4BQPX/ref=sr_1_46?crid=J2T429VLPU32&dib=eyJ2IjoiMSJ9.yMNWF0-ZbwuOEjMTW7AEIy-7cwmFzGIQSCMC8z4mYkiVJ0Q8PniDU9qCdaXZ8tskLJSjvtRT4fqk_HiRdcD3jN1e42deR3gi94NTNb95Qhx-y1hYK88UG6pWDbrstVpqFSJxkpIN84I0A5dW4NqfAJWvliGe3xSfuWSCL9wJuu3H2LxOA_93Cb43c8hStwljftK6qGu2zecg6WbBuEaUI8W8CATUQIqW0CnE5mF9G9w2jIaDiGXlIUK3RzxrG0xvtb4rDUvlmqGtiTl0932XH-aiJjXvEkEWRKJTlw37zuk.bcl4s5DZp-VhbzA_qnvDQ7SEvPEpQ50DR0NxtjZr_04&dib_tag=se&keywords=gitar&qid=1713778093&sprefix=gitar%2Caps%2C376&sr=8-46', 'https://www.amazon.in/Alice-A206-Phosphor-Bronze-Strings/dp/B00QAFCNK4/ref=sr_1_47?crid=J2T429VLPU32&dib=eyJ2IjoiMSJ9.yMNWF0-ZbwuOEjMTW7AEIy-7cwmFzGIQSCMC8z4mYkiVJ0Q8PniDU9qCdaXZ8tskLJSjvtRT4fqk_HiRdcD3jN1e42deR3gi94NTNb95Qhx-y1hYK88UG6pWDbrstVpqFSJxkpIN84I0A5dW4NqfAJWvliGe3xSfuWSCL9wJuu3H2LxOA_93Cb43c8hStwljftK6qGu2zecg6WbBuEaUI8W8CATUQIqW0CnE5mF9G9w2jIaDiGXlIUK3RzxrG0xvtb4rDUvlmqGtiTl0932XH-aiJjXvEkEWRKJTlw37zuk.bcl4s5DZp-VhbzA_qnvDQ7SEvPEpQ50DR0NxtjZr_04&dib_tag=se&keywords=gitar&qid=1713778093&sprefix=gitar%2Caps%2C376&sr=8-47', 'https://www.amazon.in/Kadence-Frontier-Acoustic-Guitar-Strings/dp/B078GTJP5Y/ref=sr_1_48?crid=J2T429VLPU32&dib=eyJ2IjoiMSJ9.yMNWF0-ZbwuOEjMTW7AEIy-7cwmFzGIQSCMC8z4mYkiVJ0Q8PniDU9qCdaXZ8tskLJSjvtRT4fqk_HiRdcD3jN1e42deR3gi94NTNb95Qhx-y1hYK88UG6pWDbrstVpqFSJxkpIN84I0A5dW4NqfAJWvliGe3xSfuWSCL9wJuu3H2LxOA_93Cb43c8hStwljftK6qGu2zecg6WbBuEaUI8W8CATUQIqW0CnE5mF9G9w2jIaDiGXlIUK3RzxrG0xvtb4rDUvlmqGtiTl0932XH-aiJjXvEkEWRKJTlw37zuk.bcl4s5DZp-VhbzA_qnvDQ7SEvPEpQ50DR0NxtjZr_04&dib_tag=se&keywords=gitar&qid=1713778093&sprefix=gitar%2Caps%2C376&sr=8-48', 'https://www.amazon.in/Fender-0118802806-Signature-Stratocaster-Right-Handed/dp/B003EJXU56/ref=sr_1_49?crid=J2T429VLPU32&dib=eyJ2IjoiMSJ9.yMNWF0-ZbwuOEjMTW7AEIy-7cwmFzGIQSCMC8z4mYkiVJ0Q8PniDU9qCdaXZ8tskLJSjvtRT4fqk_HiRdcD3jN1e42deR3gi94NTNb95Qhx-y1hYK88UG6pWDbrstVpqFSJxkpIN84I0A5dW4NqfAJWvliGe3xSfuWSCL9wJuu3H2LxOA_93Cb43c8hStwljftK6qGu2zecg6WbBuEaUI8W8CATUQIqW0CnE5mF9G9w2jIaDiGXlIUK3RzxrG0xvtb4rDUvlmqGtiTl0932XH-aiJjXvEkEWRKJTlw37zuk.bcl4s5DZp-VhbzA_qnvDQ7SEvPEpQ50DR0NxtjZr_04&dib_tag=se&keywords=gitar&qid=1713778093&sprefix=gitar%2Caps%2C376&sr=8-49', 'https://www.amazon.in/Blueberry-38C-Acoustic-Guitar-Strings/dp/B08KLMV4XX/ref=sr_1_50?crid=J2T429VLPU32&dib=eyJ2IjoiMSJ9.yMNWF0-ZbwuOEjMTW7AEIy-7cwmFzGIQSCMC8z4mYkiVJ0Q8PniDU9qCdaXZ8tskLJSjvtRT4fqk_HiRdcD3jN1e42deR3gi94NTNb95Qhx-y1hYK88UG6pWDbrstVpqFSJxkpIN84I0A5dW4NqfAJWvliGe3xSfuWSCL9wJuu3H2LxOA_93Cb43c8hStwljftK6qGu2zecg6WbBuEaUI8W8CATUQIqW0CnE5mF9G9w2jIaDiGXlIUK3RzxrG0xvtb4rDUvlmqGtiTl0932XH-aiJjXvEkEWRKJTlw37zuk.bcl4s5DZp-VhbzA_qnvDQ7SEvPEpQ50DR0NxtjZr_04&dib_tag=se&keywords=gitar&qid=1713778093&sprefix=gitar%2Caps%2C376&sr=8-50', 'https://www.amazon.in/Cutaway-Acoustic-Humidity-resistance-resonance/dp/B09RRH7R5F/ref=sr_1_51?crid=J2T429VLPU32&dib=eyJ2IjoiMSJ9.yMNWF0-ZbwuOEjMTW7AEIy-7cwmFzGIQSCMC8z4mYkiVJ0Q8PniDU9qCdaXZ8tskLJSjvtRT4fqk_HiRdcD3jN1e42deR3gi94NTNb95Qhx-y1hYK88UG6pWDbrstVpqFSJxkpIN84I0A5dW4NqfAJWvliGe3xSfuWSCL9wJuu3H2LxOA_93Cb43c8hStwljftK6qGu2zecg6WbBuEaUI8W8CATUQIqW0CnE5mF9G9w2jIaDiGXlIUK3RzxrG0xvtb4rDUvlmqGtiTl0932XH-aiJjXvEkEWRKJTlw37zuk.bcl4s5DZp-VhbzA_qnvDQ7SEvPEpQ50DR0NxtjZr_04&dib_tag=se&keywords=gitar&qid=1713778093&sprefix=gitar%2Caps%2C376&sr=8-51', 'https://www.amazon.in/Acoustic-Cutaway-TBLS-Strings-Sunburst/dp/B098BCCY75/ref=sr_1_52?crid=J2T429VLPU32&dib=eyJ2IjoiMSJ9.yMNWF0-ZbwuOEjMTW7AEIy-7cwmFzGIQSCMC8z4mYkiVJ0Q8PniDU9qCdaXZ8tskLJSjvtRT4fqk_HiRdcD3jN1e42deR3gi94NTNb95Qhx-y1hYK88UG6pWDbrstVpqFSJxkpIN84I0A5dW4NqfAJWvliGe3xSfuWSCL9wJuu3H2LxOA_93Cb43c8hStwljftK6qGu2zecg6WbBuEaUI8W8CATUQIqW0CnE5mF9G9w2jIaDiGXlIUK3RzxrG0xvtb4rDUvlmqGtiTl0932XH-aiJjXvEkEWRKJTlw37zuk.bcl4s5DZp-VhbzA_qnvDQ7SEvPEpQ50DR0NxtjZr_04&dib_tag=se&keywords=gitar&qid=1713778093&sprefix=gitar%2Caps%2C376&sr=8-52', 'https://www.amazon.in/Blueberry-B-D38-Acoustic-Inbuilt-Strings/dp/B0B74CSY9V/ref=sr_1_53?crid=J2T429VLPU32&dib=eyJ2IjoiMSJ9.yMNWF0-ZbwuOEjMTW7AEIy-7cwmFzGIQSCMC8z4mYkiVJ0Q8PniDU9qCdaXZ8tskLJSjvtRT4fqk_HiRdcD3jN1e42deR3gi94NTNb95Qhx-y1hYK88UG6pWDbrstVpqFSJxkpIN84I0A5dW4NqfAJWvliGe3xSfuWSCL9wJuu3H2LxOA_93Cb43c8hStwljftK6qGu2zecg6WbBuEaUI8W8CATUQIqW0CnE5mF9G9w2jIaDiGXlIUK3RzxrG0xvtb4rDUvlmqGtiTl0932XH-aiJjXvEkEWRKJTlw37zuk.bcl4s5DZp-VhbzA_qnvDQ7SEvPEpQ50DR0NxtjZr_04&dib_tag=se&keywords=gitar&qid=1713778093&sprefix=gitar%2Caps%2C376&sr=8-53', 'https://www.amazon.in/Vault-ST1-Premium-Electric-Guitar/dp/B09GLYTF76/ref=sr_1_54?crid=J2T429VLPU32&dib=eyJ2IjoiMSJ9.yMNWF0-ZbwuOEjMTW7AEIy-7cwmFzGIQSCMC8z4mYkiVJ0Q8PniDU9qCdaXZ8tskLJSjvtRT4fqk_HiRdcD3jN1e42deR3gi94NTNb95Qhx-y1hYK88UG6pWDbrstVpqFSJxkpIN84I0A5dW4NqfAJWvliGe3xSfuWSCL9wJuu3H2LxOA_93Cb43c8hStwljftK6qGu2zecg6WbBuEaUI8W8CATUQIqW0CnE5mF9G9w2jIaDiGXlIUK3RzxrG0xvtb4rDUvlmqGtiTl0932XH-aiJjXvEkEWRKJTlw37zuk.bcl4s5DZp-VhbzA_qnvDQ7SEvPEpQ50DR0NxtjZr_04&dib_tag=se&keywords=gitar&qid=1713778093&sprefix=gitar%2Caps%2C376&sr=8-54', 'https://www.amazon.in/Traveller-Acoustic-Guitar-Strings-Polishing/dp/B07RK9962M/ref=sr_1_55?crid=J2T429VLPU32&dib=eyJ2IjoiMSJ9.yMNWF0-ZbwuOEjMTW7AEIy-7cwmFzGIQSCMC8z4mYkiVJ0Q8PniDU9qCdaXZ8tskLJSjvtRT4fqk_HiRdcD3jN1e42deR3gi94NTNb95Qhx-y1hYK88UG6pWDbrstVpqFSJxkpIN84I0A5dW4NqfAJWvliGe3xSfuWSCL9wJuu3H2LxOA_93Cb43c8hStwljftK6qGu2zecg6WbBuEaUI8W8CATUQIqW0CnE5mF9G9w2jIaDiGXlIUK3RzxrG0xvtb4rDUvlmqGtiTl0932XH-aiJjXvEkEWRKJTlw37zuk.bcl4s5DZp-VhbzA_qnvDQ7SEvPEpQ50DR0NxtjZr_04&dib_tag=se&keywords=gitar&qid=1713778093&sprefix=gitar%2Caps%2C376&sr=8-55', 'https://www.amazon.in/Kadence-A281BK-Professional-Acoustic-Rosewood/dp/B0CD7D6C6R/ref=sr_1_56?crid=J2T429VLPU32&dib=eyJ2IjoiMSJ9.yMNWF0-ZbwuOEjMTW7AEIy-7cwmFzGIQSCMC8z4mYkiVJ0Q8PniDU9qCdaXZ8tskLJSjvtRT4fqk_HiRdcD3jN1e42deR3gi94NTNb95Qhx-y1hYK88UG6pWDbrstVpqFSJxkpIN84I0A5dW4NqfAJWvliGe3xSfuWSCL9wJuu3H2LxOA_93Cb43c8hStwljftK6qGu2zecg6WbBuEaUI8W8CATUQIqW0CnE5mF9G9w2jIaDiGXlIUK3RzxrG0xvtb4rDUvlmqGtiTl0932XH-aiJjXvEkEWRKJTlw37zuk.bcl4s5DZp-VhbzA_qnvDQ7SEvPEpQ50DR0NxtjZr_04&dib_tag=se&keywords=gitar&qid=1713778093&sprefix=gitar%2Caps%2C376&sr=8-56', 'https://www.amazon.in/sspa/click?ie=UTF8&spc=MTo1NzY2ODIwNjU4NDA3MTEyOjE3MTM3NzgwOTM6c3BfYnRmOjMwMDE0MTc5MzY3NTMzMjo6MDo6&url=%2FGuitar-Tailpiece-Guitars-Bridge-Replacement%2Fdp%2FB0BWYSZW1Y%2Fref%3Dsr_1_57_sspa%3Fcrid%3DJ2T429VLPU32%26dib%3DeyJ2IjoiMSJ9.yMNWF0-ZbwuOEjMTW7AEIy-7cwmFzGIQSCMC8z4mYkiVJ0Q8PniDU9qCdaXZ8tskLJSjvtRT4fqk_HiRdcD3jN1e42deR3gi94NTNb95Qhx-y1hYK88UG6pWDbrstVpqFSJxkpIN84I0A5dW4NqfAJWvliGe3xSfuWSCL9wJuu3H2LxOA_93Cb43c8hStwljftK6qGu2zecg6WbBuEaUI8W8CATUQIqW0CnE5mF9G9w2jIaDiGXlIUK3RzxrG0xvtb4rDUvlmqGtiTl0932XH-aiJjXvEkEWRKJTlw37zuk.bcl4s5DZp-VhbzA_qnvDQ7SEvPEpQ50DR0NxtjZr_04%26dib_tag%3Dse%26keywords%3Dgitar%26qid%3D1713778093%26sprefix%3Dgitar%252Caps%252C376%26sr%3D8-57-spons%26sp_csd%3Dd2lkZ2V0TmFtZT1zcF9idGY%26psc%3D1', 'https://www.amazon.in/sspa/click?ie=UTF8&spc=MTo1NzY2ODIwNjU4NDA3MTEyOjE3MTM3NzgwOTM6c3BfYnRmOjMwMDE1MTQ1NDkxODkzMjo6MDo6&url=%2FSG-Musical-Anti-Slip-Accessories-Frame%2Fdp%2FB0BG5HYYQL%2Fref%3Dsr_1_58_sspa%3Fcrid%3DJ2T429VLPU32%26dib%3DeyJ2IjoiMSJ9.yMNWF0-ZbwuOEjMTW7AEIy-7cwmFzGIQSCMC8z4mYkiVJ0Q8PniDU9qCdaXZ8tskLJSjvtRT4fqk_HiRdcD3jN1e42deR3gi94NTNb95Qhx-y1hYK88UG6pWDbrstVpqFSJxkpIN84I0A5dW4NqfAJWvliGe3xSfuWSCL9wJuu3H2LxOA_93Cb43c8hStwljftK6qGu2zecg6WbBuEaUI8W8CATUQIqW0CnE5mF9G9w2jIaDiGXlIUK3RzxrG0xvtb4rDUvlmqGtiTl0932XH-aiJjXvEkEWRKJTlw37zuk.bcl4s5DZp-VhbzA_qnvDQ7SEvPEpQ50DR0NxtjZr_04%26dib_tag%3Dse%26keywords%3Dgitar%26qid%3D1713778093%26sprefix%3Dgitar%252Caps%252C376%26sr%3D8-58-spons%26sp_csd%3Dd2lkZ2V0TmFtZT1zcF9idGY%26psc%3D1', 'https://www.amazon.in/sspa/click?ie=UTF8&spc=MTo1NzY2ODIwNjU4NDA3MTEyOjE3MTM3NzgwOTM6c3BfYnRmOjMwMDE0NTc0NjU3MTQzMjo6MDo6&url=%2FSG-Musical-Guitar-silicon-fingers%2Fdp%2FB0BD4B826N%2Fref%3Dsr_1_59_sspa%3Fcrid%3DJ2T429VLPU32%26dib%3DeyJ2IjoiMSJ9.yMNWF0-ZbwuOEjMTW7AEIy-7cwmFzGIQSCMC8z4mYkiVJ0Q8PniDU9qCdaXZ8tskLJSjvtRT4fqk_HiRdcD3jN1e42deR3gi94NTNb95Qhx-y1hYK88UG6pWDbrstVpqFSJxkpIN84I0A5dW4NqfAJWvliGe3xSfuWSCL9wJuu3H2LxOA_93Cb43c8hStwljftK6qGu2zecg6WbBuEaUI8W8CATUQIqW0CnE5mF9G9w2jIaDiGXlIUK3RzxrG0xvtb4rDUvlmqGtiTl0932XH-aiJjXvEkEWRKJTlw37zuk.bcl4s5DZp-VhbzA_qnvDQ7SEvPEpQ50DR0NxtjZr_04%26dib_tag%3Dse%26keywords%3Dgitar%26qid%3D1713778093%26sprefix%3Dgitar%252Caps%252C376%26sr%3D8-59-spons%26sp_csd%3Dd2lkZ2V0TmFtZT1zcF9idGY%26psc%3D1', 'https://www.amazon.in/sspa/click?ie=UTF8&spc=MTo1NzY2ODIwNjU4NDA3MTEyOjE3MTM3NzgwOTM6c3BfYnRmOjMwMDE1MTQ1NDkxODgzMjo6MDo6&url=%2FSG-Musical-Metal-Guitar-Universal%2Fdp%2FB0BG5M472T%2Fref%3Dsr_1_60_sspa%3Fcrid%3DJ2T429VLPU32%26dib%3DeyJ2IjoiMSJ9.yMNWF0-ZbwuOEjMTW7AEIy-7cwmFzGIQSCMC8z4mYkiVJ0Q8PniDU9qCdaXZ8tskLJSjvtRT4fqk_HiRdcD3jN1e42deR3gi94NTNb95Qhx-y1hYK88UG6pWDbrstVpqFSJxkpIN84I0A5dW4NqfAJWvliGe3xSfuWSCL9wJuu3H2LxOA_93Cb43c8hStwljftK6qGu2zecg6WbBuEaUI8W8CATUQIqW0CnE5mF9G9w2jIaDiGXlIUK3RzxrG0xvtb4rDUvlmqGtiTl0932XH-aiJjXvEkEWRKJTlw37zuk.bcl4s5DZp-VhbzA_qnvDQ7SEvPEpQ50DR0NxtjZr_04%26dib_tag%3Dse%26keywords%3Dgitar%26qid%3D1713778093%26sprefix%3Dgitar%252Caps%252C376%26sr%3D8-60-spons%26sp_csd%3Dd2lkZ2V0TmFtZT1zcF9idGY%26psc%3D1']\n"
     ]
    }
   ],
   "source": [
    "prod_urls = []\n",
    "start = 0\n",
    "end = 3\n",
    "for page in range(start,end):\n",
    "    url = driver.find_elements(By.XPATH,'//*[@class=\"a-link-normal s-underline-text s-underline-link-text s-link-style a-text-normal\"]')\n",
    "    for i in url:\n",
    "          prod_urls.append(i.get_attribute(\"href\"))\n",
    "    print(prod_urls)\n",
    "    # Wait for the results to load  #class=\"a-color-base a-text-bold\"\n",
    "#wait = WebDriverWait(driver, 10)\n",
    "#url = wait.until(EC.presence_of_all_elements_located((By.XPATH, '\"]'))) #[class=\"a-price-whole\"]\n",
    "#for urls in url:\n",
    "#urls = urls.text.strip()\n",
    "#URL_details.append(Expectd_delivery)\n",
    "    \n",
    "#print(URL_details)"
   ]
  },
  {
   "cell_type": "code",
   "execution_count": 33,
   "id": "4f72ea4a",
   "metadata": {},
   "outputs": [
    {
     "name": "stdout",
     "output_type": "stream",
     "text": [
      "180 180 186 180 180\n"
     ]
    }
   ],
   "source": [
    "print(len(Brand_names),len(Prod_details),len(Price_details),len(Expectd_delivery_details),len(prod_urls))"
   ]
  },
  {
   "cell_type": "code",
   "execution_count": 36,
   "id": "4d197a9d",
   "metadata": {},
   "outputs": [
    {
     "name": "stdout",
     "output_type": "stream",
     "text": [
      "    Brand_names                                       Prod_details  \\\n",
      "0       Kadence  rosewoodGuitarFrontierSeries_ElectricAcousticB...   \n",
      "1        Henrix  38C38InchCutawayAcousticGuitarWithDualActionTr...   \n",
      "2       Kadence  FrontierguitarwithOnlineGuitarlearningcourse_W...   \n",
      "3       Kadence  A281ProfessionalAcousticRosewoodguitar(Natural...   \n",
      "4        Juârez  LindenwoodAcousticGuitar_38InchesCutaway_JRZ38...   \n",
      "..          ...                                                ...   \n",
      "181           -                                                  -   \n",
      "182           -                                                  -   \n",
      "183           -                                                  -   \n",
      "184           -                                                  -   \n",
      "185           -                                                  -   \n",
      "\n",
      "    Expectd_delivery_details Price_details  \\\n",
      "0         Tomorrow, 23 April         9,999   \n",
      "1          Thursday 25 April         9,999   \n",
      "2          Thursday 25 April         4,899   \n",
      "3         Tomorrow, 23 April         3,199   \n",
      "4          Thursday 25 April         4,799   \n",
      "..                       ...           ...   \n",
      "181                        -         6,499   \n",
      "182                        -         1,399   \n",
      "183                        -           549   \n",
      "184                        -           319   \n",
      "185                        -           599   \n",
      "\n",
      "                                             prod_urls  \n",
      "0    https://www.amazon.in/sspa/click?ie=UTF8&spc=M...  \n",
      "1    https://www.amazon.in/sspa/click?ie=UTF8&spc=M...  \n",
      "2    https://www.amazon.in/sspa/click?ie=UTF8&spc=M...  \n",
      "3    https://www.amazon.in/sspa/click?ie=UTF8&spc=M...  \n",
      "4    https://www.amazon.in/JUAREZ-JRZ38C-Handed-Aco...  \n",
      "..                                                 ...  \n",
      "181                                                  _  \n",
      "182                                                  _  \n",
      "183                                                  _  \n",
      "184                                                  _  \n",
      "185                                                  _  \n",
      "\n",
      "[186 rows x 5 columns]\n"
     ]
    }
   ],
   "source": [
    "import pandas as pd\n",
    "\n",
    "max_length = max(len(Brand_names), len(Prod_details),len(Price_details), len(Expectd_delivery_details))\n",
    "\n",
    "#Fill missing values with placeholder '-' and ensure all arrays have the same length\n",
    "Brand_names_filled = Brand_names + ['-'] * (max_length - len(Brand_names))\n",
    "Prod_details_filled = Prod_details + ['-'] * (max_length - len(Prod_details))\n",
    "Price_details_filled = Price_details + ['-'] * (max_length - len(Price_details))\n",
    "Expectd_delivery_details_filled = Expectd_delivery_details + ['-'] * (max_length - len(Expectd_delivery_details))\n",
    "prod_urls_filled = prod_urls + ['_'] * (max_length - len(prod_urls))\n",
    "\n",
    "df_amazonProd = pd.DataFrame({\n",
    "    'Brand_names': Brand_names_filled,\n",
    "    'Prod_details': Prod_details_filled,\n",
    "    'Expectd_delivery_details': Expectd_delivery_details_filled,\n",
    "    'Price_details':Price_details_filled,\n",
    "    'prod_urls' :prod_urls_filled\n",
    "})\n",
    "\n",
    "print(df_amazonProd)\n"
   ]
  },
  {
   "cell_type": "code",
   "execution_count": 37,
   "id": "e68df04b",
   "metadata": {},
   "outputs": [
    {
     "data": {
      "text/html": [
       "<div>\n",
       "<style scoped>\n",
       "    .dataframe tbody tr th:only-of-type {\n",
       "        vertical-align: middle;\n",
       "    }\n",
       "\n",
       "    .dataframe tbody tr th {\n",
       "        vertical-align: top;\n",
       "    }\n",
       "\n",
       "    .dataframe thead th {\n",
       "        text-align: right;\n",
       "    }\n",
       "</style>\n",
       "<table border=\"1\" class=\"dataframe\">\n",
       "  <thead>\n",
       "    <tr style=\"text-align: right;\">\n",
       "      <th></th>\n",
       "      <th>Brand_names</th>\n",
       "      <th>Prod_details</th>\n",
       "      <th>Expectd_delivery_details</th>\n",
       "      <th>Price_details</th>\n",
       "      <th>prod_urls</th>\n",
       "    </tr>\n",
       "  </thead>\n",
       "  <tbody>\n",
       "    <tr>\n",
       "      <th>0</th>\n",
       "      <td>Kadence</td>\n",
       "      <td>rosewoodGuitarFrontierSeries_ElectricAcousticB...</td>\n",
       "      <td>Tomorrow, 23 April</td>\n",
       "      <td>9,999</td>\n",
       "      <td>https://www.amazon.in/sspa/click?ie=UTF8&amp;spc=M...</td>\n",
       "    </tr>\n",
       "    <tr>\n",
       "      <th>1</th>\n",
       "      <td>Henrix</td>\n",
       "      <td>38C38InchCutawayAcousticGuitarWithDualActionTr...</td>\n",
       "      <td>Thursday 25 April</td>\n",
       "      <td>9,999</td>\n",
       "      <td>https://www.amazon.in/sspa/click?ie=UTF8&amp;spc=M...</td>\n",
       "    </tr>\n",
       "    <tr>\n",
       "      <th>2</th>\n",
       "      <td>Kadence</td>\n",
       "      <td>FrontierguitarwithOnlineGuitarlearningcourse_W...</td>\n",
       "      <td>Thursday 25 April</td>\n",
       "      <td>4,899</td>\n",
       "      <td>https://www.amazon.in/sspa/click?ie=UTF8&amp;spc=M...</td>\n",
       "    </tr>\n",
       "    <tr>\n",
       "      <th>3</th>\n",
       "      <td>Kadence</td>\n",
       "      <td>A281ProfessionalAcousticRosewoodguitar(Natural...</td>\n",
       "      <td>Tomorrow, 23 April</td>\n",
       "      <td>3,199</td>\n",
       "      <td>https://www.amazon.in/sspa/click?ie=UTF8&amp;spc=M...</td>\n",
       "    </tr>\n",
       "    <tr>\n",
       "      <th>4</th>\n",
       "      <td>Juârez</td>\n",
       "      <td>LindenwoodAcousticGuitar_38InchesCutaway_JRZ38...</td>\n",
       "      <td>Thursday 25 April</td>\n",
       "      <td>4,799</td>\n",
       "      <td>https://www.amazon.in/JUAREZ-JRZ38C-Handed-Aco...</td>\n",
       "    </tr>\n",
       "  </tbody>\n",
       "</table>\n",
       "</div>"
      ],
      "text/plain": [
       "  Brand_names                                       Prod_details  \\\n",
       "0     Kadence  rosewoodGuitarFrontierSeries_ElectricAcousticB...   \n",
       "1      Henrix  38C38InchCutawayAcousticGuitarWithDualActionTr...   \n",
       "2     Kadence  FrontierguitarwithOnlineGuitarlearningcourse_W...   \n",
       "3     Kadence  A281ProfessionalAcousticRosewoodguitar(Natural...   \n",
       "4      Juârez  LindenwoodAcousticGuitar_38InchesCutaway_JRZ38...   \n",
       "\n",
       "  Expectd_delivery_details Price_details  \\\n",
       "0       Tomorrow, 23 April         9,999   \n",
       "1        Thursday 25 April         9,999   \n",
       "2        Thursday 25 April         4,899   \n",
       "3       Tomorrow, 23 April         3,199   \n",
       "4        Thursday 25 April         4,799   \n",
       "\n",
       "                                           prod_urls  \n",
       "0  https://www.amazon.in/sspa/click?ie=UTF8&spc=M...  \n",
       "1  https://www.amazon.in/sspa/click?ie=UTF8&spc=M...  \n",
       "2  https://www.amazon.in/sspa/click?ie=UTF8&spc=M...  \n",
       "3  https://www.amazon.in/sspa/click?ie=UTF8&spc=M...  \n",
       "4  https://www.amazon.in/JUAREZ-JRZ38C-Handed-Aco...  "
      ]
     },
     "execution_count": 37,
     "metadata": {},
     "output_type": "execute_result"
    }
   ],
   "source": [
    "df_amazonProd.head(5)"
   ]
  },
  {
   "cell_type": "markdown",
   "id": "36cc4624",
   "metadata": {},
   "source": [
    "#Quest3 :  Write a python program to access the search bar and search button on images.google.com and download 10 images each for keywords ‘fruits’, ‘cars’ and ‘Machine Learning’, ‘Guitar’, ‘Cakes’. \n"
   ]
  },
  {
   "cell_type": "code",
   "execution_count": 9,
   "id": "ddb1e64b",
   "metadata": {},
   "outputs": [],
   "source": [
    "import os\n",
    "\n",
    "#importing the required libries\n",
    "import sys\n",
    "from bs4 import BeautifulSoup\n",
    "import requests\n",
    "from selenium import webdriver\n",
    "from selenium.webdriver.common.by import By\n",
    "from selenium.webdriver.support.ui import WebDriverWait\n",
    "from selenium.webdriver.support import expected_conditions as EC\n",
    "import time\n",
    "import pandas as pd\n",
    "import os\n",
    "\n",
    "\n",
    "chrome_options = webdriver.ChromeOptions()\n",
    "chrome_options.add_argument('--headless')\n",
    "chrome_options.add_argument('--no-sandbox')\n",
    "chrome_options.add_argument('--disable-dev-shm-usage')"
   ]
  },
  {
   "cell_type": "code",
   "execution_count": 10,
   "id": "a206d260",
   "metadata": {},
   "outputs": [],
   "source": [
    "chrome_driver_path = 'C:/Users/nallag/source/Student/DATAScience_DOC/studocu_doc/chromedriver_win32/chromedriver.exe'\n",
    "#print(type(driver))"
   ]
  },
  {
   "cell_type": "code",
   "execution_count": 11,
   "id": "230eed23",
   "metadata": {},
   "outputs": [],
   "source": [
    "driver = webdriver.Chrome(options=chrome_options)"
   ]
  },
  {
   "cell_type": "code",
   "execution_count": 12,
   "id": "bb6b4093",
   "metadata": {},
   "outputs": [
    {
     "name": "stdout",
     "output_type": "stream",
     "text": [
      "Page Title Google Images\n"
     ]
    }
   ],
   "source": [
    "url = 'https://images.google.com/'\n",
    "driver.get(url)\n",
    "print(\"Page Title\",driver.title)"
   ]
  },
  {
   "cell_type": "code",
   "execution_count": null,
   "id": "929ea219",
   "metadata": {},
   "outputs": [],
   "source": []
  },
  {
   "cell_type": "code",
   "execution_count": 62,
   "id": "f0a62717",
   "metadata": {},
   "outputs": [],
   "source": [
    "import os\n",
    "\n",
    "driver = webdriver.Chrome()\n",
    "\n",
    "# Open images.google.com\n",
    "driver.get(\"https://images.google.com/\")\n",
    "\n",
    "keywords = ['Fruits', 'Cars', 'Guitar', 'Machine Learning', 'Cake']\n",
    "\n",
    "for keyword in keywords:\n",
    "    # Create a directory for the current keyword\n",
    "    directory = f\"{keyword}_images\"\n",
    "    if not os.path.exists(directory):\n",
    "        os.makedirs(directory)\n",
    "    \n",
    "    search_box = driver.find_element(By.XPATH, '//*[@id=\"APjFqb\"]')\n",
    "    search_box.clear()\n",
    "    search_box.send_keys(keyword)  \n",
    "\n",
    "    time.sleep(5) \n",
    "\n",
    "    # Find the search button and click it\n",
    "    search_button = driver.find_element(By.XPATH, '//*[@class=\"z1asCe MZy1Rb\"]')\n",
    "    driver.execute_script(\"arguments[0].click();\", search_button)\n",
    "    \n",
    "    # Scroll down to load more images\n",
    "    for _ in range(20):\n",
    "        driver.execute_script(\"window.scrollBy(0,500)\")\n",
    "    \n",
    "    img_urls = []\n",
    "    \n",
    "    images = driver.find_elements(By.XPATH,'//img[@class=\"rg_i Q4LuWd\"]')\n",
    "    for i, image in enumerate(images):\n",
    "        source = image.get_attribute('src')                     \n",
    "        if source is not None and source.startswith('http'):\n",
    "            img_urls.append(source)\n",
    "    \n",
    "    for i in range(min(10, len(img_urls))):\n",
    "        print(\"Downloading {0} of {1} images\".format(i + 1, min(10, len(img_urls))))\n",
    "        try:\n",
    "            response = requests.get(img_urls[i])\n",
    "            if response.status_code == 200:\n",
    "                with open(f\"{directory}/{keyword}_image_{i+1}.jpg\", \"wb\") as file:\n",
    "                    file.write(response.content)\n",
    "                print(f\"Image {i+1} downloaded successfully!\")\n",
    "            else:\n",
    "                print(f\"Failed to download image {i+1}: {response.status_code}\")\n",
    "        except Exception as e:\n",
    "            print(f\"Error downloading image {i+1}: {e}\")\n",
    "\n",
    "driver.quit()\n"
   ]
  },
  {
   "cell_type": "code",
   "execution_count": 50,
   "id": "7529da62",
   "metadata": {},
   "outputs": [],
   "source": []
  },
  {
   "cell_type": "code",
   "execution_count": 37,
   "id": "ac84b00e",
   "metadata": {},
   "outputs": [],
   "source": [
    "# question 3 is not at completed ."
   ]
  },
  {
   "cell_type": "markdown",
   "id": "8f9a39bd",
   "metadata": {},
   "source": [
    "# Quest 4:  Write a python program to search for a smartphone(e.g.: Oneplus Nord, pixel 4A, etc.) on www.flipkart.com and scrape following details for all the search results displayed on 1st page. Details to be scraped: “Brand Name”, “Smartphone name”, “Colour”, “RAM”, “Storage(ROM)”, “Primary Camera”, “Secondary Camera”, “Display Size”, “Battery Capacity”, “Price”, “Product URL”. Incase if any of the details is missing then replace it by “- “. Save your results in a dataframe and CSV. \n",
    "   \n"
   ]
  },
  {
   "cell_type": "code",
   "execution_count": 75,
   "id": "44f932cd",
   "metadata": {},
   "outputs": [],
   "source": [
    "#importing the required libries\n",
    "import sys\n",
    "from bs4 import BeautifulSoup\n",
    "import requests\n",
    "from selenium import webdriver\n",
    "from selenium.webdriver.common.by import By\n",
    "\n",
    "\n",
    "chrome_options = webdriver.ChromeOptions()\n",
    "chrome_options.add_argument('--headless')\n",
    "chrome_options.add_argument('--no-sandbox')\n",
    "chrome_options.add_argument('--disable-dev-shm-usage')"
   ]
  },
  {
   "cell_type": "code",
   "execution_count": 76,
   "id": "8cf419b0",
   "metadata": {},
   "outputs": [],
   "source": [
    "chrome_driver_path = 'C:/Users/nallag/source/Student/DATAScience_DOC/studocu_doc/chromedriver_win32/chromedriver.exe'\n",
    "#print(type(driver))"
   ]
  },
  {
   "cell_type": "code",
   "execution_count": 77,
   "id": "5206f409",
   "metadata": {},
   "outputs": [],
   "source": [
    "driver = webdriver.Chrome(options=chrome_options)"
   ]
  },
  {
   "cell_type": "code",
   "execution_count": 78,
   "id": "8d3dba1c",
   "metadata": {},
   "outputs": [
    {
     "name": "stdout",
     "output_type": "stream",
     "text": [
      "Page Title Online Shopping Site for Mobiles, Electronics, Furniture, Grocery, Lifestyle, Books & More. Best Offers!\n"
     ]
    }
   ],
   "source": [
    "flipkart_url = 'https://www.flipkart.com/'\n",
    "response = requests.get(flipkart_url)\n",
    "response\n",
    "driver.get(flipkart_url)\n",
    "print(\"Page Title\",driver.title)"
   ]
  },
  {
   "cell_type": "code",
   "execution_count": 79,
   "id": "5ef4803f",
   "metadata": {},
   "outputs": [
    {
     "name": "stdout",
     "output_type": "stream",
     "text": [
      "['vivo', 'Motorola', 'Motorola', 'POCO', 'Motorola', 'Apple', 'MOTOROLA', 'REDMI', 'POCO', 'MOTOROLA', 'POCO', 'OnePlus', 'MOTOROLA', 'Motorola', 'MOTOROLA', 'OnePlus', 'Motorola', 'REDMI', 'POCO', 'POCO', 'SAMSUNG', 'MOTOROLA', 'REDMI', 'Motorola']\n"
     ]
    }
   ],
   "source": [
    "# Find the search box and enter the product name\n",
    "search_box = driver.find_element(By.XPATH, '//*[@class=\"Pke_EE\"]')\n",
    "search_box.send_keys(\"smart phone\")  # For testing, replace with user input\n",
    "\n",
    "# Find the search button and click it\n",
    "search_button = driver.find_element(By.XPATH, '//*[@class=\"_2iLD__\"]')\n",
    "driver.execute_script(\"arguments[0].click();\", search_button)\n",
    "\n",
    "driver.implicitly_wait(5)\n",
    "\n",
    "Brand_names = []\n",
    "Product_details = []\n",
    "product_urls = []\n",
    "# Wait for the results to load\n",
    "wait = WebDriverWait(driver, 10)\n",
    "product_details = wait.until(EC.presence_of_all_elements_located((By.XPATH, '//*[@class=\"KzDlHZ\"]')))\n",
    "for product in product_details:\n",
    "    product_text = product.text.strip()\n",
    "    if product_text:\n",
    "        Brand_name = product_text.split()[0].strip()\n",
    "        Brand_names.append(Brand_name)\n",
    "    #product_url = product_details.get_attribute(\"href\")\n",
    "    #product_urls.append(product_url)\n",
    "    \n",
    "print(Brand_names)"
   ]
  },
  {
   "cell_type": "code",
   "execution_count": null,
   "id": "2166d82b",
   "metadata": {},
   "outputs": [],
   "source": []
  },
  {
   "cell_type": "code",
   "execution_count": 80,
   "id": "fb10f4d5",
   "metadata": {},
   "outputs": [
    {
     "name": "stdout",
     "output_type": "stream",
     "text": [
      "['T3x5G(CrimsonBliss_128GB)', 'G345G(OceanGreen_128GB)', 'G345G(CharcoalBlack_128GB)', 'C51-LockedwithAirtelPrepaid(PowerBlack_64GB)', 'G345G(IceBlue_128GB)', 'iPhone15(Black_128GB)', 'g24Power(Inkblue_128GB)', '13C(StarshineGreen_128GB)', 'M6Pro5G(ForestGreen_128GB)', 'g24Power(Inkblue_128GB)', 'C65(PastelBlue_128GB)', 'NordCE3Lite5G(ChromaticGray_256GB)', 'G04(SeaGreen_64GB)', 'Edge40Neo(BlackBeauty_256GB)', 'g24Power(GlacierBlue_128GB)', 'NordCE3Lite5G(ChromaticGray_128GB)', 'Edge40Neo(CaneelBay_256GB)', '13C(StarfrostWhite_128GB)', 'C65(PastelBlue_128GB)', 'M6Pro5G(PowerBlack_128GB)', 'GalaxyF145G(B.A.E.Purple_128GB)', 'G04(SatinBlue_64GB)', '13C(StardustBlack_128GB)', 'Edge50Pro5Gwith68WCharger(LuxeLavender_256GB)']\n"
     ]
    }
   ],
   "source": [
    "Prod_details = []\n",
    "# Wait for the results to load\n",
    "wait = WebDriverWait(driver, 10)\n",
    "product_details = wait.until(EC.presence_of_all_elements_located((By.XPATH, '//*[@class=\"KzDlHZ\"]')))\n",
    "for product in product_details:\n",
    "    Prod_detail = product.text\n",
    "    Prod_details_1 = Prod_detail.split()[1:]\n",
    "    Prod_details_1 = ''.join(component.replace(',', '_') for component in Prod_details_1 )\n",
    "    Prod_details.append(Prod_details_1)\n",
    "    \n",
    "print(Prod_details)"
   ]
  },
  {
   "cell_type": "code",
   "execution_count": 81,
   "id": "d127d907",
   "metadata": {},
   "outputs": [
    {
     "name": "stdout",
     "output_type": "stream",
     "text": [
      "['Crimson Bliss', 'Ocean Green', 'Charcoal Black', 'Power Black', 'Ice Blue', 'Black', 'Ink blue', 'Starshine Green', 'Forest Green', 'Ink blue', 'Pastel Blue', 'Chromatic Gray', 'Sea Green', 'Black Beauty', 'Glacier Blue', 'Chromatic Gray', 'Caneel Bay', 'Starfrost White', 'Pastel Blue', 'Power Black', 'B.A.E. Purple', 'Satin Blue', 'Stardust Black', 'Luxe Lavender']\n"
     ]
    }
   ],
   "source": [
    "import re\n",
    "Color_details = []\n",
    "# Wait for the results to load\n",
    "wait = WebDriverWait(driver, 10)\n",
    "\n",
    "colors_elements = wait.until(EC.presence_of_all_elements_located((By.XPATH, '//*[@class=\"KzDlHZ\"]')))\n",
    "for colors_element in colors_elements:\n",
    "    colors_text = colors_element.text\n",
    "    #pattern = r'\\((.*?)\\,'\n",
    "    matches = re.findall(r'\\((.*?)\\,' ,colors_text)\n",
    "    if matches:\n",
    "        for match in matches:\n",
    "            color_name = match.strip()\n",
    "    #print(color_name)\n",
    "    #Prod_details_1 = Prod_detail.split()[1:]\n",
    "    #Prod_details_1 = ''.join(component.replace(',', '_') for component in Prod_details_1 )\n",
    "            Color_details.append(color_name)\n",
    "    \n",
    "print(Color_details)"
   ]
  },
  {
   "cell_type": "code",
   "execution_count": 82,
   "id": "b5120fa6",
   "metadata": {},
   "outputs": [
    {
     "name": "stdout",
     "output_type": "stream",
     "text": [
      "['6 GB RAM', '50MP + 2MP', '8 GB RAM', '50MP + 2MP', '8 GB RAM', '50MP + 2MP', '4 GB RAM', '8MP Dual Rear Camera', '8 GB RAM', '50MP + 2MP', '48MP + 12MP', '4 GB RAM', '50MP + 2MP', '4 GB RAM', '50MP Rear Camera', '6 GB RAM', '50MP + 2MP', '8 GB RAM', '50MP + 2MP', '6 GB RAM', '50MP + AI Lens + 2MP', '8 GB RAM', '4 GB RAM', '16MP Rear Camera', '12 GB RAM', '50MP + 13MP', '8 GB RAM', '50MP + 2MP', '8 GB RAM', '12 GB RAM', '50MP + 13MP', '4 GB RAM', '50MP Rear Camera', '4 GB RAM', '50MP + AI Lens + 2MP', '6 GB RAM', '50MP + 2MP', '6 GB RAM', '50MP + 2MP', '4 GB RAM', '16MP Rear Camera', '4 GB RAM', '50MP Rear Camera', '8 GB RAM', '50MP + 13MP + 10MP']\n"
     ]
    }
   ],
   "source": [
    "RAM_ROM_CAMERA_details = []\n",
    "# Wait for the results to load\n",
    "wait = WebDriverWait(driver, 10)\n",
    "RAM_D = wait.until(EC.presence_of_all_elements_located((By.XPATH, '//*[@class=\"J+igdf\"]')))\n",
    "for ram in RAM_D:\n",
    "    #RAM_detail = ram.text.split('|')[:2]\n",
    "    RAM_detail = ram.text\n",
    "    text_find = RAM_detail.find('|')\n",
    "    \n",
    "    if text_find != -1:\n",
    "        ram_name = RAM_detail[:text_find].strip()\n",
    "    #RAM_detail1 = RAM_detail[:2]\n",
    "    #Prod_details_1 = Prod_detail.split()[1:]\n",
    "    #Prod_details_1 = ''.join(component.replace(',', '_') for component in Prod_details_1 )\n",
    "        RAM_ROM_CAMERA_details.append(ram_name)\n",
    "    \n",
    "print(RAM_ROM_CAMERA_details)"
   ]
  },
  {
   "cell_type": "code",
   "execution_count": 83,
   "id": "d7e07874",
   "metadata": {},
   "outputs": [
    {
     "name": "stdout",
     "output_type": "stream",
     "text": [
      "['₹14,999', '₹11,999', '₹11,999', '₹4,999', '₹11,999', '₹65,999', '₹7,999', '₹7,699', '₹10,999', '₹8,999', '₹7,999', '₹19,611', '₹6,999', '₹24,999', '₹8,999', '₹17,721', '₹24,999', '₹7,699', '₹7,299', '₹10,999', '₹10,490', '₹6,999', '₹7,699', '₹31,999']\n"
     ]
    }
   ],
   "source": [
    "Price_details = []\n",
    "# Wait for the results to load\n",
    "wait = WebDriverWait(driver, 10)\n",
    "prices = wait.until(EC.presence_of_all_elements_located((By.XPATH, '//*[@class=\"Nx9bqj _4b5DiR\"]')))\n",
    "for price in prices:\n",
    "    price1 = price.text\n",
    "    #RAM_detail1 = RAM_detail[:2]\n",
    "    #Prod_details_1 = Prod_detail.split()[1:]\n",
    "    #Prod_details_1 = ''.join(component.replace(',', '_') for component in Prod_details_1 )\n",
    "    Price_details.append(price1)\n",
    "    \n",
    "print(Price_details)"
   ]
  },
  {
   "cell_type": "code",
   "execution_count": 84,
   "id": "c908f000",
   "metadata": {},
   "outputs": [
    {
     "name": "stdout",
     "output_type": "stream",
     "text": [
      "24 45 24 24 24\n"
     ]
    }
   ],
   "source": [
    "print(len(Price_details),len(RAM_ROM_CAMERA_details),len(Color_details),len(Prod_details),len(Brand_names))"
   ]
  },
  {
   "cell_type": "code",
   "execution_count": 85,
   "id": "addee0a3",
   "metadata": {},
   "outputs": [
    {
     "name": "stdout",
     "output_type": "stream",
     "text": [
      "   Brand_names                                   Prod_details  \\\n",
      "0         vivo                      T3x5G(CrimsonBliss_128GB)   \n",
      "1     Motorola                        G345G(OceanGreen_128GB)   \n",
      "2     Motorola                     G345G(CharcoalBlack_128GB)   \n",
      "3         POCO   C51-LockedwithAirtelPrepaid(PowerBlack_64GB)   \n",
      "4     Motorola                           G345G(IceBlue_128GB)   \n",
      "5        Apple                          iPhone15(Black_128GB)   \n",
      "6     MOTOROLA                        g24Power(Inkblue_128GB)   \n",
      "7        REDMI                      13C(StarshineGreen_128GB)   \n",
      "8         POCO                     M6Pro5G(ForestGreen_128GB)   \n",
      "9     MOTOROLA                        g24Power(Inkblue_128GB)   \n",
      "10        POCO                          C65(PastelBlue_128GB)   \n",
      "11     OnePlus             NordCE3Lite5G(ChromaticGray_256GB)   \n",
      "12    MOTOROLA                             G04(SeaGreen_64GB)   \n",
      "13    Motorola                   Edge40Neo(BlackBeauty_256GB)   \n",
      "14    MOTOROLA                    g24Power(GlacierBlue_128GB)   \n",
      "15     OnePlus             NordCE3Lite5G(ChromaticGray_128GB)   \n",
      "16    Motorola                     Edge40Neo(CaneelBay_256GB)   \n",
      "17       REDMI                      13C(StarfrostWhite_128GB)   \n",
      "18        POCO                          C65(PastelBlue_128GB)   \n",
      "19        POCO                      M6Pro5G(PowerBlack_128GB)   \n",
      "20     SAMSUNG                GalaxyF145G(B.A.E.Purple_128GB)   \n",
      "21    MOTOROLA                            G04(SatinBlue_64GB)   \n",
      "22       REDMI                       13C(StardustBlack_128GB)   \n",
      "23    Motorola  Edge50Pro5Gwith68WCharger(LuxeLavender_256GB)   \n",
      "24           -                                              -   \n",
      "25           -                                              -   \n",
      "26           -                                              -   \n",
      "27           -                                              -   \n",
      "28           -                                              -   \n",
      "29           -                                              -   \n",
      "30           -                                              -   \n",
      "31           -                                              -   \n",
      "32           -                                              -   \n",
      "33           -                                              -   \n",
      "34           -                                              -   \n",
      "35           -                                              -   \n",
      "36           -                                              -   \n",
      "37           -                                              -   \n",
      "38           -                                              -   \n",
      "39           -                                              -   \n",
      "40           -                                              -   \n",
      "41           -                                              -   \n",
      "42           -                                              -   \n",
      "43           -                                              -   \n",
      "44           -                                              -   \n",
      "\n",
      "   RAM_ROM_CAMERA_details Price_details    Color_details  \n",
      "0                6 GB RAM       ₹14,999    Crimson Bliss  \n",
      "1              50MP + 2MP       ₹11,999      Ocean Green  \n",
      "2                8 GB RAM       ₹11,999   Charcoal Black  \n",
      "3              50MP + 2MP        ₹4,999      Power Black  \n",
      "4                8 GB RAM       ₹11,999         Ice Blue  \n",
      "5              50MP + 2MP       ₹65,999            Black  \n",
      "6                4 GB RAM        ₹7,999         Ink blue  \n",
      "7    8MP Dual Rear Camera        ₹7,699  Starshine Green  \n",
      "8                8 GB RAM       ₹10,999     Forest Green  \n",
      "9              50MP + 2MP        ₹8,999         Ink blue  \n",
      "10            48MP + 12MP        ₹7,999      Pastel Blue  \n",
      "11               4 GB RAM       ₹19,611   Chromatic Gray  \n",
      "12             50MP + 2MP        ₹6,999        Sea Green  \n",
      "13               4 GB RAM       ₹24,999     Black Beauty  \n",
      "14       50MP Rear Camera        ₹8,999     Glacier Blue  \n",
      "15               6 GB RAM       ₹17,721   Chromatic Gray  \n",
      "16             50MP + 2MP       ₹24,999       Caneel Bay  \n",
      "17               8 GB RAM        ₹7,699  Starfrost White  \n",
      "18             50MP + 2MP        ₹7,299      Pastel Blue  \n",
      "19               6 GB RAM       ₹10,999      Power Black  \n",
      "20   50MP + AI Lens + 2MP       ₹10,490    B.A.E. Purple  \n",
      "21               8 GB RAM        ₹6,999       Satin Blue  \n",
      "22               4 GB RAM        ₹7,699   Stardust Black  \n",
      "23       16MP Rear Camera       ₹31,999    Luxe Lavender  \n",
      "24              12 GB RAM             -                -  \n",
      "25            50MP + 13MP             -                -  \n",
      "26               8 GB RAM             -                -  \n",
      "27             50MP + 2MP             -                -  \n",
      "28               8 GB RAM             -                -  \n",
      "29              12 GB RAM             -                -  \n",
      "30            50MP + 13MP             -                -  \n",
      "31               4 GB RAM             -                -  \n",
      "32       50MP Rear Camera             -                -  \n",
      "33               4 GB RAM             -                -  \n",
      "34   50MP + AI Lens + 2MP             -                -  \n",
      "35               6 GB RAM             -                -  \n",
      "36             50MP + 2MP             -                -  \n",
      "37               6 GB RAM             -                -  \n",
      "38             50MP + 2MP             -                -  \n",
      "39               4 GB RAM             -                -  \n",
      "40       16MP Rear Camera             -                -  \n",
      "41               4 GB RAM             -                -  \n",
      "42       50MP Rear Camera             -                -  \n",
      "43               8 GB RAM             -                -  \n",
      "44     50MP + 13MP + 10MP             -                -  \n"
     ]
    }
   ],
   "source": [
    "import pandas as pd\n",
    "\n",
    "max_length = max(len(Brand_names), len(Prod_details),len(Price_details), len(RAM_ROM_CAMERA_details),len(Color_details))\n",
    "#Fill missing values with placeholder '-' and ensure all arrays have the same length\n",
    "Brand_names_filled = Brand_names + ['-'] * (max_length - len(Brand_names))\n",
    "Prod_details_filled = Prod_details + ['-'] * (max_length - len(Prod_details))\n",
    "Price_details_filled = Price_details + ['-'] * (max_length - len(Price_details))\n",
    "RAM_ROM_CAMERA_details_filled = RAM_ROM_CAMERA_details + ['-'] * (max_length - len(RAM_ROM_CAMERA_details))\n",
    "Color_details_filled = Color_details + ['-'] * (max_length - len(Color_details))\n",
    "\n",
    "df_smartphone = pd.DataFrame({\n",
    "    'Brand_names': Brand_names_filled,\n",
    "    'Prod_details': Prod_details_filled,\n",
    "    'RAM_ROM_CAMERA_details': RAM_ROM_CAMERA_details_filled,\n",
    "    'Price_details':Price_details_filled,\n",
    "    'Color_details': Color_details_filled\n",
    "    \n",
    "})\n",
    "\n",
    "print(df_smartphone)"
   ]
  },
  {
   "cell_type": "code",
   "execution_count": 86,
   "id": "3dd04fdb",
   "metadata": {},
   "outputs": [
    {
     "data": {
      "text/html": [
       "<div>\n",
       "<style scoped>\n",
       "    .dataframe tbody tr th:only-of-type {\n",
       "        vertical-align: middle;\n",
       "    }\n",
       "\n",
       "    .dataframe tbody tr th {\n",
       "        vertical-align: top;\n",
       "    }\n",
       "\n",
       "    .dataframe thead th {\n",
       "        text-align: right;\n",
       "    }\n",
       "</style>\n",
       "<table border=\"1\" class=\"dataframe\">\n",
       "  <thead>\n",
       "    <tr style=\"text-align: right;\">\n",
       "      <th></th>\n",
       "      <th>Brand_names</th>\n",
       "      <th>Prod_details</th>\n",
       "      <th>RAM_ROM_CAMERA_details</th>\n",
       "      <th>Price_details</th>\n",
       "      <th>Color_details</th>\n",
       "    </tr>\n",
       "  </thead>\n",
       "  <tbody>\n",
       "    <tr>\n",
       "      <th>0</th>\n",
       "      <td>vivo</td>\n",
       "      <td>T3x5G(CrimsonBliss_128GB)</td>\n",
       "      <td>6 GB RAM</td>\n",
       "      <td>₹14,999</td>\n",
       "      <td>Crimson Bliss</td>\n",
       "    </tr>\n",
       "    <tr>\n",
       "      <th>1</th>\n",
       "      <td>Motorola</td>\n",
       "      <td>G345G(OceanGreen_128GB)</td>\n",
       "      <td>50MP + 2MP</td>\n",
       "      <td>₹11,999</td>\n",
       "      <td>Ocean Green</td>\n",
       "    </tr>\n",
       "    <tr>\n",
       "      <th>2</th>\n",
       "      <td>Motorola</td>\n",
       "      <td>G345G(CharcoalBlack_128GB)</td>\n",
       "      <td>8 GB RAM</td>\n",
       "      <td>₹11,999</td>\n",
       "      <td>Charcoal Black</td>\n",
       "    </tr>\n",
       "    <tr>\n",
       "      <th>3</th>\n",
       "      <td>POCO</td>\n",
       "      <td>C51-LockedwithAirtelPrepaid(PowerBlack_64GB)</td>\n",
       "      <td>50MP + 2MP</td>\n",
       "      <td>₹4,999</td>\n",
       "      <td>Power Black</td>\n",
       "    </tr>\n",
       "    <tr>\n",
       "      <th>4</th>\n",
       "      <td>Motorola</td>\n",
       "      <td>G345G(IceBlue_128GB)</td>\n",
       "      <td>8 GB RAM</td>\n",
       "      <td>₹11,999</td>\n",
       "      <td>Ice Blue</td>\n",
       "    </tr>\n",
       "  </tbody>\n",
       "</table>\n",
       "</div>"
      ],
      "text/plain": [
       "  Brand_names                                  Prod_details  \\\n",
       "0        vivo                     T3x5G(CrimsonBliss_128GB)   \n",
       "1    Motorola                       G345G(OceanGreen_128GB)   \n",
       "2    Motorola                    G345G(CharcoalBlack_128GB)   \n",
       "3        POCO  C51-LockedwithAirtelPrepaid(PowerBlack_64GB)   \n",
       "4    Motorola                          G345G(IceBlue_128GB)   \n",
       "\n",
       "  RAM_ROM_CAMERA_details Price_details   Color_details  \n",
       "0               6 GB RAM       ₹14,999   Crimson Bliss  \n",
       "1             50MP + 2MP       ₹11,999     Ocean Green  \n",
       "2               8 GB RAM       ₹11,999  Charcoal Black  \n",
       "3             50MP + 2MP        ₹4,999     Power Black  \n",
       "4               8 GB RAM       ₹11,999        Ice Blue  "
      ]
     },
     "execution_count": 86,
     "metadata": {},
     "output_type": "execute_result"
    }
   ],
   "source": [
    "df_smartphone.head()"
   ]
  },
  {
   "cell_type": "markdown",
   "id": "8d352937",
   "metadata": {},
   "source": [
    "# Question Completed"
   ]
  },
  {
   "cell_type": "markdown",
   "id": "53dca3f4",
   "metadata": {},
   "source": [
    "#Q5.  Write a program to scrap geospatial coordinates (latitude, longitude) of a city searched on google maps. "
   ]
  },
  {
   "cell_type": "code",
   "execution_count": 1,
   "id": "701fb50b",
   "metadata": {},
   "outputs": [
    {
     "name": "stdout",
     "output_type": "stream",
     "text": [
      "Enter the name of the city: Bangalore\n",
      "URL extracted:'\n",
      "'  https://www.google.com/maps/place/Bengaluru,+Karnataka/@12.9544595,77.3012638,10z/data=!3m1!4b1!4m6!3m5!1s0x3bae1670c9b44e6d:0xf8dfc3e8517e4fe0!8m2!3d12.9715987!4d77.5945627!16zL20vMDljMTc?entry=ttu\n",
      "<re.Match object; span=(55, 86), match='@12.9544595,77.3012638,10z/data'>\n",
      "data : 12.9544595,77.3012638,10z\n",
      "The geospatial coordinates of location @ 'Bangalore are:- Latitude:' 12.9544595, Longitude:' 77.3012638\n"
     ]
    }
   ],
   "source": [
    "from selenium import webdriver\n",
    "from selenium.webdriver.common.by import By\n",
    "from selenium.webdriver.common.keys import Keys\n",
    "import re\n",
    "import time\n",
    "\n",
    "driver = webdriver.Chrome()\n",
    "\n",
    "driver.get(\"https://www.google.com/maps\")\n",
    "\n",
    "city_name = input(\"Enter the name of the city: \")\n",
    "\n",
    "search_box = driver.find_element(By.XPATH, '//*[@id=\"searchboxinput\"]')\n",
    "search_box.clear()  # Clear the search box before typing\n",
    "search_box.send_keys(city_name)\n",
    "search_box.send_keys(Keys.RETURN)  # Press Enter to perform the search\n",
    "time.sleep(10)\n",
    "# Wait for the map to load\n",
    "driver.implicitly_wait(10)\n",
    "\n",
    "#to get Latitude and Longitude values ,we need to scrap the current url and \n",
    "try:\n",
    "    url_string = driver.current_url\n",
    "    print(\"URL extracted:'\\n' \",url_string)\n",
    "    #lat_lng = re.findall(r'@(.*)data',url_string)[0]\n",
    "    match = re.search(f'@(.*?)/data',url_string)\n",
    "    print(match)\n",
    "    \n",
    "    if match:\n",
    "        data_between_at_and_data = match.group(1)\n",
    "        print(\"data :\",data_between_at_and_data)\n",
    "    else:\n",
    "        print(\"no match '\\n'\")\n",
    "# Extract latitude and longitude from the text\n",
    "    la_lo = data_between_at_and_data.split(',')\n",
    "    latitude = float(la_lo[0])\n",
    "    longitude = float(la_lo[1])\n",
    "#latitude, longitude = lat_lng.split(',')\n",
    "\n",
    "    #print(\"Latitude:\", latitude)\n",
    "    #print(\"Longitude:\", longitude)\n",
    "# Print the geospatial coordinates\n",
    "    print(f\"The geospatial coordinates of location @ '\\b'{city_name} are:- Latitude:'\\b' {latitude}, Longitude:'\\b' {longitude}\")\n",
    "except Exception as e:\n",
    "    print(\"Error:\",e)\n",
    "    \n",
    "    \n",
    "# Close the webdriver\n",
    "driver.quit()\n"
   ]
  },
  {
   "cell_type": "code",
   "execution_count": 107,
   "id": "3adb0918",
   "metadata": {},
   "outputs": [],
   "source": [
    "#Q 6 :Write a program to scrap all the available details of best AI  laptops from digit.in"
   ]
  },
  {
   "cell_type": "code",
   "execution_count": 9,
   "id": "fa0ac738",
   "metadata": {},
   "outputs": [
    {
     "name": "stdout",
     "output_type": "stream",
     "text": [
      "Page Title Best AI (Artificial Intelligence) Gaming Laptops in India | Digit\n",
      "['Asus ROG Zephyrus G14 GA402XZ-N2019WS', 'MSI Pulse 17 AI C1VGKG', 'Acer Nitro 16 AN16-41 | Ryzen 7 7840HS | RTX 4060 | 16GB', 'MSI Bravo 15 C7VFKP', 'ASUS TUF Gaming A16 Advantage Edition (2023) FA617XS', 'HP OMEN Gaming Laptop 16 XD0007ax', 'Dell New G15 5535']\n"
     ]
    }
   ],
   "source": [
    "import time\n",
    "from selenium import webdriver\n",
    "from selenium.webdriver.common.by import By\n",
    "from selenium.webdriver.support.ui import WebDriverWait\n",
    "from selenium.webdriver.support import expected_conditions as EC\n",
    "\n",
    "# Initibangaalize Chrome webdriver\n",
    "driver = webdriver.Chrome()\n",
    "\n",
    "# Open the URL\n",
    "url = 'https://www.digit.in/top-products/best-ai-gaming-laptops.html'\n",
    "driver.get(url)\n",
    "print(\"Page Title\",driver.title)\n",
    "\n",
    "wait = WebDriverWait(driver, 10)\n",
    "Product_details = []\n",
    "\n",
    "   \n",
    "Product_laptops = wait.until(EC.presence_of_all_elements_located((By.XPATH, '//*[@class=\"font130 mt0 mb10 mobilesblockdisplay \"]')))\n",
    "    ##//*[@id=\"post-539250\"]/div[5]/div/div[2]/div[3]\n",
    "for laptop in Product_laptops:\n",
    "    lap_split = laptop.text.split('\\n')\n",
    "    product_name = lap_split[0].strip()\n",
    "    Product_details.append(product_name)\n",
    "print(Product_details)\n"
   ]
  },
  {
   "cell_type": "code",
   "execution_count": 49,
   "id": "381e79f0",
   "metadata": {},
   "outputs": [
    {
     "name": "stdout",
     "output_type": "stream",
     "text": [
      "['Windows 11 Home', 'Windows 11 Home', 'Windows 11 Home', 'Windows 11 Home', 'Windows 11 Home', 'Windows 11 Home', 'Windows 11 Home']\n",
      "['14', '17', '16', '15.6', '16', '16.1', '15.6']\n",
      "['7th Gen, AMD Ryzen 9 7940HS', 'Intel Core Ultra 9', 'AMD Ryzen 7-7840HS', 'AMD Ryzen 7-7000HS', 'AMD Ryzen 9-7940HS', 'AMD Ryzen 7-7840HS', 'AMD Ryzen 5-7640HS']\n",
      "\n"
     ]
    }
   ],
   "source": [
    "# Wait for all the elements to be present\n",
    "Operating_system = []\n",
    "Display_details = []\n",
    "Processor_details = []\n",
    "\n",
    "Oslaptops = wait.until(EC.presence_of_all_elements_located((By.XPATH, '//*[@class=\"meta_v_value\"]')))\n",
    "for i in range(0, len(Oslaptops), 3):\n",
    "    os_data = Oslaptops[i].text\n",
    "    display_size = Oslaptops[i+1].text\n",
    "    processor_detail = Oslaptops[i+2].text\n",
    "    \n",
    "    Operating_system.append(os_data)\n",
    "    Display_details.append(display_size)\n",
    "    Processor_details.append(processor_detail)\n",
    "    \n",
    "#Print the extracted details\n",
    "    \n",
    "print(Operating_system)\n",
    "print(Display_details)\n",
    "print(Processor_details)\n",
    "\n"
   ]
  },
  {
   "cell_type": "code",
   "execution_count": 50,
   "id": "0986778b",
   "metadata": {},
   "outputs": [
    {
     "name": "stdout",
     "output_type": "stream",
     "text": [
      "7 7 7 7\n"
     ]
    }
   ],
   "source": [
    "print(len(Product_details),len(Operating_system),len(Display_details),len(Processor_details))"
   ]
  },
  {
   "cell_type": "code",
   "execution_count": 52,
   "id": "eda0c5f9",
   "metadata": {},
   "outputs": [],
   "source": [
    "import pandas as pd \n",
    "df_AI_gaming_laptops = pd.DataFrame({\n",
    "    'Brand_names': Product_details,\n",
    "    'Operating_system': Operating_system,\n",
    "    'Display_details':Display_details,\n",
    "    'Processor_details': Processor_details\n",
    "})"
   ]
  },
  {
   "cell_type": "code",
   "execution_count": 54,
   "id": "97f15ee1",
   "metadata": {},
   "outputs": [
    {
     "data": {
      "text/html": [
       "<div>\n",
       "<style scoped>\n",
       "    .dataframe tbody tr th:only-of-type {\n",
       "        vertical-align: middle;\n",
       "    }\n",
       "\n",
       "    .dataframe tbody tr th {\n",
       "        vertical-align: top;\n",
       "    }\n",
       "\n",
       "    .dataframe thead th {\n",
       "        text-align: right;\n",
       "    }\n",
       "</style>\n",
       "<table border=\"1\" class=\"dataframe\">\n",
       "  <thead>\n",
       "    <tr style=\"text-align: right;\">\n",
       "      <th></th>\n",
       "      <th>Brand_names</th>\n",
       "      <th>Operating_system</th>\n",
       "      <th>Display_details</th>\n",
       "      <th>Processor_details</th>\n",
       "    </tr>\n",
       "  </thead>\n",
       "  <tbody>\n",
       "    <tr>\n",
       "      <th>0</th>\n",
       "      <td>Asus ROG Zephyrus G14 GA402XZ-N2019WS</td>\n",
       "      <td>Windows 11 Home</td>\n",
       "      <td>14</td>\n",
       "      <td>7th Gen, AMD Ryzen 9 7940HS</td>\n",
       "    </tr>\n",
       "    <tr>\n",
       "      <th>1</th>\n",
       "      <td>MSI Pulse 17 AI C1VGKG</td>\n",
       "      <td>Windows 11 Home</td>\n",
       "      <td>17</td>\n",
       "      <td>Intel Core Ultra 9</td>\n",
       "    </tr>\n",
       "    <tr>\n",
       "      <th>2</th>\n",
       "      <td>Acer Nitro 16 AN16-41 | Ryzen 7 7840HS | RTX 4...</td>\n",
       "      <td>Windows 11 Home</td>\n",
       "      <td>16</td>\n",
       "      <td>AMD Ryzen 7-7840HS</td>\n",
       "    </tr>\n",
       "    <tr>\n",
       "      <th>3</th>\n",
       "      <td>MSI Bravo 15 C7VFKP</td>\n",
       "      <td>Windows 11 Home</td>\n",
       "      <td>15.6</td>\n",
       "      <td>AMD Ryzen 7-7000HS</td>\n",
       "    </tr>\n",
       "    <tr>\n",
       "      <th>4</th>\n",
       "      <td>ASUS TUF Gaming A16 Advantage Edition (2023) F...</td>\n",
       "      <td>Windows 11 Home</td>\n",
       "      <td>16</td>\n",
       "      <td>AMD Ryzen 9-7940HS</td>\n",
       "    </tr>\n",
       "    <tr>\n",
       "      <th>5</th>\n",
       "      <td>HP OMEN Gaming Laptop 16 XD0007ax</td>\n",
       "      <td>Windows 11 Home</td>\n",
       "      <td>16.1</td>\n",
       "      <td>AMD Ryzen 7-7840HS</td>\n",
       "    </tr>\n",
       "    <tr>\n",
       "      <th>6</th>\n",
       "      <td>Dell New G15 5535</td>\n",
       "      <td>Windows 11 Home</td>\n",
       "      <td>15.6</td>\n",
       "      <td>AMD Ryzen 5-7640HS</td>\n",
       "    </tr>\n",
       "  </tbody>\n",
       "</table>\n",
       "</div>"
      ],
      "text/plain": [
       "                                         Brand_names Operating_system  \\\n",
       "0              Asus ROG Zephyrus G14 GA402XZ-N2019WS  Windows 11 Home   \n",
       "1                             MSI Pulse 17 AI C1VGKG  Windows 11 Home   \n",
       "2  Acer Nitro 16 AN16-41 | Ryzen 7 7840HS | RTX 4...  Windows 11 Home   \n",
       "3                                MSI Bravo 15 C7VFKP  Windows 11 Home   \n",
       "4  ASUS TUF Gaming A16 Advantage Edition (2023) F...  Windows 11 Home   \n",
       "5                  HP OMEN Gaming Laptop 16 XD0007ax  Windows 11 Home   \n",
       "6                                  Dell New G15 5535  Windows 11 Home   \n",
       "\n",
       "  Display_details            Processor_details  \n",
       "0              14  7th Gen, AMD Ryzen 9 7940HS  \n",
       "1              17           Intel Core Ultra 9  \n",
       "2              16           AMD Ryzen 7-7840HS  \n",
       "3            15.6           AMD Ryzen 7-7000HS  \n",
       "4              16           AMD Ryzen 9-7940HS  \n",
       "5            16.1           AMD Ryzen 7-7840HS  \n",
       "6            15.6           AMD Ryzen 5-7640HS  "
      ]
     },
     "execution_count": 54,
     "metadata": {},
     "output_type": "execute_result"
    }
   ],
   "source": [
    "df_AI_gaming_laptops.head(10)"
   ]
  },
  {
   "cell_type": "markdown",
   "id": "a28fce0e",
   "metadata": {},
   "source": [
    "# 7 Write a python program to scrape the details for all billionaires from www.forbes.com. Details to be scrapped: “Rank”, “Name”, “Net worth”, “Age”, “Citizenship”, “Source”, “Industry”. "
   ]
  },
  {
   "cell_type": "code",
   "execution_count": 56,
   "id": "f108088f",
   "metadata": {},
   "outputs": [],
   "source": [
    "from selenium import webdriver\n",
    "from selenium.webdriver.common.by import By\n",
    "from selenium.webdriver.common.keys import Keys\n",
    "import re\n",
    "import time\n"
   ]
  },
  {
   "cell_type": "code",
   "execution_count": 114,
   "id": "89c6b476",
   "metadata": {},
   "outputs": [
    {
     "ename": "JavascriptException",
     "evalue": "Message: javascript error: {\"status\":32,\"value\":\"An invalid or illegal selector was specified\"}\n  (Session info: chrome=124.0.6367.62)\nStacktrace:\n\tGetHandleVerifier [0x00007FF6146A1502+60802]\n\t(No symbol) [0x00007FF61461AC02]\n\t(No symbol) [0x00007FF6144D7CE4]\n\t(No symbol) [0x00007FF6144DDE26]\n\t(No symbol) [0x00007FF6144E01DB]\n\t(No symbol) [0x00007FF6144E0280]\n\t(No symbol) [0x00007FF614526A11]\n\t(No symbol) [0x00007FF614526E1C]\n\t(No symbol) [0x00007FF61456CE37]\n\t(No symbol) [0x00007FF61454ABBF]\n\t(No symbol) [0x00007FF61456A224]\n\t(No symbol) [0x00007FF61454A923]\n\t(No symbol) [0x00007FF614518FEC]\n\t(No symbol) [0x00007FF614519C21]\n\tGetHandleVerifier [0x00007FF6149A411D+3217821]\n\tGetHandleVerifier [0x00007FF6149E60B7+3488055]\n\tGetHandleVerifier [0x00007FF6149DF03F+3459263]\n\tGetHandleVerifier [0x00007FF61475B846+823494]\n\t(No symbol) [0x00007FF614625F9F]\n\t(No symbol) [0x00007FF614620EC4]\n\t(No symbol) [0x00007FF614621052]\n\t(No symbol) [0x00007FF6146118A4]\n\tBaseThreadInitThunk [0x00007FFEA8FF257D+29]\n\tRtlUserThreadStart [0x00007FFEA960AA48+40]\n",
     "output_type": "error",
     "traceback": [
      "\u001b[1;31m---------------------------------------------------------------------------\u001b[0m",
      "\u001b[1;31mJavascriptException\u001b[0m                       Traceback (most recent call last)",
      "Cell \u001b[1;32mIn[114], line 21\u001b[0m\n\u001b[0;32m     17\u001b[0m \u001b[38;5;66;03m#WebDriverWait(driver,20).until(EC.presence_of_element_located((By.CLASS_NAME, 'rank')))\u001b[39;00m\n\u001b[0;32m     18\u001b[0m \n\u001b[0;32m     19\u001b[0m \u001b[38;5;66;03m# Wait for the page to load\u001b[39;00m\n\u001b[0;32m     20\u001b[0m rank_details  \u001b[38;5;241m=\u001b[39m []\n\u001b[1;32m---> 21\u001b[0m ranks \u001b[38;5;241m=\u001b[39m WebDriverWait(driver, \u001b[38;5;241m10\u001b[39m)\u001b[38;5;241m.\u001b[39muntil(EC\u001b[38;5;241m.\u001b[39mpresence_of_element_located((By\u001b[38;5;241m.\u001b[39mCLASS_NAME,\u001b[38;5;124m'\u001b[39m\u001b[38;5;124m//*[@class=\u001b[39m\u001b[38;5;124m\"\u001b[39m\u001b[38;5;124mTable_rank__X4MKf\u001b[39m\u001b[38;5;124m\"\u001b[39m\u001b[38;5;124m]/div\u001b[39m\u001b[38;5;124m'\u001b[39m)))\n\u001b[0;32m     22\u001b[0m \u001b[38;5;28;01mfor\u001b[39;00m rank \u001b[38;5;129;01min\u001b[39;00m ranks:\n\u001b[0;32m     23\u001b[0m     rank_data \u001b[38;5;241m=\u001b[39m rank\u001b[38;5;241m.\u001b[39mtext\n",
      "File \u001b[1;32m~\\AppData\\Local\\anaconda3\\Lib\\site-packages\\selenium\\webdriver\\support\\wait.py:96\u001b[0m, in \u001b[0;36mWebDriverWait.until\u001b[1;34m(self, method, message)\u001b[0m\n\u001b[0;32m     94\u001b[0m \u001b[38;5;28;01mwhile\u001b[39;00m \u001b[38;5;28;01mTrue\u001b[39;00m:\n\u001b[0;32m     95\u001b[0m     \u001b[38;5;28;01mtry\u001b[39;00m:\n\u001b[1;32m---> 96\u001b[0m         value \u001b[38;5;241m=\u001b[39m method(\u001b[38;5;28mself\u001b[39m\u001b[38;5;241m.\u001b[39m_driver)\n\u001b[0;32m     97\u001b[0m         \u001b[38;5;28;01mif\u001b[39;00m value:\n\u001b[0;32m     98\u001b[0m             \u001b[38;5;28;01mreturn\u001b[39;00m value\n",
      "File \u001b[1;32m~\\AppData\\Local\\anaconda3\\Lib\\site-packages\\selenium\\webdriver\\support\\expected_conditions.py:84\u001b[0m, in \u001b[0;36mpresence_of_element_located.<locals>._predicate\u001b[1;34m(driver)\u001b[0m\n\u001b[0;32m     83\u001b[0m \u001b[38;5;28;01mdef\u001b[39;00m \u001b[38;5;21m_predicate\u001b[39m(driver: WebDriverOrWebElement):\n\u001b[1;32m---> 84\u001b[0m     \u001b[38;5;28;01mreturn\u001b[39;00m driver\u001b[38;5;241m.\u001b[39mfind_element(\u001b[38;5;241m*\u001b[39mlocator)\n",
      "File \u001b[1;32m~\\AppData\\Local\\anaconda3\\Lib\\site-packages\\selenium\\webdriver\\remote\\webdriver.py:741\u001b[0m, in \u001b[0;36mWebDriver.find_element\u001b[1;34m(self, by, value)\u001b[0m\n\u001b[0;32m    738\u001b[0m     by \u001b[38;5;241m=\u001b[39m By\u001b[38;5;241m.\u001b[39mCSS_SELECTOR\n\u001b[0;32m    739\u001b[0m     value \u001b[38;5;241m=\u001b[39m \u001b[38;5;124mf\u001b[39m\u001b[38;5;124m'\u001b[39m\u001b[38;5;124m[name=\u001b[39m\u001b[38;5;124m\"\u001b[39m\u001b[38;5;132;01m{\u001b[39;00mvalue\u001b[38;5;132;01m}\u001b[39;00m\u001b[38;5;124m\"\u001b[39m\u001b[38;5;124m]\u001b[39m\u001b[38;5;124m'\u001b[39m\n\u001b[1;32m--> 741\u001b[0m \u001b[38;5;28;01mreturn\u001b[39;00m \u001b[38;5;28mself\u001b[39m\u001b[38;5;241m.\u001b[39mexecute(Command\u001b[38;5;241m.\u001b[39mFIND_ELEMENT, {\u001b[38;5;124m\"\u001b[39m\u001b[38;5;124musing\u001b[39m\u001b[38;5;124m\"\u001b[39m: by, \u001b[38;5;124m\"\u001b[39m\u001b[38;5;124mvalue\u001b[39m\u001b[38;5;124m\"\u001b[39m: value})[\u001b[38;5;124m\"\u001b[39m\u001b[38;5;124mvalue\u001b[39m\u001b[38;5;124m\"\u001b[39m]\n",
      "File \u001b[1;32m~\\AppData\\Local\\anaconda3\\Lib\\site-packages\\selenium\\webdriver\\remote\\webdriver.py:347\u001b[0m, in \u001b[0;36mWebDriver.execute\u001b[1;34m(self, driver_command, params)\u001b[0m\n\u001b[0;32m    345\u001b[0m response \u001b[38;5;241m=\u001b[39m \u001b[38;5;28mself\u001b[39m\u001b[38;5;241m.\u001b[39mcommand_executor\u001b[38;5;241m.\u001b[39mexecute(driver_command, params)\n\u001b[0;32m    346\u001b[0m \u001b[38;5;28;01mif\u001b[39;00m response:\n\u001b[1;32m--> 347\u001b[0m     \u001b[38;5;28mself\u001b[39m\u001b[38;5;241m.\u001b[39merror_handler\u001b[38;5;241m.\u001b[39mcheck_response(response)\n\u001b[0;32m    348\u001b[0m     response[\u001b[38;5;124m\"\u001b[39m\u001b[38;5;124mvalue\u001b[39m\u001b[38;5;124m\"\u001b[39m] \u001b[38;5;241m=\u001b[39m \u001b[38;5;28mself\u001b[39m\u001b[38;5;241m.\u001b[39m_unwrap_value(response\u001b[38;5;241m.\u001b[39mget(\u001b[38;5;124m\"\u001b[39m\u001b[38;5;124mvalue\u001b[39m\u001b[38;5;124m\"\u001b[39m, \u001b[38;5;28;01mNone\u001b[39;00m))\n\u001b[0;32m    349\u001b[0m     \u001b[38;5;28;01mreturn\u001b[39;00m response\n",
      "File \u001b[1;32m~\\AppData\\Local\\anaconda3\\Lib\\site-packages\\selenium\\webdriver\\remote\\errorhandler.py:229\u001b[0m, in \u001b[0;36mErrorHandler.check_response\u001b[1;34m(self, response)\u001b[0m\n\u001b[0;32m    227\u001b[0m         alert_text \u001b[38;5;241m=\u001b[39m value[\u001b[38;5;124m\"\u001b[39m\u001b[38;5;124malert\u001b[39m\u001b[38;5;124m\"\u001b[39m]\u001b[38;5;241m.\u001b[39mget(\u001b[38;5;124m\"\u001b[39m\u001b[38;5;124mtext\u001b[39m\u001b[38;5;124m\"\u001b[39m)\n\u001b[0;32m    228\u001b[0m     \u001b[38;5;28;01mraise\u001b[39;00m exception_class(message, screen, stacktrace, alert_text)  \u001b[38;5;66;03m# type: ignore[call-arg]  # mypy is not smart enough here\u001b[39;00m\n\u001b[1;32m--> 229\u001b[0m \u001b[38;5;28;01mraise\u001b[39;00m exception_class(message, screen, stacktrace)\n",
      "\u001b[1;31mJavascriptException\u001b[0m: Message: javascript error: {\"status\":32,\"value\":\"An invalid or illegal selector was specified\"}\n  (Session info: chrome=124.0.6367.62)\nStacktrace:\n\tGetHandleVerifier [0x00007FF6146A1502+60802]\n\t(No symbol) [0x00007FF61461AC02]\n\t(No symbol) [0x00007FF6144D7CE4]\n\t(No symbol) [0x00007FF6144DDE26]\n\t(No symbol) [0x00007FF6144E01DB]\n\t(No symbol) [0x00007FF6144E0280]\n\t(No symbol) [0x00007FF614526A11]\n\t(No symbol) [0x00007FF614526E1C]\n\t(No symbol) [0x00007FF61456CE37]\n\t(No symbol) [0x00007FF61454ABBF]\n\t(No symbol) [0x00007FF61456A224]\n\t(No symbol) [0x00007FF61454A923]\n\t(No symbol) [0x00007FF614518FEC]\n\t(No symbol) [0x00007FF614519C21]\n\tGetHandleVerifier [0x00007FF6149A411D+3217821]\n\tGetHandleVerifier [0x00007FF6149E60B7+3488055]\n\tGetHandleVerifier [0x00007FF6149DF03F+3459263]\n\tGetHandleVerifier [0x00007FF61475B846+823494]\n\t(No symbol) [0x00007FF614625F9F]\n\t(No symbol) [0x00007FF614620EC4]\n\t(No symbol) [0x00007FF614621052]\n\t(No symbol) [0x00007FF6146118A4]\n\tBaseThreadInitThunk [0x00007FFEA8FF257D+29]\n\tRtlUserThreadStart [0x00007FFEA960AA48+40]\n"
     ]
    }
   ],
   "source": [
    "\n",
    "driver = webdriver.Chrome()\n",
    "\n",
    "driver.get('https://www.forbes.com/')\n",
    "\n",
    "menu_button = WebDriverWait(driver, 10).until(EC.element_to_be_clickable((By.CLASS_NAME, '_69hVhdY4')))  #menu button class\n",
    "menu_button.click()\n",
    "\n",
    "#Click the Billionaires tab\n",
    "# Billionaires tab\n",
    "billionaires_tab = WebDriverWait(driver, 10).until(EC.element_to_be_clickable((By.CLASS_NAME, 'TjJgrPSg'))) \n",
    "billionaires_tab.click()\n",
    "\n",
    "# Find and click the World's Billionaires secondary tab\n",
    "world_billionaires_tab = WebDriverWait(driver, 20).until(EC.element_to_be_clickable((By.CLASS_NAME, 'wQwN2-r6')))\n",
    "world_billionaires_tab.click()\n",
    "\n",
    "#WebDriverWait(driver,20).until(EC.presence_of_element_located((By.CLASS_NAME, 'rank')))\n",
    "\n",
    "# Wait for the page to load\n",
    "rank_details  = []\n",
    "ranks = WebDriverWait(driver, 10).until(EC.presence_of_element_located((By.CLASS_NAME,'//*[@class=\"Table_rank__X4MKf\"]/div')))\n",
    "for rank in ranks:\n",
    "    rank_data = rank.text\n",
    "    print(rank_data)\n",
    "    rank_details.append(rank_data)\n",
    "\n",
    "##//*[@id=\"__next\"]/div/div[1]/header/div[1]/div[1]/div[2]/ul/li[2]\n",
    "print(rank_details)\n",
    "\n",
    "driver.quit()\n"
   ]
  },
  {
   "cell_type": "code",
   "execution_count": null,
   "id": "d9e80b23",
   "metadata": {},
   "outputs": [],
   "source": [
    "# Q7 is not at completed "
   ]
  },
  {
   "cell_type": "markdown",
   "id": "99cca4c2",
   "metadata": {},
   "source": [
    "# Q 8 Write a program to extract at least 500 Comments, Comment upvote and time when comment was posted from any YouTube Video. "
   ]
  },
  {
   "cell_type": "code",
   "execution_count": 199,
   "id": "755595ba",
   "metadata": {},
   "outputs": [],
   "source": [
    "from selenium import webdriver\n",
    "from selenium.webdriver.common.by import By\n",
    "from selenium.webdriver.common.keys import Keys\n",
    "from selenium.webdriver.common.action_chains import ActionChains\n",
    "from selenium.webdriver.chrome.service import Service\n",
    "from selenium.webdriver.chrome.options import Options\n",
    "from selenium.webdriver.support.ui import WebDriverWait\n",
    "from selenium.webdriver.support import expected_conditions as EC\n",
    "import time"
   ]
  },
  {
   "cell_type": "code",
   "execution_count": 200,
   "id": "8555674a",
   "metadata": {},
   "outputs": [],
   "source": [
    "chrome_options = webdriver.ChromeOptions()\n",
    "chrome_options.add_argument('--headless')\n",
    "chrome_options.add_argument('--no-sandbox')\n",
    "chrome_options.add_argument('--disable-dev-shm-usage')"
   ]
  },
  {
   "cell_type": "code",
   "execution_count": 201,
   "id": "2a7ddfcb",
   "metadata": {},
   "outputs": [],
   "source": [
    "chrome_driver_path = 'C:/Users/nallag/source/Student/DATAScience_DOC/studocu_doc/chromedriver_win32/chromedriver.exe'"
   ]
  },
  {
   "cell_type": "code",
   "execution_count": 205,
   "id": "d8015497",
   "metadata": {},
   "outputs": [
    {
     "name": "stdout",
     "output_type": "stream",
     "text": [
      "Page Title YouTube\n"
     ]
    }
   ],
   "source": [
    "# Open the URL\n",
    "\n",
    "driver = webdriver.Chrome()\n",
    "\n",
    "url = 'https://www.youtube.com/'\n",
    "driver.get(url)\n",
    "print(\"Page Title\",driver.title)\n"
   ]
  },
  {
   "cell_type": "code",
   "execution_count": 206,
   "id": "2399f5e2",
   "metadata": {},
   "outputs": [
    {
     "name": "stdout",
     "output_type": "stream",
     "text": [
      "Number of comment elements found: 280\n",
      "Number of upvote elements found: 280\n",
      "Number of timestamp elements found: 0\n"
     ]
    }
   ],
   "source": [
    "wait = WebDriverWait(driver, 20)\n",
    "\n",
    "wait.until(EC.presence_of_element_located((By.NAME, \"search_query\")))\n",
    "\n",
    "search_box = driver.find_element(By.NAME, \"search_query\")\n",
    "search_box.clear()\n",
    "search_box.send_keys(\"Egg Drop From Space\")  \n",
    "search_box.send_keys(Keys.RETURN)\n",
    "\n",
    "# Wait for the search results to load\n",
    "wait.until(EC.presence_of_element_located((By.ID, \"video-title\")))\n",
    "\n",
    "# Click on the first video\n",
    "video = driver.find_element(By.ID, \"video-title\")\n",
    "video.click()\n",
    "\n",
    "actions = ActionChains(driver)\n",
    "for _ in range(20): \n",
    "    actions.send_keys(Keys.END).perform()\n",
    "    time.sleep(2) \n",
    "\n",
    "comments = []\n",
    "upvotes = []\n",
    "timestamps = []\n",
    "\n",
    "comment_elements = driver.find_elements(By.CSS_SELECTOR, \"#content-text\")\n",
    "print(\"Number of comment elements found:\", len(comment_elements))\n",
    "\n",
    "upvote_elements = driver.find_elements(By.CSS_SELECTOR, \"#vote-count-middle\")\n",
    "print(\"Number of upvote elements found:\", len(upvote_elements))\n",
    "\n",
    "timestamp_elements = driver.find_elements(By.CSS_SELECTOR, \"#header-author > yt-formatted-string > a > #published-time-text\")\n",
    "print(\"Number of timestamp elements found:\", len(timestamp_elements))\n",
    "\n",
    "\n",
    "min_length = min(len(comment_elements), len(upvote_elements), len(timestamp_elements))\n",
    "\n",
    "for i in range(min_length):\n",
    "    comments.append(comment_elements[i].text)\n",
    "    upvotes.append(upvote_elements[i].text)\n",
    "    timestamps.append(timestamp_elements[i].text)\n",
    "\n",
    "for i in range(min_length):\n",
    "    print(\"Comment:\", comments[i])\n",
    "    print(\"Upvotes:\", upvotes[i])\n",
    "    if timestamps:\n",
    "        print(\"Timestamp:\", timestamps[i])\n",
    "    else:\n",
    "        print(\"Timestamp elements not found\")\n",
    "\n",
    "driver.quit()"
   ]
  },
  {
   "cell_type": "markdown",
   "id": "baa5f789",
   "metadata": {},
   "source": [
    "# 9 .Write a python program to scrape a data for all available Hostels from https://www.hostelworld.com/ in “London” location. You have to scrape hostel name, distance from city centre, ratings, total reviews, overall reviews, privates from price, dorms from price, facilities and property description. \n"
   ]
  },
  {
   "cell_type": "code",
   "execution_count": 245,
   "id": "09a6a4e0",
   "metadata": {},
   "outputs": [],
   "source": [
    "from selenium import webdriver\n",
    "from selenium.webdriver.common.by import By\n",
    "from selenium.webdriver.common.keys import Keys\n",
    "from selenium.webdriver.common.action_chains import ActionChains\n",
    "from selenium.webdriver.chrome.service import Service\n",
    "from selenium.webdriver.chrome.options import Options\n",
    "from selenium.webdriver.support.ui import WebDriverWait\n",
    "from selenium.webdriver.support import expected_conditions as EC\n",
    "import time"
   ]
  },
  {
   "cell_type": "code",
   "execution_count": 257,
   "id": "766138e6",
   "metadata": {},
   "outputs": [],
   "source": [
    "chrome_options = webdriver.ChromeOptions()\n",
    "chrome_options.add_argument('--headless')\n",
    "chrome_options.add_argument('--no-sandbox')\n",
    "chrome_options.add_argument('--disable-dev-shm-usage')"
   ]
  },
  {
   "cell_type": "code",
   "execution_count": 274,
   "id": "e83d1386",
   "metadata": {},
   "outputs": [
    {
     "name": "stdout",
     "output_type": "stream",
     "text": [
      "Page Title Hostels Worldwide - Online Bookings, Ratings and Reviews\n"
     ]
    }
   ],
   "source": [
    "driver = webdriver.Chrome()\n",
    "\n",
    "url = 'https://www.hostelworld.com/'\n",
    "driver.get(url)\n",
    "print(\"Page Title\",driver.title)"
   ]
  },
  {
   "cell_type": "code",
   "execution_count": 280,
   "id": "432b2a91",
   "metadata": {},
   "outputs": [
    {
     "ename": "TimeoutException",
     "evalue": "Message: \nStacktrace:\n\tGetHandleVerifier [0x00007FF6146A1502+60802]\n\t(No symbol) [0x00007FF61461AC02]\n\t(No symbol) [0x00007FF6144D7CE4]\n\t(No symbol) [0x00007FF614526D4D]\n\t(No symbol) [0x00007FF614526E1C]\n\t(No symbol) [0x00007FF61456CE37]\n\t(No symbol) [0x00007FF61454ABBF]\n\t(No symbol) [0x00007FF61456A224]\n\t(No symbol) [0x00007FF61454A923]\n\t(No symbol) [0x00007FF614518FEC]\n\t(No symbol) [0x00007FF614519C21]\n\tGetHandleVerifier [0x00007FF6149A411D+3217821]\n\tGetHandleVerifier [0x00007FF6149E60B7+3488055]\n\tGetHandleVerifier [0x00007FF6149DF03F+3459263]\n\tGetHandleVerifier [0x00007FF61475B846+823494]\n\t(No symbol) [0x00007FF614625F9F]\n\t(No symbol) [0x00007FF614620EC4]\n\t(No symbol) [0x00007FF614621052]\n\t(No symbol) [0x00007FF6146118A4]\n\tBaseThreadInitThunk [0x00007FFEA8FF257D+29]\n\tRtlUserThreadStart [0x00007FFEA960AA48+40]\n",
     "output_type": "error",
     "traceback": [
      "\u001b[1;31m---------------------------------------------------------------------------\u001b[0m",
      "\u001b[1;31mTimeoutException\u001b[0m                          Traceback (most recent call last)",
      "Cell \u001b[1;32mIn[280], line 9\u001b[0m\n\u001b[0;32m      6\u001b[0m search_bar\u001b[38;5;241m.\u001b[39msend_keys(\u001b[38;5;124m\"\u001b[39m\u001b[38;5;124mLondon\u001b[39m\u001b[38;5;124m\"\u001b[39m)\n\u001b[0;32m      7\u001b[0m search_bar\u001b[38;5;241m.\u001b[39mclick()\n\u001b[1;32m----> 9\u001b[0m WebDriverWait(driver, \u001b[38;5;241m20\u001b[39m)\u001b[38;5;241m.\u001b[39muntil(EC\u001b[38;5;241m.\u001b[39mvisibility_of_element_located((By\u001b[38;5;241m.\u001b[39mCLASS_NAME, \u001b[38;5;124m\"\u001b[39m\u001b[38;5;124mautocomplete-result\u001b[39m\u001b[38;5;124m\"\u001b[39m)))\n\u001b[0;32m     10\u001b[0m time\u001b[38;5;241m.\u001b[39msleep(\u001b[38;5;241m5\u001b[39m)\n\u001b[0;32m     11\u001b[0m autocomplete_text \u001b[38;5;241m=\u001b[39m \u001b[38;5;124m\"\u001b[39m\u001b[38;5;124mLondon, England\u001b[39m\u001b[38;5;124m\"\u001b[39m\n",
      "File \u001b[1;32m~\\AppData\\Local\\anaconda3\\Lib\\site-packages\\selenium\\webdriver\\support\\wait.py:105\u001b[0m, in \u001b[0;36mWebDriverWait.until\u001b[1;34m(self, method, message)\u001b[0m\n\u001b[0;32m    103\u001b[0m     \u001b[38;5;28;01mif\u001b[39;00m time\u001b[38;5;241m.\u001b[39mmonotonic() \u001b[38;5;241m>\u001b[39m end_time:\n\u001b[0;32m    104\u001b[0m         \u001b[38;5;28;01mbreak\u001b[39;00m\n\u001b[1;32m--> 105\u001b[0m \u001b[38;5;28;01mraise\u001b[39;00m TimeoutException(message, screen, stacktrace)\n",
      "\u001b[1;31mTimeoutException\u001b[0m: Message: \nStacktrace:\n\tGetHandleVerifier [0x00007FF6146A1502+60802]\n\t(No symbol) [0x00007FF61461AC02]\n\t(No symbol) [0x00007FF6144D7CE4]\n\t(No symbol) [0x00007FF614526D4D]\n\t(No symbol) [0x00007FF614526E1C]\n\t(No symbol) [0x00007FF61456CE37]\n\t(No symbol) [0x00007FF61454ABBF]\n\t(No symbol) [0x00007FF61456A224]\n\t(No symbol) [0x00007FF61454A923]\n\t(No symbol) [0x00007FF614518FEC]\n\t(No symbol) [0x00007FF614519C21]\n\tGetHandleVerifier [0x00007FF6149A411D+3217821]\n\tGetHandleVerifier [0x00007FF6149E60B7+3488055]\n\tGetHandleVerifier [0x00007FF6149DF03F+3459263]\n\tGetHandleVerifier [0x00007FF61475B846+823494]\n\t(No symbol) [0x00007FF614625F9F]\n\t(No symbol) [0x00007FF614620EC4]\n\t(No symbol) [0x00007FF614621052]\n\t(No symbol) [0x00007FF6146118A4]\n\tBaseThreadInitThunk [0x00007FFEA8FF257D+29]\n\tRtlUserThreadStart [0x00007FFEA960AA48+40]\n"
     ]
    }
   ],
   "source": [
    "driver = webdriver.Chrome()\n",
    "\n",
    "driver.get(\"https://www.hostelworld.com/\")\n",
    "\n",
    "search_bar = driver.find_element(By.XPATH, '//input[@class=\"native-input\"]')\n",
    "search_bar.send_keys(\"London\")\n",
    "search_bar.click()\n",
    "\n",
    "WebDriverWait(driver, 20).until(EC.visibility_of_element_located((By.CLASS_NAME, \"autocomplete-result\")))\n",
    "time.sleep(5)\n",
    "autocomplete_text = \"London, England\"\n",
    "autocomplete_option = driver.find_element(By.XPATH, f'//div[@class=\"autocomplete-result\" and contains(text(), \"{autocomplete_text}\")]')\n",
    "autocomplete_option.click()\n",
    "\n",
    "search_button = driver.find_element(By.CLASS_NAME, \"icon-container\")\n",
    "search_button.click()\n"
   ]
  },
  {
   "cell_type": "code",
   "execution_count": null,
   "id": "9c0f2695",
   "metadata": {},
   "outputs": [],
   "source": [
    "\n",
    "# Find and fill the search bar with the text\n",
    "search_bar = driver.find_element(By.CLASS_NAME, \"input-strip\")\n",
    "search_bar.send_keys(\"London\")\n",
    "\n",
    "# Wait for the city field to populate\n",
    "city_field = WebDriverWait(driver, 10).until(EC.presence_of_element_located((By.CLASS_NAME, \"select-item-group\")))\n",
    "\n",
    "# Find the element corresponding to the city\n",
    "city_element = city_field.find_element(By.XPATH, '//*[@id=\"3\"]')  # Update the XPath accordingly\n",
    "\n",
    "# Click on the city element\n",
    "city_element.click()\n",
    "\n",
    "# Find and click the search button\n",
    "search_button = WebDriverWait(driver, 10).until(EC.element_to_be_clickable((By.XPATH, '//*[@id=\"__nuxt\"]/div/div[2]/main/header/div/div[2]/div[1]/div[3]/div/div/div[3]/div/div/button/span')))  # Update the XPath accordingly\n",
    "search_button.click()\n"
   ]
  },
  {
   "cell_type": "code",
   "execution_count": null,
   "id": "a786c078",
   "metadata": {},
   "outputs": [],
   "source": []
  }
 ],
 "metadata": {
  "kernelspec": {
   "display_name": "Python 3 (ipykernel)",
   "language": "python",
   "name": "python3"
  },
  "language_info": {
   "codemirror_mode": {
    "name": "ipython",
    "version": 3
   },
   "file_extension": ".py",
   "mimetype": "text/x-python",
   "name": "python",
   "nbconvert_exporter": "python",
   "pygments_lexer": "ipython3",
   "version": "3.11.4"
  }
 },
 "nbformat": 4,
 "nbformat_minor": 5
}
