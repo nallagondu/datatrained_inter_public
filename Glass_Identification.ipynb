{
  "nbformat": 4,
  "nbformat_minor": 0,
  "metadata": {
    "colab": {
      "private_outputs": true,
      "provenance": [],
      "authorship_tag": "ABX9TyN+sV6xTO0PG63rMpotHwa8",
      "include_colab_link": true
    },
    "kernelspec": {
      "name": "python3",
      "display_name": "Python 3"
    },
    "language_info": {
      "name": "python"
    }
  },
  "cells": [
    {
      "cell_type": "markdown",
      "metadata": {
        "id": "view-in-github",
        "colab_type": "text"
      },
      "source": [
        "<a href=\"https://colab.research.google.com/github/nallagondu/datatrained_inter_public/blob/main/Glass_Identification.ipynb\" target=\"_parent\"><img src=\"https://colab.research.google.com/assets/colab-badge.svg\" alt=\"Open In Colab\"/></a>"
      ]
    },
    {
      "cell_type": "markdown",
      "source": [
        "**Project Description : Glass Identification**\n",
        "\n",
        "\n",
        "The dataset describes the chemical properties of glass and involves classifying samples of glass using their chemical properties as one of six classes. The dataset was credited to Vina Spiehler in 1987. The study of classification of types of glass was motivated by criminological investigation. At the scene of the crime, the glass left can be used as evidence...if it is correctly identified!\n",
        "\n",
        "\n",
        "The chemical compositions are measured as the weight percent in corresponding oxide.\n",
        "Attribute Information-\n",
        "1.\t Id number: 1 to 214\n",
        "2.\t RI: refractive index\n",
        "3.\tNa: Sodium (unit measurement: weight percent in corresponding oxide, as are attributes 4-10)\n",
        "4.\tMg: Magnesium\n",
        "5.\tAl: Aluminum\n",
        "6.\tSi: Silicon\n",
        "7.\tK: Potassium\n",
        "8.\tCa: Calcium\n",
        "9.\tBa: Barium\n",
        "10.\tFe: Iron\n",
        "11.\tType of glass: (class attribute)\n",
        "\n",
        "\n",
        "column_name_update =  ['iD','RI','Na','Mg','Al','Si','K','Ca','Ba','Fe','Type of glass']\n",
        "\n",
        "•\t1- building_windows_float_processed\n",
        "•\t2- building_windows_non_float_processed\n",
        "•\t3- vehicle_windows_float_processed\n",
        "•\t4- vehicle_windows_non_float_processed (none in this database)\n",
        "•\t5- containers\n",
        "•\t6- tableware\n",
        "•\t7- headlamps\n",
        "\n",
        "There are 214 observations in the dataset. The dataset can be divided into window glass (classes 1-4) and non-window glass (classes 5-7).\n",
        "Predict : Type of glass\n"
      ],
      "metadata": {
        "id": "1nkudRsLbbTr"
      }
    },
    {
      "cell_type": "markdown",
      "source": [
        "\n",
        "Dataset Link-\n",
        "•\thttps://github.com/FlipRoboTechnologies/ML-Datasets/blob/main/Glass%20Identification/Glass%20Identification.csv\n"
      ],
      "metadata": {
        "id": "fHzEJ7rnb8Jy"
      }
    },
    {
      "cell_type": "code",
      "execution_count": null,
      "metadata": {
        "id": "oJVvazIYDMeG"
      },
      "outputs": [],
      "source": [
        "import pandas as pd\n",
        "import numpy as np\n",
        "import matplotlib.pyplot as plt\n",
        "from io import StringIO\n",
        "import seaborn as sns\n",
        "from sklearn.model_selection import train_test_split\n",
        "from sklearn.metrics import confusion_matrix,classification_report,accuracy_score\n",
        "from sklearn.decomposition import PCA\n",
        "from sklearn.preprocessing import StandardScaler\n",
        "import warnings\n",
        "warnings.filterwarnings('ignore')"
      ]
    },
    {
      "cell_type": "code",
      "source": [
        "url = \"https://raw.githubusercontent.com/FlipRoboTechnologies/ML-Datasets/main/Glass%20Identification/Glass%20Identification.csv\"\n",
        "data = StringIO(url)\n",
        "column_name_update =  ['Id','RI','Na','Mg','Al','Si','K','Ca','Ba','Fe','Type of glass']\n",
        "df = pd.read_csv(url,sep = \",\", names = column_name_update)\n",
        "df.set_index('Id',inplace = True)\n",
        "df"
      ],
      "metadata": {
        "id": "fhMKnSd-cb5e"
      },
      "execution_count": null,
      "outputs": []
    },
    {
      "cell_type": "code",
      "source": [
        "df.info()"
      ],
      "metadata": {
        "id": "wJzt-7tIcy5x"
      },
      "execution_count": null,
      "outputs": []
    },
    {
      "cell_type": "code",
      "source": [
        "df.head()"
      ],
      "metadata": {
        "id": "tg5vB2DMBaL7"
      },
      "execution_count": null,
      "outputs": []
    },
    {
      "cell_type": "code",
      "source": [
        "df.shape"
      ],
      "metadata": {
        "id": "raA3U9Nx_GCL"
      },
      "execution_count": null,
      "outputs": []
    },
    {
      "cell_type": "code",
      "source": [
        "df.columns.tolist()"
      ],
      "metadata": {
        "id": "50U0P9ebCLaO"
      },
      "execution_count": null,
      "outputs": []
    },
    {
      "cell_type": "code",
      "source": [
        "df.dtypes"
      ],
      "metadata": {
        "id": "DMaNQQH3CUah"
      },
      "execution_count": null,
      "outputs": []
    },
    {
      "cell_type": "code",
      "source": [
        "df.isnull().sum()"
      ],
      "metadata": {
        "id": "vRichL-KCbBv"
      },
      "execution_count": null,
      "outputs": []
    },
    {
      "cell_type": "markdown",
      "source": [
        "No missing values in above data"
      ],
      "metadata": {
        "id": "GU1NwjR7Cn_y"
      }
    },
    {
      "cell_type": "code",
      "source": [
        "sns.heatmap(df.isnull())"
      ],
      "metadata": {
        "id": "UK14HmvrCkUx"
      },
      "execution_count": null,
      "outputs": []
    },
    {
      "cell_type": "code",
      "source": [
        "missing_values = df.isnull().sum()\n",
        "missing_values"
      ],
      "metadata": {
        "id": "rnHTKyBNDK7o"
      },
      "execution_count": null,
      "outputs": []
    },
    {
      "cell_type": "code",
      "source": [
        "missing_values_data = df.isnull().sum().sort_values(ascending = False)\n",
        "missing_values_data"
      ],
      "metadata": {
        "id": "zUFtEDyEDVmP"
      },
      "execution_count": null,
      "outputs": []
    },
    {
      "cell_type": "code",
      "source": [
        "df.fillna(df.mean(),inplace = True)"
      ],
      "metadata": {
        "id": "85SJPszsD30U"
      },
      "execution_count": null,
      "outputs": []
    },
    {
      "cell_type": "code",
      "source": [
        "df.fillna(df.median(),inplace = True)\n",
        "df.fillna(df.mode().iloc[0],inplace = True)"
      ],
      "metadata": {
        "id": "n1vxW9fSEXAY"
      },
      "execution_count": null,
      "outputs": []
    },
    {
      "cell_type": "code",
      "source": [
        "sns.heatmap(df.isnull())"
      ],
      "metadata": {
        "id": "aV_h_LY6EkdV"
      },
      "execution_count": null,
      "outputs": []
    },
    {
      "cell_type": "code",
      "source": [
        "df.head()"
      ],
      "metadata": {
        "id": "9MaUT3xHEx7P"
      },
      "execution_count": null,
      "outputs": []
    },
    {
      "cell_type": "code",
      "source": [
        "df.head()"
      ],
      "metadata": {
        "id": "9dkUG-xJE0v6"
      },
      "execution_count": null,
      "outputs": []
    },
    {
      "cell_type": "code",
      "source": [
        "corr = df.corr()\n",
        "fig, ax = plt.subplots(figsize=(10,10))\n",
        "sns.heatmap(corr,annot=True,ax=ax)"
      ],
      "metadata": {
        "id": "T8wTw0X7E_A1"
      },
      "execution_count": null,
      "outputs": []
    },
    {
      "cell_type": "code",
      "source": [
        "fig, ax = plt.subplots(figsize=(10,8))\n",
        "plt.xticks(range(len(corr.columns)), corr.columns)\n",
        "plt.yticks(range(len(corr.columns)), corr.columns)\n",
        "sns.heatmap(corr,annot=True)\n",
        "plt.show()"
      ],
      "metadata": {
        "id": "SjmbPlPdFstW"
      },
      "execution_count": null,
      "outputs": []
    },
    {
      "cell_type": "code",
      "source": [
        "ax1 = sns.boxplot(x='Type of glass',y='RI',data=df)\n",
        "print(df.groupby('Type of glass')['RI'].mean())"
      ],
      "metadata": {
        "id": "vN5zsz5v198N"
      },
      "execution_count": null,
      "outputs": []
    },
    {
      "cell_type": "code",
      "source": [
        "df.describe()"
      ],
      "metadata": {
        "id": "UrPBfU5q2SdN"
      },
      "execution_count": null,
      "outputs": []
    },
    {
      "cell_type": "code",
      "source": [
        "#Data disctubution of remaining  columns\n",
        "#lets check how the data distributed remaining column\n",
        "plt.figure(figsize = (10, 6), facecolor = \"white\")\n",
        "plotnumber = 1\n",
        "for col in df:\n",
        "  if plotnumber<=8:\n",
        "    ax = plt.subplot(4,2, plotnumber)\n",
        "    sns.distplot(df[col],color = \"m\")\n",
        "    plt.xlabel(col, fontsize = 12)\n",
        "    plt.yticks(rotation = 0,fontsize = 10)\n",
        "  plotnumber+=1\n",
        "plt.tight_layout()"
      ],
      "metadata": {
        "id": "bEVZtA9w3TbP"
      },
      "execution_count": null,
      "outputs": []
    },
    {
      "cell_type": "code",
      "source": [
        "df.skew()"
      ],
      "metadata": {
        "id": "SgGVHEHh5E4V"
      },
      "execution_count": null,
      "outputs": []
    },
    {
      "cell_type": "code",
      "source": [
        "skew_df = df[columns].skew().to_frame().rename(columns={0:\"skewness\"})\n",
        "skew_df"
      ],
      "metadata": {
        "id": "h05FFYOtfjlD"
      },
      "execution_count": null,
      "outputs": []
    },
    {
      "cell_type": "markdown",
      "source": [],
      "metadata": {
        "id": "7zTN_KVYGLq_"
      }
    },
    {
      "cell_type": "code",
      "source": [
        "k_skewness = df['K'].skew()\n",
        "Ca_skewness = df['Ca'].skew()\n",
        "Ba_skewness = df['Ba'].skew()\n",
        "\n",
        "print(k_skewness)\n",
        "print(Ca_skewness)\n",
        "print(Ba_skewness)"
      ],
      "metadata": {
        "id": "mSyN2AA6DKlh"
      },
      "execution_count": null,
      "outputs": []
    },
    {
      "cell_type": "markdown",
      "source": [
        "To handle skewness, especially in highly skewed data,we have to apply transformations:\n",
        "\n",
        "Log Transformation: Apply a logarithmic transformation to reduce right skewness.\n",
        "\n",
        "The **Yeo-Johnson transformation** is a statistical technique used to stabilize variance, make data more normally distributed, and improve the validity of measures of association. It’s a type of power transformation that can handle both positive and negative values, including zero, which makes it more flexible than some other transformations like the Box-Cox transformation that only handles positive values\n",
        "\n",
        "Square Root Transformation: Apply a square root transformation to reduce moderate right skewness.\n",
        "\n",
        "Box-Cox Transformation: A more flexible transformation that can handle both positive and negative skewness."
      ],
      "metadata": {
        "id": "NNrnAB6AHSrJ"
      }
    },
    {
      "cell_type": "code",
      "source": [
        "df_transformed = df.copy()"
      ],
      "metadata": {
        "id": "mDKQCcx0EsZa"
      },
      "execution_count": null,
      "outputs": []
    },
    {
      "cell_type": "code",
      "source": [
        "from scipy.stats import yeojohnson\n",
        "import scipy.special as special\n",
        "from scipy import stats\n",
        "\n",
        "columns = df.columns.tolist()\n",
        "columns.remove(\"Type of glass\")"
      ],
      "metadata": {
        "id": "TmGz5lzMFX7k"
      },
      "execution_count": null,
      "outputs": []
    },
    {
      "cell_type": "code",
      "source": [
        "skewness_transformation = {}\n",
        "\n",
        "for col in columns:\n",
        "    transformed_log = np.log(df[col])  # Log Transformation\n",
        "    transformed_boxcox = special.boxcox1p(df[col], 0.15)     # Box-Cox Transformation with lambda=0.15\n",
        "    transformed_inverse = 1 / df[col]   # Inverse Transformation\n",
        "    transformed_cbrt = np.cbrt(df[col]) # Cube Root Transformation\n",
        "    transformed_yeojohnson, _ = stats.yeojohnson(df[col])\n",
        "    transformation_skewness = {\n",
        "        \"Log Transformation\": stats.skew(transformed_log),\n",
        "        \"Box-Cox Transformation\": stats.skew(transformed_boxcox),\n",
        "        \"Inverse Transformation\": stats.skew(transformed_inverse),\n",
        "        \"Cube Root Transformation\": stats.skew(transformed_cbrt),\n",
        "        \"Yeo Johnson Transformation\": stats.skew(transformed_yeojohnson)}\n",
        "\n",
        "    skewness_transformation[col] = transformation_skewness"
      ],
      "metadata": {
        "id": "AujEikjWILu8"
      },
      "execution_count": null,
      "outputs": []
    },
    {
      "cell_type": "code",
      "source": [
        "df_ref = pd.DataFrame.from_dict(skewness_transformation, orient= 'index')\n",
        "df_ref = pd.concat([skew_df[\"skewness\"],  df_ref], axis=1)\n",
        "df_ref"
      ],
      "metadata": {
        "id": "e6_3oQ03I-l1"
      },
      "execution_count": null,
      "outputs": []
    },
    {
      "cell_type": "code",
      "source": [
        "for col in columns:\n",
        "  transformed_col,_ = stats.yeojohnson(df[col])\n",
        "  df[col]= transformed_col"
      ],
      "metadata": {
        "id": "Wt7kFQjKJk3v"
      },
      "execution_count": null,
      "outputs": []
    },
    {
      "cell_type": "code",
      "source": [
        "df.sample(10)"
      ],
      "metadata": {
        "id": "IWTD4X-IJo6P"
      },
      "execution_count": null,
      "outputs": []
    },
    {
      "cell_type": "code",
      "source": [
        "skewed_features = df.skew().sort_values(ascending=False)\n",
        "print(skewed_features)"
      ],
      "metadata": {
        "id": "_4N3Sh0bJ1Iw"
      },
      "execution_count": null,
      "outputs": []
    },
    {
      "cell_type": "code",
      "source": [
        "df[\"Type of glass\"].unique()"
      ],
      "metadata": {
        "id": "RdrG0N9YJ5aP"
      },
      "execution_count": null,
      "outputs": []
    },
    {
      "cell_type": "code",
      "source": [
        "X = df.drop(\"Type of glass\",axis = 1).values\n",
        "y = df[\"Type of glass\"].values.reshape(-1,1)"
      ],
      "metadata": {
        "id": "Z034qy7HMbDt"
      },
      "execution_count": null,
      "outputs": []
    },
    {
      "cell_type": "code",
      "source": [
        "from sklearn.model_selection import train_test_split\n",
        "X_train,X_test,y_train,y_test = train_test_split(X,y,test_size = 0.25,random_state = 42)"
      ],
      "metadata": {
        "id": "uAJOdg6oMd3T"
      },
      "execution_count": null,
      "outputs": []
    },
    {
      "cell_type": "code",
      "source": [
        "print(X_train.shape)\n",
        "print(X_test.shape)\n",
        "print(y_train.shape)\n",
        "print(y_test.shape)"
      ],
      "metadata": {
        "id": "irR4x57_MivF"
      },
      "execution_count": null,
      "outputs": []
    },
    {
      "cell_type": "markdown",
      "source": [
        "**Classificaion Models**"
      ],
      "metadata": {
        "id": "_PDGw0QzLeir"
      }
    },
    {
      "cell_type": "code",
      "source": [
        "# Logistic regresssion\n",
        "from sklearn.linear_model import LogisticRegression\n",
        "from sklearn.pipeline import Pipeline\n",
        "from sklearn.model_selection import GridSearchCV\n",
        "from sklearn.preprocessing import StandardScaler\n",
        "from sklearn.metrics import accuracy_score, confusion_matrix, classification_report\n",
        "\n",
        "scaler = StandardScaler()\n",
        "lr = LogisticRegression()\n",
        "\n",
        "pipeline = Pipeline([('scaler', scaler), ('lr', lr)])\n",
        "x = pd.DataFrame(scaler.fit_transform(X),columns = df.drop(\"Type of glass\", axis =1).columns)\n",
        "x"
      ],
      "metadata": {
        "id": "1_OREFWGOy-B"
      },
      "execution_count": null,
      "outputs": []
    },
    {
      "cell_type": "code",
      "source": [
        "from sklearn.model_selection  import train_test_split\n",
        "from sklearn.ensemble  import RandomForestClassifier\n",
        "from sklearn.metrics  import accuracy_score\n",
        "\n",
        "maxAccu = 0\n",
        "maxRS = 0\n",
        "for i in range(1, 200):\n",
        "  X_train,X_test,y_train,y_test = train_test_split(X,y,test_size = 0.25,random_state = i)\n",
        "  RFR = RandomForestClassifier()\n",
        "  RFR.fit(X_train, y_train)\n",
        "  pred = RFR.predict(X_test)\n",
        "  acc = accuracy_score(y_test, pred)\n",
        "  if acc>maxAccu:\n",
        "    maxAccu = acc\n",
        "    maxRS = i\n",
        "print(\"best accuracy is \", maxAccu, \"at random_state\", maxRS)"
      ],
      "metadata": {
        "id": "cG0FOx2AiSDf"
      },
      "execution_count": null,
      "outputs": []
    },
    {
      "cell_type": "code",
      "source": [
        "from  sklearn.ensemble import RandomForestClassifier, ExtraTreesClassifier\n",
        "from sklearn.linear_model import LogisticRegression\n",
        "from sklearn.svm import SVC\n",
        "from sklearn.ensemble import GradientBoostingClassifier ,AdaBoostClassifier,BaggingClassifier\n",
        "from sklearn.metrics import classification_report, confusion_matrix, roc_curve, accuracy_score\n",
        "from sklearn.model_selection import cross_val_score\n"
      ],
      "metadata": {
        "id": "khv20pBHNvNh"
      },
      "execution_count": null,
      "outputs": []
    },
    {
      "cell_type": "code",
      "source": [
        "\n",
        "\n",
        "# Checking Accuracy for Random ForestClassifier\n",
        "RFC = RandomForestClassifier()\n",
        "RFC.fit(X_train,y_train)\n",
        "predRFC = RFC.predict(X_test)\n",
        "print(accuracy_score(y_test,predRFC))\n",
        "print(\"Confusion Matric\" , confusion_matrix(y_test,predRFC))\n",
        "print(classification_report(y_test,predRFC))"
      ],
      "metadata": {
        "id": "iUS2eBJ2hC2K"
      },
      "execution_count": null,
      "outputs": []
    },
    {
      "cell_type": "markdown",
      "source": [
        "**Logistic Regression**"
      ],
      "metadata": {
        "id": "n-HRcRQPhRPO"
      }
    },
    {
      "cell_type": "code",
      "source": [
        "# Checking Accuracy for Logistic Regression\n",
        "LR = LogisticRegression()\n",
        "LR.fit(X_train,y_train)\n",
        "predLR = LR.predict(X_test)\n",
        "print(accuracy_score(y_test,predLR))\n",
        "print(\"Confusion Matric\" , confusion_matrix(y_test,predLR))\n",
        "print(classification_report(y_test,predLR))"
      ],
      "metadata": {
        "id": "rIH1837bhS9I"
      },
      "execution_count": null,
      "outputs": []
    },
    {
      "cell_type": "code",
      "source": [
        "#LR Classifier\n",
        "\n",
        "from sklearn.metrics import confusion_matrix\n",
        "sns.heatmap(confusion_matrix(y_test,predLR), annot=True,cmap = 'Blues')\n",
        "plt.show()"
      ],
      "metadata": {
        "id": "RehbNv8NlECe"
      },
      "execution_count": null,
      "outputs": []
    },
    {
      "cell_type": "code",
      "source": [
        "svc  = SVC()\n",
        "svc.fit(X_train,y_train)\n",
        "predsvc = svc.predict(X_test)\n",
        "print(accuracy_score(y_test,predsvc))\n",
        "print(\"Confusion Matric\" , confusion_matrix(y_test,predsvc))\n",
        "print(classification_report(y_test,predsvc))"
      ],
      "metadata": {
        "id": "wGZ24cTOhgFJ"
      },
      "execution_count": null,
      "outputs": []
    },
    {
      "cell_type": "code",
      "source": [
        "#SVC Classifier\n",
        "\n",
        "from sklearn.metrics import confusion_matrix\n",
        "sns.heatmap(confusion_matrix(y_test,predsvc), annot=True,cmap = 'Blues')\n",
        "plt.show()"
      ],
      "metadata": {
        "id": "t2CKn7WPlwos"
      },
      "execution_count": null,
      "outputs": []
    },
    {
      "cell_type": "code",
      "source": [
        "GB  = GradientBoostingClassifier()\n",
        "GB.fit(X_train,y_train)\n",
        "predGB = GB.predict(X_test)\n",
        "print(accuracy_score(y_test,predGB))\n",
        "print(\"Confusion Matric\" , confusion_matrix(y_test,predGB))\n",
        "print(classification_report(y_test,predGB))"
      ],
      "metadata": {
        "id": "rqGv12p9hqC9"
      },
      "execution_count": null,
      "outputs": []
    },
    {
      "cell_type": "code",
      "source": [
        "from sklearn.metrics import confusion_matrix\n",
        "sns.heatmap(confusion_matrix(y_test,predGB), annot=True,cmap = 'Blues')\n",
        "plt.show()"
      ],
      "metadata": {
        "id": "QeZiE80rl878"
      },
      "execution_count": null,
      "outputs": []
    },
    {
      "cell_type": "code",
      "source": [
        "#AdaBoost Classifier\n",
        "ABC  = AdaBoostClassifier()\n",
        "ABC.fit(X_train,y_train)\n",
        "predABC = ABC.predict(X_test)\n",
        "print(accuracy_score(y_test,predABC))\n",
        "print(\"Confusion Matric\" , confusion_matrix(y_test,predABC))\n",
        "print(classification_report(y_test,predABC))"
      ],
      "metadata": {
        "id": "L9Eonf1-hwMz"
      },
      "execution_count": null,
      "outputs": []
    },
    {
      "cell_type": "code",
      "source": [
        "from sklearn.metrics import confusion_matrix\n",
        "sns.heatmap(confusion_matrix(y_test,predABC), annot=True,cmap = 'Blues')\n",
        "plt.show()"
      ],
      "metadata": {
        "id": "hTkYiqsjmKQW"
      },
      "execution_count": null,
      "outputs": []
    }
  ]
}