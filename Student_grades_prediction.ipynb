{
  "nbformat": 4,
  "nbformat_minor": 0,
  "metadata": {
    "colab": {
      "private_outputs": true,
      "provenance": [],
      "authorship_tag": "ABX9TyOkCP5wQKSY4RJpixtuQ3j6",
      "include_colab_link": true
    },
    "kernelspec": {
      "name": "python3",
      "display_name": "Python 3"
    },
    "language_info": {
      "name": "python"
    }
  },
  "cells": [
    {
      "cell_type": "markdown",
      "metadata": {
        "id": "view-in-github",
        "colab_type": "text"
      },
      "source": [
        "<a href=\"https://colab.research.google.com/github/nallagondu/datatrained_inter_public/blob/main/Student_grades_prediction.ipynb\" target=\"_parent\"><img src=\"https://colab.research.google.com/assets/colab-badge.svg\" alt=\"Open In Colab\"/></a>"
      ]
    },
    {
      "cell_type": "markdown",
      "source": [
        "\n",
        "**Project Description**\n",
        "\n",
        "The dataset contains grades scored by students throughout their university tenure in various courses and their CGPA calculated based on their grades\n",
        "Columns Description-  total 43 columns\n",
        "-Seat No : The enrolled number of candidate that took the exams\n",
        "\n",
        "**CGPA **: The cumulative GPA based on the four year total grade progress of each candidate . CGPA is a Final Marks -- provided to student.\n",
        "\n",
        "· All other columns are course codes in the format AB-XXX where AB are alphabets representing candidates' departments and XXX are numbers where first X represents the year the canditate took exam\n",
        "\n",
        "\n",
        "**Predict** - CGPA of a student based on different grades in four years.\n",
        "\n"
      ],
      "metadata": {
        "id": "lSBagh_aiQoO"
      }
    },
    {
      "cell_type": "markdown",
      "source": [
        "Dataset Link-\n",
        "•  https://github.com/FlipRoboTechnologies/ML-Datasets/blob/main/Grades/Grades.csv\n",
        "\n"
      ],
      "metadata": {
        "id": "2nFto0rOibLQ"
      }
    },
    {
      "cell_type": "code",
      "execution_count": null,
      "metadata": {
        "id": "I_r4jSTNiKDY"
      },
      "outputs": [],
      "source": [
        "import pandas as pd\n",
        "import numpy as np\n",
        "import matplotlib.pyplot as plt\n",
        "import seaborn as sns\n",
        "import warnings\n",
        "warnings.filterwarnings('ignore')\n",
        "\n"
      ]
    },
    {
      "cell_type": "code",
      "source": [
        "url = 'https://raw.githubusercontent.com/FlipRoboTechnologies/ML-Datasets/main/Grades/Grades.csv'\n",
        "df = pd.read_csv(url)\n",
        "df.head()"
      ],
      "metadata": {
        "id": "u-d4Us2xixGH"
      },
      "execution_count": null,
      "outputs": []
    },
    {
      "cell_type": "code",
      "source": [
        "df"
      ],
      "metadata": {
        "id": "f4FWmJk1i5VQ"
      },
      "execution_count": null,
      "outputs": []
    },
    {
      "cell_type": "code",
      "source": [
        "df.info()"
      ],
      "metadata": {
        "id": "kdHn4G3pzbib"
      },
      "execution_count": null,
      "outputs": []
    },
    {
      "cell_type": "code",
      "source": [
        "df.dtypes"
      ],
      "metadata": {
        "id": "ayTHh64nz9y5"
      },
      "execution_count": null,
      "outputs": []
    },
    {
      "cell_type": "code",
      "source": [
        "df.isnull().sum()"
      ],
      "metadata": {
        "id": "hJymblto0TJE"
      },
      "execution_count": null,
      "outputs": []
    },
    {
      "cell_type": "code",
      "source": [
        "#NaN Value Imputation\n",
        "df.isna().sum()"
      ],
      "metadata": {
        "id": "WckGO29hxQPC"
      },
      "execution_count": null,
      "outputs": []
    },
    {
      "cell_type": "code",
      "source": [
        "from sklearn.preprocessing import LabelEncoder,StandardScaler\n",
        "\n",
        "\n",
        "le = LabelEncoder()\n",
        "for col in df.columns[1:-1]:\n",
        "    df[col] = le.fit_transform(df[col].astype(str))\n",
        "\n",
        "scaler = StandardScaler()\n",
        "df[df.columns[1:-1]] = scaler.fit_transform(df[df.columns[1:-1]])\n",
        "df.head()"
      ],
      "metadata": {
        "id": "FAYcerMa1zBu"
      },
      "execution_count": null,
      "outputs": []
    },
    {
      "cell_type": "code",
      "source": [
        "numericla_cols = df.columns[1:]"
      ],
      "metadata": {
        "id": "d7wPpKHDyNky"
      },
      "execution_count": null,
      "outputs": []
    },
    {
      "cell_type": "code",
      "source": [
        "#checking for correlation\n",
        "corr_matrix = df[numericla_cols].corr()\n",
        "plt.figure(figsize=(25,24))\n",
        "sns.heatmap(corr_matrix, annot = True, cmap = 'coolwarm',center = 0)\n",
        "plt.title('Correlation Matrix')\n",
        "plt.show()\n"
      ],
      "metadata": {
        "id": "xkNU0Kx_xl4f"
      },
      "execution_count": null,
      "outputs": []
    },
    {
      "cell_type": "code",
      "source": [
        "df.dtypes"
      ],
      "metadata": {
        "id": "wKr1qirD_L_6"
      },
      "execution_count": null,
      "outputs": []
    },
    {
      "cell_type": "code",
      "source": [
        "df.isnull().sum()"
      ],
      "metadata": {
        "id": "lAT_KksG_UKz"
      },
      "execution_count": null,
      "outputs": []
    },
    {
      "cell_type": "code",
      "source": [
        "df.info()"
      ],
      "metadata": {
        "id": "tZuUIpiE_2dY"
      },
      "execution_count": null,
      "outputs": []
    },
    {
      "cell_type": "code",
      "source": [
        "sns.heatmap(df.isnull())"
      ],
      "metadata": {
        "id": "1pl7MEdz_5pT"
      },
      "execution_count": null,
      "outputs": []
    },
    {
      "cell_type": "code",
      "source": [
        "df['Seat No.'].nunique()\n"
      ],
      "metadata": {
        "id": "CsPJg01XAV8v"
      },
      "execution_count": null,
      "outputs": []
    },
    {
      "cell_type": "code",
      "source": [
        "df.drop_duplicates(inplace=True)"
      ],
      "metadata": {
        "id": "F2oPyTBsA1qf"
      },
      "execution_count": null,
      "outputs": []
    },
    {
      "cell_type": "code",
      "source": [
        "qty = df['CGPA'].value_counts()\n",
        "\n",
        "plt.figure(figsize=(14,10))\n",
        "cgpa= df['CGPA'].value_counts()\n",
        "sns.barplot(x=qty.index,y=qty.values,order=qty.index,palette='Dark2')\n",
        "plt.title(\"Feature Distrubutions\",fontsize = 14)\n",
        "for index,value in enumerate(qty.values):\n",
        "  plt.text(index,value, value, fontsize=14)\n",
        "plt.tight_layout()\n",
        "plt.show()\n"
      ],
      "metadata": {
        "id": "oYE1tUbTBOHx"
      },
      "execution_count": null,
      "outputs": []
    },
    {
      "cell_type": "code",
      "source": [
        "ax = sns.countplot(x='CGPA',data = df)\n",
        "print(df['CGPA'].value_counts())"
      ],
      "metadata": {
        "id": "On72bblkB3YW"
      },
      "execution_count": null,
      "outputs": []
    },
    {
      "cell_type": "code",
      "source": [
        "from sklearn.model_selection import train_test_split"
      ],
      "metadata": {
        "id": "_91UK40l307x"
      },
      "execution_count": null,
      "outputs": []
    },
    {
      "cell_type": "code",
      "source": [
        "X = df.drop(['CGPA','Seat No.'],axis=1)\n",
        "y = df['CGPA']"
      ],
      "metadata": {
        "id": "OVOto5Xi_clp"
      },
      "execution_count": null,
      "outputs": []
    },
    {
      "cell_type": "code",
      "source": [
        "X_train,X_test,y_train,y_test = train_test_split(X,y,test_size=0.2,random_state=42)"
      ],
      "metadata": {
        "id": "ZUsy6O0H3ts5"
      },
      "execution_count": null,
      "outputs": []
    },
    {
      "cell_type": "code",
      "source": [
        "from sklearn.linear_model import LinearRegression\n",
        "from sklearn.ensemble import RandomForestRegressor\n",
        "from sklearn.svm import SVR\n",
        "from sklearn.metrics import mean_squared_error,r2_score\n",
        "import xgboost as xgb\n",
        "from sklearn.neighbors import KNeighborsRegressor\n"
      ],
      "metadata": {
        "id": "cOy41XO1_fa8"
      },
      "execution_count": null,
      "outputs": []
    },
    {
      "cell_type": "code",
      "source": [
        "models = {\n",
        "    'LR': LinearRegression(),\n",
        "    'RF': RandomForestRegressor(n_estimators=100, random_state=42),\n",
        "    'SVR': SVR(),\n",
        "    'XGB': xgb.XGBRegressor(objective='reg:squarederror'),\n",
        "    'knn' : KNeighborsRegressor()\n",
        "}\n",
        "\n",
        "for name, model in models.items():\n",
        "  model.fit(X_train,y_train)\n",
        "  y_pred = model.predict(X_test)\n",
        "  meanSquared_error = mean_squared_error(y_test,y_pred)\n",
        "  r_score = r2_score(y_test,y_pred)\n",
        "\n",
        "  print(f'{name} - Mean squared Error:{meanSquared_error:.4f}, R2 Score:{r_score:.4f}')"
      ],
      "metadata": {
        "id": "jIoTk5I8_lPn"
      },
      "execution_count": null,
      "outputs": []
    },
    {
      "cell_type": "code",
      "source": [
        "from sklearn.svm import SVR\n",
        "from sklearn.preprocessing import StandardScaler\n",
        "from sklearn.metrics import mean_squared_error,r2_score\n",
        "\n",
        "df.dtypes"
      ],
      "metadata": {
        "id": "DyBEQgGXXZ1c"
      },
      "execution_count": null,
      "outputs": []
    },
    {
      "cell_type": "code",
      "source": [
        "scaler = StandardScaler()\n",
        "X_train_scaled = scaler.fit_transform(X_train)\n",
        "X_test_scaled = scaler.transform(X_test)"
      ],
      "metadata": {
        "id": "-fRqEO63Yt1K"
      },
      "execution_count": null,
      "outputs": []
    },
    {
      "cell_type": "code",
      "source": [
        "svr = SVR(kernel = 'rbf', C = 1.0,epsilon = 0.1)\n",
        "svr.fit(X_train_scaled,y_train)\n",
        "y_pred = svr.predict(X_test_scaled)"
      ],
      "metadata": {
        "id": "BhfAMiBjaLld"
      },
      "execution_count": null,
      "outputs": []
    },
    {
      "cell_type": "code",
      "source": [
        "meanSquared_error = mean_squared_error(y_test,y_pred)\n",
        "r_score = r2_score(y_test,y_pred)\n",
        "print(f'SVR - Mean squared Error:{meanSquared_error:.4f}, R2 Score:{r_score:.4f}')"
      ],
      "metadata": {
        "id": "2xt2plDkari1"
      },
      "execution_count": null,
      "outputs": []
    }
  ]
}