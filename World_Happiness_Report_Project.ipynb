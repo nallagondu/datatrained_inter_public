{
  "nbformat": 4,
  "nbformat_minor": 0,
  "metadata": {
    "colab": {
      "private_outputs": true,
      "provenance": [],
      "authorship_tag": "ABX9TyPCg6dW418/TjiIchxfZ/BS",
      "include_colab_link": true
    },
    "kernelspec": {
      "name": "python3",
      "display_name": "Python 3"
    },
    "language_info": {
      "name": "python"
    }
  },
  "cells": [
    {
      "cell_type": "markdown",
      "metadata": {
        "id": "view-in-github",
        "colab_type": "text"
      },
      "source": [
        "<a href=\"https://colab.research.google.com/github/nallagondu/datatrained_inter_public/blob/main/World_Happiness_Report_Project.ipynb\" target=\"_parent\"><img src=\"https://colab.research.google.com/assets/colab-badge.svg\" alt=\"Open In Colab\"/></a>"
      ]
    },
    {
      "cell_type": "code",
      "execution_count": null,
      "metadata": {
        "id": "6Sz_JNyo9LdZ"
      },
      "outputs": [],
      "source": []
    },
    {
      "cell_type": "markdown",
      "source": [
        "**Project Description:**\n",
        "\n",
        "The World Happiness Report is a landmark survey of the state of global happiness. The first report was published in 2012, the second in 2013, the third in 2015, and the fourth in the 2016 Update. The World Happiness 2017, which ranks 155 countries by their happiness levels, was released at the United Nations at an event celebrating International Day of Happiness on March 20th. The report continues to gain global recognition as governments, organizations and civil society increasingly use happiness indicators to inform their policy-making decisions. Leading experts across fields – economics, psychology, survey analysis, national statistics, health, public policy and more – describe how measurements of well-being can be used effectively to assess the progress of nations. The reports review the state of happiness in the world today and show how the new science of happiness explains personal and national variations in happiness.\n"
      ],
      "metadata": {
        "id": "saqagqmM9N-A"
      }
    },
    {
      "cell_type": "markdown",
      "source": [
        "**What is Dystopia?**\n",
        "**Dystopia** is an imaginary country that has the world’s least-happy people. The purpose in establishing Dystopia is to have a benchmark against which all countries can be favorably compared (no country performs more poorly than Dystopia) in terms of each of the six key variables, thus allowing each sub-bar to be of positive width. The lowest scores observed for the six key variables, therefore, characterize Dystopia. Since life would be very unpleasant in a country with the world’s lowest incomes, lowest life expectancy, lowest generosity, most corruption, least freedom and least social support, it is referred to as “Dystopia,” in contrast to Utopia.\n"
      ],
      "metadata": {
        "id": "BGh1s77s9WPa"
      }
    },
    {
      "cell_type": "markdown",
      "source": [
        "**What are the residuals?**\n",
        "The residuals, or unexplained components, differ for each country, reflecting the extent to which the six variables either over- or under-explain average life evaluations. These residuals have an average value of approximately zero over the whole set of countries.\n",
        "\n",
        "\n",
        "**What do the columns succeeding the Happiness Score(like Family, Generosity, etc.) describe?**\n",
        "\n",
        "The following columns: GDP per Capita, Family, Life Expectancy, Freedom, Generosity, Trust Government Corruption describe the extent to which these factors contribute in evaluating the happiness in each country.\n",
        "The Dystopia Residual metric actually is the Dystopia Happiness Score(1.85) + the Residual value or the unexplained value for each country.\n",
        "The Dystopia Residual is already provided in the dataset.\n",
        "If you add all these factors up, you get the happiness score so it might be un-reliable to model them to predict Happiness Scores.\n"
      ],
      "metadata": {
        "id": "_QRrCtyZ9eSk"
      }
    },
    {
      "cell_type": "markdown",
      "source": [
        "You need to predict the happiness score considering all the other factors mentioned in the dataset.\n",
        "\n",
        "**Dataset Link-**\n",
        "https://github.com/FlipRoboTechnologies/ML-Datasets/blob/main/World%20Happiness/happiness_score_dataset.csv\n",
        "\n",
        "\n",
        "personal : https://github.com/nallagondu/ML-Datasets/blob/main/World%20Happiness/happiness_score_dataset.csv\n"
      ],
      "metadata": {
        "id": "cj36BTYj9lJq"
      }
    },
    {
      "cell_type": "code",
      "source": [
        "import pandas as pd\n",
        "import numpy as np\n",
        "import matplotlib.pyplot as plt\n",
        "import seaborn as sns\n",
        "import plotly.express as px\n",
        "import warnings\n",
        "warnings.filterwarnings(\"ignore\")\n",
        "\n",
        "\n"
      ],
      "metadata": {
        "id": "9YX4du45surp"
      },
      "execution_count": null,
      "outputs": []
    },
    {
      "cell_type": "code",
      "source": [
        "from sklearn.model_selection import train_test_split\n",
        "from sklearn.metrics import confusion_matrix,classification_report,accuracy_score\n",
        "from sklearn.decomposition import PCA\n",
        "from sklearn.preprocessing import StandardScaler"
      ],
      "metadata": {
        "id": "fxrv8HYu0cDr"
      },
      "execution_count": null,
      "outputs": []
    },
    {
      "cell_type": "code",
      "source": [
        "url = \"https://raw.githubusercontent.com/nallagondu/ML-Datasets/main/World%20Happiness/happiness_score_dataset.csv\"\n",
        "df = pd.read_csv(url)\n",
        "df"
      ],
      "metadata": {
        "id": "wkgLGb_jdMvk"
      },
      "execution_count": null,
      "outputs": []
    },
    {
      "cell_type": "code",
      "source": [
        "df.shape"
      ],
      "metadata": {
        "id": "weQN_l3Dfbdf"
      },
      "execution_count": null,
      "outputs": []
    },
    {
      "cell_type": "code",
      "source": [
        "df.describe()"
      ],
      "metadata": {
        "id": "ujPccGL0fyjV"
      },
      "execution_count": null,
      "outputs": []
    },
    {
      "cell_type": "code",
      "source": [
        "df.info()"
      ],
      "metadata": {
        "id": "N8WDy_XzgPM3"
      },
      "execution_count": null,
      "outputs": []
    },
    {
      "cell_type": "code",
      "source": [
        "#find any uniqu entries in Country\n",
        "unique_contries =df['Country'].unique()\n",
        "print(unique_contries)"
      ],
      "metadata": {
        "id": "5hu6ekvlgotf"
      },
      "execution_count": null,
      "outputs": []
    },
    {
      "cell_type": "code",
      "source": [
        "df.describe(include = 'object')"
      ],
      "metadata": {
        "id": "CcbbEmcliRpr"
      },
      "execution_count": null,
      "outputs": []
    },
    {
      "cell_type": "code",
      "source": [
        "#find any uniqu entries in Region\n",
        "unique_Region =df['Region'].unique()\n",
        "print(unique_Region)"
      ],
      "metadata": {
        "id": "FsO4GVjSioSq"
      },
      "execution_count": null,
      "outputs": []
    },
    {
      "cell_type": "code",
      "source": [
        "region_count = df['Region'].value_counts()\n",
        "print(\"Region count :\", region_count)"
      ],
      "metadata": {
        "id": "LBGcJXjriygZ"
      },
      "execution_count": null,
      "outputs": []
    },
    {
      "cell_type": "code",
      "source": [
        "df.isnull().sum()"
      ],
      "metadata": {
        "id": "mYruh6pCjoRc"
      },
      "execution_count": null,
      "outputs": []
    },
    {
      "cell_type": "markdown",
      "source": [
        "**There is no missing values in this Data **"
      ],
      "metadata": {
        "id": "q-nT3pROjvW0"
      }
    },
    {
      "cell_type": "code",
      "source": [
        "df.describe(include = 'number')"
      ],
      "metadata": {
        "id": "Hz2S7HEIj6_0"
      },
      "execution_count": null,
      "outputs": []
    },
    {
      "cell_type": "code",
      "source": [
        "df.info()"
      ],
      "metadata": {
        "id": "0ldLvZDwl-Cf"
      },
      "execution_count": null,
      "outputs": []
    },
    {
      "cell_type": "code",
      "source": [
        "from re import Pattern\n",
        "sns.countplot(x = 'Region', data = df,color = 'darkblue')\n",
        "plt.xticks(rotation = 90 )\n",
        "plt.show()"
      ],
      "metadata": {
        "id": "PCGMllR6mQ_e"
      },
      "execution_count": null,
      "outputs": []
    },
    {
      "cell_type": "code",
      "source": [
        "plt.figure(figsize=(25,10))\n",
        "qty = df['Region'].value_counts()\n",
        "sns.barplot(x=qty.index,y=qty.values,order=qty.index,palette='Dark2')\n",
        "plt.title(\"Counties distrubution of Region \",fontsize = 12)\n",
        "for index,value in enumerate(qty.values):\n",
        "  plt.text(index,value, value, fontsize=10)\n",
        "plt.tight_layout()\n",
        "plt.show()\n"
      ],
      "metadata": {
        "id": "f0suQyUGGnzk"
      },
      "execution_count": null,
      "outputs": []
    },
    {
      "cell_type": "code",
      "source": [
        "sns.boxplot(data=df['Happiness Score'], orient = 'v', palette = \"Set1\")\n",
        "plt.xticks(rotation = 30)\n",
        "plt.show()"
      ],
      "metadata": {
        "id": "6C2_Baxm35S2"
      },
      "execution_count": null,
      "outputs": []
    },
    {
      "cell_type": "code",
      "source": [
        "plt.figure(figsize=(10,6))\n",
        "sns.histplot(df['Happiness Score'],kde =True,bins =30)\n",
        "plt.title(\"Happyness Score Distrubution \")\n",
        "plt.xlabel('Happiness Score')\n",
        "plt.ylabel(\"Frequency\")\n",
        "plt.show()"
      ],
      "metadata": {
        "id": "R10VecQs4u5y"
      },
      "execution_count": null,
      "outputs": []
    },
    {
      "cell_type": "code",
      "source": [
        "plt.figure(figsize=(10,6))\n",
        "sns.histplot(df['Happiness Score'],kde =True,bins =30)\n",
        "plt.title(\"Happyness Score Distrubution \")\n",
        "plt.xlabel('Region')\n",
        "plt.ylabel(\"Happiness Score\")\n",
        "plt.show()"
      ],
      "metadata": {
        "id": "kbMMUb3S4g2g"
      },
      "execution_count": null,
      "outputs": []
    },
    {
      "cell_type": "code",
      "source": [
        "df.filter_happyness = df[(df['Happiness Score'] > 7.5) | (df['Happiness Score'] < 4 )]\n",
        "sns.barplot(x= 'Happiness Score' , y = 'Country', data = df.filter_happyness, palette = \"Set1\")\n",
        "plt.show()"
      ],
      "metadata": {
        "id": "4-BtMSU872Sk"
      },
      "execution_count": null,
      "outputs": []
    },
    {
      "cell_type": "code",
      "source": [
        "plt.figure(figsize = (15,9))\n",
        "sns.kdeplot(x=df['Happiness Score'], hue=df['Region'], fill= True)\n",
        "plt.axvline(df['Happiness Score'].mean(), c = 'black')\n",
        "plt.title(\"Happiness Score by Country  \")\n",
        "plt.ylim(0,0.2)\n",
        "plt.legend()\n",
        "plt.show()"
      ],
      "metadata": {
        "id": "tBYz6_bl9jjv"
      },
      "execution_count": null,
      "outputs": []
    },
    {
      "cell_type": "code",
      "source": [
        "df.dtypes"
      ],
      "metadata": {
        "id": "h4VTbaT2BqHv"
      },
      "execution_count": null,
      "outputs": []
    },
    {
      "cell_type": "code",
      "source": [
        "numerical_cols  = df.select_dtypes(include = 'number')\n",
        "correlation_mat = numerical_cols.corr()\n",
        "\n",
        "mask = np.triu(np.ones_like(correlation_mat,dtype=bool))\n",
        "\n",
        "plt.figure(figsize= (14,12))\n",
        "sns.heatmap(correlation_mat,annot=True,cmap='coolwarm',fmt='.2f',linewidths=0.5,mask =mask )\n",
        "plt.xticks(rotation=25, ha = 'right')\n",
        "plt.title(\"Correlation heatmap \")\n",
        "plt.show()"
      ],
      "metadata": {
        "id": "Z9G3cttWCEil"
      },
      "execution_count": null,
      "outputs": []
    },
    {
      "cell_type": "code",
      "source": [
        "df.head()"
      ],
      "metadata": {
        "id": "_bm3VZZoFwmI"
      },
      "execution_count": null,
      "outputs": []
    },
    {
      "cell_type": "code",
      "source": [
        "plt.figure(figsize = (15,9))\n",
        "sns.kdeplot(x=df['Economy (GDP per Capita)'], hue=df['Happiness Score'], fill= True)\n",
        "#plt.axvline(df['Economy (GDP per Capita)'].mean(), c = 'black')\n",
        "plt.title(\"Economy (GDP per Capita) by Country  \")\n",
        "#plt.ylim(0,0.2)\n",
        "plt.legend()\n",
        "plt.show()"
      ],
      "metadata": {
        "id": "9w-llhzLGBjY"
      },
      "execution_count": null,
      "outputs": []
    },
    {
      "cell_type": "code",
      "source": [
        "df.columns"
      ],
      "metadata": {
        "id": "qsDvFpfQNwEY"
      },
      "execution_count": null,
      "outputs": []
    },
    {
      "cell_type": "code",
      "source": [
        "sns.pairplot(df, vars= ['Happiness Rank', 'Happiness Score',\n",
        "       'Standard Error', 'Economy (GDP per Capita)', 'Family',\n",
        "       'Health (Life Expectancy)', 'Freedom', 'Trust (Government Corruption)',\n",
        "       'Generosity', 'Dystopia Residual'])\n",
        "plt.show()"
      ],
      "metadata": {
        "id": "YuZiaislNznQ"
      },
      "execution_count": null,
      "outputs": []
    },
    {
      "cell_type": "code",
      "source": [
        "#correlation\n",
        "df_correlation = df[['Happiness Rank', 'Happiness Score',\n",
        "       'Standard Error', 'Economy (GDP per Capita)', 'Family',\n",
        "       'Health (Life Expectancy)', 'Freedom', 'Trust (Government Corruption)',\n",
        "       'Generosity', 'Dystopia Residual']].dropna().corr()\n",
        "df_correlation"
      ],
      "metadata": {
        "id": "Te7wbmjGOGFP"
      },
      "execution_count": null,
      "outputs": []
    },
    {
      "source": [
        "# @title Happiness Rank vs Economy over time\n",
        "\n",
        "df_correlation.plot.line(x='Happiness Rank', y='Economy (GDP per Capita)')"
      ],
      "cell_type": "code",
      "execution_count": null,
      "outputs": [],
      "metadata": {
        "cellView": "form",
        "id": "uzL1EGx-Ozpf"
      }
    },
    {
      "cell_type": "code",
      "source": [
        "sns.heatmap(df_correlation,annot=True)"
      ],
      "metadata": {
        "id": "MVYfCTMCO-ju"
      },
      "execution_count": null,
      "outputs": []
    }
  ]
}