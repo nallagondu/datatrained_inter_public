{
  "nbformat": 4,
  "nbformat_minor": 0,
  "metadata": {
    "colab": {
      "private_outputs": true,
      "provenance": [],
      "authorship_tag": "ABX9TyMvemL6yObu42CwRhGrrJ4P",
      "include_colab_link": true
    },
    "kernelspec": {
      "name": "python3",
      "display_name": "Python 3"
    },
    "language_info": {
      "name": "python"
    }
  },
  "cells": [
    {
      "cell_type": "markdown",
      "metadata": {
        "id": "view-in-github",
        "colab_type": "text"
      },
      "source": [
        "<a href=\"https://colab.research.google.com/github/nallagondu/datatrained_inter_public/blob/main/Red_Wine_Quality_Prediction_Project_v01.ipynb\" target=\"_parent\"><img src=\"https://colab.research.google.com/assets/colab-badge.svg\" alt=\"Open In Colab\"/></a>"
      ]
    },
    {
      "cell_type": "code",
      "execution_count": null,
      "metadata": {
        "id": "69MyQHQWPMJF"
      },
      "outputs": [],
      "source": []
    },
    {
      "cell_type": "markdown",
      "source": [
        "**Project Description**\n",
        "The dataset is related to red and white variants of the Portuguese \"Vinho Verde\" wine. Due to privacy and logistic issues, only physicochemical (inputs) and sensory (the output) variables are available (e.g. there is no data about grape types, wine brand, wine selling price, etc.).\n",
        "\n",
        "This dataset can be viewed as **classification task**. The classes are ordered and not balanced (e.g. there are many more normal wines than excellent or poor ones). Also, we are not sure if all input variables are relevant. So it could be interesting to test feature selection methods.\n"
      ],
      "metadata": {
        "id": "-95BUs32PX-R"
      }
    },
    {
      "cell_type": "markdown",
      "source": [
        "**Attribute Information**\n",
        "Input variables (based on physicochemical tests):\n",
        "1 - fixed acidity\n",
        "2 - volatile acidity\n",
        "3 - citric acid\n",
        "4 - residual sugar\n",
        "5 - chlorides\n",
        "6 - free sulfur dioxide\n",
        "7 - total sulfur dioxide\n",
        "8 - density\n",
        "9 - pH\n",
        "10 - sulphates\n",
        "11 - alcohol\n",
        "Output variable (based on sensory data):\n",
        "12 - quality (score between 0 and 10)\n",
        "What might be an interesting thing to do, is to set an arbitrary cutoff for your dependent variable (wine quality) at e.g. 7 or higher getting classified as 'good/1' and the remainder as 'not good/0'.\n",
        "This allows you to practice with hyper parameter tuning on e.g. decision tree algorithms looking at the ROC curve and the AUC value.\n",
        "You need to build a classification model.\n"
      ],
      "metadata": {
        "id": "uLFFBYFiTnGs"
      }
    },
    {
      "cell_type": "code",
      "source": [
        "import pandas as pd\n",
        "import numpy as np\n",
        "import seaborn as sns\n",
        "import matplotlib.pyplot as plt\n",
        "from sklearn.model_selection import train_test_split\n",
        "from sklearn.metrics import confusion_matrix,classification_report,accuracy_score\n",
        "from sklearn.decomposition import PCA\n",
        "from sklearn.preprocessing import StandardScaler\n",
        "import warnings\n",
        "warnings.filterwarnings('ignore')"
      ],
      "metadata": {
        "id": "p9KNcS-mTu0c"
      },
      "execution_count": null,
      "outputs": []
    },
    {
      "cell_type": "code",
      "source": [
        "url = \"https://raw.githubusercontent.com/nallagondu/ML-Datasets/main/Red%20Wine/winequality-red.csv\"\n",
        "\n",
        "df = pd.read_csv(url)\n",
        "df\n"
      ],
      "metadata": {
        "id": "W9d5Ix3LTv8d"
      },
      "execution_count": null,
      "outputs": []
    },
    {
      "cell_type": "code",
      "source": [],
      "metadata": {
        "id": "CVCP0bCj3sSZ"
      },
      "execution_count": null,
      "outputs": []
    },
    {
      "cell_type": "code",
      "source": [
        "#checking Dimension of Dataset\n",
        "df.shape"
      ],
      "metadata": {
        "id": "pNomeHP02xpK"
      },
      "execution_count": null,
      "outputs": []
    },
    {
      "cell_type": "code",
      "source": [
        "df.columns"
      ],
      "metadata": {
        "id": "VlC_Qxoj3RJR"
      },
      "execution_count": null,
      "outputs": []
    },
    {
      "cell_type": "code",
      "source": [
        "df.columns.tolist()"
      ],
      "metadata": {
        "id": "gq6WWa4t3Z5O"
      },
      "execution_count": null,
      "outputs": []
    },
    {
      "cell_type": "code",
      "source": [
        "df.dtypes"
      ],
      "metadata": {
        "id": "MNPL5lTD3erq"
      },
      "execution_count": null,
      "outputs": []
    },
    {
      "cell_type": "code",
      "source": [
        "df.isnull().sum()"
      ],
      "metadata": {
        "id": "7mECidXN3tXV"
      },
      "execution_count": null,
      "outputs": []
    },
    {
      "cell_type": "markdown",
      "source": [
        "No missing values found in Dataset"
      ],
      "metadata": {
        "id": "RqZpu8CQAACW"
      }
    },
    {
      "cell_type": "code",
      "source": [
        "#Basic information about data\n",
        "df.info()"
      ],
      "metadata": {
        "id": "oq6CKars4pXT"
      },
      "execution_count": null,
      "outputs": []
    },
    {
      "cell_type": "code",
      "source": [
        "df.info(verbose=False)"
      ],
      "metadata": {
        "id": "PiwEO5Lz_tf8"
      },
      "execution_count": null,
      "outputs": []
    },
    {
      "cell_type": "code",
      "source": [
        "sns.heatmap(df.isnull())"
      ],
      "metadata": {
        "id": "6oCoGEYh5vip"
      },
      "execution_count": null,
      "outputs": []
    },
    {
      "cell_type": "code",
      "source": [
        "df['quality'].unique()"
      ],
      "metadata": {
        "id": "wPKTHKmz6dXK"
      },
      "execution_count": null,
      "outputs": []
    },
    {
      "cell_type": "code",
      "source": [
        "df['quality'].nunique()"
      ],
      "metadata": {
        "id": "LjfTwPAh6q-b"
      },
      "execution_count": null,
      "outputs": []
    },
    {
      "cell_type": "code",
      "source": [
        "for i in df.columns:\n",
        "  print(df[i].value_counts())\n",
        "  print(\"\\n\")"
      ],
      "metadata": {
        "id": "PA13P4AJ66u6"
      },
      "execution_count": null,
      "outputs": []
    },
    {
      "cell_type": "markdown",
      "source": [
        "These are the values counts of all columns and we can see no blank in comulns"
      ],
      "metadata": {
        "id": "5uJ8bY9l7lS6"
      }
    },
    {
      "cell_type": "code",
      "source": [
        "df.shape[0]"
      ],
      "metadata": {
        "id": "wRtEoCe87wrB"
      },
      "execution_count": null,
      "outputs": []
    },
    {
      "cell_type": "code",
      "source": [
        "df.duplicated().any()"
      ],
      "metadata": {
        "id": "hN9KQNUT73UG"
      },
      "execution_count": null,
      "outputs": []
    },
    {
      "cell_type": "code",
      "source": [
        "df[df.duplicated()==True].shape[0]"
      ],
      "metadata": {
        "id": "WLL4761tAqsE"
      },
      "execution_count": null,
      "outputs": []
    },
    {
      "cell_type": "markdown",
      "source": [
        "we found 240 duplicate records  and droping the duplicate records"
      ],
      "metadata": {
        "id": "ChxQMUuOA3XW"
      }
    },
    {
      "cell_type": "code",
      "source": [
        "df.drop_duplicates(inplace=True)"
      ],
      "metadata": {
        "id": "2ihtbcyfBTQL"
      },
      "execution_count": null,
      "outputs": []
    },
    {
      "cell_type": "code",
      "source": [
        "df[df.duplicated()==True].shape[0]\n"
      ],
      "metadata": {
        "id": "7HK3qEkPBfPy"
      },
      "execution_count": null,
      "outputs": []
    },
    {
      "cell_type": "code",
      "source": [
        "df.describe()"
      ],
      "metadata": {
        "id": "FIvHqrXb77lL"
      },
      "execution_count": null,
      "outputs": []
    },
    {
      "cell_type": "markdown",
      "source": [
        "The min wine Quality is 3 and the max wine quality is 8\n",
        "\n",
        "Mean value of red wine holds according to the data is 10.4\n",
        "\n",
        "there is a difference between average total **total sulfur dioxide**:  46.825975\t  -and Max total sulfur dioxide -289.000000\t and also **free sulfur dioxide**   **15.893304** and max is **72.000000**"
      ],
      "metadata": {
        "id": "Ua42Vbh8CIiP"
      }
    },
    {
      "cell_type": "code",
      "source": [
        "plt.figure(figsize=(14,10))\n",
        "qty = df['quality'].value_counts()\n",
        "sns.barplot(x=qty.index,y=qty.values,order=qty.index,palette='Dark2')\n",
        "plt.title(\"Feature Distrubutions\",fontsize = 14)\n",
        "for index,value in enumerate(qty.values):\n",
        "  plt.text(index,value, value, fontsize=14)\n",
        "plt.tight_layout()\n",
        "plt.show()\n"
      ],
      "metadata": {
        "id": "vL2hnV73CIG-"
      },
      "execution_count": null,
      "outputs": []
    },
    {
      "cell_type": "markdown",
      "source": [
        "Here we can see most of the wine having quality 5 and 6 and we can see class imblance in the targe feature.\n",
        "\n",
        "So we are going to use imbalance techniques ⁉\n",
        "\n"
      ],
      "metadata": {
        "id": "6yZHuWlNF6t5"
      }
    },
    {
      "cell_type": "code",
      "source": [
        "ax = sns.countplot(x='quality',data = df)\n",
        "print(df['quality'].value_counts())"
      ],
      "metadata": {
        "id": "DR7lwVoDF6fj"
      },
      "execution_count": null,
      "outputs": []
    },
    {
      "cell_type": "code",
      "source": [
        "#checking for numerical columns\n",
        "numerical_col = []\n",
        "for i in df.dtypes.index:\n",
        "  if df.dtypes[i]!=\"object\":\n",
        "    numerical_col.append(i)\n",
        "print(\"Numerical columns:\", numerical_col)"
      ],
      "metadata": {
        "id": "rhiQxj3uLRQx"
      },
      "execution_count": null,
      "outputs": []
    },
    {
      "cell_type": "code",
      "source": [
        "#Data disctubution of remaining  columns\n",
        "#lets check how the data distributed remaining column\n",
        "plt.figure(figsize = (10, 6), facecolor = \"white\")\n",
        "plotnumber = 1\n",
        "for col in numerical_col:\n",
        "  if plotnumber<=4:\n",
        "    ax = plt.subplot(2,2, plotnumber)\n",
        "    sns.distplot(df[col],color = \"m\")\n",
        "    plt.xlabel(col, fontsize = 12)\n",
        "    plt.yticks(rotation = 0,fontsize = 10)\n",
        "  plotnumber+=1\n",
        "plt.tight_layout()"
      ],
      "metadata": {
        "id": "Q-vrDotYKPH6"
      },
      "execution_count": null,
      "outputs": []
    },
    {
      "cell_type": "code",
      "source": [
        "#Lets check the outliers by plotting boxplot\n",
        "plt.figure(figsize = (10, 6), facecolor = \"white\")\n",
        "plotnumber = 1\n",
        "for col in numerical_col:\n",
        "  if plotnumber<=4:\n",
        "    ax = plt.subplot(2,2, plotnumber)\n",
        "    sns.boxplot(df[col], palette = \"Dark2\")\n",
        "    plt.xlabel(col, fontsize = 15)\n",
        "    plt.yticks(rotation = 0, fontsize = 10)\n",
        "  plotnumber+=1\n",
        "plt.tight_layout()\n",
        "\n"
      ],
      "metadata": {
        "id": "JBiA7yzJd3VX"
      },
      "execution_count": null,
      "outputs": []
    },
    {
      "cell_type": "code",
      "source": [
        "df.skew()"
      ],
      "metadata": {
        "id": "zDpPL7PZeOTQ"
      },
      "execution_count": null,
      "outputs": []
    },
    {
      "cell_type": "code",
      "source": [
        "def numerical_plt(column):\n",
        "    plt.figure(figsize=(13.5,10))\n",
        "    plt.subplot(2,1,1)\n",
        "    sns.boxplot(x=\"quality\",y=column, data=df, palette=\"Dark2\")\n",
        "    plt.title(f\"{column.title()} vs Quality Analysis\",fontweight=\"black\",size=25,pad=10,)\n",
        "\n",
        "    plt.subplot(2,1,2)\n",
        "    sns.histplot(x=column,kde=True,hue=\"quality\",data=df, palette=\"bright\")\n",
        "    skew = df[column].skew()\n",
        "    plt.title(f\"Skewness of {column.title()} Feature is: {round(skew,3)}\",fontweight=\"black\",size=20,pad=10)\n",
        "    plt.tight_layout()\n",
        "    plt.show()"
      ],
      "metadata": {
        "id": "eNKPfonPLsA7"
      },
      "execution_count": null,
      "outputs": []
    },
    {
      "cell_type": "code",
      "source": [
        "#df['fixed acidity'] = np.cbrt(df['fixed acidity'])\n"
      ],
      "metadata": {
        "id": "p8KapH6vfwcY"
      },
      "execution_count": null,
      "outputs": []
    },
    {
      "cell_type": "code",
      "source": [
        "#df['residual sugar'] = np.cbrt(df['residual sugar'])"
      ],
      "metadata": {
        "id": "5qwVs3U8f6pd"
      },
      "execution_count": null,
      "outputs": []
    },
    {
      "cell_type": "code",
      "source": [
        "#df['chlorides'] = np.cbrt(df['chlorides'])"
      ],
      "metadata": {
        "id": "h5Z_0KDIgDAM"
      },
      "execution_count": null,
      "outputs": []
    },
    {
      "cell_type": "code",
      "source": [
        "df.skew()"
      ],
      "metadata": {
        "id": "_K3Mm41ggKnQ"
      },
      "execution_count": null,
      "outputs": []
    },
    {
      "cell_type": "code",
      "source": [
        "numerical_plt(\"fixed acidity\")"
      ],
      "metadata": {
        "id": "-74PRM6GMBhn"
      },
      "execution_count": null,
      "outputs": []
    },
    {
      "cell_type": "code",
      "source": [
        "numerical_plt('volatile acidity')"
      ],
      "metadata": {
        "id": "RAJFtueAM8M9"
      },
      "execution_count": null,
      "outputs": []
    },
    {
      "cell_type": "code",
      "source": [
        "numerical_plt('citric acid')"
      ],
      "metadata": {
        "id": "Fx8fST_ePvo7"
      },
      "execution_count": null,
      "outputs": []
    },
    {
      "cell_type": "code",
      "source": [
        "numerical_plt('residual sugar')"
      ],
      "metadata": {
        "id": "Lh8ViMdhP_0J"
      },
      "execution_count": null,
      "outputs": []
    },
    {
      "cell_type": "code",
      "source": [
        "numerical_plt('chlorides')"
      ],
      "metadata": {
        "id": "7uYMciSgQhuj"
      },
      "execution_count": null,
      "outputs": []
    },
    {
      "cell_type": "code",
      "source": [
        "numerical_plt('free sulfur dioxide')"
      ],
      "metadata": {
        "id": "Yaw6iTjERB78"
      },
      "execution_count": null,
      "outputs": []
    },
    {
      "cell_type": "code",
      "source": [
        "numerical_plt('total sulfur dioxide')"
      ],
      "metadata": {
        "id": "3JFamdQfRPDg"
      },
      "execution_count": null,
      "outputs": []
    },
    {
      "cell_type": "code",
      "source": [
        "numerical_plt('density')"
      ],
      "metadata": {
        "id": "agr3uVGpRinK"
      },
      "execution_count": null,
      "outputs": []
    },
    {
      "cell_type": "code",
      "source": [
        "numerical_plt('pH')"
      ],
      "metadata": {
        "id": "ShrepAtiRrfw"
      },
      "execution_count": null,
      "outputs": []
    },
    {
      "cell_type": "code",
      "source": [
        "numerical_plt('sulphates')"
      ],
      "metadata": {
        "id": "7ktAOcabSAXf"
      },
      "execution_count": null,
      "outputs": []
    },
    {
      "cell_type": "code",
      "source": [
        "numerical_plt('alcohol')"
      ],
      "metadata": {
        "id": "00Fb2Wl9SXrC"
      },
      "execution_count": null,
      "outputs": []
    },
    {
      "cell_type": "code",
      "source": [
        "#Correlation\n",
        "import pandas as pd\n",
        "import seaborn as sns\n",
        "import matplotlib.pyplot as plt\n",
        "\n",
        "\n",
        "columns = df.columns.tolist()\n",
        "columns.remove('quality') # Quality have discrete values\n"
      ],
      "metadata": {
        "id": "gpMi6A7sWPs2"
      },
      "execution_count": null,
      "outputs": []
    },
    {
      "cell_type": "code",
      "source": [
        "correlation  = df[columns].corr()\n",
        "plt.figure(figsize=(14,10))\n",
        "sns.heatmap(correlation, fmt=\".2g\", annot=True, cmap='YlOrRd_r',linewidths = .5 )\n",
        "plt.tight_layout()\n",
        "plt.show()"
      ],
      "metadata": {
        "id": "8y1cZgWuXfl-"
      },
      "execution_count": null,
      "outputs": []
    },
    {
      "cell_type": "markdown",
      "source": [
        "most of the featured are having High correlation with other features\n",
        "Fixed acdity having high correlation with Citric acid and Density\n"
      ],
      "metadata": {
        "id": "dMRgMPszyaaK"
      }
    },
    {
      "cell_type": "code",
      "source": [
        "df.describe()"
      ],
      "metadata": {
        "id": "dC_QwQl5h77N"
      },
      "execution_count": null,
      "outputs": []
    },
    {
      "cell_type": "code",
      "source": [
        "df.skew()"
      ],
      "metadata": {
        "id": "XCWddX7A2axp"
      },
      "execution_count": null,
      "outputs": []
    },
    {
      "cell_type": "code",
      "source": [
        "#Perform ANOVA test to analyze the feature Importance in Wine Quality\n",
        "from scipy import stats\n",
        "\n",
        "f_scores = {}\n",
        "p_values = {}\n",
        "\n",
        "for column in columns:\n",
        "  f_score,p_value = stats.f_oneway(df[column],df['quality'])\n",
        "  f_scores[column] = f_score\n",
        "  p_values[column] = p_value"
      ],
      "metadata": {
        "id": "hKrUlbdOvjsz"
      },
      "execution_count": null,
      "outputs": []
    },
    {
      "cell_type": "code",
      "source": [
        "plt.figure(figsize=(15,6))\n",
        "keys = list(f_scores.keys())\n",
        "values = list(f_scores.values())\n",
        "sns.barplot(x=keys,y=values, palette = 'pastel')\n",
        "plt.title(\"ANOVA Test\", fontweight = \"bold\",size = 20,pad = 15)\n",
        "plt.xticks(rotation = 90)\n",
        "\n",
        "for index,value in enumerate(values):\n",
        "  plt.text(index,value,int(value), ha= \"center\", va = 'bottom',fontweight=\"bold\",size = 15)\n",
        "plt.show()"
      ],
      "metadata": {
        "id": "Nf2odXnlw21s"
      },
      "execution_count": null,
      "outputs": []
    },
    {
      "cell_type": "code",
      "source": [
        "#ANOVA TEST Comparing F_Score and P_values\n",
        "\n",
        "df_test = pd.DataFrame({\"Features\":keys,\"F_score\": values})\n",
        "df_test[\"P_values\"] = list(p_values.values())"
      ],
      "metadata": {
        "id": "lDROtA95ywnC"
      },
      "execution_count": null,
      "outputs": []
    },
    {
      "cell_type": "code",
      "source": [
        "df_test"
      ],
      "metadata": {
        "id": "oORWj_7Y0eEA"
      },
      "execution_count": null,
      "outputs": []
    },
    {
      "cell_type": "code",
      "source": [
        "#Computing Skewness of Each Numerical Attributes.\n",
        "\n",
        "df1 = df.copy()\n",
        "columns = df.columns.tolist()\n",
        "columns.remove(\"quality\")"
      ],
      "metadata": {
        "id": "fgIfYjd10niP"
      },
      "execution_count": null,
      "outputs": []
    },
    {
      "cell_type": "code",
      "source": [
        "skew_df = df[columns].skew().to_frame().rename(columns={0:\"skewness\"})\n",
        "skew_df"
      ],
      "metadata": {
        "id": "2XwRzHnW08BS"
      },
      "execution_count": null,
      "outputs": []
    },
    {
      "cell_type": "markdown",
      "source": [
        "Analysis of Skewness Values\n",
        "\n",
        "Fixed acidity (0.941041): Moderately skewed to the right.\n",
        "\n",
        "Volatile acidity (0.729279): Moderately skewed to the right.\n",
        "\n",
        "Citric acid (0.312726): Slightly skewed to the right, close to symmetric.\n",
        "\n",
        "Residual sugar (4.548153): Highly skewed to the right.\n",
        "\n",
        "Chlorides (5.502487): Highly skewed to the right.\n",
        "\n",
        "Free sulfur dioxide (1.226579): Highly skewed to the right.\n",
        "\n",
        "Total sulfur dioxide (1.540368): Highly skewed to the right.\n",
        "\n",
        "Density (0.044778): Nearly symmetric.\n",
        "\n",
        "pH (0.232032): Nearly symmetric.\n",
        "\n",
        "Sulphates (2.406505): Highly skewed to the right\n",
        ".\n",
        "\n",
        "Alcohol (0.859841): Moderately skewed to the right."
      ],
      "metadata": {
        "id": "MfmupcIp1gxl"
      }
    },
    {
      "cell_type": "markdown",
      "source": [
        "To handle skewness, especially in highly skewed data,we have to apply transformations:\n",
        "\n",
        "Log Transformation: Apply a logarithmic transformation to reduce right skewness.\n",
        "\n",
        "Square Root Transformation: Apply a square root transformation to reduce moderate right skewness.\n",
        "\n",
        "Box-Cox Transformation: A more flexible transformation that can handle both positive and negative skewness."
      ],
      "metadata": {
        "id": "Rxa4AgVd1009"
      }
    },
    {
      "cell_type": "markdown",
      "source": [
        "##**Skewness Transfermation analysis using different Techniques**"
      ],
      "metadata": {
        "id": "gDORcZYGOl8s"
      }
    },
    {
      "cell_type": "code",
      "source": [],
      "metadata": {
        "id": "BBeA8nGH3kdY"
      },
      "execution_count": null,
      "outputs": []
    },
    {
      "cell_type": "code",
      "source": [
        "skewness_transformation = {}\n",
        "\n",
        "for col in columns:\n",
        "    transformed_log = np.log(df[col])  # Log Transformation\n",
        "    transformed_boxcox = special.boxcox1p(df[col], 0.15)     # Box-Cox Transformation with lambda=0.15\n",
        "    transformed_inverse = 1 / df[col]   # Inverse Transformation\n",
        "    transformed_cbrt = np.cbrt(df[col]) # Cube Root Transformation\n",
        "    transformed_yeojohnson, _ = stats.yeojohnson(df[col])\n",
        "    # Create a dictionary for the skewness values of each transformation\n",
        "    transformation_skewness = {\n",
        "        \"Log Transformation\": stats.skew(transformed_log),\n",
        "        \"Box-Cox Transformation\": stats.skew(transformed_boxcox),\n",
        "        \"Inverse Transformation\": stats.skew(transformed_inverse),\n",
        "        \"Cube Root Transformation\": stats.skew(transformed_cbrt),\n",
        "        \"Yeo Johnson Transformation\": stats.skew(transformed_yeojohnson)}\n",
        "\n",
        "    # Store the transformation skewness values for the column\n",
        "    skewness_transformation[col] = transformation_skewness"
      ],
      "metadata": {
        "id": "Iuyp37YcPJ2k"
      },
      "execution_count": null,
      "outputs": []
    },
    {
      "cell_type": "code",
      "source": [
        "df_ref = pd.DataFrame.from_dict(skewness_transformation, orient= 'index')\n",
        "df_ref = pd.concat([skew_df[\"skewness\"],  df_ref], axis=1)\n",
        "df_ref"
      ],
      "metadata": {
        "id": "1QHaf6adRvvC"
      },
      "execution_count": null,
      "outputs": []
    },
    {
      "cell_type": "markdown",
      "source": [
        "**Here I'm using box-cox  Transformation **"
      ],
      "metadata": {
        "id": "nfy4mpgL01W8"
      }
    },
    {
      "cell_type": "code",
      "source": [
        "for col in columns:\n",
        "  transformed_col,_ = stats.yeojohnson(df[col])\n",
        "  df[col]= transformed_col"
      ],
      "metadata": {
        "id": "6uciwWOc0-wk"
      },
      "execution_count": null,
      "outputs": []
    },
    {
      "cell_type": "code",
      "source": [
        "df.sample(4)"
      ],
      "metadata": {
        "id": "Nr1UkDKW4jD-"
      },
      "execution_count": null,
      "outputs": []
    },
    {
      "cell_type": "code",
      "source": [
        "#for col in columns:\n",
        "#  if df[col].min() < 0:\n",
        "  #  df[col] = df[col] + abs(df[col].min()) +1\n",
        "\n",
        " # transformed_col, _ = stats.boxcox(df[col])\n",
        " # df[col]= transformed_col"
      ],
      "metadata": {
        "id": "XkvpmeAi4qjZ"
      },
      "execution_count": null,
      "outputs": []
    },
    {
      "cell_type": "markdown",
      "source": [
        "##**Splitting Target vriables into two groups **"
      ],
      "metadata": {
        "id": "enInv7JR5yrf"
      }
    },
    {
      "cell_type": "code",
      "source": [
        "skewed_features = df.skew().sort_values(ascending=False)\n",
        "print(skewed_features)"
      ],
      "metadata": {
        "id": "02CXwRS45cbG"
      },
      "execution_count": null,
      "outputs": []
    },
    {
      "cell_type": "code",
      "source": [
        "df[\"quality\"].unique()"
      ],
      "metadata": {
        "id": "rCgEVptS6a9w"
      },
      "execution_count": null,
      "outputs": []
    },
    {
      "cell_type": "code",
      "source": [
        "# here I'm trying to divid the quantity in to good and bad\n",
        "qty_test = [0,6.5,10]\n",
        "grouped_by = ['Bad', 'Good']\n",
        "df[\"quality\"] = pd.cut(df[\"quality\"],bins = qty_test,labels = grouped_by)\n",
        "df[\"quality\"].unique()"
      ],
      "metadata": {
        "id": "fl1y0ZN36lHc"
      },
      "execution_count": null,
      "outputs": []
    },
    {
      "cell_type": "code",
      "source": [
        "df.head()"
      ],
      "metadata": {
        "id": "fIq0nTkJ8XEo"
      },
      "execution_count": null,
      "outputs": []
    },
    {
      "cell_type": "code",
      "source": [
        "df.head(15)"
      ],
      "metadata": {
        "id": "ed3069to8qpV"
      },
      "execution_count": null,
      "outputs": []
    },
    {
      "cell_type": "code",
      "source": [
        "#encoding Target variables\n",
        "df[\"quality\"] = df[\"quality\"].replace({\"Bad\":0,\"Good\":1})\n",
        "df.head(5)"
      ],
      "metadata": {
        "id": "IwgG8DRe87vS"
      },
      "execution_count": null,
      "outputs": []
    },
    {
      "cell_type": "code",
      "source": [
        "df.sample(10)"
      ],
      "metadata": {
        "id": "HPcseLv29jh1"
      },
      "execution_count": null,
      "outputs": []
    },
    {
      "cell_type": "code",
      "source": [
        "x = df.drop('quality',axis=1)\n",
        "y = df['quality']"
      ],
      "metadata": {
        "id": "RCDMAFUGjRhv"
      },
      "execution_count": null,
      "outputs": []
    },
    {
      "cell_type": "code",
      "source": [
        "from sklearn.preprocessing import StandardScaler\n",
        "scaler = StandardScaler()\n",
        "x = pd.DataFrame(scaler.fit_transform(x), columns = x.columns)\n",
        "x"
      ],
      "metadata": {
        "id": "hMP7fCtCjlEg"
      },
      "execution_count": null,
      "outputs": []
    },
    {
      "cell_type": "code",
      "source": [
        "#Finding variance inflation factor in each scaled column i.e x.shape[1](1/(1-R2))\n",
        "from  statsmodels.stats.outliers_influence import variance_inflation_factor\n",
        "vif = pd.DataFrame()\n",
        "vif[\"VIF values\"] = [variance_inflation_factor(x.values, i) for i  in range (len(x.columns))]\n",
        "vif[\"Features\"] = x.columns\n",
        "vif"
      ],
      "metadata": {
        "id": "-H7VDPR9jrqO"
      },
      "execution_count": null,
      "outputs": []
    },
    {
      "cell_type": "code",
      "source": [
        "#Dropping the TotalCharges  column\n",
        "x.drop(\"fixed acidity\", axis = 1, inplace = True )"
      ],
      "metadata": {
        "id": "v49KUBbskNbl"
      },
      "execution_count": null,
      "outputs": []
    },
    {
      "cell_type": "code",
      "source": [
        "# Again checking VIF values to confirm whether the multicollinearity still exists or not\n",
        "\n",
        "vif = pd.DataFrame()\n",
        "vif[\"VIF values\"] = [variance_inflation_factor(x.values, i) for i  in range (len(x.columns))]\n",
        "vif[\"Features\"] = x.columns\n",
        "vif"
      ],
      "metadata": {
        "id": "uTDvzOeJkUA1"
      },
      "execution_count": null,
      "outputs": []
    },
    {
      "cell_type": "code",
      "source": [
        "\"\"\"So , We have solved the multicolinearity issue .we can now move ahead for model building \"\"\""
      ],
      "metadata": {
        "id": "8dJMHsWOkdJE"
      },
      "execution_count": null,
      "outputs": []
    },
    {
      "cell_type": "code",
      "source": [
        "!pip install imblearn"
      ],
      "metadata": {
        "id": "6dVHowvIi-6N"
      },
      "execution_count": null,
      "outputs": []
    },
    {
      "cell_type": "code",
      "source": [
        "from imblearn.over_sampling import SMOTE\n",
        "SM = SMOTE()\n",
        "x1,y1 = SM.fit_resample(x, y)"
      ],
      "metadata": {
        "id": "p_RHuNHgjCpv"
      },
      "execution_count": null,
      "outputs": []
    },
    {
      "cell_type": "code",
      "source": [
        "# Checking values count of target column\n",
        "y.value_counts()"
      ],
      "metadata": {
        "id": "iWKUX7fjklpX"
      },
      "execution_count": null,
      "outputs": []
    },
    {
      "cell_type": "code",
      "source": [
        "# Checking values count of target column\n",
        "y1.value_counts()"
      ],
      "metadata": {
        "id": "O1pb86NYknrY"
      },
      "execution_count": null,
      "outputs": []
    },
    {
      "cell_type": "markdown",
      "source": [
        "**Finding the best random state**"
      ],
      "metadata": {
        "id": "ga8-gfMgk75j"
      }
    },
    {
      "cell_type": "code",
      "source": [
        "from sklearn.model_selection  import train_test_split\n",
        "from sklearn.ensemble  import RandomForestClassifier\n",
        "from sklearn.metrics  import accuracy_score\n",
        "\n",
        "maxAccu = 0\n",
        "maxRS = 0\n",
        "for i in range(1, 200):\n",
        "  x_train,x_test,y_train,y_test = train_test_split(x1,y1,test_size = 0.25,random_state = i)\n",
        "  RFR = RandomForestClassifier()\n",
        "  RFR.fit(x_train, y_train)\n",
        "  pred = RFR.predict(x_test)\n",
        "  acc = accuracy_score(y_test, pred)\n",
        "  if acc>maxAccu:\n",
        "    maxAccu = acc\n",
        "    maxRS = i\n",
        "print(\"best accuracy is \", maxAccu, \"at random_state\", maxRS)"
      ],
      "metadata": {
        "id": "J-gnbXalk3WQ"
      },
      "execution_count": null,
      "outputs": []
    },
    {
      "cell_type": "code",
      "source": [
        "x_train,x_test,y_train,y_test = train_test_split(x,y,test_size = 0.30,random_state = maxRS)"
      ],
      "metadata": {
        "id": "XyHHPhCYm76N"
      },
      "execution_count": null,
      "outputs": []
    },
    {
      "cell_type": "code",
      "source": [],
      "metadata": {
        "id": "48V4pOskm-v6"
      },
      "execution_count": null,
      "outputs": []
    },
    {
      "cell_type": "markdown",
      "source": [
        "**Classification Algorithms**"
      ],
      "metadata": {
        "id": "msaBBIi_nAXN"
      }
    },
    {
      "cell_type": "code",
      "source": [
        "from  sklearn.ensemble import RandomForestClassifier, ExtraTreesClassifier\n",
        "from sklearn.linear_model import LogisticRegression\n",
        "from sklearn.svm import SVC\n",
        "from sklearn.ensemble import GradientBoostingClassifier ,AdaBoostClassifier,BaggingClassifier\n",
        "from sklearn.metrics import classification_report, confusion_matrix, roc_curve, accuracy_score\n",
        "from sklearn.model_selection import cross_val_score"
      ],
      "metadata": {
        "id": "JOUXC6F_nDdn"
      },
      "execution_count": null,
      "outputs": []
    },
    {
      "cell_type": "markdown",
      "source": [
        "##Random Forest Classifier"
      ],
      "metadata": {
        "id": "fRiFy3KvnF1m"
      }
    },
    {
      "cell_type": "code",
      "source": [
        "# Checking Accuracy for Random ForestClassifier\n",
        "RFC = RandomForestClassifier()\n",
        "RFC.fit(x_train,y_train)\n",
        "predRFC = RFC.predict(x_test)\n",
        "print(accuracy_score(y_test,predRFC))\n",
        "print(\"Confusion Matric\" , confusion_matrix(y_test,predRFC))\n",
        "print(classification_report(y_test,predRFC))"
      ],
      "metadata": {
        "id": "EAsk4555nPNy"
      },
      "execution_count": null,
      "outputs": []
    },
    {
      "cell_type": "markdown",
      "source": [
        "**Logistic Regression**"
      ],
      "metadata": {
        "id": "9etlRwuDnccj"
      }
    },
    {
      "cell_type": "code",
      "source": [
        "# Checking Accuracy for Logistic Regression\n",
        "LR = LogisticRegression()\n",
        "LR.fit(x_train,y_train)\n",
        "predLR = LR.predict(x_test)\n",
        "print(accuracy_score(y_test,predLR))\n",
        "print(\"Confusion Matric\" , confusion_matrix(y_test,predLR))\n",
        "print(classification_report(y_test,predLR))"
      ],
      "metadata": {
        "id": "pnke8MlWngJg"
      },
      "execution_count": null,
      "outputs": []
    },
    {
      "cell_type": "markdown",
      "source": [
        "** SVC - Support vector machine classifier**"
      ],
      "metadata": {
        "id": "k6Ik8S7fuBz3"
      }
    },
    {
      "cell_type": "code",
      "source": [
        "svc  = SVC()\n",
        "svc.fit(x_train,y_train)\n",
        "predsvc = svc.predict(x_test)\n",
        "print(accuracy_score(y_test,predsvc))\n",
        "print(\"Confusion Matric\" , confusion_matrix(y_test,predsvc))\n",
        "print(classification_report(y_test,predsvc))"
      ],
      "metadata": {
        "id": "vjYmtGS7uFoF"
      },
      "execution_count": null,
      "outputs": []
    },
    {
      "cell_type": "markdown",
      "source": [
        "**Gradient Boosting Classifier**"
      ],
      "metadata": {
        "id": "jiB38f7CuMrt"
      }
    },
    {
      "cell_type": "code",
      "source": [
        "GB  = GradientBoostingClassifier()\n",
        "GB.fit(x_train,y_train)\n",
        "predGB = GB.predict(x_test)\n",
        "print(accuracy_score(y_test,predGB))\n",
        "print(\"Confusion Matric\" , confusion_matrix(y_test,predGB))\n",
        "print(classification_report(y_test,predGB))"
      ],
      "metadata": {
        "id": "dyzuoLgLuIni"
      },
      "execution_count": null,
      "outputs": []
    },
    {
      "cell_type": "markdown",
      "source": [
        "**AdaBoost Classifier**"
      ],
      "metadata": {
        "id": "DeeR3o7RuXf-"
      }
    },
    {
      "cell_type": "code",
      "source": [
        "# Check accuracy for AdaBoost Classifier\n",
        "\n",
        "ABC  = AdaBoostClassifier()\n",
        "ABC.fit(x_train,y_train)\n",
        "predABC = ABC.predict(x_test)\n",
        "print(accuracy_score(y_test,predABC))\n",
        "print(\"Confusion Matric\" , confusion_matrix(y_test,predABC))\n",
        "print(classification_report(y_test,predABC))"
      ],
      "metadata": {
        "id": "bSLZjfPzuZc5"
      },
      "execution_count": null,
      "outputs": []
    },
    {
      "cell_type": "markdown",
      "source": [
        "**Extra Trees Classifier**"
      ],
      "metadata": {
        "id": "vscOPtrIueNK"
      }
    },
    {
      "cell_type": "code",
      "source": [
        "ET  = ExtraTreesClassifier()\n",
        "ET.fit(x_train,y_train)\n",
        "predET = ET.predict(x_test)\n",
        "print(accuracy_score(y_test,predET))\n",
        "print(\"Confusion Matric\" , confusion_matrix(y_test,predET))\n",
        "print(classification_report(y_test,predET))"
      ],
      "metadata": {
        "id": "_dVWruX0uf24"
      },
      "execution_count": null,
      "outputs": []
    },
    {
      "cell_type": "markdown",
      "source": [
        "##Bagging Classifier"
      ],
      "metadata": {
        "id": "nskCna6Wulj2"
      }
    },
    {
      "cell_type": "code",
      "source": [
        "\n",
        "BC  = BaggingClassifier()\n",
        "BC.fit(x_train,y_train)\n",
        "predBC = BC.predict(x_test)\n",
        "print(accuracy_score(y_test,predBC))\n",
        "print(\"Confusion Matric\" , confusion_matrix(y_test,predBC))\n",
        "print(classification_report(y_test,predBC))"
      ],
      "metadata": {
        "id": "5Qs8pknoukZB"
      },
      "execution_count": null,
      "outputs": []
    },
    {
      "cell_type": "markdown",
      "source": [
        "**Cross Validation Score**"
      ],
      "metadata": {
        "id": "KPUaUrjD3NJo"
      }
    },
    {
      "cell_type": "code",
      "source": [
        "from sklearn.model_selection import cross_val_score"
      ],
      "metadata": {
        "id": "oi-ab6I-3Os0"
      },
      "execution_count": null,
      "outputs": []
    },
    {
      "cell_type": "code",
      "source": [
        "# Checking CV Score for Random Forest Classifier\n",
        "\n",
        "score = cross_val_score(RFC,x1,y1)\n",
        "print(score)\n",
        "print(score.mean())\n",
        "print(\"Difference between auucracy score and cross validation score is : \", accuracy_score(y_test,predRFC) - score.mean())"
      ],
      "metadata": {
        "id": "aBDUd4Yn3Tw-"
      },
      "execution_count": null,
      "outputs": []
    },
    {
      "cell_type": "code",
      "source": [
        "#Checking CV score for Logistic Regression\n",
        "score = cross_val_score(LR,x1,y1)\n",
        "print(score)\n",
        "print(score.mean())\n",
        "print(\"Difference between auucracy score and cross validation score is : \", accuracy_score(y_test,predLR) - score.mean())"
      ],
      "metadata": {
        "id": "1O-RNtyv3Z0t"
      },
      "execution_count": null,
      "outputs": []
    },
    {
      "cell_type": "code",
      "source": [
        "#Checking CV score for Gradient Boosting Classifier\n",
        "score = cross_val_score(GB,x1,y1)\n",
        "print(score)\n",
        "print(score.mean())\n",
        "print(\"Difference between auucracy score and cross validation score is : \", accuracy_score(y_test,predGB) - score.mean())"
      ],
      "metadata": {
        "id": "JhQ_cPZZ3cEy"
      },
      "execution_count": null,
      "outputs": []
    },
    {
      "cell_type": "code",
      "source": [
        "#Checking CV score for SVC\n",
        "score = cross_val_score(svc,x1,y1)\n",
        "print(score)\n",
        "print(score.mean())\n",
        "print(\"Difference between auucracy score and cross validation score is : \", accuracy_score(y_test,predsvc) - score.mean())"
      ],
      "metadata": {
        "id": "VXVyJ-Wu3vvw"
      },
      "execution_count": null,
      "outputs": []
    },
    {
      "cell_type": "code",
      "source": [
        "#Checking CV score for Ada Boosting Classifier\n",
        "score = cross_val_score(ABC,x1,y1)\n",
        "print(score)\n",
        "print(score.mean())\n",
        "print(\"Difference between auucracy score and cross validation score is : \", accuracy_score(y_test,predABC) - score.mean())"
      ],
      "metadata": {
        "id": "KTQORjB43z8i"
      },
      "execution_count": null,
      "outputs": []
    },
    {
      "cell_type": "code",
      "source": [
        "#Checking CV score for Bagging Classifier\n",
        "score = cross_val_score(BC,x1,y1)\n",
        "print(score)\n",
        "print(score.mean())\n",
        "print(\"Difference between auucracy score and cross validation score is : \", accuracy_score(y_test,predBC) - score.mean())"
      ],
      "metadata": {
        "id": "EZI5_j5c33HY"
      },
      "execution_count": null,
      "outputs": []
    },
    {
      "cell_type": "code",
      "source": [
        "#Checking CV score for ExtraTree Classifier\n",
        "score = cross_val_score(ET,x1,y1)\n",
        "print(score)\n",
        "print(score.mean())\n",
        "print(\"Difference between auucracy score and cross validation score is : \", accuracy_score(y_test,predET) - score.mean())"
      ],
      "metadata": {
        "id": "fGd0PHCc36Vk"
      },
      "execution_count": null,
      "outputs": []
    },
    {
      "cell_type": "code",
      "source": [
        "#Extra Trees Classifier\n",
        "from sklearn.model_selection import GridSearchCV\n",
        "\n",
        "perameters = { 'criterion': ['gini','entropy'],\n",
        "              'random_state': [10,50,1000],\n",
        "               'max_depth': [0,10,20],\n",
        "               'n_jobs': [-2, -1,1],\n",
        "               'n_estimators' : [50,100,200,300]}"
      ],
      "metadata": {
        "id": "ULlWBlWN4D2P"
      },
      "execution_count": null,
      "outputs": []
    },
    {
      "cell_type": "code",
      "source": [
        "GCV = GridSearchCV(ExtraTreesClassifier(), perameters, cv = 5)"
      ],
      "metadata": {
        "id": "5Z5r0jam4HLT"
      },
      "execution_count": null,
      "outputs": []
    },
    {
      "cell_type": "code",
      "source": [
        "GCV.fit(x_train,y_train)"
      ],
      "metadata": {
        "id": "v4WElQk14PlF"
      },
      "execution_count": null,
      "outputs": []
    },
    {
      "cell_type": "code",
      "source": [
        "GCV.best_params_"
      ],
      "metadata": {
        "id": "RyLzcjyN4S_I"
      },
      "execution_count": null,
      "outputs": []
    },
    {
      "cell_type": "code",
      "source": [
        "Final_model = ExtraTreesClassifier(criterion= 'gini',max_depth = 20,n_estimators=100, n_jobs = -2, random_state=10)\n",
        "Final_model.fit(x_train,y_train)\n",
        "pred_final = Final_model.predict(x_test)\n",
        "acc = accuracy_score(y_test,pred_final)\n",
        "print(acc * 100)"
      ],
      "metadata": {
        "id": "jil8Kpj95jRX"
      },
      "execution_count": null,
      "outputs": []
    },
    {
      "cell_type": "code",
      "source": [
        "from sklearn.tree import DecisionTreeClassifier\n",
        "\n",
        "dtree = DecisionTreeClassifier()"
      ],
      "metadata": {
        "id": "cubDg6fu5zWE"
      },
      "execution_count": null,
      "outputs": []
    },
    {
      "cell_type": "code",
      "source": [
        "param_grid = {\"max_depth\":[3,5,10, None],\n",
        "              \"min_samples_split\":[2,5,10],\n",
        "              \"min_samples_leaf\":[1,2,4],\n",
        "              \"criterion\":[\"gini\",\"entropy\"]\n",
        "}"
      ],
      "metadata": {
        "id": "GQbbvl5p6Ibh"
      },
      "execution_count": null,
      "outputs": []
    },
    {
      "cell_type": "code",
      "source": [
        "dtree_grid_search  = GridSearchCV(dtree, param_grid, cv = 5, n_jobs = -1,scoring='accuracy')"
      ],
      "metadata": {
        "id": "uX9-Gvyd6iwM"
      },
      "execution_count": null,
      "outputs": []
    },
    {
      "cell_type": "code",
      "source": [
        "dtree_grid_search.fit(x_train,y_train)"
      ],
      "metadata": {
        "id": "7rFFuPo96yeP"
      },
      "execution_count": null,
      "outputs": []
    },
    {
      "cell_type": "code",
      "source": [
        "best_parameters_Dtree = dtree_grid_search.best_params_\n",
        "best_parameters_Dtree"
      ],
      "metadata": {
        "id": "KarIDFus8Wx_"
      },
      "execution_count": null,
      "outputs": []
    },
    {
      "cell_type": "code",
      "source": [
        "Final_model_dtree  = DecisionTreeClassifier(criterion= 'gini',max_depth = 5,min_samples_leaf= 4, min_samples_split=5)\n",
        "Final_model_dtree.fit(x_train,y_train)"
      ],
      "metadata": {
        "id": "UIm1yfsh-Zb0"
      },
      "execution_count": null,
      "outputs": []
    },
    {
      "cell_type": "code",
      "source": [
        "dtree_pred_final = Final_model_dtree.predict(x_test)\n",
        "dtree_acc = accuracy_score(y_test,dtree_pred_final)\n",
        "print(dtree_acc * 100)"
      ],
      "metadata": {
        "id": "ZzUEip4V9S6e"
      },
      "execution_count": null,
      "outputs": []
    },
    {
      "cell_type": "code",
      "source": [
        "\n",
        "rfc = RandomForestClassifier()"
      ],
      "metadata": {
        "id": "s-PIdr6t965X"
      },
      "execution_count": null,
      "outputs": []
    },
    {
      "cell_type": "code",
      "source": [
        "param_grid = {\n",
        "    'n_estimators': [100, 200, 300],\n",
        "    'max_depth': [3, 5, 10, None],\n",
        "    'min_samples_split': [2, 5, 10],\n",
        "    'min_samples_leaf': [1, 2, 4],\n",
        "    'criterion': ['gini', 'entropy']\n",
        "}"
      ],
      "metadata": {
        "id": "3m5U9AJB-QaX"
      },
      "execution_count": null,
      "outputs": []
    },
    {
      "cell_type": "code",
      "source": [
        "rsc_grid_search = GridSearchCV(estimator=rfc, param_grid=param_grid, cv=5, n_jobs=-1, scoring='accuracy')"
      ],
      "metadata": {
        "id": "G52P-2Hq-YWt"
      },
      "execution_count": null,
      "outputs": []
    },
    {
      "cell_type": "code",
      "source": [
        "rsc_grid_search.fit(x_train,y_train)"
      ],
      "metadata": {
        "id": "DCkzTZnM-pzN"
      },
      "execution_count": null,
      "outputs": []
    },
    {
      "cell_type": "code",
      "source": [
        "best_parameters_rfc = rsc_grid_search.best_params_\n",
        "best_parameters_rfc"
      ],
      "metadata": {
        "id": "qiM5QYX0-xuy"
      },
      "execution_count": null,
      "outputs": []
    },
    {
      "cell_type": "code",
      "source": [
        "Final_model_rfc  = RandomForestClassifier(criterion= 'gini',min_samples_leaf= 1, min_samples_split=2,n_estimators= 100)\n",
        "Final_model_rfc.fit(x_train,y_train)"
      ],
      "metadata": {
        "id": "B87j9OmPDWgT"
      },
      "execution_count": null,
      "outputs": []
    },
    {
      "cell_type": "code",
      "source": [
        "rfc_pred_final = Final_model_rfc.predict(x_test)\n",
        "rfc_acc = accuracy_score(y_test,rfc_pred_final)\n",
        "print(rfc_acc * 100)"
      ],
      "metadata": {
        "id": "qLdO3p3jDymt"
      },
      "execution_count": null,
      "outputs": []
    }
  ]
}