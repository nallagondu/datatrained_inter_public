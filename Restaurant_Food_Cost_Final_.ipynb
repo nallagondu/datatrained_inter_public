{
  "nbformat": 4,
  "nbformat_minor": 0,
  "metadata": {
    "colab": {
      "private_outputs": true,
      "provenance": [],
      "authorship_tag": "ABX9TyNT756kDSZtfoPOJQVh0SLW",
      "include_colab_link": true
    },
    "kernelspec": {
      "name": "python3",
      "display_name": "Python 3"
    },
    "language_info": {
      "name": "python"
    }
  },
  "cells": [
    {
      "cell_type": "markdown",
      "metadata": {
        "id": "view-in-github",
        "colab_type": "text"
      },
      "source": [
        "<a href=\"https://colab.research.google.com/github/nallagondu/datatrained_inter_public/blob/main/Restaurant_Food_Cost_Final_.ipynb\" target=\"_parent\"><img src=\"https://colab.research.google.com/assets/colab-badge.svg\" alt=\"Open In Colab\"/></a>"
      ]
    },
    {
      "cell_type": "markdown",
      "source": [
        "**Project Description**\n",
        "\n",
        "Who doesn’t love food? All of us must have craving for at least a few favourite food items, we may also have a few places where we like to get them, a restaurant which serves our favourite food the way we want it to be. But there is one factor that will make us reconsider having our favourite food from our favourite restaurant, the cost. Here in this hackathon, you will be predicting the cost of the food served by the restaurants across different cities in India. You will use your Data Science skills to investigate the factors that really affect the cost, and who knows maybe you will even gain some very interesting insights that might help you choose what to eat and from where.\n"
      ],
      "metadata": {
        "id": "V8PvcPIefJKo"
      }
    },
    {
      "cell_type": "markdown",
      "source": [
        "**You are provided with following 2 files:**\n",
        "1.     train.csv : Use this dataset to train the model. This file contains all the details related to restaurant food cost as well as the target variable “cost”. You have to train your model using this file.\n",
        "2.     test.csv : Use the trained model to predict the cost of a two person meal.\n",
        "\n",
        "**Dataset Attributes**\n",
        "TITLE: The feature of the restaurant which can help identify what and for whom it is suitable for.\n",
        "RESTAURANT_ID: A unique ID for each restaurant.\n",
        "CUISINES: The variety of cuisines that the restaurant offers.\n",
        "TIME: The open hours of the restaurant.\n",
        "CITY: The city in which the restaurant is located.\n",
        "LOCALITY: The locality of the restaurant.\n",
        "RATING: The average rating of the restaurant by customers.\n",
        "VOTES: The overall votes received by the restaurant.\n",
        "COST: The average cost of a two-person meal.\n",
        "\n"
      ],
      "metadata": {
        "id": "u1YRsTI2fM2w"
      }
    },
    {
      "cell_type": "markdown",
      "source": [
        "**Dataset Link-**\n",
        "https://github.com/FlipRoboTechnologies/ML-Datasets/tree/main/Restaurant%20Food%20Cost\n",
        "\n",
        "\n",
        "\thttps://github.com/FlipRoboTechnologies/ML-Datasets/blob/main/Restaurant%20Food%20Cost/Data_Test.xlsx\n",
        "\n",
        "  https://github.com/FlipRoboTechnologies/ML-Datasets/blob/main/Restaurant%20Food%20Cost/Data_Train.xlsx\n"
      ],
      "metadata": {
        "id": "LNod9kXEfU1C"
      }
    },
    {
      "cell_type": "code",
      "source": [
        "import pandas as pd\n",
        "import matplotlib.pyplot as plt\n",
        "from sklearn.preprocessing import LabelEncoder\n",
        "\n",
        "import seaborn as sns\n",
        "%matplotlib inline\n",
        "import warnings\n",
        "warnings.filterwarnings('ignore')\n",
        "from sklearn.linear_model import Ridge,Lasso,LinearRegression\n",
        "from sklearn.svm import SVR\n",
        "from sklearn.tree import DecisionTreeRegressor # This import should now work\n",
        "from sklearn.ensemble import RandomForestRegressor,GradientBoostingRegressor,AdaBoostRegressor\n"
      ],
      "metadata": {
        "id": "vY5wA_EVfmB5"
      },
      "execution_count": null,
      "outputs": []
    },
    {
      "cell_type": "code",
      "source": [
        "#loading the data\n",
        "\n",
        "test_url = 'https://raw.githubusercontent.com/FlipRoboTechnologies/ML-Datasets/main/Restaurant%20Food%20Cost/Data_Test.xlsx'\n",
        "trained_url = 'https://raw.githubusercontent.com/FlipRoboTechnologies/ML-Datasets/main/Restaurant%20Food%20Cost/Data_Train.xlsx'\n",
        "trained_df = pd.read_excel(trained_url)\n",
        "test_df = pd.read_excel(test_url)\n"
      ],
      "metadata": {
        "id": "FerFCdrwfolR"
      },
      "execution_count": null,
      "outputs": []
    },
    {
      "cell_type": "code",
      "source": [
        "trained_df.head()"
      ],
      "metadata": {
        "id": "vyCXEmHFgHer"
      },
      "execution_count": null,
      "outputs": []
    },
    {
      "cell_type": "code",
      "source": [
        "test_df.head()"
      ],
      "metadata": {
        "id": "4p9o2bfZgpmN"
      },
      "execution_count": null,
      "outputs": []
    },
    {
      "cell_type": "code",
      "source": [
        "trained_df.shape"
      ],
      "metadata": {
        "id": "W6tADSj9tdRO"
      },
      "execution_count": null,
      "outputs": []
    },
    {
      "cell_type": "code",
      "source": [
        "test_df.shape"
      ],
      "metadata": {
        "id": "hcQyb-tktimA"
      },
      "execution_count": null,
      "outputs": []
    },
    {
      "cell_type": "code",
      "source": [
        "trained_df.info()\n",
        "print(test_df.info())"
      ],
      "metadata": {
        "id": "syW0jbEf3__N"
      },
      "execution_count": null,
      "outputs": []
    },
    {
      "cell_type": "code",
      "source": [
        "trained_df.duplicated().sum()"
      ],
      "metadata": {
        "id": "3-2vbZ4u4OsI"
      },
      "execution_count": null,
      "outputs": []
    },
    {
      "cell_type": "code",
      "source": [
        "test_df.duplicated().sum()"
      ],
      "metadata": {
        "id": "QRipB_xf4YHd"
      },
      "execution_count": null,
      "outputs": []
    },
    {
      "cell_type": "code",
      "source": [
        "print(trained_df.isnull().sum())\n",
        "print(test_df.isnull().sum())"
      ],
      "metadata": {
        "id": "gf8FTy7S4nnF"
      },
      "execution_count": null,
      "outputs": []
    },
    {
      "cell_type": "code",
      "source": [
        "trained_df[\"source\"] = 'train'\n",
        "test_df[\"source\"] = 'test'"
      ],
      "metadata": {
        "id": "g7gpR3BoAUgr"
      },
      "execution_count": null,
      "outputs": []
    },
    {
      "cell_type": "code",
      "source": [
        "#merge the datasets\n",
        "mixed_df = pd.concat([trained_df,test_df], ignore_index=True)\n",
        "mixed_df.head()"
      ],
      "metadata": {
        "id": "67UhqV0PZlIp"
      },
      "execution_count": null,
      "outputs": []
    },
    {
      "cell_type": "code",
      "source": [],
      "metadata": {
        "id": "5P_ZtR6bARfn"
      },
      "execution_count": null,
      "outputs": []
    },
    {
      "cell_type": "code",
      "source": [
        "mixed_df.shape"
      ],
      "metadata": {
        "id": "3APqdIfnaRwe"
      },
      "execution_count": null,
      "outputs": []
    },
    {
      "cell_type": "code",
      "source": [
        "mixed_df.columns"
      ],
      "metadata": {
        "id": "hAF1ytTra7zv"
      },
      "execution_count": null,
      "outputs": []
    },
    {
      "cell_type": "code",
      "source": [
        "mixed_df.TITLE.value_counts().sum()"
      ],
      "metadata": {
        "id": "TXg71V1gbA53"
      },
      "execution_count": null,
      "outputs": []
    },
    {
      "cell_type": "code",
      "source": [
        "mixed_df.TITLE.unique()"
      ],
      "metadata": {
        "id": "OLUc7O_IbKvl"
      },
      "execution_count": null,
      "outputs": []
    },
    {
      "cell_type": "code",
      "source": [
        "mixed_df.duplicated().sum()"
      ],
      "metadata": {
        "id": "RRxAIGyNbe7J"
      },
      "execution_count": null,
      "outputs": []
    },
    {
      "cell_type": "code",
      "source": [
        "mixed_df = mixed_df.drop_duplicates()"
      ],
      "metadata": {
        "id": "XzSgnF3cbxI5"
      },
      "execution_count": null,
      "outputs": []
    },
    {
      "cell_type": "code",
      "source": [
        "mixed_df.duplicated().sum()"
      ],
      "metadata": {
        "id": "IpWhjQ5Yb8Wt"
      },
      "execution_count": null,
      "outputs": []
    },
    {
      "cell_type": "code",
      "source": [
        "mixed_df.info()"
      ],
      "metadata": {
        "id": "9A-wcdl59w2L"
      },
      "execution_count": null,
      "outputs": []
    },
    {
      "cell_type": "code",
      "source": [
        "mixed_df['VOTES'] = mixed_df['VOTES'].str.replace('votes', ' ').str.strip()\n"
      ],
      "metadata": {
        "id": "UZpPOAUyCB_l"
      },
      "execution_count": null,
      "outputs": []
    },
    {
      "cell_type": "code",
      "source": [
        "mixed_df['VOTES'] = pd.to_numeric(mixed_df['VOTES'] , errors='coerce')"
      ],
      "metadata": {
        "id": "4nyhpSPnGCZq"
      },
      "execution_count": null,
      "outputs": []
    },
    {
      "cell_type": "code",
      "source": [
        "mixed_df.info()"
      ],
      "metadata": {
        "id": "n7fJgf8DE0fV"
      },
      "execution_count": null,
      "outputs": []
    },
    {
      "cell_type": "code",
      "source": [
        "mixed_df['RATING'] = pd.to_numeric(mixed_df['RATING'] , errors='coerce')"
      ],
      "metadata": {
        "id": "8ywxxSYcHnk_"
      },
      "execution_count": null,
      "outputs": []
    },
    {
      "cell_type": "code",
      "source": [
        "\n",
        "mixed_df['RATING'] = mixed_df['RATING'].fillna(mixed_df['RATING'].mean())"
      ],
      "metadata": {
        "id": "hN-idY8FDK7M"
      },
      "execution_count": null,
      "outputs": []
    },
    {
      "cell_type": "code",
      "source": [
        "mixed_df.info()"
      ],
      "metadata": {
        "id": "pizkwSAUHzWO"
      },
      "execution_count": null,
      "outputs": []
    },
    {
      "cell_type": "code",
      "source": [
        "mixed_df['CUISINES'].value_counts()"
      ],
      "metadata": {
        "id": "FRyphBf3Ivz4"
      },
      "execution_count": null,
      "outputs": []
    },
    {
      "cell_type": "code",
      "source": [
        "mixed_df['location'] = mixed_df['CITY']+' ' + mixed_df['LOCALITY']"
      ],
      "metadata": {
        "id": "mTLx5YYgPlFG"
      },
      "execution_count": null,
      "outputs": []
    },
    {
      "cell_type": "code",
      "source": [
        "mixed_df.drop(columns=['CITY','LOCALITY'],inplace=True)\n"
      ],
      "metadata": {
        "id": "ojbjW7W5P88a"
      },
      "execution_count": null,
      "outputs": []
    },
    {
      "cell_type": "code",
      "source": [
        "mixed_df.head()"
      ],
      "metadata": {
        "id": "q26Qv7ByQJhE"
      },
      "execution_count": null,
      "outputs": []
    },
    {
      "cell_type": "code",
      "source": [
        "mixed_df['location'].value_counts()"
      ],
      "metadata": {
        "id": "awJQpHIoQRsq"
      },
      "execution_count": null,
      "outputs": []
    },
    {
      "cell_type": "code",
      "source": [
        "mixed_df.info()"
      ],
      "metadata": {
        "id": "t97wsPB_QxDn"
      },
      "execution_count": null,
      "outputs": []
    },
    {
      "cell_type": "code",
      "source": [
        "Le = LabelEncoder()\n",
        "mixed_df['location'] = Le.fit_transform(mixed_df['location'])"
      ],
      "metadata": {
        "id": "rRcP2DUQRb16"
      },
      "execution_count": null,
      "outputs": []
    },
    {
      "cell_type": "code",
      "source": [
        "mixed_df['TITLE'] = Le.fit_transform(mixed_df['TITLE'])"
      ],
      "metadata": {
        "id": "-dp9tk1IVOK1"
      },
      "execution_count": null,
      "outputs": []
    },
    {
      "cell_type": "code",
      "source": [
        "mixed_df['CUISINES'] = Le.fit_transform(mixed_df['CUISINES'])"
      ],
      "metadata": {
        "id": "RkLdwVCsVhlx"
      },
      "execution_count": null,
      "outputs": []
    },
    {
      "cell_type": "code",
      "source": [
        "mixed_df['TIME'] = Le.fit_transform(mixed_df['TIME'])\n"
      ],
      "metadata": {
        "id": "ZSO5tN0wVt5i"
      },
      "execution_count": null,
      "outputs": []
    },
    {
      "cell_type": "code",
      "source": [
        "mixed_df.head()"
      ],
      "metadata": {
        "id": "v_rJIvCIRtxx"
      },
      "execution_count": null,
      "outputs": []
    },
    {
      "cell_type": "code",
      "source": [
        "mixed_df['source'] = mixed_df['source'].map({'train':0,'test':1})"
      ],
      "metadata": {
        "id": "__ZzlfRwV7XM"
      },
      "execution_count": null,
      "outputs": []
    },
    {
      "cell_type": "code",
      "source": [
        "mixed_df['location'].value_counts()"
      ],
      "metadata": {
        "id": "HFyrQSx3RzVM"
      },
      "execution_count": null,
      "outputs": []
    },
    {
      "cell_type": "code",
      "source": [
        "mixed_df.info()"
      ],
      "metadata": {
        "id": "eTTKw3ebR5j5"
      },
      "execution_count": null,
      "outputs": []
    },
    {
      "cell_type": "code",
      "source": [
        "mixed_df"
      ],
      "metadata": {
        "id": "P33Xe0VNWM3u"
      },
      "execution_count": null,
      "outputs": []
    },
    {
      "cell_type": "code",
      "source": [
        "mixed_df.isnull().sum()"
      ],
      "metadata": {
        "id": "ec7mc10MWUjP"
      },
      "execution_count": null,
      "outputs": []
    },
    {
      "cell_type": "code",
      "source": [
        "!pip install feature-engine\n",
        "from feature_engine.imputation import RandomSampleImputer"
      ],
      "metadata": {
        "id": "jd9od6xK0f01"
      },
      "execution_count": null,
      "outputs": []
    },
    {
      "cell_type": "code",
      "source": [
        "from feature_engine.imputation import RandomSampleImputer\n",
        "imputer = RandomSampleImputer(variables = ['VOTES'])\n",
        "mixed_df = imputer.fit_transform(mixed_df)"
      ],
      "metadata": {
        "id": "ZEq74RZszfTU"
      },
      "execution_count": null,
      "outputs": []
    },
    {
      "cell_type": "code",
      "source": [
        "mixed_df['VOTES'].fillna(mixed_df['VOTES'].mean(), inplace= True)\n",
        "mixed_df['COST'].fillna(mixed_df['COST'].mean(), inplace= True)"
      ],
      "metadata": {
        "id": "sGL2O0XyXQPl"
      },
      "execution_count": null,
      "outputs": []
    },
    {
      "cell_type": "code",
      "source": [
        "mixed_df.isnull().sum()\n"
      ],
      "metadata": {
        "id": "Y8HoTiiFXsMg"
      },
      "execution_count": null,
      "outputs": []
    },
    {
      "cell_type": "code",
      "source": [
        "print(mixed_df.shape)\n",
        "print(mixed_df.info())"
      ],
      "metadata": {
        "id": "jTwF9CicX0iO"
      },
      "execution_count": null,
      "outputs": []
    },
    {
      "cell_type": "code",
      "source": [
        "mixed_df.drop(columns = ['RESTAURANT_ID'], inplace = True)\n",
        "mixed_df.describe()"
      ],
      "metadata": {
        "id": "Jd6JkqE9YzB6"
      },
      "execution_count": null,
      "outputs": []
    },
    {
      "cell_type": "code",
      "source": [
        "correlation = mixed_df.corr()\n",
        "correlation"
      ],
      "metadata": {
        "id": "b4Xjn8nBYin_"
      },
      "execution_count": null,
      "outputs": []
    },
    {
      "cell_type": "code",
      "source": [
        "fig,ax = plt.subplots(figsize=(20,10))\n",
        "sns.heatmap(correlation,annot=True)"
      ],
      "metadata": {
        "id": "vw2upQaCas2D"
      },
      "execution_count": null,
      "outputs": []
    },
    {
      "cell_type": "code",
      "source": [
        "trained_final_df = mixed_df[mixed_df['source'] == 0]\n",
        "test_final_df = mixed_df[mixed_df['source'] == 1]"
      ],
      "metadata": {
        "id": "Mvo_MwPcbtNg"
      },
      "execution_count": null,
      "outputs": []
    },
    {
      "cell_type": "code",
      "source": [],
      "metadata": {
        "id": "fluNp52Iykfe"
      },
      "execution_count": null,
      "outputs": []
    },
    {
      "cell_type": "code",
      "source": [
        "# multivariate Analysis\n",
        "sample_size = 1000  # Adjust this value as needed\n",
        "sns.pairplot(trained_final_df.sample(n=sample_size), hue='COST', palette='Set2')\n",
        "plt.show()"
      ],
      "metadata": {
        "id": "NkLE6eTavJAM"
      },
      "execution_count": null,
      "outputs": []
    },
    {
      "cell_type": "code",
      "source": [
        "print(trained_df,test_df)\n",
        "print(\"trained Dataframe shape :\",trained_df.shape,\"test data shape:\",test_df.shape)"
      ],
      "metadata": {
        "id": "nkl4F_DNb4fn"
      },
      "execution_count": null,
      "outputs": []
    },
    {
      "cell_type": "code",
      "source": [
        "trained_final_df.info()"
      ],
      "metadata": {
        "id": "sGk7OuxUcpC4"
      },
      "execution_count": null,
      "outputs": []
    },
    {
      "cell_type": "code",
      "source": [
        "test_final_df.info()"
      ],
      "metadata": {
        "id": "rypU8UCDc7yu"
      },
      "execution_count": null,
      "outputs": []
    },
    {
      "cell_type": "code",
      "source": [
        "trained_final_df.drop(columns=[\"source\"],inplace = True)\n",
        "test_final_df.drop(columns=[\"source\"],inplace = True)"
      ],
      "metadata": {
        "id": "fbJ16sRwdIS3"
      },
      "execution_count": null,
      "outputs": []
    },
    {
      "cell_type": "code",
      "source": [
        "trained_final_df.head()"
      ],
      "metadata": {
        "id": "tpMAiHXSddX1"
      },
      "execution_count": null,
      "outputs": []
    },
    {
      "cell_type": "code",
      "source": [
        "test_final_df.head()"
      ],
      "metadata": {
        "id": "H7N9eXLwdjw8"
      },
      "execution_count": null,
      "outputs": []
    },
    {
      "cell_type": "code",
      "source": [
        "train_X = trained_final_df.drop(columns = [\"CUISINES\", \"COST\"])\n",
        "train_y = trained_final_df[\"COST\"]\n",
        "test_X = test_final_df.drop(columns=[\"COST\",\"CUISINES\"])\n",
        "test_y = test_final_df[\"COST\"]"
      ],
      "metadata": {
        "id": "rck8RV58dvvZ"
      },
      "execution_count": null,
      "outputs": []
    },
    {
      "cell_type": "code",
      "source": [
        "from sklearn.linear_model import LinearRegression\n",
        "from sklearn.model_selection import train_test_split\n",
        "from sklearn.metrics import mean_squared_error\n",
        "\n",
        "model_LR = LinearRegression()\n",
        "model_LR.fit(train_X,train_y)\n"
      ],
      "metadata": {
        "id": "xWwlJqG5e4Ww"
      },
      "execution_count": null,
      "outputs": []
    },
    {
      "cell_type": "code",
      "source": [
        "LR_pred = model_LR.predict(test_X)"
      ],
      "metadata": {
        "id": "ZxNwsjZlfLA8"
      },
      "execution_count": null,
      "outputs": []
    },
    {
      "cell_type": "code",
      "source": [
        "from sklearn.model_selection import cross_val_score\n",
        "cross_value = cross_val_score(model_LR,train_X,train_y,cv=5, scoring='neg_mean_squared_error')\n",
        "print(cross_value)\n",
        "#cross_value"
      ],
      "metadata": {
        "id": "z5yc61OniS5l"
      },
      "execution_count": null,
      "outputs": []
    },
    {
      "cell_type": "code",
      "source": [
        "mean_squared_error(test_y.values,LR_pred,squared=False)"
      ],
      "metadata": {
        "id": "v_RVJACiizIJ"
      },
      "execution_count": null,
      "outputs": []
    },
    {
      "cell_type": "code",
      "source": [
        "models = [LinearRegression(),\n",
        "          Ridge(alpha = 0.001),\n",
        "          Lasso(alpha=0.003),\n",
        "          SVR(),\n",
        "          DecisionTreeRegressor(),\n",
        "          RandomForestRegressor(),\n",
        "          GradientBoostingRegressor(),\n",
        "          AdaBoostRegressor(base_estimator=LinearRegression())]\n",
        "\n",
        "model_names = 'LinearRegression','Ridge','Lasso','SVR','DecisionTreeRegressor','RandomForestRegressor','GradientBoostingRegressor','AdaBoostRegressor'\n",
        "model_df = pd.DataFrame(columns=['Model','MSE','R2','MeanCV'])\n",
        "for model,model_names in zip(models,model_names):\n",
        "  print(model)\n",
        "\n",
        "  model.fit(train_X,train_y)\n",
        "  pred = model.predict(test_X)\n",
        "  mse = mean_squared_error(test_y,pred,squared=False)\n",
        "  r2 = model.score(test_X,test_y)\n",
        "\n",
        "  averages = cross_val_score(model,train_X,train_y,cv=5,scoring='neg_mean_squared_error').mean()\n",
        "\n",
        "  model_df = pd.concat([model_df,pd.DataFrame({'Model': [model_names],'MSE':mse,'R2':r2,'MeanCV': [averages]})],ignore_index=True)\n",
        "\n",
        "  print(model_df)"
      ],
      "metadata": {
        "id": "mnAAh2lG3kza"
      },
      "execution_count": null,
      "outputs": []
    },
    {
      "cell_type": "code",
      "source": [
        "print(model_df)"
      ],
      "metadata": {
        "id": "Yf_46AVX_p2W"
      },
      "execution_count": null,
      "outputs": []
    },
    {
      "cell_type": "code",
      "source": [
        "best_model_rf = RandomForestRegressor()\n",
        "best_model_rf.fit(train_X,train_y)"
      ],
      "metadata": {
        "id": "DlhbjnAj_5T2"
      },
      "execution_count": null,
      "outputs": []
    },
    {
      "cell_type": "code",
      "source": [
        "best_model_rf.score(test_X,test_y)\n",
        "test_pred = best_model_rf.predict(test_X)\n",
        "test_pred"
      ],
      "metadata": {
        "id": "0x1EcOMF_EKw"
      },
      "execution_count": null,
      "outputs": []
    },
    {
      "cell_type": "code",
      "source": [
        "best_model_SVR = SVR()\n",
        "best_model_SVR.fit(train_X,train_y)"
      ],
      "metadata": {
        "id": "6XB_rKvfApSM"
      },
      "execution_count": null,
      "outputs": []
    },
    {
      "cell_type": "code",
      "source": [
        "best_model_SVR.score(test_X,test_y)\n",
        "test_pred_SVR = best_model_SVR.predict(test_X)\n",
        "test_pred_SVR"
      ],
      "metadata": {
        "id": "6PYmWt5tAxvg"
      },
      "execution_count": null,
      "outputs": []
    },
    {
      "cell_type": "code",
      "source": [
        "best_model_GBR = GradientBoostingRegressor()\n",
        "best_model_GBR.fit(train_X,train_y)"
      ],
      "metadata": {
        "id": "AQqdrPQ6A_po"
      },
      "execution_count": null,
      "outputs": []
    },
    {
      "cell_type": "code",
      "source": [
        "best_model_GBR.score(test_X,test_y)\n",
        "test_pred_GBR = best_model_GBR.predict(test_X)\n",
        "test_pred_GBR"
      ],
      "metadata": {
        "id": "PBXGqwVZBLKP"
      },
      "execution_count": null,
      "outputs": []
    },
    {
      "cell_type": "code",
      "source": [
        "import joblib\n",
        "joblib.dump(best_model_rf,'best_model_SVR.pkl')"
      ],
      "metadata": {
        "id": "5GvYFsSEBcSZ"
      },
      "execution_count": null,
      "outputs": []
    }
  ]
}