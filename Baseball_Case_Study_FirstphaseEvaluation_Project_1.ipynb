{
  "nbformat": 4,
  "nbformat_minor": 0,
  "metadata": {
    "colab": {
      "private_outputs": true,
      "provenance": [],
      "authorship_tag": "ABX9TyNr8ZOXS0P0Xjhti/sI9MED",
      "include_colab_link": true
    },
    "kernelspec": {
      "name": "python3",
      "display_name": "Python 3"
    },
    "language_info": {
      "name": "python"
    }
  },
  "cells": [
    {
      "cell_type": "markdown",
      "metadata": {
        "id": "view-in-github",
        "colab_type": "text"
      },
      "source": [
        "<a href=\"https://colab.research.google.com/github/nallagondu/datatrained_inter_public/blob/main/Baseball_Case_Study_FirstphaseEvaluation_Project_1.ipynb\" target=\"_parent\"><img src=\"https://colab.research.google.com/assets/colab-badge.svg\" alt=\"Open In Colab\"/></a>"
      ]
    },
    {
      "cell_type": "code",
      "execution_count": null,
      "metadata": {
        "id": "UZNu8DZcoddS"
      },
      "outputs": [],
      "source": []
    },
    {
      "cell_type": "markdown",
      "source": [
        "**Project Description**\n",
        "This dataset utilizes data from 2014 Major League Baseball seasons in order to develop an algorithm that predicts the number of wins for a given team in the 2015 season based on several different indicators of success. There are 16 different features that will be used as the inputs to the machine learning and the output will be a value that represents the number of wins.\n",
        "**-- Input features-**\n",
        "1.\tW - This indicates the number of Wins credited to a pitcher: number of games where pitcher was pitching while their team took the lead and went on to win, also the starter needs to pitch at least 5 innings of work.\n",
        "2.\tR - This indicates Runs scored. A run is scored when a player advances around first, second and third base and returns safely to home plate, touching the bases in that order, before three outs are recorded and all obligations to reach base safely on batted balls are met or assured: number of times a player crosses home plate.\n",
        "3.\tAB - This means At bat or time at bat. It's is a batter's turn batting against a pitcher: plate appearances, not including bases on balls, being hit by pitch, sacrifices, interference, or obstruction.\n",
        "4.\tH - This means Hit. It's also called a \"base hit\", is credited to a batter when the batter safely reaches or passes first base after hitting the ball into fair territory, without the benefit of either an error or a fielder's choice: reaching base because of a batted, fair ball without error by the defense.\n",
        "5.\t2B - This means the act of a batter striking the pitched ball and safely reaching second base without being called out by the umpire, without the benefit of a fielder's misplay (see error) or another runner being put out on a fielder's choice. A double is a type of hit (the others being the single, triple and home run) and is sometimes called a \"two-bagger\" or \"two-base hit\": hits on which the batter reaches second base safely without the contribution of a fielding error.\n",
        "6.\t3B - This measns a Triple.It's is the act of a batter safely reaching third base after hitting the ball, with neither the benefit of a fielder's misplay nor another runner being put out on a fielder's choice. A triple is sometimes called a \"three-bagger\" or \"three-base hit\": hits on which the batter reaches third base safely without the contribution of a fielding error.\n",
        "7.\tHR - This means Home runs. It's scored when the ball is hit in such a way that the batter is able to circle the bases and reach home plate safely in one play without any errors being committed by the defensive team. A home run is usually achieved by hitting the ball over the outfield fence between the foul poles (or hitting either foul pole) without the ball touching the field: hits on which the batter successfully touched all four bases, without the contribution of a fielding error.\n",
        "8.\tBB - This means Base on balls (also called a \"walk\"). It occurs in baseball when a batter receives four pitches that the umpire calls balls, and is in turn awarded first base without the possibility of being called out: hitter not swinging at four pitches called out of the strike zone and awarded first base.\n",
        "9.\tSO - Also denoted as \"K\" means Strikeout. It occurs when a batter accumulates three strikes during a time at bat. It usually means that the batter is out: number of batters who received strike three.\n",
        "10.\tSB - This means Stolen base. It occurs when a runner advances to a base to which they are not entitled and the official scorer rules that the advance should be credited to the action of the runner: number of bases advanced by the runner while the ball is in the possession of the defense.\n",
        "11.\tRA - This means Run Average. It refer to measures of the rate at which runs are allowed or scored.\n",
        "12.\tER - This means Earned run. It refers to any run that was fully enabled by the offensive team's production in the face of competent play from the defensive team: number of runs that did not occur as a result of errors or passed balls.\n",
        "13.\tERA - This means Earned Run Average. It refers to the average of earned runs allowed by a pitcher per nine innings pitched (i.e. the traditional length of a game). It is determined by dividing the number of earned runs allowed by the number of innings pitched and multiplying by nine: total number of earned runs (see \"ER\" above), multiplied by 9, divided by innings pitched.\n",
        "14.\tCG - This means Complete Game. It's the act of a pitcher pitching an entire game without the benefit of a relief pitcher. A pitcher who meets this criterion will be credited with a complete game regardless of the number of innings played: number of games where player was the only pitcher for their team.\n",
        "15.\tSHO - This means Shutout. It refers to the act by which a single pitcher pitches a complete game and does not allow the opposing team to score a run: number of complete games pitched with no runs allowed.\n",
        "16.\tSV - This means Save. It's credited to a pitcher who finishes a game for the winning team under certain prescribed circumstances: number of games where the pitcher enters a game led by the pitcher's team, finishes the game without surrendering the lead, is not the winning pitcher, and either (a) the lead was three runs or fewer when the pitcher entered the game; (b) the potential tying run was on base, at bat, or on deck; or (c) the pitcher pitched three or more innings.\n",
        "17.\tE - This means Errors. It's an act, in the judgment of the official scorer, of a fielder misplaying a ball in a manner that allows a batter or baserunner to advance one or more bases or allows a plate appearance to continue after the batter should have been put out. The term error is sometimes used to refer to the play during which an error was committed: number of times a fielder fails to make a play he should have made with common effort, and the offense benefits as a result.\n"
      ],
      "metadata": {
        "id": "w1zerLbYoh-G"
      }
    },
    {
      "cell_type": "markdown",
      "source": [
        "**-- Output: Number of predicted wins (W)**\n",
        "To understand the columns meaning, follow the link given below to understand the baseball statistics: https://en.wikipedia.org/wiki/Baseball_statistics\n",
        "For downloading the dataset, use the link given below.\n"
      ],
      "metadata": {
        "id": "qgvXTMHwossi"
      }
    },
    {
      "cell_type": "markdown",
      "source": [
        "**Dataset Link-**\n",
        "•\thttps://github.com/FlipRoboTechnologies/ML_-Datasets/blob/main/Baseball/baseball.csv\n",
        "\n"
      ],
      "metadata": {
        "id": "d3cBnzE_owQ0"
      }
    },
    {
      "cell_type": "code",
      "source": [
        "import pandas as pd\n",
        "import numpy as np\n",
        "import matplotlib.pyplot as plt\n",
        "import seaborn as sns\n",
        "import warnings\n",
        "\n",
        "warnings.filterwarnings('ignore')\n",
        "\n",
        "sns.set_style('darkgrid')"
      ],
      "metadata": {
        "id": "HOtp19WvpnLv"
      },
      "execution_count": null,
      "outputs": []
    },
    {
      "cell_type": "code",
      "source": [
        "dataURL = \"https://raw.githubusercontent.com/FlipRoboTechnologies/ML_-Datasets/main/Baseball/baseball.csv\"\n",
        "df = pd.read_csv(dataURL)\n",
        "df.head()"
      ],
      "metadata": {
        "id": "YKpOmEjepr55"
      },
      "execution_count": null,
      "outputs": []
    },
    {
      "cell_type": "code",
      "source": [
        "#The shape of the data frame\n",
        "df.shape"
      ],
      "metadata": {
        "id": "uuUSjZNXreNo"
      },
      "execution_count": null,
      "outputs": []
    },
    {
      "cell_type": "code",
      "source": [
        "df.info()"
      ],
      "metadata": {
        "id": "5Dwzo_3rsgm_"
      },
      "execution_count": null,
      "outputs": []
    },
    {
      "cell_type": "code",
      "source": [
        "##Preparation of the data\n",
        "df.info()"
      ],
      "metadata": {
        "id": "YSw3oVWd2JGr"
      },
      "execution_count": null,
      "outputs": []
    },
    {
      "cell_type": "code",
      "source": [
        "findnull_values = df.isnull().sum()\n",
        "findnull_values"
      ],
      "metadata": {
        "id": "VWXj7IG5vEhp"
      },
      "execution_count": null,
      "outputs": []
    },
    {
      "cell_type": "markdown",
      "source": [
        "#lets check  null values"
      ],
      "metadata": {
        "id": "VgSfUdi0sx2h"
      }
    },
    {
      "cell_type": "markdown",
      "source": [
        "**As per the above data we can see all data is in numerical and no need to convert the data and also we can see there is no missing values .**\n"
      ],
      "metadata": {
        "id": "OvbhmOP_2dFl"
      }
    },
    {
      "cell_type": "code",
      "source": [
        "sns.heatmap(df.isnull().sum().to_frame())"
      ],
      "metadata": {
        "id": "zCICDTONsotC"
      },
      "execution_count": null,
      "outputs": []
    },
    {
      "cell_type": "code",
      "source": [],
      "metadata": {
        "id": "2iEYUuSQ3NjZ"
      },
      "execution_count": null,
      "outputs": []
    },
    {
      "cell_type": "markdown",
      "source": [
        "**Understanding the Features  and Visualize the features **\n",
        "\n",
        "```\n",
        "# This is formatted as code\n",
        "```\n",
        "\n"
      ],
      "metadata": {
        "id": "RaHerCJa21pF"
      }
    },
    {
      "cell_type": "code",
      "source": [
        "sns.countplot(x='W', data = df)"
      ],
      "metadata": {
        "id": "OTgTPLosu-D6"
      },
      "execution_count": null,
      "outputs": []
    },
    {
      "cell_type": "code",
      "source": [
        "df.hist(bins = 8,figsize = (15,15))"
      ],
      "metadata": {
        "id": "Qb-mvLjf3cgE"
      },
      "execution_count": null,
      "outputs": []
    },
    {
      "cell_type": "code",
      "source": [
        "for i in df.columns:\n",
        "  if df[i].dtype != 'object':\n",
        "    plt.figure(figsize=(10,7))\n",
        "    plt.subplot(1,3,1)\n",
        "    sns.histplot(x = i,data=df,kde= True)\n",
        "    plt.subplot(1,3,2)\n",
        "    sns.boxplot(y = i,data=df)\n",
        "    sns.regplot(x = i,y = 'W', data=df)\n",
        "    plt.subplot(1,3,3)\n",
        "    sns.scatterplot(x = i,y = 'W', data=df)\n",
        "    plt.show()"
      ],
      "metadata": {
        "id": "BSuGGz385aTU"
      },
      "execution_count": null,
      "outputs": []
    },
    {
      "cell_type": "code",
      "source": [
        "df.plot(kind = 'box', subplots =True,layout = (6,3),figsize = (10,10))"
      ],
      "metadata": {
        "id": "RQ7e3NwUSViF"
      },
      "execution_count": null,
      "outputs": []
    },
    {
      "cell_type": "code",
      "source": [],
      "metadata": {
        "id": "3BUuGmCiiTCU"
      },
      "execution_count": null,
      "outputs": []
    },
    {
      "cell_type": "markdown",
      "source": [
        "**Relation analysis and ourliers treatment **\n",
        "\n",
        "SB  One outlier above the upper line  .\n",
        "ER  One outlier above the upper line .\n",
        "ERA  One outlier above the upper .\n",
        "CG Multiple outliers below the lower whisker."
      ],
      "metadata": {
        "id": "jIexofi_TZPw"
      }
    },
    {
      "cell_type": "code",
      "source": [
        "corr = df.corr()\n",
        "corr"
      ],
      "metadata": {
        "id": "pF8Wh-msAVaZ"
      },
      "execution_count": null,
      "outputs": []
    },
    {
      "cell_type": "code",
      "source": [
        "plt.figure(figsize = (15,11))\n",
        "sns.heatmap(corr,annot = True)"
      ],
      "metadata": {
        "id": "dOSEPe1yUjpY"
      },
      "execution_count": null,
      "outputs": []
    },
    {
      "cell_type": "markdown",
      "source": [
        "Our Obseravation form the above correlation matrix\n",
        "\n",
        "#**1. Strong Positive Correlations **\n",
        "**ERA,RA (0.99)** have highly possitive correlation ,indicating that as one increases,the other also increases almost proportionally\n",
        "\n",
        "and **ERA and ER**, **Ra and ER** have strongly  positively  correlated\n",
        "\n",
        "\n",
        "\n",
        "\n",
        "#**2. Strongly Negitive Correlation **\n",
        "\n",
        "#**W and RA(-0.81) ,W and ERA (-0.82), w and ER (-0.81) have strong negitive correlation **"
      ],
      "metadata": {
        "id": "fZH2UnbMVQ9W"
      }
    },
    {
      "cell_type": "code",
      "source": [
        "#checking Skewness\n",
        "\n",
        "df_skewness = df.skew()\n",
        "df_skewness"
      ],
      "metadata": {
        "id": "a7c7zZH5aN37"
      },
      "execution_count": null,
      "outputs": []
    },
    {
      "cell_type": "markdown",
      "source": [
        "# Possitive Skewness\n",
        "\n",
        "\n",
        "R      1.200786\n",
        "\n",
        "H      0.670254\n",
        "\n",
        "HR     0.516441\n",
        "\n",
        "SB     0.479893\n",
        "\n",
        "CG     0.736845\n",
        "\n",
        "SHO    0.565790\n",
        "\n",
        "SV     0.657524\n",
        "\n",
        "E      0.890132\n",
        "\n",
        "#approximately symmetric\n",
        "\n",
        "AB     0.183437\n",
        "\n",
        "3B     0.129502\n",
        "\n",
        "BB     0.158498\n",
        "\n",
        "RA     0.045734\n",
        "\n",
        "ER     0.058710\n",
        "\n",
        "ERA    0.053331\n",
        "\n",
        "2B    -0.230650\n",
        "\n",
        "SO    -0.156065\n",
        "\n",
        "W      0.047089\n"
      ],
      "metadata": {
        "id": "qVmG3E9jajIK"
      }
    },
    {
      "cell_type": "markdown",
      "source": [
        "**Transformations to remove Skewness**\n",
        "\n",
        "For positively skewed data ,we can apply transformations such as squared root,log,cube root.\n",
        "\n",
        "for negitively skewed data ,squared or cube root"
      ],
      "metadata": {
        "id": "uoKP1xSGge5d"
      }
    },
    {
      "cell_type": "markdown",
      "source": [
        "**#removing skewness using Cuberoot **"
      ],
      "metadata": {
        "id": "fL114nfEhoj-"
      }
    },
    {
      "cell_type": "code",
      "source": [
        "for index, value in df_skewness.items():\n",
        "  if value > 0.5 or value < -0.5:\n",
        "      df[index] = np.cbrt(df[index])\n",
        "df.skew()"
      ],
      "metadata": {
        "id": "lGzQVL_rhxOo"
      },
      "execution_count": null,
      "outputs": []
    },
    {
      "cell_type": "code",
      "source": [
        "x = df.drop(['W'], axis = 1)\n",
        "y = df['W']"
      ],
      "metadata": {
        "id": "RQpBEUgCjnUv"
      },
      "execution_count": null,
      "outputs": []
    },
    {
      "cell_type": "code",
      "source": [
        "from sklearn import preprocessing\n",
        "from sklearn.preprocessing import StandardScaler\n",
        "\n",
        "\n",
        "scaler = preprocessing.StandardScaler()\n",
        "x = pd.DataFrame(scaler.fit_transform(x), columns = x.columns)\n"
      ],
      "metadata": {
        "id": "8rtN3oc8jo5M"
      },
      "execution_count": null,
      "outputs": []
    },
    {
      "cell_type": "code",
      "source": [
        "from statsmodels.stats.outliers_influence import variance_inflation_factor\n",
        "vif = pd.DataFrame()\n",
        "vif[\"vif\"] = [variance_inflation_factor(x.values, i) for i in range(x.shape[1])]\n",
        "vif[\"Features\"] = x.columns\n",
        "vif"
      ],
      "metadata": {
        "id": "NAlMgISouafM"
      },
      "execution_count": null,
      "outputs": []
    },
    {
      "cell_type": "code",
      "source": [
        "x = x.drop(['ERA'], axis =1)"
      ],
      "metadata": {
        "id": "YNGkfq5Vuuhf"
      },
      "execution_count": null,
      "outputs": []
    },
    {
      "cell_type": "code",
      "source": [
        "vif = pd.DataFrame()\n",
        "vif[\"vif\"] = [variance_inflation_factor(x.values, i) for i in range(x.shape[1])]\n",
        "vif[\"Features\"] = x.columns\n",
        "vif"
      ],
      "metadata": {
        "id": "O4XYv9PAvAow"
      },
      "execution_count": null,
      "outputs": []
    },
    {
      "cell_type": "code",
      "source": [
        "!pip install lazypredict\n",
        "!pip install scipy==1.10.1"
      ],
      "metadata": {
        "id": "mndfDGqsKLk_"
      },
      "execution_count": null,
      "outputs": []
    },
    {
      "cell_type": "code",
      "source": [
        "from sklearn.model_selection import train_test_split\n",
        "from lazypredict.Supervised import LazyRegressor\n",
        "\n",
        "x_train,x_test,y_train,y_test = train_test_split(x,y,test_size = 0.2,random_state = 42)"
      ],
      "metadata": {
        "id": "KSqmIVu_wVvT"
      },
      "execution_count": null,
      "outputs": []
    },
    {
      "cell_type": "code",
      "source": [
        "threshold = 10\n",
        "min_r2 = 0.5\n",
        "\n",
        "Lazyreg = LazyRegressor(verbose=0, ignore_warnings=True, custom_metric=None)\n",
        "Lazyreg_models, predictions = Lazyreg.fit(x_train, x_test, y_train, y_test)\n",
        "print(Lazyreg_models)\n",
        "print('\\n')\n",
        "models_df = pd.DataFrame(Lazyreg_models)\n",
        "\n",
        "\n",
        "filtered_models = models_df[(models_df['RMSE'] < threshold) & (models_df['R-Squared'] > min_r2)]\n",
        "\n",
        "print(\"Filtred models after applying the threshold 10 and min_r2 (0.5) :\\n \", filtered_models)\n",
        "\n",
        "#failed_models = [model for model in Lazyreg_models.index if Lazyreg_models.loc[model]['R-Squared'] < 0]\n",
        "#print(\"Failed models:\", failed_models)"
      ],
      "metadata": {
        "id": "8eeEu-hWJw02"
      },
      "execution_count": null,
      "outputs": []
    },
    {
      "cell_type": "markdown",
      "source": [
        "**Top Performers:**\n",
        "\n",
        "\n",
        "BaggingRegressor: Highest Adjusted R-Squared (1.22), indicating a strong fit with the data, with an RMSE of 7.53.\n",
        "RandomForestRegressor, KNeighborsRegressor, PassiveAggressiveRegressor, GradientBoostingRegressor, and XGBRegressor.\n",
        "\n",
        "All have Adjusted R-Squared values above 1.15, suggesting good performance.\n",
        "\n",
        "\n",
        "**Underperformers:**\n",
        "\n",
        "Models like GaussianProcessRegressor and KernelRidge have significantly negative R-Squared values, indicating poor performance."
      ],
      "metadata": {
        "id": "3vn_dg98iJNo"
      }
    },
    {
      "cell_type": "markdown",
      "source": [
        "#Model Creation"
      ],
      "metadata": {
        "id": "tMXg5cp2wnKv"
      }
    },
    {
      "cell_type": "code",
      "source": [
        "from sklearn.linear_model import LinearRegression\n",
        "from sklearn.metrics import mean_squared_error\n",
        "from sklearn.linear_model import LinearRegression, Ridge, Lasso\n",
        "from sklearn.metrics import mean_squared_error\n",
        "from sklearn.model_selection import cross_val_score\n",
        "from sklearn.svm import SVR\n",
        "from sklearn.tree import DecisionTreeRegressor\n",
        "from sklearn.ensemble import RandomForestRegressor, GradientBoostingRegressor, AdaBoostRegressor\n",
        "\n",
        "LR = LinearRegression()\n",
        "\n",
        "LR.fit(x_train,y_train)"
      ],
      "metadata": {
        "id": "U38Qg-DbxCpx"
      },
      "execution_count": null,
      "outputs": []
    },
    {
      "cell_type": "code",
      "source": [
        "LR_pred = LR.predict(x_test)"
      ],
      "metadata": {
        "id": "pW40OG-Q1rv_"
      },
      "execution_count": null,
      "outputs": []
    },
    {
      "cell_type": "code",
      "source": [
        "from sklearn.model_selection import cross_val_score\n",
        "cross_value = cross_val_score(LR,x_train,y_train,cv=5, scoring='neg_mean_squared_error')\n",
        "print(cross_value)\n",
        "#cross_value"
      ],
      "metadata": {
        "id": "596Lyx4n16gX"
      },
      "execution_count": null,
      "outputs": []
    },
    {
      "cell_type": "code",
      "source": [
        "mean_squared_error(y_test.values,LR_pred,squared=False)"
      ],
      "metadata": {
        "id": "v2UyTGLN2Fpf"
      },
      "execution_count": null,
      "outputs": []
    },
    {
      "cell_type": "code",
      "source": [
        "models = [LinearRegression(),\n",
        "          Ridge(alpha = 0.001),\n",
        "          Lasso(alpha=0.003),\n",
        "          SVR(),\n",
        "          DecisionTreeRegressor(),\n",
        "          RandomForestRegressor(),\n",
        "          GradientBoostingRegressor(),\n",
        "          AdaBoostRegressor(base_estimator=LinearRegression())]\n",
        "\n",
        "model_names = 'LinearRegression','Ridge','Lasso','SVR','DecisionTreeRegressor','RandomForestRegressor','GradientBoostingRegressor','AdaBoostRegressor'\n",
        "model_df = pd.DataFrame(columns=['Model','MSE','R2','MeanCV'])\n",
        "for model,model_names in zip(models,model_names):\n",
        "  print(model)\n",
        "  #x_train,x_test,y_train,y_test\n",
        "  model.fit(x_train,y_train)\n",
        "  print(x_test.shape,y_test.shape)\n",
        "  pred = model.predict(x_test)\n",
        "  mse = mean_squared_error(y_test,pred,squared=False)\n",
        "  r2 = model.score(x_test,y_test)\n",
        "\n",
        "  averages = cross_val_score(model,x_train,y_train,cv=5,scoring='neg_mean_squared_error').mean()\n",
        "\n",
        "  model_df = pd.concat([model_df,pd.DataFrame({'Model': [model_names],'MSE':mse,'R2':r2,'MeanCV': [averages]})],ignore_index=True)\n",
        "print(model_df)"
      ],
      "metadata": {
        "id": "m2r16wCx2YMJ"
      },
      "execution_count": null,
      "outputs": []
    },
    {
      "cell_type": "markdown",
      "source": [
        "##Below screen shot is based on LazyRegressor comparision with other method\n",
        "\n",
        "![image.png](data:image/png;base64,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)\n"
      ],
      "metadata": {
        "id": "u-Ij8hDJkRvW"
      }
    },
    {
      "cell_type": "code",
      "source": [],
      "metadata": {
        "id": "n7ey82kdk612"
      },
      "execution_count": null,
      "outputs": []
    },
    {
      "cell_type": "markdown",
      "source": [
        "**Model Evaluation **"
      ],
      "metadata": {
        "id": "OMbrWDhAlRNP"
      }
    },
    {
      "cell_type": "code",
      "source": [
        "from sklearn.linear_model import Ridge\n",
        "from sklearn.model_selection import GridSearchCV\n",
        "\n",
        "ridge_clf = Ridge(random_state= 29)\n",
        "ridge_clf.fit(x_train, y_train)"
      ],
      "metadata": {
        "id": "FypAywtFo6uz"
      },
      "execution_count": null,
      "outputs": []
    },
    {
      "cell_type": "code",
      "source": [
        "grid_param = {'alpha': [0.0001,0.001,0.01,0.1,1,10],\n",
        "              'fit_intercept': [True,False],\n",
        "              'tol': [0.0001,0.001,0.01,0.1,1,10]}"
      ],
      "metadata": {
        "id": "bVvgACWdo96H"
      },
      "execution_count": null,
      "outputs": []
    },
    {
      "cell_type": "code",
      "source": [
        "grid_search = GridSearchCV(ridge_clf, grid_param, cv=5,verbose=3)"
      ],
      "metadata": {
        "id": "srwgyDjMu3Ff"
      },
      "execution_count": null,
      "outputs": []
    },
    {
      "cell_type": "code",
      "source": [
        "grid_search.fit(x_train, y_train)"
      ],
      "metadata": {
        "id": "HOEw8w2_usca"
      },
      "execution_count": null,
      "outputs": []
    },
    {
      "cell_type": "code",
      "source": [
        "grid_search.best_params_"
      ],
      "metadata": {
        "id": "IhfEVP62v2Sy"
      },
      "execution_count": null,
      "outputs": []
    },
    {
      "cell_type": "code",
      "source": [
        "Final_model = Ridge(alpha=10, fit_intercept=True, tol=0.0001)\n",
        "Final_model.fit(x_train, y_train)"
      ],
      "metadata": {
        "id": "LVMatolbv7k0"
      },
      "execution_count": null,
      "outputs": []
    },
    {
      "cell_type": "code",
      "source": [
        "from sklearn.metrics import r2_score\n",
        "Ridge_pred = Final_model.predict(x_test)\n",
        "r2_score(y_test, Ridge_pred)\n",
        "print(r2_score(y_test, Ridge_pred))"
      ],
      "metadata": {
        "id": "JxT0LRmpwHQL"
      },
      "execution_count": null,
      "outputs": []
    },
    {
      "cell_type": "markdown",
      "source": [
        "##Top Performers Models evaluation\n",
        "\n",
        "BaggingRegressor: Highest Adjusted R-Squared (1.22), indicating a strong fit with the data, with an RMSE of 7.53. RandomForestRegressor, KNeighborsRegressor, PassiveAggressiveRegressor, GradientBoostingRegressor, and XGBRegressor.\n",
        "\n",
        "All have Adjusted R-Squared values above 1.15, suggesting good performance. **bold text**"
      ],
      "metadata": {
        "id": "Ej8SRDLmzYoA"
      }
    },
    {
      "cell_type": "code",
      "source": [],
      "metadata": {
        "id": "gmRAvWld8erg"
      },
      "execution_count": null,
      "outputs": []
    },
    {
      "cell_type": "code",
      "source": [
        "from sklearn.ensemble import BaggingRegressor,RandomForestRegressor,GradientBoostingRegressor\n",
        "from sklearn.neighbors import KNeighborsRegressor\n",
        "from sklearn.linear_model import PassiveAggressiveRegressor\n",
        "from sklearn.metrics import mean_squared_error,r2_score\n",
        "import xgboost as xgb\n",
        "\n",
        "\n",
        "param_grids = {\n",
        "    'BaggingRegressor': {\n",
        "        'n_estimators':[10,20,30,40,50],\n",
        "        'max_samples':[0.1,0.3,0.5,0.7,1.0]\n",
        "    },\n",
        "    'RandomForestRegressor': {\n",
        "        'n_estimators':[100,200,300,400],\n",
        "        'max_depth':[10,20,30,40]\n",
        "    },\n",
        "    'KNeighborsRegressor': {\n",
        "        'n_neighbors':[3,5,7,9,11],\n",
        "        'weights':['uniform','distance']\n",
        "    },\n",
        "    'PassiveAggressiveRegressor': {\n",
        "        'C':[0.1,1,10,100]\n",
        "    },\n",
        "    'GradientBoostingRegressor': {\n",
        "        'n_estimators':[100,200,300,400],\n",
        "        'learning_rate':[0.1,0.01,0.001]\n",
        "    },\n",
        "    'XGBRegressor': {\n",
        "        'n_estimators':[100,200,300,400],\n",
        "        'learning_rate':[0.1,0.01,0.001],\n",
        "        'max_depth':[3,4,5,6]\n",
        "    }\n",
        "\n",
        "}\n",
        "\n",
        "models = {\n",
        "   'BaggingRegressor': BaggingRegressor(),\n",
        "   'RandomForestRegressor':RandomForestRegressor(),\n",
        "   'KNeighborsRegressor': KNeighborsRegressor(),\n",
        "   'PassiveAggressiveRegressor': PassiveAggressiveRegressor(),\n",
        "   'GradientBoostingRegressor': GradientBoostingRegressor(),\n",
        "   'XGBRegressor' : xgb.XGBRegressor()\n",
        "}\n",
        "\n",
        "\n",
        "#Data frame to store the result\n",
        "\n",
        "results = pd.DataFrame(columns=['Model', 'Best parameters', 'validation  MSE', 'Validation R2'])\n",
        "\n",
        "# Perform Grid Search\n",
        "\n",
        "for model_name, model in models.items():\n",
        "    grid_search = GridSearchCV(estimator=model, param_grid=param_grids[model_name], cv=5,scoring = 'neg_mean_squared_error',n_jobs = -1,verbose=2)\n",
        "    grid_search.fit(x_train, y_train)\n",
        "\n",
        "    #Best perameter and evaluation\n",
        "    best_params = grid_search.best_params_\n",
        "    best_score = -grid_search.best_score_\n",
        "    val_y_pred = grid_search.predict(x_test)\n",
        "    val_mse = mean_squared_error(y_test, val_y_pred)\n",
        "    val_r2 = r2_score(y_test, val_y_pred)\n",
        "\n",
        "#store the result\n",
        "\n",
        "   # results = results.append({'Model': model_name, 'Best parameters': best_params, 'validation  MSE': val_mse, 'Validation R2': val_r2}, ignore_index=True)\n",
        "    results = pd.concat([results, pd.DataFrame({'Model': [model_name], 'Best parameters': [best_params], 'validation  MSE': [val_mse], 'Validation R2': [val_r2]})], ignore_index=True)\n",
        "#Display the result\n",
        "print(results)"
      ],
      "metadata": {
        "id": "RqRA82kdybyj"
      },
      "execution_count": null,
      "outputs": []
    },
    {
      "cell_type": "markdown",
      "source": [
        "Based on the above result :\n",
        "\n",
        "**Model\tBest Parameters\t     Validation        MSE          \tValidation R2**\n",
        "\n",
        "BaggingRegressor\t    {'max_samples': 0.7, 'n_estimators': 20}\t72.23\t0.45\n",
        "\n",
        "RandomForestRegressor\t{'max_depth': 20, 'n_estimators': 300}\t59.78\t0.55\n",
        "\n",
        "KNeighborsRegressor\t{'n_neighbors': 5, 'weights': 'distance'}\t49.37\t0.62\n",
        "\n",
        "**PassiveAggressiveRegressor\t{'C': 1}\t38.94\t0.70**\n",
        "\n",
        "GradientBoostingRegressor\t{'learning_rate': 0.1, 'n_estimators': 200}\t44.40\t0.66\n",
        "\n",
        "XGBRegressor\t{'learning_rate': 0.1, 'max_depth': 3, 'n_estimators': 200}\t46.14\t0.65"
      ],
      "metadata": {
        "id": "4ZrcAyj3-pJ6"
      }
    },
    {
      "cell_type": "markdown",
      "source": [
        "**Final Training  model  \"PassiveAggressiveRegressor\" **"
      ],
      "metadata": {
        "id": "YCV_KBly_Tud"
      }
    },
    {
      "cell_type": "code",
      "source": [
        "best_model = PassiveAggressiveRegressor(C=1)\n",
        "best_model.fit(x_train, y_train)\n",
        "val_y_pred = best_model.predict(x_test)\n",
        "val_mse = mean_squared_error(y_test, val_y_pred)\n",
        "val_r2 = r2_score(y_test, val_y_pred)\n",
        "print(f\"Validation MSE: {val_mse:.2f}\")\n",
        "print(f\"Validation R2: {val_r2:.2f}\")"
      ],
      "metadata": {
        "id": "mvkAvpJn_kM7"
      },
      "execution_count": null,
      "outputs": []
    },
    {
      "cell_type": "code",
      "source": [
        "#Deployment\n",
        "\n",
        "import joblib\n",
        "\n",
        "joblib.dump(best_model, 'best_model_PassiveAggressiveRegressor.pkl')"
      ],
      "metadata": {
        "id": "_wXDpcPa_4SD"
      },
      "execution_count": null,
      "outputs": []
    }
  ]
}