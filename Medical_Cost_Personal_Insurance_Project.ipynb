{
  "nbformat": 4,
  "nbformat_minor": 0,
  "metadata": {
    "colab": {
      "private_outputs": true,
      "provenance": [],
      "authorship_tag": "ABX9TyMYG4+UPjMcfb8DEsXMWng8",
      "include_colab_link": true
    },
    "kernelspec": {
      "name": "python3",
      "display_name": "Python 3"
    },
    "language_info": {
      "name": "python"
    }
  },
  "cells": [
    {
      "cell_type": "markdown",
      "metadata": {
        "id": "view-in-github",
        "colab_type": "text"
      },
      "source": [
        "<a href=\"https://colab.research.google.com/github/nallagondu/datatrained_inter_public/blob/main/Medical_Cost_Personal_Insurance_Project.ipynb\" target=\"_parent\"><img src=\"https://colab.research.google.com/assets/colab-badge.svg\" alt=\"Open In Colab\"/></a>"
      ]
    },
    {
      "cell_type": "markdown",
      "source": [
        "#**Medical Cost Personal Insurance Project**"
      ],
      "metadata": {
        "id": "1RsZMUGPA9bI"
      }
    },
    {
      "cell_type": "markdown",
      "source": [
        "#Project Description\n",
        "\n",
        "Health insurance is a type of insurance that covers medical expenses that arise due to an illness. These expenses could be related to hospitalisation costs, cost of medicines or doctor consultation fees. The main purpose of medical insurance is to receive the best medical care without any strain on your finances. Health insurance plans offer protection against high medical costs. It covers hospitalization expenses, day care procedures, domiciliary expenses, and ambulance charges, besides many others. Based on certain input features such as age , bmi,,no of dependents ,smoker ,region  medical insurance is calculated .\n"
      ],
      "metadata": {
        "id": "dudNH3mMA1n2"
      }
    },
    {
      "cell_type": "markdown",
      "source": [
        "**Columns**                                        \n",
        "•\tage: age of primary beneficiary\n",
        "•\tsex: insurance contractor gender, female, male\n",
        "•\tbmi: Body mass index, providing an understanding of body, weights that are relatively high or low relative to height, objective index of body weight (kg / m ^ 2) using the ratio of height to weight, ideally 18.5 to 24.9.\n",
        "•\tchildren: Number of children covered by health insurance / Number of dependents\n",
        "•\tsmoker: Smoking\n",
        "•\tregion: the beneficiary's residential area in the US, northeast, southeast, southwest, northwest.\n",
        "•\tcharges: Individual medical costs billed by health insurance\n"
      ],
      "metadata": {
        "id": "tD5_m-mJBRTo"
      }
    },
    {
      "cell_type": "markdown",
      "source": [
        "**Dataset Link-**\n",
        "https://github.com/FlipRoboTechnologies/ML-Datasets/blob/main/Medical%20Cost%20Insurance/medical_cost_insurance.csv\n"
      ],
      "metadata": {
        "id": "z7BoPK8CBXca"
      }
    },
    {
      "cell_type": "code",
      "execution_count": null,
      "metadata": {
        "id": "qY_3mScpAqtL"
      },
      "outputs": [],
      "source": [
        "import pandas as pd\n",
        "import numpy as np\n",
        "import time\n",
        "import seaborn as sns\n",
        "import matplotlib.pyplot as plt\n",
        "\n",
        "from sklearn.model_selection import train_test_split\n",
        "from sklearn.metrics import confusion_matrix,classification_report,accuracy_score\n",
        "from sklearn.decomposition import PCA\n",
        "from sklearn.preprocessing import StandardScaler\n",
        "import warnings\n",
        "warnings.filterwarnings('ignore')\n",
        "\n",
        "\n",
        "%matplotlib inline"
      ]
    },
    {
      "cell_type": "code",
      "source": [
        "url = \"https://raw.githubusercontent.com/nallagondu/ML-Datasets/main/Medical%20Cost%20Insurance/medical_cost_insurance.csv\"\n",
        "medical_ins_df = pd.read_csv(url)\n",
        "medical_ins_df"
      ],
      "metadata": {
        "id": "7SGHru18CT4a"
      },
      "execution_count": null,
      "outputs": []
    },
    {
      "cell_type": "code",
      "source": [
        "medical_ins_df.head()"
      ],
      "metadata": {
        "id": "KVSiKHRRDrxS"
      },
      "execution_count": null,
      "outputs": []
    },
    {
      "cell_type": "code",
      "source": [
        "medical_ins_df.sample(20)"
      ],
      "metadata": {
        "id": "P6WZFyQk18C3"
      },
      "execution_count": null,
      "outputs": []
    },
    {
      "cell_type": "code",
      "source": [
        "medical_ins_df.info()"
      ],
      "metadata": {
        "id": "fVPkMgg_D7Tk"
      },
      "execution_count": null,
      "outputs": []
    },
    {
      "cell_type": "markdown",
      "source": [
        "**We can observer that ,there are no missing values**"
      ],
      "metadata": {
        "id": "Gpb_4cPIECRs"
      }
    },
    {
      "cell_type": "code",
      "source": [
        "medical_ins_df.shape"
      ],
      "metadata": {
        "id": "3_Cmsd0MEJoa"
      },
      "execution_count": null,
      "outputs": []
    },
    {
      "cell_type": "code",
      "source": [
        "medical_ins_df.columns"
      ],
      "metadata": {
        "id": "mtafxjmlEAIs"
      },
      "execution_count": null,
      "outputs": []
    },
    {
      "cell_type": "code",
      "source": [
        "medical_ins_df.columns.tolist()"
      ],
      "metadata": {
        "id": "RDe51ZtMEbkA"
      },
      "execution_count": null,
      "outputs": []
    },
    {
      "cell_type": "code",
      "source": [
        "medical_ins_df['children'].value_counts().sort_values()"
      ],
      "metadata": {
        "id": "DS5eCLcGEk6O"
      },
      "execution_count": null,
      "outputs": []
    },
    {
      "cell_type": "code",
      "source": [
        "#Converting categorical Features into Numerical\n",
        "Categorical_medical_ins_df = {'sex': {'male' : 1,'female': 0},\n",
        "                              'smoker': {'no':0 ,'yes' : 1 },\n",
        "                              'region': {'northeast': 0,'northwest': 1,'southeast': 3,'southwest':4}\n",
        "                              }\n",
        "cp_medical_ins_df = medical_ins_df.copy()\n",
        "cp_medical_ins_df.replace(Categorical_medical_ins_df,inplace=True)"
      ],
      "metadata": {
        "id": "ZWFPukEX1BWV"
      },
      "execution_count": null,
      "outputs": []
    },
    {
      "cell_type": "code",
      "source": [
        "cp_medical_ins_df"
      ],
      "metadata": {
        "id": "fvp4TLIh3Y50"
      },
      "execution_count": null,
      "outputs": []
    },
    {
      "cell_type": "code",
      "source": [
        "cp_medical_ins_df.describe()"
      ],
      "metadata": {
        "id": "pBQOcnFY3eyH"
      },
      "execution_count": null,
      "outputs": []
    },
    {
      "cell_type": "markdown",
      "source": [
        "# By comparing min, max, and percentiles, we can identify potential outliers.\n",
        "# BMI has a minimum of 15.96 and a maximum of 53.13, indicating potential outliers at both ends.\n",
        "# Class Imbalance\n",
        "# High variation in charges (std = 12110.01)"
      ],
      "metadata": {
        "id": "gGUgYy2b7gfy"
      }
    },
    {
      "cell_type": "code",
      "source": [],
      "metadata": {
        "id": "KbX1aTKd8R50"
      },
      "execution_count": null,
      "outputs": []
    },
    {
      "cell_type": "code",
      "source": [
        "#corr = cp_medical_ins_df.corr()\n",
        "cp_medical_ins_df.info()"
      ],
      "metadata": {
        "id": "GwDJu9RQ5SoV"
      },
      "execution_count": null,
      "outputs": []
    },
    {
      "cell_type": "code",
      "source": [
        "sns.heatmap(cp_medical_ins_df.isnull())"
      ],
      "metadata": {
        "id": "gzRL1uPV6NnS"
      },
      "execution_count": null,
      "outputs": []
    },
    {
      "cell_type": "code",
      "source": [
        "corr = cp_medical_ins_df.corr()\n",
        "\n",
        "plt.figure(figsize=(14,10))\n",
        "#cha = cp_medical_ins_df['charges'].value_counts()\n",
        "sns.heatmap(corr,fmt=\".2g\",annot=True, cmap = 'YlOrRd_r', linewidths= .5)\n",
        "plt.title(\"Medical Charges \",fontsize = 14)\n",
        "plt.tight_layout()\n",
        "plt.show()"
      ],
      "metadata": {
        "id": "3HPxrJU38SpU"
      },
      "execution_count": null,
      "outputs": []
    },
    {
      "cell_type": "markdown",
      "source": [
        "Smoker ,BMI and age are most importent factor to determines charges , and Sex ,childer and region do not affect the charges"
      ],
      "metadata": {
        "id": "ZAu4Y-s0-mzA"
      }
    },
    {
      "cell_type": "code",
      "source": [
        "medical_ins_df['sex'].value_counts().sort_values()\n"
      ],
      "metadata": {
        "id": "jZs1sLnT_MF7"
      },
      "execution_count": null,
      "outputs": []
    },
    {
      "cell_type": "code",
      "source": [
        "medical_ins_df['smoker'].value_counts().sort_values()\n"
      ],
      "metadata": {
        "id": "BtRotjze_n6A"
      },
      "execution_count": null,
      "outputs": []
    },
    {
      "cell_type": "code",
      "source": [
        "medical_ins_df['region'].value_counts().sort_values()"
      ],
      "metadata": {
        "id": "mIK3_KJ2_pPm"
      },
      "execution_count": null,
      "outputs": []
    },
    {
      "cell_type": "markdown",
      "source": [
        "#"
      ],
      "metadata": {
        "id": "4sJRfaMW_6MG"
      }
    },
    {
      "cell_type": "code",
      "source": [
        "plt.figure(figsize= (12,9))\n",
        "plt.title(' Age  and Charges ')\n",
        "sns.barplot(x='age',y='charges',data =cp_medical_ins_df,palette='Dark2' )\n",
        "plt.show()"
      ],
      "metadata": {
        "id": "N4oP9MMr__HN"
      },
      "execution_count": null,
      "outputs": []
    },
    {
      "cell_type": "code",
      "source": [
        "plt.figure(figsize= (12,9))\n",
        "plt.title(' region  and Cgarges ')\n",
        "sns.barplot(x='region',y='charges',data =cp_medical_ins_df,palette='Dark2' )\n",
        "plt.show()"
      ],
      "metadata": {
        "id": "wm8_a-rw_9OD"
      },
      "execution_count": null,
      "outputs": []
    },
    {
      "cell_type": "code",
      "source": [
        "plt.figure(figsize= (12,9))\n",
        "plt.title('BMI VS Charges ')\n",
        "sns.scatterplot(x='bmi',y='charges',data =cp_medical_ins_df,palette='Dark2',hue= 'sex' ) #Scatterplot\n",
        "plt.show()"
      ],
      "metadata": {
        "id": "FnLBuJPxCCi0"
      },
      "execution_count": null,
      "outputs": []
    },
    {
      "cell_type": "code",
      "source": [
        "plt.figure(figsize= (12,9))\n",
        "plt.title('BMI VS Charges ')\n",
        "sns.lineplot(x='bmi',y='charges',data =cp_medical_ins_df,color = 'blue' )\n",
        "plt.show()"
      ],
      "metadata": {
        "id": "BLhn1UzsCrbA"
      },
      "execution_count": null,
      "outputs": []
    },
    {
      "cell_type": "code",
      "source": [
        "#Smoker Vs Charges\n",
        "\n",
        "plt.figure(figsize= (12,9))\n",
        "plt.title('Smoker VS Charges ')\n",
        "sns.barplot(x='smoker',y='charges',data =cp_medical_ins_df,color = 'blue',hue='sex' )\n",
        "plt.show()"
      ],
      "metadata": {
        "id": "LqxTmZEwC6-h"
      },
      "execution_count": null,
      "outputs": []
    },
    {
      "cell_type": "code",
      "source": [
        "#Smoker Vs Charges\n",
        "\n",
        "plt.figure(figsize= (12,9))\n",
        "plt.title('Sex  VS Charges ')\n",
        "sns.barplot(x='sex',y='charges',data =cp_medical_ins_df,palette='Set1' )\n",
        "plt.show()"
      ],
      "metadata": {
        "id": "tU30LIY2EXy7"
      },
      "execution_count": null,
      "outputs": []
    },
    {
      "cell_type": "code",
      "source": [
        "# to compute the skewness of eatch Attributes\n",
        "\n",
        "cp_medical_ins_df.skew()\n"
      ],
      "metadata": {
        "id": "IrHbAZkAFFb9"
      },
      "execution_count": null,
      "outputs": []
    },
    {
      "cell_type": "code",
      "source": [
        "columns = cp_medical_ins_df.columns.tolist()\n",
        "columns.remove(\"charges\")"
      ],
      "metadata": {
        "id": "bskZg5LgGEQo"
      },
      "execution_count": null,
      "outputs": []
    },
    {
      "cell_type": "code",
      "source": [
        "skew_df = cp_medical_ins_df[columns].skew().to_frame().rename(columns={0:\"skewness\"})\n",
        "skew_df"
      ],
      "metadata": {
        "id": "Zb2jWUOoGdPb"
      },
      "execution_count": null,
      "outputs": []
    },
    {
      "cell_type": "code",
      "source": [
        "plt.figure(figsize=(12,9))\n",
        "sns.distplot(cp_medical_ins_df['age'])\n",
        "plt.title(\"AGE Plot\")\n",
        "plt.xlabel('Age')\n",
        "plt.ylabel('Count')"
      ],
      "metadata": {
        "id": "u77klBcFHQYq"
      },
      "execution_count": null,
      "outputs": []
    },
    {
      "cell_type": "code",
      "source": [
        "plt.figure(figsize=(12,9))\n",
        "sns.distplot(cp_medical_ins_df['bmi'])\n",
        "plt.title(\"BMI Plot\")\n",
        "plt.xlabel('BMI')\n",
        "plt.ylabel('Count')"
      ],
      "metadata": {
        "id": "AXgIEX1fH9hD"
      },
      "execution_count": null,
      "outputs": []
    },
    {
      "cell_type": "code",
      "source": [
        "#Medical Insurance Charges using histplot\n",
        "plt.figure(figsize=(12,9))\n",
        "sns.histplot(cp_medical_ins_df['charges'],kde=True)\n",
        "plt.title(\"Medical Insurance Charges \", fontsize=20)\n",
        "#plt.xlabel('Charges')\n",
        "#plt.ylabel('Count')\n",
        "plt.show()"
      ],
      "metadata": {
        "id": "AL15G3_1IHpQ"
      },
      "execution_count": null,
      "outputs": []
    },
    {
      "cell_type": "code",
      "source": [
        "#Medical Insurance Charges using BoxPlot\n",
        "plt.figure(figsize=(12,9))\n",
        "sns.boxplot(cp_medical_ins_df['charges'])\n",
        "plt.title(\"Medical Insurance Charges \", fontsize=20)\n",
        "#plt.xlabel('Charges')\n",
        "#plt.ylabel('Count')\n",
        "plt.show()"
      ],
      "metadata": {
        "id": "cPY1HAgGwB0t"
      },
      "execution_count": null,
      "outputs": []
    },
    {
      "cell_type": "code",
      "source": [
        "#Medical Insurance Charges using histplot\n",
        "plt.figure(figsize=(12,9))\n",
        "sns.histplot(cp_medical_ins_df['age'],kde=True)\n",
        "plt.title(\"Medical Insurance Age \", fontsize=20)\n",
        "#plt.xlabel('Charges')\n",
        "#plt.ylabel('Count')\n",
        "plt.show()"
      ],
      "metadata": {
        "id": "8PlItoKXxZog"
      },
      "execution_count": null,
      "outputs": []
    },
    {
      "cell_type": "code",
      "source": [
        "cp_medical_ins_df.tail()"
      ],
      "metadata": {
        "id": "ZVAs6STExsyg"
      },
      "execution_count": null,
      "outputs": []
    },
    {
      "cell_type": "markdown",
      "source": [
        "#There will be a outliers in charges\n",
        "##we can scale BMI and Charges columns before prediction"
      ],
      "metadata": {
        "id": "U8MmJsopycWi"
      }
    },
    {
      "cell_type": "code",
      "source": [
        "from sklearn.preprocessing import StandardScaler"
      ],
      "metadata": {
        "id": "XUWAv357yZ-h"
      },
      "execution_count": null,
      "outputs": []
    },
    {
      "cell_type": "code",
      "source": [
        "DataPreprocess_medical_ins_df = cp_medical_ins_df.copy()\n",
        "\n",
        "DataPreprocess_medical_ins_df\n",
        "\n",
        "Bmi_temp = DataPreprocess_medical_ins_df.bmi\n",
        "Bmi_temp = Bmi_temp.values.reshape(-1,1)\n",
        "DataPreprocess_medical_ins_df['bmi'] = StandardScaler().fit_transform(Bmi_temp)\n",
        "\n",
        "\n",
        "Age = DataPreprocess_medical_ins_df.age\n",
        "Age = Age.values.reshape(-1,1)\n",
        "DataPreprocess_medical_ins_df['age'] = StandardScaler().fit_transform(Age)\n",
        "\n",
        "\n",
        "Age = DataPreprocess_medical_ins_df.age\n",
        "Age = Age.values.reshape(-1,1)\n",
        "DataPreprocess_medical_ins_df['age'] = StandardScaler().fit_transform(Age)\n",
        "\n",
        "\n",
        "Charges_t = DataPreprocess_medical_ins_df.charges\n",
        "Charges_t = Charges_t.values.reshape(-1,1)\n",
        "DataPreprocess_medical_ins_df['age'] = StandardScaler().fit_transform(Charges_t)\n",
        "\n",
        "\n",
        "DataPreprocess_medical_ins_df.head()"
      ],
      "metadata": {
        "id": "NwmtYugmzVK0"
      },
      "execution_count": null,
      "outputs": []
    },
    {
      "cell_type": "code",
      "source": [
        "X = DataPreprocess_medical_ins_df.drop('charges',axis=1).values\n",
        "y = DataPreprocess_medical_ins_df['charges'].values.reshape(-1,1)\n",
        "\n"
      ],
      "metadata": {
        "id": "EL9P6waS1D5Q"
      },
      "execution_count": null,
      "outputs": []
    },
    {
      "cell_type": "code",
      "source": [
        "from sklearn.model_selection import train_test_split\n",
        "X_train,X_test,y_train,y_test = train_test_split(X,y,test_size=.20, random_state=42)\n",
        "print(\"Xtrain Size\", X_train.shape)\n",
        "print(\"X_test\", X_test.shape)\n",
        "print(\"Y train size\",y_train.shape)\n",
        "print(\"Y_test Size \", y_test.shape)\n",
        "\n"
      ],
      "metadata": {
        "id": "DwBP7Q071gvo"
      },
      "execution_count": null,
      "outputs": []
    },
    {
      "cell_type": "markdown",
      "source": [
        "**Model Building**"
      ],
      "metadata": {
        "id": "aIFQq7GF48-y"
      }
    },
    {
      "cell_type": "code",
      "source": [
        "from sklearn.linear_model import LinearRegression\n",
        "from sklearn.metrics import mean_squared_error, r2_score\n",
        "from sklearn.linear_model import LinearRegression\n",
        "from sklearn.ensemble import RandomForestRegressor\n",
        "from sklearn.tree import DecisionTreeRegressor\n",
        "from sklearn.svm import SVR\n",
        "import xgboost as xgb\n",
        "\n",
        "from sklearn.metrics import r2_score, mean_squared_error, accuracy_score, confusion_matrix\n",
        "from sklearn.model_selection import cross_val_score, RandomizedSearchCV, GridSearchCV\n"
      ],
      "metadata": {
        "id": "_kVssda15CGf"
      },
      "execution_count": null,
      "outputs": []
    },
    {
      "cell_type": "code",
      "source": [
        "LR = LinearRegression()\n",
        "LR = LR.fit(X_train,y_train)\n",
        "LR_y_pred = LR.predict(X_test)\n",
        "\n",
        "print(\"r2_score: \", r2_score(y_test,LR_y_pred))\n",
        "print(mean_squared_error(y_test,LR_y_pred))"
      ],
      "metadata": {
        "id": "TeyxliI06awd"
      },
      "execution_count": null,
      "outputs": []
    },
    {
      "cell_type": "code",
      "source": [
        "cv_LR = cross_val_score(estimator = LR, X = X, y = y, cv = 10)\n",
        "\n",
        "y_pred_LR_train = LR.predict(X_train)\n",
        "r2_score_LR_train = r2_score(y_train, y_pred_LR_train)\n",
        "\n",
        "y_pred_LR_test = LR.predict(X_test)\n",
        "r2_score_LR_test = r2_score(y_test, y_pred_LR_test)\n",
        "\n",
        "rmse_linear = (np.sqrt(mean_squared_error(y_test, y_pred_LR_test)))\n",
        "\n",
        "print('CV Linear Regression : {0:.3f}'.format(cv_LR.mean()))\n",
        "print('R2_score (train) : {0:.3f}'.format(r2_score_LR_train))\n",
        "print('R2_score (test) : {0:.3f}'.format(r2_score_LR_test))\n",
        "print('RMSE : {0:.3f}'.format(rmse_linear))"
      ],
      "metadata": {
        "id": "pyVS6iEg7M__"
      },
      "execution_count": null,
      "outputs": []
    },
    {
      "cell_type": "markdown",
      "source": [
        "#Support Vector Machine Regression"
      ],
      "metadata": {
        "id": "3k8GYESj8LoJ"
      }
    },
    {
      "cell_type": "code",
      "source": [
        "svr = SVR()\n",
        "svr = svr.fit(X_train,y_train)\n",
        "svr_y_pred = svr.predict(X_test)\n",
        "\n",
        "X_train_scaled = StandardScaler().fit_transform(X_train)\n",
        "X_test_scaled = StandardScaler().fit_transform(X_test)\n",
        "y_train_scaled = StandardScaler().fit_transform(y_train)\n",
        "y_test_scaled = StandardScaler().fit_transform(y_test)\n",
        "\n",
        "print(\"r2_score: \", r2_score(y_test,svr_y_pred))\n",
        "print(mean_squared_error(y_test,svr_y_pred))\n",
        "\n",
        "\n"
      ],
      "metadata": {
        "id": "7V8afbkw8JKJ"
      },
      "execution_count": null,
      "outputs": []
    },
    {
      "cell_type": "code",
      "source": [
        "parameters =  { 'kernel' : ['rbf', 'sigmoid'],\n",
        "                 'gamma' : [0.001, 0.01, 0.1, 1, 'scale'],\n",
        "                 'tol' : [0.0001],\n",
        "                 'C': [0.001, 0.01, 0.1, 1, 10, 100] }\n"
      ],
      "metadata": {
        "id": "5QKTZxjXBoIx"
      },
      "execution_count": null,
      "outputs": []
    },
    {
      "cell_type": "code",
      "source": [
        "svr_grid = GridSearchCV(estimator=svr, param_grid=parameters, cv=10, verbose=4, n_jobs=-1)\n",
        "svr_grid.fit(X_train_scaled, y_train_scaled.ravel())"
      ],
      "metadata": {
        "id": "aRY9F7x1E6FX"
      },
      "execution_count": null,
      "outputs": []
    },
    {
      "cell_type": "code",
      "source": [
        "\n"
      ],
      "metadata": {
        "id": "CJopcJhWCDj-"
      },
      "execution_count": null,
      "outputs": []
    },
    {
      "cell_type": "code",
      "source": [
        "svr = SVR(C=100, gamma = 0.1, tol=0.0001)\n",
        "svr.fit(X_train_scaled,y_train_scaled)\n",
        "print(\"Best Parameters\", svr_grid.best_params_)\n",
        "print(\"Best Score\" , svr_grid.best_score_)"
      ],
      "metadata": {
        "id": "0eom_An1EFiK"
      },
      "execution_count": null,
      "outputs": []
    },
    {
      "cell_type": "code",
      "source": [
        "svr_cv = svr_grid.best_score_\n",
        "\n",
        "y_pred_svr_train = svr.predict(X_train_scaled)\n",
        "r2_score_svr_train = r2_score(y_train_scaled, y_pred_svr_train)\n",
        "\n",
        "y_pred_svr_test = svr.predict(X_test_scaled)\n",
        "r2_score_svr_test = r2_score(y_test_scaled, y_pred_svr_test)\n",
        "\n",
        "rmse_svr = (np.sqrt(mean_squared_error(y_test_scaled, y_pred_svr_test)))\n",
        "\n",
        "print('CV : {0:.3f}'.format(svr_cv.mean()))\n",
        "print('R2_score (train) : {0:.3f}'.format(r2_score_svr_train))\n",
        "print('R2 score (test) : {0:.3f}'.format(r2_score_svr_test))\n",
        "print('RMSE : {0:.3f}'.format(rmse_svr))"
      ],
      "metadata": {
        "id": "R-vI8hnIG4OK"
      },
      "execution_count": null,
      "outputs": []
    },
    {
      "cell_type": "markdown",
      "source": [
        "**Random Forest Regression **"
      ],
      "metadata": {
        "id": "lAjVMHL1HVnD"
      }
    },
    {
      "cell_type": "code",
      "source": [
        "RFReg = RandomForestRegressor()\n",
        "RFReg = RFReg.fit(X_train, y_train)\n",
        "\n",
        "RFreg_pred = RFReg.predict(X_test)\n",
        "\n",
        "print(\"R2 Score: \", r2_score(y_test,RFreg_pred))"
      ],
      "metadata": {
        "id": "EtY67G3cHTAs"
      },
      "execution_count": null,
      "outputs": []
    }
  ]
}