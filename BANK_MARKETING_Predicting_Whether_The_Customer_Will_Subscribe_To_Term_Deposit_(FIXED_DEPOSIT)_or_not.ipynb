{
  "nbformat": 4,
  "nbformat_minor": 0,
  "metadata": {
    "colab": {
      "private_outputs": true,
      "provenance": [],
      "authorship_tag": "ABX9TyNsx9pr60fTf8KF3bhSQJIz",
      "include_colab_link": true
    },
    "kernelspec": {
      "name": "python3",
      "display_name": "Python 3"
    },
    "language_info": {
      "name": "python"
    }
  },
  "cells": [
    {
      "cell_type": "markdown",
      "metadata": {
        "id": "view-in-github",
        "colab_type": "text"
      },
      "source": [
        "<a href=\"https://colab.research.google.com/github/nallagondu/datatrained_inter_public/blob/main/BANK_MARKETING_Predicting_Whether_The_Customer_Will_Subscribe_To_Term_Deposit_(FIXED_DEPOSIT)_or_not.ipynb\" target=\"_parent\"><img src=\"https://colab.research.google.com/assets/colab-badge.svg\" alt=\"Open In Colab\"/></a>"
      ]
    },
    {
      "cell_type": "markdown",
      "source": [
        "#**Business Use Case**\n",
        "\n",
        "There has been a revenue decline for a Portuguese bank and they would like to know what actions to take. After investigation, they found out that the root cause is that their clients are not depositing as frequently as before. Knowing that term deposits allow banks to hold onto a deposit for a specific amount of time, so banks can invest in higher gain financial products to make a profit. In addition, banks also hold better chance to persuade term deposit clients into buying other products such as funds or insurance to further increase their revenues. As a result, the Portuguese bank would like to identify existing clients that have higher chance to subscribe for a term deposit and focus marketing efforts on such clients.\n"
      ],
      "metadata": {
        "id": "h8ienp8VOiDi"
      }
    },
    {
      "cell_type": "markdown",
      "source": [
        "#**Project Description**\n",
        "Your client is a retail banking institution. Term deposits are a major source of income for a bank. A term deposit is a cash investment held at a financial institution. Your money is invested for an agreed rate of interest over a fixed amount of time, or term. The bank has various outreach plans to sell term deposits to their customers such as email marketing, advertisements, telephonic marketing and digital marketing. Telephonic marketing campaigns still remain one of the most effective way to reach out to people. However, they require huge investment as large call centers are hired to actually execute these campaigns. Hence, it is crucial to identify the customers most likely to convert beforehand so that they can be specifically targeted via call.\n",
        "You are provided with the client data such as : age of the client, their job type, their marital status, etc. Along with the client data, you are also provided with the information of the call such as the duration of the call, day and month of the call, etc. Given this information, your task is to predict if the client will subscribe to term deposit.\n"
      ],
      "metadata": {
        "id": "gJZLNI2pOrXx"
      }
    },
    {
      "cell_type": "markdown",
      "source": [
        "#**About The Dataset**\n",
        "The dataset is related with direct marketing campaigns (phone calls) of a Portuguese banking institution. The classification goal of this dataset is to predict if the client or the customer of polish banking institution will subscribe a term deposit product of the bank or not.\n"
      ],
      "metadata": {
        "id": "hP4nEGUqOvwq"
      }
    },
    {
      "cell_type": "markdown",
      "source": [
        "**You are provided with following 2 files:**\n",
        "1.     train.csv : Use this dataset to train the model. This file contains all the client and call details as well as the target variable “subscribed”. You have to train your model using this file.\n",
        "2.     test.csv : Use the trained model to predict whether a new set of clients will subscribe the term deposit.\n",
        "\n",
        "Dataset Attributes\n",
        "Here is the description of all the variables:\n",
        "•\tVariable: Definition\n",
        "•\tID: Unique client ID\n",
        "•\tage: Age of the client\n",
        "•\tjob: Type of job\n",
        "•\tmarital: Marital status of the client\n",
        "•\teducation: Education level\n",
        "•\tdefault: Credit in default.\n",
        "•\thousing: Housing loan\n",
        "•\tloan: Personal loan\n",
        "•\tcontact: Type of communication\n",
        "•\tmonth: Contact month\n",
        "•\tday_of_week: Day of week of contact\n",
        "•\tduration: Contact duration\n",
        "•\tcampaign: number of contacts performed during this campaign to the client\n",
        "•\tpdays: number of days that passed by after the client was last contacted\n",
        "•\tprevious: number of contacts performed before this campaign\n",
        "•\tpoutcome: outcome of the previous marketing campaign\n",
        "Output variable (desired target):\n",
        "•\tSubscribed (target): has the client subscribed a term deposit? (YES/NO)\n",
        "\n",
        "\n",
        "\n",
        "\n",
        "\n",
        "\n"
      ],
      "metadata": {
        "id": "1VqLRD2HO3MM"
      }
    },
    {
      "cell_type": "markdown",
      "source": [
        "**Dataset Link-**\n",
        "•\thttps://github.com/FlipRoboTechnologies/ML-Datasets/tree/main/Bank%20Marketing\n",
        "•\thttps://github.com/FlipRoboTechnologies/ML-Datasets/blob/main/Bank%20Marketing/termdeposit_test.csv\n",
        "•\thttps://raw.githubusercontent.com/FlipRoboTechnologies/ML-Datasets/main/Bank%20Marketing/termdeposit_train.csv\n"
      ],
      "metadata": {
        "id": "YBwIe7rQO8wL"
      }
    },
    {
      "cell_type": "code",
      "execution_count": null,
      "metadata": {
        "id": "wdfdAPTOLUWX"
      },
      "outputs": [],
      "source": [
        "import pandas as pd\n",
        "import numpy as np\n",
        "import matplotlib.pyplot as plt\n",
        "import seaborn as sns\n",
        "%matplotlib inline\n",
        "import warnings\n",
        "warnings.filterwarnings('ignore')"
      ]
    },
    {
      "cell_type": "code",
      "source": [
        "#loading the data\n",
        "\n",
        "trained_url = 'https://raw.githubusercontent.com/FlipRoboTechnologies/ML-Datasets/main/Bank%20Marketing/termdeposit_train.csv'\n",
        "test_url = 'https://raw.githubusercontent.com/FlipRoboTechnologies/ML-Datasets/main/Bank%20Marketing/termdeposit_test.csv'\n",
        "trained_df = pd.read_csv(trained_url)\n",
        "test_df = pd.read_csv(test_url)\n"
      ],
      "metadata": {
        "id": "1rNDDhwO3Gg-"
      },
      "execution_count": null,
      "outputs": []
    },
    {
      "cell_type": "code",
      "source": [
        "trained_df.head()"
      ],
      "metadata": {
        "id": "C0MZg-vg4ZK7"
      },
      "execution_count": null,
      "outputs": []
    },
    {
      "cell_type": "code",
      "source": [
        "test_df.head()"
      ],
      "metadata": {
        "id": "L8VArAck4dm5"
      },
      "execution_count": null,
      "outputs": []
    },
    {
      "cell_type": "markdown",
      "source": [
        "#Checking the columns\n"
      ],
      "metadata": {
        "id": "2k1XuO3Z4ndb"
      }
    },
    {
      "cell_type": "code",
      "source": [
        "trained_df.columns\n"
      ],
      "metadata": {
        "id": "PHTaojir4w3T"
      },
      "execution_count": null,
      "outputs": []
    },
    {
      "cell_type": "code",
      "source": [
        "test_df.columns"
      ],
      "metadata": {
        "id": "NtNrmBqX44Hr"
      },
      "execution_count": null,
      "outputs": []
    },
    {
      "cell_type": "code",
      "source": [
        "#Test DATA Shape\n",
        "test_df.shape"
      ],
      "metadata": {
        "id": "d2SehaDE491T"
      },
      "execution_count": null,
      "outputs": []
    },
    {
      "cell_type": "code",
      "source": [
        "#trained DATA Shape\n",
        "trained_df.shape"
      ],
      "metadata": {
        "id": "CLH8XX9e5F10"
      },
      "execution_count": null,
      "outputs": []
    },
    {
      "cell_type": "code",
      "source": [
        "#find Null and missing values trained data\n",
        "trained_df.isnull().sum()"
      ],
      "metadata": {
        "id": "k4pMNYPB5SxE"
      },
      "execution_count": null,
      "outputs": []
    },
    {
      "cell_type": "code",
      "source": [
        "#find Null and missing values in test data\n",
        "test_df.isnull().sum()"
      ],
      "metadata": {
        "id": "VqeHHik65ciF"
      },
      "execution_count": null,
      "outputs": []
    },
    {
      "cell_type": "markdown",
      "source": [
        "#Frequency of subscribed data in trained and test"
      ],
      "metadata": {
        "id": "RygQFj9x5m7U"
      }
    },
    {
      "cell_type": "code",
      "source": [
        "trained_df['subscribed'].value_counts()"
      ],
      "metadata": {
        "id": "BJligIqs5vF2"
      },
      "execution_count": null,
      "outputs": []
    },
    {
      "cell_type": "code",
      "source": [
        "trained_df['subscribed'] = trained_df['subscribed'].map({'yes':1,'no':0})\n",
        "sns.distplot(trained_df['subscribed'])"
      ],
      "metadata": {
        "id": "NTuAmkvH6One"
      },
      "execution_count": null,
      "outputs": []
    },
    {
      "cell_type": "code",
      "source": [
        "trained_df['marital'] = trained_df['marital'].map({'married':1,'single':0,'divorced':2})\n",
        "sns.distplot(trained_df['marital'])\n"
      ],
      "metadata": {
        "id": "uywZgNQR6jnK"
      },
      "execution_count": null,
      "outputs": []
    },
    {
      "cell_type": "code",
      "source": [
        "from sklearn.preprocessing import LabelEncoder\n",
        "le = LabelEncoder()\n",
        "\n",
        "trained_df['job'] = le.fit_transform(trained_df['job'])\n",
        "trained_df['education'] = le.fit_transform(trained_df['education'])\n",
        "trained_df['contact'] = le.fit_transform(trained_df['contact'])\n",
        "trained_df['housing'] = le.fit_transform(trained_df['housing'])\n",
        "trained_df['default'] = le.fit_transform(trained_df['default'])\n",
        "trained_df['poutcome'] = le.fit_transform(trained_df['poutcome'])\n",
        "trained_df['month'] = le.fit_transform(trained_df['month'])\n",
        "print(trained_df)\n",
        "print('\\n')\n",
        "test_df['job'] = le.fit_transform(test_df['job'])\n",
        "test_df['education'] = le.fit_transform(test_df['education'])\n",
        "test_df['contact'] = le.fit_transform(test_df['contact'])\n",
        "test_df['housing'] = le.fit_transform(test_df['housing'])\n",
        "test_df['default'] = le.fit_transform(test_df['default'])\n",
        "test_df['poutcome'] = le.fit_transform(test_df['poutcome'])\n",
        "test_df['month'] = le.fit_transform(test_df['month'])\n",
        "test_df['marital'] = test_df['marital'].map({'married':1,'single':0,'divorced':2})\n",
        "test_df\n",
        "print(test_df)\n"
      ],
      "metadata": {
        "id": "lrmTj9T47-KG"
      },
      "execution_count": null,
      "outputs": []
    },
    {
      "cell_type": "markdown",
      "source": [
        "#Large number of customers are not subscribed to term deposit when compared to those who have subscribed"
      ],
      "metadata": {
        "id": "dW-uEf2s9rNw"
      }
    },
    {
      "cell_type": "code",
      "source": [
        "#normalize the frequency of scuscribed uses\n",
        "normalized_freq = trained_df['subscribed'].value_counts(normalize=True)\n",
        "normalized_freq"
      ],
      "metadata": {
        "id": "5le-Mho07HJI"
      },
      "execution_count": null,
      "outputs": []
    },
    {
      "cell_type": "code",
      "source": [
        "trained_df.info()"
      ],
      "metadata": {
        "id": "nWjo0qL49CXO"
      },
      "execution_count": null,
      "outputs": []
    },
    {
      "cell_type": "code",
      "source": [
        "trained_df['job'].value_counts()"
      ],
      "metadata": {
        "id": "oxqgjTve9RzY"
      },
      "execution_count": null,
      "outputs": []
    },
    {
      "cell_type": "code",
      "source": [
        "plt.figure(figsize=(20,5))\n",
        "sns.countplot(x='job',hue='subscribed',data=trained_df,order = trained_df['job'].value_counts().index)\n",
        "plt.title('Job vs Subscribed')\n",
        "plt.show()"
      ],
      "metadata": {
        "id": "gBpRxBof99yA"
      },
      "execution_count": null,
      "outputs": []
    },
    {
      "cell_type": "code",
      "source": [
        "trained_df['marital'].value_counts()"
      ],
      "metadata": {
        "id": "iO2kT3so_WEb"
      },
      "execution_count": null,
      "outputs": []
    },
    {
      "cell_type": "code",
      "source": [
        "plt.figure(figsize=(20,5))\n",
        "sns.countplot(x='marital',hue='subscribed',data=trained_df,order = trained_df['marital'].value_counts().index)\n",
        "plt.title('marital vs Subscribed')\n",
        "plt.show()"
      ],
      "metadata": {
        "id": "a4e1ri3w_ijk"
      },
      "execution_count": null,
      "outputs": []
    },
    {
      "cell_type": "code",
      "source": [
        "#marital status vs subscribed\n",
        "pd.crosstab(trained_df['marital'],trained_df['subscribed'])"
      ],
      "metadata": {
        "id": "Gny3xbgjEZDi"
      },
      "execution_count": null,
      "outputs": []
    },
    {
      "cell_type": "code",
      "source": [
        "sns.distplot(trained_df['age'])"
      ],
      "metadata": {
        "id": "zqyzfSCr_u01"
      },
      "execution_count": null,
      "outputs": []
    },
    {
      "cell_type": "markdown",
      "source": [
        "We can see most of the user are between the age:  20-60 years"
      ],
      "metadata": {
        "id": "NZSbN4mpAhXv"
      }
    },
    {
      "cell_type": "code",
      "source": [
        "plt.figure(figsize=(20,5))\n",
        "sns.countplot(x='marital',hue='job',data=trained_df,order = trained_df['marital'].value_counts().index)\n",
        "plt.title('marital vs job')\n",
        "plt.show()"
      ],
      "metadata": {
        "id": "LesvEUZnBAEw"
      },
      "execution_count": null,
      "outputs": []
    },
    {
      "cell_type": "code",
      "source": [
        "plt.figure(figsize=(20,5))\n",
        "sns.countplot(x='marital',hue='loan',data=trained_df,order = trained_df['marital'].value_counts().index)\n",
        "plt.title('marital vs Loan')\n",
        "plt.show()"
      ],
      "metadata": {
        "id": "e5t9uiO7B9H6"
      },
      "execution_count": null,
      "outputs": []
    },
    {
      "cell_type": "code",
      "source": [
        "plt.figure(figsize=(20,5))\n",
        "sns.countplot(x='education',hue='subscribed',data=trained_df,order = trained_df['education'].value_counts().index)\n",
        "plt.title('Education Distribution')\n",
        "plt.show()"
      ],
      "metadata": {
        "id": "rk8x3UPzCQXl"
      },
      "execution_count": null,
      "outputs": []
    },
    {
      "cell_type": "code",
      "source": [
        "plt.figure(figsize=(20,5))\n",
        "sns.countplot(data=trained_df,x='housing',order = trained_df['housing'].value_counts().index)\n",
        "plt.title('Housing  Distribution')\n",
        "plt.show()"
      ],
      "metadata": {
        "id": "cRp3FwHpC-Oe"
      },
      "execution_count": null,
      "outputs": []
    },
    {
      "cell_type": "code",
      "source": [
        "plt.figure(figsize=(20,5))\n",
        "sns.countplot(data=trained_df,x='month',order = trained_df['month'].value_counts().index)\n",
        "plt.title('month  Distribution')\n",
        "plt.tight_layout()\n",
        "plt.show()"
      ],
      "metadata": {
        "id": "lLH04GrYDijZ"
      },
      "execution_count": null,
      "outputs": []
    },
    {
      "cell_type": "code",
      "source": [
        "trained_df.info()"
      ],
      "metadata": {
        "id": "8Ndj4VAcFm7k"
      },
      "execution_count": null,
      "outputs": []
    },
    {
      "cell_type": "code",
      "source": [
        "trained_df['subscribed'].replace({'yes':1,'no':0},inplace=True)\n",
        "trained_df.info()"
      ],
      "metadata": {
        "id": "qWAcFMobFwZ2"
      },
      "execution_count": null,
      "outputs": []
    },
    {
      "cell_type": "code",
      "source": [
        "trained_df['subscribed']"
      ],
      "metadata": {
        "id": "bpzLvarxGMmk"
      },
      "execution_count": null,
      "outputs": []
    },
    {
      "cell_type": "code",
      "source": [
        "#Correllation matrix\n",
        "numeric_df  = trained_df.select_dtypes(include=['number'])\n",
        "trained_df_corr = numeric_df.corr()\n",
        "trained_df_corr"
      ],
      "metadata": {
        "id": "FvSHwFEME-mE"
      },
      "execution_count": null,
      "outputs": []
    },
    {
      "cell_type": "code",
      "source": [
        "fig,ax = plt.subplots(figsize=(20,10))\n",
        "sns.heatmap(trained_df_corr,annot=True)"
      ],
      "metadata": {
        "id": "Iu2GS1hlMt3h"
      },
      "execution_count": null,
      "outputs": []
    },
    {
      "cell_type": "markdown",
      "source": [
        "We can observe  that, the  duration of the call is highly correlated with the target variable. As the duration of the call is more, there are higher chances that the client is showing interest in the term deposit and hence there are higher chances that the client will subscribe to term deposit.\n"
      ],
      "metadata": {
        "id": "gczivSPVwSXR"
      }
    },
    {
      "cell_type": "code",
      "source": [
        "# multivariate Analysis\n",
        "sns.pairplot(trained_df,hue = 'subscribed',palette='Set2')\n",
        "plt.show()"
      ],
      "metadata": {
        "id": "2cYOaKb8wemO"
      },
      "execution_count": null,
      "outputs": []
    },
    {
      "cell_type": "code",
      "source": [
        "trained_df"
      ],
      "metadata": {
        "id": "CPRcrTOwRXbe"
      },
      "execution_count": null,
      "outputs": []
    },
    {
      "cell_type": "code",
      "source": [
        "plt.figure(figsize=(21,15), facecolor='red')\n",
        "plotnumber = 1\n",
        "for column in trained_df:\n",
        "    if plotnumber<=8:\n",
        "        ax = plt.subplot(4,4,plotnumber)\n",
        "        if trained_df[column].dtype != 'object':\n",
        "            sns.boxplot(y=trained_df[column],color = 'm')\n",
        "            plt.xlabel(column,fontsize=20)\n",
        "            plt.ylabel('Value' , rotation = 0, fontsize = 10)\n",
        "    plotnumber+=1\n",
        "plt.tight_layout()\n"
      ],
      "metadata": {
        "id": "Pi8kDmM6xkpk"
      },
      "execution_count": null,
      "outputs": []
    },
    {
      "cell_type": "code",
      "source": [
        "trained_df.describe()"
      ],
      "metadata": {
        "id": "EfqtGXkFVX_K"
      },
      "execution_count": null,
      "outputs": []
    },
    {
      "cell_type": "code",
      "source": [
        "target = trained_df['subscribed']\n",
        "train = trained_df.drop('subscribed', axis =1)\n"
      ],
      "metadata": {
        "id": "ALVICuKiUaAA"
      },
      "execution_count": null,
      "outputs": []
    },
    {
      "cell_type": "code",
      "source": [
        "train=pd.get_dummies(train)\n",
        "train.head()"
      ],
      "metadata": {
        "id": "HE_ucpnmU5N9"
      },
      "execution_count": null,
      "outputs": []
    },
    {
      "cell_type": "code",
      "source": [
        "from sklearn.model_selection import train_test_split\n",
        "X_train, X_test, y_train, y_test = train_test_split(train, target, test_size=0.3, random_state=42)"
      ],
      "metadata": {
        "id": "zIRf_Q6iCrYw"
      },
      "execution_count": null,
      "outputs": []
    },
    {
      "cell_type": "code",
      "source": [
        "from sklearn.linear_model import LogisticRegression\n",
        "from sklearn.metrics import accuracy_score, confusion_matrix, classification_report\n",
        "LR = LogisticRegression()\n",
        "LR.fit(X_train,y_train)"
      ],
      "metadata": {
        "id": "L0UTxPWaDeBB"
      },
      "execution_count": null,
      "outputs": []
    },
    {
      "cell_type": "code",
      "source": [
        "LR_pred = LR.predict(X_test)\n",
        "accuracy_score(y_test,LR_pred)\n"
      ],
      "metadata": {
        "id": "2KhOKIgTDy8R"
      },
      "execution_count": null,
      "outputs": []
    },
    {
      "cell_type": "code",
      "source": [
        "#Decision Tree\n",
        "from sklearn.tree import DecisionTreeClassifier\n",
        "Dt = DecisionTreeClassifier()\n",
        "Dt.fit(X_train,y_train)"
      ],
      "metadata": {
        "id": "qwW_Sj5pHWky"
      },
      "execution_count": null,
      "outputs": []
    },
    {
      "cell_type": "code",
      "source": [
        "Dt_pred = Dt.predict(X_test)\n",
        "Dt_pred"
      ],
      "metadata": {
        "id": "uly82rFYHrQD"
      },
      "execution_count": null,
      "outputs": []
    },
    {
      "cell_type": "code",
      "source": [
        "Dt_accuracy = accuracy_score(y_test,Dt_pred)\n",
        "Dt_accuracy"
      ],
      "metadata": {
        "id": "08P0rCFfH6uE"
      },
      "execution_count": null,
      "outputs": []
    },
    {
      "cell_type": "markdown",
      "source": [
        "#**Test Data Predection **"
      ],
      "metadata": {
        "id": "KlvvxZ3DMSMN"
      }
    },
    {
      "cell_type": "code",
      "source": [
        "test = pd.get_dummies(test_df)\n",
        "test.head()"
      ],
      "metadata": {
        "id": "48eyy_MbIRR1"
      },
      "execution_count": null,
      "outputs": []
    },
    {
      "cell_type": "code",
      "source": [
        "test.info()"
      ],
      "metadata": {
        "id": "sKBgDt_WQ-cS"
      },
      "execution_count": null,
      "outputs": []
    },
    {
      "cell_type": "code",
      "source": [
        "test.isnull().sum()"
      ],
      "metadata": {
        "id": "QkTQ25I9Q1s5"
      },
      "execution_count": null,
      "outputs": []
    },
    {
      "cell_type": "code",
      "source": [
        "test = test.fillna(test.mean())\n",
        "test"
      ],
      "metadata": {
        "id": "7OQTUthSN8Vi"
      },
      "execution_count": null,
      "outputs": []
    },
    {
      "cell_type": "code",
      "source": [],
      "metadata": {
        "id": "7ESPL5m2VOCc"
      },
      "execution_count": null,
      "outputs": []
    },
    {
      "cell_type": "code",
      "source": [
        "test.head()"
      ],
      "metadata": {
        "id": "j5ld_Gl-VkCd"
      },
      "execution_count": null,
      "outputs": []
    },
    {
      "cell_type": "code",
      "source": [
        "test['marital'] = test['marital'].map({'married':1,'single':0,'divorced':2})\n",
        "test['marital'] = test['marital'].fillna(-1)\n",
        "test.head()"
      ],
      "metadata": {
        "id": "6680uOiOWvHQ"
      },
      "execution_count": null,
      "outputs": []
    },
    {
      "cell_type": "code",
      "source": [
        "test_predict = Dt.predict(test)\n",
        "test_predict"
      ],
      "metadata": {
        "id": "V1XICXsoVoAd"
      },
      "execution_count": null,
      "outputs": []
    },
    {
      "cell_type": "code",
      "source": [
        "test_submision = pd.DataFrame()\n",
        "test_submision['ID'] = test['ID']\n",
        "test_submision['subscribed'] = test_predict\n"
      ],
      "metadata": {
        "id": "IuvOpmYrX9RK"
      },
      "execution_count": null,
      "outputs": []
    },
    {
      "cell_type": "code",
      "source": [
        "test_submision['subscribed']"
      ],
      "metadata": {
        "id": "wE6D2dk4YZOm"
      },
      "execution_count": null,
      "outputs": []
    },
    {
      "cell_type": "code",
      "source": [
        "#converting  subscription values form o: no  and 1 in to Yes\n",
        "test_submision['subscribed'].replace(1,'yes',inplace=True)\n",
        "test_submision['subscribed'].replace(0,'no',inplace=True)\n",
        "test_submision"
      ],
      "metadata": {
        "id": "aNBT2O2WYlkE"
      },
      "execution_count": null,
      "outputs": []
    }
  ]
}