{
  "nbformat": 4,
  "nbformat_minor": 0,
  "metadata": {
    "colab": {
      "private_outputs": true,
      "provenance": [],
      "authorship_tag": "ABX9TyN5xqvQ+aV0oYQWNQIvowU2",
      "include_colab_link": true
    },
    "kernelspec": {
      "name": "python3",
      "display_name": "Python 3"
    },
    "language_info": {
      "name": "python"
    }
  },
  "cells": [
    {
      "cell_type": "markdown",
      "metadata": {
        "id": "view-in-github",
        "colab_type": "text"
      },
      "source": [
        "<a href=\"https://colab.research.google.com/github/nallagondu/datatrained_inter_public/blob/main/Avocado_Project_FirstphaseEvaluation_Project_2.ipynb\" target=\"_parent\"><img src=\"https://colab.research.google.com/assets/colab-badge.svg\" alt=\"Open In Colab\"/></a>"
      ]
    },
    {
      "cell_type": "code",
      "execution_count": null,
      "metadata": {
        "id": "lpnyhttu9kX6"
      },
      "outputs": [],
      "source": []
    },
    {
      "cell_type": "markdown",
      "source": [
        "\n",
        "#**Avocado Project**\n",
        "\n",
        "**Project Description 2.**\n",
        "\n",
        "This data was downloaded from the Hass Avocado Board website in May of 2018 & compiled into a single CSV.\n",
        "The table below represents weekly 2018 retail scan data for National retail volume (units) and price. Retail scan data comes directly from retailers’ cash registers based on actual retail sales of Hass avocados.\n",
        "\n",
        "Starting in 2013, the table below reflects an expanded, multi-outlet retail data set. Multi-outlet reporting includes an aggregation of the following channels: grocery, mass, club, drug, dollar and military. The Average Price (of avocados) in the table reflects a per unit (per avocado) cost, even when multiple units (avocados) are sold in bags.\n",
        "\n",
        "The Product Lookup codes (PLU’s) in the table are only for Hass avocados. Other varieties of avocados (e.g. greenskins) are not included in this table.\n",
        "\n",
        "Some relevant columns in the dataset:\n",
        "\n",
        "•\tDate - The date of the observation\n",
        "\n",
        "•\tAveragePrice - the average price of a single avocado\n",
        "\n",
        "•\ttype - conventional or organic\n",
        "\n",
        "•\tyear - the year\n",
        "\n",
        "•\tRegion - the city or region of the observation\n",
        "\n",
        "•\tTotal Volume - Total number of avocados sold\n",
        "\n",
        "•\t4046 - Total number of avocados with PLU 4046 sold\n",
        "\n",
        "•\t4225 - Total number of avocados with PLU 4225 sold\n",
        "\n",
        "•\t4770 - Total number of avocados with PLU 4770 sold\n",
        "\n",
        "\n"
      ],
      "metadata": {
        "id": "_gy1HXkj9mBi"
      }
    },
    {
      "cell_type": "markdown",
      "source": [
        "**Inspiration /Label **\n",
        "The dataset can be seen in two angles to find the region and find the average price .\n",
        "\n",
        "Task: One of Classification and other of Regression\n",
        "Do both tasks in the same .ipynb file and submit at single file.\n",
        "\n",
        "\n",
        "**Dataset Link-**\n",
        "\n",
        "•\thttps://github.com/FlipRoboTechnologies/ML_-Datasets/blob/main/Avocado/avocado.csv.zip"
      ],
      "metadata": {
        "id": "8JQ3fQgt987M"
      }
    },
    {
      "cell_type": "code",
      "source": [
        "import pandas as pd\n",
        "import numpy as np\n",
        "import matplotlib.pyplot as plt\n",
        "import seaborn as sns\n",
        "import warnings\n",
        "\n",
        "warnings.filterwarnings('ignore')\n",
        "\n",
        "from sklearn import preprocessing\n",
        "from sklearn.preprocessing import StandardScaler\n",
        "from sklearn.linear_model import LinearRegression, Ridge, Lasso\n",
        "from sklearn.metrics import mean_squared_error\n",
        "from sklearn.model_selection import cross_val_score\n",
        "from sklearn.svm import SVR\n",
        "from sklearn.tree import DecisionTreeRegressor\n",
        "from sklearn.ensemble import RandomForestRegressor, GradientBoostingRegressor, AdaBoostRegressor\n",
        "from sklearn.neighbors import KNeighborsRegressor\n",
        "from sklearn.model_selection import train_test_split\n",
        "from sklearn.metrics import r2_score"
      ],
      "metadata": {
        "id": "tLziSDuMAKo9"
      },
      "execution_count": null,
      "outputs": []
    },
    {
      "cell_type": "code",
      "source": [
        "AvacadoURL = \"https://raw.githubusercontent.com/FlipRoboTechnologies/ML_-Datasets/main/Avocado/avocado.csv.zip\"\n",
        "df = pd.read_csv(AvacadoURL, compression='zip')\n",
        "df.head()"
      ],
      "metadata": {
        "id": "ISxDV3ZMAQtE"
      },
      "execution_count": null,
      "outputs": []
    },
    {
      "cell_type": "code",
      "source": [
        "df.info()\n",
        "\n",
        "type_count = df['type'].value_counts()\n",
        "print(type_count)"
      ],
      "metadata": {
        "id": "8hALg2ssA5ct"
      },
      "execution_count": null,
      "outputs": []
    },
    {
      "cell_type": "code",
      "source": [
        "df.shape"
      ],
      "metadata": {
        "id": "QJJEhn0A93XW"
      },
      "execution_count": null,
      "outputs": []
    },
    {
      "cell_type": "code",
      "source": [
        "print('duplicate values count:' ,df.duplicated().sum() )"
      ],
      "metadata": {
        "id": "0dGyBCXQ_Gp-"
      },
      "execution_count": null,
      "outputs": []
    },
    {
      "cell_type": "markdown",
      "source": [
        "There is no duplicate values found in Our dataset"
      ],
      "metadata": {
        "id": "wcUxJrzB_jd7"
      }
    },
    {
      "cell_type": "code",
      "source": [
        "df.isnull().sum()"
      ],
      "metadata": {
        "id": "nPQsOCOg_re0"
      },
      "execution_count": null,
      "outputs": []
    },
    {
      "cell_type": "code",
      "source": [
        "df.describe()"
      ],
      "metadata": {
        "id": "8nwnGhf2-AYJ"
      },
      "execution_count": null,
      "outputs": []
    },
    {
      "cell_type": "code",
      "source": [
        "type_count = df['type'].value_counts()\n",
        "print(type_count)"
      ],
      "metadata": {
        "id": "zucamKXsWQ-s"
      },
      "execution_count": null,
      "outputs": []
    },
    {
      "cell_type": "code",
      "source": [
        "print(df.head())\n",
        "df.dtypes"
      ],
      "metadata": {
        "id": "A8C_G9xmA5I3"
      },
      "execution_count": null,
      "outputs": []
    },
    {
      "cell_type": "code",
      "source": [
        "#converting date format into Date and time\n",
        "df['Date'] = pd.to_datetime(df['Date'])\n",
        "df['Month'] = df['Date'].dt.month\n",
        "df['Day'] = df['Date'].dt.day\n",
        "df['Year_from_date'] = df['Date'].dt.year\n",
        "\n",
        "#df = pd.get_dummies(df, columns = ['type', 'region'] , drop_first = True)"
      ],
      "metadata": {
        "id": "cbHqsNrcB5tv"
      },
      "execution_count": null,
      "outputs": []
    },
    {
      "cell_type": "code",
      "source": [
        "df.head(120)"
      ],
      "metadata": {
        "id": "fNrhyIC1C8fK"
      },
      "execution_count": null,
      "outputs": []
    },
    {
      "cell_type": "code",
      "source": [
        "lencode = preprocessing.LabelEncoder()\n",
        "df['type'] = lencode.fit_transform(df['type'])\n",
        "df['region'] = lencode.fit_transform(df['region'])"
      ],
      "metadata": {
        "id": "cc_VY-73Tl_K"
      },
      "execution_count": null,
      "outputs": []
    },
    {
      "cell_type": "code",
      "source": [
        "df.head(20)"
      ],
      "metadata": {
        "id": "XoexlrERT1VS"
      },
      "execution_count": null,
      "outputs": []
    },
    {
      "cell_type": "code",
      "source": [
        "df.drop('Date', axis=1, inplace=True)\n",
        "df.drop('Unnamed: 0', axis=1, inplace=True)\n",
        "df.drop('year', axis=1, inplace=True)"
      ],
      "metadata": {
        "id": "N_ntI_lTUUEz"
      },
      "execution_count": null,
      "outputs": []
    },
    {
      "cell_type": "code",
      "source": [
        "\n",
        "print(df.describe())"
      ],
      "metadata": {
        "id": "1i_OuUQpUnLu"
      },
      "execution_count": null,
      "outputs": []
    },
    {
      "cell_type": "code",
      "source": [
        "corr = df.corr()\n",
        "corr"
      ],
      "metadata": {
        "id": "tt6jOAexU2Z9"
      },
      "execution_count": null,
      "outputs": []
    },
    {
      "cell_type": "code",
      "source": [
        "fig,ax = plt.subplots(figsize=(15,10))\n",
        "sns.heatmap(corr, annot=True, ax=ax)"
      ],
      "metadata": {
        "id": "zEayzQOAWv3L"
      },
      "execution_count": null,
      "outputs": []
    },
    {
      "cell_type": "markdown",
      "source": [
        "#Correlations analysis\n",
        "\n",
        "**Total volume and type : **\n",
        "\n",
        "correlation is -0.23\n",
        "\n",
        "this negative correlation suggestes that organic  tend to have lower volumes sold ,compared to conventional ones\n",
        "\n",
        "**4046,4225 and 4770 PLU  COrrelation with Total Volume is :** 4046: 0.98, 4225 : 0.97,4770 : 0.87\n",
        "\n",
        "Here , PLU codes have a strong positive correlation with total volume of avacodos sold .\n",
        "\n",
        "this indicates that the majority of the total volume is contributed by these specific PLU codes\n",
        "\n",
        "**Total bags correlation with total volume** : 0.96\n",
        "\n",
        "Indicating that mose are sold in bags rather than individually\n",
        "\n",
        "**Bag Size :**  \n",
        "\n",
        "\n",
        "Correlation with total volume :\n",
        "small bags : 0.97\n",
        "Large bags : 0.88\n",
        "X large Bags : 0.75\n",
        "\n",
        "Small bags have highest correlation with total volume\n",
        "seems small bags are the most common packaging size for sales\n",
        "\n"
      ],
      "metadata": {
        "id": "wjgrwqSEZoXw"
      }
    },
    {
      "cell_type": "code",
      "source": [
        "#Multivariate analysis\n",
        "\n",
        "sample_size = 5000\n",
        "sns.pairplot(df.sample(sample_size), hue='type')\n",
        "plt.show()"
      ],
      "metadata": {
        "id": "77iKK9V0fVG9"
      },
      "execution_count": null,
      "outputs": []
    },
    {
      "cell_type": "code",
      "source": [
        "df_skewness = df.skew()\n",
        "print(df_skewness)"
      ],
      "metadata": {
        "id": "YevLGzBNjMO3"
      },
      "execution_count": null,
      "outputs": []
    },
    {
      "cell_type": "code",
      "source": [
        "#from scipy import stats\n",
        "for index, value in df_skewness.items():\n",
        "  if value > 0.5 or value < -0.5:\n",
        "      df[index] = np.cbrt(df[index])\n",
        "df.skew()"
      ],
      "metadata": {
        "id": "fjuLTpgilCt9"
      },
      "execution_count": null,
      "outputs": []
    },
    {
      "cell_type": "code",
      "source": [
        "from scipy import stats\n",
        "for index, value in df_skewness.items():\n",
        "  if value > 0.5 or value < -0.5:\n",
        "      # Shift values to be positive before applying Box-Cox\n",
        "      min_val = df[index].min()\n",
        "      if min_val <= 0:\n",
        "          df[index] = df[index] - min_val + 1\n",
        "      df[index] = stats.boxcox(df[index])[0]\n",
        "\n",
        "df.skew()"
      ],
      "metadata": {
        "id": "hSQMMeygwuex"
      },
      "execution_count": null,
      "outputs": []
    },
    {
      "cell_type": "code",
      "source": [
        "#Train and validation Data\n",
        "\n",
        "X = df.drop('AveragePrice', axis=1)\n",
        "y = df['AveragePrice']\n",
        "X_train, X_test, y_train, y_test = train_test_split(X, y, test_size=0.2, random_state=42)"
      ],
      "metadata": {
        "id": "8V2S7wSExYuD"
      },
      "execution_count": null,
      "outputs": []
    },
    {
      "cell_type": "code",
      "source": [
        "cols = X_train.columns"
      ],
      "metadata": {
        "id": "MTEYV7CR2Itl"
      },
      "execution_count": null,
      "outputs": []
    },
    {
      "cell_type": "code",
      "source": [
        "scaler = StandardScaler()\n",
        "X_train = scaler.fit_transform(X_train)\n",
        "X_test = scaler.transform(X_test)"
      ],
      "metadata": {
        "id": "x2b1aAN82UXw"
      },
      "execution_count": null,
      "outputs": []
    },
    {
      "cell_type": "code",
      "source": [
        "plt.plot(X_train[0])"
      ],
      "metadata": {
        "id": "kG_craJi2aC4"
      },
      "execution_count": null,
      "outputs": []
    },
    {
      "cell_type": "code",
      "source": [],
      "metadata": {
        "id": "9SQwgy_wxf3H"
      },
      "execution_count": null,
      "outputs": []
    },
    {
      "cell_type": "code",
      "source": [
        "from sklearn.linear_model import LinearRegression, Ridge, Lasso, BayesianRidge\n"
      ],
      "metadata": {
        "id": "f-lfI3C4xbzh"
      },
      "execution_count": null,
      "outputs": []
    },
    {
      "cell_type": "code",
      "source": [
        "# Model selection\n",
        "\n",
        "models = [LinearRegression(),\n",
        "          Ridge(alpha = 0.001),\n",
        "          Lasso(alpha=0.003),\n",
        "          SVR(),\n",
        "          DecisionTreeRegressor(),\n",
        "          RandomForestRegressor(),\n",
        "          BayesianRidge(),\n",
        "          GradientBoostingRegressor(),\n",
        "          AdaBoostRegressor(base_estimator=LinearRegression())]\n",
        "\n",
        "model_names = 'LinearRegression','Ridge','Lasso','SVR','DecisionTreeRegressor','RandomForestRegressor','BayesianRidge','GradientBoostingRegressor','AdaBoostRegressor'\n",
        "model_df = pd.DataFrame(columns=['Model','MSE','R2','MeanCV'])\n",
        "for model,model_names in zip(models,model_names):\n",
        "  print(model)\n",
        "\n",
        "  model.fit(X_train,y_train)\n",
        "  pred = model.predict(X_test)\n",
        "  mse = mean_squared_error(y_test,pred,squared=False)\n",
        "  r2 = model.score(X_test,y_test)\n",
        "\n",
        "  averages = cross_val_score(model,X_train,y_train,cv=5,scoring='neg_mean_squared_error').mean()\n",
        "\n",
        "  model_df = pd.concat([model_df,pd.DataFrame({'Model': [model_names],'MSE':mse,'R2':r2,'MeanCV': [averages]})],ignore_index=True)\n",
        "print(model_df)"
      ],
      "metadata": {
        "id": "uIfYmMk5sxqC"
      },
      "execution_count": null,
      "outputs": []
    },
    {
      "cell_type": "markdown",
      "source": [
        "\n",
        "# Model selection\n",
        "\n",
        "LinearRegression()\n",
        "Ridge(alpha=0.001)\n",
        "Lasso(alpha=0.003)\n",
        "SVR()\n",
        "DecisionTreeRegressor()\n",
        "RandomForestRegressor()\n",
        "BayesianRidge()\n",
        "GradientBoostingRegressor()\n",
        "AdaBoostRegressor(base_estimator=LinearRegression())\n",
        "                       Model       MSE        R2    MeanCV\n",
        "0           LinearRegression  0.068056  0.562800 -0.004565\n",
        "1                      Ridge  0.068056  0.562800 -0.004565\n",
        "2                      Lasso  0.072144  0.508707 -0.005106\n",
        "3                        SVR  0.053547  0.729343 -0.002885\n",
        "4      DecisionTreeRegressor  0.048600  0.777048 -0.002664\n",
        "**5      RandomForestRegressor  0.032666  0.899277 -0.001200**\n",
        "6              BayesianRidge  0.068054  0.562824 -0.004565\n",
        "7  GradientBoostingRegressor  0.050714  0.757231 -0.002534\n",
        "8          AdaBoostRegressor  0.068381  0.558613 -0.004613\n",
        "\n",
        "**as per the above result , RandomForestRegressor is best model with lowest MSE and Highest R2**"
      ],
      "metadata": {
        "id": "t_dEqLq4v_SC"
      }
    },
    {
      "cell_type": "code",
      "source": [
        "#Best model\n",
        "model_RFR = RandomForestRegressor()\n",
        "model_RFR.fit(X_train,y_train)"
      ],
      "metadata": {
        "id": "8r6M4MAFv1El"
      },
      "execution_count": null,
      "outputs": []
    },
    {
      "cell_type": "code",
      "source": [
        "model_RFR.score(X_test,y_test)\n",
        "test_pred_RFR = model_RFR.predict(X_test)\n",
        "test_pred_RFR\n"
      ],
      "metadata": {
        "id": "_b2pK7qdy8b3"
      },
      "execution_count": null,
      "outputs": []
    },
    {
      "cell_type": "code",
      "source": [
        "import joblib\n",
        "joblib.dump(model_RFR,'Avocado_model.pkl')"
      ],
      "metadata": {
        "id": "neN6wEfnzeua"
      },
      "execution_count": null,
      "outputs": []
    }
  ]
}